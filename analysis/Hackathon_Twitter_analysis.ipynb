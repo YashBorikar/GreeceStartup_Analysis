{
 "cells": [
  {
   "cell_type": "code",
   "execution_count": 78,
   "id": "dc09a7f4",
   "metadata": {},
   "outputs": [
    {
     "name": "stderr",
     "output_type": "stream",
     "text": [
      "[nltk_data] Downloading package stopwords to\n",
      "[nltk_data]     C:\\Users\\naqvi\\AppData\\Roaming\\nltk_data...\n",
      "[nltk_data]   Package stopwords is already up-to-date!\n"
     ]
    }
   ],
   "source": [
    "import numpy as np\n",
    "import pandas as pd\n",
    "import seaborn as sns\n",
    "import plotly.graph_objs as go\n",
    "from ipywidgets import interact, interact_manual\n",
    "import matplotlib.pyplot as plt\n",
    "import plotly.express as px\n",
    "%matplotlib inline\n",
    "import ipywidgets as widgets\n",
    "from IPython.display import display\n",
    "from wordcloud import WordCloud\n",
    "import nltk\n",
    "from googletrans import Translator\n",
    "from textblob import TextBlob\n",
    "from nltk.corpus import stopwords\n",
    "import re\n",
    "from ipywidgets import Dropdown\n",
    "\n",
    "nltk.download('stopwords')\n",
    "stop_words = set(stopwords.words('english'))"
   ]
  },
  {
   "cell_type": "code",
   "execution_count": 69,
   "id": "deabe219",
   "metadata": {},
   "outputs": [
    {
     "data": {
      "text/html": [
       "<div>\n",
       "<style scoped>\n",
       "    .dataframe tbody tr th:only-of-type {\n",
       "        vertical-align: middle;\n",
       "    }\n",
       "\n",
       "    .dataframe tbody tr th {\n",
       "        vertical-align: top;\n",
       "    }\n",
       "\n",
       "    .dataframe thead th {\n",
       "        text-align: right;\n",
       "    }\n",
       "</style>\n",
       "<table border=\"1\" class=\"dataframe\">\n",
       "  <thead>\n",
       "    <tr style=\"text-align: right;\">\n",
       "      <th></th>\n",
       "      <th>Unnamed: 0</th>\n",
       "      <th>company_id</th>\n",
       "      <th>twitter_handle</th>\n",
       "      <th>date_tweeted</th>\n",
       "      <th>user_tweeted</th>\n",
       "      <th>tweet</th>\n",
       "      <th>likes_count</th>\n",
       "      <th>retweet_count</th>\n",
       "      <th>reply_count</th>\n",
       "      <th>processed_tweet</th>\n",
       "      <th>english_tweet</th>\n",
       "      <th>sentiment</th>\n",
       "      <th>company_name</th>\n",
       "      <th>Region</th>\n",
       "    </tr>\n",
       "  </thead>\n",
       "  <tbody>\n",
       "    <tr>\n",
       "      <th>0</th>\n",
       "      <td>0</td>\n",
       "      <td>1</td>\n",
       "      <td>@i2dtechnologies</td>\n",
       "      <td>2017-01-01 09:02:48+00:00</td>\n",
       "      <td>i2dtechnologies</td>\n",
       "      <td>Happy New Year!  #2017 #newyear https://t.co/b...</td>\n",
       "      <td>1</td>\n",
       "      <td>1</td>\n",
       "      <td>0</td>\n",
       "      <td>happy new year 2017 newyear https co bab2qtlmid</td>\n",
       "      <td>happy new year 2017 newyear https co bab2qtlmid</td>\n",
       "      <td>Positive</td>\n",
       "      <td>i2d Technologies.</td>\n",
       "      <td>Attica</td>\n",
       "    </tr>\n",
       "    <tr>\n",
       "      <th>1</th>\n",
       "      <td>1</td>\n",
       "      <td>1</td>\n",
       "      <td>@i2dtechnologies</td>\n",
       "      <td>2017-01-01 09:02:48+00:00</td>\n",
       "      <td>i2dtechnologies</td>\n",
       "      <td>Happy New Year!  #2017 #newyear https://t.co/b...</td>\n",
       "      <td>1</td>\n",
       "      <td>1</td>\n",
       "      <td>0</td>\n",
       "      <td>happy new year 2017 newyear https co bab2qtlmid</td>\n",
       "      <td>happy new year 2017 newyear https co bab2qtlmid</td>\n",
       "      <td>Positive</td>\n",
       "      <td>i2d Technologies.</td>\n",
       "      <td>Attica</td>\n",
       "    </tr>\n",
       "    <tr>\n",
       "      <th>2</th>\n",
       "      <td>2</td>\n",
       "      <td>1</td>\n",
       "      <td>@i2dtechnologies</td>\n",
       "      <td>2017-01-01 09:02:48+00:00</td>\n",
       "      <td>i2dtechnologies</td>\n",
       "      <td>Happy New Year!  #2017 #newyear https://t.co/b...</td>\n",
       "      <td>1</td>\n",
       "      <td>1</td>\n",
       "      <td>0</td>\n",
       "      <td>happy new year 2017 newyear https co bab2qtlmid</td>\n",
       "      <td>happy new year 2017 newyear https co bab2qtlmid</td>\n",
       "      <td>Positive</td>\n",
       "      <td>i2d Technologies.</td>\n",
       "      <td>Attica</td>\n",
       "    </tr>\n",
       "    <tr>\n",
       "      <th>3</th>\n",
       "      <td>3</td>\n",
       "      <td>2</td>\n",
       "      <td>@my100mentors</td>\n",
       "      <td>2023-04-12 15:04:20+00:00</td>\n",
       "      <td>PrincesTrustInt</td>\n",
       "      <td>Delivered by our partners @Bizrupt_Lab and @my...</td>\n",
       "      <td>1</td>\n",
       "      <td>0</td>\n",
       "      <td>0</td>\n",
       "      <td>delivered partners bizrupt_lab my100mentors fo...</td>\n",
       "      <td>delivered partners bizrupt_lab my100mentors fo...</td>\n",
       "      <td>Neutral</td>\n",
       "      <td>100mentors</td>\n",
       "      <td>Region of Crete</td>\n",
       "    </tr>\n",
       "    <tr>\n",
       "      <th>4</th>\n",
       "      <td>4</td>\n",
       "      <td>2</td>\n",
       "      <td>@my100mentors</td>\n",
       "      <td>2023-03-08 13:58:09+00:00</td>\n",
       "      <td>marketing_gr</td>\n",
       "      <td>Pro Bono mentoring session Î¼Îµ Ï„Î¿ Î•Î»Î»Î·Î...</td>\n",
       "      <td>0</td>\n",
       "      <td>0</td>\n",
       "      <td>0</td>\n",
       "      <td>pro bono mentoring session î¼îµ ï î î î î î î½...</td>\n",
       "      <td>pro bono mentoring session î¼îµ ï î î î î î î½...</td>\n",
       "      <td>Neutral</td>\n",
       "      <td>100mentors</td>\n",
       "      <td>Region of Crete</td>\n",
       "    </tr>\n",
       "    <tr>\n",
       "      <th>...</th>\n",
       "      <td>...</td>\n",
       "      <td>...</td>\n",
       "      <td>...</td>\n",
       "      <td>...</td>\n",
       "      <td>...</td>\n",
       "      <td>...</td>\n",
       "      <td>...</td>\n",
       "      <td>...</td>\n",
       "      <td>...</td>\n",
       "      <td>...</td>\n",
       "      <td>...</td>\n",
       "      <td>...</td>\n",
       "      <td>...</td>\n",
       "      <td>...</td>\n",
       "    </tr>\n",
       "    <tr>\n",
       "      <th>200038</th>\n",
       "      <td>200038</td>\n",
       "      <td>602</td>\n",
       "      <td>@ZelusGr</td>\n",
       "      <td>2021-07-16 12:22:49+00:00</td>\n",
       "      <td>ZelusGr</td>\n",
       "      <td>Several leading research firms recently named ...</td>\n",
       "      <td>0</td>\n",
       "      <td>0</td>\n",
       "      <td>0</td>\n",
       "      <td>several leading research firms recently named ...</td>\n",
       "      <td>several leading research firms recently named ...</td>\n",
       "      <td>Positive</td>\n",
       "      <td>ZELUS</td>\n",
       "      <td>Attica</td>\n",
       "    </tr>\n",
       "    <tr>\n",
       "      <th>200039</th>\n",
       "      <td>200039</td>\n",
       "      <td>602</td>\n",
       "      <td>@ZelusGr</td>\n",
       "      <td>2021-04-27 09:04:41+00:00</td>\n",
       "      <td>ZelusGr</td>\n",
       "      <td>Proud to lead these activities and of course a...</td>\n",
       "      <td>0</td>\n",
       "      <td>0</td>\n",
       "      <td>0</td>\n",
       "      <td>proud lead activities course aiming best way p...</td>\n",
       "      <td>proud lead activities course aiming best way p...</td>\n",
       "      <td>Positive</td>\n",
       "      <td>ZELUS</td>\n",
       "      <td>Attica</td>\n",
       "    </tr>\n",
       "    <tr>\n",
       "      <th>200040</th>\n",
       "      <td>200040</td>\n",
       "      <td>602</td>\n",
       "      <td>@ZelusGr</td>\n",
       "      <td>2021-03-08 16:11:52+00:00</td>\n",
       "      <td>ZelusGr</td>\n",
       "      <td>Happy international women's day! Remember to c...</td>\n",
       "      <td>1</td>\n",
       "      <td>0</td>\n",
       "      <td>0</td>\n",
       "      <td>happy international women day remember claim f...</td>\n",
       "      <td>happy international women day remember claim f...</td>\n",
       "      <td>Positive</td>\n",
       "      <td>ZELUS</td>\n",
       "      <td>Attica</td>\n",
       "    </tr>\n",
       "    <tr>\n",
       "      <th>200041</th>\n",
       "      <td>200041</td>\n",
       "      <td>602</td>\n",
       "      <td>@ZelusGr</td>\n",
       "      <td>2020-04-01 09:13:29+00:00</td>\n",
       "      <td>ZelusGr</td>\n",
       "      <td>Succesfully presented the results of our #digi...</td>\n",
       "      <td>1</td>\n",
       "      <td>0</td>\n",
       "      <td>0</td>\n",
       "      <td>succesfully presented results digitalforensics...</td>\n",
       "      <td>succesfully presented results digitalforensics...</td>\n",
       "      <td>Neutral</td>\n",
       "      <td>ZELUS</td>\n",
       "      <td>Attica</td>\n",
       "    </tr>\n",
       "    <tr>\n",
       "      <th>200042</th>\n",
       "      <td>200042</td>\n",
       "      <td>602</td>\n",
       "      <td>@ZelusGr</td>\n",
       "      <td>2020-04-01 09:06:39+00:00</td>\n",
       "      <td>ZelusGr</td>\n",
       "      <td>Our 1st tweet!</td>\n",
       "      <td>0</td>\n",
       "      <td>0</td>\n",
       "      <td>0</td>\n",
       "      <td>1st tweet</td>\n",
       "      <td>1st tweet</td>\n",
       "      <td>Neutral</td>\n",
       "      <td>ZELUS</td>\n",
       "      <td>Attica</td>\n",
       "    </tr>\n",
       "  </tbody>\n",
       "</table>\n",
       "<p>200043 rows × 14 columns</p>\n",
       "</div>"
      ],
      "text/plain": [
       "        Unnamed: 0  company_id    twitter_handle               date_tweeted  \\\n",
       "0                0           1  @i2dtechnologies  2017-01-01 09:02:48+00:00   \n",
       "1                1           1  @i2dtechnologies  2017-01-01 09:02:48+00:00   \n",
       "2                2           1  @i2dtechnologies  2017-01-01 09:02:48+00:00   \n",
       "3                3           2     @my100mentors  2023-04-12 15:04:20+00:00   \n",
       "4                4           2     @my100mentors  2023-03-08 13:58:09+00:00   \n",
       "...            ...         ...               ...                        ...   \n",
       "200038      200038         602          @ZelusGr  2021-07-16 12:22:49+00:00   \n",
       "200039      200039         602          @ZelusGr  2021-04-27 09:04:41+00:00   \n",
       "200040      200040         602          @ZelusGr  2021-03-08 16:11:52+00:00   \n",
       "200041      200041         602          @ZelusGr  2020-04-01 09:13:29+00:00   \n",
       "200042      200042         602          @ZelusGr  2020-04-01 09:06:39+00:00   \n",
       "\n",
       "           user_tweeted                                              tweet  \\\n",
       "0       i2dtechnologies  Happy New Year!  #2017 #newyear https://t.co/b...   \n",
       "1       i2dtechnologies  Happy New Year!  #2017 #newyear https://t.co/b...   \n",
       "2       i2dtechnologies  Happy New Year!  #2017 #newyear https://t.co/b...   \n",
       "3       PrincesTrustInt  Delivered by our partners @Bizrupt_Lab and @my...   \n",
       "4          marketing_gr  Pro Bono mentoring session Î¼Îµ Ï„Î¿ Î•Î»Î»Î·Î...   \n",
       "...                 ...                                                ...   \n",
       "200038          ZelusGr  Several leading research firms recently named ...   \n",
       "200039          ZelusGr  Proud to lead these activities and of course a...   \n",
       "200040          ZelusGr  Happy international women's day! Remember to c...   \n",
       "200041          ZelusGr  Succesfully presented the results of our #digi...   \n",
       "200042          ZelusGr                                     Our 1st tweet!   \n",
       "\n",
       "        likes_count  retweet_count  reply_count  \\\n",
       "0                 1              1            0   \n",
       "1                 1              1            0   \n",
       "2                 1              1            0   \n",
       "3                 1              0            0   \n",
       "4                 0              0            0   \n",
       "...             ...            ...          ...   \n",
       "200038            0              0            0   \n",
       "200039            0              0            0   \n",
       "200040            1              0            0   \n",
       "200041            1              0            0   \n",
       "200042            0              0            0   \n",
       "\n",
       "                                          processed_tweet  \\\n",
       "0         happy new year 2017 newyear https co bab2qtlmid   \n",
       "1         happy new year 2017 newyear https co bab2qtlmid   \n",
       "2         happy new year 2017 newyear https co bab2qtlmid   \n",
       "3       delivered partners bizrupt_lab my100mentors fo...   \n",
       "4       pro bono mentoring session î¼îµ ï î î î î î î½...   \n",
       "...                                                   ...   \n",
       "200038  several leading research firms recently named ...   \n",
       "200039  proud lead activities course aiming best way p...   \n",
       "200040  happy international women day remember claim f...   \n",
       "200041  succesfully presented results digitalforensics...   \n",
       "200042                                          1st tweet   \n",
       "\n",
       "                                            english_tweet sentiment  \\\n",
       "0         happy new year 2017 newyear https co bab2qtlmid  Positive   \n",
       "1         happy new year 2017 newyear https co bab2qtlmid  Positive   \n",
       "2         happy new year 2017 newyear https co bab2qtlmid  Positive   \n",
       "3       delivered partners bizrupt_lab my100mentors fo...   Neutral   \n",
       "4       pro bono mentoring session î¼îµ ï î î î î î î½...   Neutral   \n",
       "...                                                   ...       ...   \n",
       "200038  several leading research firms recently named ...  Positive   \n",
       "200039  proud lead activities course aiming best way p...  Positive   \n",
       "200040  happy international women day remember claim f...  Positive   \n",
       "200041  succesfully presented results digitalforensics...   Neutral   \n",
       "200042                                          1st tweet   Neutral   \n",
       "\n",
       "             company_name            Region  \n",
       "0       i2d Technologies.            Attica  \n",
       "1       i2d Technologies.            Attica  \n",
       "2       i2d Technologies.            Attica  \n",
       "3              100mentors   Region of Crete  \n",
       "4              100mentors   Region of Crete  \n",
       "...                   ...               ...  \n",
       "200038              ZELUS            Attica  \n",
       "200039              ZELUS            Attica  \n",
       "200040              ZELUS            Attica  \n",
       "200041              ZELUS            Attica  \n",
       "200042              ZELUS            Attica  \n",
       "\n",
       "[200043 rows x 14 columns]"
      ]
     },
     "execution_count": 69,
     "metadata": {},
     "output_type": "execute_result"
    }
   ],
   "source": [
    "df = pd.read_csv('Final_Tweets_with_Region.csv')\n",
    "df"
   ]
  },
  {
   "cell_type": "code",
   "execution_count": 70,
   "id": "c7ed7273",
   "metadata": {},
   "outputs": [],
   "source": [
    "df.drop(columns=['Unnamed: 0'], inplace=True)"
   ]
  },
  {
   "cell_type": "code",
   "execution_count": 23,
   "id": "751a48ba",
   "metadata": {},
   "outputs": [
    {
     "data": {
      "text/html": [
       "<div>\n",
       "<style scoped>\n",
       "    .dataframe tbody tr th:only-of-type {\n",
       "        vertical-align: middle;\n",
       "    }\n",
       "\n",
       "    .dataframe tbody tr th {\n",
       "        vertical-align: top;\n",
       "    }\n",
       "\n",
       "    .dataframe thead th {\n",
       "        text-align: right;\n",
       "    }\n",
       "</style>\n",
       "<table border=\"1\" class=\"dataframe\">\n",
       "  <thead>\n",
       "    <tr style=\"text-align: right;\">\n",
       "      <th></th>\n",
       "      <th>company_id</th>\n",
       "      <th>likes_count</th>\n",
       "      <th>retweet_count</th>\n",
       "      <th>reply_count</th>\n",
       "    </tr>\n",
       "  </thead>\n",
       "  <tbody>\n",
       "    <tr>\n",
       "      <th>count</th>\n",
       "      <td>200827.000000</td>\n",
       "      <td>200827.000000</td>\n",
       "      <td>200827.000000</td>\n",
       "      <td>200827.000000</td>\n",
       "    </tr>\n",
       "    <tr>\n",
       "      <th>mean</th>\n",
       "      <td>266.215439</td>\n",
       "      <td>14.229038</td>\n",
       "      <td>4.268704</td>\n",
       "      <td>0.524023</td>\n",
       "    </tr>\n",
       "    <tr>\n",
       "      <th>std</th>\n",
       "      <td>120.822973</td>\n",
       "      <td>2185.389260</td>\n",
       "      <td>894.666910</td>\n",
       "      <td>30.102162</td>\n",
       "    </tr>\n",
       "    <tr>\n",
       "      <th>min</th>\n",
       "      <td>1.000000</td>\n",
       "      <td>0.000000</td>\n",
       "      <td>0.000000</td>\n",
       "      <td>0.000000</td>\n",
       "    </tr>\n",
       "    <tr>\n",
       "      <th>25%</th>\n",
       "      <td>227.000000</td>\n",
       "      <td>0.000000</td>\n",
       "      <td>0.000000</td>\n",
       "      <td>0.000000</td>\n",
       "    </tr>\n",
       "    <tr>\n",
       "      <th>50%</th>\n",
       "      <td>227.000000</td>\n",
       "      <td>0.000000</td>\n",
       "      <td>0.000000</td>\n",
       "      <td>0.000000</td>\n",
       "    </tr>\n",
       "    <tr>\n",
       "      <th>75%</th>\n",
       "      <td>243.000000</td>\n",
       "      <td>1.000000</td>\n",
       "      <td>0.000000</td>\n",
       "      <td>0.000000</td>\n",
       "    </tr>\n",
       "    <tr>\n",
       "      <th>max</th>\n",
       "      <td>602.000000</td>\n",
       "      <td>640496.000000</td>\n",
       "      <td>279753.000000</td>\n",
       "      <td>9159.000000</td>\n",
       "    </tr>\n",
       "  </tbody>\n",
       "</table>\n",
       "</div>"
      ],
      "text/plain": [
       "          company_id    likes_count  retweet_count    reply_count\n",
       "count  200827.000000  200827.000000  200827.000000  200827.000000\n",
       "mean      266.215439      14.229038       4.268704       0.524023\n",
       "std       120.822973    2185.389260     894.666910      30.102162\n",
       "min         1.000000       0.000000       0.000000       0.000000\n",
       "25%       227.000000       0.000000       0.000000       0.000000\n",
       "50%       227.000000       0.000000       0.000000       0.000000\n",
       "75%       243.000000       1.000000       0.000000       0.000000\n",
       "max       602.000000  640496.000000  279753.000000    9159.000000"
      ]
     },
     "execution_count": 23,
     "metadata": {},
     "output_type": "execute_result"
    }
   ],
   "source": [
    "df.describe()"
   ]
  },
  {
   "cell_type": "code",
   "execution_count": 24,
   "id": "b2e10bfc",
   "metadata": {},
   "outputs": [],
   "source": [
    "def group_sentiments_by_company(df):\n",
    "    # Group the data by company id and sentiment\n",
    "    grouped_data = df.groupby(['company_name', 'sentiment'])['sentiment'].count()\n",
    "    \n",
    "    # Unstack the data to create a new dataframe with sentiment counts for each company id\n",
    "    unstacked_data = grouped_data.unstack()\n",
    "    \n",
    "    # Fill any missing values with 0\n",
    "    unstacked_data = unstacked_data.fillna(0)\n",
    "    \n",
    "    # Rename the columns for clarity\n",
    "    unstacked_data.columns = ['Negative', 'Neutral', 'Positive']\n",
    "    \n",
    "    # Return the unstacked data as a new dataframe\n",
    "    return unstacked_data"
   ]
  },
  {
   "cell_type": "code",
   "execution_count": 25,
   "id": "e7541b23",
   "metadata": {},
   "outputs": [
    {
     "name": "stdout",
     "output_type": "stream",
     "text": [
      "                           Negative  Neutral  Positive\n",
      "company_name                                          \n",
      "100mentors                    115.0    811.0    1097.0\n",
      "AGENSO                         12.0    140.0     112.0\n",
      "Acromove Inc.                  18.0    102.0     124.0\n",
      "Advantis.io                    24.0     80.0     154.0\n",
      "Aether Aeronautics              4.0     16.0       4.0\n",
      "...                             ...      ...       ...\n",
      "up2metric                       2.0     15.0      32.0\n",
      "wappier                        41.0    103.0     258.0\n",
      "yiufi                           0.0     12.0       0.0\n",
      "ÎÎ¿ÏƒÎ·Î»ÎµÎ¯Î± Î¤ÏŽÏÎ±       1.0    162.0       1.0\n",
      "Î»-automata                     3.0      9.0      24.0\n",
      "\n",
      "[207 rows x 3 columns]\n"
     ]
    }
   ],
   "source": [
    "# Use the group_sentiments_by_company function to group the data by company id\n",
    "sentiment_counts = group_sentiments_by_company(df)\n",
    "\n",
    "# Print the sentiment counts for each company id\n",
    "print(sentiment_counts)"
   ]
  },
  {
   "cell_type": "code",
   "execution_count": 26,
   "id": "2335210c",
   "metadata": {},
   "outputs": [
    {
     "data": {
      "application/vnd.jupyter.widget-view+json": {
       "model_id": "2ad5296288094a1a80792b903758ee52",
       "version_major": 2,
       "version_minor": 0
      },
      "text/plain": [
       "interactive(children=(Dropdown(description='company_name', options=('i2d Technologies.', '100mentors', 'Acromo…"
      ]
     },
     "metadata": {},
     "output_type": "display_data"
    }
   ],
   "source": [
    "# Define a function to update the dashboard based on the selected company id\n",
    "def update(company_name):\n",
    "    # Filter the data to include only the selected company id\n",
    "    filtered_df = df[df['company_name'] == company_name]\n",
    "    \n",
    "    # Group the filtered data by sentiment\n",
    "    grouped_data = filtered_df.groupby('sentiment').size().reset_index(name='count')\n",
    "    \n",
    "    # Create a pie chart of the sentiment data for the selected company id\n",
    "    fig = go.Figure(data=[go.Pie(labels=grouped_data['sentiment'], values=grouped_data['count'])])\n",
    "    fig.update_layout(title='Sentiment for Company {}'.format(company_name))\n",
    "    fig.show()\n",
    "\n",
    "# Define the range of company ids to display in the dropdown\n",
    "company_ids = df['company_name'].unique()\n",
    "\n",
    "# Create a dropdown widget to select the company id\n",
    "@interact(company_name=company_ids)\n",
    "def display_sentiment_data(company_name):\n",
    "    update(company_name)"
   ]
  },
  {
   "cell_type": "code",
   "execution_count": 27,
   "id": "13dce289",
   "metadata": {},
   "outputs": [],
   "source": [
    "def group_sentiments_by_year(df):\n",
    "    # Convert the date column to a pandas datetime object\n",
    "    df['date_tweeted'] = pd.to_datetime(df['date_tweeted'])\n",
    "    \n",
    "    # Add a year column to the dataframe\n",
    "    df['year'] = df['date_tweeted'].dt.year\n",
    "    \n",
    "    # Group the data by company id, year, and sentiment\n",
    "    grouped_data = df.groupby(['company_name', 'year', 'sentiment'])['sentiment'].count()\n",
    "    \n",
    "    # Unstack the data to create a new dataframe with sentiment counts for each company id and year\n",
    "    unstacked_data = grouped_data.unstack(level=-1, fill_value=0)\n",
    "    \n",
    "    # Reset the index to make company id and year columns\n",
    "    unstacked_data = unstacked_data.reset_index()\n",
    "    \n",
    "    # Rename the columns for clarity\n",
    "    unstacked_data.columns.name = None\n",
    "    unstacked_data.columns = ['company_name', 'year', 'Negative', 'Neutral', 'Positive']\n",
    "    \n",
    "    # Return the unstacked data as a new dataframe\n",
    "    return unstacked_data"
   ]
  },
  {
   "cell_type": "code",
   "execution_count": 28,
   "id": "c708a686",
   "metadata": {},
   "outputs": [
    {
     "name": "stdout",
     "output_type": "stream",
     "text": [
      "                  company_name  year  Negative  Neutral  Positive\n",
      "0                   100mentors  2014         7       23        32\n",
      "1                   100mentors  2015         5      111        57\n",
      "2                   100mentors  2016         4       37        31\n",
      "3                   100mentors  2017        49      374       350\n",
      "4                   100mentors  2018         0       80        78\n",
      "..                         ...   ...       ...      ...       ...\n",
      "814  ÎÎ¿ÏƒÎ·Î»ÎµÎ¯Î± Î¤ÏŽÏÎ±  2021         0        8         0\n",
      "815  ÎÎ¿ÏƒÎ·Î»ÎµÎ¯Î± Î¤ÏŽÏÎ±  2022         1       82         0\n",
      "816  ÎÎ¿ÏƒÎ·Î»ÎµÎ¯Î± Î¤ÏŽÏÎ±  2023         0       27         0\n",
      "817                Î»-automata  2022         3        4        15\n",
      "818                Î»-automata  2023         0        5         9\n",
      "\n",
      "[819 rows x 5 columns]\n"
     ]
    }
   ],
   "source": [
    "# Use the group_sentiments_by_year function to group the data by company id and year\n",
    "sentiment_counts_by_year = group_sentiments_by_year(df)\n",
    "\n",
    "# Print the sentiment counts for each company id and year\n",
    "print(sentiment_counts_by_year)"
   ]
  },
  {
   "cell_type": "code",
   "execution_count": 29,
   "id": "bff27301",
   "metadata": {},
   "outputs": [
    {
     "data": {
      "application/vnd.plotly.v1+json": {
       "config": {
        "plotlyServerURL": "https://plot.ly"
       },
       "data": [
        {
         "hovertemplate": "company_name=100mentors<br>variable=Positive<br>year=%{x}<br>value=%{y}<extra></extra>",
         "legendgroup": "100mentors",
         "line": {
          "color": "#636efa",
          "dash": "solid"
         },
         "marker": {
          "symbol": "circle"
         },
         "mode": "lines",
         "name": "100mentors",
         "showlegend": true,
         "type": "scattergl",
         "x": [
          2014,
          2015,
          2016,
          2017,
          2018,
          2019,
          2020,
          2021,
          2022,
          2023
         ],
         "xaxis": "x",
         "y": [
          32,
          57,
          31,
          350,
          78,
          80,
          109,
          256,
          104,
          0
         ],
         "yaxis": "y"
        },
        {
         "hovertemplate": "company_name=100mentors<br>variable=Negative<br>year=%{x}<br>value=%{y}<extra></extra>",
         "legendgroup": "100mentors",
         "line": {
          "color": "#636efa",
          "dash": "solid"
         },
         "marker": {
          "symbol": "circle"
         },
         "mode": "lines",
         "name": "100mentors",
         "showlegend": false,
         "type": "scattergl",
         "x": [
          2014,
          2015,
          2016,
          2017,
          2018,
          2019,
          2020,
          2021,
          2022,
          2023
         ],
         "xaxis": "x",
         "y": [
          7,
          5,
          4,
          49,
          0,
          6,
          17,
          18,
          9,
          0
         ],
         "yaxis": "y"
        },
        {
         "hovertemplate": "company_name=100mentors<br>variable=Neutral<br>year=%{x}<br>value=%{y}<extra></extra>",
         "legendgroup": "100mentors",
         "line": {
          "color": "#636efa",
          "dash": "solid"
         },
         "marker": {
          "symbol": "circle"
         },
         "mode": "lines",
         "name": "100mentors",
         "showlegend": false,
         "type": "scattergl",
         "x": [
          2014,
          2015,
          2016,
          2017,
          2018,
          2019,
          2020,
          2021,
          2022,
          2023
         ],
         "xaxis": "x",
         "y": [
          23,
          111,
          37,
          374,
          80,
          25,
          53,
          76,
          29,
          3
         ],
         "yaxis": "y"
        },
        {
         "hovertemplate": "company_name=AGENSO<br>variable=Positive<br>year=%{x}<br>value=%{y}<extra></extra>",
         "legendgroup": "AGENSO",
         "line": {
          "color": "#EF553B",
          "dash": "solid"
         },
         "marker": {
          "symbol": "circle"
         },
         "mode": "lines",
         "name": "AGENSO",
         "showlegend": true,
         "type": "scattergl",
         "x": [
          2018,
          2019,
          2020,
          2021,
          2022,
          2023
         ],
         "xaxis": "x",
         "y": [
          34,
          32,
          20,
          8,
          16,
          2
         ],
         "yaxis": "y"
        },
        {
         "hovertemplate": "company_name=AGENSO<br>variable=Negative<br>year=%{x}<br>value=%{y}<extra></extra>",
         "legendgroup": "AGENSO",
         "line": {
          "color": "#EF553B",
          "dash": "solid"
         },
         "marker": {
          "symbol": "circle"
         },
         "mode": "lines",
         "name": "AGENSO",
         "showlegend": false,
         "type": "scattergl",
         "x": [
          2018,
          2019,
          2020,
          2021,
          2022,
          2023
         ],
         "xaxis": "x",
         "y": [
          4,
          6,
          0,
          2,
          0,
          0
         ],
         "yaxis": "y"
        },
        {
         "hovertemplate": "company_name=AGENSO<br>variable=Neutral<br>year=%{x}<br>value=%{y}<extra></extra>",
         "legendgroup": "AGENSO",
         "line": {
          "color": "#EF553B",
          "dash": "solid"
         },
         "marker": {
          "symbol": "circle"
         },
         "mode": "lines",
         "name": "AGENSO",
         "showlegend": false,
         "type": "scattergl",
         "x": [
          2018,
          2019,
          2020,
          2021,
          2022,
          2023
         ],
         "xaxis": "x",
         "y": [
          34,
          38,
          18,
          12,
          36,
          2
         ],
         "yaxis": "y"
        },
        {
         "hovertemplate": "company_name=Acromove Inc.<br>variable=Positive<br>year=%{x}<br>value=%{y}<extra></extra>",
         "legendgroup": "Acromove Inc.",
         "line": {
          "color": "#00cc96",
          "dash": "solid"
         },
         "marker": {
          "symbol": "circle"
         },
         "mode": "lines",
         "name": "Acromove Inc.",
         "showlegend": true,
         "type": "scattergl",
         "x": [
          2017,
          2018,
          2019,
          2020,
          2021,
          2022,
          2023
         ],
         "xaxis": "x",
         "y": [
          18,
          24,
          8,
          14,
          38,
          16,
          6
         ],
         "yaxis": "y"
        },
        {
         "hovertemplate": "company_name=Acromove Inc.<br>variable=Negative<br>year=%{x}<br>value=%{y}<extra></extra>",
         "legendgroup": "Acromove Inc.",
         "line": {
          "color": "#00cc96",
          "dash": "solid"
         },
         "marker": {
          "symbol": "circle"
         },
         "mode": "lines",
         "name": "Acromove Inc.",
         "showlegend": false,
         "type": "scattergl",
         "x": [
          2017,
          2018,
          2019,
          2020,
          2021,
          2022,
          2023
         ],
         "xaxis": "x",
         "y": [
          0,
          4,
          2,
          2,
          8,
          2,
          0
         ],
         "yaxis": "y"
        },
        {
         "hovertemplate": "company_name=Acromove Inc.<br>variable=Neutral<br>year=%{x}<br>value=%{y}<extra></extra>",
         "legendgroup": "Acromove Inc.",
         "line": {
          "color": "#00cc96",
          "dash": "solid"
         },
         "marker": {
          "symbol": "circle"
         },
         "mode": "lines",
         "name": "Acromove Inc.",
         "showlegend": false,
         "type": "scattergl",
         "x": [
          2017,
          2018,
          2019,
          2020,
          2021,
          2022,
          2023
         ],
         "xaxis": "x",
         "y": [
          36,
          18,
          8,
          4,
          16,
          18,
          2
         ],
         "yaxis": "y"
        },
        {
         "hovertemplate": "company_name=Advantis.io<br>variable=Positive<br>year=%{x}<br>value=%{y}<extra></extra>",
         "legendgroup": "Advantis.io",
         "line": {
          "color": "#ab63fa",
          "dash": "solid"
         },
         "marker": {
          "symbol": "circle"
         },
         "mode": "lines",
         "name": "Advantis.io",
         "showlegend": true,
         "type": "scattergl",
         "x": [
          2017,
          2018,
          2019,
          2020,
          2021,
          2022,
          2023
         ],
         "xaxis": "x",
         "y": [
          10,
          20,
          10,
          0,
          12,
          84,
          18
         ],
         "yaxis": "y"
        },
        {
         "hovertemplate": "company_name=Advantis.io<br>variable=Negative<br>year=%{x}<br>value=%{y}<extra></extra>",
         "legendgroup": "Advantis.io",
         "line": {
          "color": "#ab63fa",
          "dash": "solid"
         },
         "marker": {
          "symbol": "circle"
         },
         "mode": "lines",
         "name": "Advantis.io",
         "showlegend": false,
         "type": "scattergl",
         "x": [
          2017,
          2018,
          2019,
          2020,
          2021,
          2022,
          2023
         ],
         "xaxis": "x",
         "y": [
          0,
          0,
          0,
          0,
          6,
          16,
          2
         ],
         "yaxis": "y"
        },
        {
         "hovertemplate": "company_name=Advantis.io<br>variable=Neutral<br>year=%{x}<br>value=%{y}<extra></extra>",
         "legendgroup": "Advantis.io",
         "line": {
          "color": "#ab63fa",
          "dash": "solid"
         },
         "marker": {
          "symbol": "circle"
         },
         "mode": "lines",
         "name": "Advantis.io",
         "showlegend": false,
         "type": "scattergl",
         "x": [
          2017,
          2018,
          2019,
          2020,
          2021,
          2022,
          2023
         ],
         "xaxis": "x",
         "y": [
          10,
          12,
          10,
          2,
          4,
          34,
          8
         ],
         "yaxis": "y"
        },
        {
         "hovertemplate": "company_name=Aether Aeronautics<br>variable=Positive<br>year=%{x}<br>value=%{y}<extra></extra>",
         "legendgroup": "Aether Aeronautics",
         "line": {
          "color": "#FFA15A",
          "dash": "solid"
         },
         "marker": {
          "symbol": "circle"
         },
         "mode": "lines",
         "name": "Aether Aeronautics",
         "showlegend": true,
         "type": "scattergl",
         "x": [
          2018,
          2019
         ],
         "xaxis": "x",
         "y": [
          4,
          0
         ],
         "yaxis": "y"
        },
        {
         "hovertemplate": "company_name=Aether Aeronautics<br>variable=Negative<br>year=%{x}<br>value=%{y}<extra></extra>",
         "legendgroup": "Aether Aeronautics",
         "line": {
          "color": "#FFA15A",
          "dash": "solid"
         },
         "marker": {
          "symbol": "circle"
         },
         "mode": "lines",
         "name": "Aether Aeronautics",
         "showlegend": false,
         "type": "scattergl",
         "x": [
          2018,
          2019
         ],
         "xaxis": "x",
         "y": [
          4,
          0
         ],
         "yaxis": "y"
        },
        {
         "hovertemplate": "company_name=Aether Aeronautics<br>variable=Neutral<br>year=%{x}<br>value=%{y}<extra></extra>",
         "legendgroup": "Aether Aeronautics",
         "line": {
          "color": "#FFA15A",
          "dash": "solid"
         },
         "marker": {
          "symbol": "circle"
         },
         "mode": "lines",
         "name": "Aether Aeronautics",
         "showlegend": false,
         "type": "scattergl",
         "x": [
          2018,
          2019
         ],
         "xaxis": "x",
         "y": [
          14,
          2
         ],
         "yaxis": "y"
        },
        {
         "hovertemplate": "company_name=Agritrack SA<br>variable=Positive<br>year=%{x}<br>value=%{y}<extra></extra>",
         "legendgroup": "Agritrack SA",
         "line": {
          "color": "#19d3f3",
          "dash": "solid"
         },
         "marker": {
          "symbol": "circle"
         },
         "mode": "lines",
         "name": "Agritrack SA",
         "showlegend": true,
         "type": "scattergl",
         "x": [
          2023
         ],
         "xaxis": "x",
         "y": [
          2
         ],
         "yaxis": "y"
        },
        {
         "hovertemplate": "company_name=Agritrack SA<br>variable=Negative<br>year=%{x}<br>value=%{y}<extra></extra>",
         "legendgroup": "Agritrack SA",
         "line": {
          "color": "#19d3f3",
          "dash": "solid"
         },
         "marker": {
          "symbol": "circle"
         },
         "mode": "lines",
         "name": "Agritrack SA",
         "showlegend": false,
         "type": "scattergl",
         "x": [
          2023
         ],
         "xaxis": "x",
         "y": [
          0
         ],
         "yaxis": "y"
        },
        {
         "hovertemplate": "company_name=Agritrack SA<br>variable=Neutral<br>year=%{x}<br>value=%{y}<extra></extra>",
         "legendgroup": "Agritrack SA",
         "line": {
          "color": "#19d3f3",
          "dash": "solid"
         },
         "marker": {
          "symbol": "circle"
         },
         "mode": "lines",
         "name": "Agritrack SA",
         "showlegend": false,
         "type": "scattergl",
         "x": [
          2023
         ],
         "xaxis": "x",
         "y": [
          0
         ],
         "yaxis": "y"
        },
        {
         "hovertemplate": "company_name=AgroApps<br>variable=Positive<br>year=%{x}<br>value=%{y}<extra></extra>",
         "legendgroup": "AgroApps",
         "line": {
          "color": "#FF6692",
          "dash": "solid"
         },
         "marker": {
          "symbol": "circle"
         },
         "mode": "lines",
         "name": "AgroApps",
         "showlegend": true,
         "type": "scattergl",
         "x": [
          2017,
          2018,
          2019,
          2020,
          2021
         ],
         "xaxis": "x",
         "y": [
          32,
          6,
          44,
          28,
          8
         ],
         "yaxis": "y"
        },
        {
         "hovertemplate": "company_name=AgroApps<br>variable=Negative<br>year=%{x}<br>value=%{y}<extra></extra>",
         "legendgroup": "AgroApps",
         "line": {
          "color": "#FF6692",
          "dash": "solid"
         },
         "marker": {
          "symbol": "circle"
         },
         "mode": "lines",
         "name": "AgroApps",
         "showlegend": false,
         "type": "scattergl",
         "x": [
          2017,
          2018,
          2019,
          2020,
          2021
         ],
         "xaxis": "x",
         "y": [
          4,
          2,
          2,
          0,
          0
         ],
         "yaxis": "y"
        },
        {
         "hovertemplate": "company_name=AgroApps<br>variable=Neutral<br>year=%{x}<br>value=%{y}<extra></extra>",
         "legendgroup": "AgroApps",
         "line": {
          "color": "#FF6692",
          "dash": "solid"
         },
         "marker": {
          "symbol": "circle"
         },
         "mode": "lines",
         "name": "AgroApps",
         "showlegend": false,
         "type": "scattergl",
         "x": [
          2017,
          2018,
          2019,
          2020,
          2021
         ],
         "xaxis": "x",
         "y": [
          40,
          10,
          20,
          10,
          4
         ],
         "yaxis": "y"
        },
        {
         "hovertemplate": "company_name=Agroknow<br>variable=Positive<br>year=%{x}<br>value=%{y}<extra></extra>",
         "legendgroup": "Agroknow",
         "line": {
          "color": "#B6E880",
          "dash": "solid"
         },
         "marker": {
          "symbol": "circle"
         },
         "mode": "lines",
         "name": "Agroknow",
         "showlegend": true,
         "type": "scattergl",
         "x": [
          2017,
          2018,
          2019,
          2020,
          2021
         ],
         "xaxis": "x",
         "y": [
          22,
          98,
          84,
          68,
          16
         ],
         "yaxis": "y"
        },
        {
         "hovertemplate": "company_name=Agroknow<br>variable=Negative<br>year=%{x}<br>value=%{y}<extra></extra>",
         "legendgroup": "Agroknow",
         "line": {
          "color": "#B6E880",
          "dash": "solid"
         },
         "marker": {
          "symbol": "circle"
         },
         "mode": "lines",
         "name": "Agroknow",
         "showlegend": false,
         "type": "scattergl",
         "x": [
          2017,
          2018,
          2019,
          2020,
          2021
         ],
         "xaxis": "x",
         "y": [
          4,
          4,
          12,
          8,
          2
         ],
         "yaxis": "y"
        },
        {
         "hovertemplate": "company_name=Agroknow<br>variable=Neutral<br>year=%{x}<br>value=%{y}<extra></extra>",
         "legendgroup": "Agroknow",
         "line": {
          "color": "#B6E880",
          "dash": "solid"
         },
         "marker": {
          "symbol": "circle"
         },
         "mode": "lines",
         "name": "Agroknow",
         "showlegend": false,
         "type": "scattergl",
         "x": [
          2017,
          2018,
          2019,
          2020,
          2021
         ],
         "xaxis": "x",
         "y": [
          36,
          104,
          58,
          40,
          8
         ],
         "yaxis": "y"
        },
        {
         "hovertemplate": "company_name=Airstay.Gr<br>variable=Positive<br>year=%{x}<br>value=%{y}<extra></extra>",
         "legendgroup": "Airstay.Gr",
         "line": {
          "color": "#FF97FF",
          "dash": "solid"
         },
         "marker": {
          "symbol": "circle"
         },
         "mode": "lines",
         "name": "Airstay.Gr",
         "showlegend": true,
         "type": "scattergl",
         "x": [
          2021,
          2022
         ],
         "xaxis": "x",
         "y": [
          4,
          8
         ],
         "yaxis": "y"
        },
        {
         "hovertemplate": "company_name=Airstay.Gr<br>variable=Negative<br>year=%{x}<br>value=%{y}<extra></extra>",
         "legendgroup": "Airstay.Gr",
         "line": {
          "color": "#FF97FF",
          "dash": "solid"
         },
         "marker": {
          "symbol": "circle"
         },
         "mode": "lines",
         "name": "Airstay.Gr",
         "showlegend": false,
         "type": "scattergl",
         "x": [
          2021,
          2022
         ],
         "xaxis": "x",
         "y": [
          2,
          0
         ],
         "yaxis": "y"
        },
        {
         "hovertemplate": "company_name=Airstay.Gr<br>variable=Neutral<br>year=%{x}<br>value=%{y}<extra></extra>",
         "legendgroup": "Airstay.Gr",
         "line": {
          "color": "#FF97FF",
          "dash": "solid"
         },
         "marker": {
          "symbol": "circle"
         },
         "mode": "lines",
         "name": "Airstay.Gr",
         "showlegend": false,
         "type": "scattergl",
         "x": [
          2021,
          2022
         ],
         "xaxis": "x",
         "y": [
          18,
          2
         ],
         "yaxis": "y"
        },
        {
         "hovertemplate": "company_name=Aisthesis Medical<br>variable=Positive<br>year=%{x}<br>value=%{y}<extra></extra>",
         "legendgroup": "Aisthesis Medical",
         "line": {
          "color": "#FECB52",
          "dash": "solid"
         },
         "marker": {
          "symbol": "circle"
         },
         "mode": "lines",
         "name": "Aisthesis Medical",
         "showlegend": true,
         "type": "scattergl",
         "x": [
          2022
         ],
         "xaxis": "x",
         "y": [
          2
         ],
         "yaxis": "y"
        },
        {
         "hovertemplate": "company_name=Aisthesis Medical<br>variable=Negative<br>year=%{x}<br>value=%{y}<extra></extra>",
         "legendgroup": "Aisthesis Medical",
         "line": {
          "color": "#FECB52",
          "dash": "solid"
         },
         "marker": {
          "symbol": "circle"
         },
         "mode": "lines",
         "name": "Aisthesis Medical",
         "showlegend": false,
         "type": "scattergl",
         "x": [
          2022
         ],
         "xaxis": "x",
         "y": [
          0
         ],
         "yaxis": "y"
        },
        {
         "hovertemplate": "company_name=Aisthesis Medical<br>variable=Neutral<br>year=%{x}<br>value=%{y}<extra></extra>",
         "legendgroup": "Aisthesis Medical",
         "line": {
          "color": "#FECB52",
          "dash": "solid"
         },
         "marker": {
          "symbol": "circle"
         },
         "mode": "lines",
         "name": "Aisthesis Medical",
         "showlegend": false,
         "type": "scattergl",
         "x": [
          2022
         ],
         "xaxis": "x",
         "y": [
          0
         ],
         "yaxis": "y"
        },
        {
         "hovertemplate": "company_name=Al'ameen S Wadata<br>variable=Positive<br>year=%{x}<br>value=%{y}<extra></extra>",
         "legendgroup": "Al'ameen S Wadata",
         "line": {
          "color": "#636efa",
          "dash": "solid"
         },
         "marker": {
          "symbol": "circle"
         },
         "mode": "lines",
         "name": "Al'ameen S Wadata",
         "showlegend": true,
         "type": "scattergl",
         "x": [
          2021
         ],
         "xaxis": "x",
         "y": [
          0
         ],
         "yaxis": "y"
        },
        {
         "hovertemplate": "company_name=Al'ameen S Wadata<br>variable=Negative<br>year=%{x}<br>value=%{y}<extra></extra>",
         "legendgroup": "Al'ameen S Wadata",
         "line": {
          "color": "#636efa",
          "dash": "solid"
         },
         "marker": {
          "symbol": "circle"
         },
         "mode": "lines",
         "name": "Al'ameen S Wadata",
         "showlegend": false,
         "type": "scattergl",
         "x": [
          2021
         ],
         "xaxis": "x",
         "y": [
          1
         ],
         "yaxis": "y"
        },
        {
         "hovertemplate": "company_name=Al'ameen S Wadata<br>variable=Neutral<br>year=%{x}<br>value=%{y}<extra></extra>",
         "legendgroup": "Al'ameen S Wadata",
         "line": {
          "color": "#636efa",
          "dash": "solid"
         },
         "marker": {
          "symbol": "circle"
         },
         "mode": "lines",
         "name": "Al'ameen S Wadata",
         "showlegend": false,
         "type": "scattergl",
         "x": [
          2021
         ],
         "xaxis": "x",
         "y": [
          7
         ],
         "yaxis": "y"
        },
        {
         "hovertemplate": "company_name=Allcancode<br>variable=Positive<br>year=%{x}<br>value=%{y}<extra></extra>",
         "legendgroup": "Allcancode",
         "line": {
          "color": "#EF553B",
          "dash": "solid"
         },
         "marker": {
          "symbol": "circle"
         },
         "mode": "lines",
         "name": "Allcancode",
         "showlegend": true,
         "type": "scattergl",
         "x": [
          2017,
          2018,
          2019,
          2021
         ],
         "xaxis": "x",
         "y": [
          10,
          16,
          4,
          10
         ],
         "yaxis": "y"
        },
        {
         "hovertemplate": "company_name=Allcancode<br>variable=Negative<br>year=%{x}<br>value=%{y}<extra></extra>",
         "legendgroup": "Allcancode",
         "line": {
          "color": "#EF553B",
          "dash": "solid"
         },
         "marker": {
          "symbol": "circle"
         },
         "mode": "lines",
         "name": "Allcancode",
         "showlegend": false,
         "type": "scattergl",
         "x": [
          2017,
          2018,
          2019,
          2021
         ],
         "xaxis": "x",
         "y": [
          4,
          2,
          0,
          0
         ],
         "yaxis": "y"
        },
        {
         "hovertemplate": "company_name=Allcancode<br>variable=Neutral<br>year=%{x}<br>value=%{y}<extra></extra>",
         "legendgroup": "Allcancode",
         "line": {
          "color": "#EF553B",
          "dash": "solid"
         },
         "marker": {
          "symbol": "circle"
         },
         "mode": "lines",
         "name": "Allcancode",
         "showlegend": false,
         "type": "scattergl",
         "x": [
          2017,
          2018,
          2019,
          2021
         ],
         "xaxis": "x",
         "y": [
          8,
          2,
          0,
          8
         ],
         "yaxis": "y"
        },
        {
         "hovertemplate": "company_name=Altosight<br>variable=Positive<br>year=%{x}<br>value=%{y}<extra></extra>",
         "legendgroup": "Altosight",
         "line": {
          "color": "#00cc96",
          "dash": "solid"
         },
         "marker": {
          "symbol": "circle"
         },
         "mode": "lines",
         "name": "Altosight",
         "showlegend": true,
         "type": "scattergl",
         "x": [
          2018,
          2021
         ],
         "xaxis": "x",
         "y": [
          8,
          6
         ],
         "yaxis": "y"
        },
        {
         "hovertemplate": "company_name=Altosight<br>variable=Negative<br>year=%{x}<br>value=%{y}<extra></extra>",
         "legendgroup": "Altosight",
         "line": {
          "color": "#00cc96",
          "dash": "solid"
         },
         "marker": {
          "symbol": "circle"
         },
         "mode": "lines",
         "name": "Altosight",
         "showlegend": false,
         "type": "scattergl",
         "x": [
          2018,
          2021
         ],
         "xaxis": "x",
         "y": [
          0,
          0
         ],
         "yaxis": "y"
        },
        {
         "hovertemplate": "company_name=Altosight<br>variable=Neutral<br>year=%{x}<br>value=%{y}<extra></extra>",
         "legendgroup": "Altosight",
         "line": {
          "color": "#00cc96",
          "dash": "solid"
         },
         "marker": {
          "symbol": "circle"
         },
         "mode": "lines",
         "name": "Altosight",
         "showlegend": false,
         "type": "scattergl",
         "x": [
          2018,
          2021
         ],
         "xaxis": "x",
         "y": [
          4,
          4
         ],
         "yaxis": "y"
        },
        {
         "hovertemplate": "company_name=AlumniReach<br>variable=Positive<br>year=%{x}<br>value=%{y}<extra></extra>",
         "legendgroup": "AlumniReach",
         "line": {
          "color": "#ab63fa",
          "dash": "solid"
         },
         "marker": {
          "symbol": "circle"
         },
         "mode": "lines",
         "name": "AlumniReach",
         "showlegend": true,
         "type": "scattergl",
         "x": [
          2021,
          2022,
          2023
         ],
         "xaxis": "x",
         "y": [
          38,
          92,
          52
         ],
         "yaxis": "y"
        },
        {
         "hovertemplate": "company_name=AlumniReach<br>variable=Negative<br>year=%{x}<br>value=%{y}<extra></extra>",
         "legendgroup": "AlumniReach",
         "line": {
          "color": "#ab63fa",
          "dash": "solid"
         },
         "marker": {
          "symbol": "circle"
         },
         "mode": "lines",
         "name": "AlumniReach",
         "showlegend": false,
         "type": "scattergl",
         "x": [
          2021,
          2022,
          2023
         ],
         "xaxis": "x",
         "y": [
          10,
          10,
          0
         ],
         "yaxis": "y"
        },
        {
         "hovertemplate": "company_name=AlumniReach<br>variable=Neutral<br>year=%{x}<br>value=%{y}<extra></extra>",
         "legendgroup": "AlumniReach",
         "line": {
          "color": "#ab63fa",
          "dash": "solid"
         },
         "marker": {
          "symbol": "circle"
         },
         "mode": "lines",
         "name": "AlumniReach",
         "showlegend": false,
         "type": "scattergl",
         "x": [
          2021,
          2022,
          2023
         ],
         "xaxis": "x",
         "y": [
          24,
          32,
          30
         ],
         "yaxis": "y"
        },
        {
         "hovertemplate": "company_name=Asklepieia Health Cluster<br>variable=Positive<br>year=%{x}<br>value=%{y}<extra></extra>",
         "legendgroup": "Asklepieia Health Cluster",
         "line": {
          "color": "#FFA15A",
          "dash": "solid"
         },
         "marker": {
          "symbol": "circle"
         },
         "mode": "lines",
         "name": "Asklepieia Health Cluster",
         "showlegend": true,
         "type": "scattergl",
         "x": [
          2017,
          2018,
          2019,
          2020,
          2021,
          2022,
          2023
         ],
         "xaxis": "x",
         "y": [
          4,
          0,
          2,
          4,
          2,
          136,
          66
         ],
         "yaxis": "y"
        },
        {
         "hovertemplate": "company_name=Asklepieia Health Cluster<br>variable=Negative<br>year=%{x}<br>value=%{y}<extra></extra>",
         "legendgroup": "Asklepieia Health Cluster",
         "line": {
          "color": "#FFA15A",
          "dash": "solid"
         },
         "marker": {
          "symbol": "circle"
         },
         "mode": "lines",
         "name": "Asklepieia Health Cluster",
         "showlegend": false,
         "type": "scattergl",
         "x": [
          2017,
          2018,
          2019,
          2020,
          2021,
          2022,
          2023
         ],
         "xaxis": "x",
         "y": [
          0,
          2,
          2,
          0,
          0,
          14,
          2
         ],
         "yaxis": "y"
        },
        {
         "hovertemplate": "company_name=Asklepieia Health Cluster<br>variable=Neutral<br>year=%{x}<br>value=%{y}<extra></extra>",
         "legendgroup": "Asklepieia Health Cluster",
         "line": {
          "color": "#FFA15A",
          "dash": "solid"
         },
         "marker": {
          "symbol": "circle"
         },
         "mode": "lines",
         "name": "Asklepieia Health Cluster",
         "showlegend": false,
         "type": "scattergl",
         "x": [
          2017,
          2018,
          2019,
          2020,
          2021,
          2022,
          2023
         ],
         "xaxis": "x",
         "y": [
          40,
          42,
          22,
          282,
          52,
          78,
          8
         ],
         "yaxis": "y"
        },
        {
         "hovertemplate": "company_name=Athens Insiders<br>variable=Positive<br>year=%{x}<br>value=%{y}<extra></extra>",
         "legendgroup": "Athens Insiders",
         "line": {
          "color": "#19d3f3",
          "dash": "solid"
         },
         "marker": {
          "symbol": "circle"
         },
         "mode": "lines",
         "name": "Athens Insiders",
         "showlegend": true,
         "type": "scattergl",
         "x": [
          2017,
          2018,
          2020,
          2021,
          2022
         ],
         "xaxis": "x",
         "y": [
          7,
          14,
          5,
          28,
          3
         ],
         "yaxis": "y"
        },
        {
         "hovertemplate": "company_name=Athens Insiders<br>variable=Negative<br>year=%{x}<br>value=%{y}<extra></extra>",
         "legendgroup": "Athens Insiders",
         "line": {
          "color": "#19d3f3",
          "dash": "solid"
         },
         "marker": {
          "symbol": "circle"
         },
         "mode": "lines",
         "name": "Athens Insiders",
         "showlegend": false,
         "type": "scattergl",
         "x": [
          2017,
          2018,
          2020,
          2021,
          2022
         ],
         "xaxis": "x",
         "y": [
          2,
          1,
          1,
          0,
          0
         ],
         "yaxis": "y"
        },
        {
         "hovertemplate": "company_name=Athens Insiders<br>variable=Neutral<br>year=%{x}<br>value=%{y}<extra></extra>",
         "legendgroup": "Athens Insiders",
         "line": {
          "color": "#19d3f3",
          "dash": "solid"
         },
         "marker": {
          "symbol": "circle"
         },
         "mode": "lines",
         "name": "Athens Insiders",
         "showlegend": false,
         "type": "scattergl",
         "x": [
          2017,
          2018,
          2020,
          2021,
          2022
         ],
         "xaxis": "x",
         "y": [
          4,
          3,
          5,
          0,
          1
         ],
         "yaxis": "y"
        },
        {
         "hovertemplate": "company_name=AthroaVentures<br>variable=Positive<br>year=%{x}<br>value=%{y}<extra></extra>",
         "legendgroup": "AthroaVentures",
         "line": {
          "color": "#FF6692",
          "dash": "solid"
         },
         "marker": {
          "symbol": "circle"
         },
         "mode": "lines",
         "name": "AthroaVentures",
         "showlegend": true,
         "type": "scattergl",
         "x": [
          2022,
          2023
         ],
         "xaxis": "x",
         "y": [
          22,
          2
         ],
         "yaxis": "y"
        },
        {
         "hovertemplate": "company_name=AthroaVentures<br>variable=Negative<br>year=%{x}<br>value=%{y}<extra></extra>",
         "legendgroup": "AthroaVentures",
         "line": {
          "color": "#FF6692",
          "dash": "solid"
         },
         "marker": {
          "symbol": "circle"
         },
         "mode": "lines",
         "name": "AthroaVentures",
         "showlegend": false,
         "type": "scattergl",
         "x": [
          2022,
          2023
         ],
         "xaxis": "x",
         "y": [
          2,
          0
         ],
         "yaxis": "y"
        },
        {
         "hovertemplate": "company_name=AthroaVentures<br>variable=Neutral<br>year=%{x}<br>value=%{y}<extra></extra>",
         "legendgroup": "AthroaVentures",
         "line": {
          "color": "#FF6692",
          "dash": "solid"
         },
         "marker": {
          "symbol": "circle"
         },
         "mode": "lines",
         "name": "AthroaVentures",
         "showlegend": false,
         "type": "scattergl",
         "x": [
          2022,
          2023
         ],
         "xaxis": "x",
         "y": [
          24,
          0
         ],
         "yaxis": "y"
        },
        {
         "hovertemplate": "company_name=B2B Wave<br>variable=Positive<br>year=%{x}<br>value=%{y}<extra></extra>",
         "legendgroup": "B2B Wave",
         "line": {
          "color": "#B6E880",
          "dash": "solid"
         },
         "marker": {
          "symbol": "circle"
         },
         "mode": "lines",
         "name": "B2B Wave",
         "showlegend": true,
         "type": "scattergl",
         "x": [
          2017,
          2018,
          2019,
          2020,
          2021,
          2022,
          2023
         ],
         "xaxis": "x",
         "y": [
          82,
          70,
          50,
          362,
          158,
          56,
          52
         ],
         "yaxis": "y"
        },
        {
         "hovertemplate": "company_name=B2B Wave<br>variable=Negative<br>year=%{x}<br>value=%{y}<extra></extra>",
         "legendgroup": "B2B Wave",
         "line": {
          "color": "#B6E880",
          "dash": "solid"
         },
         "marker": {
          "symbol": "circle"
         },
         "mode": "lines",
         "name": "B2B Wave",
         "showlegend": false,
         "type": "scattergl",
         "x": [
          2017,
          2018,
          2019,
          2020,
          2021,
          2022,
          2023
         ],
         "xaxis": "x",
         "y": [
          14,
          6,
          0,
          40,
          16,
          4,
          2
         ],
         "yaxis": "y"
        },
        {
         "hovertemplate": "company_name=B2B Wave<br>variable=Neutral<br>year=%{x}<br>value=%{y}<extra></extra>",
         "legendgroup": "B2B Wave",
         "line": {
          "color": "#B6E880",
          "dash": "solid"
         },
         "marker": {
          "symbol": "circle"
         },
         "mode": "lines",
         "name": "B2B Wave",
         "showlegend": false,
         "type": "scattergl",
         "x": [
          2017,
          2018,
          2019,
          2020,
          2021,
          2022,
          2023
         ],
         "xaxis": "x",
         "y": [
          54,
          46,
          22,
          98,
          64,
          16,
          4
         ],
         "yaxis": "y"
        },
        {
         "hovertemplate": "company_name=BD INVENTIONS P.C<br>variable=Positive<br>year=%{x}<br>value=%{y}<extra></extra>",
         "legendgroup": "BD INVENTIONS P.C",
         "line": {
          "color": "#FF97FF",
          "dash": "solid"
         },
         "marker": {
          "symbol": "circle"
         },
         "mode": "lines",
         "name": "BD INVENTIONS P.C",
         "showlegend": true,
         "type": "scattergl",
         "x": [
          2022
         ],
         "xaxis": "x",
         "y": [
          8
         ],
         "yaxis": "y"
        },
        {
         "hovertemplate": "company_name=BD INVENTIONS P.C<br>variable=Negative<br>year=%{x}<br>value=%{y}<extra></extra>",
         "legendgroup": "BD INVENTIONS P.C",
         "line": {
          "color": "#FF97FF",
          "dash": "solid"
         },
         "marker": {
          "symbol": "circle"
         },
         "mode": "lines",
         "name": "BD INVENTIONS P.C",
         "showlegend": false,
         "type": "scattergl",
         "x": [
          2022
         ],
         "xaxis": "x",
         "y": [
          6
         ],
         "yaxis": "y"
        },
        {
         "hovertemplate": "company_name=BD INVENTIONS P.C<br>variable=Neutral<br>year=%{x}<br>value=%{y}<extra></extra>",
         "legendgroup": "BD INVENTIONS P.C",
         "line": {
          "color": "#FF97FF",
          "dash": "solid"
         },
         "marker": {
          "symbol": "circle"
         },
         "mode": "lines",
         "name": "BD INVENTIONS P.C",
         "showlegend": false,
         "type": "scattergl",
         "x": [
          2022
         ],
         "xaxis": "x",
         "y": [
          6
         ],
         "yaxis": "y"
        },
        {
         "hovertemplate": "company_name=Baggagement<br>variable=Positive<br>year=%{x}<br>value=%{y}<extra></extra>",
         "legendgroup": "Baggagement",
         "line": {
          "color": "#FECB52",
          "dash": "solid"
         },
         "marker": {
          "symbol": "circle"
         },
         "mode": "lines",
         "name": "Baggagement",
         "showlegend": true,
         "type": "scattergl",
         "x": [
          2017
         ],
         "xaxis": "x",
         "y": [
          16
         ],
         "yaxis": "y"
        },
        {
         "hovertemplate": "company_name=Baggagement<br>variable=Negative<br>year=%{x}<br>value=%{y}<extra></extra>",
         "legendgroup": "Baggagement",
         "line": {
          "color": "#FECB52",
          "dash": "solid"
         },
         "marker": {
          "symbol": "circle"
         },
         "mode": "lines",
         "name": "Baggagement",
         "showlegend": false,
         "type": "scattergl",
         "x": [
          2017
         ],
         "xaxis": "x",
         "y": [
          0
         ],
         "yaxis": "y"
        },
        {
         "hovertemplate": "company_name=Baggagement<br>variable=Neutral<br>year=%{x}<br>value=%{y}<extra></extra>",
         "legendgroup": "Baggagement",
         "line": {
          "color": "#FECB52",
          "dash": "solid"
         },
         "marker": {
          "symbol": "circle"
         },
         "mode": "lines",
         "name": "Baggagement",
         "showlegend": false,
         "type": "scattergl",
         "x": [
          2017
         ],
         "xaxis": "x",
         "y": [
          8
         ],
         "yaxis": "y"
        },
        {
         "hovertemplate": "company_name=Be a Greek<br>variable=Positive<br>year=%{x}<br>value=%{y}<extra></extra>",
         "legendgroup": "Be a Greek",
         "line": {
          "color": "#636efa",
          "dash": "solid"
         },
         "marker": {
          "symbol": "circle"
         },
         "mode": "lines",
         "name": "Be a Greek",
         "showlegend": true,
         "type": "scattergl",
         "x": [
          2017,
          2018,
          2019,
          2022
         ],
         "xaxis": "x",
         "y": [
          146,
          52,
          8,
          50
         ],
         "yaxis": "y"
        },
        {
         "hovertemplate": "company_name=Be a Greek<br>variable=Negative<br>year=%{x}<br>value=%{y}<extra></extra>",
         "legendgroup": "Be a Greek",
         "line": {
          "color": "#636efa",
          "dash": "solid"
         },
         "marker": {
          "symbol": "circle"
         },
         "mode": "lines",
         "name": "Be a Greek",
         "showlegend": false,
         "type": "scattergl",
         "x": [
          2017,
          2018,
          2019,
          2022
         ],
         "xaxis": "x",
         "y": [
          14,
          6,
          2,
          14
         ],
         "yaxis": "y"
        },
        {
         "hovertemplate": "company_name=Be a Greek<br>variable=Neutral<br>year=%{x}<br>value=%{y}<extra></extra>",
         "legendgroup": "Be a Greek",
         "line": {
          "color": "#636efa",
          "dash": "solid"
         },
         "marker": {
          "symbol": "circle"
         },
         "mode": "lines",
         "name": "Be a Greek",
         "showlegend": false,
         "type": "scattergl",
         "x": [
          2017,
          2018,
          2019,
          2022
         ],
         "xaxis": "x",
         "y": [
          108,
          26,
          20,
          16
         ],
         "yaxis": "y"
        },
        {
         "hovertemplate": "company_name=Billy's Donuts<br>variable=Positive<br>year=%{x}<br>value=%{y}<extra></extra>",
         "legendgroup": "Billy's Donuts",
         "line": {
          "color": "#EF553B",
          "dash": "solid"
         },
         "marker": {
          "symbol": "circle"
         },
         "mode": "lines",
         "name": "Billy's Donuts",
         "showlegend": true,
         "type": "scattergl",
         "x": [
          2017,
          2018,
          2019,
          2020,
          2021,
          2022,
          2023
         ],
         "xaxis": "x",
         "y": [
          86,
          88,
          158,
          44,
          18,
          6,
          4
         ],
         "yaxis": "y"
        },
        {
         "hovertemplate": "company_name=Billy's Donuts<br>variable=Negative<br>year=%{x}<br>value=%{y}<extra></extra>",
         "legendgroup": "Billy's Donuts",
         "line": {
          "color": "#EF553B",
          "dash": "solid"
         },
         "marker": {
          "symbol": "circle"
         },
         "mode": "lines",
         "name": "Billy's Donuts",
         "showlegend": false,
         "type": "scattergl",
         "x": [
          2017,
          2018,
          2019,
          2020,
          2021,
          2022,
          2023
         ],
         "xaxis": "x",
         "y": [
          28,
          50,
          52,
          4,
          2,
          2,
          0
         ],
         "yaxis": "y"
        },
        {
         "hovertemplate": "company_name=Billy's Donuts<br>variable=Neutral<br>year=%{x}<br>value=%{y}<extra></extra>",
         "legendgroup": "Billy's Donuts",
         "line": {
          "color": "#EF553B",
          "dash": "solid"
         },
         "marker": {
          "symbol": "circle"
         },
         "mode": "lines",
         "name": "Billy's Donuts",
         "showlegend": false,
         "type": "scattergl",
         "x": [
          2017,
          2018,
          2019,
          2020,
          2021,
          2022,
          2023
         ],
         "xaxis": "x",
         "y": [
          174,
          232,
          266,
          44,
          36,
          8,
          2
         ],
         "yaxis": "y"
        },
        {
         "hovertemplate": "company_name=BioAssist<br>variable=Positive<br>year=%{x}<br>value=%{y}<extra></extra>",
         "legendgroup": "BioAssist",
         "line": {
          "color": "#00cc96",
          "dash": "solid"
         },
         "marker": {
          "symbol": "circle"
         },
         "mode": "lines",
         "name": "BioAssist",
         "showlegend": true,
         "type": "scattergl",
         "x": [
          2017,
          2018,
          2019,
          2021,
          2022
         ],
         "xaxis": "x",
         "y": [
          2,
          2,
          4,
          4,
          8
         ],
         "yaxis": "y"
        },
        {
         "hovertemplate": "company_name=BioAssist<br>variable=Negative<br>year=%{x}<br>value=%{y}<extra></extra>",
         "legendgroup": "BioAssist",
         "line": {
          "color": "#00cc96",
          "dash": "solid"
         },
         "marker": {
          "symbol": "circle"
         },
         "mode": "lines",
         "name": "BioAssist",
         "showlegend": false,
         "type": "scattergl",
         "x": [
          2017,
          2018,
          2019,
          2021,
          2022
         ],
         "xaxis": "x",
         "y": [
          0,
          0,
          0,
          0,
          0
         ],
         "yaxis": "y"
        },
        {
         "hovertemplate": "company_name=BioAssist<br>variable=Neutral<br>year=%{x}<br>value=%{y}<extra></extra>",
         "legendgroup": "BioAssist",
         "line": {
          "color": "#00cc96",
          "dash": "solid"
         },
         "marker": {
          "symbol": "circle"
         },
         "mode": "lines",
         "name": "BioAssist",
         "showlegend": false,
         "type": "scattergl",
         "x": [
          2017,
          2018,
          2019,
          2021,
          2022
         ],
         "xaxis": "x",
         "y": [
          12,
          0,
          0,
          4,
          0
         ],
         "yaxis": "y"
        },
        {
         "hovertemplate": "company_name=BioCoS<br>variable=Positive<br>year=%{x}<br>value=%{y}<extra></extra>",
         "legendgroup": "BioCoS",
         "line": {
          "color": "#ab63fa",
          "dash": "solid"
         },
         "marker": {
          "symbol": "circle"
         },
         "mode": "lines",
         "name": "BioCoS",
         "showlegend": true,
         "type": "scattergl",
         "x": [
          2018,
          2019,
          2020,
          2021,
          2022
         ],
         "xaxis": "x",
         "y": [
          22,
          14,
          18,
          18,
          18
         ],
         "yaxis": "y"
        },
        {
         "hovertemplate": "company_name=BioCoS<br>variable=Negative<br>year=%{x}<br>value=%{y}<extra></extra>",
         "legendgroup": "BioCoS",
         "line": {
          "color": "#ab63fa",
          "dash": "solid"
         },
         "marker": {
          "symbol": "circle"
         },
         "mode": "lines",
         "name": "BioCoS",
         "showlegend": false,
         "type": "scattergl",
         "x": [
          2018,
          2019,
          2020,
          2021,
          2022
         ],
         "xaxis": "x",
         "y": [
          2,
          0,
          0,
          4,
          0
         ],
         "yaxis": "y"
        },
        {
         "hovertemplate": "company_name=BioCoS<br>variable=Neutral<br>year=%{x}<br>value=%{y}<extra></extra>",
         "legendgroup": "BioCoS",
         "line": {
          "color": "#ab63fa",
          "dash": "solid"
         },
         "marker": {
          "symbol": "circle"
         },
         "mode": "lines",
         "name": "BioCoS",
         "showlegend": false,
         "type": "scattergl",
         "x": [
          2018,
          2019,
          2020,
          2021,
          2022
         ],
         "xaxis": "x",
         "y": [
          22,
          14,
          8,
          8,
          8
         ],
         "yaxis": "y"
        },
        {
         "hovertemplate": "company_name=Biomimetic<br>variable=Positive<br>year=%{x}<br>value=%{y}<extra></extra>",
         "legendgroup": "Biomimetic",
         "line": {
          "color": "#FFA15A",
          "dash": "solid"
         },
         "marker": {
          "symbol": "circle"
         },
         "mode": "lines",
         "name": "Biomimetic",
         "showlegend": true,
         "type": "scattergl",
         "x": [
          2020,
          2021,
          2022
         ],
         "xaxis": "x",
         "y": [
          0,
          16,
          22
         ],
         "yaxis": "y"
        },
        {
         "hovertemplate": "company_name=Biomimetic<br>variable=Negative<br>year=%{x}<br>value=%{y}<extra></extra>",
         "legendgroup": "Biomimetic",
         "line": {
          "color": "#FFA15A",
          "dash": "solid"
         },
         "marker": {
          "symbol": "circle"
         },
         "mode": "lines",
         "name": "Biomimetic",
         "showlegend": false,
         "type": "scattergl",
         "x": [
          2020,
          2021,
          2022
         ],
         "xaxis": "x",
         "y": [
          0,
          1,
          0
         ],
         "yaxis": "y"
        },
        {
         "hovertemplate": "company_name=Biomimetic<br>variable=Neutral<br>year=%{x}<br>value=%{y}<extra></extra>",
         "legendgroup": "Biomimetic",
         "line": {
          "color": "#FFA15A",
          "dash": "solid"
         },
         "marker": {
          "symbol": "circle"
         },
         "mode": "lines",
         "name": "Biomimetic",
         "showlegend": false,
         "type": "scattergl",
         "x": [
          2020,
          2021,
          2022
         ],
         "xaxis": "x",
         "y": [
          1,
          8,
          4
         ],
         "yaxis": "y"
        },
        {
         "hovertemplate": "company_name=Bitloops Language<br>variable=Positive<br>year=%{x}<br>value=%{y}<extra></extra>",
         "legendgroup": "Bitloops Language",
         "line": {
          "color": "#19d3f3",
          "dash": "solid"
         },
         "marker": {
          "symbol": "circle"
         },
         "mode": "lines",
         "name": "Bitloops Language",
         "showlegend": true,
         "type": "scattergl",
         "x": [
          2022,
          2023
         ],
         "xaxis": "x",
         "y": [
          66,
          70
         ],
         "yaxis": "y"
        },
        {
         "hovertemplate": "company_name=Bitloops Language<br>variable=Negative<br>year=%{x}<br>value=%{y}<extra></extra>",
         "legendgroup": "Bitloops Language",
         "line": {
          "color": "#19d3f3",
          "dash": "solid"
         },
         "marker": {
          "symbol": "circle"
         },
         "mode": "lines",
         "name": "Bitloops Language",
         "showlegend": false,
         "type": "scattergl",
         "x": [
          2022,
          2023
         ],
         "xaxis": "x",
         "y": [
          6,
          4
         ],
         "yaxis": "y"
        },
        {
         "hovertemplate": "company_name=Bitloops Language<br>variable=Neutral<br>year=%{x}<br>value=%{y}<extra></extra>",
         "legendgroup": "Bitloops Language",
         "line": {
          "color": "#19d3f3",
          "dash": "solid"
         },
         "marker": {
          "symbol": "circle"
         },
         "mode": "lines",
         "name": "Bitloops Language",
         "showlegend": false,
         "type": "scattergl",
         "x": [
          2022,
          2023
         ],
         "xaxis": "x",
         "y": [
          14,
          4
         ],
         "yaxis": "y"
        },
        {
         "hovertemplate": "company_name=Bryq<br>variable=Positive<br>year=%{x}<br>value=%{y}<extra></extra>",
         "legendgroup": "Bryq",
         "line": {
          "color": "#FF6692",
          "dash": "solid"
         },
         "marker": {
          "symbol": "circle"
         },
         "mode": "lines",
         "name": "Bryq",
         "showlegend": true,
         "type": "scattergl",
         "x": [
          2019,
          2020,
          2021,
          2022,
          2023
         ],
         "xaxis": "x",
         "y": [
          52,
          78,
          136,
          112,
          32
         ],
         "yaxis": "y"
        },
        {
         "hovertemplate": "company_name=Bryq<br>variable=Negative<br>year=%{x}<br>value=%{y}<extra></extra>",
         "legendgroup": "Bryq",
         "line": {
          "color": "#FF6692",
          "dash": "solid"
         },
         "marker": {
          "symbol": "circle"
         },
         "mode": "lines",
         "name": "Bryq",
         "showlegend": false,
         "type": "scattergl",
         "x": [
          2019,
          2020,
          2021,
          2022,
          2023
         ],
         "xaxis": "x",
         "y": [
          6,
          4,
          12,
          12,
          0
         ],
         "yaxis": "y"
        },
        {
         "hovertemplate": "company_name=Bryq<br>variable=Neutral<br>year=%{x}<br>value=%{y}<extra></extra>",
         "legendgroup": "Bryq",
         "line": {
          "color": "#FF6692",
          "dash": "solid"
         },
         "marker": {
          "symbol": "circle"
         },
         "mode": "lines",
         "name": "Bryq",
         "showlegend": false,
         "type": "scattergl",
         "x": [
          2019,
          2020,
          2021,
          2022,
          2023
         ],
         "xaxis": "x",
         "y": [
          32,
          34,
          22,
          30,
          4
         ],
         "yaxis": "y"
        },
        {
         "hovertemplate": "company_name=Butlair<br>variable=Positive<br>year=%{x}<br>value=%{y}<extra></extra>",
         "legendgroup": "Butlair",
         "line": {
          "color": "#B6E880",
          "dash": "solid"
         },
         "marker": {
          "symbol": "circle"
         },
         "mode": "lines",
         "name": "Butlair",
         "showlegend": true,
         "type": "scattergl",
         "x": [
          2017,
          2018
         ],
         "xaxis": "x",
         "y": [
          34,
          0
         ],
         "yaxis": "y"
        },
        {
         "hovertemplate": "company_name=Butlair<br>variable=Negative<br>year=%{x}<br>value=%{y}<extra></extra>",
         "legendgroup": "Butlair",
         "line": {
          "color": "#B6E880",
          "dash": "solid"
         },
         "marker": {
          "symbol": "circle"
         },
         "mode": "lines",
         "name": "Butlair",
         "showlegend": false,
         "type": "scattergl",
         "x": [
          2017,
          2018
         ],
         "xaxis": "x",
         "y": [
          4,
          0
         ],
         "yaxis": "y"
        },
        {
         "hovertemplate": "company_name=Butlair<br>variable=Neutral<br>year=%{x}<br>value=%{y}<extra></extra>",
         "legendgroup": "Butlair",
         "line": {
          "color": "#B6E880",
          "dash": "solid"
         },
         "marker": {
          "symbol": "circle"
         },
         "mode": "lines",
         "name": "Butlair",
         "showlegend": false,
         "type": "scattergl",
         "x": [
          2017,
          2018
         ],
         "xaxis": "x",
         "y": [
          48,
          1
         ],
         "yaxis": "y"
        },
        {
         "hovertemplate": "company_name=C-Job Naval Architects<br>variable=Positive<br>year=%{x}<br>value=%{y}<extra></extra>",
         "legendgroup": "C-Job Naval Architects",
         "line": {
          "color": "#FF97FF",
          "dash": "solid"
         },
         "marker": {
          "symbol": "circle"
         },
         "mode": "lines",
         "name": "C-Job Naval Architects",
         "showlegend": true,
         "type": "scattergl",
         "x": [
          2017,
          2018,
          2019,
          2020,
          2021,
          2022
         ],
         "xaxis": "x",
         "y": [
          19,
          44,
          58,
          28,
          4,
          2
         ],
         "yaxis": "y"
        },
        {
         "hovertemplate": "company_name=C-Job Naval Architects<br>variable=Negative<br>year=%{x}<br>value=%{y}<extra></extra>",
         "legendgroup": "C-Job Naval Architects",
         "line": {
          "color": "#FF97FF",
          "dash": "solid"
         },
         "marker": {
          "symbol": "circle"
         },
         "mode": "lines",
         "name": "C-Job Naval Architects",
         "showlegend": false,
         "type": "scattergl",
         "x": [
          2017,
          2018,
          2019,
          2020,
          2021,
          2022
         ],
         "xaxis": "x",
         "y": [
          8,
          3,
          2,
          0,
          0,
          0
         ],
         "yaxis": "y"
        },
        {
         "hovertemplate": "company_name=C-Job Naval Architects<br>variable=Neutral<br>year=%{x}<br>value=%{y}<extra></extra>",
         "legendgroup": "C-Job Naval Architects",
         "line": {
          "color": "#FF97FF",
          "dash": "solid"
         },
         "marker": {
          "symbol": "circle"
         },
         "mode": "lines",
         "name": "C-Job Naval Architects",
         "showlegend": false,
         "type": "scattergl",
         "x": [
          2017,
          2018,
          2019,
          2020,
          2021,
          2022
         ],
         "xaxis": "x",
         "y": [
          38,
          25,
          15,
          5,
          1,
          0
         ],
         "yaxis": "y"
        },
        {
         "hovertemplate": "company_name=Caerleon Comp<br>variable=Positive<br>year=%{x}<br>value=%{y}<extra></extra>",
         "legendgroup": "Caerleon Comp",
         "line": {
          "color": "#FECB52",
          "dash": "solid"
         },
         "marker": {
          "symbol": "circle"
         },
         "mode": "lines",
         "name": "Caerleon Comp",
         "showlegend": true,
         "type": "scattergl",
         "x": [
          2017,
          2018,
          2019,
          2020,
          2021,
          2022,
          2023
         ],
         "xaxis": "x",
         "y": [
          64,
          77,
          67,
          64,
          38,
          90,
          81
         ],
         "yaxis": "y"
        },
        {
         "hovertemplate": "company_name=Caerleon Comp<br>variable=Negative<br>year=%{x}<br>value=%{y}<extra></extra>",
         "legendgroup": "Caerleon Comp",
         "line": {
          "color": "#FECB52",
          "dash": "solid"
         },
         "marker": {
          "symbol": "circle"
         },
         "mode": "lines",
         "name": "Caerleon Comp",
         "showlegend": false,
         "type": "scattergl",
         "x": [
          2017,
          2018,
          2019,
          2020,
          2021,
          2022,
          2023
         ],
         "xaxis": "x",
         "y": [
          12,
          12,
          15,
          12,
          13,
          16,
          7
         ],
         "yaxis": "y"
        },
        {
         "hovertemplate": "company_name=Caerleon Comp<br>variable=Neutral<br>year=%{x}<br>value=%{y}<extra></extra>",
         "legendgroup": "Caerleon Comp",
         "line": {
          "color": "#FECB52",
          "dash": "solid"
         },
         "marker": {
          "symbol": "circle"
         },
         "mode": "lines",
         "name": "Caerleon Comp",
         "showlegend": false,
         "type": "scattergl",
         "x": [
          2017,
          2018,
          2019,
          2020,
          2021,
          2022,
          2023
         ],
         "xaxis": "x",
         "y": [
          82,
          84,
          74,
          45,
          54,
          71,
          73
         ],
         "yaxis": "y"
        },
        {
         "hovertemplate": "company_name=Classter<br>variable=Positive<br>year=%{x}<br>value=%{y}<extra></extra>",
         "legendgroup": "Classter",
         "line": {
          "color": "#636efa",
          "dash": "solid"
         },
         "marker": {
          "symbol": "circle"
         },
         "mode": "lines",
         "name": "Classter",
         "showlegend": true,
         "type": "scattergl",
         "x": [
          2023
         ],
         "xaxis": "x",
         "y": [
          25
         ],
         "yaxis": "y"
        },
        {
         "hovertemplate": "company_name=Classter<br>variable=Negative<br>year=%{x}<br>value=%{y}<extra></extra>",
         "legendgroup": "Classter",
         "line": {
          "color": "#636efa",
          "dash": "solid"
         },
         "marker": {
          "symbol": "circle"
         },
         "mode": "lines",
         "name": "Classter",
         "showlegend": false,
         "type": "scattergl",
         "x": [
          2023
         ],
         "xaxis": "x",
         "y": [
          5
         ],
         "yaxis": "y"
        },
        {
         "hovertemplate": "company_name=Classter<br>variable=Neutral<br>year=%{x}<br>value=%{y}<extra></extra>",
         "legendgroup": "Classter",
         "line": {
          "color": "#636efa",
          "dash": "solid"
         },
         "marker": {
          "symbol": "circle"
         },
         "mode": "lines",
         "name": "Classter",
         "showlegend": false,
         "type": "scattergl",
         "x": [
          2023
         ],
         "xaxis": "x",
         "y": [
          8
         ],
         "yaxis": "y"
        },
        {
         "hovertemplate": "company_name=Daniel Wrapp<br>variable=Positive<br>year=%{x}<br>value=%{y}<extra></extra>",
         "legendgroup": "Daniel Wrapp",
         "line": {
          "color": "#EF553B",
          "dash": "solid"
         },
         "marker": {
          "symbol": "circle"
         },
         "mode": "lines",
         "name": "Daniel Wrapp",
         "showlegend": true,
         "type": "scattergl",
         "x": [
          2020,
          2021,
          2022,
          2023
         ],
         "xaxis": "x",
         "y": [
          5,
          6,
          9,
          2
         ],
         "yaxis": "y"
        },
        {
         "hovertemplate": "company_name=Daniel Wrapp<br>variable=Negative<br>year=%{x}<br>value=%{y}<extra></extra>",
         "legendgroup": "Daniel Wrapp",
         "line": {
          "color": "#EF553B",
          "dash": "solid"
         },
         "marker": {
          "symbol": "circle"
         },
         "mode": "lines",
         "name": "Daniel Wrapp",
         "showlegend": false,
         "type": "scattergl",
         "x": [
          2020,
          2021,
          2022,
          2023
         ],
         "xaxis": "x",
         "y": [
          1,
          0,
          0,
          0
         ],
         "yaxis": "y"
        },
        {
         "hovertemplate": "company_name=Daniel Wrapp<br>variable=Neutral<br>year=%{x}<br>value=%{y}<extra></extra>",
         "legendgroup": "Daniel Wrapp",
         "line": {
          "color": "#EF553B",
          "dash": "solid"
         },
         "marker": {
          "symbol": "circle"
         },
         "mode": "lines",
         "name": "Daniel Wrapp",
         "showlegend": false,
         "type": "scattergl",
         "x": [
          2020,
          2021,
          2022,
          2023
         ],
         "xaxis": "x",
         "y": [
          5,
          5,
          7,
          1
         ],
         "yaxis": "y"
        },
        {
         "hovertemplate": "company_name=EVPlus<br>variable=Positive<br>year=%{x}<br>value=%{y}<extra></extra>",
         "legendgroup": "EVPlus",
         "line": {
          "color": "#00cc96",
          "dash": "solid"
         },
         "marker": {
          "symbol": "circle"
         },
         "mode": "lines",
         "name": "EVPlus",
         "showlegend": true,
         "type": "scattergl",
         "x": [
          2020,
          2021
         ],
         "xaxis": "x",
         "y": [
          18,
          4
         ],
         "yaxis": "y"
        },
        {
         "hovertemplate": "company_name=EVPlus<br>variable=Negative<br>year=%{x}<br>value=%{y}<extra></extra>",
         "legendgroup": "EVPlus",
         "line": {
          "color": "#00cc96",
          "dash": "solid"
         },
         "marker": {
          "symbol": "circle"
         },
         "mode": "lines",
         "name": "EVPlus",
         "showlegend": false,
         "type": "scattergl",
         "x": [
          2020,
          2021
         ],
         "xaxis": "x",
         "y": [
          1,
          1
         ],
         "yaxis": "y"
        },
        {
         "hovertemplate": "company_name=EVPlus<br>variable=Neutral<br>year=%{x}<br>value=%{y}<extra></extra>",
         "legendgroup": "EVPlus",
         "line": {
          "color": "#00cc96",
          "dash": "solid"
         },
         "marker": {
          "symbol": "circle"
         },
         "mode": "lines",
         "name": "EVPlus",
         "showlegend": false,
         "type": "scattergl",
         "x": [
          2020,
          2021
         ],
         "xaxis": "x",
         "y": [
          15,
          8
         ],
         "yaxis": "y"
        },
        {
         "hovertemplate": "company_name=Energy Web<br>variable=Positive<br>year=%{x}<br>value=%{y}<extra></extra>",
         "legendgroup": "Energy Web",
         "line": {
          "color": "#ab63fa",
          "dash": "solid"
         },
         "marker": {
          "symbol": "circle"
         },
         "mode": "lines",
         "name": "Energy Web",
         "showlegend": true,
         "type": "scattergl",
         "x": [
          2017,
          2018,
          2019,
          2020,
          2021,
          2022,
          2023
         ],
         "xaxis": "x",
         "y": [
          8,
          88,
          592,
          322,
          161,
          98,
          15
         ],
         "yaxis": "y"
        },
        {
         "hovertemplate": "company_name=Energy Web<br>variable=Negative<br>year=%{x}<br>value=%{y}<extra></extra>",
         "legendgroup": "Energy Web",
         "line": {
          "color": "#ab63fa",
          "dash": "solid"
         },
         "marker": {
          "symbol": "circle"
         },
         "mode": "lines",
         "name": "Energy Web",
         "showlegend": false,
         "type": "scattergl",
         "x": [
          2017,
          2018,
          2019,
          2020,
          2021,
          2022,
          2023
         ],
         "xaxis": "x",
         "y": [
          2,
          7,
          56,
          39,
          11,
          8,
          7
         ],
         "yaxis": "y"
        },
        {
         "hovertemplate": "company_name=Energy Web<br>variable=Neutral<br>year=%{x}<br>value=%{y}<extra></extra>",
         "legendgroup": "Energy Web",
         "line": {
          "color": "#ab63fa",
          "dash": "solid"
         },
         "marker": {
          "symbol": "circle"
         },
         "mode": "lines",
         "name": "Energy Web",
         "showlegend": false,
         "type": "scattergl",
         "x": [
          2017,
          2018,
          2019,
          2020,
          2021,
          2022,
          2023
         ],
         "xaxis": "x",
         "y": [
          15,
          47,
          314,
          153,
          88,
          19,
          5
         ],
         "yaxis": "y"
        },
        {
         "hovertemplate": "company_name=Enginius<br>variable=Positive<br>year=%{x}<br>value=%{y}<extra></extra>",
         "legendgroup": "Enginius",
         "line": {
          "color": "#FFA15A",
          "dash": "solid"
         },
         "marker": {
          "symbol": "circle"
         },
         "mode": "lines",
         "name": "Enginius",
         "showlegend": true,
         "type": "scattergl",
         "x": [
          2017,
          2018,
          2019,
          2020,
          2021,
          2022,
          2023
         ],
         "xaxis": "x",
         "y": [
          0,
          0,
          0,
          0,
          0,
          1,
          0
         ],
         "yaxis": "y"
        },
        {
         "hovertemplate": "company_name=Enginius<br>variable=Negative<br>year=%{x}<br>value=%{y}<extra></extra>",
         "legendgroup": "Enginius",
         "line": {
          "color": "#FFA15A",
          "dash": "solid"
         },
         "marker": {
          "symbol": "circle"
         },
         "mode": "lines",
         "name": "Enginius",
         "showlegend": false,
         "type": "scattergl",
         "x": [
          2017,
          2018,
          2019,
          2020,
          2021,
          2022,
          2023
         ],
         "xaxis": "x",
         "y": [
          0,
          0,
          0,
          0,
          0,
          0,
          0
         ],
         "yaxis": "y"
        },
        {
         "hovertemplate": "company_name=Enginius<br>variable=Neutral<br>year=%{x}<br>value=%{y}<extra></extra>",
         "legendgroup": "Enginius",
         "line": {
          "color": "#FFA15A",
          "dash": "solid"
         },
         "marker": {
          "symbol": "circle"
         },
         "mode": "lines",
         "name": "Enginius",
         "showlegend": false,
         "type": "scattergl",
         "x": [
          2017,
          2018,
          2019,
          2020,
          2021,
          2022,
          2023
         ],
         "xaxis": "x",
         "y": [
          6,
          2,
          2,
          1,
          1,
          2,
          1
         ],
         "yaxis": "y"
        },
        {
         "hovertemplate": "company_name=Entelechy Academy<br>variable=Positive<br>year=%{x}<br>value=%{y}<extra></extra>",
         "legendgroup": "Entelechy Academy",
         "line": {
          "color": "#19d3f3",
          "dash": "solid"
         },
         "marker": {
          "symbol": "circle"
         },
         "mode": "lines",
         "name": "Entelechy Academy",
         "showlegend": true,
         "type": "scattergl",
         "x": [
          2021,
          2022,
          2023
         ],
         "xaxis": "x",
         "y": [
          5,
          29,
          10
         ],
         "yaxis": "y"
        },
        {
         "hovertemplate": "company_name=Entelechy Academy<br>variable=Negative<br>year=%{x}<br>value=%{y}<extra></extra>",
         "legendgroup": "Entelechy Academy",
         "line": {
          "color": "#19d3f3",
          "dash": "solid"
         },
         "marker": {
          "symbol": "circle"
         },
         "mode": "lines",
         "name": "Entelechy Academy",
         "showlegend": false,
         "type": "scattergl",
         "x": [
          2021,
          2022,
          2023
         ],
         "xaxis": "x",
         "y": [
          3,
          4,
          2
         ],
         "yaxis": "y"
        },
        {
         "hovertemplate": "company_name=Entelechy Academy<br>variable=Neutral<br>year=%{x}<br>value=%{y}<extra></extra>",
         "legendgroup": "Entelechy Academy",
         "line": {
          "color": "#19d3f3",
          "dash": "solid"
         },
         "marker": {
          "symbol": "circle"
         },
         "mode": "lines",
         "name": "Entelechy Academy",
         "showlegend": false,
         "type": "scattergl",
         "x": [
          2021,
          2022,
          2023
         ],
         "xaxis": "x",
         "y": [
          0,
          7,
          3
         ],
         "yaxis": "y"
        },
        {
         "hovertemplate": "company_name=EnzyQuest<br>variable=Positive<br>year=%{x}<br>value=%{y}<extra></extra>",
         "legendgroup": "EnzyQuest",
         "line": {
          "color": "#FF6692",
          "dash": "solid"
         },
         "marker": {
          "symbol": "circle"
         },
         "mode": "lines",
         "name": "EnzyQuest",
         "showlegend": true,
         "type": "scattergl",
         "x": [
          2020
         ],
         "xaxis": "x",
         "y": [
          3
         ],
         "yaxis": "y"
        },
        {
         "hovertemplate": "company_name=EnzyQuest<br>variable=Negative<br>year=%{x}<br>value=%{y}<extra></extra>",
         "legendgroup": "EnzyQuest",
         "line": {
          "color": "#FF6692",
          "dash": "solid"
         },
         "marker": {
          "symbol": "circle"
         },
         "mode": "lines",
         "name": "EnzyQuest",
         "showlegend": false,
         "type": "scattergl",
         "x": [
          2020
         ],
         "xaxis": "x",
         "y": [
          0
         ],
         "yaxis": "y"
        },
        {
         "hovertemplate": "company_name=EnzyQuest<br>variable=Neutral<br>year=%{x}<br>value=%{y}<extra></extra>",
         "legendgroup": "EnzyQuest",
         "line": {
          "color": "#FF6692",
          "dash": "solid"
         },
         "marker": {
          "symbol": "circle"
         },
         "mode": "lines",
         "name": "EnzyQuest",
         "showlegend": false,
         "type": "scattergl",
         "x": [
          2020
         ],
         "xaxis": "x",
         "y": [
          3
         ],
         "yaxis": "y"
        },
        {
         "hovertemplate": "company_name=European Publishing<br>variable=Positive<br>year=%{x}<br>value=%{y}<extra></extra>",
         "legendgroup": "European Publishing",
         "line": {
          "color": "#B6E880",
          "dash": "solid"
         },
         "marker": {
          "symbol": "circle"
         },
         "mode": "lines",
         "name": "European Publishing",
         "showlegend": true,
         "type": "scattergl",
         "x": [
          2022
         ],
         "xaxis": "x",
         "y": [
          0
         ],
         "yaxis": "y"
        },
        {
         "hovertemplate": "company_name=European Publishing<br>variable=Negative<br>year=%{x}<br>value=%{y}<extra></extra>",
         "legendgroup": "European Publishing",
         "line": {
          "color": "#B6E880",
          "dash": "solid"
         },
         "marker": {
          "symbol": "circle"
         },
         "mode": "lines",
         "name": "European Publishing",
         "showlegend": false,
         "type": "scattergl",
         "x": [
          2022
         ],
         "xaxis": "x",
         "y": [
          0
         ],
         "yaxis": "y"
        },
        {
         "hovertemplate": "company_name=European Publishing<br>variable=Neutral<br>year=%{x}<br>value=%{y}<extra></extra>",
         "legendgroup": "European Publishing",
         "line": {
          "color": "#B6E880",
          "dash": "solid"
         },
         "marker": {
          "symbol": "circle"
         },
         "mode": "lines",
         "name": "European Publishing",
         "showlegend": false,
         "type": "scattergl",
         "x": [
          2022
         ],
         "xaxis": "x",
         "y": [
          2
         ],
         "yaxis": "y"
        },
        {
         "hovertemplate": "company_name=Evo Human Performance<br>variable=Positive<br>year=%{x}<br>value=%{y}<extra></extra>",
         "legendgroup": "Evo Human Performance",
         "line": {
          "color": "#FF97FF",
          "dash": "solid"
         },
         "marker": {
          "symbol": "circle"
         },
         "mode": "lines",
         "name": "Evo Human Performance",
         "showlegend": true,
         "type": "scattergl",
         "x": [
          2021,
          2022,
          2023
         ],
         "xaxis": "x",
         "y": [
          1,
          8,
          9
         ],
         "yaxis": "y"
        },
        {
         "hovertemplate": "company_name=Evo Human Performance<br>variable=Negative<br>year=%{x}<br>value=%{y}<extra></extra>",
         "legendgroup": "Evo Human Performance",
         "line": {
          "color": "#FF97FF",
          "dash": "solid"
         },
         "marker": {
          "symbol": "circle"
         },
         "mode": "lines",
         "name": "Evo Human Performance",
         "showlegend": false,
         "type": "scattergl",
         "x": [
          2021,
          2022,
          2023
         ],
         "xaxis": "x",
         "y": [
          0,
          1,
          0
         ],
         "yaxis": "y"
        },
        {
         "hovertemplate": "company_name=Evo Human Performance<br>variable=Neutral<br>year=%{x}<br>value=%{y}<extra></extra>",
         "legendgroup": "Evo Human Performance",
         "line": {
          "color": "#FF97FF",
          "dash": "solid"
         },
         "marker": {
          "symbol": "circle"
         },
         "mode": "lines",
         "name": "Evo Human Performance",
         "showlegend": false,
         "type": "scattergl",
         "x": [
          2021,
          2022,
          2023
         ],
         "xaxis": "x",
         "y": [
          1,
          2,
          6
         ],
         "yaxis": "y"
        },
        {
         "hovertemplate": "company_name=Ex Machina<br>variable=Positive<br>year=%{x}<br>value=%{y}<extra></extra>",
         "legendgroup": "Ex Machina",
         "line": {
          "color": "#FECB52",
          "dash": "solid"
         },
         "marker": {
          "symbol": "circle"
         },
         "mode": "lines",
         "name": "Ex Machina",
         "showlegend": true,
         "type": "scattergl",
         "x": [
          2018,
          2019,
          2021,
          2022
         ],
         "xaxis": "x",
         "y": [
          0,
          2,
          4,
          0
         ],
         "yaxis": "y"
        },
        {
         "hovertemplate": "company_name=Ex Machina<br>variable=Negative<br>year=%{x}<br>value=%{y}<extra></extra>",
         "legendgroup": "Ex Machina",
         "line": {
          "color": "#FECB52",
          "dash": "solid"
         },
         "marker": {
          "symbol": "circle"
         },
         "mode": "lines",
         "name": "Ex Machina",
         "showlegend": false,
         "type": "scattergl",
         "x": [
          2018,
          2019,
          2021,
          2022
         ],
         "xaxis": "x",
         "y": [
          0,
          1,
          1,
          0
         ],
         "yaxis": "y"
        },
        {
         "hovertemplate": "company_name=Ex Machina<br>variable=Neutral<br>year=%{x}<br>value=%{y}<extra></extra>",
         "legendgroup": "Ex Machina",
         "line": {
          "color": "#FECB52",
          "dash": "solid"
         },
         "marker": {
          "symbol": "circle"
         },
         "mode": "lines",
         "name": "Ex Machina",
         "showlegend": false,
         "type": "scattergl",
         "x": [
          2018,
          2019,
          2021,
          2022
         ],
         "xaxis": "x",
         "y": [
          1,
          0,
          1,
          1
         ],
         "yaxis": "y"
        },
        {
         "hovertemplate": "company_name=ExcID<br>variable=Positive<br>year=%{x}<br>value=%{y}<extra></extra>",
         "legendgroup": "ExcID",
         "line": {
          "color": "#636efa",
          "dash": "solid"
         },
         "marker": {
          "symbol": "circle"
         },
         "mode": "lines",
         "name": "ExcID",
         "showlegend": true,
         "type": "scattergl",
         "x": [
          2023
         ],
         "xaxis": "x",
         "y": [
          3
         ],
         "yaxis": "y"
        },
        {
         "hovertemplate": "company_name=ExcID<br>variable=Negative<br>year=%{x}<br>value=%{y}<extra></extra>",
         "legendgroup": "ExcID",
         "line": {
          "color": "#636efa",
          "dash": "solid"
         },
         "marker": {
          "symbol": "circle"
         },
         "mode": "lines",
         "name": "ExcID",
         "showlegend": false,
         "type": "scattergl",
         "x": [
          2023
         ],
         "xaxis": "x",
         "y": [
          0
         ],
         "yaxis": "y"
        },
        {
         "hovertemplate": "company_name=ExcID<br>variable=Neutral<br>year=%{x}<br>value=%{y}<extra></extra>",
         "legendgroup": "ExcID",
         "line": {
          "color": "#636efa",
          "dash": "solid"
         },
         "marker": {
          "symbol": "circle"
         },
         "mode": "lines",
         "name": "ExcID",
         "showlegend": false,
         "type": "scattergl",
         "x": [
          2023
         ],
         "xaxis": "x",
         "y": [
          7
         ],
         "yaxis": "y"
        },
        {
         "hovertemplate": "company_name=FEAC Engineering<br>variable=Positive<br>year=%{x}<br>value=%{y}<extra></extra>",
         "legendgroup": "FEAC Engineering",
         "line": {
          "color": "#EF553B",
          "dash": "solid"
         },
         "marker": {
          "symbol": "circle"
         },
         "mode": "lines",
         "name": "FEAC Engineering",
         "showlegend": true,
         "type": "scattergl",
         "x": [
          2017,
          2018,
          2019,
          2020,
          2021,
          2022
         ],
         "xaxis": "x",
         "y": [
          9,
          32,
          31,
          52,
          35,
          175
         ],
         "yaxis": "y"
        },
        {
         "hovertemplate": "company_name=FEAC Engineering<br>variable=Negative<br>year=%{x}<br>value=%{y}<extra></extra>",
         "legendgroup": "FEAC Engineering",
         "line": {
          "color": "#EF553B",
          "dash": "solid"
         },
         "marker": {
          "symbol": "circle"
         },
         "mode": "lines",
         "name": "FEAC Engineering",
         "showlegend": false,
         "type": "scattergl",
         "x": [
          2017,
          2018,
          2019,
          2020,
          2021,
          2022
         ],
         "xaxis": "x",
         "y": [
          2,
          3,
          5,
          5,
          3,
          30
         ],
         "yaxis": "y"
        },
        {
         "hovertemplate": "company_name=FEAC Engineering<br>variable=Neutral<br>year=%{x}<br>value=%{y}<extra></extra>",
         "legendgroup": "FEAC Engineering",
         "line": {
          "color": "#EF553B",
          "dash": "solid"
         },
         "marker": {
          "symbol": "circle"
         },
         "mode": "lines",
         "name": "FEAC Engineering",
         "showlegend": false,
         "type": "scattergl",
         "x": [
          2017,
          2018,
          2019,
          2020,
          2021,
          2022
         ],
         "xaxis": "x",
         "y": [
          3,
          32,
          31,
          24,
          16,
          111
         ],
         "yaxis": "y"
        },
        {
         "hovertemplate": "company_name=FSI Fantasy Sports Interactive<br>variable=Positive<br>year=%{x}<br>value=%{y}<extra></extra>",
         "legendgroup": "FSI Fantasy Sports Interactive",
         "line": {
          "color": "#00cc96",
          "dash": "solid"
         },
         "marker": {
          "symbol": "circle"
         },
         "mode": "lines",
         "name": "FSI Fantasy Sports Interactive",
         "showlegend": true,
         "type": "scattergl",
         "x": [
          2018,
          2019,
          2020,
          2021,
          2022,
          2023
         ],
         "xaxis": "x",
         "y": [
          14,
          25,
          29,
          22,
          37,
          2
         ],
         "yaxis": "y"
        },
        {
         "hovertemplate": "company_name=FSI Fantasy Sports Interactive<br>variable=Negative<br>year=%{x}<br>value=%{y}<extra></extra>",
         "legendgroup": "FSI Fantasy Sports Interactive",
         "line": {
          "color": "#00cc96",
          "dash": "solid"
         },
         "marker": {
          "symbol": "circle"
         },
         "mode": "lines",
         "name": "FSI Fantasy Sports Interactive",
         "showlegend": false,
         "type": "scattergl",
         "x": [
          2018,
          2019,
          2020,
          2021,
          2022,
          2023
         ],
         "xaxis": "x",
         "y": [
          1,
          4,
          1,
          0,
          5,
          0
         ],
         "yaxis": "y"
        },
        {
         "hovertemplate": "company_name=FSI Fantasy Sports Interactive<br>variable=Neutral<br>year=%{x}<br>value=%{y}<extra></extra>",
         "legendgroup": "FSI Fantasy Sports Interactive",
         "line": {
          "color": "#00cc96",
          "dash": "solid"
         },
         "marker": {
          "symbol": "circle"
         },
         "mode": "lines",
         "name": "FSI Fantasy Sports Interactive",
         "showlegend": false,
         "type": "scattergl",
         "x": [
          2018,
          2019,
          2020,
          2021,
          2022,
          2023
         ],
         "xaxis": "x",
         "y": [
          11,
          9,
          4,
          2,
          5,
          0
         ],
         "yaxis": "y"
        },
        {
         "hovertemplate": "company_name=Fairlo<br>variable=Positive<br>year=%{x}<br>value=%{y}<extra></extra>",
         "legendgroup": "Fairlo",
         "line": {
          "color": "#ab63fa",
          "dash": "solid"
         },
         "marker": {
          "symbol": "circle"
         },
         "mode": "lines",
         "name": "Fairlo",
         "showlegend": true,
         "type": "scattergl",
         "x": [
          2019
         ],
         "xaxis": "x",
         "y": [
          4
         ],
         "yaxis": "y"
        },
        {
         "hovertemplate": "company_name=Fairlo<br>variable=Negative<br>year=%{x}<br>value=%{y}<extra></extra>",
         "legendgroup": "Fairlo",
         "line": {
          "color": "#ab63fa",
          "dash": "solid"
         },
         "marker": {
          "symbol": "circle"
         },
         "mode": "lines",
         "name": "Fairlo",
         "showlegend": false,
         "type": "scattergl",
         "x": [
          2019
         ],
         "xaxis": "x",
         "y": [
          1
         ],
         "yaxis": "y"
        },
        {
         "hovertemplate": "company_name=Fairlo<br>variable=Neutral<br>year=%{x}<br>value=%{y}<extra></extra>",
         "legendgroup": "Fairlo",
         "line": {
          "color": "#ab63fa",
          "dash": "solid"
         },
         "marker": {
          "symbol": "circle"
         },
         "mode": "lines",
         "name": "Fairlo",
         "showlegend": false,
         "type": "scattergl",
         "x": [
          2019
         ],
         "xaxis": "x",
         "y": [
          9
         ],
         "yaxis": "y"
        },
        {
         "hovertemplate": "company_name=Feel Therapeutics<br>variable=Positive<br>year=%{x}<br>value=%{y}<extra></extra>",
         "legendgroup": "Feel Therapeutics",
         "line": {
          "color": "#FFA15A",
          "dash": "solid"
         },
         "marker": {
          "symbol": "circle"
         },
         "mode": "lines",
         "name": "Feel Therapeutics",
         "showlegend": true,
         "type": "scattergl",
         "x": [
          2017,
          2018,
          2019,
          2020,
          2021,
          2022,
          2023
         ],
         "xaxis": "x",
         "y": [
          159,
          128,
          35,
          64,
          13,
          7,
          1
         ],
         "yaxis": "y"
        },
        {
         "hovertemplate": "company_name=Feel Therapeutics<br>variable=Negative<br>year=%{x}<br>value=%{y}<extra></extra>",
         "legendgroup": "Feel Therapeutics",
         "line": {
          "color": "#FFA15A",
          "dash": "solid"
         },
         "marker": {
          "symbol": "circle"
         },
         "mode": "lines",
         "name": "Feel Therapeutics",
         "showlegend": false,
         "type": "scattergl",
         "x": [
          2017,
          2018,
          2019,
          2020,
          2021,
          2022,
          2023
         ],
         "xaxis": "x",
         "y": [
          33,
          25,
          6,
          22,
          4,
          0,
          0
         ],
         "yaxis": "y"
        },
        {
         "hovertemplate": "company_name=Feel Therapeutics<br>variable=Neutral<br>year=%{x}<br>value=%{y}<extra></extra>",
         "legendgroup": "Feel Therapeutics",
         "line": {
          "color": "#FFA15A",
          "dash": "solid"
         },
         "marker": {
          "symbol": "circle"
         },
         "mode": "lines",
         "name": "Feel Therapeutics",
         "showlegend": false,
         "type": "scattergl",
         "x": [
          2017,
          2018,
          2019,
          2020,
          2021,
          2022,
          2023
         ],
         "xaxis": "x",
         "y": [
          123,
          48,
          23,
          16,
          2,
          1,
          2
         ],
         "yaxis": "y"
        },
        {
         "hovertemplate": "company_name=Ferto<br>variable=Positive<br>year=%{x}<br>value=%{y}<extra></extra>",
         "legendgroup": "Ferto",
         "line": {
          "color": "#19d3f3",
          "dash": "solid"
         },
         "marker": {
          "symbol": "circle"
         },
         "mode": "lines",
         "name": "Ferto",
         "showlegend": true,
         "type": "scattergl",
         "x": [
          2021
         ],
         "xaxis": "x",
         "y": [
          0
         ],
         "yaxis": "y"
        },
        {
         "hovertemplate": "company_name=Ferto<br>variable=Negative<br>year=%{x}<br>value=%{y}<extra></extra>",
         "legendgroup": "Ferto",
         "line": {
          "color": "#19d3f3",
          "dash": "solid"
         },
         "marker": {
          "symbol": "circle"
         },
         "mode": "lines",
         "name": "Ferto",
         "showlegend": false,
         "type": "scattergl",
         "x": [
          2021
         ],
         "xaxis": "x",
         "y": [
          0
         ],
         "yaxis": "y"
        },
        {
         "hovertemplate": "company_name=Ferto<br>variable=Neutral<br>year=%{x}<br>value=%{y}<extra></extra>",
         "legendgroup": "Ferto",
         "line": {
          "color": "#19d3f3",
          "dash": "solid"
         },
         "marker": {
          "symbol": "circle"
         },
         "mode": "lines",
         "name": "Ferto",
         "showlegend": false,
         "type": "scattergl",
         "x": [
          2021
         ],
         "xaxis": "x",
         "y": [
          4
         ],
         "yaxis": "y"
        },
        {
         "hovertemplate": "company_name=Fieldscale<br>variable=Positive<br>year=%{x}<br>value=%{y}<extra></extra>",
         "legendgroup": "Fieldscale",
         "line": {
          "color": "#FF6692",
          "dash": "solid"
         },
         "marker": {
          "symbol": "circle"
         },
         "mode": "lines",
         "name": "Fieldscale",
         "showlegend": true,
         "type": "scattergl",
         "x": [
          2017,
          2018,
          2019,
          2020,
          2021
         ],
         "xaxis": "x",
         "y": [
          128,
          12,
          45,
          7,
          0
         ],
         "yaxis": "y"
        },
        {
         "hovertemplate": "company_name=Fieldscale<br>variable=Negative<br>year=%{x}<br>value=%{y}<extra></extra>",
         "legendgroup": "Fieldscale",
         "line": {
          "color": "#FF6692",
          "dash": "solid"
         },
         "marker": {
          "symbol": "circle"
         },
         "mode": "lines",
         "name": "Fieldscale",
         "showlegend": false,
         "type": "scattergl",
         "x": [
          2017,
          2018,
          2019,
          2020,
          2021
         ],
         "xaxis": "x",
         "y": [
          37,
          1,
          14,
          1,
          0
         ],
         "yaxis": "y"
        },
        {
         "hovertemplate": "company_name=Fieldscale<br>variable=Neutral<br>year=%{x}<br>value=%{y}<extra></extra>",
         "legendgroup": "Fieldscale",
         "line": {
          "color": "#FF6692",
          "dash": "solid"
         },
         "marker": {
          "symbol": "circle"
         },
         "mode": "lines",
         "name": "Fieldscale",
         "showlegend": false,
         "type": "scattergl",
         "x": [
          2017,
          2018,
          2019,
          2020,
          2021
         ],
         "xaxis": "x",
         "y": [
          187,
          11,
          34,
          6,
          1
         ],
         "yaxis": "y"
        },
        {
         "hovertemplate": "company_name=Finclude (fka. Verge.Capital)<br>variable=Positive<br>year=%{x}<br>value=%{y}<extra></extra>",
         "legendgroup": "Finclude (fka. Verge.Capital)",
         "line": {
          "color": "#B6E880",
          "dash": "solid"
         },
         "marker": {
          "symbol": "circle"
         },
         "mode": "lines",
         "name": "Finclude (fka. Verge.Capital)",
         "showlegend": true,
         "type": "scattergl",
         "x": [
          2018,
          2019,
          2020,
          2023
         ],
         "xaxis": "x",
         "y": [
          1,
          9,
          13,
          0
         ],
         "yaxis": "y"
        },
        {
         "hovertemplate": "company_name=Finclude (fka. Verge.Capital)<br>variable=Negative<br>year=%{x}<br>value=%{y}<extra></extra>",
         "legendgroup": "Finclude (fka. Verge.Capital)",
         "line": {
          "color": "#B6E880",
          "dash": "solid"
         },
         "marker": {
          "symbol": "circle"
         },
         "mode": "lines",
         "name": "Finclude (fka. Verge.Capital)",
         "showlegend": false,
         "type": "scattergl",
         "x": [
          2018,
          2019,
          2020,
          2023
         ],
         "xaxis": "x",
         "y": [
          0,
          0,
          0,
          0
         ],
         "yaxis": "y"
        },
        {
         "hovertemplate": "company_name=Finclude (fka. Verge.Capital)<br>variable=Neutral<br>year=%{x}<br>value=%{y}<extra></extra>",
         "legendgroup": "Finclude (fka. Verge.Capital)",
         "line": {
          "color": "#B6E880",
          "dash": "solid"
         },
         "marker": {
          "symbol": "circle"
         },
         "mode": "lines",
         "name": "Finclude (fka. Verge.Capital)",
         "showlegend": false,
         "type": "scattergl",
         "x": [
          2018,
          2019,
          2020,
          2023
         ],
         "xaxis": "x",
         "y": [
          1,
          5,
          6,
          1
         ],
         "yaxis": "y"
        },
        {
         "hovertemplate": "company_name=Fitness Meals<br>variable=Positive<br>year=%{x}<br>value=%{y}<extra></extra>",
         "legendgroup": "Fitness Meals",
         "line": {
          "color": "#FF97FF",
          "dash": "solid"
         },
         "marker": {
          "symbol": "circle"
         },
         "mode": "lines",
         "name": "Fitness Meals",
         "showlegend": true,
         "type": "scattergl",
         "x": [
          2017,
          2018,
          2019
         ],
         "xaxis": "x",
         "y": [
          2,
          35,
          20
         ],
         "yaxis": "y"
        },
        {
         "hovertemplate": "company_name=Fitness Meals<br>variable=Negative<br>year=%{x}<br>value=%{y}<extra></extra>",
         "legendgroup": "Fitness Meals",
         "line": {
          "color": "#FF97FF",
          "dash": "solid"
         },
         "marker": {
          "symbol": "circle"
         },
         "mode": "lines",
         "name": "Fitness Meals",
         "showlegend": false,
         "type": "scattergl",
         "x": [
          2017,
          2018,
          2019
         ],
         "xaxis": "x",
         "y": [
          0,
          1,
          0
         ],
         "yaxis": "y"
        },
        {
         "hovertemplate": "company_name=Fitness Meals<br>variable=Neutral<br>year=%{x}<br>value=%{y}<extra></extra>",
         "legendgroup": "Fitness Meals",
         "line": {
          "color": "#FF97FF",
          "dash": "solid"
         },
         "marker": {
          "symbol": "circle"
         },
         "mode": "lines",
         "name": "Fitness Meals",
         "showlegend": false,
         "type": "scattergl",
         "x": [
          2017,
          2018,
          2019
         ],
         "xaxis": "x",
         "y": [
          1,
          7,
          2
         ],
         "yaxis": "y"
        },
        {
         "hovertemplate": "company_name=Gaia Robotics<br>variable=Positive<br>year=%{x}<br>value=%{y}<extra></extra>",
         "legendgroup": "Gaia Robotics",
         "line": {
          "color": "#FECB52",
          "dash": "solid"
         },
         "marker": {
          "symbol": "circle"
         },
         "mode": "lines",
         "name": "Gaia Robotics",
         "showlegend": true,
         "type": "scattergl",
         "x": [
          2018
         ],
         "xaxis": "x",
         "y": [
          0
         ],
         "yaxis": "y"
        },
        {
         "hovertemplate": "company_name=Gaia Robotics<br>variable=Negative<br>year=%{x}<br>value=%{y}<extra></extra>",
         "legendgroup": "Gaia Robotics",
         "line": {
          "color": "#FECB52",
          "dash": "solid"
         },
         "marker": {
          "symbol": "circle"
         },
         "mode": "lines",
         "name": "Gaia Robotics",
         "showlegend": false,
         "type": "scattergl",
         "x": [
          2018
         ],
         "xaxis": "x",
         "y": [
          0
         ],
         "yaxis": "y"
        },
        {
         "hovertemplate": "company_name=Gaia Robotics<br>variable=Neutral<br>year=%{x}<br>value=%{y}<extra></extra>",
         "legendgroup": "Gaia Robotics",
         "line": {
          "color": "#FECB52",
          "dash": "solid"
         },
         "marker": {
          "symbol": "circle"
         },
         "mode": "lines",
         "name": "Gaia Robotics",
         "showlegend": false,
         "type": "scattergl",
         "x": [
          2018
         ],
         "xaxis": "x",
         "y": [
          1
         ],
         "yaxis": "y"
        },
        {
         "hovertemplate": "company_name=GeoInformatics<br>variable=Positive<br>year=%{x}<br>value=%{y}<extra></extra>",
         "legendgroup": "GeoInformatics",
         "line": {
          "color": "#636efa",
          "dash": "solid"
         },
         "marker": {
          "symbol": "circle"
         },
         "mode": "lines",
         "name": "GeoInformatics",
         "showlegend": true,
         "type": "scattergl",
         "x": [
          2017,
          2018,
          2019,
          2020,
          2021,
          2022,
          2023
         ],
         "xaxis": "x",
         "y": [
          92,
          113,
          79,
          51,
          35,
          34,
          3
         ],
         "yaxis": "y"
        },
        {
         "hovertemplate": "company_name=GeoInformatics<br>variable=Negative<br>year=%{x}<br>value=%{y}<extra></extra>",
         "legendgroup": "GeoInformatics",
         "line": {
          "color": "#636efa",
          "dash": "solid"
         },
         "marker": {
          "symbol": "circle"
         },
         "mode": "lines",
         "name": "GeoInformatics",
         "showlegend": false,
         "type": "scattergl",
         "x": [
          2017,
          2018,
          2019,
          2020,
          2021,
          2022,
          2023
         ],
         "xaxis": "x",
         "y": [
          12,
          7,
          8,
          7,
          3,
          2,
          0
         ],
         "yaxis": "y"
        },
        {
         "hovertemplate": "company_name=GeoInformatics<br>variable=Neutral<br>year=%{x}<br>value=%{y}<extra></extra>",
         "legendgroup": "GeoInformatics",
         "line": {
          "color": "#636efa",
          "dash": "solid"
         },
         "marker": {
          "symbol": "circle"
         },
         "mode": "lines",
         "name": "GeoInformatics",
         "showlegend": false,
         "type": "scattergl",
         "x": [
          2017,
          2018,
          2019,
          2020,
          2021,
          2022,
          2023
         ],
         "xaxis": "x",
         "y": [
          304,
          297,
          188,
          158,
          56,
          69,
          14
         ],
         "yaxis": "y"
        },
        {
         "hovertemplate": "company_name=Geomiso<br>variable=Positive<br>year=%{x}<br>value=%{y}<extra></extra>",
         "legendgroup": "Geomiso",
         "line": {
          "color": "#EF553B",
          "dash": "solid"
         },
         "marker": {
          "symbol": "circle"
         },
         "mode": "lines",
         "name": "Geomiso",
         "showlegend": true,
         "type": "scattergl",
         "x": [
          2017,
          2018,
          2019,
          2020,
          2021,
          2022
         ],
         "xaxis": "x",
         "y": [
          23,
          25,
          8,
          0,
          0,
          0
         ],
         "yaxis": "y"
        },
        {
         "hovertemplate": "company_name=Geomiso<br>variable=Negative<br>year=%{x}<br>value=%{y}<extra></extra>",
         "legendgroup": "Geomiso",
         "line": {
          "color": "#EF553B",
          "dash": "solid"
         },
         "marker": {
          "symbol": "circle"
         },
         "mode": "lines",
         "name": "Geomiso",
         "showlegend": false,
         "type": "scattergl",
         "x": [
          2017,
          2018,
          2019,
          2020,
          2021,
          2022
         ],
         "xaxis": "x",
         "y": [
          0,
          4,
          0,
          0,
          0,
          0
         ],
         "yaxis": "y"
        },
        {
         "hovertemplate": "company_name=Geomiso<br>variable=Neutral<br>year=%{x}<br>value=%{y}<extra></extra>",
         "legendgroup": "Geomiso",
         "line": {
          "color": "#EF553B",
          "dash": "solid"
         },
         "marker": {
          "symbol": "circle"
         },
         "mode": "lines",
         "name": "Geomiso",
         "showlegend": false,
         "type": "scattergl",
         "x": [
          2017,
          2018,
          2019,
          2020,
          2021,
          2022
         ],
         "xaxis": "x",
         "y": [
          245,
          264,
          75,
          22,
          1,
          3
         ],
         "yaxis": "y"
        },
        {
         "hovertemplate": "company_name=George Voulgaroudis<br>variable=Positive<br>year=%{x}<br>value=%{y}<extra></extra>",
         "legendgroup": "George Voulgaroudis",
         "line": {
          "color": "#00cc96",
          "dash": "solid"
         },
         "marker": {
          "symbol": "circle"
         },
         "mode": "lines",
         "name": "George Voulgaroudis",
         "showlegend": true,
         "type": "scattergl",
         "x": [
          2017,
          2018,
          2019,
          2020,
          2021
         ],
         "xaxis": "x",
         "y": [
          171,
          98,
          58,
          42,
          15
         ],
         "yaxis": "y"
        },
        {
         "hovertemplate": "company_name=George Voulgaroudis<br>variable=Negative<br>year=%{x}<br>value=%{y}<extra></extra>",
         "legendgroup": "George Voulgaroudis",
         "line": {
          "color": "#00cc96",
          "dash": "solid"
         },
         "marker": {
          "symbol": "circle"
         },
         "mode": "lines",
         "name": "George Voulgaroudis",
         "showlegend": false,
         "type": "scattergl",
         "x": [
          2017,
          2018,
          2019,
          2020,
          2021
         ],
         "xaxis": "x",
         "y": [
          41,
          22,
          19,
          8,
          3
         ],
         "yaxis": "y"
        },
        {
         "hovertemplate": "company_name=George Voulgaroudis<br>variable=Neutral<br>year=%{x}<br>value=%{y}<extra></extra>",
         "legendgroup": "George Voulgaroudis",
         "line": {
          "color": "#00cc96",
          "dash": "solid"
         },
         "marker": {
          "symbol": "circle"
         },
         "mode": "lines",
         "name": "George Voulgaroudis",
         "showlegend": false,
         "type": "scattergl",
         "x": [
          2017,
          2018,
          2019,
          2020,
          2021
         ],
         "xaxis": "x",
         "y": [
          208,
          108,
          108,
          56,
          4
         ],
         "yaxis": "y"
        },
        {
         "hovertemplate": "company_name=Gizelis Robotics<br>variable=Positive<br>year=%{x}<br>value=%{y}<extra></extra>",
         "legendgroup": "Gizelis Robotics",
         "line": {
          "color": "#ab63fa",
          "dash": "solid"
         },
         "marker": {
          "symbol": "circle"
         },
         "mode": "lines",
         "name": "Gizelis Robotics",
         "showlegend": true,
         "type": "scattergl",
         "x": [
          2017,
          2018,
          2019,
          2021,
          2022
         ],
         "xaxis": "x",
         "y": [
          5,
          1,
          3,
          2,
          12
         ],
         "yaxis": "y"
        },
        {
         "hovertemplate": "company_name=Gizelis Robotics<br>variable=Negative<br>year=%{x}<br>value=%{y}<extra></extra>",
         "legendgroup": "Gizelis Robotics",
         "line": {
          "color": "#ab63fa",
          "dash": "solid"
         },
         "marker": {
          "symbol": "circle"
         },
         "mode": "lines",
         "name": "Gizelis Robotics",
         "showlegend": false,
         "type": "scattergl",
         "x": [
          2017,
          2018,
          2019,
          2021,
          2022
         ],
         "xaxis": "x",
         "y": [
          2,
          14,
          1,
          1,
          0
         ],
         "yaxis": "y"
        },
        {
         "hovertemplate": "company_name=Gizelis Robotics<br>variable=Neutral<br>year=%{x}<br>value=%{y}<extra></extra>",
         "legendgroup": "Gizelis Robotics",
         "line": {
          "color": "#ab63fa",
          "dash": "solid"
         },
         "marker": {
          "symbol": "circle"
         },
         "mode": "lines",
         "name": "Gizelis Robotics",
         "showlegend": false,
         "type": "scattergl",
         "x": [
          2017,
          2018,
          2019,
          2021,
          2022
         ],
         "xaxis": "x",
         "y": [
          8,
          28,
          6,
          6,
          17
         ],
         "yaxis": "y"
        },
        {
         "hovertemplate": "company_name=Goodfairy<br>variable=Positive<br>year=%{x}<br>value=%{y}<extra></extra>",
         "legendgroup": "Goodfairy",
         "line": {
          "color": "#FFA15A",
          "dash": "solid"
         },
         "marker": {
          "symbol": "circle"
         },
         "mode": "lines",
         "name": "Goodfairy",
         "showlegend": true,
         "type": "scattergl",
         "x": [
          2022,
          2023
         ],
         "xaxis": "x",
         "y": [
          1,
          2
         ],
         "yaxis": "y"
        },
        {
         "hovertemplate": "company_name=Goodfairy<br>variable=Negative<br>year=%{x}<br>value=%{y}<extra></extra>",
         "legendgroup": "Goodfairy",
         "line": {
          "color": "#FFA15A",
          "dash": "solid"
         },
         "marker": {
          "symbol": "circle"
         },
         "mode": "lines",
         "name": "Goodfairy",
         "showlegend": false,
         "type": "scattergl",
         "x": [
          2022,
          2023
         ],
         "xaxis": "x",
         "y": [
          0,
          0
         ],
         "yaxis": "y"
        },
        {
         "hovertemplate": "company_name=Goodfairy<br>variable=Neutral<br>year=%{x}<br>value=%{y}<extra></extra>",
         "legendgroup": "Goodfairy",
         "line": {
          "color": "#FFA15A",
          "dash": "solid"
         },
         "marker": {
          "symbol": "circle"
         },
         "mode": "lines",
         "name": "Goodfairy",
         "showlegend": false,
         "type": "scattergl",
         "x": [
          2022,
          2023
         ],
         "xaxis": "x",
         "y": [
          2,
          25
         ],
         "yaxis": "y"
        },
        {
         "hovertemplate": "company_name=Greeking.me<br>variable=Positive<br>year=%{x}<br>value=%{y}<extra></extra>",
         "legendgroup": "Greeking.me",
         "line": {
          "color": "#19d3f3",
          "dash": "solid"
         },
         "marker": {
          "symbol": "circle"
         },
         "mode": "lines",
         "name": "Greeking.me",
         "showlegend": true,
         "type": "scattergl",
         "x": [
          2017,
          2018,
          2019,
          2020
         ],
         "xaxis": "x",
         "y": [
          39,
          127,
          84,
          15
         ],
         "yaxis": "y"
        },
        {
         "hovertemplate": "company_name=Greeking.me<br>variable=Negative<br>year=%{x}<br>value=%{y}<extra></extra>",
         "legendgroup": "Greeking.me",
         "line": {
          "color": "#19d3f3",
          "dash": "solid"
         },
         "marker": {
          "symbol": "circle"
         },
         "mode": "lines",
         "name": "Greeking.me",
         "showlegend": false,
         "type": "scattergl",
         "x": [
          2017,
          2018,
          2019,
          2020
         ],
         "xaxis": "x",
         "y": [
          0,
          13,
          5,
          1
         ],
         "yaxis": "y"
        },
        {
         "hovertemplate": "company_name=Greeking.me<br>variable=Neutral<br>year=%{x}<br>value=%{y}<extra></extra>",
         "legendgroup": "Greeking.me",
         "line": {
          "color": "#19d3f3",
          "dash": "solid"
         },
         "marker": {
          "symbol": "circle"
         },
         "mode": "lines",
         "name": "Greeking.me",
         "showlegend": false,
         "type": "scattergl",
         "x": [
          2017,
          2018,
          2019,
          2020
         ],
         "xaxis": "x",
         "y": [
          44,
          32,
          9,
          3
         ],
         "yaxis": "y"
        },
        {
         "hovertemplate": "company_name=HERADO Î¤omorrow's Î¤echnology for Î¤oday.<br>variable=Positive<br>year=%{x}<br>value=%{y}<extra></extra>",
         "legendgroup": "HERADO Î¤omorrow's Î¤echnology for Î¤oday.",
         "line": {
          "color": "#FF6692",
          "dash": "solid"
         },
         "marker": {
          "symbol": "circle"
         },
         "mode": "lines",
         "name": "HERADO Î¤omorrow's Î¤echnology for Î¤oday.",
         "showlegend": true,
         "type": "scattergl",
         "x": [
          2021,
          2022
         ],
         "xaxis": "x",
         "y": [
          2,
          1
         ],
         "yaxis": "y"
        },
        {
         "hovertemplate": "company_name=HERADO Î¤omorrow's Î¤echnology for Î¤oday.<br>variable=Negative<br>year=%{x}<br>value=%{y}<extra></extra>",
         "legendgroup": "HERADO Î¤omorrow's Î¤echnology for Î¤oday.",
         "line": {
          "color": "#FF6692",
          "dash": "solid"
         },
         "marker": {
          "symbol": "circle"
         },
         "mode": "lines",
         "name": "HERADO Î¤omorrow's Î¤echnology for Î¤oday.",
         "showlegend": false,
         "type": "scattergl",
         "x": [
          2021,
          2022
         ],
         "xaxis": "x",
         "y": [
          1,
          0
         ],
         "yaxis": "y"
        },
        {
         "hovertemplate": "company_name=HERADO Î¤omorrow's Î¤echnology for Î¤oday.<br>variable=Neutral<br>year=%{x}<br>value=%{y}<extra></extra>",
         "legendgroup": "HERADO Î¤omorrow's Î¤echnology for Î¤oday.",
         "line": {
          "color": "#FF6692",
          "dash": "solid"
         },
         "marker": {
          "symbol": "circle"
         },
         "mode": "lines",
         "name": "HERADO Î¤omorrow's Î¤echnology for Î¤oday.",
         "showlegend": false,
         "type": "scattergl",
         "x": [
          2021,
          2022
         ],
         "xaxis": "x",
         "y": [
          1,
          0
         ],
         "yaxis": "y"
        },
        {
         "hovertemplate": "company_name=HOLISTIC<br>variable=Positive<br>year=%{x}<br>value=%{y}<extra></extra>",
         "legendgroup": "HOLISTIC",
         "line": {
          "color": "#B6E880",
          "dash": "solid"
         },
         "marker": {
          "symbol": "circle"
         },
         "mode": "lines",
         "name": "HOLISTIC",
         "showlegend": true,
         "type": "scattergl",
         "x": [
          2017,
          2018,
          2019,
          2020,
          2021,
          2022,
          2023
         ],
         "xaxis": "x",
         "y": [
          0,
          1,
          0,
          0,
          6,
          7,
          1
         ],
         "yaxis": "y"
        },
        {
         "hovertemplate": "company_name=HOLISTIC<br>variable=Negative<br>year=%{x}<br>value=%{y}<extra></extra>",
         "legendgroup": "HOLISTIC",
         "line": {
          "color": "#B6E880",
          "dash": "solid"
         },
         "marker": {
          "symbol": "circle"
         },
         "mode": "lines",
         "name": "HOLISTIC",
         "showlegend": false,
         "type": "scattergl",
         "x": [
          2017,
          2018,
          2019,
          2020,
          2021,
          2022,
          2023
         ],
         "xaxis": "x",
         "y": [
          0,
          0,
          0,
          0,
          2,
          0,
          0
         ],
         "yaxis": "y"
        },
        {
         "hovertemplate": "company_name=HOLISTIC<br>variable=Neutral<br>year=%{x}<br>value=%{y}<extra></extra>",
         "legendgroup": "HOLISTIC",
         "line": {
          "color": "#B6E880",
          "dash": "solid"
         },
         "marker": {
          "symbol": "circle"
         },
         "mode": "lines",
         "name": "HOLISTIC",
         "showlegend": false,
         "type": "scattergl",
         "x": [
          2017,
          2018,
          2019,
          2020,
          2021,
          2022,
          2023
         ],
         "xaxis": "x",
         "y": [
          1,
          0,
          1,
          1,
          6,
          10,
          0
         ],
         "yaxis": "y"
        },
        {
         "hovertemplate": "company_name=HYGIEIA Scientific Research & Educational Cluster<br>variable=Positive<br>year=%{x}<br>value=%{y}<extra></extra>",
         "legendgroup": "HYGIEIA Scientific Research & Educational Cluster",
         "line": {
          "color": "#FF97FF",
          "dash": "solid"
         },
         "marker": {
          "symbol": "circle"
         },
         "mode": "lines",
         "name": "HYGIEIA Scientific Research & Educational Cluster",
         "showlegend": true,
         "type": "scattergl",
         "x": [
          2019,
          2021,
          2022,
          2023
         ],
         "xaxis": "x",
         "y": [
          0,
          0,
          1,
          5
         ],
         "yaxis": "y"
        },
        {
         "hovertemplate": "company_name=HYGIEIA Scientific Research & Educational Cluster<br>variable=Negative<br>year=%{x}<br>value=%{y}<extra></extra>",
         "legendgroup": "HYGIEIA Scientific Research & Educational Cluster",
         "line": {
          "color": "#FF97FF",
          "dash": "solid"
         },
         "marker": {
          "symbol": "circle"
         },
         "mode": "lines",
         "name": "HYGIEIA Scientific Research & Educational Cluster",
         "showlegend": false,
         "type": "scattergl",
         "x": [
          2019,
          2021,
          2022,
          2023
         ],
         "xaxis": "x",
         "y": [
          0,
          0,
          1,
          0
         ],
         "yaxis": "y"
        },
        {
         "hovertemplate": "company_name=HYGIEIA Scientific Research & Educational Cluster<br>variable=Neutral<br>year=%{x}<br>value=%{y}<extra></extra>",
         "legendgroup": "HYGIEIA Scientific Research & Educational Cluster",
         "line": {
          "color": "#FF97FF",
          "dash": "solid"
         },
         "marker": {
          "symbol": "circle"
         },
         "mode": "lines",
         "name": "HYGIEIA Scientific Research & Educational Cluster",
         "showlegend": false,
         "type": "scattergl",
         "x": [
          2019,
          2021,
          2022,
          2023
         ],
         "xaxis": "x",
         "y": [
          20,
          14,
          1,
          0
         ],
         "yaxis": "y"
        },
        {
         "hovertemplate": "company_name=Hack The Box<br>variable=Positive<br>year=%{x}<br>value=%{y}<extra></extra>",
         "legendgroup": "Hack The Box",
         "line": {
          "color": "#FECB52",
          "dash": "solid"
         },
         "marker": {
          "symbol": "circle"
         },
         "mode": "lines",
         "name": "Hack The Box",
         "showlegend": true,
         "type": "scattergl",
         "x": [
          2017,
          2018,
          2019,
          2020,
          2021,
          2022,
          2023
         ],
         "xaxis": "x",
         "y": [
          57,
          90,
          153,
          376,
          528,
          628,
          158
         ],
         "yaxis": "y"
        },
        {
         "hovertemplate": "company_name=Hack The Box<br>variable=Negative<br>year=%{x}<br>value=%{y}<extra></extra>",
         "legendgroup": "Hack The Box",
         "line": {
          "color": "#FECB52",
          "dash": "solid"
         },
         "marker": {
          "symbol": "circle"
         },
         "mode": "lines",
         "name": "Hack The Box",
         "showlegend": false,
         "type": "scattergl",
         "x": [
          2017,
          2018,
          2019,
          2020,
          2021,
          2022,
          2023
         ],
         "xaxis": "x",
         "y": [
          18,
          16,
          11,
          43,
          51,
          83,
          14
         ],
         "yaxis": "y"
        },
        {
         "hovertemplate": "company_name=Hack The Box<br>variable=Neutral<br>year=%{x}<br>value=%{y}<extra></extra>",
         "legendgroup": "Hack The Box",
         "line": {
          "color": "#FECB52",
          "dash": "solid"
         },
         "marker": {
          "symbol": "circle"
         },
         "mode": "lines",
         "name": "Hack The Box",
         "showlegend": false,
         "type": "scattergl",
         "x": [
          2017,
          2018,
          2019,
          2020,
          2021,
          2022,
          2023
         ],
         "xaxis": "x",
         "y": [
          61,
          64,
          67,
          173,
          534,
          612,
          68
         ],
         "yaxis": "y"
        },
        {
         "hovertemplate": "company_name=Hellenic Drones<br>variable=Positive<br>year=%{x}<br>value=%{y}<extra></extra>",
         "legendgroup": "Hellenic Drones",
         "line": {
          "color": "#636efa",
          "dash": "solid"
         },
         "marker": {
          "symbol": "circle"
         },
         "mode": "lines",
         "name": "Hellenic Drones",
         "showlegend": true,
         "type": "scattergl",
         "x": [
          2017,
          2018,
          2019,
          2020,
          2021
         ],
         "xaxis": "x",
         "y": [
          3,
          1,
          0,
          2,
          0
         ],
         "yaxis": "y"
        },
        {
         "hovertemplate": "company_name=Hellenic Drones<br>variable=Negative<br>year=%{x}<br>value=%{y}<extra></extra>",
         "legendgroup": "Hellenic Drones",
         "line": {
          "color": "#636efa",
          "dash": "solid"
         },
         "marker": {
          "symbol": "circle"
         },
         "mode": "lines",
         "name": "Hellenic Drones",
         "showlegend": false,
         "type": "scattergl",
         "x": [
          2017,
          2018,
          2019,
          2020,
          2021
         ],
         "xaxis": "x",
         "y": [
          1,
          1,
          0,
          0,
          0
         ],
         "yaxis": "y"
        },
        {
         "hovertemplate": "company_name=Hellenic Drones<br>variable=Neutral<br>year=%{x}<br>value=%{y}<extra></extra>",
         "legendgroup": "Hellenic Drones",
         "line": {
          "color": "#636efa",
          "dash": "solid"
         },
         "marker": {
          "symbol": "circle"
         },
         "mode": "lines",
         "name": "Hellenic Drones",
         "showlegend": false,
         "type": "scattergl",
         "x": [
          2017,
          2018,
          2019,
          2020,
          2021
         ],
         "xaxis": "x",
         "y": [
          16,
          6,
          5,
          21,
          8
         ],
         "yaxis": "y"
        },
        {
         "hovertemplate": "company_name=Hidden Tower Studios<br>variable=Positive<br>year=%{x}<br>value=%{y}<extra></extra>",
         "legendgroup": "Hidden Tower Studios",
         "line": {
          "color": "#EF553B",
          "dash": "solid"
         },
         "marker": {
          "symbol": "circle"
         },
         "mode": "lines",
         "name": "Hidden Tower Studios",
         "showlegend": true,
         "type": "scattergl",
         "x": [
          2017,
          2018,
          2019,
          2020,
          2021,
          2022,
          2023
         ],
         "xaxis": "x",
         "y": [
          13,
          0,
          8,
          18,
          72,
          32,
          1
         ],
         "yaxis": "y"
        },
        {
         "hovertemplate": "company_name=Hidden Tower Studios<br>variable=Negative<br>year=%{x}<br>value=%{y}<extra></extra>",
         "legendgroup": "Hidden Tower Studios",
         "line": {
          "color": "#EF553B",
          "dash": "solid"
         },
         "marker": {
          "symbol": "circle"
         },
         "mode": "lines",
         "name": "Hidden Tower Studios",
         "showlegend": false,
         "type": "scattergl",
         "x": [
          2017,
          2018,
          2019,
          2020,
          2021,
          2022,
          2023
         ],
         "xaxis": "x",
         "y": [
          0,
          0,
          2,
          4,
          10,
          4,
          1
         ],
         "yaxis": "y"
        },
        {
         "hovertemplate": "company_name=Hidden Tower Studios<br>variable=Neutral<br>year=%{x}<br>value=%{y}<extra></extra>",
         "legendgroup": "Hidden Tower Studios",
         "line": {
          "color": "#EF553B",
          "dash": "solid"
         },
         "marker": {
          "symbol": "circle"
         },
         "mode": "lines",
         "name": "Hidden Tower Studios",
         "showlegend": false,
         "type": "scattergl",
         "x": [
          2017,
          2018,
          2019,
          2020,
          2021,
          2022,
          2023
         ],
         "xaxis": "x",
         "y": [
          5,
          2,
          13,
          22,
          32,
          19,
          0
         ],
         "yaxis": "y"
        },
        {
         "hovertemplate": "company_name=HomExpression.co.uk<br>variable=Positive<br>year=%{x}<br>value=%{y}<extra></extra>",
         "legendgroup": "HomExpression.co.uk",
         "line": {
          "color": "#00cc96",
          "dash": "solid"
         },
         "marker": {
          "symbol": "circle"
         },
         "mode": "lines",
         "name": "HomExpression.co.uk",
         "showlegend": true,
         "type": "scattergl",
         "x": [
          2021,
          2022
         ],
         "xaxis": "x",
         "y": [
          34,
          22
         ],
         "yaxis": "y"
        },
        {
         "hovertemplate": "company_name=HomExpression.co.uk<br>variable=Negative<br>year=%{x}<br>value=%{y}<extra></extra>",
         "legendgroup": "HomExpression.co.uk",
         "line": {
          "color": "#00cc96",
          "dash": "solid"
         },
         "marker": {
          "symbol": "circle"
         },
         "mode": "lines",
         "name": "HomExpression.co.uk",
         "showlegend": false,
         "type": "scattergl",
         "x": [
          2021,
          2022
         ],
         "xaxis": "x",
         "y": [
          10,
          10
         ],
         "yaxis": "y"
        },
        {
         "hovertemplate": "company_name=HomExpression.co.uk<br>variable=Neutral<br>year=%{x}<br>value=%{y}<extra></extra>",
         "legendgroup": "HomExpression.co.uk",
         "line": {
          "color": "#00cc96",
          "dash": "solid"
         },
         "marker": {
          "symbol": "circle"
         },
         "mode": "lines",
         "name": "HomExpression.co.uk",
         "showlegend": false,
         "type": "scattergl",
         "x": [
          2021,
          2022
         ],
         "xaxis": "x",
         "y": [
          56,
          46
         ],
         "yaxis": "y"
        },
        {
         "hovertemplate": "company_name=Homi<br>variable=Positive<br>year=%{x}<br>value=%{y}<extra></extra>",
         "legendgroup": "Homi",
         "line": {
          "color": "#ab63fa",
          "dash": "solid"
         },
         "marker": {
          "symbol": "circle"
         },
         "mode": "lines",
         "name": "Homi",
         "showlegend": true,
         "type": "scattergl",
         "x": [
          2017,
          2018,
          2019,
          2020
         ],
         "xaxis": "x",
         "y": [
          3,
          0,
          0,
          1
         ],
         "yaxis": "y"
        },
        {
         "hovertemplate": "company_name=Homi<br>variable=Negative<br>year=%{x}<br>value=%{y}<extra></extra>",
         "legendgroup": "Homi",
         "line": {
          "color": "#ab63fa",
          "dash": "solid"
         },
         "marker": {
          "symbol": "circle"
         },
         "mode": "lines",
         "name": "Homi",
         "showlegend": false,
         "type": "scattergl",
         "x": [
          2017,
          2018,
          2019,
          2020
         ],
         "xaxis": "x",
         "y": [
          1,
          1,
          0,
          0
         ],
         "yaxis": "y"
        },
        {
         "hovertemplate": "company_name=Homi<br>variable=Neutral<br>year=%{x}<br>value=%{y}<extra></extra>",
         "legendgroup": "Homi",
         "line": {
          "color": "#ab63fa",
          "dash": "solid"
         },
         "marker": {
          "symbol": "circle"
         },
         "mode": "lines",
         "name": "Homi",
         "showlegend": false,
         "type": "scattergl",
         "x": [
          2017,
          2018,
          2019,
          2020
         ],
         "xaxis": "x",
         "y": [
          2,
          3,
          1,
          0
         ],
         "yaxis": "y"
        },
        {
         "hovertemplate": "company_name=Hosthub<br>variable=Positive<br>year=%{x}<br>value=%{y}<extra></extra>",
         "legendgroup": "Hosthub",
         "line": {
          "color": "#FFA15A",
          "dash": "solid"
         },
         "marker": {
          "symbol": "circle"
         },
         "mode": "lines",
         "name": "Hosthub",
         "showlegend": true,
         "type": "scattergl",
         "x": [
          2017,
          2018,
          2019,
          2020,
          2021,
          2022,
          2023
         ],
         "xaxis": "x",
         "y": [
          1,
          43,
          21,
          23,
          42,
          38,
          15
         ],
         "yaxis": "y"
        },
        {
         "hovertemplate": "company_name=Hosthub<br>variable=Negative<br>year=%{x}<br>value=%{y}<extra></extra>",
         "legendgroup": "Hosthub",
         "line": {
          "color": "#FFA15A",
          "dash": "solid"
         },
         "marker": {
          "symbol": "circle"
         },
         "mode": "lines",
         "name": "Hosthub",
         "showlegend": false,
         "type": "scattergl",
         "x": [
          2017,
          2018,
          2019,
          2020,
          2021,
          2022,
          2023
         ],
         "xaxis": "x",
         "y": [
          0,
          4,
          2,
          6,
          3,
          5,
          4
         ],
         "yaxis": "y"
        },
        {
         "hovertemplate": "company_name=Hosthub<br>variable=Neutral<br>year=%{x}<br>value=%{y}<extra></extra>",
         "legendgroup": "Hosthub",
         "line": {
          "color": "#FFA15A",
          "dash": "solid"
         },
         "marker": {
          "symbol": "circle"
         },
         "mode": "lines",
         "name": "Hosthub",
         "showlegend": false,
         "type": "scattergl",
         "x": [
          2017,
          2018,
          2019,
          2020,
          2021,
          2022,
          2023
         ],
         "xaxis": "x",
         "y": [
          3,
          36,
          20,
          8,
          15,
          6,
          4
         ],
         "yaxis": "y"
        },
        {
         "hovertemplate": "company_name=INEM Technologies P.C.<br>variable=Positive<br>year=%{x}<br>value=%{y}<extra></extra>",
         "legendgroup": "INEM Technologies P.C.",
         "line": {
          "color": "#19d3f3",
          "dash": "solid"
         },
         "marker": {
          "symbol": "circle"
         },
         "mode": "lines",
         "name": "INEM Technologies P.C.",
         "showlegend": true,
         "type": "scattergl",
         "x": [
          2021
         ],
         "xaxis": "x",
         "y": [
          1
         ],
         "yaxis": "y"
        },
        {
         "hovertemplate": "company_name=INEM Technologies P.C.<br>variable=Negative<br>year=%{x}<br>value=%{y}<extra></extra>",
         "legendgroup": "INEM Technologies P.C.",
         "line": {
          "color": "#19d3f3",
          "dash": "solid"
         },
         "marker": {
          "symbol": "circle"
         },
         "mode": "lines",
         "name": "INEM Technologies P.C.",
         "showlegend": false,
         "type": "scattergl",
         "x": [
          2021
         ],
         "xaxis": "x",
         "y": [
          0
         ],
         "yaxis": "y"
        },
        {
         "hovertemplate": "company_name=INEM Technologies P.C.<br>variable=Neutral<br>year=%{x}<br>value=%{y}<extra></extra>",
         "legendgroup": "INEM Technologies P.C.",
         "line": {
          "color": "#19d3f3",
          "dash": "solid"
         },
         "marker": {
          "symbol": "circle"
         },
         "mode": "lines",
         "name": "INEM Technologies P.C.",
         "showlegend": false,
         "type": "scattergl",
         "x": [
          2021
         ],
         "xaxis": "x",
         "y": [
          0
         ],
         "yaxis": "y"
        },
        {
         "hovertemplate": "company_name=Ideas Forward<br>variable=Positive<br>year=%{x}<br>value=%{y}<extra></extra>",
         "legendgroup": "Ideas Forward",
         "line": {
          "color": "#FF6692",
          "dash": "solid"
         },
         "marker": {
          "symbol": "circle"
         },
         "mode": "lines",
         "name": "Ideas Forward",
         "showlegend": true,
         "type": "scattergl",
         "x": [
          2022
         ],
         "xaxis": "x",
         "y": [
          1
         ],
         "yaxis": "y"
        },
        {
         "hovertemplate": "company_name=Ideas Forward<br>variable=Negative<br>year=%{x}<br>value=%{y}<extra></extra>",
         "legendgroup": "Ideas Forward",
         "line": {
          "color": "#FF6692",
          "dash": "solid"
         },
         "marker": {
          "symbol": "circle"
         },
         "mode": "lines",
         "name": "Ideas Forward",
         "showlegend": false,
         "type": "scattergl",
         "x": [
          2022
         ],
         "xaxis": "x",
         "y": [
          0
         ],
         "yaxis": "y"
        },
        {
         "hovertemplate": "company_name=Ideas Forward<br>variable=Neutral<br>year=%{x}<br>value=%{y}<extra></extra>",
         "legendgroup": "Ideas Forward",
         "line": {
          "color": "#FF6692",
          "dash": "solid"
         },
         "marker": {
          "symbol": "circle"
         },
         "mode": "lines",
         "name": "Ideas Forward",
         "showlegend": false,
         "type": "scattergl",
         "x": [
          2022
         ],
         "xaxis": "x",
         "y": [
          1
         ],
         "yaxis": "y"
        },
        {
         "hovertemplate": "company_name=Incotech.gr<br>variable=Positive<br>year=%{x}<br>value=%{y}<extra></extra>",
         "legendgroup": "Incotech.gr",
         "line": {
          "color": "#B6E880",
          "dash": "solid"
         },
         "marker": {
          "symbol": "circle"
         },
         "mode": "lines",
         "name": "Incotech.gr",
         "showlegend": true,
         "type": "scattergl",
         "x": [
          2017,
          2019,
          2020,
          2021
         ],
         "xaxis": "x",
         "y": [
          2,
          0,
          0,
          0
         ],
         "yaxis": "y"
        },
        {
         "hovertemplate": "company_name=Incotech.gr<br>variable=Negative<br>year=%{x}<br>value=%{y}<extra></extra>",
         "legendgroup": "Incotech.gr",
         "line": {
          "color": "#B6E880",
          "dash": "solid"
         },
         "marker": {
          "symbol": "circle"
         },
         "mode": "lines",
         "name": "Incotech.gr",
         "showlegend": false,
         "type": "scattergl",
         "x": [
          2017,
          2019,
          2020,
          2021
         ],
         "xaxis": "x",
         "y": [
          0,
          0,
          0,
          0
         ],
         "yaxis": "y"
        },
        {
         "hovertemplate": "company_name=Incotech.gr<br>variable=Neutral<br>year=%{x}<br>value=%{y}<extra></extra>",
         "legendgroup": "Incotech.gr",
         "line": {
          "color": "#B6E880",
          "dash": "solid"
         },
         "marker": {
          "symbol": "circle"
         },
         "mode": "lines",
         "name": "Incotech.gr",
         "showlegend": false,
         "type": "scattergl",
         "x": [
          2017,
          2019,
          2020,
          2021
         ],
         "xaxis": "x",
         "y": [
          1,
          2,
          1,
          2
         ],
         "yaxis": "y"
        },
        {
         "hovertemplate": "company_name=Instacart<br>variable=Positive<br>year=%{x}<br>value=%{y}<extra></extra>",
         "legendgroup": "Instacart",
         "line": {
          "color": "#FF97FF",
          "dash": "solid"
         },
         "marker": {
          "symbol": "circle"
         },
         "mode": "lines",
         "name": "Instacart",
         "showlegend": true,
         "type": "scattergl",
         "x": [
          2017,
          2018,
          2019,
          2020,
          2021,
          2022,
          2023
         ],
         "xaxis": "x",
         "y": [
          7829,
          4058,
          4188,
          7499,
          24257,
          25417,
          3372
         ],
         "yaxis": "y"
        },
        {
         "hovertemplate": "company_name=Instacart<br>variable=Negative<br>year=%{x}<br>value=%{y}<extra></extra>",
         "legendgroup": "Instacart",
         "line": {
          "color": "#FF97FF",
          "dash": "solid"
         },
         "marker": {
          "symbol": "circle"
         },
         "mode": "lines",
         "name": "Instacart",
         "showlegend": false,
         "type": "scattergl",
         "x": [
          2017,
          2018,
          2019,
          2020,
          2021,
          2022,
          2023
         ],
         "xaxis": "x",
         "y": [
          1700,
          1838,
          1009,
          741,
          1444,
          1731,
          194
         ],
         "yaxis": "y"
        },
        {
         "hovertemplate": "company_name=Instacart<br>variable=Neutral<br>year=%{x}<br>value=%{y}<extra></extra>",
         "legendgroup": "Instacart",
         "line": {
          "color": "#FF97FF",
          "dash": "solid"
         },
         "marker": {
          "symbol": "circle"
         },
         "mode": "lines",
         "name": "Instacart",
         "showlegend": false,
         "type": "scattergl",
         "x": [
          2017,
          2018,
          2019,
          2020,
          2021,
          2022,
          2023
         ],
         "xaxis": "x",
         "y": [
          1944,
          1502,
          1563,
          2809,
          15095,
          16071,
          2127
         ],
         "yaxis": "y"
        },
        {
         "hovertemplate": "company_name=Intelistyle<br>variable=Positive<br>year=%{x}<br>value=%{y}<extra></extra>",
         "legendgroup": "Intelistyle",
         "line": {
          "color": "#FECB52",
          "dash": "solid"
         },
         "marker": {
          "symbol": "circle"
         },
         "mode": "lines",
         "name": "Intelistyle",
         "showlegend": true,
         "type": "scattergl",
         "x": [
          2017,
          2018,
          2019,
          2020,
          2022,
          2023
         ],
         "xaxis": "x",
         "y": [
          23,
          82,
          13,
          9,
          4,
          5
         ],
         "yaxis": "y"
        },
        {
         "hovertemplate": "company_name=Intelistyle<br>variable=Negative<br>year=%{x}<br>value=%{y}<extra></extra>",
         "legendgroup": "Intelistyle",
         "line": {
          "color": "#FECB52",
          "dash": "solid"
         },
         "marker": {
          "symbol": "circle"
         },
         "mode": "lines",
         "name": "Intelistyle",
         "showlegend": false,
         "type": "scattergl",
         "x": [
          2017,
          2018,
          2019,
          2020,
          2022,
          2023
         ],
         "xaxis": "x",
         "y": [
          5,
          14,
          0,
          1,
          0,
          0
         ],
         "yaxis": "y"
        },
        {
         "hovertemplate": "company_name=Intelistyle<br>variable=Neutral<br>year=%{x}<br>value=%{y}<extra></extra>",
         "legendgroup": "Intelistyle",
         "line": {
          "color": "#FECB52",
          "dash": "solid"
         },
         "marker": {
          "symbol": "circle"
         },
         "mode": "lines",
         "name": "Intelistyle",
         "showlegend": false,
         "type": "scattergl",
         "x": [
          2017,
          2018,
          2019,
          2020,
          2022,
          2023
         ],
         "xaxis": "x",
         "y": [
          12,
          29,
          9,
          1,
          1,
          0
         ],
         "yaxis": "y"
        },
        {
         "hovertemplate": "company_name=Intelligencia Co<br>variable=Positive<br>year=%{x}<br>value=%{y}<extra></extra>",
         "legendgroup": "Intelligencia Co",
         "line": {
          "color": "#636efa",
          "dash": "solid"
         },
         "marker": {
          "symbol": "circle"
         },
         "mode": "lines",
         "name": "Intelligencia Co",
         "showlegend": true,
         "type": "scattergl",
         "x": [
          2018,
          2019,
          2020,
          2022
         ],
         "xaxis": "x",
         "y": [
          4,
          1,
          5,
          1
         ],
         "yaxis": "y"
        },
        {
         "hovertemplate": "company_name=Intelligencia Co<br>variable=Negative<br>year=%{x}<br>value=%{y}<extra></extra>",
         "legendgroup": "Intelligencia Co",
         "line": {
          "color": "#636efa",
          "dash": "solid"
         },
         "marker": {
          "symbol": "circle"
         },
         "mode": "lines",
         "name": "Intelligencia Co",
         "showlegend": false,
         "type": "scattergl",
         "x": [
          2018,
          2019,
          2020,
          2022
         ],
         "xaxis": "x",
         "y": [
          1,
          0,
          1,
          2
         ],
         "yaxis": "y"
        },
        {
         "hovertemplate": "company_name=Intelligencia Co<br>variable=Neutral<br>year=%{x}<br>value=%{y}<extra></extra>",
         "legendgroup": "Intelligencia Co",
         "line": {
          "color": "#636efa",
          "dash": "solid"
         },
         "marker": {
          "symbol": "circle"
         },
         "mode": "lines",
         "name": "Intelligencia Co",
         "showlegend": false,
         "type": "scattergl",
         "x": [
          2018,
          2019,
          2020,
          2022
         ],
         "xaxis": "x",
         "y": [
          4,
          3,
          8,
          4
         ],
         "yaxis": "y"
        },
        {
         "hovertemplate": "company_name=Intoolab<br>variable=Positive<br>year=%{x}<br>value=%{y}<extra></extra>",
         "legendgroup": "Intoolab",
         "line": {
          "color": "#EF553B",
          "dash": "solid"
         },
         "marker": {
          "symbol": "circle"
         },
         "mode": "lines",
         "name": "Intoolab",
         "showlegend": true,
         "type": "scattergl",
         "x": [
          2017,
          2018,
          2019,
          2020,
          2021,
          2022
         ],
         "xaxis": "x",
         "y": [
          11,
          16,
          4,
          5,
          11,
          4
         ],
         "yaxis": "y"
        },
        {
         "hovertemplate": "company_name=Intoolab<br>variable=Negative<br>year=%{x}<br>value=%{y}<extra></extra>",
         "legendgroup": "Intoolab",
         "line": {
          "color": "#EF553B",
          "dash": "solid"
         },
         "marker": {
          "symbol": "circle"
         },
         "mode": "lines",
         "name": "Intoolab",
         "showlegend": false,
         "type": "scattergl",
         "x": [
          2017,
          2018,
          2019,
          2020,
          2021,
          2022
         ],
         "xaxis": "x",
         "y": [
          1,
          6,
          2,
          1,
          2,
          1
         ],
         "yaxis": "y"
        },
        {
         "hovertemplate": "company_name=Intoolab<br>variable=Neutral<br>year=%{x}<br>value=%{y}<extra></extra>",
         "legendgroup": "Intoolab",
         "line": {
          "color": "#EF553B",
          "dash": "solid"
         },
         "marker": {
          "symbol": "circle"
         },
         "mode": "lines",
         "name": "Intoolab",
         "showlegend": false,
         "type": "scattergl",
         "x": [
          2017,
          2018,
          2019,
          2020,
          2021,
          2022
         ],
         "xaxis": "x",
         "y": [
          24,
          19,
          1,
          3,
          3,
          1
         ],
         "yaxis": "y"
        },
        {
         "hovertemplate": "company_name=JADBio<br>variable=Positive<br>year=%{x}<br>value=%{y}<extra></extra>",
         "legendgroup": "JADBio",
         "line": {
          "color": "#00cc96",
          "dash": "solid"
         },
         "marker": {
          "symbol": "circle"
         },
         "mode": "lines",
         "name": "JADBio",
         "showlegend": true,
         "type": "scattergl",
         "x": [
          2020,
          2021,
          2022,
          2023
         ],
         "xaxis": "x",
         "y": [
          107,
          347,
          302,
          104
         ],
         "yaxis": "y"
        },
        {
         "hovertemplate": "company_name=JADBio<br>variable=Negative<br>year=%{x}<br>value=%{y}<extra></extra>",
         "legendgroup": "JADBio",
         "line": {
          "color": "#00cc96",
          "dash": "solid"
         },
         "marker": {
          "symbol": "circle"
         },
         "mode": "lines",
         "name": "JADBio",
         "showlegend": false,
         "type": "scattergl",
         "x": [
          2020,
          2021,
          2022,
          2023
         ],
         "xaxis": "x",
         "y": [
          14,
          32,
          27,
          4
         ],
         "yaxis": "y"
        },
        {
         "hovertemplate": "company_name=JADBio<br>variable=Neutral<br>year=%{x}<br>value=%{y}<extra></extra>",
         "legendgroup": "JADBio",
         "line": {
          "color": "#00cc96",
          "dash": "solid"
         },
         "marker": {
          "symbol": "circle"
         },
         "mode": "lines",
         "name": "JADBio",
         "showlegend": false,
         "type": "scattergl",
         "x": [
          2020,
          2021,
          2022,
          2023
         ],
         "xaxis": "x",
         "y": [
          32,
          196,
          207,
          45
         ],
         "yaxis": "y"
        },
        {
         "hovertemplate": "company_name=Kiklo.eu<br>variable=Positive<br>year=%{x}<br>value=%{y}<extra></extra>",
         "legendgroup": "Kiklo.eu",
         "line": {
          "color": "#ab63fa",
          "dash": "solid"
         },
         "marker": {
          "symbol": "circle"
         },
         "mode": "lines",
         "name": "Kiklo.eu",
         "showlegend": true,
         "type": "scattergl",
         "x": [
          2023
         ],
         "xaxis": "x",
         "y": [
          1
         ],
         "yaxis": "y"
        },
        {
         "hovertemplate": "company_name=Kiklo.eu<br>variable=Negative<br>year=%{x}<br>value=%{y}<extra></extra>",
         "legendgroup": "Kiklo.eu",
         "line": {
          "color": "#ab63fa",
          "dash": "solid"
         },
         "marker": {
          "symbol": "circle"
         },
         "mode": "lines",
         "name": "Kiklo.eu",
         "showlegend": false,
         "type": "scattergl",
         "x": [
          2023
         ],
         "xaxis": "x",
         "y": [
          0
         ],
         "yaxis": "y"
        },
        {
         "hovertemplate": "company_name=Kiklo.eu<br>variable=Neutral<br>year=%{x}<br>value=%{y}<extra></extra>",
         "legendgroup": "Kiklo.eu",
         "line": {
          "color": "#ab63fa",
          "dash": "solid"
         },
         "marker": {
          "symbol": "circle"
         },
         "mode": "lines",
         "name": "Kiklo.eu",
         "showlegend": false,
         "type": "scattergl",
         "x": [
          2023
         ],
         "xaxis": "x",
         "y": [
          0
         ],
         "yaxis": "y"
        },
        {
         "hovertemplate": "company_name=Kineo<br>variable=Positive<br>year=%{x}<br>value=%{y}<extra></extra>",
         "legendgroup": "Kineo",
         "line": {
          "color": "#FFA15A",
          "dash": "solid"
         },
         "marker": {
          "symbol": "circle"
         },
         "mode": "lines",
         "name": "Kineo",
         "showlegend": true,
         "type": "scattergl",
         "x": [
          2021,
          2022,
          2023
         ],
         "xaxis": "x",
         "y": [
          18,
          3,
          1
         ],
         "yaxis": "y"
        },
        {
         "hovertemplate": "company_name=Kineo<br>variable=Negative<br>year=%{x}<br>value=%{y}<extra></extra>",
         "legendgroup": "Kineo",
         "line": {
          "color": "#FFA15A",
          "dash": "solid"
         },
         "marker": {
          "symbol": "circle"
         },
         "mode": "lines",
         "name": "Kineo",
         "showlegend": false,
         "type": "scattergl",
         "x": [
          2021,
          2022,
          2023
         ],
         "xaxis": "x",
         "y": [
          3,
          1,
          0
         ],
         "yaxis": "y"
        },
        {
         "hovertemplate": "company_name=Kineo<br>variable=Neutral<br>year=%{x}<br>value=%{y}<extra></extra>",
         "legendgroup": "Kineo",
         "line": {
          "color": "#FFA15A",
          "dash": "solid"
         },
         "marker": {
          "symbol": "circle"
         },
         "mode": "lines",
         "name": "Kineo",
         "showlegend": false,
         "type": "scattergl",
         "x": [
          2021,
          2022,
          2023
         ],
         "xaxis": "x",
         "y": [
          61,
          36,
          5
         ],
         "yaxis": "y"
        },
        {
         "hovertemplate": "company_name=Kivo Skiathos Collection<br>variable=Positive<br>year=%{x}<br>value=%{y}<extra></extra>",
         "legendgroup": "Kivo Skiathos Collection",
         "line": {
          "color": "#19d3f3",
          "dash": "solid"
         },
         "marker": {
          "symbol": "circle"
         },
         "mode": "lines",
         "name": "Kivo Skiathos Collection",
         "showlegend": true,
         "type": "scattergl",
         "x": [
          2017
         ],
         "xaxis": "x",
         "y": [
          0
         ],
         "yaxis": "y"
        },
        {
         "hovertemplate": "company_name=Kivo Skiathos Collection<br>variable=Negative<br>year=%{x}<br>value=%{y}<extra></extra>",
         "legendgroup": "Kivo Skiathos Collection",
         "line": {
          "color": "#19d3f3",
          "dash": "solid"
         },
         "marker": {
          "symbol": "circle"
         },
         "mode": "lines",
         "name": "Kivo Skiathos Collection",
         "showlegend": false,
         "type": "scattergl",
         "x": [
          2017
         ],
         "xaxis": "x",
         "y": [
          0
         ],
         "yaxis": "y"
        },
        {
         "hovertemplate": "company_name=Kivo Skiathos Collection<br>variable=Neutral<br>year=%{x}<br>value=%{y}<extra></extra>",
         "legendgroup": "Kivo Skiathos Collection",
         "line": {
          "color": "#19d3f3",
          "dash": "solid"
         },
         "marker": {
          "symbol": "circle"
         },
         "mode": "lines",
         "name": "Kivo Skiathos Collection",
         "showlegend": false,
         "type": "scattergl",
         "x": [
          2017
         ],
         "xaxis": "x",
         "y": [
          1
         ],
         "yaxis": "y"
        },
        {
         "hovertemplate": "company_name=LIBRA AI Technologies<br>variable=Positive<br>year=%{x}<br>value=%{y}<extra></extra>",
         "legendgroup": "LIBRA AI Technologies",
         "line": {
          "color": "#FF6692",
          "dash": "solid"
         },
         "marker": {
          "symbol": "circle"
         },
         "mode": "lines",
         "name": "LIBRA AI Technologies",
         "showlegend": true,
         "type": "scattergl",
         "x": [
          2021,
          2022,
          2023
         ],
         "xaxis": "x",
         "y": [
          22,
          23,
          5
         ],
         "yaxis": "y"
        },
        {
         "hovertemplate": "company_name=LIBRA AI Technologies<br>variable=Negative<br>year=%{x}<br>value=%{y}<extra></extra>",
         "legendgroup": "LIBRA AI Technologies",
         "line": {
          "color": "#FF6692",
          "dash": "solid"
         },
         "marker": {
          "symbol": "circle"
         },
         "mode": "lines",
         "name": "LIBRA AI Technologies",
         "showlegend": false,
         "type": "scattergl",
         "x": [
          2021,
          2022,
          2023
         ],
         "xaxis": "x",
         "y": [
          5,
          1,
          0
         ],
         "yaxis": "y"
        },
        {
         "hovertemplate": "company_name=LIBRA AI Technologies<br>variable=Neutral<br>year=%{x}<br>value=%{y}<extra></extra>",
         "legendgroup": "LIBRA AI Technologies",
         "line": {
          "color": "#FF6692",
          "dash": "solid"
         },
         "marker": {
          "symbol": "circle"
         },
         "mode": "lines",
         "name": "LIBRA AI Technologies",
         "showlegend": false,
         "type": "scattergl",
         "x": [
          2021,
          2022,
          2023
         ],
         "xaxis": "x",
         "y": [
          7,
          11,
          4
         ],
         "yaxis": "y"
        },
        {
         "hovertemplate": "company_name=LearnWorlds<br>variable=Positive<br>year=%{x}<br>value=%{y}<extra></extra>",
         "legendgroup": "LearnWorlds",
         "line": {
          "color": "#B6E880",
          "dash": "solid"
         },
         "marker": {
          "symbol": "circle"
         },
         "mode": "lines",
         "name": "LearnWorlds",
         "showlegend": true,
         "type": "scattergl",
         "x": [
          2017,
          2018,
          2019,
          2020,
          2021,
          2022,
          2023
         ],
         "xaxis": "x",
         "y": [
          365,
          339,
          354,
          312,
          441,
          1228,
          216
         ],
         "yaxis": "y"
        },
        {
         "hovertemplate": "company_name=LearnWorlds<br>variable=Negative<br>year=%{x}<br>value=%{y}<extra></extra>",
         "legendgroup": "LearnWorlds",
         "line": {
          "color": "#B6E880",
          "dash": "solid"
         },
         "marker": {
          "symbol": "circle"
         },
         "mode": "lines",
         "name": "LearnWorlds",
         "showlegend": false,
         "type": "scattergl",
         "x": [
          2017,
          2018,
          2019,
          2020,
          2021,
          2022,
          2023
         ],
         "xaxis": "x",
         "y": [
          32,
          12,
          24,
          32,
          40,
          117,
          19
         ],
         "yaxis": "y"
        },
        {
         "hovertemplate": "company_name=LearnWorlds<br>variable=Neutral<br>year=%{x}<br>value=%{y}<extra></extra>",
         "legendgroup": "LearnWorlds",
         "line": {
          "color": "#B6E880",
          "dash": "solid"
         },
         "marker": {
          "symbol": "circle"
         },
         "mode": "lines",
         "name": "LearnWorlds",
         "showlegend": false,
         "type": "scattergl",
         "x": [
          2017,
          2018,
          2019,
          2020,
          2021,
          2022,
          2023
         ],
         "xaxis": "x",
         "y": [
          395,
          270,
          211,
          106,
          82,
          276,
          156
         ],
         "yaxis": "y"
        },
        {
         "hovertemplate": "company_name=Lenses.io<br>variable=Positive<br>year=%{x}<br>value=%{y}<extra></extra>",
         "legendgroup": "Lenses.io",
         "line": {
          "color": "#FF97FF",
          "dash": "solid"
         },
         "marker": {
          "symbol": "circle"
         },
         "mode": "lines",
         "name": "Lenses.io",
         "showlegend": true,
         "type": "scattergl",
         "x": [
          2017,
          2018,
          2019,
          2020,
          2021,
          2022,
          2023
         ],
         "xaxis": "x",
         "y": [
          15,
          102,
          88,
          147,
          191,
          6,
          1
         ],
         "yaxis": "y"
        },
        {
         "hovertemplate": "company_name=Lenses.io<br>variable=Negative<br>year=%{x}<br>value=%{y}<extra></extra>",
         "legendgroup": "Lenses.io",
         "line": {
          "color": "#FF97FF",
          "dash": "solid"
         },
         "marker": {
          "symbol": "circle"
         },
         "mode": "lines",
         "name": "Lenses.io",
         "showlegend": false,
         "type": "scattergl",
         "x": [
          2017,
          2018,
          2019,
          2020,
          2021,
          2022,
          2023
         ],
         "xaxis": "x",
         "y": [
          0,
          13,
          5,
          28,
          20,
          0,
          0
         ],
         "yaxis": "y"
        },
        {
         "hovertemplate": "company_name=Lenses.io<br>variable=Neutral<br>year=%{x}<br>value=%{y}<extra></extra>",
         "legendgroup": "Lenses.io",
         "line": {
          "color": "#FF97FF",
          "dash": "solid"
         },
         "marker": {
          "symbol": "circle"
         },
         "mode": "lines",
         "name": "Lenses.io",
         "showlegend": false,
         "type": "scattergl",
         "x": [
          2017,
          2018,
          2019,
          2020,
          2021,
          2022,
          2023
         ],
         "xaxis": "x",
         "y": [
          10,
          64,
          39,
          70,
          72,
          3,
          0
         ],
         "yaxis": "y"
        },
        {
         "hovertemplate": "company_name=LingoGalaxy<br>variable=Positive<br>year=%{x}<br>value=%{y}<extra></extra>",
         "legendgroup": "LingoGalaxy",
         "line": {
          "color": "#FECB52",
          "dash": "solid"
         },
         "marker": {
          "symbol": "circle"
         },
         "mode": "lines",
         "name": "LingoGalaxy",
         "showlegend": true,
         "type": "scattergl",
         "x": [
          2020,
          2021,
          2022,
          2023
         ],
         "xaxis": "x",
         "y": [
          18,
          7,
          38,
          8
         ],
         "yaxis": "y"
        },
        {
         "hovertemplate": "company_name=LingoGalaxy<br>variable=Negative<br>year=%{x}<br>value=%{y}<extra></extra>",
         "legendgroup": "LingoGalaxy",
         "line": {
          "color": "#FECB52",
          "dash": "solid"
         },
         "marker": {
          "symbol": "circle"
         },
         "mode": "lines",
         "name": "LingoGalaxy",
         "showlegend": false,
         "type": "scattergl",
         "x": [
          2020,
          2021,
          2022,
          2023
         ],
         "xaxis": "x",
         "y": [
          1,
          0,
          2,
          0
         ],
         "yaxis": "y"
        },
        {
         "hovertemplate": "company_name=LingoGalaxy<br>variable=Neutral<br>year=%{x}<br>value=%{y}<extra></extra>",
         "legendgroup": "LingoGalaxy",
         "line": {
          "color": "#FECB52",
          "dash": "solid"
         },
         "marker": {
          "symbol": "circle"
         },
         "mode": "lines",
         "name": "LingoGalaxy",
         "showlegend": false,
         "type": "scattergl",
         "x": [
          2020,
          2021,
          2022,
          2023
         ],
         "xaxis": "x",
         "y": [
          1,
          0,
          12,
          0
         ],
         "yaxis": "y"
        },
        {
         "hovertemplate": "company_name=Linked<br>variable=Positive<br>year=%{x}<br>value=%{y}<extra></extra>",
         "legendgroup": "Linked",
         "line": {
          "color": "#636efa",
          "dash": "solid"
         },
         "marker": {
          "symbol": "circle"
         },
         "mode": "lines",
         "name": "Linked",
         "showlegend": true,
         "type": "scattergl",
         "x": [
          2019,
          2020,
          2021,
          2022,
          2023
         ],
         "xaxis": "x",
         "y": [
          0,
          8,
          0,
          0,
          0
         ],
         "yaxis": "y"
        },
        {
         "hovertemplate": "company_name=Linked<br>variable=Negative<br>year=%{x}<br>value=%{y}<extra></extra>",
         "legendgroup": "Linked",
         "line": {
          "color": "#636efa",
          "dash": "solid"
         },
         "marker": {
          "symbol": "circle"
         },
         "mode": "lines",
         "name": "Linked",
         "showlegend": false,
         "type": "scattergl",
         "x": [
          2019,
          2020,
          2021,
          2022,
          2023
         ],
         "xaxis": "x",
         "y": [
          0,
          2,
          0,
          0,
          0
         ],
         "yaxis": "y"
        },
        {
         "hovertemplate": "company_name=Linked<br>variable=Neutral<br>year=%{x}<br>value=%{y}<extra></extra>",
         "legendgroup": "Linked",
         "line": {
          "color": "#636efa",
          "dash": "solid"
         },
         "marker": {
          "symbol": "circle"
         },
         "mode": "lines",
         "name": "Linked",
         "showlegend": false,
         "type": "scattergl",
         "x": [
          2019,
          2020,
          2021,
          2022,
          2023
         ],
         "xaxis": "x",
         "y": [
          1,
          5,
          1,
          2,
          1
         ],
         "yaxis": "y"
        },
        {
         "hovertemplate": "company_name=Linked Business<br>variable=Positive<br>year=%{x}<br>value=%{y}<extra></extra>",
         "legendgroup": "Linked Business",
         "line": {
          "color": "#EF553B",
          "dash": "solid"
         },
         "marker": {
          "symbol": "circle"
         },
         "mode": "lines",
         "name": "Linked Business",
         "showlegend": true,
         "type": "scattergl",
         "x": [
          2018,
          2019,
          2020,
          2021,
          2022
         ],
         "xaxis": "x",
         "y": [
          0,
          13,
          27,
          14,
          1
         ],
         "yaxis": "y"
        },
        {
         "hovertemplate": "company_name=Linked Business<br>variable=Negative<br>year=%{x}<br>value=%{y}<extra></extra>",
         "legendgroup": "Linked Business",
         "line": {
          "color": "#EF553B",
          "dash": "solid"
         },
         "marker": {
          "symbol": "circle"
         },
         "mode": "lines",
         "name": "Linked Business",
         "showlegend": false,
         "type": "scattergl",
         "x": [
          2018,
          2019,
          2020,
          2021,
          2022
         ],
         "xaxis": "x",
         "y": [
          0,
          4,
          2,
          0,
          0
         ],
         "yaxis": "y"
        },
        {
         "hovertemplate": "company_name=Linked Business<br>variable=Neutral<br>year=%{x}<br>value=%{y}<extra></extra>",
         "legendgroup": "Linked Business",
         "line": {
          "color": "#EF553B",
          "dash": "solid"
         },
         "marker": {
          "symbol": "circle"
         },
         "mode": "lines",
         "name": "Linked Business",
         "showlegend": false,
         "type": "scattergl",
         "x": [
          2018,
          2019,
          2020,
          2021,
          2022
         ],
         "xaxis": "x",
         "y": [
          1,
          100,
          217,
          103,
          23
         ],
         "yaxis": "y"
        },
        {
         "hovertemplate": "company_name=Loctio<br>variable=Positive<br>year=%{x}<br>value=%{y}<extra></extra>",
         "legendgroup": "Loctio",
         "line": {
          "color": "#00cc96",
          "dash": "solid"
         },
         "marker": {
          "symbol": "circle"
         },
         "mode": "lines",
         "name": "Loctio",
         "showlegend": true,
         "type": "scattergl",
         "x": [
          2020,
          2021
         ],
         "xaxis": "x",
         "y": [
          0,
          0
         ],
         "yaxis": "y"
        },
        {
         "hovertemplate": "company_name=Loctio<br>variable=Negative<br>year=%{x}<br>value=%{y}<extra></extra>",
         "legendgroup": "Loctio",
         "line": {
          "color": "#00cc96",
          "dash": "solid"
         },
         "marker": {
          "symbol": "circle"
         },
         "mode": "lines",
         "name": "Loctio",
         "showlegend": false,
         "type": "scattergl",
         "x": [
          2020,
          2021
         ],
         "xaxis": "x",
         "y": [
          0,
          0
         ],
         "yaxis": "y"
        },
        {
         "hovertemplate": "company_name=Loctio<br>variable=Neutral<br>year=%{x}<br>value=%{y}<extra></extra>",
         "legendgroup": "Loctio",
         "line": {
          "color": "#00cc96",
          "dash": "solid"
         },
         "marker": {
          "symbol": "circle"
         },
         "mode": "lines",
         "name": "Loctio",
         "showlegend": false,
         "type": "scattergl",
         "x": [
          2020,
          2021
         ],
         "xaxis": "x",
         "y": [
          2,
          1
         ],
         "yaxis": "y"
        },
        {
         "hovertemplate": "company_name=Lost Atlantis Experience<br>variable=Positive<br>year=%{x}<br>value=%{y}<extra></extra>",
         "legendgroup": "Lost Atlantis Experience",
         "line": {
          "color": "#ab63fa",
          "dash": "solid"
         },
         "marker": {
          "symbol": "circle"
         },
         "mode": "lines",
         "name": "Lost Atlantis Experience",
         "showlegend": true,
         "type": "scattergl",
         "x": [
          2019
         ],
         "xaxis": "x",
         "y": [
          8
         ],
         "yaxis": "y"
        },
        {
         "hovertemplate": "company_name=Lost Atlantis Experience<br>variable=Negative<br>year=%{x}<br>value=%{y}<extra></extra>",
         "legendgroup": "Lost Atlantis Experience",
         "line": {
          "color": "#ab63fa",
          "dash": "solid"
         },
         "marker": {
          "symbol": "circle"
         },
         "mode": "lines",
         "name": "Lost Atlantis Experience",
         "showlegend": false,
         "type": "scattergl",
         "x": [
          2019
         ],
         "xaxis": "x",
         "y": [
          1
         ],
         "yaxis": "y"
        },
        {
         "hovertemplate": "company_name=Lost Atlantis Experience<br>variable=Neutral<br>year=%{x}<br>value=%{y}<extra></extra>",
         "legendgroup": "Lost Atlantis Experience",
         "line": {
          "color": "#ab63fa",
          "dash": "solid"
         },
         "marker": {
          "symbol": "circle"
         },
         "mode": "lines",
         "name": "Lost Atlantis Experience",
         "showlegend": false,
         "type": "scattergl",
         "x": [
          2019
         ],
         "xaxis": "x",
         "y": [
          3
         ],
         "yaxis": "y"
        },
        {
         "hovertemplate": "company_name=MAGOS<br>variable=Positive<br>year=%{x}<br>value=%{y}<extra></extra>",
         "legendgroup": "MAGOS",
         "line": {
          "color": "#FFA15A",
          "dash": "solid"
         },
         "marker": {
          "symbol": "circle"
         },
         "mode": "lines",
         "name": "MAGOS",
         "showlegend": true,
         "type": "scattergl",
         "x": [
          2020,
          2021,
          2022
         ],
         "xaxis": "x",
         "y": [
          14,
          2,
          1
         ],
         "yaxis": "y"
        },
        {
         "hovertemplate": "company_name=MAGOS<br>variable=Negative<br>year=%{x}<br>value=%{y}<extra></extra>",
         "legendgroup": "MAGOS",
         "line": {
          "color": "#FFA15A",
          "dash": "solid"
         },
         "marker": {
          "symbol": "circle"
         },
         "mode": "lines",
         "name": "MAGOS",
         "showlegend": false,
         "type": "scattergl",
         "x": [
          2020,
          2021,
          2022
         ],
         "xaxis": "x",
         "y": [
          0,
          0,
          0
         ],
         "yaxis": "y"
        },
        {
         "hovertemplate": "company_name=MAGOS<br>variable=Neutral<br>year=%{x}<br>value=%{y}<extra></extra>",
         "legendgroup": "MAGOS",
         "line": {
          "color": "#FFA15A",
          "dash": "solid"
         },
         "marker": {
          "symbol": "circle"
         },
         "mode": "lines",
         "name": "MAGOS",
         "showlegend": false,
         "type": "scattergl",
         "x": [
          2020,
          2021,
          2022
         ],
         "xaxis": "x",
         "y": [
          4,
          3,
          0
         ],
         "yaxis": "y"
        },
        {
         "hovertemplate": "company_name=MDIT<br>variable=Positive<br>year=%{x}<br>value=%{y}<extra></extra>",
         "legendgroup": "MDIT",
         "line": {
          "color": "#19d3f3",
          "dash": "solid"
         },
         "marker": {
          "symbol": "circle"
         },
         "mode": "lines",
         "name": "MDIT",
         "showlegend": true,
         "type": "scattergl",
         "x": [
          2021,
          2022,
          2023
         ],
         "xaxis": "x",
         "y": [
          1,
          10,
          1
         ],
         "yaxis": "y"
        },
        {
         "hovertemplate": "company_name=MDIT<br>variable=Negative<br>year=%{x}<br>value=%{y}<extra></extra>",
         "legendgroup": "MDIT",
         "line": {
          "color": "#19d3f3",
          "dash": "solid"
         },
         "marker": {
          "symbol": "circle"
         },
         "mode": "lines",
         "name": "MDIT",
         "showlegend": false,
         "type": "scattergl",
         "x": [
          2021,
          2022,
          2023
         ],
         "xaxis": "x",
         "y": [
          0,
          0,
          0
         ],
         "yaxis": "y"
        },
        {
         "hovertemplate": "company_name=MDIT<br>variable=Neutral<br>year=%{x}<br>value=%{y}<extra></extra>",
         "legendgroup": "MDIT",
         "line": {
          "color": "#19d3f3",
          "dash": "solid"
         },
         "marker": {
          "symbol": "circle"
         },
         "mode": "lines",
         "name": "MDIT",
         "showlegend": false,
         "type": "scattergl",
         "x": [
          2021,
          2022,
          2023
         ],
         "xaxis": "x",
         "y": [
          1,
          8,
          2
         ],
         "yaxis": "y"
        },
        {
         "hovertemplate": "company_name=METIS Cyberspace Technology<br>variable=Positive<br>year=%{x}<br>value=%{y}<extra></extra>",
         "legendgroup": "METIS Cyberspace Technology",
         "line": {
          "color": "#FF6692",
          "dash": "solid"
         },
         "marker": {
          "symbol": "circle"
         },
         "mode": "lines",
         "name": "METIS Cyberspace Technology",
         "showlegend": true,
         "type": "scattergl",
         "x": [
          2017,
          2018,
          2019,
          2020,
          2021,
          2022,
          2023
         ],
         "xaxis": "x",
         "y": [
          14,
          9,
          34,
          42,
          51,
          25,
          21
         ],
         "yaxis": "y"
        },
        {
         "hovertemplate": "company_name=METIS Cyberspace Technology<br>variable=Negative<br>year=%{x}<br>value=%{y}<extra></extra>",
         "legendgroup": "METIS Cyberspace Technology",
         "line": {
          "color": "#FF6692",
          "dash": "solid"
         },
         "marker": {
          "symbol": "circle"
         },
         "mode": "lines",
         "name": "METIS Cyberspace Technology",
         "showlegend": false,
         "type": "scattergl",
         "x": [
          2017,
          2018,
          2019,
          2020,
          2021,
          2022,
          2023
         ],
         "xaxis": "x",
         "y": [
          3,
          2,
          3,
          7,
          8,
          2,
          0
         ],
         "yaxis": "y"
        },
        {
         "hovertemplate": "company_name=METIS Cyberspace Technology<br>variable=Neutral<br>year=%{x}<br>value=%{y}<extra></extra>",
         "legendgroup": "METIS Cyberspace Technology",
         "line": {
          "color": "#FF6692",
          "dash": "solid"
         },
         "marker": {
          "symbol": "circle"
         },
         "mode": "lines",
         "name": "METIS Cyberspace Technology",
         "showlegend": false,
         "type": "scattergl",
         "x": [
          2017,
          2018,
          2019,
          2020,
          2021,
          2022,
          2023
         ],
         "xaxis": "x",
         "y": [
          61,
          57,
          16,
          17,
          30,
          28,
          7
         ],
         "yaxis": "y"
        },
        {
         "hovertemplate": "company_name=Medipass Healthcare<br>variable=Positive<br>year=%{x}<br>value=%{y}<extra></extra>",
         "legendgroup": "Medipass Healthcare",
         "line": {
          "color": "#B6E880",
          "dash": "solid"
         },
         "marker": {
          "symbol": "circle"
         },
         "mode": "lines",
         "name": "Medipass Healthcare",
         "showlegend": true,
         "type": "scattergl",
         "x": [
          2021,
          2022
         ],
         "xaxis": "x",
         "y": [
          5,
          4
         ],
         "yaxis": "y"
        },
        {
         "hovertemplate": "company_name=Medipass Healthcare<br>variable=Negative<br>year=%{x}<br>value=%{y}<extra></extra>",
         "legendgroup": "Medipass Healthcare",
         "line": {
          "color": "#B6E880",
          "dash": "solid"
         },
         "marker": {
          "symbol": "circle"
         },
         "mode": "lines",
         "name": "Medipass Healthcare",
         "showlegend": false,
         "type": "scattergl",
         "x": [
          2021,
          2022
         ],
         "xaxis": "x",
         "y": [
          0,
          0
         ],
         "yaxis": "y"
        },
        {
         "hovertemplate": "company_name=Medipass Healthcare<br>variable=Neutral<br>year=%{x}<br>value=%{y}<extra></extra>",
         "legendgroup": "Medipass Healthcare",
         "line": {
          "color": "#B6E880",
          "dash": "solid"
         },
         "marker": {
          "symbol": "circle"
         },
         "mode": "lines",
         "name": "Medipass Healthcare",
         "showlegend": false,
         "type": "scattergl",
         "x": [
          2021,
          2022
         ],
         "xaxis": "x",
         "y": [
          0,
          0
         ],
         "yaxis": "y"
        },
        {
         "hovertemplate": "company_name=Medoid AI<br>variable=Positive<br>year=%{x}<br>value=%{y}<extra></extra>",
         "legendgroup": "Medoid AI",
         "line": {
          "color": "#FF97FF",
          "dash": "solid"
         },
         "marker": {
          "symbol": "circle"
         },
         "mode": "lines",
         "name": "Medoid AI",
         "showlegend": true,
         "type": "scattergl",
         "x": [
          2021,
          2023
         ],
         "xaxis": "x",
         "y": [
          1,
          0
         ],
         "yaxis": "y"
        },
        {
         "hovertemplate": "company_name=Medoid AI<br>variable=Negative<br>year=%{x}<br>value=%{y}<extra></extra>",
         "legendgroup": "Medoid AI",
         "line": {
          "color": "#FF97FF",
          "dash": "solid"
         },
         "marker": {
          "symbol": "circle"
         },
         "mode": "lines",
         "name": "Medoid AI",
         "showlegend": false,
         "type": "scattergl",
         "x": [
          2021,
          2023
         ],
         "xaxis": "x",
         "y": [
          0,
          0
         ],
         "yaxis": "y"
        },
        {
         "hovertemplate": "company_name=Medoid AI<br>variable=Neutral<br>year=%{x}<br>value=%{y}<extra></extra>",
         "legendgroup": "Medoid AI",
         "line": {
          "color": "#FF97FF",
          "dash": "solid"
         },
         "marker": {
          "symbol": "circle"
         },
         "mode": "lines",
         "name": "Medoid AI",
         "showlegend": false,
         "type": "scattergl",
         "x": [
          2021,
          2023
         ],
         "xaxis": "x",
         "y": [
          0,
          26
         ],
         "yaxis": "y"
        },
        {
         "hovertemplate": "company_name=Megaventory<br>variable=Positive<br>year=%{x}<br>value=%{y}<extra></extra>",
         "legendgroup": "Megaventory",
         "line": {
          "color": "#FECB52",
          "dash": "solid"
         },
         "marker": {
          "symbol": "circle"
         },
         "mode": "lines",
         "name": "Megaventory",
         "showlegend": true,
         "type": "scattergl",
         "x": [
          2017,
          2018,
          2019,
          2020,
          2021,
          2022,
          2023
         ],
         "xaxis": "x",
         "y": [
          450,
          295,
          113,
          195,
          102,
          108,
          41
         ],
         "yaxis": "y"
        },
        {
         "hovertemplate": "company_name=Megaventory<br>variable=Negative<br>year=%{x}<br>value=%{y}<extra></extra>",
         "legendgroup": "Megaventory",
         "line": {
          "color": "#FECB52",
          "dash": "solid"
         },
         "marker": {
          "symbol": "circle"
         },
         "mode": "lines",
         "name": "Megaventory",
         "showlegend": false,
         "type": "scattergl",
         "x": [
          2017,
          2018,
          2019,
          2020,
          2021,
          2022,
          2023
         ],
         "xaxis": "x",
         "y": [
          40,
          64,
          18,
          36,
          16,
          3,
          7
         ],
         "yaxis": "y"
        },
        {
         "hovertemplate": "company_name=Megaventory<br>variable=Neutral<br>year=%{x}<br>value=%{y}<extra></extra>",
         "legendgroup": "Megaventory",
         "line": {
          "color": "#FECB52",
          "dash": "solid"
         },
         "marker": {
          "symbol": "circle"
         },
         "mode": "lines",
         "name": "Megaventory",
         "showlegend": false,
         "type": "scattergl",
         "x": [
          2017,
          2018,
          2019,
          2020,
          2021,
          2022,
          2023
         ],
         "xaxis": "x",
         "y": [
          388,
          276,
          99,
          112,
          49,
          26,
          3
         ],
         "yaxis": "y"
        },
        {
         "hovertemplate": "company_name=Melapus<br>variable=Positive<br>year=%{x}<br>value=%{y}<extra></extra>",
         "legendgroup": "Melapus",
         "line": {
          "color": "#636efa",
          "dash": "solid"
         },
         "marker": {
          "symbol": "circle"
         },
         "mode": "lines",
         "name": "Melapus",
         "showlegend": true,
         "type": "scattergl",
         "x": [
          2018,
          2019,
          2020,
          2021
         ],
         "xaxis": "x",
         "y": [
          1,
          1,
          0,
          0
         ],
         "yaxis": "y"
        },
        {
         "hovertemplate": "company_name=Melapus<br>variable=Negative<br>year=%{x}<br>value=%{y}<extra></extra>",
         "legendgroup": "Melapus",
         "line": {
          "color": "#636efa",
          "dash": "solid"
         },
         "marker": {
          "symbol": "circle"
         },
         "mode": "lines",
         "name": "Melapus",
         "showlegend": false,
         "type": "scattergl",
         "x": [
          2018,
          2019,
          2020,
          2021
         ],
         "xaxis": "x",
         "y": [
          2,
          0,
          0,
          0
         ],
         "yaxis": "y"
        },
        {
         "hovertemplate": "company_name=Melapus<br>variable=Neutral<br>year=%{x}<br>value=%{y}<extra></extra>",
         "legendgroup": "Melapus",
         "line": {
          "color": "#636efa",
          "dash": "solid"
         },
         "marker": {
          "symbol": "circle"
         },
         "mode": "lines",
         "name": "Melapus",
         "showlegend": false,
         "type": "scattergl",
         "x": [
          2018,
          2019,
          2020,
          2021
         ],
         "xaxis": "x",
         "y": [
          111,
          15,
          5,
          6
         ],
         "yaxis": "y"
        },
        {
         "hovertemplate": "company_name=Memorandum<br>variable=Positive<br>year=%{x}<br>value=%{y}<extra></extra>",
         "legendgroup": "Memorandum",
         "line": {
          "color": "#EF553B",
          "dash": "solid"
         },
         "marker": {
          "symbol": "circle"
         },
         "mode": "lines",
         "name": "Memorandum",
         "showlegend": true,
         "type": "scattergl",
         "x": [
          2017,
          2018,
          2019,
          2020
         ],
         "xaxis": "x",
         "y": [
          11,
          2,
          3,
          9
         ],
         "yaxis": "y"
        },
        {
         "hovertemplate": "company_name=Memorandum<br>variable=Negative<br>year=%{x}<br>value=%{y}<extra></extra>",
         "legendgroup": "Memorandum",
         "line": {
          "color": "#EF553B",
          "dash": "solid"
         },
         "marker": {
          "symbol": "circle"
         },
         "mode": "lines",
         "name": "Memorandum",
         "showlegend": false,
         "type": "scattergl",
         "x": [
          2017,
          2018,
          2019,
          2020
         ],
         "xaxis": "x",
         "y": [
          1,
          0,
          2,
          2
         ],
         "yaxis": "y"
        },
        {
         "hovertemplate": "company_name=Memorandum<br>variable=Neutral<br>year=%{x}<br>value=%{y}<extra></extra>",
         "legendgroup": "Memorandum",
         "line": {
          "color": "#EF553B",
          "dash": "solid"
         },
         "marker": {
          "symbol": "circle"
         },
         "mode": "lines",
         "name": "Memorandum",
         "showlegend": false,
         "type": "scattergl",
         "x": [
          2017,
          2018,
          2019,
          2020
         ],
         "xaxis": "x",
         "y": [
          6,
          1,
          1,
          1
         ],
         "yaxis": "y"
        },
        {
         "hovertemplate": "company_name=Mentionlytics<br>variable=Positive<br>year=%{x}<br>value=%{y}<extra></extra>",
         "legendgroup": "Mentionlytics",
         "line": {
          "color": "#00cc96",
          "dash": "solid"
         },
         "marker": {
          "symbol": "circle"
         },
         "mode": "lines",
         "name": "Mentionlytics",
         "showlegend": true,
         "type": "scattergl",
         "x": [
          2017,
          2018,
          2019,
          2020,
          2021,
          2022,
          2023
         ],
         "xaxis": "x",
         "y": [
          117,
          191,
          138,
          85,
          73,
          70,
          28
         ],
         "yaxis": "y"
        },
        {
         "hovertemplate": "company_name=Mentionlytics<br>variable=Negative<br>year=%{x}<br>value=%{y}<extra></extra>",
         "legendgroup": "Mentionlytics",
         "line": {
          "color": "#00cc96",
          "dash": "solid"
         },
         "marker": {
          "symbol": "circle"
         },
         "mode": "lines",
         "name": "Mentionlytics",
         "showlegend": false,
         "type": "scattergl",
         "x": [
          2017,
          2018,
          2019,
          2020,
          2021,
          2022,
          2023
         ],
         "xaxis": "x",
         "y": [
          7,
          10,
          5,
          12,
          9,
          6,
          3
         ],
         "yaxis": "y"
        },
        {
         "hovertemplate": "company_name=Mentionlytics<br>variable=Neutral<br>year=%{x}<br>value=%{y}<extra></extra>",
         "legendgroup": "Mentionlytics",
         "line": {
          "color": "#00cc96",
          "dash": "solid"
         },
         "marker": {
          "symbol": "circle"
         },
         "mode": "lines",
         "name": "Mentionlytics",
         "showlegend": false,
         "type": "scattergl",
         "x": [
          2017,
          2018,
          2019,
          2020,
          2021,
          2022,
          2023
         ],
         "xaxis": "x",
         "y": [
          72,
          71,
          28,
          32,
          23,
          11,
          3
         ],
         "yaxis": "y"
        },
        {
         "hovertemplate": "company_name=Merge Adventure<br>variable=Positive<br>year=%{x}<br>value=%{y}<extra></extra>",
         "legendgroup": "Merge Adventure",
         "line": {
          "color": "#ab63fa",
          "dash": "solid"
         },
         "marker": {
          "symbol": "circle"
         },
         "mode": "lines",
         "name": "Merge Adventure",
         "showlegend": true,
         "type": "scattergl",
         "x": [
          2022
         ],
         "xaxis": "x",
         "y": [
          6
         ],
         "yaxis": "y"
        },
        {
         "hovertemplate": "company_name=Merge Adventure<br>variable=Negative<br>year=%{x}<br>value=%{y}<extra></extra>",
         "legendgroup": "Merge Adventure",
         "line": {
          "color": "#ab63fa",
          "dash": "solid"
         },
         "marker": {
          "symbol": "circle"
         },
         "mode": "lines",
         "name": "Merge Adventure",
         "showlegend": false,
         "type": "scattergl",
         "x": [
          2022
         ],
         "xaxis": "x",
         "y": [
          0
         ],
         "yaxis": "y"
        },
        {
         "hovertemplate": "company_name=Merge Adventure<br>variable=Neutral<br>year=%{x}<br>value=%{y}<extra></extra>",
         "legendgroup": "Merge Adventure",
         "line": {
          "color": "#ab63fa",
          "dash": "solid"
         },
         "marker": {
          "symbol": "circle"
         },
         "mode": "lines",
         "name": "Merge Adventure",
         "showlegend": false,
         "type": "scattergl",
         "x": [
          2022
         ],
         "xaxis": "x",
         "y": [
          1
         ],
         "yaxis": "y"
        },
        {
         "hovertemplate": "company_name=Metabio<br>variable=Positive<br>year=%{x}<br>value=%{y}<extra></extra>",
         "legendgroup": "Metabio",
         "line": {
          "color": "#FFA15A",
          "dash": "solid"
         },
         "marker": {
          "symbol": "circle"
         },
         "mode": "lines",
         "name": "Metabio",
         "showlegend": true,
         "type": "scattergl",
         "x": [
          2017,
          2018,
          2019
         ],
         "xaxis": "x",
         "y": [
          0,
          2,
          1
         ],
         "yaxis": "y"
        },
        {
         "hovertemplate": "company_name=Metabio<br>variable=Negative<br>year=%{x}<br>value=%{y}<extra></extra>",
         "legendgroup": "Metabio",
         "line": {
          "color": "#FFA15A",
          "dash": "solid"
         },
         "marker": {
          "symbol": "circle"
         },
         "mode": "lines",
         "name": "Metabio",
         "showlegend": false,
         "type": "scattergl",
         "x": [
          2017,
          2018,
          2019
         ],
         "xaxis": "x",
         "y": [
          0,
          0,
          0
         ],
         "yaxis": "y"
        },
        {
         "hovertemplate": "company_name=Metabio<br>variable=Neutral<br>year=%{x}<br>value=%{y}<extra></extra>",
         "legendgroup": "Metabio",
         "line": {
          "color": "#FFA15A",
          "dash": "solid"
         },
         "marker": {
          "symbol": "circle"
         },
         "mode": "lines",
         "name": "Metabio",
         "showlegend": false,
         "type": "scattergl",
         "x": [
          2017,
          2018,
          2019
         ],
         "xaxis": "x",
         "y": [
          4,
          12,
          2
         ],
         "yaxis": "y"
        },
        {
         "hovertemplate": "company_name=MindMed<br>variable=Positive<br>year=%{x}<br>value=%{y}<extra></extra>",
         "legendgroup": "MindMed",
         "line": {
          "color": "#19d3f3",
          "dash": "solid"
         },
         "marker": {
          "symbol": "circle"
         },
         "mode": "lines",
         "name": "MindMed",
         "showlegend": true,
         "type": "scattergl",
         "x": [
          2019,
          2020,
          2021,
          2022,
          2023
         ],
         "xaxis": "x",
         "y": [
          3,
          40,
          79,
          40,
          7
         ],
         "yaxis": "y"
        },
        {
         "hovertemplate": "company_name=MindMed<br>variable=Negative<br>year=%{x}<br>value=%{y}<extra></extra>",
         "legendgroup": "MindMed",
         "line": {
          "color": "#19d3f3",
          "dash": "solid"
         },
         "marker": {
          "symbol": "circle"
         },
         "mode": "lines",
         "name": "MindMed",
         "showlegend": false,
         "type": "scattergl",
         "x": [
          2019,
          2020,
          2021,
          2022,
          2023
         ],
         "xaxis": "x",
         "y": [
          2,
          8,
          24,
          5,
          0
         ],
         "yaxis": "y"
        },
        {
         "hovertemplate": "company_name=MindMed<br>variable=Neutral<br>year=%{x}<br>value=%{y}<extra></extra>",
         "legendgroup": "MindMed",
         "line": {
          "color": "#19d3f3",
          "dash": "solid"
         },
         "marker": {
          "symbol": "circle"
         },
         "mode": "lines",
         "name": "MindMed",
         "showlegend": false,
         "type": "scattergl",
         "x": [
          2019,
          2020,
          2021,
          2022,
          2023
         ],
         "xaxis": "x",
         "y": [
          2,
          45,
          34,
          21,
          11
         ],
         "yaxis": "y"
        },
        {
         "hovertemplate": "company_name=Morphoses<br>variable=Positive<br>year=%{x}<br>value=%{y}<extra></extra>",
         "legendgroup": "Morphoses",
         "line": {
          "color": "#FF6692",
          "dash": "solid"
         },
         "marker": {
          "symbol": "circle"
         },
         "mode": "lines",
         "name": "Morphoses",
         "showlegend": true,
         "type": "scattergl",
         "x": [
          2021,
          2022,
          2023
         ],
         "xaxis": "x",
         "y": [
          7,
          79,
          44
         ],
         "yaxis": "y"
        },
        {
         "hovertemplate": "company_name=Morphoses<br>variable=Negative<br>year=%{x}<br>value=%{y}<extra></extra>",
         "legendgroup": "Morphoses",
         "line": {
          "color": "#FF6692",
          "dash": "solid"
         },
         "marker": {
          "symbol": "circle"
         },
         "mode": "lines",
         "name": "Morphoses",
         "showlegend": false,
         "type": "scattergl",
         "x": [
          2021,
          2022,
          2023
         ],
         "xaxis": "x",
         "y": [
          1,
          7,
          2
         ],
         "yaxis": "y"
        },
        {
         "hovertemplate": "company_name=Morphoses<br>variable=Neutral<br>year=%{x}<br>value=%{y}<extra></extra>",
         "legendgroup": "Morphoses",
         "line": {
          "color": "#FF6692",
          "dash": "solid"
         },
         "marker": {
          "symbol": "circle"
         },
         "mode": "lines",
         "name": "Morphoses",
         "showlegend": false,
         "type": "scattergl",
         "x": [
          2021,
          2022,
          2023
         ],
         "xaxis": "x",
         "y": [
          3,
          48,
          26
         ],
         "yaxis": "y"
        },
        {
         "hovertemplate": "company_name=Murat123<br>variable=Positive<br>year=%{x}<br>value=%{y}<extra></extra>",
         "legendgroup": "Murat123",
         "line": {
          "color": "#B6E880",
          "dash": "solid"
         },
         "marker": {
          "symbol": "circle"
         },
         "mode": "lines",
         "name": "Murat123",
         "showlegend": true,
         "type": "scattergl",
         "x": [
          2019,
          2020,
          2021,
          2022,
          2023
         ],
         "xaxis": "x",
         "y": [
          0,
          1,
          6,
          1,
          0
         ],
         "yaxis": "y"
        },
        {
         "hovertemplate": "company_name=Murat123<br>variable=Negative<br>year=%{x}<br>value=%{y}<extra></extra>",
         "legendgroup": "Murat123",
         "line": {
          "color": "#B6E880",
          "dash": "solid"
         },
         "marker": {
          "symbol": "circle"
         },
         "mode": "lines",
         "name": "Murat123",
         "showlegend": false,
         "type": "scattergl",
         "x": [
          2019,
          2020,
          2021,
          2022,
          2023
         ],
         "xaxis": "x",
         "y": [
          0,
          0,
          1,
          0,
          0
         ],
         "yaxis": "y"
        },
        {
         "hovertemplate": "company_name=Murat123<br>variable=Neutral<br>year=%{x}<br>value=%{y}<extra></extra>",
         "legendgroup": "Murat123",
         "line": {
          "color": "#B6E880",
          "dash": "solid"
         },
         "marker": {
          "symbol": "circle"
         },
         "mode": "lines",
         "name": "Murat123",
         "showlegend": false,
         "type": "scattergl",
         "x": [
          2019,
          2020,
          2021,
          2022,
          2023
         ],
         "xaxis": "x",
         "y": [
          1,
          28,
          209,
          7,
          7
         ],
         "yaxis": "y"
        },
        {
         "hovertemplate": "company_name=MÃ´veo AI<br>variable=Positive<br>year=%{x}<br>value=%{y}<extra></extra>",
         "legendgroup": "MÃ´veo AI",
         "line": {
          "color": "#FF97FF",
          "dash": "solid"
         },
         "marker": {
          "symbol": "circle"
         },
         "mode": "lines",
         "name": "MÃ´veo AI",
         "showlegend": true,
         "type": "scattergl",
         "x": [
          2022,
          2023
         ],
         "xaxis": "x",
         "y": [
          12,
          23
         ],
         "yaxis": "y"
        },
        {
         "hovertemplate": "company_name=MÃ´veo AI<br>variable=Negative<br>year=%{x}<br>value=%{y}<extra></extra>",
         "legendgroup": "MÃ´veo AI",
         "line": {
          "color": "#FF97FF",
          "dash": "solid"
         },
         "marker": {
          "symbol": "circle"
         },
         "mode": "lines",
         "name": "MÃ´veo AI",
         "showlegend": false,
         "type": "scattergl",
         "x": [
          2022,
          2023
         ],
         "xaxis": "x",
         "y": [
          0,
          3
         ],
         "yaxis": "y"
        },
        {
         "hovertemplate": "company_name=MÃ´veo AI<br>variable=Neutral<br>year=%{x}<br>value=%{y}<extra></extra>",
         "legendgroup": "MÃ´veo AI",
         "line": {
          "color": "#FF97FF",
          "dash": "solid"
         },
         "marker": {
          "symbol": "circle"
         },
         "mode": "lines",
         "name": "MÃ´veo AI",
         "showlegend": false,
         "type": "scattergl",
         "x": [
          2022,
          2023
         ],
         "xaxis": "x",
         "y": [
          2,
          2
         ],
         "yaxis": "y"
        },
        {
         "hovertemplate": "company_name=Nannuka UK<br>variable=Positive<br>year=%{x}<br>value=%{y}<extra></extra>",
         "legendgroup": "Nannuka UK",
         "line": {
          "color": "#FECB52",
          "dash": "solid"
         },
         "marker": {
          "symbol": "circle"
         },
         "mode": "lines",
         "name": "Nannuka UK",
         "showlegend": true,
         "type": "scattergl",
         "x": [
          2017,
          2018
         ],
         "xaxis": "x",
         "y": [
          74,
          29
         ],
         "yaxis": "y"
        },
        {
         "hovertemplate": "company_name=Nannuka UK<br>variable=Negative<br>year=%{x}<br>value=%{y}<extra></extra>",
         "legendgroup": "Nannuka UK",
         "line": {
          "color": "#FECB52",
          "dash": "solid"
         },
         "marker": {
          "symbol": "circle"
         },
         "mode": "lines",
         "name": "Nannuka UK",
         "showlegend": false,
         "type": "scattergl",
         "x": [
          2017,
          2018
         ],
         "xaxis": "x",
         "y": [
          2,
          1
         ],
         "yaxis": "y"
        },
        {
         "hovertemplate": "company_name=Nannuka UK<br>variable=Neutral<br>year=%{x}<br>value=%{y}<extra></extra>",
         "legendgroup": "Nannuka UK",
         "line": {
          "color": "#FECB52",
          "dash": "solid"
         },
         "marker": {
          "symbol": "circle"
         },
         "mode": "lines",
         "name": "Nannuka UK",
         "showlegend": false,
         "type": "scattergl",
         "x": [
          2017,
          2018
         ],
         "xaxis": "x",
         "y": [
          48,
          28
         ],
         "yaxis": "y"
        },
        {
         "hovertemplate": "company_name=Neos Beyond Payments<br>variable=Positive<br>year=%{x}<br>value=%{y}<extra></extra>",
         "legendgroup": "Neos Beyond Payments",
         "line": {
          "color": "#636efa",
          "dash": "solid"
         },
         "marker": {
          "symbol": "circle"
         },
         "mode": "lines",
         "name": "Neos Beyond Payments",
         "showlegend": true,
         "type": "scattergl",
         "x": [
          2020,
          2021,
          2022,
          2023
         ],
         "xaxis": "x",
         "y": [
          9,
          3,
          1,
          0
         ],
         "yaxis": "y"
        },
        {
         "hovertemplate": "company_name=Neos Beyond Payments<br>variable=Negative<br>year=%{x}<br>value=%{y}<extra></extra>",
         "legendgroup": "Neos Beyond Payments",
         "line": {
          "color": "#636efa",
          "dash": "solid"
         },
         "marker": {
          "symbol": "circle"
         },
         "mode": "lines",
         "name": "Neos Beyond Payments",
         "showlegend": false,
         "type": "scattergl",
         "x": [
          2020,
          2021,
          2022,
          2023
         ],
         "xaxis": "x",
         "y": [
          0,
          2,
          0,
          0
         ],
         "yaxis": "y"
        },
        {
         "hovertemplate": "company_name=Neos Beyond Payments<br>variable=Neutral<br>year=%{x}<br>value=%{y}<extra></extra>",
         "legendgroup": "Neos Beyond Payments",
         "line": {
          "color": "#636efa",
          "dash": "solid"
         },
         "marker": {
          "symbol": "circle"
         },
         "mode": "lines",
         "name": "Neos Beyond Payments",
         "showlegend": false,
         "type": "scattergl",
         "x": [
          2020,
          2021,
          2022,
          2023
         ],
         "xaxis": "x",
         "y": [
          3,
          2,
          1,
          1
         ],
         "yaxis": "y"
        },
        {
         "hovertemplate": "company_name=Nephele<br>variable=Positive<br>year=%{x}<br>value=%{y}<extra></extra>",
         "legendgroup": "Nephele",
         "line": {
          "color": "#EF553B",
          "dash": "solid"
         },
         "marker": {
          "symbol": "circle"
         },
         "mode": "lines",
         "name": "Nephele",
         "showlegend": true,
         "type": "scattergl",
         "x": [
          2022
         ],
         "xaxis": "x",
         "y": [
          2
         ],
         "yaxis": "y"
        },
        {
         "hovertemplate": "company_name=Nephele<br>variable=Negative<br>year=%{x}<br>value=%{y}<extra></extra>",
         "legendgroup": "Nephele",
         "line": {
          "color": "#EF553B",
          "dash": "solid"
         },
         "marker": {
          "symbol": "circle"
         },
         "mode": "lines",
         "name": "Nephele",
         "showlegend": false,
         "type": "scattergl",
         "x": [
          2022
         ],
         "xaxis": "x",
         "y": [
          0
         ],
         "yaxis": "y"
        },
        {
         "hovertemplate": "company_name=Nephele<br>variable=Neutral<br>year=%{x}<br>value=%{y}<extra></extra>",
         "legendgroup": "Nephele",
         "line": {
          "color": "#EF553B",
          "dash": "solid"
         },
         "marker": {
          "symbol": "circle"
         },
         "mode": "lines",
         "name": "Nephele",
         "showlegend": false,
         "type": "scattergl",
         "x": [
          2022
         ],
         "xaxis": "x",
         "y": [
          0
         ],
         "yaxis": "y"
        },
        {
         "hovertemplate": "company_name=Net Zero Analytics<br>variable=Positive<br>year=%{x}<br>value=%{y}<extra></extra>",
         "legendgroup": "Net Zero Analytics",
         "line": {
          "color": "#00cc96",
          "dash": "solid"
         },
         "marker": {
          "symbol": "circle"
         },
         "mode": "lines",
         "name": "Net Zero Analytics",
         "showlegend": true,
         "type": "scattergl",
         "x": [
          2021
         ],
         "xaxis": "x",
         "y": [
          1
         ],
         "yaxis": "y"
        },
        {
         "hovertemplate": "company_name=Net Zero Analytics<br>variable=Negative<br>year=%{x}<br>value=%{y}<extra></extra>",
         "legendgroup": "Net Zero Analytics",
         "line": {
          "color": "#00cc96",
          "dash": "solid"
         },
         "marker": {
          "symbol": "circle"
         },
         "mode": "lines",
         "name": "Net Zero Analytics",
         "showlegend": false,
         "type": "scattergl",
         "x": [
          2021
         ],
         "xaxis": "x",
         "y": [
          0
         ],
         "yaxis": "y"
        },
        {
         "hovertemplate": "company_name=Net Zero Analytics<br>variable=Neutral<br>year=%{x}<br>value=%{y}<extra></extra>",
         "legendgroup": "Net Zero Analytics",
         "line": {
          "color": "#00cc96",
          "dash": "solid"
         },
         "marker": {
          "symbol": "circle"
         },
         "mode": "lines",
         "name": "Net Zero Analytics",
         "showlegend": false,
         "type": "scattergl",
         "x": [
          2021
         ],
         "xaxis": "x",
         "y": [
          0
         ],
         "yaxis": "y"
        },
        {
         "hovertemplate": "company_name=Netdata<br>variable=Positive<br>year=%{x}<br>value=%{y}<extra></extra>",
         "legendgroup": "Netdata",
         "line": {
          "color": "#ab63fa",
          "dash": "solid"
         },
         "marker": {
          "symbol": "circle"
         },
         "mode": "lines",
         "name": "Netdata",
         "showlegend": true,
         "type": "scattergl",
         "x": [
          2017,
          2018,
          2019,
          2020,
          2021,
          2022,
          2023
         ],
         "xaxis": "x",
         "y": [
          125,
          27,
          26,
          263,
          170,
          138,
          43
         ],
         "yaxis": "y"
        },
        {
         "hovertemplate": "company_name=Netdata<br>variable=Negative<br>year=%{x}<br>value=%{y}<extra></extra>",
         "legendgroup": "Netdata",
         "line": {
          "color": "#ab63fa",
          "dash": "solid"
         },
         "marker": {
          "symbol": "circle"
         },
         "mode": "lines",
         "name": "Netdata",
         "showlegend": false,
         "type": "scattergl",
         "x": [
          2017,
          2018,
          2019,
          2020,
          2021,
          2022,
          2023
         ],
         "xaxis": "x",
         "y": [
          11,
          10,
          4,
          22,
          13,
          27,
          1
         ],
         "yaxis": "y"
        },
        {
         "hovertemplate": "company_name=Netdata<br>variable=Neutral<br>year=%{x}<br>value=%{y}<extra></extra>",
         "legendgroup": "Netdata",
         "line": {
          "color": "#ab63fa",
          "dash": "solid"
         },
         "marker": {
          "symbol": "circle"
         },
         "mode": "lines",
         "name": "Netdata",
         "showlegend": false,
         "type": "scattergl",
         "x": [
          2017,
          2018,
          2019,
          2020,
          2021,
          2022,
          2023
         ],
         "xaxis": "x",
         "y": [
          109,
          21,
          24,
          85,
          75,
          124,
          19
         ],
         "yaxis": "y"
        },
        {
         "hovertemplate": "company_name=Noma Restaurants & Events<br>variable=Positive<br>year=%{x}<br>value=%{y}<extra></extra>",
         "legendgroup": "Noma Restaurants & Events",
         "line": {
          "color": "#FFA15A",
          "dash": "solid"
         },
         "marker": {
          "symbol": "circle"
         },
         "mode": "lines",
         "name": "Noma Restaurants & Events",
         "showlegend": true,
         "type": "scattergl",
         "x": [
          2019,
          2020
         ],
         "xaxis": "x",
         "y": [
          32,
          11
         ],
         "yaxis": "y"
        },
        {
         "hovertemplate": "company_name=Noma Restaurants & Events<br>variable=Negative<br>year=%{x}<br>value=%{y}<extra></extra>",
         "legendgroup": "Noma Restaurants & Events",
         "line": {
          "color": "#FFA15A",
          "dash": "solid"
         },
         "marker": {
          "symbol": "circle"
         },
         "mode": "lines",
         "name": "Noma Restaurants & Events",
         "showlegend": false,
         "type": "scattergl",
         "x": [
          2019,
          2020
         ],
         "xaxis": "x",
         "y": [
          2,
          2
         ],
         "yaxis": "y"
        },
        {
         "hovertemplate": "company_name=Noma Restaurants & Events<br>variable=Neutral<br>year=%{x}<br>value=%{y}<extra></extra>",
         "legendgroup": "Noma Restaurants & Events",
         "line": {
          "color": "#FFA15A",
          "dash": "solid"
         },
         "marker": {
          "symbol": "circle"
         },
         "mode": "lines",
         "name": "Noma Restaurants & Events",
         "showlegend": false,
         "type": "scattergl",
         "x": [
          2019,
          2020
         ],
         "xaxis": "x",
         "y": [
          30,
          13
         ],
         "yaxis": "y"
        },
        {
         "hovertemplate": "company_name=ORFIUM<br>variable=Positive<br>year=%{x}<br>value=%{y}<extra></extra>",
         "legendgroup": "ORFIUM",
         "line": {
          "color": "#19d3f3",
          "dash": "solid"
         },
         "marker": {
          "symbol": "circle"
         },
         "mode": "lines",
         "name": "ORFIUM",
         "showlegend": true,
         "type": "scattergl",
         "x": [
          2021,
          2022,
          2023
         ],
         "xaxis": "x",
         "y": [
          0,
          57,
          11
         ],
         "yaxis": "y"
        },
        {
         "hovertemplate": "company_name=ORFIUM<br>variable=Negative<br>year=%{x}<br>value=%{y}<extra></extra>",
         "legendgroup": "ORFIUM",
         "line": {
          "color": "#19d3f3",
          "dash": "solid"
         },
         "marker": {
          "symbol": "circle"
         },
         "mode": "lines",
         "name": "ORFIUM",
         "showlegend": false,
         "type": "scattergl",
         "x": [
          2021,
          2022,
          2023
         ],
         "xaxis": "x",
         "y": [
          0,
          3,
          0
         ],
         "yaxis": "y"
        },
        {
         "hovertemplate": "company_name=ORFIUM<br>variable=Neutral<br>year=%{x}<br>value=%{y}<extra></extra>",
         "legendgroup": "ORFIUM",
         "line": {
          "color": "#19d3f3",
          "dash": "solid"
         },
         "marker": {
          "symbol": "circle"
         },
         "mode": "lines",
         "name": "ORFIUM",
         "showlegend": false,
         "type": "scattergl",
         "x": [
          2021,
          2022,
          2023
         ],
         "xaxis": "x",
         "y": [
          1,
          14,
          2
         ],
         "yaxis": "y"
        },
        {
         "hovertemplate": "company_name=OilX<br>variable=Positive<br>year=%{x}<br>value=%{y}<extra></extra>",
         "legendgroup": "OilX",
         "line": {
          "color": "#FF6692",
          "dash": "solid"
         },
         "marker": {
          "symbol": "circle"
         },
         "mode": "lines",
         "name": "OilX",
         "showlegend": true,
         "type": "scattergl",
         "x": [
          2019,
          2020,
          2021,
          2022,
          2023
         ],
         "xaxis": "x",
         "y": [
          5,
          40,
          79,
          114,
          15
         ],
         "yaxis": "y"
        },
        {
         "hovertemplate": "company_name=OilX<br>variable=Negative<br>year=%{x}<br>value=%{y}<extra></extra>",
         "legendgroup": "OilX",
         "line": {
          "color": "#FF6692",
          "dash": "solid"
         },
         "marker": {
          "symbol": "circle"
         },
         "mode": "lines",
         "name": "OilX",
         "showlegend": false,
         "type": "scattergl",
         "x": [
          2019,
          2020,
          2021,
          2022,
          2023
         ],
         "xaxis": "x",
         "y": [
          12,
          22,
          30,
          142,
          22
         ],
         "yaxis": "y"
        },
        {
         "hovertemplate": "company_name=OilX<br>variable=Neutral<br>year=%{x}<br>value=%{y}<extra></extra>",
         "legendgroup": "OilX",
         "line": {
          "color": "#FF6692",
          "dash": "solid"
         },
         "marker": {
          "symbol": "circle"
         },
         "mode": "lines",
         "name": "OilX",
         "showlegend": false,
         "type": "scattergl",
         "x": [
          2019,
          2020,
          2021,
          2022,
          2023
         ],
         "xaxis": "x",
         "y": [
          6,
          29,
          30,
          48,
          4
         ],
         "yaxis": "y"
        },
        {
         "hovertemplate": "company_name=Olyra Marketing<br>variable=Positive<br>year=%{x}<br>value=%{y}<extra></extra>",
         "legendgroup": "Olyra Marketing",
         "line": {
          "color": "#B6E880",
          "dash": "solid"
         },
         "marker": {
          "symbol": "circle"
         },
         "mode": "lines",
         "name": "Olyra Marketing",
         "showlegend": true,
         "type": "scattergl",
         "x": [
          2017,
          2018,
          2019
         ],
         "xaxis": "x",
         "y": [
          4,
          6,
          3
         ],
         "yaxis": "y"
        },
        {
         "hovertemplate": "company_name=Olyra Marketing<br>variable=Negative<br>year=%{x}<br>value=%{y}<extra></extra>",
         "legendgroup": "Olyra Marketing",
         "line": {
          "color": "#B6E880",
          "dash": "solid"
         },
         "marker": {
          "symbol": "circle"
         },
         "mode": "lines",
         "name": "Olyra Marketing",
         "showlegend": false,
         "type": "scattergl",
         "x": [
          2017,
          2018,
          2019
         ],
         "xaxis": "x",
         "y": [
          2,
          2,
          0
         ],
         "yaxis": "y"
        },
        {
         "hovertemplate": "company_name=Olyra Marketing<br>variable=Neutral<br>year=%{x}<br>value=%{y}<extra></extra>",
         "legendgroup": "Olyra Marketing",
         "line": {
          "color": "#B6E880",
          "dash": "solid"
         },
         "marker": {
          "symbol": "circle"
         },
         "mode": "lines",
         "name": "Olyra Marketing",
         "showlegend": false,
         "type": "scattergl",
         "x": [
          2017,
          2018,
          2019
         ],
         "xaxis": "x",
         "y": [
          119,
          92,
          48
         ],
         "yaxis": "y"
        },
        {
         "hovertemplate": "company_name=OnSkull<br>variable=Positive<br>year=%{x}<br>value=%{y}<extra></extra>",
         "legendgroup": "OnSkull",
         "line": {
          "color": "#FF97FF",
          "dash": "solid"
         },
         "marker": {
          "symbol": "circle"
         },
         "mode": "lines",
         "name": "OnSkull",
         "showlegend": true,
         "type": "scattergl",
         "x": [
          2017,
          2019,
          2020,
          2021,
          2022,
          2023
         ],
         "xaxis": "x",
         "y": [
          27,
          20,
          31,
          9,
          26,
          13
         ],
         "yaxis": "y"
        },
        {
         "hovertemplate": "company_name=OnSkull<br>variable=Negative<br>year=%{x}<br>value=%{y}<extra></extra>",
         "legendgroup": "OnSkull",
         "line": {
          "color": "#FF97FF",
          "dash": "solid"
         },
         "marker": {
          "symbol": "circle"
         },
         "mode": "lines",
         "name": "OnSkull",
         "showlegend": false,
         "type": "scattergl",
         "x": [
          2017,
          2019,
          2020,
          2021,
          2022,
          2023
         ],
         "xaxis": "x",
         "y": [
          13,
          5,
          6,
          7,
          8,
          3
         ],
         "yaxis": "y"
        },
        {
         "hovertemplate": "company_name=OnSkull<br>variable=Neutral<br>year=%{x}<br>value=%{y}<extra></extra>",
         "legendgroup": "OnSkull",
         "line": {
          "color": "#FF97FF",
          "dash": "solid"
         },
         "marker": {
          "symbol": "circle"
         },
         "mode": "lines",
         "name": "OnSkull",
         "showlegend": false,
         "type": "scattergl",
         "x": [
          2017,
          2019,
          2020,
          2021,
          2022,
          2023
         ],
         "xaxis": "x",
         "y": [
          34,
          5,
          8,
          20,
          25,
          7
         ],
         "yaxis": "y"
        },
        {
         "hovertemplate": "company_name=Openichnos Yacht Tracker<br>variable=Positive<br>year=%{x}<br>value=%{y}<extra></extra>",
         "legendgroup": "Openichnos Yacht Tracker",
         "line": {
          "color": "#FECB52",
          "dash": "solid"
         },
         "marker": {
          "symbol": "circle"
         },
         "mode": "lines",
         "name": "Openichnos Yacht Tracker",
         "showlegend": true,
         "type": "scattergl",
         "x": [
          2017,
          2018,
          2019,
          2020
         ],
         "xaxis": "x",
         "y": [
          9,
          1,
          0,
          0
         ],
         "yaxis": "y"
        },
        {
         "hovertemplate": "company_name=Openichnos Yacht Tracker<br>variable=Negative<br>year=%{x}<br>value=%{y}<extra></extra>",
         "legendgroup": "Openichnos Yacht Tracker",
         "line": {
          "color": "#FECB52",
          "dash": "solid"
         },
         "marker": {
          "symbol": "circle"
         },
         "mode": "lines",
         "name": "Openichnos Yacht Tracker",
         "showlegend": false,
         "type": "scattergl",
         "x": [
          2017,
          2018,
          2019,
          2020
         ],
         "xaxis": "x",
         "y": [
          0,
          1,
          1,
          0
         ],
         "yaxis": "y"
        },
        {
         "hovertemplate": "company_name=Openichnos Yacht Tracker<br>variable=Neutral<br>year=%{x}<br>value=%{y}<extra></extra>",
         "legendgroup": "Openichnos Yacht Tracker",
         "line": {
          "color": "#FECB52",
          "dash": "solid"
         },
         "marker": {
          "symbol": "circle"
         },
         "mode": "lines",
         "name": "Openichnos Yacht Tracker",
         "showlegend": false,
         "type": "scattergl",
         "x": [
          2017,
          2018,
          2019,
          2020
         ],
         "xaxis": "x",
         "y": [
          23,
          2,
          1,
          1
         ],
         "yaxis": "y"
        },
        {
         "hovertemplate": "company_name=Owiwi<br>variable=Positive<br>year=%{x}<br>value=%{y}<extra></extra>",
         "legendgroup": "Owiwi",
         "line": {
          "color": "#636efa",
          "dash": "solid"
         },
         "marker": {
          "symbol": "circle"
         },
         "mode": "lines",
         "name": "Owiwi",
         "showlegend": true,
         "type": "scattergl",
         "x": [
          2017,
          2018,
          2019,
          2020,
          2022,
          2023
         ],
         "xaxis": "x",
         "y": [
          21,
          87,
          121,
          9,
          0,
          1
         ],
         "yaxis": "y"
        },
        {
         "hovertemplate": "company_name=Owiwi<br>variable=Negative<br>year=%{x}<br>value=%{y}<extra></extra>",
         "legendgroup": "Owiwi",
         "line": {
          "color": "#636efa",
          "dash": "solid"
         },
         "marker": {
          "symbol": "circle"
         },
         "mode": "lines",
         "name": "Owiwi",
         "showlegend": false,
         "type": "scattergl",
         "x": [
          2017,
          2018,
          2019,
          2020,
          2022,
          2023
         ],
         "xaxis": "x",
         "y": [
          7,
          14,
          21,
          0,
          1,
          0
         ],
         "yaxis": "y"
        },
        {
         "hovertemplate": "company_name=Owiwi<br>variable=Neutral<br>year=%{x}<br>value=%{y}<extra></extra>",
         "legendgroup": "Owiwi",
         "line": {
          "color": "#636efa",
          "dash": "solid"
         },
         "marker": {
          "symbol": "circle"
         },
         "mode": "lines",
         "name": "Owiwi",
         "showlegend": false,
         "type": "scattergl",
         "x": [
          2017,
          2018,
          2019,
          2020,
          2022,
          2023
         ],
         "xaxis": "x",
         "y": [
          28,
          47,
          45,
          2,
          1,
          0
         ],
         "yaxis": "y"
        },
        {
         "hovertemplate": "company_name=PCNano Materials<br>variable=Positive<br>year=%{x}<br>value=%{y}<extra></extra>",
         "legendgroup": "PCNano Materials",
         "line": {
          "color": "#EF553B",
          "dash": "solid"
         },
         "marker": {
          "symbol": "circle"
         },
         "mode": "lines",
         "name": "PCNano Materials",
         "showlegend": true,
         "type": "scattergl",
         "x": [
          2021,
          2022
         ],
         "xaxis": "x",
         "y": [
          1,
          0
         ],
         "yaxis": "y"
        },
        {
         "hovertemplate": "company_name=PCNano Materials<br>variable=Negative<br>year=%{x}<br>value=%{y}<extra></extra>",
         "legendgroup": "PCNano Materials",
         "line": {
          "color": "#EF553B",
          "dash": "solid"
         },
         "marker": {
          "symbol": "circle"
         },
         "mode": "lines",
         "name": "PCNano Materials",
         "showlegend": false,
         "type": "scattergl",
         "x": [
          2021,
          2022
         ],
         "xaxis": "x",
         "y": [
          0,
          1
         ],
         "yaxis": "y"
        },
        {
         "hovertemplate": "company_name=PCNano Materials<br>variable=Neutral<br>year=%{x}<br>value=%{y}<extra></extra>",
         "legendgroup": "PCNano Materials",
         "line": {
          "color": "#EF553B",
          "dash": "solid"
         },
         "marker": {
          "symbol": "circle"
         },
         "mode": "lines",
         "name": "PCNano Materials",
         "showlegend": false,
         "type": "scattergl",
         "x": [
          2021,
          2022
         ],
         "xaxis": "x",
         "y": [
          0,
          4
         ],
         "yaxis": "y"
        },
        {
         "hovertemplate": "company_name=PROBOTEK<br>variable=Positive<br>year=%{x}<br>value=%{y}<extra></extra>",
         "legendgroup": "PROBOTEK",
         "line": {
          "color": "#00cc96",
          "dash": "solid"
         },
         "marker": {
          "symbol": "circle"
         },
         "mode": "lines",
         "name": "PROBOTEK",
         "showlegend": true,
         "type": "scattergl",
         "x": [
          2020,
          2021,
          2022,
          2023
         ],
         "xaxis": "x",
         "y": [
          15,
          22,
          11,
          2
         ],
         "yaxis": "y"
        },
        {
         "hovertemplate": "company_name=PROBOTEK<br>variable=Negative<br>year=%{x}<br>value=%{y}<extra></extra>",
         "legendgroup": "PROBOTEK",
         "line": {
          "color": "#00cc96",
          "dash": "solid"
         },
         "marker": {
          "symbol": "circle"
         },
         "mode": "lines",
         "name": "PROBOTEK",
         "showlegend": false,
         "type": "scattergl",
         "x": [
          2020,
          2021,
          2022,
          2023
         ],
         "xaxis": "x",
         "y": [
          3,
          6,
          0,
          0
         ],
         "yaxis": "y"
        },
        {
         "hovertemplate": "company_name=PROBOTEK<br>variable=Neutral<br>year=%{x}<br>value=%{y}<extra></extra>",
         "legendgroup": "PROBOTEK",
         "line": {
          "color": "#00cc96",
          "dash": "solid"
         },
         "marker": {
          "symbol": "circle"
         },
         "mode": "lines",
         "name": "PROBOTEK",
         "showlegend": false,
         "type": "scattergl",
         "x": [
          2020,
          2021,
          2022,
          2023
         ],
         "xaxis": "x",
         "y": [
          8,
          23,
          12,
          1
         ],
         "yaxis": "y"
        },
        {
         "hovertemplate": "company_name=Pandas<br>variable=Positive<br>year=%{x}<br>value=%{y}<extra></extra>",
         "legendgroup": "Pandas",
         "line": {
          "color": "#ab63fa",
          "dash": "solid"
         },
         "marker": {
          "symbol": "circle"
         },
         "mode": "lines",
         "name": "Pandas",
         "showlegend": true,
         "type": "scattergl",
         "x": [
          2020,
          2022,
          2023
         ],
         "xaxis": "x",
         "y": [
          0,
          33,
          6
         ],
         "yaxis": "y"
        },
        {
         "hovertemplate": "company_name=Pandas<br>variable=Negative<br>year=%{x}<br>value=%{y}<extra></extra>",
         "legendgroup": "Pandas",
         "line": {
          "color": "#ab63fa",
          "dash": "solid"
         },
         "marker": {
          "symbol": "circle"
         },
         "mode": "lines",
         "name": "Pandas",
         "showlegend": false,
         "type": "scattergl",
         "x": [
          2020,
          2022,
          2023
         ],
         "xaxis": "x",
         "y": [
          0,
          0,
          0
         ],
         "yaxis": "y"
        },
        {
         "hovertemplate": "company_name=Pandas<br>variable=Neutral<br>year=%{x}<br>value=%{y}<extra></extra>",
         "legendgroup": "Pandas",
         "line": {
          "color": "#ab63fa",
          "dash": "solid"
         },
         "marker": {
          "symbol": "circle"
         },
         "mode": "lines",
         "name": "Pandas",
         "showlegend": false,
         "type": "scattergl",
         "x": [
          2020,
          2022,
          2023
         ],
         "xaxis": "x",
         "y": [
          1,
          1,
          1
         ],
         "yaxis": "y"
        },
        {
         "hovertemplate": "company_name=Pandrosia<br>variable=Positive<br>year=%{x}<br>value=%{y}<extra></extra>",
         "legendgroup": "Pandrosia",
         "line": {
          "color": "#FFA15A",
          "dash": "solid"
         },
         "marker": {
          "symbol": "circle"
         },
         "mode": "lines",
         "name": "Pandrosia",
         "showlegend": true,
         "type": "scattergl",
         "x": [
          2018,
          2019,
          2020
         ],
         "xaxis": "x",
         "y": [
          10,
          1,
          0
         ],
         "yaxis": "y"
        },
        {
         "hovertemplate": "company_name=Pandrosia<br>variable=Negative<br>year=%{x}<br>value=%{y}<extra></extra>",
         "legendgroup": "Pandrosia",
         "line": {
          "color": "#FFA15A",
          "dash": "solid"
         },
         "marker": {
          "symbol": "circle"
         },
         "mode": "lines",
         "name": "Pandrosia",
         "showlegend": false,
         "type": "scattergl",
         "x": [
          2018,
          2019,
          2020
         ],
         "xaxis": "x",
         "y": [
          9,
          2,
          0
         ],
         "yaxis": "y"
        },
        {
         "hovertemplate": "company_name=Pandrosia<br>variable=Neutral<br>year=%{x}<br>value=%{y}<extra></extra>",
         "legendgroup": "Pandrosia",
         "line": {
          "color": "#FFA15A",
          "dash": "solid"
         },
         "marker": {
          "symbol": "circle"
         },
         "mode": "lines",
         "name": "Pandrosia",
         "showlegend": false,
         "type": "scattergl",
         "x": [
          2018,
          2019,
          2020
         ],
         "xaxis": "x",
         "y": [
          675,
          63,
          22
         ],
         "yaxis": "y"
        },
        {
         "hovertemplate": "company_name=ParkAround<br>variable=Positive<br>year=%{x}<br>value=%{y}<extra></extra>",
         "legendgroup": "ParkAround",
         "line": {
          "color": "#19d3f3",
          "dash": "solid"
         },
         "marker": {
          "symbol": "circle"
         },
         "mode": "lines",
         "name": "ParkAround",
         "showlegend": true,
         "type": "scattergl",
         "x": [
          2017,
          2018,
          2019,
          2020,
          2021,
          2022,
          2023
         ],
         "xaxis": "x",
         "y": [
          1,
          2,
          10,
          4,
          2,
          0,
          0
         ],
         "yaxis": "y"
        },
        {
         "hovertemplate": "company_name=ParkAround<br>variable=Negative<br>year=%{x}<br>value=%{y}<extra></extra>",
         "legendgroup": "ParkAround",
         "line": {
          "color": "#19d3f3",
          "dash": "solid"
         },
         "marker": {
          "symbol": "circle"
         },
         "mode": "lines",
         "name": "ParkAround",
         "showlegend": false,
         "type": "scattergl",
         "x": [
          2017,
          2018,
          2019,
          2020,
          2021,
          2022,
          2023
         ],
         "xaxis": "x",
         "y": [
          0,
          0,
          2,
          0,
          0,
          0,
          0
         ],
         "yaxis": "y"
        },
        {
         "hovertemplate": "company_name=ParkAround<br>variable=Neutral<br>year=%{x}<br>value=%{y}<extra></extra>",
         "legendgroup": "ParkAround",
         "line": {
          "color": "#19d3f3",
          "dash": "solid"
         },
         "marker": {
          "symbol": "circle"
         },
         "mode": "lines",
         "name": "ParkAround",
         "showlegend": false,
         "type": "scattergl",
         "x": [
          2017,
          2018,
          2019,
          2020,
          2021,
          2022,
          2023
         ],
         "xaxis": "x",
         "y": [
          25,
          34,
          100,
          39,
          19,
          33,
          23
         ],
         "yaxis": "y"
        },
        {
         "hovertemplate": "company_name=ParkingStream<br>variable=Positive<br>year=%{x}<br>value=%{y}<extra></extra>",
         "legendgroup": "ParkingStream",
         "line": {
          "color": "#FF6692",
          "dash": "solid"
         },
         "marker": {
          "symbol": "circle"
         },
         "mode": "lines",
         "name": "ParkingStream",
         "showlegend": true,
         "type": "scattergl",
         "x": [
          2019
         ],
         "xaxis": "x",
         "y": [
          5
         ],
         "yaxis": "y"
        },
        {
         "hovertemplate": "company_name=ParkingStream<br>variable=Negative<br>year=%{x}<br>value=%{y}<extra></extra>",
         "legendgroup": "ParkingStream",
         "line": {
          "color": "#FF6692",
          "dash": "solid"
         },
         "marker": {
          "symbol": "circle"
         },
         "mode": "lines",
         "name": "ParkingStream",
         "showlegend": false,
         "type": "scattergl",
         "x": [
          2019
         ],
         "xaxis": "x",
         "y": [
          0
         ],
         "yaxis": "y"
        },
        {
         "hovertemplate": "company_name=ParkingStream<br>variable=Neutral<br>year=%{x}<br>value=%{y}<extra></extra>",
         "legendgroup": "ParkingStream",
         "line": {
          "color": "#FF6692",
          "dash": "solid"
         },
         "marker": {
          "symbol": "circle"
         },
         "mode": "lines",
         "name": "ParkingStream",
         "showlegend": false,
         "type": "scattergl",
         "x": [
          2019
         ],
         "xaxis": "x",
         "y": [
          5
         ],
         "yaxis": "y"
        },
        {
         "hovertemplate": "company_name=PaymentComponents<br>variable=Positive<br>year=%{x}<br>value=%{y}<extra></extra>",
         "legendgroup": "PaymentComponents",
         "line": {
          "color": "#B6E880",
          "dash": "solid"
         },
         "marker": {
          "symbol": "circle"
         },
         "mode": "lines",
         "name": "PaymentComponents",
         "showlegend": true,
         "type": "scattergl",
         "x": [
          2017,
          2018,
          2019,
          2020,
          2021,
          2022,
          2023
         ],
         "xaxis": "x",
         "y": [
          278,
          319,
          246,
          98,
          147,
          166,
          43
         ],
         "yaxis": "y"
        },
        {
         "hovertemplate": "company_name=PaymentComponents<br>variable=Negative<br>year=%{x}<br>value=%{y}<extra></extra>",
         "legendgroup": "PaymentComponents",
         "line": {
          "color": "#B6E880",
          "dash": "solid"
         },
         "marker": {
          "symbol": "circle"
         },
         "mode": "lines",
         "name": "PaymentComponents",
         "showlegend": false,
         "type": "scattergl",
         "x": [
          2017,
          2018,
          2019,
          2020,
          2021,
          2022,
          2023
         ],
         "xaxis": "x",
         "y": [
          51,
          80,
          57,
          24,
          37,
          8,
          2
         ],
         "yaxis": "y"
        },
        {
         "hovertemplate": "company_name=PaymentComponents<br>variable=Neutral<br>year=%{x}<br>value=%{y}<extra></extra>",
         "legendgroup": "PaymentComponents",
         "line": {
          "color": "#B6E880",
          "dash": "solid"
         },
         "marker": {
          "symbol": "circle"
         },
         "mode": "lines",
         "name": "PaymentComponents",
         "showlegend": false,
         "type": "scattergl",
         "x": [
          2017,
          2018,
          2019,
          2020,
          2021,
          2022,
          2023
         ],
         "xaxis": "x",
         "y": [
          781,
          666,
          536,
          219,
          171,
          69,
          27
         ],
         "yaxis": "y"
        },
        {
         "hovertemplate": "company_name=Perceptual Robotics<br>variable=Positive<br>year=%{x}<br>value=%{y}<extra></extra>",
         "legendgroup": "Perceptual Robotics",
         "line": {
          "color": "#FF97FF",
          "dash": "solid"
         },
         "marker": {
          "symbol": "circle"
         },
         "mode": "lines",
         "name": "Perceptual Robotics",
         "showlegend": true,
         "type": "scattergl",
         "x": [
          2017,
          2021,
          2022,
          2023
         ],
         "xaxis": "x",
         "y": [
          5,
          5,
          45,
          18
         ],
         "yaxis": "y"
        },
        {
         "hovertemplate": "company_name=Perceptual Robotics<br>variable=Negative<br>year=%{x}<br>value=%{y}<extra></extra>",
         "legendgroup": "Perceptual Robotics",
         "line": {
          "color": "#FF97FF",
          "dash": "solid"
         },
         "marker": {
          "symbol": "circle"
         },
         "mode": "lines",
         "name": "Perceptual Robotics",
         "showlegend": false,
         "type": "scattergl",
         "x": [
          2017,
          2021,
          2022,
          2023
         ],
         "xaxis": "x",
         "y": [
          0,
          2,
          4,
          0
         ],
         "yaxis": "y"
        },
        {
         "hovertemplate": "company_name=Perceptual Robotics<br>variable=Neutral<br>year=%{x}<br>value=%{y}<extra></extra>",
         "legendgroup": "Perceptual Robotics",
         "line": {
          "color": "#FF97FF",
          "dash": "solid"
         },
         "marker": {
          "symbol": "circle"
         },
         "mode": "lines",
         "name": "Perceptual Robotics",
         "showlegend": false,
         "type": "scattergl",
         "x": [
          2017,
          2021,
          2022,
          2023
         ],
         "xaxis": "x",
         "y": [
          3,
          0,
          8,
          2
         ],
         "yaxis": "y"
        },
        {
         "hovertemplate": "company_name=Phasmatic<br>variable=Positive<br>year=%{x}<br>value=%{y}<extra></extra>",
         "legendgroup": "Phasmatic",
         "line": {
          "color": "#FECB52",
          "dash": "solid"
         },
         "marker": {
          "symbol": "circle"
         },
         "mode": "lines",
         "name": "Phasmatic",
         "showlegend": true,
         "type": "scattergl",
         "x": [
          2021,
          2022,
          2023
         ],
         "xaxis": "x",
         "y": [
          5,
          1,
          2
         ],
         "yaxis": "y"
        },
        {
         "hovertemplate": "company_name=Phasmatic<br>variable=Negative<br>year=%{x}<br>value=%{y}<extra></extra>",
         "legendgroup": "Phasmatic",
         "line": {
          "color": "#FECB52",
          "dash": "solid"
         },
         "marker": {
          "symbol": "circle"
         },
         "mode": "lines",
         "name": "Phasmatic",
         "showlegend": false,
         "type": "scattergl",
         "x": [
          2021,
          2022,
          2023
         ],
         "xaxis": "x",
         "y": [
          0,
          0,
          0
         ],
         "yaxis": "y"
        },
        {
         "hovertemplate": "company_name=Phasmatic<br>variable=Neutral<br>year=%{x}<br>value=%{y}<extra></extra>",
         "legendgroup": "Phasmatic",
         "line": {
          "color": "#FECB52",
          "dash": "solid"
         },
         "marker": {
          "symbol": "circle"
         },
         "mode": "lines",
         "name": "Phasmatic",
         "showlegend": false,
         "type": "scattergl",
         "x": [
          2021,
          2022,
          2023
         ],
         "xaxis": "x",
         "y": [
          4,
          0,
          0
         ],
         "yaxis": "y"
        },
        {
         "hovertemplate": "company_name=Phenometry<br>variable=Positive<br>year=%{x}<br>value=%{y}<extra></extra>",
         "legendgroup": "Phenometry",
         "line": {
          "color": "#636efa",
          "dash": "solid"
         },
         "marker": {
          "symbol": "circle"
         },
         "mode": "lines",
         "name": "Phenometry",
         "showlegend": true,
         "type": "scattergl",
         "x": [
          2022
         ],
         "xaxis": "x",
         "y": [
          2
         ],
         "yaxis": "y"
        },
        {
         "hovertemplate": "company_name=Phenometry<br>variable=Negative<br>year=%{x}<br>value=%{y}<extra></extra>",
         "legendgroup": "Phenometry",
         "line": {
          "color": "#636efa",
          "dash": "solid"
         },
         "marker": {
          "symbol": "circle"
         },
         "mode": "lines",
         "name": "Phenometry",
         "showlegend": false,
         "type": "scattergl",
         "x": [
          2022
         ],
         "xaxis": "x",
         "y": [
          0
         ],
         "yaxis": "y"
        },
        {
         "hovertemplate": "company_name=Phenometry<br>variable=Neutral<br>year=%{x}<br>value=%{y}<extra></extra>",
         "legendgroup": "Phenometry",
         "line": {
          "color": "#636efa",
          "dash": "solid"
         },
         "marker": {
          "symbol": "circle"
         },
         "mode": "lines",
         "name": "Phenometry",
         "showlegend": false,
         "type": "scattergl",
         "x": [
          2022
         ],
         "xaxis": "x",
         "y": [
          1
         ],
         "yaxis": "y"
        },
        {
         "hovertemplate": "company_name=Pixel Reign<br>variable=Positive<br>year=%{x}<br>value=%{y}<extra></extra>",
         "legendgroup": "Pixel Reign",
         "line": {
          "color": "#EF553B",
          "dash": "solid"
         },
         "marker": {
          "symbol": "circle"
         },
         "mode": "lines",
         "name": "Pixel Reign",
         "showlegend": true,
         "type": "scattergl",
         "x": [
          2017,
          2018,
          2019,
          2020,
          2021,
          2022,
          2023
         ],
         "xaxis": "x",
         "y": [
          29,
          38,
          28,
          7,
          1,
          22,
          3
         ],
         "yaxis": "y"
        },
        {
         "hovertemplate": "company_name=Pixel Reign<br>variable=Negative<br>year=%{x}<br>value=%{y}<extra></extra>",
         "legendgroup": "Pixel Reign",
         "line": {
          "color": "#EF553B",
          "dash": "solid"
         },
         "marker": {
          "symbol": "circle"
         },
         "mode": "lines",
         "name": "Pixel Reign",
         "showlegend": false,
         "type": "scattergl",
         "x": [
          2017,
          2018,
          2019,
          2020,
          2021,
          2022,
          2023
         ],
         "xaxis": "x",
         "y": [
          11,
          13,
          2,
          4,
          3,
          2,
          0
         ],
         "yaxis": "y"
        },
        {
         "hovertemplate": "company_name=Pixel Reign<br>variable=Neutral<br>year=%{x}<br>value=%{y}<extra></extra>",
         "legendgroup": "Pixel Reign",
         "line": {
          "color": "#EF553B",
          "dash": "solid"
         },
         "marker": {
          "symbol": "circle"
         },
         "mode": "lines",
         "name": "Pixel Reign",
         "showlegend": false,
         "type": "scattergl",
         "x": [
          2017,
          2018,
          2019,
          2020,
          2021,
          2022,
          2023
         ],
         "xaxis": "x",
         "y": [
          34,
          33,
          28,
          12,
          2,
          15,
          0
         ],
         "yaxis": "y"
        },
        {
         "hovertemplate": "company_name=Pixelocracy<br>variable=Positive<br>year=%{x}<br>value=%{y}<extra></extra>",
         "legendgroup": "Pixelocracy",
         "line": {
          "color": "#00cc96",
          "dash": "solid"
         },
         "marker": {
          "symbol": "circle"
         },
         "mode": "lines",
         "name": "Pixelocracy",
         "showlegend": true,
         "type": "scattergl",
         "x": [
          2020
         ],
         "xaxis": "x",
         "y": [
          1
         ],
         "yaxis": "y"
        },
        {
         "hovertemplate": "company_name=Pixelocracy<br>variable=Negative<br>year=%{x}<br>value=%{y}<extra></extra>",
         "legendgroup": "Pixelocracy",
         "line": {
          "color": "#00cc96",
          "dash": "solid"
         },
         "marker": {
          "symbol": "circle"
         },
         "mode": "lines",
         "name": "Pixelocracy",
         "showlegend": false,
         "type": "scattergl",
         "x": [
          2020
         ],
         "xaxis": "x",
         "y": [
          0
         ],
         "yaxis": "y"
        },
        {
         "hovertemplate": "company_name=Pixelocracy<br>variable=Neutral<br>year=%{x}<br>value=%{y}<extra></extra>",
         "legendgroup": "Pixelocracy",
         "line": {
          "color": "#00cc96",
          "dash": "solid"
         },
         "marker": {
          "symbol": "circle"
         },
         "mode": "lines",
         "name": "Pixelocracy",
         "showlegend": false,
         "type": "scattergl",
         "x": [
          2020
         ],
         "xaxis": "x",
         "y": [
          0
         ],
         "yaxis": "y"
        },
        {
         "hovertemplate": "company_name=Pollfish<br>variable=Positive<br>year=%{x}<br>value=%{y}<extra></extra>",
         "legendgroup": "Pollfish",
         "line": {
          "color": "#ab63fa",
          "dash": "solid"
         },
         "marker": {
          "symbol": "circle"
         },
         "mode": "lines",
         "name": "Pollfish",
         "showlegend": true,
         "type": "scattergl",
         "x": [
          2017,
          2018,
          2019,
          2020,
          2021,
          2022,
          2023
         ],
         "xaxis": "x",
         "y": [
          73,
          31,
          26,
          61,
          102,
          29,
          3
         ],
         "yaxis": "y"
        },
        {
         "hovertemplate": "company_name=Pollfish<br>variable=Negative<br>year=%{x}<br>value=%{y}<extra></extra>",
         "legendgroup": "Pollfish",
         "line": {
          "color": "#ab63fa",
          "dash": "solid"
         },
         "marker": {
          "symbol": "circle"
         },
         "mode": "lines",
         "name": "Pollfish",
         "showlegend": false,
         "type": "scattergl",
         "x": [
          2017,
          2018,
          2019,
          2020,
          2021,
          2022,
          2023
         ],
         "xaxis": "x",
         "y": [
          8,
          4,
          6,
          8,
          12,
          3,
          0
         ],
         "yaxis": "y"
        },
        {
         "hovertemplate": "company_name=Pollfish<br>variable=Neutral<br>year=%{x}<br>value=%{y}<extra></extra>",
         "legendgroup": "Pollfish",
         "line": {
          "color": "#ab63fa",
          "dash": "solid"
         },
         "marker": {
          "symbol": "circle"
         },
         "mode": "lines",
         "name": "Pollfish",
         "showlegend": false,
         "type": "scattergl",
         "x": [
          2017,
          2018,
          2019,
          2020,
          2021,
          2022,
          2023
         ],
         "xaxis": "x",
         "y": [
          31,
          15,
          17,
          18,
          50,
          29,
          1
         ],
         "yaxis": "y"
        },
        {
         "hovertemplate": "company_name=Purposeful<br>variable=Positive<br>year=%{x}<br>value=%{y}<extra></extra>",
         "legendgroup": "Purposeful",
         "line": {
          "color": "#FFA15A",
          "dash": "solid"
         },
         "marker": {
          "symbol": "circle"
         },
         "mode": "lines",
         "name": "Purposeful",
         "showlegend": true,
         "type": "scattergl",
         "x": [
          2020
         ],
         "xaxis": "x",
         "y": [
          0
         ],
         "yaxis": "y"
        },
        {
         "hovertemplate": "company_name=Purposeful<br>variable=Negative<br>year=%{x}<br>value=%{y}<extra></extra>",
         "legendgroup": "Purposeful",
         "line": {
          "color": "#FFA15A",
          "dash": "solid"
         },
         "marker": {
          "symbol": "circle"
         },
         "mode": "lines",
         "name": "Purposeful",
         "showlegend": false,
         "type": "scattergl",
         "x": [
          2020
         ],
         "xaxis": "x",
         "y": [
          0
         ],
         "yaxis": "y"
        },
        {
         "hovertemplate": "company_name=Purposeful<br>variable=Neutral<br>year=%{x}<br>value=%{y}<extra></extra>",
         "legendgroup": "Purposeful",
         "line": {
          "color": "#FFA15A",
          "dash": "solid"
         },
         "marker": {
          "symbol": "circle"
         },
         "mode": "lines",
         "name": "Purposeful",
         "showlegend": false,
         "type": "scattergl",
         "x": [
          2020
         ],
         "xaxis": "x",
         "y": [
          3
         ],
         "yaxis": "y"
        },
        {
         "hovertemplate": "company_name=QC Analytics<br>variable=Positive<br>year=%{x}<br>value=%{y}<extra></extra>",
         "legendgroup": "QC Analytics",
         "line": {
          "color": "#19d3f3",
          "dash": "solid"
         },
         "marker": {
          "symbol": "circle"
         },
         "mode": "lines",
         "name": "QC Analytics",
         "showlegend": true,
         "type": "scattergl",
         "x": [
          2019,
          2020,
          2021,
          2022,
          2023
         ],
         "xaxis": "x",
         "y": [
          0,
          4,
          7,
          7,
          3
         ],
         "yaxis": "y"
        },
        {
         "hovertemplate": "company_name=QC Analytics<br>variable=Negative<br>year=%{x}<br>value=%{y}<extra></extra>",
         "legendgroup": "QC Analytics",
         "line": {
          "color": "#19d3f3",
          "dash": "solid"
         },
         "marker": {
          "symbol": "circle"
         },
         "mode": "lines",
         "name": "QC Analytics",
         "showlegend": false,
         "type": "scattergl",
         "x": [
          2019,
          2020,
          2021,
          2022,
          2023
         ],
         "xaxis": "x",
         "y": [
          0,
          4,
          3,
          0,
          0
         ],
         "yaxis": "y"
        },
        {
         "hovertemplate": "company_name=QC Analytics<br>variable=Neutral<br>year=%{x}<br>value=%{y}<extra></extra>",
         "legendgroup": "QC Analytics",
         "line": {
          "color": "#19d3f3",
          "dash": "solid"
         },
         "marker": {
          "symbol": "circle"
         },
         "mode": "lines",
         "name": "QC Analytics",
         "showlegend": false,
         "type": "scattergl",
         "x": [
          2019,
          2020,
          2021,
          2022,
          2023
         ],
         "xaxis": "x",
         "y": [
          5,
          4,
          21,
          7,
          3
         ],
         "yaxis": "y"
        },
        {
         "hovertemplate": "company_name=Qcells Europe<br>variable=Positive<br>year=%{x}<br>value=%{y}<extra></extra>",
         "legendgroup": "Qcells Europe",
         "line": {
          "color": "#FF6692",
          "dash": "solid"
         },
         "marker": {
          "symbol": "circle"
         },
         "mode": "lines",
         "name": "Qcells Europe",
         "showlegend": true,
         "type": "scattergl",
         "x": [
          2019,
          2020,
          2021,
          2022,
          2023
         ],
         "xaxis": "x",
         "y": [
          6,
          32,
          35,
          27,
          16
         ],
         "yaxis": "y"
        },
        {
         "hovertemplate": "company_name=Qcells Europe<br>variable=Negative<br>year=%{x}<br>value=%{y}<extra></extra>",
         "legendgroup": "Qcells Europe",
         "line": {
          "color": "#FF6692",
          "dash": "solid"
         },
         "marker": {
          "symbol": "circle"
         },
         "mode": "lines",
         "name": "Qcells Europe",
         "showlegend": false,
         "type": "scattergl",
         "x": [
          2019,
          2020,
          2021,
          2022,
          2023
         ],
         "xaxis": "x",
         "y": [
          3,
          0,
          1,
          1,
          1
         ],
         "yaxis": "y"
        },
        {
         "hovertemplate": "company_name=Qcells Europe<br>variable=Neutral<br>year=%{x}<br>value=%{y}<extra></extra>",
         "legendgroup": "Qcells Europe",
         "line": {
          "color": "#FF6692",
          "dash": "solid"
         },
         "marker": {
          "symbol": "circle"
         },
         "mode": "lines",
         "name": "Qcells Europe",
         "showlegend": false,
         "type": "scattergl",
         "x": [
          2019,
          2020,
          2021,
          2022,
          2023
         ],
         "xaxis": "x",
         "y": [
          3,
          6,
          8,
          12,
          1
         ],
         "yaxis": "y"
        },
        {
         "hovertemplate": "company_name=Quadible<br>variable=Positive<br>year=%{x}<br>value=%{y}<extra></extra>",
         "legendgroup": "Quadible",
         "line": {
          "color": "#B6E880",
          "dash": "solid"
         },
         "marker": {
          "symbol": "circle"
         },
         "mode": "lines",
         "name": "Quadible",
         "showlegend": true,
         "type": "scattergl",
         "x": [
          2017,
          2018,
          2019,
          2020,
          2022
         ],
         "xaxis": "x",
         "y": [
          7,
          0,
          4,
          1,
          1
         ],
         "yaxis": "y"
        },
        {
         "hovertemplate": "company_name=Quadible<br>variable=Negative<br>year=%{x}<br>value=%{y}<extra></extra>",
         "legendgroup": "Quadible",
         "line": {
          "color": "#B6E880",
          "dash": "solid"
         },
         "marker": {
          "symbol": "circle"
         },
         "mode": "lines",
         "name": "Quadible",
         "showlegend": false,
         "type": "scattergl",
         "x": [
          2017,
          2018,
          2019,
          2020,
          2022
         ],
         "xaxis": "x",
         "y": [
          0,
          0,
          1,
          0,
          0
         ],
         "yaxis": "y"
        },
        {
         "hovertemplate": "company_name=Quadible<br>variable=Neutral<br>year=%{x}<br>value=%{y}<extra></extra>",
         "legendgroup": "Quadible",
         "line": {
          "color": "#B6E880",
          "dash": "solid"
         },
         "marker": {
          "symbol": "circle"
         },
         "mode": "lines",
         "name": "Quadible",
         "showlegend": false,
         "type": "scattergl",
         "x": [
          2017,
          2018,
          2019,
          2020,
          2022
         ],
         "xaxis": "x",
         "y": [
          11,
          5,
          6,
          0,
          1
         ],
         "yaxis": "y"
        },
        {
         "hovertemplate": "company_name=RENVIS<br>variable=Positive<br>year=%{x}<br>value=%{y}<extra></extra>",
         "legendgroup": "RENVIS",
         "line": {
          "color": "#FF97FF",
          "dash": "solid"
         },
         "marker": {
          "symbol": "circle"
         },
         "mode": "lines",
         "name": "RENVIS",
         "showlegend": true,
         "type": "scattergl",
         "x": [
          2018,
          2019,
          2020,
          2021,
          2022,
          2023
         ],
         "xaxis": "x",
         "y": [
          13,
          19,
          21,
          23,
          55,
          13
         ],
         "yaxis": "y"
        },
        {
         "hovertemplate": "company_name=RENVIS<br>variable=Negative<br>year=%{x}<br>value=%{y}<extra></extra>",
         "legendgroup": "RENVIS",
         "line": {
          "color": "#FF97FF",
          "dash": "solid"
         },
         "marker": {
          "symbol": "circle"
         },
         "mode": "lines",
         "name": "RENVIS",
         "showlegend": false,
         "type": "scattergl",
         "x": [
          2018,
          2019,
          2020,
          2021,
          2022,
          2023
         ],
         "xaxis": "x",
         "y": [
          0,
          2,
          1,
          0,
          3,
          1
         ],
         "yaxis": "y"
        },
        {
         "hovertemplate": "company_name=RENVIS<br>variable=Neutral<br>year=%{x}<br>value=%{y}<extra></extra>",
         "legendgroup": "RENVIS",
         "line": {
          "color": "#FF97FF",
          "dash": "solid"
         },
         "marker": {
          "symbol": "circle"
         },
         "mode": "lines",
         "name": "RENVIS",
         "showlegend": false,
         "type": "scattergl",
         "x": [
          2018,
          2019,
          2020,
          2021,
          2022,
          2023
         ],
         "xaxis": "x",
         "y": [
          14,
          17,
          6,
          5,
          39,
          6
         ],
         "yaxis": "y"
        },
        {
         "hovertemplate": "company_name=RETOUCH Health Solutions<br>variable=Positive<br>year=%{x}<br>value=%{y}<extra></extra>",
         "legendgroup": "RETOUCH Health Solutions",
         "line": {
          "color": "#FECB52",
          "dash": "solid"
         },
         "marker": {
          "symbol": "circle"
         },
         "mode": "lines",
         "name": "RETOUCH Health Solutions",
         "showlegend": true,
         "type": "scattergl",
         "x": [
          2022
         ],
         "xaxis": "x",
         "y": [
          0
         ],
         "yaxis": "y"
        },
        {
         "hovertemplate": "company_name=RETOUCH Health Solutions<br>variable=Negative<br>year=%{x}<br>value=%{y}<extra></extra>",
         "legendgroup": "RETOUCH Health Solutions",
         "line": {
          "color": "#FECB52",
          "dash": "solid"
         },
         "marker": {
          "symbol": "circle"
         },
         "mode": "lines",
         "name": "RETOUCH Health Solutions",
         "showlegend": false,
         "type": "scattergl",
         "x": [
          2022
         ],
         "xaxis": "x",
         "y": [
          0
         ],
         "yaxis": "y"
        },
        {
         "hovertemplate": "company_name=RETOUCH Health Solutions<br>variable=Neutral<br>year=%{x}<br>value=%{y}<extra></extra>",
         "legendgroup": "RETOUCH Health Solutions",
         "line": {
          "color": "#FECB52",
          "dash": "solid"
         },
         "marker": {
          "symbol": "circle"
         },
         "mode": "lines",
         "name": "RETOUCH Health Solutions",
         "showlegend": false,
         "type": "scattergl",
         "x": [
          2022
         ],
         "xaxis": "x",
         "y": [
          1
         ],
         "yaxis": "y"
        },
        {
         "hovertemplate": "company_name=RTsafe<br>variable=Positive<br>year=%{x}<br>value=%{y}<extra></extra>",
         "legendgroup": "RTsafe",
         "line": {
          "color": "#636efa",
          "dash": "solid"
         },
         "marker": {
          "symbol": "circle"
         },
         "mode": "lines",
         "name": "RTsafe",
         "showlegend": true,
         "type": "scattergl",
         "x": [
          2018,
          2019,
          2020,
          2021,
          2022,
          2023
         ],
         "xaxis": "x",
         "y": [
          11,
          29,
          34,
          42,
          37,
          6
         ],
         "yaxis": "y"
        },
        {
         "hovertemplate": "company_name=RTsafe<br>variable=Negative<br>year=%{x}<br>value=%{y}<extra></extra>",
         "legendgroup": "RTsafe",
         "line": {
          "color": "#636efa",
          "dash": "solid"
         },
         "marker": {
          "symbol": "circle"
         },
         "mode": "lines",
         "name": "RTsafe",
         "showlegend": false,
         "type": "scattergl",
         "x": [
          2018,
          2019,
          2020,
          2021,
          2022,
          2023
         ],
         "xaxis": "x",
         "y": [
          0,
          1,
          2,
          0,
          2,
          0
         ],
         "yaxis": "y"
        },
        {
         "hovertemplate": "company_name=RTsafe<br>variable=Neutral<br>year=%{x}<br>value=%{y}<extra></extra>",
         "legendgroup": "RTsafe",
         "line": {
          "color": "#636efa",
          "dash": "solid"
         },
         "marker": {
          "symbol": "circle"
         },
         "mode": "lines",
         "name": "RTsafe",
         "showlegend": false,
         "type": "scattergl",
         "x": [
          2018,
          2019,
          2020,
          2021,
          2022,
          2023
         ],
         "xaxis": "x",
         "y": [
          9,
          24,
          8,
          7,
          14,
          5
         ],
         "yaxis": "y"
        },
        {
         "hovertemplate": "company_name=Refarm Leisure Farm<br>variable=Positive<br>year=%{x}<br>value=%{y}<extra></extra>",
         "legendgroup": "Refarm Leisure Farm",
         "line": {
          "color": "#EF553B",
          "dash": "solid"
         },
         "marker": {
          "symbol": "circle"
         },
         "mode": "lines",
         "name": "Refarm Leisure Farm",
         "showlegend": true,
         "type": "scattergl",
         "x": [
          2018,
          2019,
          2020
         ],
         "xaxis": "x",
         "y": [
          17,
          4,
          1
         ],
         "yaxis": "y"
        },
        {
         "hovertemplate": "company_name=Refarm Leisure Farm<br>variable=Negative<br>year=%{x}<br>value=%{y}<extra></extra>",
         "legendgroup": "Refarm Leisure Farm",
         "line": {
          "color": "#EF553B",
          "dash": "solid"
         },
         "marker": {
          "symbol": "circle"
         },
         "mode": "lines",
         "name": "Refarm Leisure Farm",
         "showlegend": false,
         "type": "scattergl",
         "x": [
          2018,
          2019,
          2020
         ],
         "xaxis": "x",
         "y": [
          0,
          0,
          0
         ],
         "yaxis": "y"
        },
        {
         "hovertemplate": "company_name=Refarm Leisure Farm<br>variable=Neutral<br>year=%{x}<br>value=%{y}<extra></extra>",
         "legendgroup": "Refarm Leisure Farm",
         "line": {
          "color": "#EF553B",
          "dash": "solid"
         },
         "marker": {
          "symbol": "circle"
         },
         "mode": "lines",
         "name": "Refarm Leisure Farm",
         "showlegend": false,
         "type": "scattergl",
         "x": [
          2018,
          2019,
          2020
         ],
         "xaxis": "x",
         "y": [
          10,
          0,
          0
         ],
         "yaxis": "y"
        },
        {
         "hovertemplate": "company_name=Reveffect<br>variable=Positive<br>year=%{x}<br>value=%{y}<extra></extra>",
         "legendgroup": "Reveffect",
         "line": {
          "color": "#00cc96",
          "dash": "solid"
         },
         "marker": {
          "symbol": "circle"
         },
         "mode": "lines",
         "name": "Reveffect",
         "showlegend": true,
         "type": "scattergl",
         "x": [
          2019,
          2020,
          2021,
          2022,
          2023
         ],
         "xaxis": "x",
         "y": [
          12,
          11,
          2,
          1,
          0
         ],
         "yaxis": "y"
        },
        {
         "hovertemplate": "company_name=Reveffect<br>variable=Negative<br>year=%{x}<br>value=%{y}<extra></extra>",
         "legendgroup": "Reveffect",
         "line": {
          "color": "#00cc96",
          "dash": "solid"
         },
         "marker": {
          "symbol": "circle"
         },
         "mode": "lines",
         "name": "Reveffect",
         "showlegend": false,
         "type": "scattergl",
         "x": [
          2019,
          2020,
          2021,
          2022,
          2023
         ],
         "xaxis": "x",
         "y": [
          1,
          1,
          0,
          0,
          0
         ],
         "yaxis": "y"
        },
        {
         "hovertemplate": "company_name=Reveffect<br>variable=Neutral<br>year=%{x}<br>value=%{y}<extra></extra>",
         "legendgroup": "Reveffect",
         "line": {
          "color": "#00cc96",
          "dash": "solid"
         },
         "marker": {
          "symbol": "circle"
         },
         "mode": "lines",
         "name": "Reveffect",
         "showlegend": false,
         "type": "scattergl",
         "x": [
          2019,
          2020,
          2021,
          2022,
          2023
         ],
         "xaxis": "x",
         "y": [
          12,
          6,
          7,
          13,
          7
         ],
         "yaxis": "y"
        },
        {
         "hovertemplate": "company_name=Rokoko<br>variable=Positive<br>year=%{x}<br>value=%{y}<extra></extra>",
         "legendgroup": "Rokoko",
         "line": {
          "color": "#ab63fa",
          "dash": "solid"
         },
         "marker": {
          "symbol": "circle"
         },
         "mode": "lines",
         "name": "Rokoko",
         "showlegend": true,
         "type": "scattergl",
         "x": [
          2017,
          2018,
          2019,
          2020,
          2021,
          2022,
          2023
         ],
         "xaxis": "x",
         "y": [
          87,
          200,
          213,
          376,
          433,
          315,
          78
         ],
         "yaxis": "y"
        },
        {
         "hovertemplate": "company_name=Rokoko<br>variable=Negative<br>year=%{x}<br>value=%{y}<extra></extra>",
         "legendgroup": "Rokoko",
         "line": {
          "color": "#ab63fa",
          "dash": "solid"
         },
         "marker": {
          "symbol": "circle"
         },
         "mode": "lines",
         "name": "Rokoko",
         "showlegend": false,
         "type": "scattergl",
         "x": [
          2017,
          2018,
          2019,
          2020,
          2021,
          2022,
          2023
         ],
         "xaxis": "x",
         "y": [
          7,
          17,
          7,
          19,
          72,
          29,
          5
         ],
         "yaxis": "y"
        },
        {
         "hovertemplate": "company_name=Rokoko<br>variable=Neutral<br>year=%{x}<br>value=%{y}<extra></extra>",
         "legendgroup": "Rokoko",
         "line": {
          "color": "#ab63fa",
          "dash": "solid"
         },
         "marker": {
          "symbol": "circle"
         },
         "mode": "lines",
         "name": "Rokoko",
         "showlegend": false,
         "type": "scattergl",
         "x": [
          2017,
          2018,
          2019,
          2020,
          2021,
          2022,
          2023
         ],
         "xaxis": "x",
         "y": [
          42,
          47,
          35,
          130,
          583,
          390,
          72
         ],
         "yaxis": "y"
        },
        {
         "hovertemplate": "company_name=SAS Tech<br>variable=Positive<br>year=%{x}<br>value=%{y}<extra></extra>",
         "legendgroup": "SAS Tech",
         "line": {
          "color": "#FFA15A",
          "dash": "solid"
         },
         "marker": {
          "symbol": "circle"
         },
         "mode": "lines",
         "name": "SAS Tech",
         "showlegend": true,
         "type": "scattergl",
         "x": [
          2020,
          2022,
          2023
         ],
         "xaxis": "x",
         "y": [
          0,
          11,
          1
         ],
         "yaxis": "y"
        },
        {
         "hovertemplate": "company_name=SAS Tech<br>variable=Negative<br>year=%{x}<br>value=%{y}<extra></extra>",
         "legendgroup": "SAS Tech",
         "line": {
          "color": "#FFA15A",
          "dash": "solid"
         },
         "marker": {
          "symbol": "circle"
         },
         "mode": "lines",
         "name": "SAS Tech",
         "showlegend": false,
         "type": "scattergl",
         "x": [
          2020,
          2022,
          2023
         ],
         "xaxis": "x",
         "y": [
          0,
          3,
          0
         ],
         "yaxis": "y"
        },
        {
         "hovertemplate": "company_name=SAS Tech<br>variable=Neutral<br>year=%{x}<br>value=%{y}<extra></extra>",
         "legendgroup": "SAS Tech",
         "line": {
          "color": "#FFA15A",
          "dash": "solid"
         },
         "marker": {
          "symbol": "circle"
         },
         "mode": "lines",
         "name": "SAS Tech",
         "showlegend": false,
         "type": "scattergl",
         "x": [
          2020,
          2022,
          2023
         ],
         "xaxis": "x",
         "y": [
          1,
          31,
          5
         ],
         "yaxis": "y"
        },
        {
         "hovertemplate": "company_name=SCiO<br>variable=Positive<br>year=%{x}<br>value=%{y}<extra></extra>",
         "legendgroup": "SCiO",
         "line": {
          "color": "#19d3f3",
          "dash": "solid"
         },
         "marker": {
          "symbol": "circle"
         },
         "mode": "lines",
         "name": "SCiO",
         "showlegend": true,
         "type": "scattergl",
         "x": [
          2019,
          2020,
          2021,
          2022
         ],
         "xaxis": "x",
         "y": [
          14,
          17,
          6,
          3
         ],
         "yaxis": "y"
        },
        {
         "hovertemplate": "company_name=SCiO<br>variable=Negative<br>year=%{x}<br>value=%{y}<extra></extra>",
         "legendgroup": "SCiO",
         "line": {
          "color": "#19d3f3",
          "dash": "solid"
         },
         "marker": {
          "symbol": "circle"
         },
         "mode": "lines",
         "name": "SCiO",
         "showlegend": false,
         "type": "scattergl",
         "x": [
          2019,
          2020,
          2021,
          2022
         ],
         "xaxis": "x",
         "y": [
          1,
          1,
          0,
          0
         ],
         "yaxis": "y"
        },
        {
         "hovertemplate": "company_name=SCiO<br>variable=Neutral<br>year=%{x}<br>value=%{y}<extra></extra>",
         "legendgroup": "SCiO",
         "line": {
          "color": "#19d3f3",
          "dash": "solid"
         },
         "marker": {
          "symbol": "circle"
         },
         "mode": "lines",
         "name": "SCiO",
         "showlegend": false,
         "type": "scattergl",
         "x": [
          2019,
          2020,
          2021,
          2022
         ],
         "xaxis": "x",
         "y": [
          9,
          8,
          8,
          1
         ],
         "yaxis": "y"
        },
        {
         "hovertemplate": "company_name=SEEMS PC<br>variable=Positive<br>year=%{x}<br>value=%{y}<extra></extra>",
         "legendgroup": "SEEMS PC",
         "line": {
          "color": "#FF6692",
          "dash": "solid"
         },
         "marker": {
          "symbol": "circle"
         },
         "mode": "lines",
         "name": "SEEMS PC",
         "showlegend": true,
         "type": "scattergl",
         "x": [
          2020,
          2021,
          2022,
          2023
         ],
         "xaxis": "x",
         "y": [
          5,
          4,
          8,
          4
         ],
         "yaxis": "y"
        },
        {
         "hovertemplate": "company_name=SEEMS PC<br>variable=Negative<br>year=%{x}<br>value=%{y}<extra></extra>",
         "legendgroup": "SEEMS PC",
         "line": {
          "color": "#FF6692",
          "dash": "solid"
         },
         "marker": {
          "symbol": "circle"
         },
         "mode": "lines",
         "name": "SEEMS PC",
         "showlegend": false,
         "type": "scattergl",
         "x": [
          2020,
          2021,
          2022,
          2023
         ],
         "xaxis": "x",
         "y": [
          0,
          0,
          2,
          0
         ],
         "yaxis": "y"
        },
        {
         "hovertemplate": "company_name=SEEMS PC<br>variable=Neutral<br>year=%{x}<br>value=%{y}<extra></extra>",
         "legendgroup": "SEEMS PC",
         "line": {
          "color": "#FF6692",
          "dash": "solid"
         },
         "marker": {
          "symbol": "circle"
         },
         "mode": "lines",
         "name": "SEEMS PC",
         "showlegend": false,
         "type": "scattergl",
         "x": [
          2020,
          2021,
          2022,
          2023
         ],
         "xaxis": "x",
         "y": [
          1,
          2,
          8,
          4
         ],
         "yaxis": "y"
        },
        {
         "hovertemplate": "company_name=SPARKLEAN Greece<br>variable=Positive<br>year=%{x}<br>value=%{y}<extra></extra>",
         "legendgroup": "SPARKLEAN Greece",
         "line": {
          "color": "#B6E880",
          "dash": "solid"
         },
         "marker": {
          "symbol": "circle"
         },
         "mode": "lines",
         "name": "SPARKLEAN Greece",
         "showlegend": true,
         "type": "scattergl",
         "x": [
          2020,
          2021,
          2022,
          2023
         ],
         "xaxis": "x",
         "y": [
          2,
          0,
          4,
          3
         ],
         "yaxis": "y"
        },
        {
         "hovertemplate": "company_name=SPARKLEAN Greece<br>variable=Negative<br>year=%{x}<br>value=%{y}<extra></extra>",
         "legendgroup": "SPARKLEAN Greece",
         "line": {
          "color": "#B6E880",
          "dash": "solid"
         },
         "marker": {
          "symbol": "circle"
         },
         "mode": "lines",
         "name": "SPARKLEAN Greece",
         "showlegend": false,
         "type": "scattergl",
         "x": [
          2020,
          2021,
          2022,
          2023
         ],
         "xaxis": "x",
         "y": [
          0,
          0,
          0,
          0
         ],
         "yaxis": "y"
        },
        {
         "hovertemplate": "company_name=SPARKLEAN Greece<br>variable=Neutral<br>year=%{x}<br>value=%{y}<extra></extra>",
         "legendgroup": "SPARKLEAN Greece",
         "line": {
          "color": "#B6E880",
          "dash": "solid"
         },
         "marker": {
          "symbol": "circle"
         },
         "mode": "lines",
         "name": "SPARKLEAN Greece",
         "showlegend": false,
         "type": "scattergl",
         "x": [
          2020,
          2021,
          2022,
          2023
         ],
         "xaxis": "x",
         "y": [
          33,
          3,
          40,
          28
         ],
         "yaxis": "y"
        },
        {
         "hovertemplate": "company_name=SPIN Analytics â”‚official<br>variable=Positive<br>year=%{x}<br>value=%{y}<extra></extra>",
         "legendgroup": "SPIN Analytics â”‚official",
         "line": {
          "color": "#FF97FF",
          "dash": "solid"
         },
         "marker": {
          "symbol": "circle"
         },
         "mode": "lines",
         "name": "SPIN Analytics â”‚official",
         "showlegend": true,
         "type": "scattergl",
         "x": [
          2017,
          2018,
          2019,
          2020,
          2021,
          2022
         ],
         "xaxis": "x",
         "y": [
          1,
          15,
          9,
          10,
          12,
          4
         ],
         "yaxis": "y"
        },
        {
         "hovertemplate": "company_name=SPIN Analytics â”‚official<br>variable=Negative<br>year=%{x}<br>value=%{y}<extra></extra>",
         "legendgroup": "SPIN Analytics â”‚official",
         "line": {
          "color": "#FF97FF",
          "dash": "solid"
         },
         "marker": {
          "symbol": "circle"
         },
         "mode": "lines",
         "name": "SPIN Analytics â”‚official",
         "showlegend": false,
         "type": "scattergl",
         "x": [
          2017,
          2018,
          2019,
          2020,
          2021,
          2022
         ],
         "xaxis": "x",
         "y": [
          0,
          2,
          0,
          0,
          0,
          0
         ],
         "yaxis": "y"
        },
        {
         "hovertemplate": "company_name=SPIN Analytics â”‚official<br>variable=Neutral<br>year=%{x}<br>value=%{y}<extra></extra>",
         "legendgroup": "SPIN Analytics â”‚official",
         "line": {
          "color": "#FF97FF",
          "dash": "solid"
         },
         "marker": {
          "symbol": "circle"
         },
         "mode": "lines",
         "name": "SPIN Analytics â”‚official",
         "showlegend": false,
         "type": "scattergl",
         "x": [
          2017,
          2018,
          2019,
          2020,
          2021,
          2022
         ],
         "xaxis": "x",
         "y": [
          1,
          56,
          16,
          19,
          27,
          16
         ],
         "yaxis": "y"
        },
        {
         "hovertemplate": "company_name=SSIC MUJ<br>variable=Positive<br>year=%{x}<br>value=%{y}<extra></extra>",
         "legendgroup": "SSIC MUJ",
         "line": {
          "color": "#FECB52",
          "dash": "solid"
         },
         "marker": {
          "symbol": "circle"
         },
         "mode": "lines",
         "name": "SSIC MUJ",
         "showlegend": true,
         "type": "scattergl",
         "x": [
          2017,
          2018,
          2020,
          2021,
          2023
         ],
         "xaxis": "x",
         "y": [
          0,
          0,
          9,
          0,
          1
         ],
         "yaxis": "y"
        },
        {
         "hovertemplate": "company_name=SSIC MUJ<br>variable=Negative<br>year=%{x}<br>value=%{y}<extra></extra>",
         "legendgroup": "SSIC MUJ",
         "line": {
          "color": "#FECB52",
          "dash": "solid"
         },
         "marker": {
          "symbol": "circle"
         },
         "mode": "lines",
         "name": "SSIC MUJ",
         "showlegend": false,
         "type": "scattergl",
         "x": [
          2017,
          2018,
          2020,
          2021,
          2023
         ],
         "xaxis": "x",
         "y": [
          0,
          1,
          0,
          0,
          0
         ],
         "yaxis": "y"
        },
        {
         "hovertemplate": "company_name=SSIC MUJ<br>variable=Neutral<br>year=%{x}<br>value=%{y}<extra></extra>",
         "legendgroup": "SSIC MUJ",
         "line": {
          "color": "#FECB52",
          "dash": "solid"
         },
         "marker": {
          "symbol": "circle"
         },
         "mode": "lines",
         "name": "SSIC MUJ",
         "showlegend": false,
         "type": "scattergl",
         "x": [
          2017,
          2018,
          2020,
          2021,
          2023
         ],
         "xaxis": "x",
         "y": [
          5,
          1,
          4,
          4,
          0
         ],
         "yaxis": "y"
        },
        {
         "hovertemplate": "company_name=Sail In Greece<br>variable=Positive<br>year=%{x}<br>value=%{y}<extra></extra>",
         "legendgroup": "Sail In Greece",
         "line": {
          "color": "#636efa",
          "dash": "solid"
         },
         "marker": {
          "symbol": "circle"
         },
         "mode": "lines",
         "name": "Sail In Greece",
         "showlegend": true,
         "type": "scattergl",
         "x": [
          2017,
          2018,
          2019,
          2020,
          2021,
          2022,
          2023
         ],
         "xaxis": "x",
         "y": [
          33,
          22,
          36,
          30,
          49,
          81,
          4
         ],
         "yaxis": "y"
        },
        {
         "hovertemplate": "company_name=Sail In Greece<br>variable=Negative<br>year=%{x}<br>value=%{y}<extra></extra>",
         "legendgroup": "Sail In Greece",
         "line": {
          "color": "#636efa",
          "dash": "solid"
         },
         "marker": {
          "symbol": "circle"
         },
         "mode": "lines",
         "name": "Sail In Greece",
         "showlegend": false,
         "type": "scattergl",
         "x": [
          2017,
          2018,
          2019,
          2020,
          2021,
          2022,
          2023
         ],
         "xaxis": "x",
         "y": [
          0,
          2,
          0,
          1,
          1,
          0,
          0
         ],
         "yaxis": "y"
        },
        {
         "hovertemplate": "company_name=Sail In Greece<br>variable=Neutral<br>year=%{x}<br>value=%{y}<extra></extra>",
         "legendgroup": "Sail In Greece",
         "line": {
          "color": "#636efa",
          "dash": "solid"
         },
         "marker": {
          "symbol": "circle"
         },
         "mode": "lines",
         "name": "Sail In Greece",
         "showlegend": false,
         "type": "scattergl",
         "x": [
          2017,
          2018,
          2019,
          2020,
          2021,
          2022,
          2023
         ],
         "xaxis": "x",
         "y": [
          20,
          2,
          0,
          6,
          0,
          0,
          0
         ],
         "yaxis": "y"
        },
        {
         "hovertemplate": "company_name=SchoolBusNet<br>variable=Positive<br>year=%{x}<br>value=%{y}<extra></extra>",
         "legendgroup": "SchoolBusNet",
         "line": {
          "color": "#EF553B",
          "dash": "solid"
         },
         "marker": {
          "symbol": "circle"
         },
         "mode": "lines",
         "name": "SchoolBusNet",
         "showlegend": true,
         "type": "scattergl",
         "x": [
          2019,
          2020
         ],
         "xaxis": "x",
         "y": [
          2,
          0
         ],
         "yaxis": "y"
        },
        {
         "hovertemplate": "company_name=SchoolBusNet<br>variable=Negative<br>year=%{x}<br>value=%{y}<extra></extra>",
         "legendgroup": "SchoolBusNet",
         "line": {
          "color": "#EF553B",
          "dash": "solid"
         },
         "marker": {
          "symbol": "circle"
         },
         "mode": "lines",
         "name": "SchoolBusNet",
         "showlegend": false,
         "type": "scattergl",
         "x": [
          2019,
          2020
         ],
         "xaxis": "x",
         "y": [
          0,
          0
         ],
         "yaxis": "y"
        },
        {
         "hovertemplate": "company_name=SchoolBusNet<br>variable=Neutral<br>year=%{x}<br>value=%{y}<extra></extra>",
         "legendgroup": "SchoolBusNet",
         "line": {
          "color": "#EF553B",
          "dash": "solid"
         },
         "marker": {
          "symbol": "circle"
         },
         "mode": "lines",
         "name": "SchoolBusNet",
         "showlegend": false,
         "type": "scattergl",
         "x": [
          2019,
          2020
         ],
         "xaxis": "x",
         "y": [
          8,
          1
         ],
         "yaxis": "y"
        },
        {
         "hovertemplate": "company_name=Simpler<br>variable=Positive<br>year=%{x}<br>value=%{y}<extra></extra>",
         "legendgroup": "Simpler",
         "line": {
          "color": "#00cc96",
          "dash": "solid"
         },
         "marker": {
          "symbol": "circle"
         },
         "mode": "lines",
         "name": "Simpler",
         "showlegend": true,
         "type": "scattergl",
         "x": [
          2021,
          2022
         ],
         "xaxis": "x",
         "y": [
          0,
          22
         ],
         "yaxis": "y"
        },
        {
         "hovertemplate": "company_name=Simpler<br>variable=Negative<br>year=%{x}<br>value=%{y}<extra></extra>",
         "legendgroup": "Simpler",
         "line": {
          "color": "#00cc96",
          "dash": "solid"
         },
         "marker": {
          "symbol": "circle"
         },
         "mode": "lines",
         "name": "Simpler",
         "showlegend": false,
         "type": "scattergl",
         "x": [
          2021,
          2022
         ],
         "xaxis": "x",
         "y": [
          0,
          4
         ],
         "yaxis": "y"
        },
        {
         "hovertemplate": "company_name=Simpler<br>variable=Neutral<br>year=%{x}<br>value=%{y}<extra></extra>",
         "legendgroup": "Simpler",
         "line": {
          "color": "#00cc96",
          "dash": "solid"
         },
         "marker": {
          "symbol": "circle"
         },
         "mode": "lines",
         "name": "Simpler",
         "showlegend": false,
         "type": "scattergl",
         "x": [
          2021,
          2022
         ],
         "xaxis": "x",
         "y": [
          2,
          11
         ],
         "yaxis": "y"
        },
        {
         "hovertemplate": "company_name=Socital App<br>variable=Positive<br>year=%{x}<br>value=%{y}<extra></extra>",
         "legendgroup": "Socital App",
         "line": {
          "color": "#ab63fa",
          "dash": "solid"
         },
         "marker": {
          "symbol": "circle"
         },
         "mode": "lines",
         "name": "Socital App",
         "showlegend": true,
         "type": "scattergl",
         "x": [
          2019,
          2020,
          2021,
          2022
         ],
         "xaxis": "x",
         "y": [
          7,
          236,
          264,
          78
         ],
         "yaxis": "y"
        },
        {
         "hovertemplate": "company_name=Socital App<br>variable=Negative<br>year=%{x}<br>value=%{y}<extra></extra>",
         "legendgroup": "Socital App",
         "line": {
          "color": "#ab63fa",
          "dash": "solid"
         },
         "marker": {
          "symbol": "circle"
         },
         "mode": "lines",
         "name": "Socital App",
         "showlegend": false,
         "type": "scattergl",
         "x": [
          2019,
          2020,
          2021,
          2022
         ],
         "xaxis": "x",
         "y": [
          2,
          34,
          31,
          14
         ],
         "yaxis": "y"
        },
        {
         "hovertemplate": "company_name=Socital App<br>variable=Neutral<br>year=%{x}<br>value=%{y}<extra></extra>",
         "legendgroup": "Socital App",
         "line": {
          "color": "#ab63fa",
          "dash": "solid"
         },
         "marker": {
          "symbol": "circle"
         },
         "mode": "lines",
         "name": "Socital App",
         "showlegend": false,
         "type": "scattergl",
         "x": [
          2019,
          2020,
          2021,
          2022
         ],
         "xaxis": "x",
         "y": [
          6,
          112,
          76,
          25
         ],
         "yaxis": "y"
        },
        {
         "hovertemplate": "company_name=SourceLair<br>variable=Positive<br>year=%{x}<br>value=%{y}<extra></extra>",
         "legendgroup": "SourceLair",
         "line": {
          "color": "#FFA15A",
          "dash": "solid"
         },
         "marker": {
          "symbol": "circle"
         },
         "mode": "lines",
         "name": "SourceLair",
         "showlegend": true,
         "type": "scattergl",
         "x": [
          2017,
          2018,
          2019,
          2020
         ],
         "xaxis": "x",
         "y": [
          19,
          8,
          3,
          1
         ],
         "yaxis": "y"
        },
        {
         "hovertemplate": "company_name=SourceLair<br>variable=Negative<br>year=%{x}<br>value=%{y}<extra></extra>",
         "legendgroup": "SourceLair",
         "line": {
          "color": "#FFA15A",
          "dash": "solid"
         },
         "marker": {
          "symbol": "circle"
         },
         "mode": "lines",
         "name": "SourceLair",
         "showlegend": false,
         "type": "scattergl",
         "x": [
          2017,
          2018,
          2019,
          2020
         ],
         "xaxis": "x",
         "y": [
          1,
          2,
          0,
          0
         ],
         "yaxis": "y"
        },
        {
         "hovertemplate": "company_name=SourceLair<br>variable=Neutral<br>year=%{x}<br>value=%{y}<extra></extra>",
         "legendgroup": "SourceLair",
         "line": {
          "color": "#FFA15A",
          "dash": "solid"
         },
         "marker": {
          "symbol": "circle"
         },
         "mode": "lines",
         "name": "SourceLair",
         "showlegend": false,
         "type": "scattergl",
         "x": [
          2017,
          2018,
          2019,
          2020
         ],
         "xaxis": "x",
         "y": [
          3,
          2,
          0,
          2
         ],
         "yaxis": "y"
        },
        {
         "hovertemplate": "company_name=Space Talos LTD<br>variable=Positive<br>year=%{x}<br>value=%{y}<extra></extra>",
         "legendgroup": "Space Talos LTD",
         "line": {
          "color": "#19d3f3",
          "dash": "solid"
         },
         "marker": {
          "symbol": "circle"
         },
         "mode": "lines",
         "name": "Space Talos LTD",
         "showlegend": true,
         "type": "scattergl",
         "x": [
          2019,
          2020,
          2021
         ],
         "xaxis": "x",
         "y": [
          1,
          5,
          10
         ],
         "yaxis": "y"
        },
        {
         "hovertemplate": "company_name=Space Talos LTD<br>variable=Negative<br>year=%{x}<br>value=%{y}<extra></extra>",
         "legendgroup": "Space Talos LTD",
         "line": {
          "color": "#19d3f3",
          "dash": "solid"
         },
         "marker": {
          "symbol": "circle"
         },
         "mode": "lines",
         "name": "Space Talos LTD",
         "showlegend": false,
         "type": "scattergl",
         "x": [
          2019,
          2020,
          2021
         ],
         "xaxis": "x",
         "y": [
          0,
          0,
          1
         ],
         "yaxis": "y"
        },
        {
         "hovertemplate": "company_name=Space Talos LTD<br>variable=Neutral<br>year=%{x}<br>value=%{y}<extra></extra>",
         "legendgroup": "Space Talos LTD",
         "line": {
          "color": "#19d3f3",
          "dash": "solid"
         },
         "marker": {
          "symbol": "circle"
         },
         "mode": "lines",
         "name": "Space Talos LTD",
         "showlegend": false,
         "type": "scattergl",
         "x": [
          2019,
          2020,
          2021
         ],
         "xaxis": "x",
         "y": [
          1,
          0,
          1
         ],
         "yaxis": "y"
        },
        {
         "hovertemplate": "company_name=Spotawheel<br>variable=Positive<br>year=%{x}<br>value=%{y}<extra></extra>",
         "legendgroup": "Spotawheel",
         "line": {
          "color": "#FF6692",
          "dash": "solid"
         },
         "marker": {
          "symbol": "circle"
         },
         "mode": "lines",
         "name": "Spotawheel",
         "showlegend": true,
         "type": "scattergl",
         "x": [
          2017,
          2018,
          2019,
          2020,
          2021,
          2022,
          2023
         ],
         "xaxis": "x",
         "y": [
          0,
          27,
          90,
          76,
          42,
          87,
          37
         ],
         "yaxis": "y"
        },
        {
         "hovertemplate": "company_name=Spotawheel<br>variable=Negative<br>year=%{x}<br>value=%{y}<extra></extra>",
         "legendgroup": "Spotawheel",
         "line": {
          "color": "#FF6692",
          "dash": "solid"
         },
         "marker": {
          "symbol": "circle"
         },
         "mode": "lines",
         "name": "Spotawheel",
         "showlegend": false,
         "type": "scattergl",
         "x": [
          2017,
          2018,
          2019,
          2020,
          2021,
          2022,
          2023
         ],
         "xaxis": "x",
         "y": [
          0,
          14,
          43,
          61,
          15,
          89,
          28
         ],
         "yaxis": "y"
        },
        {
         "hovertemplate": "company_name=Spotawheel<br>variable=Neutral<br>year=%{x}<br>value=%{y}<extra></extra>",
         "legendgroup": "Spotawheel",
         "line": {
          "color": "#FF6692",
          "dash": "solid"
         },
         "marker": {
          "symbol": "circle"
         },
         "mode": "lines",
         "name": "Spotawheel",
         "showlegend": false,
         "type": "scattergl",
         "x": [
          2017,
          2018,
          2019,
          2020,
          2021,
          2022,
          2023
         ],
         "xaxis": "x",
         "y": [
          12,
          776,
          1321,
          837,
          600,
          1385,
          455
         ],
         "yaxis": "y"
        },
        {
         "hovertemplate": "company_name=Squadhelp<br>variable=Positive<br>year=%{x}<br>value=%{y}<extra></extra>",
         "legendgroup": "Squadhelp",
         "line": {
          "color": "#B6E880",
          "dash": "solid"
         },
         "marker": {
          "symbol": "circle"
         },
         "mode": "lines",
         "name": "Squadhelp",
         "showlegend": true,
         "type": "scattergl",
         "x": [
          2017,
          2018,
          2019,
          2020,
          2021,
          2022,
          2023
         ],
         "xaxis": "x",
         "y": [
          820,
          945,
          666,
          388,
          146,
          34,
          13
         ],
         "yaxis": "y"
        },
        {
         "hovertemplate": "company_name=Squadhelp<br>variable=Negative<br>year=%{x}<br>value=%{y}<extra></extra>",
         "legendgroup": "Squadhelp",
         "line": {
          "color": "#B6E880",
          "dash": "solid"
         },
         "marker": {
          "symbol": "circle"
         },
         "mode": "lines",
         "name": "Squadhelp",
         "showlegend": false,
         "type": "scattergl",
         "x": [
          2017,
          2018,
          2019,
          2020,
          2021,
          2022,
          2023
         ],
         "xaxis": "x",
         "y": [
          53,
          32,
          53,
          35,
          12,
          2,
          2
         ],
         "yaxis": "y"
        },
        {
         "hovertemplate": "company_name=Squadhelp<br>variable=Neutral<br>year=%{x}<br>value=%{y}<extra></extra>",
         "legendgroup": "Squadhelp",
         "line": {
          "color": "#B6E880",
          "dash": "solid"
         },
         "marker": {
          "symbol": "circle"
         },
         "mode": "lines",
         "name": "Squadhelp",
         "showlegend": false,
         "type": "scattergl",
         "x": [
          2017,
          2018,
          2019,
          2020,
          2021,
          2022,
          2023
         ],
         "xaxis": "x",
         "y": [
          439,
          111,
          147,
          129,
          38,
          5,
          2
         ],
         "yaxis": "y"
        },
        {
         "hovertemplate": "company_name=StreamOwl<br>variable=Positive<br>year=%{x}<br>value=%{y}<extra></extra>",
         "legendgroup": "StreamOwl",
         "line": {
          "color": "#FF97FF",
          "dash": "solid"
         },
         "marker": {
          "symbol": "circle"
         },
         "mode": "lines",
         "name": "StreamOwl",
         "showlegend": true,
         "type": "scattergl",
         "x": [
          2019,
          2020,
          2021
         ],
         "xaxis": "x",
         "y": [
          2,
          0,
          3
         ],
         "yaxis": "y"
        },
        {
         "hovertemplate": "company_name=StreamOwl<br>variable=Negative<br>year=%{x}<br>value=%{y}<extra></extra>",
         "legendgroup": "StreamOwl",
         "line": {
          "color": "#FF97FF",
          "dash": "solid"
         },
         "marker": {
          "symbol": "circle"
         },
         "mode": "lines",
         "name": "StreamOwl",
         "showlegend": false,
         "type": "scattergl",
         "x": [
          2019,
          2020,
          2021
         ],
         "xaxis": "x",
         "y": [
          0,
          0,
          0
         ],
         "yaxis": "y"
        },
        {
         "hovertemplate": "company_name=StreamOwl<br>variable=Neutral<br>year=%{x}<br>value=%{y}<extra></extra>",
         "legendgroup": "StreamOwl",
         "line": {
          "color": "#FF97FF",
          "dash": "solid"
         },
         "marker": {
          "symbol": "circle"
         },
         "mode": "lines",
         "name": "StreamOwl",
         "showlegend": false,
         "type": "scattergl",
         "x": [
          2019,
          2020,
          2021
         ],
         "xaxis": "x",
         "y": [
          0,
          1,
          0
         ],
         "yaxis": "y"
        },
        {
         "hovertemplate": "company_name=Sunlight.io<br>variable=Positive<br>year=%{x}<br>value=%{y}<extra></extra>",
         "legendgroup": "Sunlight.io",
         "line": {
          "color": "#FECB52",
          "dash": "solid"
         },
         "marker": {
          "symbol": "circle"
         },
         "mode": "lines",
         "name": "Sunlight.io",
         "showlegend": true,
         "type": "scattergl",
         "x": [
          2019,
          2020,
          2021,
          2022,
          2023
         ],
         "xaxis": "x",
         "y": [
          19,
          5,
          71,
          72,
          12
         ],
         "yaxis": "y"
        },
        {
         "hovertemplate": "company_name=Sunlight.io<br>variable=Negative<br>year=%{x}<br>value=%{y}<extra></extra>",
         "legendgroup": "Sunlight.io",
         "line": {
          "color": "#FECB52",
          "dash": "solid"
         },
         "marker": {
          "symbol": "circle"
         },
         "mode": "lines",
         "name": "Sunlight.io",
         "showlegend": false,
         "type": "scattergl",
         "x": [
          2019,
          2020,
          2021,
          2022,
          2023
         ],
         "xaxis": "x",
         "y": [
          2,
          2,
          3,
          3,
          4
         ],
         "yaxis": "y"
        },
        {
         "hovertemplate": "company_name=Sunlight.io<br>variable=Neutral<br>year=%{x}<br>value=%{y}<extra></extra>",
         "legendgroup": "Sunlight.io",
         "line": {
          "color": "#FECB52",
          "dash": "solid"
         },
         "marker": {
          "symbol": "circle"
         },
         "mode": "lines",
         "name": "Sunlight.io",
         "showlegend": false,
         "type": "scattergl",
         "x": [
          2019,
          2020,
          2021,
          2022,
          2023
         ],
         "xaxis": "x",
         "y": [
          8,
          6,
          28,
          30,
          3
         ],
         "yaxis": "y"
        },
        {
         "hovertemplate": "company_name=TheList<br>variable=Positive<br>year=%{x}<br>value=%{y}<extra></extra>",
         "legendgroup": "TheList",
         "line": {
          "color": "#636efa",
          "dash": "solid"
         },
         "marker": {
          "symbol": "circle"
         },
         "mode": "lines",
         "name": "TheList",
         "showlegend": true,
         "type": "scattergl",
         "x": [
          2019,
          2020,
          2021,
          2022,
          2023
         ],
         "xaxis": "x",
         "y": [
          0,
          43,
          36,
          26,
          1
         ],
         "yaxis": "y"
        },
        {
         "hovertemplate": "company_name=TheList<br>variable=Negative<br>year=%{x}<br>value=%{y}<extra></extra>",
         "legendgroup": "TheList",
         "line": {
          "color": "#636efa",
          "dash": "solid"
         },
         "marker": {
          "symbol": "circle"
         },
         "mode": "lines",
         "name": "TheList",
         "showlegend": false,
         "type": "scattergl",
         "x": [
          2019,
          2020,
          2021,
          2022,
          2023
         ],
         "xaxis": "x",
         "y": [
          0,
          3,
          2,
          0,
          0
         ],
         "yaxis": "y"
        },
        {
         "hovertemplate": "company_name=TheList<br>variable=Neutral<br>year=%{x}<br>value=%{y}<extra></extra>",
         "legendgroup": "TheList",
         "line": {
          "color": "#636efa",
          "dash": "solid"
         },
         "marker": {
          "symbol": "circle"
         },
         "mode": "lines",
         "name": "TheList",
         "showlegend": false,
         "type": "scattergl",
         "x": [
          2019,
          2020,
          2021,
          2022,
          2023
         ],
         "xaxis": "x",
         "y": [
          1,
          3,
          26,
          12,
          2
         ],
         "yaxis": "y"
        },
        {
         "hovertemplate": "company_name=TicketSeller<br>variable=Positive<br>year=%{x}<br>value=%{y}<extra></extra>",
         "legendgroup": "TicketSeller",
         "line": {
          "color": "#EF553B",
          "dash": "solid"
         },
         "marker": {
          "symbol": "circle"
         },
         "mode": "lines",
         "name": "TicketSeller",
         "showlegend": true,
         "type": "scattergl",
         "x": [
          2020,
          2021,
          2022,
          2023
         ],
         "xaxis": "x",
         "y": [
          6,
          13,
          2,
          1
         ],
         "yaxis": "y"
        },
        {
         "hovertemplate": "company_name=TicketSeller<br>variable=Negative<br>year=%{x}<br>value=%{y}<extra></extra>",
         "legendgroup": "TicketSeller",
         "line": {
          "color": "#EF553B",
          "dash": "solid"
         },
         "marker": {
          "symbol": "circle"
         },
         "mode": "lines",
         "name": "TicketSeller",
         "showlegend": false,
         "type": "scattergl",
         "x": [
          2020,
          2021,
          2022,
          2023
         ],
         "xaxis": "x",
         "y": [
          0,
          0,
          0,
          0
         ],
         "yaxis": "y"
        },
        {
         "hovertemplate": "company_name=TicketSeller<br>variable=Neutral<br>year=%{x}<br>value=%{y}<extra></extra>",
         "legendgroup": "TicketSeller",
         "line": {
          "color": "#EF553B",
          "dash": "solid"
         },
         "marker": {
          "symbol": "circle"
         },
         "mode": "lines",
         "name": "TicketSeller",
         "showlegend": false,
         "type": "scattergl",
         "x": [
          2020,
          2021,
          2022,
          2023
         ],
         "xaxis": "x",
         "y": [
          11,
          14,
          1,
          1
         ],
         "yaxis": "y"
        },
        {
         "hovertemplate": "company_name=TileDB<br>variable=Positive<br>year=%{x}<br>value=%{y}<extra></extra>",
         "legendgroup": "TileDB",
         "line": {
          "color": "#00cc96",
          "dash": "solid"
         },
         "marker": {
          "symbol": "circle"
         },
         "mode": "lines",
         "name": "TileDB",
         "showlegend": true,
         "type": "scattergl",
         "x": [
          2017,
          2018,
          2019,
          2020,
          2021,
          2022,
          2023
         ],
         "xaxis": "x",
         "y": [
          10,
          6,
          16,
          31,
          56,
          57,
          6
         ],
         "yaxis": "y"
        },
        {
         "hovertemplate": "company_name=TileDB<br>variable=Negative<br>year=%{x}<br>value=%{y}<extra></extra>",
         "legendgroup": "TileDB",
         "line": {
          "color": "#00cc96",
          "dash": "solid"
         },
         "marker": {
          "symbol": "circle"
         },
         "mode": "lines",
         "name": "TileDB",
         "showlegend": false,
         "type": "scattergl",
         "x": [
          2017,
          2018,
          2019,
          2020,
          2021,
          2022,
          2023
         ],
         "xaxis": "x",
         "y": [
          0,
          0,
          0,
          3,
          2,
          1,
          2
         ],
         "yaxis": "y"
        },
        {
         "hovertemplate": "company_name=TileDB<br>variable=Neutral<br>year=%{x}<br>value=%{y}<extra></extra>",
         "legendgroup": "TileDB",
         "line": {
          "color": "#00cc96",
          "dash": "solid"
         },
         "marker": {
          "symbol": "circle"
         },
         "mode": "lines",
         "name": "TileDB",
         "showlegend": false,
         "type": "scattergl",
         "x": [
          2017,
          2018,
          2019,
          2020,
          2021,
          2022,
          2023
         ],
         "xaxis": "x",
         "y": [
          1,
          1,
          3,
          12,
          20,
          10,
          0
         ],
         "yaxis": "y"
        },
        {
         "hovertemplate": "company_name=Toroblocks<br>variable=Positive<br>year=%{x}<br>value=%{y}<extra></extra>",
         "legendgroup": "Toroblocks",
         "line": {
          "color": "#ab63fa",
          "dash": "solid"
         },
         "marker": {
          "symbol": "circle"
         },
         "mode": "lines",
         "name": "Toroblocks",
         "showlegend": true,
         "type": "scattergl",
         "x": [
          2022
         ],
         "xaxis": "x",
         "y": [
          11
         ],
         "yaxis": "y"
        },
        {
         "hovertemplate": "company_name=Toroblocks<br>variable=Negative<br>year=%{x}<br>value=%{y}<extra></extra>",
         "legendgroup": "Toroblocks",
         "line": {
          "color": "#ab63fa",
          "dash": "solid"
         },
         "marker": {
          "symbol": "circle"
         },
         "mode": "lines",
         "name": "Toroblocks",
         "showlegend": false,
         "type": "scattergl",
         "x": [
          2022
         ],
         "xaxis": "x",
         "y": [
          0
         ],
         "yaxis": "y"
        },
        {
         "hovertemplate": "company_name=Toroblocks<br>variable=Neutral<br>year=%{x}<br>value=%{y}<extra></extra>",
         "legendgroup": "Toroblocks",
         "line": {
          "color": "#ab63fa",
          "dash": "solid"
         },
         "marker": {
          "symbol": "circle"
         },
         "mode": "lines",
         "name": "Toroblocks",
         "showlegend": false,
         "type": "scattergl",
         "x": [
          2022
         ],
         "xaxis": "x",
         "y": [
          2
         ],
         "yaxis": "y"
        },
        {
         "hovertemplate": "company_name=Travel2Fit<br>variable=Positive<br>year=%{x}<br>value=%{y}<extra></extra>",
         "legendgroup": "Travel2Fit",
         "line": {
          "color": "#FFA15A",
          "dash": "solid"
         },
         "marker": {
          "symbol": "circle"
         },
         "mode": "lines",
         "name": "Travel2Fit",
         "showlegend": true,
         "type": "scattergl",
         "x": [
          2020,
          2021,
          2022,
          2023
         ],
         "xaxis": "x",
         "y": [
          0,
          2,
          17,
          2
         ],
         "yaxis": "y"
        },
        {
         "hovertemplate": "company_name=Travel2Fit<br>variable=Negative<br>year=%{x}<br>value=%{y}<extra></extra>",
         "legendgroup": "Travel2Fit",
         "line": {
          "color": "#FFA15A",
          "dash": "solid"
         },
         "marker": {
          "symbol": "circle"
         },
         "mode": "lines",
         "name": "Travel2Fit",
         "showlegend": false,
         "type": "scattergl",
         "x": [
          2020,
          2021,
          2022,
          2023
         ],
         "xaxis": "x",
         "y": [
          0,
          0,
          0,
          1
         ],
         "yaxis": "y"
        },
        {
         "hovertemplate": "company_name=Travel2Fit<br>variable=Neutral<br>year=%{x}<br>value=%{y}<extra></extra>",
         "legendgroup": "Travel2Fit",
         "line": {
          "color": "#FFA15A",
          "dash": "solid"
         },
         "marker": {
          "symbol": "circle"
         },
         "mode": "lines",
         "name": "Travel2Fit",
         "showlegend": false,
         "type": "scattergl",
         "x": [
          2020,
          2021,
          2022,
          2023
         ],
         "xaxis": "x",
         "y": [
          6,
          1,
          7,
          1
         ],
         "yaxis": "y"
        },
        {
         "hovertemplate": "company_name=Travelmyth<br>variable=Positive<br>year=%{x}<br>value=%{y}<extra></extra>",
         "legendgroup": "Travelmyth",
         "line": {
          "color": "#19d3f3",
          "dash": "solid"
         },
         "marker": {
          "symbol": "circle"
         },
         "mode": "lines",
         "name": "Travelmyth",
         "showlegend": true,
         "type": "scattergl",
         "x": [
          2017,
          2018,
          2019,
          2020,
          2021,
          2022,
          2023
         ],
         "xaxis": "x",
         "y": [
          12,
          25,
          11,
          5,
          3,
          36,
          4
         ],
         "yaxis": "y"
        },
        {
         "hovertemplate": "company_name=Travelmyth<br>variable=Negative<br>year=%{x}<br>value=%{y}<extra></extra>",
         "legendgroup": "Travelmyth",
         "line": {
          "color": "#19d3f3",
          "dash": "solid"
         },
         "marker": {
          "symbol": "circle"
         },
         "mode": "lines",
         "name": "Travelmyth",
         "showlegend": false,
         "type": "scattergl",
         "x": [
          2017,
          2018,
          2019,
          2020,
          2021,
          2022,
          2023
         ],
         "xaxis": "x",
         "y": [
          2,
          1,
          1,
          1,
          0,
          3,
          0
         ],
         "yaxis": "y"
        },
        {
         "hovertemplate": "company_name=Travelmyth<br>variable=Neutral<br>year=%{x}<br>value=%{y}<extra></extra>",
         "legendgroup": "Travelmyth",
         "line": {
          "color": "#19d3f3",
          "dash": "solid"
         },
         "marker": {
          "symbol": "circle"
         },
         "mode": "lines",
         "name": "Travelmyth",
         "showlegend": false,
         "type": "scattergl",
         "x": [
          2017,
          2018,
          2019,
          2020,
          2021,
          2022,
          2023
         ],
         "xaxis": "x",
         "y": [
          20,
          6,
          10,
          18,
          16,
          33,
          22
         ],
         "yaxis": "y"
        },
        {
         "hovertemplate": "company_name=Triparound<br>variable=Positive<br>year=%{x}<br>value=%{y}<extra></extra>",
         "legendgroup": "Triparound",
         "line": {
          "color": "#FF6692",
          "dash": "solid"
         },
         "marker": {
          "symbol": "circle"
         },
         "mode": "lines",
         "name": "Triparound",
         "showlegend": true,
         "type": "scattergl",
         "x": [
          2019,
          2020,
          2021,
          2022,
          2023
         ],
         "xaxis": "x",
         "y": [
          26,
          52,
          56,
          34,
          5
         ],
         "yaxis": "y"
        },
        {
         "hovertemplate": "company_name=Triparound<br>variable=Negative<br>year=%{x}<br>value=%{y}<extra></extra>",
         "legendgroup": "Triparound",
         "line": {
          "color": "#FF6692",
          "dash": "solid"
         },
         "marker": {
          "symbol": "circle"
         },
         "mode": "lines",
         "name": "Triparound",
         "showlegend": false,
         "type": "scattergl",
         "x": [
          2019,
          2020,
          2021,
          2022,
          2023
         ],
         "xaxis": "x",
         "y": [
          0,
          3,
          1,
          3,
          0
         ],
         "yaxis": "y"
        },
        {
         "hovertemplate": "company_name=Triparound<br>variable=Neutral<br>year=%{x}<br>value=%{y}<extra></extra>",
         "legendgroup": "Triparound",
         "line": {
          "color": "#FF6692",
          "dash": "solid"
         },
         "marker": {
          "symbol": "circle"
         },
         "mode": "lines",
         "name": "Triparound",
         "showlegend": false,
         "type": "scattergl",
         "x": [
          2019,
          2020,
          2021,
          2022,
          2023
         ],
         "xaxis": "x",
         "y": [
          12,
          9,
          11,
          17,
          6
         ],
         "yaxis": "y"
        },
        {
         "hovertemplate": "company_name=Troosh<br>variable=Positive<br>year=%{x}<br>value=%{y}<extra></extra>",
         "legendgroup": "Troosh",
         "line": {
          "color": "#B6E880",
          "dash": "solid"
         },
         "marker": {
          "symbol": "circle"
         },
         "mode": "lines",
         "name": "Troosh",
         "showlegend": true,
         "type": "scattergl",
         "x": [
          2022
         ],
         "xaxis": "x",
         "y": [
          2
         ],
         "yaxis": "y"
        },
        {
         "hovertemplate": "company_name=Troosh<br>variable=Negative<br>year=%{x}<br>value=%{y}<extra></extra>",
         "legendgroup": "Troosh",
         "line": {
          "color": "#B6E880",
          "dash": "solid"
         },
         "marker": {
          "symbol": "circle"
         },
         "mode": "lines",
         "name": "Troosh",
         "showlegend": false,
         "type": "scattergl",
         "x": [
          2022
         ],
         "xaxis": "x",
         "y": [
          0
         ],
         "yaxis": "y"
        },
        {
         "hovertemplate": "company_name=Troosh<br>variable=Neutral<br>year=%{x}<br>value=%{y}<extra></extra>",
         "legendgroup": "Troosh",
         "line": {
          "color": "#B6E880",
          "dash": "solid"
         },
         "marker": {
          "symbol": "circle"
         },
         "mode": "lines",
         "name": "Troosh",
         "showlegend": false,
         "type": "scattergl",
         "x": [
          2022
         ],
         "xaxis": "x",
         "y": [
          2
         ],
         "yaxis": "y"
        },
        {
         "hovertemplate": "company_name=Unlimited Adrenaline<br>variable=Positive<br>year=%{x}<br>value=%{y}<extra></extra>",
         "legendgroup": "Unlimited Adrenaline",
         "line": {
          "color": "#FF97FF",
          "dash": "solid"
         },
         "marker": {
          "symbol": "circle"
         },
         "mode": "lines",
         "name": "Unlimited Adrenaline",
         "showlegend": true,
         "type": "scattergl",
         "x": [
          2020,
          2021
         ],
         "xaxis": "x",
         "y": [
          60,
          6
         ],
         "yaxis": "y"
        },
        {
         "hovertemplate": "company_name=Unlimited Adrenaline<br>variable=Negative<br>year=%{x}<br>value=%{y}<extra></extra>",
         "legendgroup": "Unlimited Adrenaline",
         "line": {
          "color": "#FF97FF",
          "dash": "solid"
         },
         "marker": {
          "symbol": "circle"
         },
         "mode": "lines",
         "name": "Unlimited Adrenaline",
         "showlegend": false,
         "type": "scattergl",
         "x": [
          2020,
          2021
         ],
         "xaxis": "x",
         "y": [
          3,
          2
         ],
         "yaxis": "y"
        },
        {
         "hovertemplate": "company_name=Unlimited Adrenaline<br>variable=Neutral<br>year=%{x}<br>value=%{y}<extra></extra>",
         "legendgroup": "Unlimited Adrenaline",
         "line": {
          "color": "#FF97FF",
          "dash": "solid"
         },
         "marker": {
          "symbol": "circle"
         },
         "mode": "lines",
         "name": "Unlimited Adrenaline",
         "showlegend": false,
         "type": "scattergl",
         "x": [
          2020,
          2021
         ],
         "xaxis": "x",
         "y": [
          183,
          30
         ],
         "yaxis": "y"
        },
        {
         "hovertemplate": "company_name=Upiria<br>variable=Positive<br>year=%{x}<br>value=%{y}<extra></extra>",
         "legendgroup": "Upiria",
         "line": {
          "color": "#FECB52",
          "dash": "solid"
         },
         "marker": {
          "symbol": "circle"
         },
         "mode": "lines",
         "name": "Upiria",
         "showlegend": true,
         "type": "scattergl",
         "x": [
          2021,
          2022,
          2023
         ],
         "xaxis": "x",
         "y": [
          14,
          37,
          10
         ],
         "yaxis": "y"
        },
        {
         "hovertemplate": "company_name=Upiria<br>variable=Negative<br>year=%{x}<br>value=%{y}<extra></extra>",
         "legendgroup": "Upiria",
         "line": {
          "color": "#FECB52",
          "dash": "solid"
         },
         "marker": {
          "symbol": "circle"
         },
         "mode": "lines",
         "name": "Upiria",
         "showlegend": false,
         "type": "scattergl",
         "x": [
          2021,
          2022,
          2023
         ],
         "xaxis": "x",
         "y": [
          0,
          0,
          1
         ],
         "yaxis": "y"
        },
        {
         "hovertemplate": "company_name=Upiria<br>variable=Neutral<br>year=%{x}<br>value=%{y}<extra></extra>",
         "legendgroup": "Upiria",
         "line": {
          "color": "#FECB52",
          "dash": "solid"
         },
         "marker": {
          "symbol": "circle"
         },
         "mode": "lines",
         "name": "Upiria",
         "showlegend": false,
         "type": "scattergl",
         "x": [
          2021,
          2022,
          2023
         ],
         "xaxis": "x",
         "y": [
          9,
          11,
          2
         ],
         "yaxis": "y"
        },
        {
         "hovertemplate": "company_name=UpstreetCraftBrewing<br>variable=Positive<br>year=%{x}<br>value=%{y}<extra></extra>",
         "legendgroup": "UpstreetCraftBrewing",
         "line": {
          "color": "#636efa",
          "dash": "solid"
         },
         "marker": {
          "symbol": "circle"
         },
         "mode": "lines",
         "name": "UpstreetCraftBrewing",
         "showlegend": true,
         "type": "scattergl",
         "x": [
          2017,
          2018,
          2019,
          2020,
          2021
         ],
         "xaxis": "x",
         "y": [
          338,
          314,
          142,
          59,
          17
         ],
         "yaxis": "y"
        },
        {
         "hovertemplate": "company_name=UpstreetCraftBrewing<br>variable=Negative<br>year=%{x}<br>value=%{y}<extra></extra>",
         "legendgroup": "UpstreetCraftBrewing",
         "line": {
          "color": "#636efa",
          "dash": "solid"
         },
         "marker": {
          "symbol": "circle"
         },
         "mode": "lines",
         "name": "UpstreetCraftBrewing",
         "showlegend": false,
         "type": "scattergl",
         "x": [
          2017,
          2018,
          2019,
          2020,
          2021
         ],
         "xaxis": "x",
         "y": [
          40,
          35,
          22,
          12,
          1
         ],
         "yaxis": "y"
        },
        {
         "hovertemplate": "company_name=UpstreetCraftBrewing<br>variable=Neutral<br>year=%{x}<br>value=%{y}<extra></extra>",
         "legendgroup": "UpstreetCraftBrewing",
         "line": {
          "color": "#636efa",
          "dash": "solid"
         },
         "marker": {
          "symbol": "circle"
         },
         "mode": "lines",
         "name": "UpstreetCraftBrewing",
         "showlegend": false,
         "type": "scattergl",
         "x": [
          2017,
          2018,
          2019,
          2020,
          2021
         ],
         "xaxis": "x",
         "y": [
          163,
          150,
          47,
          26,
          6
         ],
         "yaxis": "y"
        },
        {
         "hovertemplate": "company_name=Useberry<br>variable=Positive<br>year=%{x}<br>value=%{y}<extra></extra>",
         "legendgroup": "Useberry",
         "line": {
          "color": "#EF553B",
          "dash": "solid"
         },
         "marker": {
          "symbol": "circle"
         },
         "mode": "lines",
         "name": "Useberry",
         "showlegend": true,
         "type": "scattergl",
         "x": [
          2018,
          2019,
          2020,
          2021,
          2022,
          2023
         ],
         "xaxis": "x",
         "y": [
          2,
          18,
          4,
          12,
          27,
          6
         ],
         "yaxis": "y"
        },
        {
         "hovertemplate": "company_name=Useberry<br>variable=Negative<br>year=%{x}<br>value=%{y}<extra></extra>",
         "legendgroup": "Useberry",
         "line": {
          "color": "#EF553B",
          "dash": "solid"
         },
         "marker": {
          "symbol": "circle"
         },
         "mode": "lines",
         "name": "Useberry",
         "showlegend": false,
         "type": "scattergl",
         "x": [
          2018,
          2019,
          2020,
          2021,
          2022,
          2023
         ],
         "xaxis": "x",
         "y": [
          0,
          0,
          0,
          2,
          1,
          0
         ],
         "yaxis": "y"
        },
        {
         "hovertemplate": "company_name=Useberry<br>variable=Neutral<br>year=%{x}<br>value=%{y}<extra></extra>",
         "legendgroup": "Useberry",
         "line": {
          "color": "#EF553B",
          "dash": "solid"
         },
         "marker": {
          "symbol": "circle"
         },
         "mode": "lines",
         "name": "Useberry",
         "showlegend": false,
         "type": "scattergl",
         "x": [
          2018,
          2019,
          2020,
          2021,
          2022,
          2023
         ],
         "xaxis": "x",
         "y": [
          4,
          18,
          4,
          1,
          8,
          13
         ],
         "yaxis": "y"
        },
        {
         "hovertemplate": "company_name=VERTLINER<br>variable=Positive<br>year=%{x}<br>value=%{y}<extra></extra>",
         "legendgroup": "VERTLINER",
         "line": {
          "color": "#00cc96",
          "dash": "solid"
         },
         "marker": {
          "symbol": "circle"
         },
         "mode": "lines",
         "name": "VERTLINER",
         "showlegend": true,
         "type": "scattergl",
         "x": [
          2022
         ],
         "xaxis": "x",
         "y": [
          3
         ],
         "yaxis": "y"
        },
        {
         "hovertemplate": "company_name=VERTLINER<br>variable=Negative<br>year=%{x}<br>value=%{y}<extra></extra>",
         "legendgroup": "VERTLINER",
         "line": {
          "color": "#00cc96",
          "dash": "solid"
         },
         "marker": {
          "symbol": "circle"
         },
         "mode": "lines",
         "name": "VERTLINER",
         "showlegend": false,
         "type": "scattergl",
         "x": [
          2022
         ],
         "xaxis": "x",
         "y": [
          0
         ],
         "yaxis": "y"
        },
        {
         "hovertemplate": "company_name=VERTLINER<br>variable=Neutral<br>year=%{x}<br>value=%{y}<extra></extra>",
         "legendgroup": "VERTLINER",
         "line": {
          "color": "#00cc96",
          "dash": "solid"
         },
         "marker": {
          "symbol": "circle"
         },
         "mode": "lines",
         "name": "VERTLINER",
         "showlegend": false,
         "type": "scattergl",
         "x": [
          2022
         ],
         "xaxis": "x",
         "y": [
          3
         ],
         "yaxis": "y"
        },
        {
         "hovertemplate": "company_name=VarSome<br>variable=Positive<br>year=%{x}<br>value=%{y}<extra></extra>",
         "legendgroup": "VarSome",
         "line": {
          "color": "#ab63fa",
          "dash": "solid"
         },
         "marker": {
          "symbol": "circle"
         },
         "mode": "lines",
         "name": "VarSome",
         "showlegend": true,
         "type": "scattergl",
         "x": [
          2017,
          2018,
          2019,
          2020,
          2021,
          2022,
          2023
         ],
         "xaxis": "x",
         "y": [
          137,
          143,
          105,
          12,
          46,
          16,
          2
         ],
         "yaxis": "y"
        },
        {
         "hovertemplate": "company_name=VarSome<br>variable=Negative<br>year=%{x}<br>value=%{y}<extra></extra>",
         "legendgroup": "VarSome",
         "line": {
          "color": "#ab63fa",
          "dash": "solid"
         },
         "marker": {
          "symbol": "circle"
         },
         "mode": "lines",
         "name": "VarSome",
         "showlegend": false,
         "type": "scattergl",
         "x": [
          2017,
          2018,
          2019,
          2020,
          2021,
          2022,
          2023
         ],
         "xaxis": "x",
         "y": [
          60,
          70,
          47,
          0,
          1,
          0,
          0
         ],
         "yaxis": "y"
        },
        {
         "hovertemplate": "company_name=VarSome<br>variable=Neutral<br>year=%{x}<br>value=%{y}<extra></extra>",
         "legendgroup": "VarSome",
         "line": {
          "color": "#ab63fa",
          "dash": "solid"
         },
         "marker": {
          "symbol": "circle"
         },
         "mode": "lines",
         "name": "VarSome",
         "showlegend": false,
         "type": "scattergl",
         "x": [
          2017,
          2018,
          2019,
          2020,
          2021,
          2022,
          2023
         ],
         "xaxis": "x",
         "y": [
          450,
          409,
          321,
          15,
          15,
          3,
          1
         ],
         "yaxis": "y"
        },
        {
         "hovertemplate": "company_name=VesselBot<br>variable=Positive<br>year=%{x}<br>value=%{y}<extra></extra>",
         "legendgroup": "VesselBot",
         "line": {
          "color": "#FFA15A",
          "dash": "solid"
         },
         "marker": {
          "symbol": "circle"
         },
         "mode": "lines",
         "name": "VesselBot",
         "showlegend": true,
         "type": "scattergl",
         "x": [
          2017,
          2018,
          2019,
          2020,
          2021,
          2022,
          2023
         ],
         "xaxis": "x",
         "y": [
          157,
          84,
          151,
          114,
          199,
          107,
          34
         ],
         "yaxis": "y"
        },
        {
         "hovertemplate": "company_name=VesselBot<br>variable=Negative<br>year=%{x}<br>value=%{y}<extra></extra>",
         "legendgroup": "VesselBot",
         "line": {
          "color": "#FFA15A",
          "dash": "solid"
         },
         "marker": {
          "symbol": "circle"
         },
         "mode": "lines",
         "name": "VesselBot",
         "showlegend": false,
         "type": "scattergl",
         "x": [
          2017,
          2018,
          2019,
          2020,
          2021,
          2022,
          2023
         ],
         "xaxis": "x",
         "y": [
          57,
          31,
          48,
          44,
          74,
          35,
          5
         ],
         "yaxis": "y"
        },
        {
         "hovertemplate": "company_name=VesselBot<br>variable=Neutral<br>year=%{x}<br>value=%{y}<extra></extra>",
         "legendgroup": "VesselBot",
         "line": {
          "color": "#FFA15A",
          "dash": "solid"
         },
         "marker": {
          "symbol": "circle"
         },
         "mode": "lines",
         "name": "VesselBot",
         "showlegend": false,
         "type": "scattergl",
         "x": [
          2017,
          2018,
          2019,
          2020,
          2021,
          2022,
          2023
         ],
         "xaxis": "x",
         "y": [
          574,
          402,
          296,
          225,
          253,
          85,
          14
         ],
         "yaxis": "y"
        },
        {
         "hovertemplate": "company_name=VisualEyes<br>variable=Positive<br>year=%{x}<br>value=%{y}<extra></extra>",
         "legendgroup": "VisualEyes",
         "line": {
          "color": "#19d3f3",
          "dash": "solid"
         },
         "marker": {
          "symbol": "circle"
         },
         "mode": "lines",
         "name": "VisualEyes",
         "showlegend": true,
         "type": "scattergl",
         "x": [
          2019,
          2020
         ],
         "xaxis": "x",
         "y": [
          18,
          19
         ],
         "yaxis": "y"
        },
        {
         "hovertemplate": "company_name=VisualEyes<br>variable=Negative<br>year=%{x}<br>value=%{y}<extra></extra>",
         "legendgroup": "VisualEyes",
         "line": {
          "color": "#19d3f3",
          "dash": "solid"
         },
         "marker": {
          "symbol": "circle"
         },
         "mode": "lines",
         "name": "VisualEyes",
         "showlegend": false,
         "type": "scattergl",
         "x": [
          2019,
          2020
         ],
         "xaxis": "x",
         "y": [
          4,
          1
         ],
         "yaxis": "y"
        },
        {
         "hovertemplate": "company_name=VisualEyes<br>variable=Neutral<br>year=%{x}<br>value=%{y}<extra></extra>",
         "legendgroup": "VisualEyes",
         "line": {
          "color": "#19d3f3",
          "dash": "solid"
         },
         "marker": {
          "symbol": "circle"
         },
         "mode": "lines",
         "name": "VisualEyes",
         "showlegend": false,
         "type": "scattergl",
         "x": [
          2019,
          2020
         ],
         "xaxis": "x",
         "y": [
          15,
          10
         ],
         "yaxis": "y"
        },
        {
         "hovertemplate": "company_name=Vivante Health<br>variable=Positive<br>year=%{x}<br>value=%{y}<extra></extra>",
         "legendgroup": "Vivante Health",
         "line": {
          "color": "#FF6692",
          "dash": "solid"
         },
         "marker": {
          "symbol": "circle"
         },
         "mode": "lines",
         "name": "Vivante Health",
         "showlegend": true,
         "type": "scattergl",
         "x": [
          2017,
          2018,
          2019,
          2020,
          2021,
          2022,
          2023
         ],
         "xaxis": "x",
         "y": [
          140,
          111,
          70,
          73,
          20,
          61,
          26
         ],
         "yaxis": "y"
        },
        {
         "hovertemplate": "company_name=Vivante Health<br>variable=Negative<br>year=%{x}<br>value=%{y}<extra></extra>",
         "legendgroup": "Vivante Health",
         "line": {
          "color": "#FF6692",
          "dash": "solid"
         },
         "marker": {
          "symbol": "circle"
         },
         "mode": "lines",
         "name": "Vivante Health",
         "showlegend": false,
         "type": "scattergl",
         "x": [
          2017,
          2018,
          2019,
          2020,
          2021,
          2022,
          2023
         ],
         "xaxis": "x",
         "y": [
          34,
          34,
          16,
          8,
          0,
          20,
          7
         ],
         "yaxis": "y"
        },
        {
         "hovertemplate": "company_name=Vivante Health<br>variable=Neutral<br>year=%{x}<br>value=%{y}<extra></extra>",
         "legendgroup": "Vivante Health",
         "line": {
          "color": "#FF6692",
          "dash": "solid"
         },
         "marker": {
          "symbol": "circle"
         },
         "mode": "lines",
         "name": "Vivante Health",
         "showlegend": false,
         "type": "scattergl",
         "x": [
          2017,
          2018,
          2019,
          2020,
          2021,
          2022,
          2023
         ],
         "xaxis": "x",
         "y": [
          115,
          51,
          24,
          18,
          4,
          13,
          6
         ],
         "yaxis": "y"
        },
        {
         "hovertemplate": "company_name=WeAreTravelers<br>variable=Positive<br>year=%{x}<br>value=%{y}<extra></extra>",
         "legendgroup": "WeAreTravelers",
         "line": {
          "color": "#B6E880",
          "dash": "solid"
         },
         "marker": {
          "symbol": "circle"
         },
         "mode": "lines",
         "name": "WeAreTravelers",
         "showlegend": true,
         "type": "scattergl",
         "x": [
          2020
         ],
         "xaxis": "x",
         "y": [
          0
         ],
         "yaxis": "y"
        },
        {
         "hovertemplate": "company_name=WeAreTravelers<br>variable=Negative<br>year=%{x}<br>value=%{y}<extra></extra>",
         "legendgroup": "WeAreTravelers",
         "line": {
          "color": "#B6E880",
          "dash": "solid"
         },
         "marker": {
          "symbol": "circle"
         },
         "mode": "lines",
         "name": "WeAreTravelers",
         "showlegend": false,
         "type": "scattergl",
         "x": [
          2020
         ],
         "xaxis": "x",
         "y": [
          0
         ],
         "yaxis": "y"
        },
        {
         "hovertemplate": "company_name=WeAreTravelers<br>variable=Neutral<br>year=%{x}<br>value=%{y}<extra></extra>",
         "legendgroup": "WeAreTravelers",
         "line": {
          "color": "#B6E880",
          "dash": "solid"
         },
         "marker": {
          "symbol": "circle"
         },
         "mode": "lines",
         "name": "WeAreTravelers",
         "showlegend": false,
         "type": "scattergl",
         "x": [
          2020
         ],
         "xaxis": "x",
         "y": [
          1
         ],
         "yaxis": "y"
        },
        {
         "hovertemplate": "company_name=WeShip<br>variable=Positive<br>year=%{x}<br>value=%{y}<extra></extra>",
         "legendgroup": "WeShip",
         "line": {
          "color": "#FF97FF",
          "dash": "solid"
         },
         "marker": {
          "symbol": "circle"
         },
         "mode": "lines",
         "name": "WeShip",
         "showlegend": true,
         "type": "scattergl",
         "x": [
          2020,
          2021
         ],
         "xaxis": "x",
         "y": [
          0,
          0
         ],
         "yaxis": "y"
        },
        {
         "hovertemplate": "company_name=WeShip<br>variable=Negative<br>year=%{x}<br>value=%{y}<extra></extra>",
         "legendgroup": "WeShip",
         "line": {
          "color": "#FF97FF",
          "dash": "solid"
         },
         "marker": {
          "symbol": "circle"
         },
         "mode": "lines",
         "name": "WeShip",
         "showlegend": false,
         "type": "scattergl",
         "x": [
          2020,
          2021
         ],
         "xaxis": "x",
         "y": [
          0,
          1
         ],
         "yaxis": "y"
        },
        {
         "hovertemplate": "company_name=WeShip<br>variable=Neutral<br>year=%{x}<br>value=%{y}<extra></extra>",
         "legendgroup": "WeShip",
         "line": {
          "color": "#FF97FF",
          "dash": "solid"
         },
         "marker": {
          "symbol": "circle"
         },
         "mode": "lines",
         "name": "WeShip",
         "showlegend": false,
         "type": "scattergl",
         "x": [
          2020,
          2021
         ],
         "xaxis": "x",
         "y": [
          4,
          19
         ],
         "yaxis": "y"
        },
        {
         "hovertemplate": "company_name=Welcome Pickups<br>variable=Positive<br>year=%{x}<br>value=%{y}<extra></extra>",
         "legendgroup": "Welcome Pickups",
         "line": {
          "color": "#FECB52",
          "dash": "solid"
         },
         "marker": {
          "symbol": "circle"
         },
         "mode": "lines",
         "name": "Welcome Pickups",
         "showlegend": true,
         "type": "scattergl",
         "x": [
          2017,
          2018
         ],
         "xaxis": "x",
         "y": [
          79,
          53
         ],
         "yaxis": "y"
        },
        {
         "hovertemplate": "company_name=Welcome Pickups<br>variable=Negative<br>year=%{x}<br>value=%{y}<extra></extra>",
         "legendgroup": "Welcome Pickups",
         "line": {
          "color": "#FECB52",
          "dash": "solid"
         },
         "marker": {
          "symbol": "circle"
         },
         "mode": "lines",
         "name": "Welcome Pickups",
         "showlegend": false,
         "type": "scattergl",
         "x": [
          2017,
          2018
         ],
         "xaxis": "x",
         "y": [
          7,
          4
         ],
         "yaxis": "y"
        },
        {
         "hovertemplate": "company_name=Welcome Pickups<br>variable=Neutral<br>year=%{x}<br>value=%{y}<extra></extra>",
         "legendgroup": "Welcome Pickups",
         "line": {
          "color": "#FECB52",
          "dash": "solid"
         },
         "marker": {
          "symbol": "circle"
         },
         "mode": "lines",
         "name": "Welcome Pickups",
         "showlegend": false,
         "type": "scattergl",
         "x": [
          2017,
          2018
         ],
         "xaxis": "x",
         "y": [
          53,
          32
         ],
         "yaxis": "y"
        },
        {
         "hovertemplate": "company_name=Wikifarmer Official<br>variable=Positive<br>year=%{x}<br>value=%{y}<extra></extra>",
         "legendgroup": "Wikifarmer Official",
         "line": {
          "color": "#636efa",
          "dash": "solid"
         },
         "marker": {
          "symbol": "circle"
         },
         "mode": "lines",
         "name": "Wikifarmer Official",
         "showlegend": true,
         "type": "scattergl",
         "x": [
          2017,
          2018,
          2019,
          2020,
          2021,
          2022,
          2023
         ],
         "xaxis": "x",
         "y": [
          11,
          2,
          4,
          13,
          0,
          18,
          1
         ],
         "yaxis": "y"
        },
        {
         "hovertemplate": "company_name=Wikifarmer Official<br>variable=Negative<br>year=%{x}<br>value=%{y}<extra></extra>",
         "legendgroup": "Wikifarmer Official",
         "line": {
          "color": "#636efa",
          "dash": "solid"
         },
         "marker": {
          "symbol": "circle"
         },
         "mode": "lines",
         "name": "Wikifarmer Official",
         "showlegend": false,
         "type": "scattergl",
         "x": [
          2017,
          2018,
          2019,
          2020,
          2021,
          2022,
          2023
         ],
         "xaxis": "x",
         "y": [
          1,
          2,
          0,
          0,
          0,
          1,
          0
         ],
         "yaxis": "y"
        },
        {
         "hovertemplate": "company_name=Wikifarmer Official<br>variable=Neutral<br>year=%{x}<br>value=%{y}<extra></extra>",
         "legendgroup": "Wikifarmer Official",
         "line": {
          "color": "#636efa",
          "dash": "solid"
         },
         "marker": {
          "symbol": "circle"
         },
         "mode": "lines",
         "name": "Wikifarmer Official",
         "showlegend": false,
         "type": "scattergl",
         "x": [
          2017,
          2018,
          2019,
          2020,
          2021,
          2022,
          2023
         ],
         "xaxis": "x",
         "y": [
          22,
          65,
          7,
          4,
          1,
          10,
          3
         ],
         "yaxis": "y"
        },
        {
         "hovertemplate": "company_name=Winner Battery<br>variable=Positive<br>year=%{x}<br>value=%{y}<extra></extra>",
         "legendgroup": "Winner Battery",
         "line": {
          "color": "#EF553B",
          "dash": "solid"
         },
         "marker": {
          "symbol": "circle"
         },
         "mode": "lines",
         "name": "Winner Battery",
         "showlegend": true,
         "type": "scattergl",
         "x": [
          2017,
          2022,
          2023
         ],
         "xaxis": "x",
         "y": [
          1,
          2,
          2
         ],
         "yaxis": "y"
        },
        {
         "hovertemplate": "company_name=Winner Battery<br>variable=Negative<br>year=%{x}<br>value=%{y}<extra></extra>",
         "legendgroup": "Winner Battery",
         "line": {
          "color": "#EF553B",
          "dash": "solid"
         },
         "marker": {
          "symbol": "circle"
         },
         "mode": "lines",
         "name": "Winner Battery",
         "showlegend": false,
         "type": "scattergl",
         "x": [
          2017,
          2022,
          2023
         ],
         "xaxis": "x",
         "y": [
          0,
          0,
          0
         ],
         "yaxis": "y"
        },
        {
         "hovertemplate": "company_name=Winner Battery<br>variable=Neutral<br>year=%{x}<br>value=%{y}<extra></extra>",
         "legendgroup": "Winner Battery",
         "line": {
          "color": "#EF553B",
          "dash": "solid"
         },
         "marker": {
          "symbol": "circle"
         },
         "mode": "lines",
         "name": "Winner Battery",
         "showlegend": false,
         "type": "scattergl",
         "x": [
          2017,
          2022,
          2023
         ],
         "xaxis": "x",
         "y": [
          1,
          1,
          0
         ],
         "yaxis": "y"
        },
        {
         "hovertemplate": "company_name=Woli App<br>variable=Positive<br>year=%{x}<br>value=%{y}<extra></extra>",
         "legendgroup": "Woli App",
         "line": {
          "color": "#00cc96",
          "dash": "solid"
         },
         "marker": {
          "symbol": "circle"
         },
         "mode": "lines",
         "name": "Woli App",
         "showlegend": true,
         "type": "scattergl",
         "x": [
          2022
         ],
         "xaxis": "x",
         "y": [
          1
         ],
         "yaxis": "y"
        },
        {
         "hovertemplate": "company_name=Woli App<br>variable=Negative<br>year=%{x}<br>value=%{y}<extra></extra>",
         "legendgroup": "Woli App",
         "line": {
          "color": "#00cc96",
          "dash": "solid"
         },
         "marker": {
          "symbol": "circle"
         },
         "mode": "lines",
         "name": "Woli App",
         "showlegend": false,
         "type": "scattergl",
         "x": [
          2022
         ],
         "xaxis": "x",
         "y": [
          0
         ],
         "yaxis": "y"
        },
        {
         "hovertemplate": "company_name=Woli App<br>variable=Neutral<br>year=%{x}<br>value=%{y}<extra></extra>",
         "legendgroup": "Woli App",
         "line": {
          "color": "#00cc96",
          "dash": "solid"
         },
         "marker": {
          "symbol": "circle"
         },
         "mode": "lines",
         "name": "Woli App",
         "showlegend": false,
         "type": "scattergl",
         "x": [
          2022
         ],
         "xaxis": "x",
         "y": [
          5
         ],
         "yaxis": "y"
        },
        {
         "hovertemplate": "company_name=Workadu<br>variable=Positive<br>year=%{x}<br>value=%{y}<extra></extra>",
         "legendgroup": "Workadu",
         "line": {
          "color": "#ab63fa",
          "dash": "solid"
         },
         "marker": {
          "symbol": "circle"
         },
         "mode": "lines",
         "name": "Workadu",
         "showlegend": true,
         "type": "scattergl",
         "x": [
          2017,
          2018
         ],
         "xaxis": "x",
         "y": [
          3,
          25
         ],
         "yaxis": "y"
        },
        {
         "hovertemplate": "company_name=Workadu<br>variable=Negative<br>year=%{x}<br>value=%{y}<extra></extra>",
         "legendgroup": "Workadu",
         "line": {
          "color": "#ab63fa",
          "dash": "solid"
         },
         "marker": {
          "symbol": "circle"
         },
         "mode": "lines",
         "name": "Workadu",
         "showlegend": false,
         "type": "scattergl",
         "x": [
          2017,
          2018
         ],
         "xaxis": "x",
         "y": [
          0,
          1
         ],
         "yaxis": "y"
        },
        {
         "hovertemplate": "company_name=Workadu<br>variable=Neutral<br>year=%{x}<br>value=%{y}<extra></extra>",
         "legendgroup": "Workadu",
         "line": {
          "color": "#ab63fa",
          "dash": "solid"
         },
         "marker": {
          "symbol": "circle"
         },
         "mode": "lines",
         "name": "Workadu",
         "showlegend": false,
         "type": "scattergl",
         "x": [
          2017,
          2018
         ],
         "xaxis": "x",
         "y": [
          10,
          13
         ],
         "yaxis": "y"
        },
        {
         "hovertemplate": "company_name=Workathlon<br>variable=Positive<br>year=%{x}<br>value=%{y}<extra></extra>",
         "legendgroup": "Workathlon",
         "line": {
          "color": "#FFA15A",
          "dash": "solid"
         },
         "marker": {
          "symbol": "circle"
         },
         "mode": "lines",
         "name": "Workathlon",
         "showlegend": true,
         "type": "scattergl",
         "x": [
          2017,
          2018,
          2019
         ],
         "xaxis": "x",
         "y": [
          0,
          57,
          7
         ],
         "yaxis": "y"
        },
        {
         "hovertemplate": "company_name=Workathlon<br>variable=Negative<br>year=%{x}<br>value=%{y}<extra></extra>",
         "legendgroup": "Workathlon",
         "line": {
          "color": "#FFA15A",
          "dash": "solid"
         },
         "marker": {
          "symbol": "circle"
         },
         "mode": "lines",
         "name": "Workathlon",
         "showlegend": false,
         "type": "scattergl",
         "x": [
          2017,
          2018,
          2019
         ],
         "xaxis": "x",
         "y": [
          0,
          1,
          0
         ],
         "yaxis": "y"
        },
        {
         "hovertemplate": "company_name=Workathlon<br>variable=Neutral<br>year=%{x}<br>value=%{y}<extra></extra>",
         "legendgroup": "Workathlon",
         "line": {
          "color": "#FFA15A",
          "dash": "solid"
         },
         "marker": {
          "symbol": "circle"
         },
         "mode": "lines",
         "name": "Workathlon",
         "showlegend": false,
         "type": "scattergl",
         "x": [
          2017,
          2018,
          2019
         ],
         "xaxis": "x",
         "y": [
          3,
          155,
          8
         ],
         "yaxis": "y"
        },
        {
         "hovertemplate": "company_name=Yolt Labs<br>variable=Positive<br>year=%{x}<br>value=%{y}<extra></extra>",
         "legendgroup": "Yolt Labs",
         "line": {
          "color": "#19d3f3",
          "dash": "solid"
         },
         "marker": {
          "symbol": "circle"
         },
         "mode": "lines",
         "name": "Yolt Labs",
         "showlegend": true,
         "type": "scattergl",
         "x": [
          2022
         ],
         "xaxis": "x",
         "y": [
          3
         ],
         "yaxis": "y"
        },
        {
         "hovertemplate": "company_name=Yolt Labs<br>variable=Negative<br>year=%{x}<br>value=%{y}<extra></extra>",
         "legendgroup": "Yolt Labs",
         "line": {
          "color": "#19d3f3",
          "dash": "solid"
         },
         "marker": {
          "symbol": "circle"
         },
         "mode": "lines",
         "name": "Yolt Labs",
         "showlegend": false,
         "type": "scattergl",
         "x": [
          2022
         ],
         "xaxis": "x",
         "y": [
          0
         ],
         "yaxis": "y"
        },
        {
         "hovertemplate": "company_name=Yolt Labs<br>variable=Neutral<br>year=%{x}<br>value=%{y}<extra></extra>",
         "legendgroup": "Yolt Labs",
         "line": {
          "color": "#19d3f3",
          "dash": "solid"
         },
         "marker": {
          "symbol": "circle"
         },
         "mode": "lines",
         "name": "Yolt Labs",
         "showlegend": false,
         "type": "scattergl",
         "x": [
          2022
         ],
         "xaxis": "x",
         "y": [
          2
         ],
         "yaxis": "y"
        },
        {
         "hovertemplate": "company_name=ZELUS<br>variable=Positive<br>year=%{x}<br>value=%{y}<extra></extra>",
         "legendgroup": "ZELUS",
         "line": {
          "color": "#FF6692",
          "dash": "solid"
         },
         "marker": {
          "symbol": "circle"
         },
         "mode": "lines",
         "name": "ZELUS",
         "showlegend": true,
         "type": "scattergl",
         "x": [
          2020,
          2021,
          2022,
          2023
         ],
         "xaxis": "x",
         "y": [
          0,
          7,
          16,
          4
         ],
         "yaxis": "y"
        },
        {
         "hovertemplate": "company_name=ZELUS<br>variable=Negative<br>year=%{x}<br>value=%{y}<extra></extra>",
         "legendgroup": "ZELUS",
         "line": {
          "color": "#FF6692",
          "dash": "solid"
         },
         "marker": {
          "symbol": "circle"
         },
         "mode": "lines",
         "name": "ZELUS",
         "showlegend": false,
         "type": "scattergl",
         "x": [
          2020,
          2021,
          2022,
          2023
         ],
         "xaxis": "x",
         "y": [
          0,
          0,
          1,
          0
         ],
         "yaxis": "y"
        },
        {
         "hovertemplate": "company_name=ZELUS<br>variable=Neutral<br>year=%{x}<br>value=%{y}<extra></extra>",
         "legendgroup": "ZELUS",
         "line": {
          "color": "#FF6692",
          "dash": "solid"
         },
         "marker": {
          "symbol": "circle"
         },
         "mode": "lines",
         "name": "ZELUS",
         "showlegend": false,
         "type": "scattergl",
         "x": [
          2020,
          2021,
          2022,
          2023
         ],
         "xaxis": "x",
         "y": [
          2,
          2,
          14,
          0
         ],
         "yaxis": "y"
        },
        {
         "hovertemplate": "company_name=admes<br>variable=Positive<br>year=%{x}<br>value=%{y}<extra></extra>",
         "legendgroup": "admes",
         "line": {
          "color": "#B6E880",
          "dash": "solid"
         },
         "marker": {
          "symbol": "circle"
         },
         "mode": "lines",
         "name": "admes",
         "showlegend": true,
         "type": "scattergl",
         "x": [
          2018,
          2019,
          2020,
          2021,
          2022
         ],
         "xaxis": "x",
         "y": [
          6,
          2,
          4,
          0,
          2
         ],
         "yaxis": "y"
        },
        {
         "hovertemplate": "company_name=admes<br>variable=Negative<br>year=%{x}<br>value=%{y}<extra></extra>",
         "legendgroup": "admes",
         "line": {
          "color": "#B6E880",
          "dash": "solid"
         },
         "marker": {
          "symbol": "circle"
         },
         "mode": "lines",
         "name": "admes",
         "showlegend": false,
         "type": "scattergl",
         "x": [
          2018,
          2019,
          2020,
          2021,
          2022
         ],
         "xaxis": "x",
         "y": [
          0,
          0,
          2,
          0,
          0
         ],
         "yaxis": "y"
        },
        {
         "hovertemplate": "company_name=admes<br>variable=Neutral<br>year=%{x}<br>value=%{y}<extra></extra>",
         "legendgroup": "admes",
         "line": {
          "color": "#B6E880",
          "dash": "solid"
         },
         "marker": {
          "symbol": "circle"
         },
         "mode": "lines",
         "name": "admes",
         "showlegend": false,
         "type": "scattergl",
         "x": [
          2018,
          2019,
          2020,
          2021,
          2022
         ],
         "xaxis": "x",
         "y": [
          60,
          86,
          4,
          8,
          6
         ],
         "yaxis": "y"
        },
        {
         "hovertemplate": "company_name=aidplex<br>variable=Positive<br>year=%{x}<br>value=%{y}<extra></extra>",
         "legendgroup": "aidplex",
         "line": {
          "color": "#FF97FF",
          "dash": "solid"
         },
         "marker": {
          "symbol": "circle"
         },
         "mode": "lines",
         "name": "aidplex",
         "showlegend": true,
         "type": "scattergl",
         "x": [
          2018,
          2019,
          2020,
          2021,
          2022,
          2023
         ],
         "xaxis": "x",
         "y": [
          14,
          8,
          6,
          18,
          14,
          2
         ],
         "yaxis": "y"
        },
        {
         "hovertemplate": "company_name=aidplex<br>variable=Negative<br>year=%{x}<br>value=%{y}<extra></extra>",
         "legendgroup": "aidplex",
         "line": {
          "color": "#FF97FF",
          "dash": "solid"
         },
         "marker": {
          "symbol": "circle"
         },
         "mode": "lines",
         "name": "aidplex",
         "showlegend": false,
         "type": "scattergl",
         "x": [
          2018,
          2019,
          2020,
          2021,
          2022,
          2023
         ],
         "xaxis": "x",
         "y": [
          0,
          0,
          0,
          2,
          0,
          0
         ],
         "yaxis": "y"
        },
        {
         "hovertemplate": "company_name=aidplex<br>variable=Neutral<br>year=%{x}<br>value=%{y}<extra></extra>",
         "legendgroup": "aidplex",
         "line": {
          "color": "#FF97FF",
          "dash": "solid"
         },
         "marker": {
          "symbol": "circle"
         },
         "mode": "lines",
         "name": "aidplex",
         "showlegend": false,
         "type": "scattergl",
         "x": [
          2018,
          2019,
          2020,
          2021,
          2022,
          2023
         ],
         "xaxis": "x",
         "y": [
          24,
          2,
          0,
          8,
          2,
          2
         ],
         "yaxis": "y"
        },
        {
         "hovertemplate": "company_name=autoduder<br>variable=Positive<br>year=%{x}<br>value=%{y}<extra></extra>",
         "legendgroup": "autoduder",
         "line": {
          "color": "#FECB52",
          "dash": "solid"
         },
         "marker": {
          "symbol": "circle"
         },
         "mode": "lines",
         "name": "autoduder",
         "showlegend": true,
         "type": "scattergl",
         "x": [
          2018
         ],
         "xaxis": "x",
         "y": [
          6
         ],
         "yaxis": "y"
        },
        {
         "hovertemplate": "company_name=autoduder<br>variable=Negative<br>year=%{x}<br>value=%{y}<extra></extra>",
         "legendgroup": "autoduder",
         "line": {
          "color": "#FECB52",
          "dash": "solid"
         },
         "marker": {
          "symbol": "circle"
         },
         "mode": "lines",
         "name": "autoduder",
         "showlegend": false,
         "type": "scattergl",
         "x": [
          2018
         ],
         "xaxis": "x",
         "y": [
          0
         ],
         "yaxis": "y"
        },
        {
         "hovertemplate": "company_name=autoduder<br>variable=Neutral<br>year=%{x}<br>value=%{y}<extra></extra>",
         "legendgroup": "autoduder",
         "line": {
          "color": "#FECB52",
          "dash": "solid"
         },
         "marker": {
          "symbol": "circle"
         },
         "mode": "lines",
         "name": "autoduder",
         "showlegend": false,
         "type": "scattergl",
         "x": [
          2018
         ],
         "xaxis": "x",
         "y": [
          144
         ],
         "yaxis": "y"
        },
        {
         "hovertemplate": "company_name=e-nios<br>variable=Positive<br>year=%{x}<br>value=%{y}<extra></extra>",
         "legendgroup": "e-nios",
         "line": {
          "color": "#636efa",
          "dash": "solid"
         },
         "marker": {
          "symbol": "circle"
         },
         "mode": "lines",
         "name": "e-nios",
         "showlegend": true,
         "type": "scattergl",
         "x": [
          2017,
          2018,
          2019,
          2020,
          2021,
          2022
         ],
         "xaxis": "x",
         "y": [
          17,
          11,
          3,
          0,
          0,
          0
         ],
         "yaxis": "y"
        },
        {
         "hovertemplate": "company_name=e-nios<br>variable=Negative<br>year=%{x}<br>value=%{y}<extra></extra>",
         "legendgroup": "e-nios",
         "line": {
          "color": "#636efa",
          "dash": "solid"
         },
         "marker": {
          "symbol": "circle"
         },
         "mode": "lines",
         "name": "e-nios",
         "showlegend": false,
         "type": "scattergl",
         "x": [
          2017,
          2018,
          2019,
          2020,
          2021,
          2022
         ],
         "xaxis": "x",
         "y": [
          4,
          1,
          0,
          0,
          0,
          0
         ],
         "yaxis": "y"
        },
        {
         "hovertemplate": "company_name=e-nios<br>variable=Neutral<br>year=%{x}<br>value=%{y}<extra></extra>",
         "legendgroup": "e-nios",
         "line": {
          "color": "#636efa",
          "dash": "solid"
         },
         "marker": {
          "symbol": "circle"
         },
         "mode": "lines",
         "name": "e-nios",
         "showlegend": false,
         "type": "scattergl",
         "x": [
          2017,
          2018,
          2019,
          2020,
          2021,
          2022
         ],
         "xaxis": "x",
         "y": [
          42,
          15,
          2,
          2,
          1,
          1
         ],
         "yaxis": "y"
        },
        {
         "hovertemplate": "company_name=eNVy softworks<br>variable=Positive<br>year=%{x}<br>value=%{y}<extra></extra>",
         "legendgroup": "eNVy softworks",
         "line": {
          "color": "#EF553B",
          "dash": "solid"
         },
         "marker": {
          "symbol": "circle"
         },
         "mode": "lines",
         "name": "eNVy softworks",
         "showlegend": true,
         "type": "scattergl",
         "x": [
          2018,
          2019,
          2022,
          2023
         ],
         "xaxis": "x",
         "y": [
          18,
          9,
          0,
          4
         ],
         "yaxis": "y"
        },
        {
         "hovertemplate": "company_name=eNVy softworks<br>variable=Negative<br>year=%{x}<br>value=%{y}<extra></extra>",
         "legendgroup": "eNVy softworks",
         "line": {
          "color": "#EF553B",
          "dash": "solid"
         },
         "marker": {
          "symbol": "circle"
         },
         "mode": "lines",
         "name": "eNVy softworks",
         "showlegend": false,
         "type": "scattergl",
         "x": [
          2018,
          2019,
          2022,
          2023
         ],
         "xaxis": "x",
         "y": [
          6,
          4,
          0,
          0
         ],
         "yaxis": "y"
        },
        {
         "hovertemplate": "company_name=eNVy softworks<br>variable=Neutral<br>year=%{x}<br>value=%{y}<extra></extra>",
         "legendgroup": "eNVy softworks",
         "line": {
          "color": "#EF553B",
          "dash": "solid"
         },
         "marker": {
          "symbol": "circle"
         },
         "mode": "lines",
         "name": "eNVy softworks",
         "showlegend": false,
         "type": "scattergl",
         "x": [
          2018,
          2019,
          2022,
          2023
         ],
         "xaxis": "x",
         "y": [
          13,
          5,
          1,
          2
         ],
         "yaxis": "y"
        },
        {
         "hovertemplate": "company_name=eummena<br>variable=Positive<br>year=%{x}<br>value=%{y}<extra></extra>",
         "legendgroup": "eummena",
         "line": {
          "color": "#00cc96",
          "dash": "solid"
         },
         "marker": {
          "symbol": "circle"
         },
         "mode": "lines",
         "name": "eummena",
         "showlegend": true,
         "type": "scattergl",
         "x": [
          2017,
          2018,
          2019,
          2020,
          2021,
          2022,
          2023
         ],
         "xaxis": "x",
         "y": [
          11,
          1,
          38,
          77,
          37,
          67,
          6
         ],
         "yaxis": "y"
        },
        {
         "hovertemplate": "company_name=eummena<br>variable=Negative<br>year=%{x}<br>value=%{y}<extra></extra>",
         "legendgroup": "eummena",
         "line": {
          "color": "#00cc96",
          "dash": "solid"
         },
         "marker": {
          "symbol": "circle"
         },
         "mode": "lines",
         "name": "eummena",
         "showlegend": false,
         "type": "scattergl",
         "x": [
          2017,
          2018,
          2019,
          2020,
          2021,
          2022,
          2023
         ],
         "xaxis": "x",
         "y": [
          1,
          0,
          3,
          3,
          1,
          1,
          1
         ],
         "yaxis": "y"
        },
        {
         "hovertemplate": "company_name=eummena<br>variable=Neutral<br>year=%{x}<br>value=%{y}<extra></extra>",
         "legendgroup": "eummena",
         "line": {
          "color": "#00cc96",
          "dash": "solid"
         },
         "marker": {
          "symbol": "circle"
         },
         "mode": "lines",
         "name": "eummena",
         "showlegend": false,
         "type": "scattergl",
         "x": [
          2017,
          2018,
          2019,
          2020,
          2021,
          2022,
          2023
         ],
         "xaxis": "x",
         "y": [
          17,
          1,
          17,
          29,
          58,
          122,
          14
         ],
         "yaxis": "y"
        },
        {
         "hovertemplate": "company_name=ferryhopper<br>variable=Positive<br>year=%{x}<br>value=%{y}<extra></extra>",
         "legendgroup": "ferryhopper",
         "line": {
          "color": "#ab63fa",
          "dash": "solid"
         },
         "marker": {
          "symbol": "circle"
         },
         "mode": "lines",
         "name": "ferryhopper",
         "showlegend": true,
         "type": "scattergl",
         "x": [
          2017,
          2018,
          2020,
          2021,
          2022
         ],
         "xaxis": "x",
         "y": [
          2,
          3,
          22,
          13,
          1
         ],
         "yaxis": "y"
        },
        {
         "hovertemplate": "company_name=ferryhopper<br>variable=Negative<br>year=%{x}<br>value=%{y}<extra></extra>",
         "legendgroup": "ferryhopper",
         "line": {
          "color": "#ab63fa",
          "dash": "solid"
         },
         "marker": {
          "symbol": "circle"
         },
         "mode": "lines",
         "name": "ferryhopper",
         "showlegend": false,
         "type": "scattergl",
         "x": [
          2017,
          2018,
          2020,
          2021,
          2022
         ],
         "xaxis": "x",
         "y": [
          1,
          0,
          3,
          0,
          2
         ],
         "yaxis": "y"
        },
        {
         "hovertemplate": "company_name=ferryhopper<br>variable=Neutral<br>year=%{x}<br>value=%{y}<extra></extra>",
         "legendgroup": "ferryhopper",
         "line": {
          "color": "#ab63fa",
          "dash": "solid"
         },
         "marker": {
          "symbol": "circle"
         },
         "mode": "lines",
         "name": "ferryhopper",
         "showlegend": false,
         "type": "scattergl",
         "x": [
          2017,
          2018,
          2020,
          2021,
          2022
         ],
         "xaxis": "x",
         "y": [
          25,
          14,
          30,
          3,
          2
         ],
         "yaxis": "y"
        },
        {
         "hovertemplate": "company_name=i2d Technologies.<br>variable=Positive<br>year=%{x}<br>value=%{y}<extra></extra>",
         "legendgroup": "i2d Technologies.",
         "line": {
          "color": "#FFA15A",
          "dash": "solid"
         },
         "marker": {
          "symbol": "circle"
         },
         "mode": "lines",
         "name": "i2d Technologies.",
         "showlegend": true,
         "type": "scattergl",
         "x": [
          2017
         ],
         "xaxis": "x",
         "y": [
          3
         ],
         "yaxis": "y"
        },
        {
         "hovertemplate": "company_name=i2d Technologies.<br>variable=Negative<br>year=%{x}<br>value=%{y}<extra></extra>",
         "legendgroup": "i2d Technologies.",
         "line": {
          "color": "#FFA15A",
          "dash": "solid"
         },
         "marker": {
          "symbol": "circle"
         },
         "mode": "lines",
         "name": "i2d Technologies.",
         "showlegend": false,
         "type": "scattergl",
         "x": [
          2017
         ],
         "xaxis": "x",
         "y": [
          0
         ],
         "yaxis": "y"
        },
        {
         "hovertemplate": "company_name=i2d Technologies.<br>variable=Neutral<br>year=%{x}<br>value=%{y}<extra></extra>",
         "legendgroup": "i2d Technologies.",
         "line": {
          "color": "#FFA15A",
          "dash": "solid"
         },
         "marker": {
          "symbol": "circle"
         },
         "mode": "lines",
         "name": "i2d Technologies.",
         "showlegend": false,
         "type": "scattergl",
         "x": [
          2017
         ],
         "xaxis": "x",
         "y": [
          0
         ],
         "yaxis": "y"
        },
        {
         "hovertemplate": "company_name=inaccel<br>variable=Positive<br>year=%{x}<br>value=%{y}<extra></extra>",
         "legendgroup": "inaccel",
         "line": {
          "color": "#19d3f3",
          "dash": "solid"
         },
         "marker": {
          "symbol": "circle"
         },
         "mode": "lines",
         "name": "inaccel",
         "showlegend": true,
         "type": "scattergl",
         "x": [
          2018,
          2019,
          2020,
          2022,
          2023
         ],
         "xaxis": "x",
         "y": [
          6,
          6,
          4,
          2,
          2
         ],
         "yaxis": "y"
        },
        {
         "hovertemplate": "company_name=inaccel<br>variable=Negative<br>year=%{x}<br>value=%{y}<extra></extra>",
         "legendgroup": "inaccel",
         "line": {
          "color": "#19d3f3",
          "dash": "solid"
         },
         "marker": {
          "symbol": "circle"
         },
         "mode": "lines",
         "name": "inaccel",
         "showlegend": false,
         "type": "scattergl",
         "x": [
          2018,
          2019,
          2020,
          2022,
          2023
         ],
         "xaxis": "x",
         "y": [
          1,
          0,
          0,
          0,
          0
         ],
         "yaxis": "y"
        },
        {
         "hovertemplate": "company_name=inaccel<br>variable=Neutral<br>year=%{x}<br>value=%{y}<extra></extra>",
         "legendgroup": "inaccel",
         "line": {
          "color": "#19d3f3",
          "dash": "solid"
         },
         "marker": {
          "symbol": "circle"
         },
         "mode": "lines",
         "name": "inaccel",
         "showlegend": false,
         "type": "scattergl",
         "x": [
          2018,
          2019,
          2020,
          2022,
          2023
         ],
         "xaxis": "x",
         "y": [
          2,
          12,
          0,
          1,
          0
         ],
         "yaxis": "y"
        },
        {
         "hovertemplate": "company_name=infalia<br>variable=Positive<br>year=%{x}<br>value=%{y}<extra></extra>",
         "legendgroup": "infalia",
         "line": {
          "color": "#FF6692",
          "dash": "solid"
         },
         "marker": {
          "symbol": "circle"
         },
         "mode": "lines",
         "name": "infalia",
         "showlegend": true,
         "type": "scattergl",
         "x": [
          2022
         ],
         "xaxis": "x",
         "y": [
          1
         ],
         "yaxis": "y"
        },
        {
         "hovertemplate": "company_name=infalia<br>variable=Negative<br>year=%{x}<br>value=%{y}<extra></extra>",
         "legendgroup": "infalia",
         "line": {
          "color": "#FF6692",
          "dash": "solid"
         },
         "marker": {
          "symbol": "circle"
         },
         "mode": "lines",
         "name": "infalia",
         "showlegend": false,
         "type": "scattergl",
         "x": [
          2022
         ],
         "xaxis": "x",
         "y": [
          0
         ],
         "yaxis": "y"
        },
        {
         "hovertemplate": "company_name=infalia<br>variable=Neutral<br>year=%{x}<br>value=%{y}<extra></extra>",
         "legendgroup": "infalia",
         "line": {
          "color": "#FF6692",
          "dash": "solid"
         },
         "marker": {
          "symbol": "circle"
         },
         "mode": "lines",
         "name": "infalia",
         "showlegend": false,
         "type": "scattergl",
         "x": [
          2022
         ],
         "xaxis": "x",
         "y": [
          0
         ],
         "yaxis": "y"
        },
        {
         "hovertemplate": "company_name=insigh.io<br>variable=Positive<br>year=%{x}<br>value=%{y}<extra></extra>",
         "legendgroup": "insigh.io",
         "line": {
          "color": "#B6E880",
          "dash": "solid"
         },
         "marker": {
          "symbol": "circle"
         },
         "mode": "lines",
         "name": "insigh.io",
         "showlegend": true,
         "type": "scattergl",
         "x": [
          2020,
          2021
         ],
         "xaxis": "x",
         "y": [
          8,
          2
         ],
         "yaxis": "y"
        },
        {
         "hovertemplate": "company_name=insigh.io<br>variable=Negative<br>year=%{x}<br>value=%{y}<extra></extra>",
         "legendgroup": "insigh.io",
         "line": {
          "color": "#B6E880",
          "dash": "solid"
         },
         "marker": {
          "symbol": "circle"
         },
         "mode": "lines",
         "name": "insigh.io",
         "showlegend": false,
         "type": "scattergl",
         "x": [
          2020,
          2021
         ],
         "xaxis": "x",
         "y": [
          3,
          0
         ],
         "yaxis": "y"
        },
        {
         "hovertemplate": "company_name=insigh.io<br>variable=Neutral<br>year=%{x}<br>value=%{y}<extra></extra>",
         "legendgroup": "insigh.io",
         "line": {
          "color": "#B6E880",
          "dash": "solid"
         },
         "marker": {
          "symbol": "circle"
         },
         "mode": "lines",
         "name": "insigh.io",
         "showlegend": false,
         "type": "scattergl",
         "x": [
          2020,
          2021
         ],
         "xaxis": "x",
         "y": [
          2,
          0
         ],
         "yaxis": "y"
        },
        {
         "hovertemplate": "company_name=isMOOD<br>variable=Positive<br>year=%{x}<br>value=%{y}<extra></extra>",
         "legendgroup": "isMOOD",
         "line": {
          "color": "#FF97FF",
          "dash": "solid"
         },
         "marker": {
          "symbol": "circle"
         },
         "mode": "lines",
         "name": "isMOOD",
         "showlegend": true,
         "type": "scattergl",
         "x": [
          2017,
          2019
         ],
         "xaxis": "x",
         "y": [
          1,
          1
         ],
         "yaxis": "y"
        },
        {
         "hovertemplate": "company_name=isMOOD<br>variable=Negative<br>year=%{x}<br>value=%{y}<extra></extra>",
         "legendgroup": "isMOOD",
         "line": {
          "color": "#FF97FF",
          "dash": "solid"
         },
         "marker": {
          "symbol": "circle"
         },
         "mode": "lines",
         "name": "isMOOD",
         "showlegend": false,
         "type": "scattergl",
         "x": [
          2017,
          2019
         ],
         "xaxis": "x",
         "y": [
          0,
          0
         ],
         "yaxis": "y"
        },
        {
         "hovertemplate": "company_name=isMOOD<br>variable=Neutral<br>year=%{x}<br>value=%{y}<extra></extra>",
         "legendgroup": "isMOOD",
         "line": {
          "color": "#FF97FF",
          "dash": "solid"
         },
         "marker": {
          "symbol": "circle"
         },
         "mode": "lines",
         "name": "isMOOD",
         "showlegend": false,
         "type": "scattergl",
         "x": [
          2017,
          2019
         ],
         "xaxis": "x",
         "y": [
          2,
          2
         ],
         "yaxis": "y"
        },
        {
         "hovertemplate": "company_name=kleesto<br>variable=Positive<br>year=%{x}<br>value=%{y}<extra></extra>",
         "legendgroup": "kleesto",
         "line": {
          "color": "#FECB52",
          "dash": "solid"
         },
         "marker": {
          "symbol": "circle"
         },
         "mode": "lines",
         "name": "kleesto",
         "showlegend": true,
         "type": "scattergl",
         "x": [
          2018,
          2019,
          2020,
          2021,
          2022,
          2023
         ],
         "xaxis": "x",
         "y": [
          9,
          23,
          8,
          1,
          27,
          67
         ],
         "yaxis": "y"
        },
        {
         "hovertemplate": "company_name=kleesto<br>variable=Negative<br>year=%{x}<br>value=%{y}<extra></extra>",
         "legendgroup": "kleesto",
         "line": {
          "color": "#FECB52",
          "dash": "solid"
         },
         "marker": {
          "symbol": "circle"
         },
         "mode": "lines",
         "name": "kleesto",
         "showlegend": false,
         "type": "scattergl",
         "x": [
          2018,
          2019,
          2020,
          2021,
          2022,
          2023
         ],
         "xaxis": "x",
         "y": [
          1,
          4,
          1,
          0,
          1,
          11
         ],
         "yaxis": "y"
        },
        {
         "hovertemplate": "company_name=kleesto<br>variable=Neutral<br>year=%{x}<br>value=%{y}<extra></extra>",
         "legendgroup": "kleesto",
         "line": {
          "color": "#FECB52",
          "dash": "solid"
         },
         "marker": {
          "symbol": "circle"
         },
         "mode": "lines",
         "name": "kleesto",
         "showlegend": false,
         "type": "scattergl",
         "x": [
          2018,
          2019,
          2020,
          2021,
          2022,
          2023
         ],
         "xaxis": "x",
         "y": [
          6,
          13,
          7,
          0,
          13,
          33
         ],
         "yaxis": "y"
        },
        {
         "hovertemplate": "company_name=m-hospitality<br>variable=Positive<br>year=%{x}<br>value=%{y}<extra></extra>",
         "legendgroup": "m-hospitality",
         "line": {
          "color": "#636efa",
          "dash": "solid"
         },
         "marker": {
          "symbol": "circle"
         },
         "mode": "lines",
         "name": "m-hospitality",
         "showlegend": true,
         "type": "scattergl",
         "x": [
          2017,
          2018,
          2019
         ],
         "xaxis": "x",
         "y": [
          12,
          16,
          1
         ],
         "yaxis": "y"
        },
        {
         "hovertemplate": "company_name=m-hospitality<br>variable=Negative<br>year=%{x}<br>value=%{y}<extra></extra>",
         "legendgroup": "m-hospitality",
         "line": {
          "color": "#636efa",
          "dash": "solid"
         },
         "marker": {
          "symbol": "circle"
         },
         "mode": "lines",
         "name": "m-hospitality",
         "showlegend": false,
         "type": "scattergl",
         "x": [
          2017,
          2018,
          2019
         ],
         "xaxis": "x",
         "y": [
          0,
          1,
          0
         ],
         "yaxis": "y"
        },
        {
         "hovertemplate": "company_name=m-hospitality<br>variable=Neutral<br>year=%{x}<br>value=%{y}<extra></extra>",
         "legendgroup": "m-hospitality",
         "line": {
          "color": "#636efa",
          "dash": "solid"
         },
         "marker": {
          "symbol": "circle"
         },
         "mode": "lines",
         "name": "m-hospitality",
         "showlegend": false,
         "type": "scattergl",
         "x": [
          2017,
          2018,
          2019
         ],
         "xaxis": "x",
         "y": [
          4,
          6,
          0
         ],
         "yaxis": "y"
        },
        {
         "hovertemplate": "company_name=nimbata.<br>variable=Positive<br>year=%{x}<br>value=%{y}<extra></extra>",
         "legendgroup": "nimbata.",
         "line": {
          "color": "#EF553B",
          "dash": "solid"
         },
         "marker": {
          "symbol": "circle"
         },
         "mode": "lines",
         "name": "nimbata.",
         "showlegend": true,
         "type": "scattergl",
         "x": [
          2018,
          2020,
          2023
         ],
         "xaxis": "x",
         "y": [
          0,
          31,
          1
         ],
         "yaxis": "y"
        },
        {
         "hovertemplate": "company_name=nimbata.<br>variable=Negative<br>year=%{x}<br>value=%{y}<extra></extra>",
         "legendgroup": "nimbata.",
         "line": {
          "color": "#EF553B",
          "dash": "solid"
         },
         "marker": {
          "symbol": "circle"
         },
         "mode": "lines",
         "name": "nimbata.",
         "showlegend": false,
         "type": "scattergl",
         "x": [
          2018,
          2020,
          2023
         ],
         "xaxis": "x",
         "y": [
          0,
          3,
          0
         ],
         "yaxis": "y"
        },
        {
         "hovertemplate": "company_name=nimbata.<br>variable=Neutral<br>year=%{x}<br>value=%{y}<extra></extra>",
         "legendgroup": "nimbata.",
         "line": {
          "color": "#EF553B",
          "dash": "solid"
         },
         "marker": {
          "symbol": "circle"
         },
         "mode": "lines",
         "name": "nimbata.",
         "showlegend": false,
         "type": "scattergl",
         "x": [
          2018,
          2020,
          2023
         ],
         "xaxis": "x",
         "y": [
          1,
          4,
          1
         ],
         "yaxis": "y"
        },
        {
         "hovertemplate": "company_name=norbloc<br>variable=Positive<br>year=%{x}<br>value=%{y}<extra></extra>",
         "legendgroup": "norbloc",
         "line": {
          "color": "#00cc96",
          "dash": "solid"
         },
         "marker": {
          "symbol": "circle"
         },
         "mode": "lines",
         "name": "norbloc",
         "showlegend": true,
         "type": "scattergl",
         "x": [
          2017,
          2018,
          2019,
          2020,
          2021,
          2022,
          2023
         ],
         "xaxis": "x",
         "y": [
          6,
          8,
          1,
          6,
          9,
          28,
          10
         ],
         "yaxis": "y"
        },
        {
         "hovertemplate": "company_name=norbloc<br>variable=Negative<br>year=%{x}<br>value=%{y}<extra></extra>",
         "legendgroup": "norbloc",
         "line": {
          "color": "#00cc96",
          "dash": "solid"
         },
         "marker": {
          "symbol": "circle"
         },
         "mode": "lines",
         "name": "norbloc",
         "showlegend": false,
         "type": "scattergl",
         "x": [
          2017,
          2018,
          2019,
          2020,
          2021,
          2022,
          2023
         ],
         "xaxis": "x",
         "y": [
          1,
          0,
          0,
          0,
          0,
          2,
          1
         ],
         "yaxis": "y"
        },
        {
         "hovertemplate": "company_name=norbloc<br>variable=Neutral<br>year=%{x}<br>value=%{y}<extra></extra>",
         "legendgroup": "norbloc",
         "line": {
          "color": "#00cc96",
          "dash": "solid"
         },
         "marker": {
          "symbol": "circle"
         },
         "mode": "lines",
         "name": "norbloc",
         "showlegend": false,
         "type": "scattergl",
         "x": [
          2017,
          2018,
          2019,
          2020,
          2021,
          2022,
          2023
         ],
         "xaxis": "x",
         "y": [
          5,
          13,
          1,
          6,
          2,
          20,
          5
         ],
         "yaxis": "y"
        },
        {
         "hovertemplate": "company_name=novoville<br>variable=Positive<br>year=%{x}<br>value=%{y}<extra></extra>",
         "legendgroup": "novoville",
         "line": {
          "color": "#ab63fa",
          "dash": "solid"
         },
         "marker": {
          "symbol": "circle"
         },
         "mode": "lines",
         "name": "novoville",
         "showlegend": true,
         "type": "scattergl",
         "x": [
          2017,
          2018,
          2019,
          2020,
          2021,
          2022,
          2023
         ],
         "xaxis": "x",
         "y": [
          17,
          20,
          25,
          19,
          13,
          24,
          3
         ],
         "yaxis": "y"
        },
        {
         "hovertemplate": "company_name=novoville<br>variable=Negative<br>year=%{x}<br>value=%{y}<extra></extra>",
         "legendgroup": "novoville",
         "line": {
          "color": "#ab63fa",
          "dash": "solid"
         },
         "marker": {
          "symbol": "circle"
         },
         "mode": "lines",
         "name": "novoville",
         "showlegend": false,
         "type": "scattergl",
         "x": [
          2017,
          2018,
          2019,
          2020,
          2021,
          2022,
          2023
         ],
         "xaxis": "x",
         "y": [
          0,
          1,
          2,
          3,
          2,
          3,
          0
         ],
         "yaxis": "y"
        },
        {
         "hovertemplate": "company_name=novoville<br>variable=Neutral<br>year=%{x}<br>value=%{y}<extra></extra>",
         "legendgroup": "novoville",
         "line": {
          "color": "#ab63fa",
          "dash": "solid"
         },
         "marker": {
          "symbol": "circle"
         },
         "mode": "lines",
         "name": "novoville",
         "showlegend": false,
         "type": "scattergl",
         "x": [
          2017,
          2018,
          2019,
          2020,
          2021,
          2022,
          2023
         ],
         "xaxis": "x",
         "y": [
          15,
          10,
          7,
          10,
          10,
          2,
          2
         ],
         "yaxis": "y"
        },
        {
         "hovertemplate": "company_name=nubis<br>variable=Positive<br>year=%{x}<br>value=%{y}<extra></extra>",
         "legendgroup": "nubis",
         "line": {
          "color": "#FFA15A",
          "dash": "solid"
         },
         "marker": {
          "symbol": "circle"
         },
         "mode": "lines",
         "name": "nubis",
         "showlegend": true,
         "type": "scattergl",
         "x": [
          2020
         ],
         "xaxis": "x",
         "y": [
          0
         ],
         "yaxis": "y"
        },
        {
         "hovertemplate": "company_name=nubis<br>variable=Negative<br>year=%{x}<br>value=%{y}<extra></extra>",
         "legendgroup": "nubis",
         "line": {
          "color": "#FFA15A",
          "dash": "solid"
         },
         "marker": {
          "symbol": "circle"
         },
         "mode": "lines",
         "name": "nubis",
         "showlegend": false,
         "type": "scattergl",
         "x": [
          2020
         ],
         "xaxis": "x",
         "y": [
          0
         ],
         "yaxis": "y"
        },
        {
         "hovertemplate": "company_name=nubis<br>variable=Neutral<br>year=%{x}<br>value=%{y}<extra></extra>",
         "legendgroup": "nubis",
         "line": {
          "color": "#FFA15A",
          "dash": "solid"
         },
         "marker": {
          "symbol": "circle"
         },
         "mode": "lines",
         "name": "nubis",
         "showlegend": false,
         "type": "scattergl",
         "x": [
          2020
         ],
         "xaxis": "x",
         "y": [
          1
         ],
         "yaxis": "y"
        },
        {
         "hovertemplate": "company_name=omgyno<br>variable=Positive<br>year=%{x}<br>value=%{y}<extra></extra>",
         "legendgroup": "omgyno",
         "line": {
          "color": "#19d3f3",
          "dash": "solid"
         },
         "marker": {
          "symbol": "circle"
         },
         "mode": "lines",
         "name": "omgyno",
         "showlegend": true,
         "type": "scattergl",
         "x": [
          2021,
          2022
         ],
         "xaxis": "x",
         "y": [
          0,
          1
         ],
         "yaxis": "y"
        },
        {
         "hovertemplate": "company_name=omgyno<br>variable=Negative<br>year=%{x}<br>value=%{y}<extra></extra>",
         "legendgroup": "omgyno",
         "line": {
          "color": "#19d3f3",
          "dash": "solid"
         },
         "marker": {
          "symbol": "circle"
         },
         "mode": "lines",
         "name": "omgyno",
         "showlegend": false,
         "type": "scattergl",
         "x": [
          2021,
          2022
         ],
         "xaxis": "x",
         "y": [
          1,
          0
         ],
         "yaxis": "y"
        },
        {
         "hovertemplate": "company_name=omgyno<br>variable=Neutral<br>year=%{x}<br>value=%{y}<extra></extra>",
         "legendgroup": "omgyno",
         "line": {
          "color": "#19d3f3",
          "dash": "solid"
         },
         "marker": {
          "symbol": "circle"
         },
         "mode": "lines",
         "name": "omgyno",
         "showlegend": false,
         "type": "scattergl",
         "x": [
          2021,
          2022
         ],
         "xaxis": "x",
         "y": [
          1,
          2
         ],
         "yaxis": "y"
        },
        {
         "hovertemplate": "company_name=recycglobe<br>variable=Positive<br>year=%{x}<br>value=%{y}<extra></extra>",
         "legendgroup": "recycglobe",
         "line": {
          "color": "#FF6692",
          "dash": "solid"
         },
         "marker": {
          "symbol": "circle"
         },
         "mode": "lines",
         "name": "recycglobe",
         "showlegend": true,
         "type": "scattergl",
         "x": [
          2017,
          2018,
          2019,
          2020
         ],
         "xaxis": "x",
         "y": [
          0,
          1,
          1,
          1
         ],
         "yaxis": "y"
        },
        {
         "hovertemplate": "company_name=recycglobe<br>variable=Negative<br>year=%{x}<br>value=%{y}<extra></extra>",
         "legendgroup": "recycglobe",
         "line": {
          "color": "#FF6692",
          "dash": "solid"
         },
         "marker": {
          "symbol": "circle"
         },
         "mode": "lines",
         "name": "recycglobe",
         "showlegend": false,
         "type": "scattergl",
         "x": [
          2017,
          2018,
          2019,
          2020
         ],
         "xaxis": "x",
         "y": [
          0,
          0,
          0,
          0
         ],
         "yaxis": "y"
        },
        {
         "hovertemplate": "company_name=recycglobe<br>variable=Neutral<br>year=%{x}<br>value=%{y}<extra></extra>",
         "legendgroup": "recycglobe",
         "line": {
          "color": "#FF6692",
          "dash": "solid"
         },
         "marker": {
          "symbol": "circle"
         },
         "mode": "lines",
         "name": "recycglobe",
         "showlegend": false,
         "type": "scattergl",
         "x": [
          2017,
          2018,
          2019,
          2020
         ],
         "xaxis": "x",
         "y": [
          3,
          33,
          23,
          1
         ],
         "yaxis": "y"
        },
        {
         "hovertemplate": "company_name=simplybook<br>variable=Positive<br>year=%{x}<br>value=%{y}<extra></extra>",
         "legendgroup": "simplybook",
         "line": {
          "color": "#B6E880",
          "dash": "solid"
         },
         "marker": {
          "symbol": "circle"
         },
         "mode": "lines",
         "name": "simplybook",
         "showlegend": true,
         "type": "scattergl",
         "x": [
          2018,
          2019,
          2020,
          2022
         ],
         "xaxis": "x",
         "y": [
          1,
          11,
          19,
          1
         ],
         "yaxis": "y"
        },
        {
         "hovertemplate": "company_name=simplybook<br>variable=Negative<br>year=%{x}<br>value=%{y}<extra></extra>",
         "legendgroup": "simplybook",
         "line": {
          "color": "#B6E880",
          "dash": "solid"
         },
         "marker": {
          "symbol": "circle"
         },
         "mode": "lines",
         "name": "simplybook",
         "showlegend": false,
         "type": "scattergl",
         "x": [
          2018,
          2019,
          2020,
          2022
         ],
         "xaxis": "x",
         "y": [
          0,
          1,
          3,
          0
         ],
         "yaxis": "y"
        },
        {
         "hovertemplate": "company_name=simplybook<br>variable=Neutral<br>year=%{x}<br>value=%{y}<extra></extra>",
         "legendgroup": "simplybook",
         "line": {
          "color": "#B6E880",
          "dash": "solid"
         },
         "marker": {
          "symbol": "circle"
         },
         "mode": "lines",
         "name": "simplybook",
         "showlegend": false,
         "type": "scattergl",
         "x": [
          2018,
          2019,
          2020,
          2022
         ],
         "xaxis": "x",
         "y": [
          0,
          2,
          6,
          1
         ],
         "yaxis": "y"
        },
        {
         "hovertemplate": "company_name=solmeyea<br>variable=Positive<br>year=%{x}<br>value=%{y}<extra></extra>",
         "legendgroup": "solmeyea",
         "line": {
          "color": "#FF97FF",
          "dash": "solid"
         },
         "marker": {
          "symbol": "circle"
         },
         "mode": "lines",
         "name": "solmeyea",
         "showlegend": true,
         "type": "scattergl",
         "x": [
          2019,
          2020
         ],
         "xaxis": "x",
         "y": [
          3,
          1
         ],
         "yaxis": "y"
        },
        {
         "hovertemplate": "company_name=solmeyea<br>variable=Negative<br>year=%{x}<br>value=%{y}<extra></extra>",
         "legendgroup": "solmeyea",
         "line": {
          "color": "#FF97FF",
          "dash": "solid"
         },
         "marker": {
          "symbol": "circle"
         },
         "mode": "lines",
         "name": "solmeyea",
         "showlegend": false,
         "type": "scattergl",
         "x": [
          2019,
          2020
         ],
         "xaxis": "x",
         "y": [
          0,
          0
         ],
         "yaxis": "y"
        },
        {
         "hovertemplate": "company_name=solmeyea<br>variable=Neutral<br>year=%{x}<br>value=%{y}<extra></extra>",
         "legendgroup": "solmeyea",
         "line": {
          "color": "#FF97FF",
          "dash": "solid"
         },
         "marker": {
          "symbol": "circle"
         },
         "mode": "lines",
         "name": "solmeyea",
         "showlegend": false,
         "type": "scattergl",
         "x": [
          2019,
          2020
         ],
         "xaxis": "x",
         "y": [
          5,
          2
         ],
         "yaxis": "y"
        },
        {
         "hovertemplate": "company_name=spaceprk<br>variable=Positive<br>year=%{x}<br>value=%{y}<extra></extra>",
         "legendgroup": "spaceprk",
         "line": {
          "color": "#FECB52",
          "dash": "solid"
         },
         "marker": {
          "symbol": "circle"
         },
         "mode": "lines",
         "name": "spaceprk",
         "showlegend": true,
         "type": "scattergl",
         "x": [
          2019
         ],
         "xaxis": "x",
         "y": [
          8
         ],
         "yaxis": "y"
        },
        {
         "hovertemplate": "company_name=spaceprk<br>variable=Negative<br>year=%{x}<br>value=%{y}<extra></extra>",
         "legendgroup": "spaceprk",
         "line": {
          "color": "#FECB52",
          "dash": "solid"
         },
         "marker": {
          "symbol": "circle"
         },
         "mode": "lines",
         "name": "spaceprk",
         "showlegend": false,
         "type": "scattergl",
         "x": [
          2019
         ],
         "xaxis": "x",
         "y": [
          0
         ],
         "yaxis": "y"
        },
        {
         "hovertemplate": "company_name=spaceprk<br>variable=Neutral<br>year=%{x}<br>value=%{y}<extra></extra>",
         "legendgroup": "spaceprk",
         "line": {
          "color": "#FECB52",
          "dash": "solid"
         },
         "marker": {
          "symbol": "circle"
         },
         "mode": "lines",
         "name": "spaceprk",
         "showlegend": false,
         "type": "scattergl",
         "x": [
          2019
         ],
         "xaxis": "x",
         "y": [
          3
         ],
         "yaxis": "y"
        },
        {
         "hovertemplate": "company_name=spaniaNFT<br>variable=Positive<br>year=%{x}<br>value=%{y}<extra></extra>",
         "legendgroup": "spaniaNFT",
         "line": {
          "color": "#636efa",
          "dash": "solid"
         },
         "marker": {
          "symbol": "circle"
         },
         "mode": "lines",
         "name": "spaniaNFT",
         "showlegend": true,
         "type": "scattergl",
         "x": [
          2021,
          2022,
          2023
         ],
         "xaxis": "x",
         "y": [
          4,
          0,
          0
         ],
         "yaxis": "y"
        },
        {
         "hovertemplate": "company_name=spaniaNFT<br>variable=Negative<br>year=%{x}<br>value=%{y}<extra></extra>",
         "legendgroup": "spaniaNFT",
         "line": {
          "color": "#636efa",
          "dash": "solid"
         },
         "marker": {
          "symbol": "circle"
         },
         "mode": "lines",
         "name": "spaniaNFT",
         "showlegend": false,
         "type": "scattergl",
         "x": [
          2021,
          2022,
          2023
         ],
         "xaxis": "x",
         "y": [
          0,
          1,
          1
         ],
         "yaxis": "y"
        },
        {
         "hovertemplate": "company_name=spaniaNFT<br>variable=Neutral<br>year=%{x}<br>value=%{y}<extra></extra>",
         "legendgroup": "spaniaNFT",
         "line": {
          "color": "#636efa",
          "dash": "solid"
         },
         "marker": {
          "symbol": "circle"
         },
         "mode": "lines",
         "name": "spaniaNFT",
         "showlegend": false,
         "type": "scattergl",
         "x": [
          2021,
          2022,
          2023
         ],
         "xaxis": "x",
         "y": [
          21,
          43,
          10
         ],
         "yaxis": "y"
        },
        {
         "hovertemplate": "company_name=stinporta.gr<br>variable=Positive<br>year=%{x}<br>value=%{y}<extra></extra>",
         "legendgroup": "stinporta.gr",
         "line": {
          "color": "#EF553B",
          "dash": "solid"
         },
         "marker": {
          "symbol": "circle"
         },
         "mode": "lines",
         "name": "stinporta.gr",
         "showlegend": true,
         "type": "scattergl",
         "x": [
          2020,
          2021,
          2022
         ],
         "xaxis": "x",
         "y": [
          4,
          0,
          0
         ],
         "yaxis": "y"
        },
        {
         "hovertemplate": "company_name=stinporta.gr<br>variable=Negative<br>year=%{x}<br>value=%{y}<extra></extra>",
         "legendgroup": "stinporta.gr",
         "line": {
          "color": "#EF553B",
          "dash": "solid"
         },
         "marker": {
          "symbol": "circle"
         },
         "mode": "lines",
         "name": "stinporta.gr",
         "showlegend": false,
         "type": "scattergl",
         "x": [
          2020,
          2021,
          2022
         ],
         "xaxis": "x",
         "y": [
          0,
          0,
          0
         ],
         "yaxis": "y"
        },
        {
         "hovertemplate": "company_name=stinporta.gr<br>variable=Neutral<br>year=%{x}<br>value=%{y}<extra></extra>",
         "legendgroup": "stinporta.gr",
         "line": {
          "color": "#EF553B",
          "dash": "solid"
         },
         "marker": {
          "symbol": "circle"
         },
         "mode": "lines",
         "name": "stinporta.gr",
         "showlegend": false,
         "type": "scattergl",
         "x": [
          2020,
          2021,
          2022
         ],
         "xaxis": "x",
         "y": [
          110,
          27,
          1
         ],
         "yaxis": "y"
        },
        {
         "hovertemplate": "company_name=up2metric<br>variable=Positive<br>year=%{x}<br>value=%{y}<extra></extra>",
         "legendgroup": "up2metric",
         "line": {
          "color": "#00cc96",
          "dash": "solid"
         },
         "marker": {
          "symbol": "circle"
         },
         "mode": "lines",
         "name": "up2metric",
         "showlegend": true,
         "type": "scattergl",
         "x": [
          2017,
          2018,
          2019,
          2020,
          2021,
          2022
         ],
         "xaxis": "x",
         "y": [
          4,
          18,
          2,
          1,
          1,
          6
         ],
         "yaxis": "y"
        },
        {
         "hovertemplate": "company_name=up2metric<br>variable=Negative<br>year=%{x}<br>value=%{y}<extra></extra>",
         "legendgroup": "up2metric",
         "line": {
          "color": "#00cc96",
          "dash": "solid"
         },
         "marker": {
          "symbol": "circle"
         },
         "mode": "lines",
         "name": "up2metric",
         "showlegend": false,
         "type": "scattergl",
         "x": [
          2017,
          2018,
          2019,
          2020,
          2021,
          2022
         ],
         "xaxis": "x",
         "y": [
          0,
          2,
          0,
          0,
          0,
          0
         ],
         "yaxis": "y"
        },
        {
         "hovertemplate": "company_name=up2metric<br>variable=Neutral<br>year=%{x}<br>value=%{y}<extra></extra>",
         "legendgroup": "up2metric",
         "line": {
          "color": "#00cc96",
          "dash": "solid"
         },
         "marker": {
          "symbol": "circle"
         },
         "mode": "lines",
         "name": "up2metric",
         "showlegend": false,
         "type": "scattergl",
         "x": [
          2017,
          2018,
          2019,
          2020,
          2021,
          2022
         ],
         "xaxis": "x",
         "y": [
          1,
          13,
          0,
          0,
          0,
          1
         ],
         "yaxis": "y"
        },
        {
         "hovertemplate": "company_name=wappier<br>variable=Positive<br>year=%{x}<br>value=%{y}<extra></extra>",
         "legendgroup": "wappier",
         "line": {
          "color": "#ab63fa",
          "dash": "solid"
         },
         "marker": {
          "symbol": "circle"
         },
         "mode": "lines",
         "name": "wappier",
         "showlegend": true,
         "type": "scattergl",
         "x": [
          2017,
          2018,
          2019,
          2020,
          2021,
          2022
         ],
         "xaxis": "x",
         "y": [
          24,
          42,
          68,
          32,
          38,
          54
         ],
         "yaxis": "y"
        },
        {
         "hovertemplate": "company_name=wappier<br>variable=Negative<br>year=%{x}<br>value=%{y}<extra></extra>",
         "legendgroup": "wappier",
         "line": {
          "color": "#ab63fa",
          "dash": "solid"
         },
         "marker": {
          "symbol": "circle"
         },
         "mode": "lines",
         "name": "wappier",
         "showlegend": false,
         "type": "scattergl",
         "x": [
          2017,
          2018,
          2019,
          2020,
          2021,
          2022
         ],
         "xaxis": "x",
         "y": [
          2,
          6,
          4,
          5,
          13,
          11
         ],
         "yaxis": "y"
        },
        {
         "hovertemplate": "company_name=wappier<br>variable=Neutral<br>year=%{x}<br>value=%{y}<extra></extra>",
         "legendgroup": "wappier",
         "line": {
          "color": "#ab63fa",
          "dash": "solid"
         },
         "marker": {
          "symbol": "circle"
         },
         "mode": "lines",
         "name": "wappier",
         "showlegend": false,
         "type": "scattergl",
         "x": [
          2017,
          2018,
          2019,
          2020,
          2021,
          2022
         ],
         "xaxis": "x",
         "y": [
          13,
          22,
          35,
          6,
          17,
          10
         ],
         "yaxis": "y"
        },
        {
         "hovertemplate": "company_name=yiufi<br>variable=Positive<br>year=%{x}<br>value=%{y}<extra></extra>",
         "legendgroup": "yiufi",
         "line": {
          "color": "#FFA15A",
          "dash": "solid"
         },
         "marker": {
          "symbol": "circle"
         },
         "mode": "lines",
         "name": "yiufi",
         "showlegend": true,
         "type": "scattergl",
         "x": [
          2022,
          2023
         ],
         "xaxis": "x",
         "y": [
          0,
          0
         ],
         "yaxis": "y"
        },
        {
         "hovertemplate": "company_name=yiufi<br>variable=Negative<br>year=%{x}<br>value=%{y}<extra></extra>",
         "legendgroup": "yiufi",
         "line": {
          "color": "#FFA15A",
          "dash": "solid"
         },
         "marker": {
          "symbol": "circle"
         },
         "mode": "lines",
         "name": "yiufi",
         "showlegend": false,
         "type": "scattergl",
         "x": [
          2022,
          2023
         ],
         "xaxis": "x",
         "y": [
          0,
          0
         ],
         "yaxis": "y"
        },
        {
         "hovertemplate": "company_name=yiufi<br>variable=Neutral<br>year=%{x}<br>value=%{y}<extra></extra>",
         "legendgroup": "yiufi",
         "line": {
          "color": "#FFA15A",
          "dash": "solid"
         },
         "marker": {
          "symbol": "circle"
         },
         "mode": "lines",
         "name": "yiufi",
         "showlegend": false,
         "type": "scattergl",
         "x": [
          2022,
          2023
         ],
         "xaxis": "x",
         "y": [
          9,
          3
         ],
         "yaxis": "y"
        },
        {
         "hovertemplate": "company_name=ÎÎ¿ÏƒÎ·Î»ÎµÎ¯Î± Î¤ÏŽÏÎ±<br>variable=Positive<br>year=%{x}<br>value=%{y}<extra></extra>",
         "legendgroup": "ÎÎ¿ÏƒÎ·Î»ÎµÎ¯Î± Î¤ÏŽÏÎ±",
         "line": {
          "color": "#19d3f3",
          "dash": "solid"
         },
         "marker": {
          "symbol": "circle"
         },
         "mode": "lines",
         "name": "ÎÎ¿ÏƒÎ·Î»ÎµÎ¯Î± Î¤ÏŽÏÎ±",
         "showlegend": true,
         "type": "scattergl",
         "x": [
          2017,
          2018,
          2019,
          2020,
          2021,
          2022,
          2023
         ],
         "xaxis": "x",
         "y": [
          0,
          0,
          0,
          1,
          0,
          0,
          0
         ],
         "yaxis": "y"
        },
        {
         "hovertemplate": "company_name=ÎÎ¿ÏƒÎ·Î»ÎµÎ¯Î± Î¤ÏŽÏÎ±<br>variable=Negative<br>year=%{x}<br>value=%{y}<extra></extra>",
         "legendgroup": "ÎÎ¿ÏƒÎ·Î»ÎµÎ¯Î± Î¤ÏŽÏÎ±",
         "line": {
          "color": "#19d3f3",
          "dash": "solid"
         },
         "marker": {
          "symbol": "circle"
         },
         "mode": "lines",
         "name": "ÎÎ¿ÏƒÎ·Î»ÎµÎ¯Î± Î¤ÏŽÏÎ±",
         "showlegend": false,
         "type": "scattergl",
         "x": [
          2017,
          2018,
          2019,
          2020,
          2021,
          2022,
          2023
         ],
         "xaxis": "x",
         "y": [
          0,
          0,
          0,
          0,
          0,
          1,
          0
         ],
         "yaxis": "y"
        },
        {
         "hovertemplate": "company_name=ÎÎ¿ÏƒÎ·Î»ÎµÎ¯Î± Î¤ÏŽÏÎ±<br>variable=Neutral<br>year=%{x}<br>value=%{y}<extra></extra>",
         "legendgroup": "ÎÎ¿ÏƒÎ·Î»ÎµÎ¯Î± Î¤ÏŽÏÎ±",
         "line": {
          "color": "#19d3f3",
          "dash": "solid"
         },
         "marker": {
          "symbol": "circle"
         },
         "mode": "lines",
         "name": "ÎÎ¿ÏƒÎ·Î»ÎµÎ¯Î± Î¤ÏŽÏÎ±",
         "showlegend": false,
         "type": "scattergl",
         "x": [
          2017,
          2018,
          2019,
          2020,
          2021,
          2022,
          2023
         ],
         "xaxis": "x",
         "y": [
          3,
          2,
          14,
          26,
          8,
          82,
          27
         ],
         "yaxis": "y"
        },
        {
         "hovertemplate": "company_name=Î»-automata<br>variable=Positive<br>year=%{x}<br>value=%{y}<extra></extra>",
         "legendgroup": "Î»-automata",
         "line": {
          "color": "#FF6692",
          "dash": "solid"
         },
         "marker": {
          "symbol": "circle"
         },
         "mode": "lines",
         "name": "Î»-automata",
         "showlegend": true,
         "type": "scattergl",
         "x": [
          2022,
          2023
         ],
         "xaxis": "x",
         "y": [
          15,
          9
         ],
         "yaxis": "y"
        },
        {
         "hovertemplate": "company_name=Î»-automata<br>variable=Negative<br>year=%{x}<br>value=%{y}<extra></extra>",
         "legendgroup": "Î»-automata",
         "line": {
          "color": "#FF6692",
          "dash": "solid"
         },
         "marker": {
          "symbol": "circle"
         },
         "mode": "lines",
         "name": "Î»-automata",
         "showlegend": false,
         "type": "scattergl",
         "x": [
          2022,
          2023
         ],
         "xaxis": "x",
         "y": [
          3,
          0
         ],
         "yaxis": "y"
        },
        {
         "hovertemplate": "company_name=Î»-automata<br>variable=Neutral<br>year=%{x}<br>value=%{y}<extra></extra>",
         "legendgroup": "Î»-automata",
         "line": {
          "color": "#FF6692",
          "dash": "solid"
         },
         "marker": {
          "symbol": "circle"
         },
         "mode": "lines",
         "name": "Î»-automata",
         "showlegend": false,
         "type": "scattergl",
         "x": [
          2022,
          2023
         ],
         "xaxis": "x",
         "y": [
          4,
          5
         ],
         "yaxis": "y"
        }
       ],
       "layout": {
        "legend": {
         "title": {
          "text": "company_name"
         },
         "tracegroupgap": 0
        },
        "margin": {
         "t": 60
        },
        "template": {
         "data": {
          "bar": [
           {
            "error_x": {
             "color": "#2a3f5f"
            },
            "error_y": {
             "color": "#2a3f5f"
            },
            "marker": {
             "line": {
              "color": "#E5ECF6",
              "width": 0.5
             },
             "pattern": {
              "fillmode": "overlay",
              "size": 10,
              "solidity": 0.2
             }
            },
            "type": "bar"
           }
          ],
          "barpolar": [
           {
            "marker": {
             "line": {
              "color": "#E5ECF6",
              "width": 0.5
             },
             "pattern": {
              "fillmode": "overlay",
              "size": 10,
              "solidity": 0.2
             }
            },
            "type": "barpolar"
           }
          ],
          "carpet": [
           {
            "aaxis": {
             "endlinecolor": "#2a3f5f",
             "gridcolor": "white",
             "linecolor": "white",
             "minorgridcolor": "white",
             "startlinecolor": "#2a3f5f"
            },
            "baxis": {
             "endlinecolor": "#2a3f5f",
             "gridcolor": "white",
             "linecolor": "white",
             "minorgridcolor": "white",
             "startlinecolor": "#2a3f5f"
            },
            "type": "carpet"
           }
          ],
          "choropleth": [
           {
            "colorbar": {
             "outlinewidth": 0,
             "ticks": ""
            },
            "type": "choropleth"
           }
          ],
          "contour": [
           {
            "colorbar": {
             "outlinewidth": 0,
             "ticks": ""
            },
            "colorscale": [
             [
              0,
              "#0d0887"
             ],
             [
              0.1111111111111111,
              "#46039f"
             ],
             [
              0.2222222222222222,
              "#7201a8"
             ],
             [
              0.3333333333333333,
              "#9c179e"
             ],
             [
              0.4444444444444444,
              "#bd3786"
             ],
             [
              0.5555555555555556,
              "#d8576b"
             ],
             [
              0.6666666666666666,
              "#ed7953"
             ],
             [
              0.7777777777777778,
              "#fb9f3a"
             ],
             [
              0.8888888888888888,
              "#fdca26"
             ],
             [
              1,
              "#f0f921"
             ]
            ],
            "type": "contour"
           }
          ],
          "contourcarpet": [
           {
            "colorbar": {
             "outlinewidth": 0,
             "ticks": ""
            },
            "type": "contourcarpet"
           }
          ],
          "heatmap": [
           {
            "colorbar": {
             "outlinewidth": 0,
             "ticks": ""
            },
            "colorscale": [
             [
              0,
              "#0d0887"
             ],
             [
              0.1111111111111111,
              "#46039f"
             ],
             [
              0.2222222222222222,
              "#7201a8"
             ],
             [
              0.3333333333333333,
              "#9c179e"
             ],
             [
              0.4444444444444444,
              "#bd3786"
             ],
             [
              0.5555555555555556,
              "#d8576b"
             ],
             [
              0.6666666666666666,
              "#ed7953"
             ],
             [
              0.7777777777777778,
              "#fb9f3a"
             ],
             [
              0.8888888888888888,
              "#fdca26"
             ],
             [
              1,
              "#f0f921"
             ]
            ],
            "type": "heatmap"
           }
          ],
          "heatmapgl": [
           {
            "colorbar": {
             "outlinewidth": 0,
             "ticks": ""
            },
            "colorscale": [
             [
              0,
              "#0d0887"
             ],
             [
              0.1111111111111111,
              "#46039f"
             ],
             [
              0.2222222222222222,
              "#7201a8"
             ],
             [
              0.3333333333333333,
              "#9c179e"
             ],
             [
              0.4444444444444444,
              "#bd3786"
             ],
             [
              0.5555555555555556,
              "#d8576b"
             ],
             [
              0.6666666666666666,
              "#ed7953"
             ],
             [
              0.7777777777777778,
              "#fb9f3a"
             ],
             [
              0.8888888888888888,
              "#fdca26"
             ],
             [
              1,
              "#f0f921"
             ]
            ],
            "type": "heatmapgl"
           }
          ],
          "histogram": [
           {
            "marker": {
             "pattern": {
              "fillmode": "overlay",
              "size": 10,
              "solidity": 0.2
             }
            },
            "type": "histogram"
           }
          ],
          "histogram2d": [
           {
            "colorbar": {
             "outlinewidth": 0,
             "ticks": ""
            },
            "colorscale": [
             [
              0,
              "#0d0887"
             ],
             [
              0.1111111111111111,
              "#46039f"
             ],
             [
              0.2222222222222222,
              "#7201a8"
             ],
             [
              0.3333333333333333,
              "#9c179e"
             ],
             [
              0.4444444444444444,
              "#bd3786"
             ],
             [
              0.5555555555555556,
              "#d8576b"
             ],
             [
              0.6666666666666666,
              "#ed7953"
             ],
             [
              0.7777777777777778,
              "#fb9f3a"
             ],
             [
              0.8888888888888888,
              "#fdca26"
             ],
             [
              1,
              "#f0f921"
             ]
            ],
            "type": "histogram2d"
           }
          ],
          "histogram2dcontour": [
           {
            "colorbar": {
             "outlinewidth": 0,
             "ticks": ""
            },
            "colorscale": [
             [
              0,
              "#0d0887"
             ],
             [
              0.1111111111111111,
              "#46039f"
             ],
             [
              0.2222222222222222,
              "#7201a8"
             ],
             [
              0.3333333333333333,
              "#9c179e"
             ],
             [
              0.4444444444444444,
              "#bd3786"
             ],
             [
              0.5555555555555556,
              "#d8576b"
             ],
             [
              0.6666666666666666,
              "#ed7953"
             ],
             [
              0.7777777777777778,
              "#fb9f3a"
             ],
             [
              0.8888888888888888,
              "#fdca26"
             ],
             [
              1,
              "#f0f921"
             ]
            ],
            "type": "histogram2dcontour"
           }
          ],
          "mesh3d": [
           {
            "colorbar": {
             "outlinewidth": 0,
             "ticks": ""
            },
            "type": "mesh3d"
           }
          ],
          "parcoords": [
           {
            "line": {
             "colorbar": {
              "outlinewidth": 0,
              "ticks": ""
             }
            },
            "type": "parcoords"
           }
          ],
          "pie": [
           {
            "automargin": true,
            "type": "pie"
           }
          ],
          "scatter": [
           {
            "fillpattern": {
             "fillmode": "overlay",
             "size": 10,
             "solidity": 0.2
            },
            "type": "scatter"
           }
          ],
          "scatter3d": [
           {
            "line": {
             "colorbar": {
              "outlinewidth": 0,
              "ticks": ""
             }
            },
            "marker": {
             "colorbar": {
              "outlinewidth": 0,
              "ticks": ""
             }
            },
            "type": "scatter3d"
           }
          ],
          "scattercarpet": [
           {
            "marker": {
             "colorbar": {
              "outlinewidth": 0,
              "ticks": ""
             }
            },
            "type": "scattercarpet"
           }
          ],
          "scattergeo": [
           {
            "marker": {
             "colorbar": {
              "outlinewidth": 0,
              "ticks": ""
             }
            },
            "type": "scattergeo"
           }
          ],
          "scattergl": [
           {
            "marker": {
             "colorbar": {
              "outlinewidth": 0,
              "ticks": ""
             }
            },
            "type": "scattergl"
           }
          ],
          "scattermapbox": [
           {
            "marker": {
             "colorbar": {
              "outlinewidth": 0,
              "ticks": ""
             }
            },
            "type": "scattermapbox"
           }
          ],
          "scatterpolar": [
           {
            "marker": {
             "colorbar": {
              "outlinewidth": 0,
              "ticks": ""
             }
            },
            "type": "scatterpolar"
           }
          ],
          "scatterpolargl": [
           {
            "marker": {
             "colorbar": {
              "outlinewidth": 0,
              "ticks": ""
             }
            },
            "type": "scatterpolargl"
           }
          ],
          "scatterternary": [
           {
            "marker": {
             "colorbar": {
              "outlinewidth": 0,
              "ticks": ""
             }
            },
            "type": "scatterternary"
           }
          ],
          "surface": [
           {
            "colorbar": {
             "outlinewidth": 0,
             "ticks": ""
            },
            "colorscale": [
             [
              0,
              "#0d0887"
             ],
             [
              0.1111111111111111,
              "#46039f"
             ],
             [
              0.2222222222222222,
              "#7201a8"
             ],
             [
              0.3333333333333333,
              "#9c179e"
             ],
             [
              0.4444444444444444,
              "#bd3786"
             ],
             [
              0.5555555555555556,
              "#d8576b"
             ],
             [
              0.6666666666666666,
              "#ed7953"
             ],
             [
              0.7777777777777778,
              "#fb9f3a"
             ],
             [
              0.8888888888888888,
              "#fdca26"
             ],
             [
              1,
              "#f0f921"
             ]
            ],
            "type": "surface"
           }
          ],
          "table": [
           {
            "cells": {
             "fill": {
              "color": "#EBF0F8"
             },
             "line": {
              "color": "white"
             }
            },
            "header": {
             "fill": {
              "color": "#C8D4E3"
             },
             "line": {
              "color": "white"
             }
            },
            "type": "table"
           }
          ]
         },
         "layout": {
          "annotationdefaults": {
           "arrowcolor": "#2a3f5f",
           "arrowhead": 0,
           "arrowwidth": 1
          },
          "autotypenumbers": "strict",
          "coloraxis": {
           "colorbar": {
            "outlinewidth": 0,
            "ticks": ""
           }
          },
          "colorscale": {
           "diverging": [
            [
             0,
             "#8e0152"
            ],
            [
             0.1,
             "#c51b7d"
            ],
            [
             0.2,
             "#de77ae"
            ],
            [
             0.3,
             "#f1b6da"
            ],
            [
             0.4,
             "#fde0ef"
            ],
            [
             0.5,
             "#f7f7f7"
            ],
            [
             0.6,
             "#e6f5d0"
            ],
            [
             0.7,
             "#b8e186"
            ],
            [
             0.8,
             "#7fbc41"
            ],
            [
             0.9,
             "#4d9221"
            ],
            [
             1,
             "#276419"
            ]
           ],
           "sequential": [
            [
             0,
             "#0d0887"
            ],
            [
             0.1111111111111111,
             "#46039f"
            ],
            [
             0.2222222222222222,
             "#7201a8"
            ],
            [
             0.3333333333333333,
             "#9c179e"
            ],
            [
             0.4444444444444444,
             "#bd3786"
            ],
            [
             0.5555555555555556,
             "#d8576b"
            ],
            [
             0.6666666666666666,
             "#ed7953"
            ],
            [
             0.7777777777777778,
             "#fb9f3a"
            ],
            [
             0.8888888888888888,
             "#fdca26"
            ],
            [
             1,
             "#f0f921"
            ]
           ],
           "sequentialminus": [
            [
             0,
             "#0d0887"
            ],
            [
             0.1111111111111111,
             "#46039f"
            ],
            [
             0.2222222222222222,
             "#7201a8"
            ],
            [
             0.3333333333333333,
             "#9c179e"
            ],
            [
             0.4444444444444444,
             "#bd3786"
            ],
            [
             0.5555555555555556,
             "#d8576b"
            ],
            [
             0.6666666666666666,
             "#ed7953"
            ],
            [
             0.7777777777777778,
             "#fb9f3a"
            ],
            [
             0.8888888888888888,
             "#fdca26"
            ],
            [
             1,
             "#f0f921"
            ]
           ]
          },
          "colorway": [
           "#636efa",
           "#EF553B",
           "#00cc96",
           "#ab63fa",
           "#FFA15A",
           "#19d3f3",
           "#FF6692",
           "#B6E880",
           "#FF97FF",
           "#FECB52"
          ],
          "font": {
           "color": "#2a3f5f"
          },
          "geo": {
           "bgcolor": "white",
           "lakecolor": "white",
           "landcolor": "#E5ECF6",
           "showlakes": true,
           "showland": true,
           "subunitcolor": "white"
          },
          "hoverlabel": {
           "align": "left"
          },
          "hovermode": "closest",
          "mapbox": {
           "style": "light"
          },
          "paper_bgcolor": "white",
          "plot_bgcolor": "#E5ECF6",
          "polar": {
           "angularaxis": {
            "gridcolor": "white",
            "linecolor": "white",
            "ticks": ""
           },
           "bgcolor": "#E5ECF6",
           "radialaxis": {
            "gridcolor": "white",
            "linecolor": "white",
            "ticks": ""
           }
          },
          "scene": {
           "xaxis": {
            "backgroundcolor": "#E5ECF6",
            "gridcolor": "white",
            "gridwidth": 2,
            "linecolor": "white",
            "showbackground": true,
            "ticks": "",
            "zerolinecolor": "white"
           },
           "yaxis": {
            "backgroundcolor": "#E5ECF6",
            "gridcolor": "white",
            "gridwidth": 2,
            "linecolor": "white",
            "showbackground": true,
            "ticks": "",
            "zerolinecolor": "white"
           },
           "zaxis": {
            "backgroundcolor": "#E5ECF6",
            "gridcolor": "white",
            "gridwidth": 2,
            "linecolor": "white",
            "showbackground": true,
            "ticks": "",
            "zerolinecolor": "white"
           }
          },
          "shapedefaults": {
           "line": {
            "color": "#2a3f5f"
           }
          },
          "ternary": {
           "aaxis": {
            "gridcolor": "white",
            "linecolor": "white",
            "ticks": ""
           },
           "baxis": {
            "gridcolor": "white",
            "linecolor": "white",
            "ticks": ""
           },
           "bgcolor": "#E5ECF6",
           "caxis": {
            "gridcolor": "white",
            "linecolor": "white",
            "ticks": ""
           }
          },
          "title": {
           "x": 0.05
          },
          "xaxis": {
           "automargin": true,
           "gridcolor": "white",
           "linecolor": "white",
           "ticks": "",
           "title": {
            "standoff": 15
           },
           "zerolinecolor": "white",
           "zerolinewidth": 2
          },
          "yaxis": {
           "automargin": true,
           "gridcolor": "white",
           "linecolor": "white",
           "ticks": "",
           "title": {
            "standoff": 15
           },
           "zerolinecolor": "white",
           "zerolinewidth": 2
          }
         }
        },
        "title": {
         "text": "Sentiment Counts by Company and Year"
        },
        "xaxis": {
         "anchor": "y",
         "domain": [
          0,
          1
         ],
         "title": {
          "text": "Year"
         }
        },
        "yaxis": {
         "anchor": "x",
         "domain": [
          0,
          1
         ],
         "title": {
          "text": "Sentiment Count"
         }
        }
       }
      },
      "text/html": [
       "<div>                            <div id=\"66d26934-3d30-489b-bf37-3592210d0df5\" class=\"plotly-graph-div\" style=\"height:525px; width:100%;\"></div>            <script type=\"text/javascript\">                require([\"plotly\"], function(Plotly) {                    window.PLOTLYENV=window.PLOTLYENV || {};                                    if (document.getElementById(\"66d26934-3d30-489b-bf37-3592210d0df5\")) {                    Plotly.newPlot(                        \"66d26934-3d30-489b-bf37-3592210d0df5\",                        [{\"hovertemplate\":\"company_name=100mentors<br>variable=Positive<br>year=%{x}<br>value=%{y}<extra></extra>\",\"legendgroup\":\"100mentors\",\"line\":{\"color\":\"#636efa\",\"dash\":\"solid\"},\"marker\":{\"symbol\":\"circle\"},\"mode\":\"lines\",\"name\":\"100mentors\",\"showlegend\":true,\"x\":[2014,2015,2016,2017,2018,2019,2020,2021,2022,2023],\"xaxis\":\"x\",\"y\":[32,57,31,350,78,80,109,256,104,0],\"yaxis\":\"y\",\"type\":\"scattergl\"},{\"hovertemplate\":\"company_name=100mentors<br>variable=Negative<br>year=%{x}<br>value=%{y}<extra></extra>\",\"legendgroup\":\"100mentors\",\"line\":{\"color\":\"#636efa\",\"dash\":\"solid\"},\"marker\":{\"symbol\":\"circle\"},\"mode\":\"lines\",\"name\":\"100mentors\",\"showlegend\":false,\"x\":[2014,2015,2016,2017,2018,2019,2020,2021,2022,2023],\"xaxis\":\"x\",\"y\":[7,5,4,49,0,6,17,18,9,0],\"yaxis\":\"y\",\"type\":\"scattergl\"},{\"hovertemplate\":\"company_name=100mentors<br>variable=Neutral<br>year=%{x}<br>value=%{y}<extra></extra>\",\"legendgroup\":\"100mentors\",\"line\":{\"color\":\"#636efa\",\"dash\":\"solid\"},\"marker\":{\"symbol\":\"circle\"},\"mode\":\"lines\",\"name\":\"100mentors\",\"showlegend\":false,\"x\":[2014,2015,2016,2017,2018,2019,2020,2021,2022,2023],\"xaxis\":\"x\",\"y\":[23,111,37,374,80,25,53,76,29,3],\"yaxis\":\"y\",\"type\":\"scattergl\"},{\"hovertemplate\":\"company_name=AGENSO<br>variable=Positive<br>year=%{x}<br>value=%{y}<extra></extra>\",\"legendgroup\":\"AGENSO\",\"line\":{\"color\":\"#EF553B\",\"dash\":\"solid\"},\"marker\":{\"symbol\":\"circle\"},\"mode\":\"lines\",\"name\":\"AGENSO\",\"showlegend\":true,\"x\":[2018,2019,2020,2021,2022,2023],\"xaxis\":\"x\",\"y\":[34,32,20,8,16,2],\"yaxis\":\"y\",\"type\":\"scattergl\"},{\"hovertemplate\":\"company_name=AGENSO<br>variable=Negative<br>year=%{x}<br>value=%{y}<extra></extra>\",\"legendgroup\":\"AGENSO\",\"line\":{\"color\":\"#EF553B\",\"dash\":\"solid\"},\"marker\":{\"symbol\":\"circle\"},\"mode\":\"lines\",\"name\":\"AGENSO\",\"showlegend\":false,\"x\":[2018,2019,2020,2021,2022,2023],\"xaxis\":\"x\",\"y\":[4,6,0,2,0,0],\"yaxis\":\"y\",\"type\":\"scattergl\"},{\"hovertemplate\":\"company_name=AGENSO<br>variable=Neutral<br>year=%{x}<br>value=%{y}<extra></extra>\",\"legendgroup\":\"AGENSO\",\"line\":{\"color\":\"#EF553B\",\"dash\":\"solid\"},\"marker\":{\"symbol\":\"circle\"},\"mode\":\"lines\",\"name\":\"AGENSO\",\"showlegend\":false,\"x\":[2018,2019,2020,2021,2022,2023],\"xaxis\":\"x\",\"y\":[34,38,18,12,36,2],\"yaxis\":\"y\",\"type\":\"scattergl\"},{\"hovertemplate\":\"company_name=Acromove Inc.<br>variable=Positive<br>year=%{x}<br>value=%{y}<extra></extra>\",\"legendgroup\":\"Acromove Inc.\",\"line\":{\"color\":\"#00cc96\",\"dash\":\"solid\"},\"marker\":{\"symbol\":\"circle\"},\"mode\":\"lines\",\"name\":\"Acromove Inc.\",\"showlegend\":true,\"x\":[2017,2018,2019,2020,2021,2022,2023],\"xaxis\":\"x\",\"y\":[18,24,8,14,38,16,6],\"yaxis\":\"y\",\"type\":\"scattergl\"},{\"hovertemplate\":\"company_name=Acromove Inc.<br>variable=Negative<br>year=%{x}<br>value=%{y}<extra></extra>\",\"legendgroup\":\"Acromove Inc.\",\"line\":{\"color\":\"#00cc96\",\"dash\":\"solid\"},\"marker\":{\"symbol\":\"circle\"},\"mode\":\"lines\",\"name\":\"Acromove Inc.\",\"showlegend\":false,\"x\":[2017,2018,2019,2020,2021,2022,2023],\"xaxis\":\"x\",\"y\":[0,4,2,2,8,2,0],\"yaxis\":\"y\",\"type\":\"scattergl\"},{\"hovertemplate\":\"company_name=Acromove Inc.<br>variable=Neutral<br>year=%{x}<br>value=%{y}<extra></extra>\",\"legendgroup\":\"Acromove Inc.\",\"line\":{\"color\":\"#00cc96\",\"dash\":\"solid\"},\"marker\":{\"symbol\":\"circle\"},\"mode\":\"lines\",\"name\":\"Acromove Inc.\",\"showlegend\":false,\"x\":[2017,2018,2019,2020,2021,2022,2023],\"xaxis\":\"x\",\"y\":[36,18,8,4,16,18,2],\"yaxis\":\"y\",\"type\":\"scattergl\"},{\"hovertemplate\":\"company_name=Advantis.io<br>variable=Positive<br>year=%{x}<br>value=%{y}<extra></extra>\",\"legendgroup\":\"Advantis.io\",\"line\":{\"color\":\"#ab63fa\",\"dash\":\"solid\"},\"marker\":{\"symbol\":\"circle\"},\"mode\":\"lines\",\"name\":\"Advantis.io\",\"showlegend\":true,\"x\":[2017,2018,2019,2020,2021,2022,2023],\"xaxis\":\"x\",\"y\":[10,20,10,0,12,84,18],\"yaxis\":\"y\",\"type\":\"scattergl\"},{\"hovertemplate\":\"company_name=Advantis.io<br>variable=Negative<br>year=%{x}<br>value=%{y}<extra></extra>\",\"legendgroup\":\"Advantis.io\",\"line\":{\"color\":\"#ab63fa\",\"dash\":\"solid\"},\"marker\":{\"symbol\":\"circle\"},\"mode\":\"lines\",\"name\":\"Advantis.io\",\"showlegend\":false,\"x\":[2017,2018,2019,2020,2021,2022,2023],\"xaxis\":\"x\",\"y\":[0,0,0,0,6,16,2],\"yaxis\":\"y\",\"type\":\"scattergl\"},{\"hovertemplate\":\"company_name=Advantis.io<br>variable=Neutral<br>year=%{x}<br>value=%{y}<extra></extra>\",\"legendgroup\":\"Advantis.io\",\"line\":{\"color\":\"#ab63fa\",\"dash\":\"solid\"},\"marker\":{\"symbol\":\"circle\"},\"mode\":\"lines\",\"name\":\"Advantis.io\",\"showlegend\":false,\"x\":[2017,2018,2019,2020,2021,2022,2023],\"xaxis\":\"x\",\"y\":[10,12,10,2,4,34,8],\"yaxis\":\"y\",\"type\":\"scattergl\"},{\"hovertemplate\":\"company_name=Aether Aeronautics<br>variable=Positive<br>year=%{x}<br>value=%{y}<extra></extra>\",\"legendgroup\":\"Aether Aeronautics\",\"line\":{\"color\":\"#FFA15A\",\"dash\":\"solid\"},\"marker\":{\"symbol\":\"circle\"},\"mode\":\"lines\",\"name\":\"Aether Aeronautics\",\"showlegend\":true,\"x\":[2018,2019],\"xaxis\":\"x\",\"y\":[4,0],\"yaxis\":\"y\",\"type\":\"scattergl\"},{\"hovertemplate\":\"company_name=Aether Aeronautics<br>variable=Negative<br>year=%{x}<br>value=%{y}<extra></extra>\",\"legendgroup\":\"Aether Aeronautics\",\"line\":{\"color\":\"#FFA15A\",\"dash\":\"solid\"},\"marker\":{\"symbol\":\"circle\"},\"mode\":\"lines\",\"name\":\"Aether Aeronautics\",\"showlegend\":false,\"x\":[2018,2019],\"xaxis\":\"x\",\"y\":[4,0],\"yaxis\":\"y\",\"type\":\"scattergl\"},{\"hovertemplate\":\"company_name=Aether Aeronautics<br>variable=Neutral<br>year=%{x}<br>value=%{y}<extra></extra>\",\"legendgroup\":\"Aether Aeronautics\",\"line\":{\"color\":\"#FFA15A\",\"dash\":\"solid\"},\"marker\":{\"symbol\":\"circle\"},\"mode\":\"lines\",\"name\":\"Aether Aeronautics\",\"showlegend\":false,\"x\":[2018,2019],\"xaxis\":\"x\",\"y\":[14,2],\"yaxis\":\"y\",\"type\":\"scattergl\"},{\"hovertemplate\":\"company_name=Agritrack SA<br>variable=Positive<br>year=%{x}<br>value=%{y}<extra></extra>\",\"legendgroup\":\"Agritrack SA\",\"line\":{\"color\":\"#19d3f3\",\"dash\":\"solid\"},\"marker\":{\"symbol\":\"circle\"},\"mode\":\"lines\",\"name\":\"Agritrack SA\",\"showlegend\":true,\"x\":[2023],\"xaxis\":\"x\",\"y\":[2],\"yaxis\":\"y\",\"type\":\"scattergl\"},{\"hovertemplate\":\"company_name=Agritrack SA<br>variable=Negative<br>year=%{x}<br>value=%{y}<extra></extra>\",\"legendgroup\":\"Agritrack SA\",\"line\":{\"color\":\"#19d3f3\",\"dash\":\"solid\"},\"marker\":{\"symbol\":\"circle\"},\"mode\":\"lines\",\"name\":\"Agritrack SA\",\"showlegend\":false,\"x\":[2023],\"xaxis\":\"x\",\"y\":[0],\"yaxis\":\"y\",\"type\":\"scattergl\"},{\"hovertemplate\":\"company_name=Agritrack SA<br>variable=Neutral<br>year=%{x}<br>value=%{y}<extra></extra>\",\"legendgroup\":\"Agritrack SA\",\"line\":{\"color\":\"#19d3f3\",\"dash\":\"solid\"},\"marker\":{\"symbol\":\"circle\"},\"mode\":\"lines\",\"name\":\"Agritrack SA\",\"showlegend\":false,\"x\":[2023],\"xaxis\":\"x\",\"y\":[0],\"yaxis\":\"y\",\"type\":\"scattergl\"},{\"hovertemplate\":\"company_name=AgroApps<br>variable=Positive<br>year=%{x}<br>value=%{y}<extra></extra>\",\"legendgroup\":\"AgroApps\",\"line\":{\"color\":\"#FF6692\",\"dash\":\"solid\"},\"marker\":{\"symbol\":\"circle\"},\"mode\":\"lines\",\"name\":\"AgroApps\",\"showlegend\":true,\"x\":[2017,2018,2019,2020,2021],\"xaxis\":\"x\",\"y\":[32,6,44,28,8],\"yaxis\":\"y\",\"type\":\"scattergl\"},{\"hovertemplate\":\"company_name=AgroApps<br>variable=Negative<br>year=%{x}<br>value=%{y}<extra></extra>\",\"legendgroup\":\"AgroApps\",\"line\":{\"color\":\"#FF6692\",\"dash\":\"solid\"},\"marker\":{\"symbol\":\"circle\"},\"mode\":\"lines\",\"name\":\"AgroApps\",\"showlegend\":false,\"x\":[2017,2018,2019,2020,2021],\"xaxis\":\"x\",\"y\":[4,2,2,0,0],\"yaxis\":\"y\",\"type\":\"scattergl\"},{\"hovertemplate\":\"company_name=AgroApps<br>variable=Neutral<br>year=%{x}<br>value=%{y}<extra></extra>\",\"legendgroup\":\"AgroApps\",\"line\":{\"color\":\"#FF6692\",\"dash\":\"solid\"},\"marker\":{\"symbol\":\"circle\"},\"mode\":\"lines\",\"name\":\"AgroApps\",\"showlegend\":false,\"x\":[2017,2018,2019,2020,2021],\"xaxis\":\"x\",\"y\":[40,10,20,10,4],\"yaxis\":\"y\",\"type\":\"scattergl\"},{\"hovertemplate\":\"company_name=Agroknow<br>variable=Positive<br>year=%{x}<br>value=%{y}<extra></extra>\",\"legendgroup\":\"Agroknow\",\"line\":{\"color\":\"#B6E880\",\"dash\":\"solid\"},\"marker\":{\"symbol\":\"circle\"},\"mode\":\"lines\",\"name\":\"Agroknow\",\"showlegend\":true,\"x\":[2017,2018,2019,2020,2021],\"xaxis\":\"x\",\"y\":[22,98,84,68,16],\"yaxis\":\"y\",\"type\":\"scattergl\"},{\"hovertemplate\":\"company_name=Agroknow<br>variable=Negative<br>year=%{x}<br>value=%{y}<extra></extra>\",\"legendgroup\":\"Agroknow\",\"line\":{\"color\":\"#B6E880\",\"dash\":\"solid\"},\"marker\":{\"symbol\":\"circle\"},\"mode\":\"lines\",\"name\":\"Agroknow\",\"showlegend\":false,\"x\":[2017,2018,2019,2020,2021],\"xaxis\":\"x\",\"y\":[4,4,12,8,2],\"yaxis\":\"y\",\"type\":\"scattergl\"},{\"hovertemplate\":\"company_name=Agroknow<br>variable=Neutral<br>year=%{x}<br>value=%{y}<extra></extra>\",\"legendgroup\":\"Agroknow\",\"line\":{\"color\":\"#B6E880\",\"dash\":\"solid\"},\"marker\":{\"symbol\":\"circle\"},\"mode\":\"lines\",\"name\":\"Agroknow\",\"showlegend\":false,\"x\":[2017,2018,2019,2020,2021],\"xaxis\":\"x\",\"y\":[36,104,58,40,8],\"yaxis\":\"y\",\"type\":\"scattergl\"},{\"hovertemplate\":\"company_name=Airstay.Gr<br>variable=Positive<br>year=%{x}<br>value=%{y}<extra></extra>\",\"legendgroup\":\"Airstay.Gr\",\"line\":{\"color\":\"#FF97FF\",\"dash\":\"solid\"},\"marker\":{\"symbol\":\"circle\"},\"mode\":\"lines\",\"name\":\"Airstay.Gr\",\"showlegend\":true,\"x\":[2021,2022],\"xaxis\":\"x\",\"y\":[4,8],\"yaxis\":\"y\",\"type\":\"scattergl\"},{\"hovertemplate\":\"company_name=Airstay.Gr<br>variable=Negative<br>year=%{x}<br>value=%{y}<extra></extra>\",\"legendgroup\":\"Airstay.Gr\",\"line\":{\"color\":\"#FF97FF\",\"dash\":\"solid\"},\"marker\":{\"symbol\":\"circle\"},\"mode\":\"lines\",\"name\":\"Airstay.Gr\",\"showlegend\":false,\"x\":[2021,2022],\"xaxis\":\"x\",\"y\":[2,0],\"yaxis\":\"y\",\"type\":\"scattergl\"},{\"hovertemplate\":\"company_name=Airstay.Gr<br>variable=Neutral<br>year=%{x}<br>value=%{y}<extra></extra>\",\"legendgroup\":\"Airstay.Gr\",\"line\":{\"color\":\"#FF97FF\",\"dash\":\"solid\"},\"marker\":{\"symbol\":\"circle\"},\"mode\":\"lines\",\"name\":\"Airstay.Gr\",\"showlegend\":false,\"x\":[2021,2022],\"xaxis\":\"x\",\"y\":[18,2],\"yaxis\":\"y\",\"type\":\"scattergl\"},{\"hovertemplate\":\"company_name=Aisthesis Medical<br>variable=Positive<br>year=%{x}<br>value=%{y}<extra></extra>\",\"legendgroup\":\"Aisthesis Medical\",\"line\":{\"color\":\"#FECB52\",\"dash\":\"solid\"},\"marker\":{\"symbol\":\"circle\"},\"mode\":\"lines\",\"name\":\"Aisthesis Medical\",\"showlegend\":true,\"x\":[2022],\"xaxis\":\"x\",\"y\":[2],\"yaxis\":\"y\",\"type\":\"scattergl\"},{\"hovertemplate\":\"company_name=Aisthesis Medical<br>variable=Negative<br>year=%{x}<br>value=%{y}<extra></extra>\",\"legendgroup\":\"Aisthesis Medical\",\"line\":{\"color\":\"#FECB52\",\"dash\":\"solid\"},\"marker\":{\"symbol\":\"circle\"},\"mode\":\"lines\",\"name\":\"Aisthesis Medical\",\"showlegend\":false,\"x\":[2022],\"xaxis\":\"x\",\"y\":[0],\"yaxis\":\"y\",\"type\":\"scattergl\"},{\"hovertemplate\":\"company_name=Aisthesis Medical<br>variable=Neutral<br>year=%{x}<br>value=%{y}<extra></extra>\",\"legendgroup\":\"Aisthesis Medical\",\"line\":{\"color\":\"#FECB52\",\"dash\":\"solid\"},\"marker\":{\"symbol\":\"circle\"},\"mode\":\"lines\",\"name\":\"Aisthesis Medical\",\"showlegend\":false,\"x\":[2022],\"xaxis\":\"x\",\"y\":[0],\"yaxis\":\"y\",\"type\":\"scattergl\"},{\"hovertemplate\":\"company_name=Al'ameen S Wadata<br>variable=Positive<br>year=%{x}<br>value=%{y}<extra></extra>\",\"legendgroup\":\"Al'ameen S Wadata\",\"line\":{\"color\":\"#636efa\",\"dash\":\"solid\"},\"marker\":{\"symbol\":\"circle\"},\"mode\":\"lines\",\"name\":\"Al'ameen S Wadata\",\"showlegend\":true,\"x\":[2021],\"xaxis\":\"x\",\"y\":[0],\"yaxis\":\"y\",\"type\":\"scattergl\"},{\"hovertemplate\":\"company_name=Al'ameen S Wadata<br>variable=Negative<br>year=%{x}<br>value=%{y}<extra></extra>\",\"legendgroup\":\"Al'ameen S Wadata\",\"line\":{\"color\":\"#636efa\",\"dash\":\"solid\"},\"marker\":{\"symbol\":\"circle\"},\"mode\":\"lines\",\"name\":\"Al'ameen S Wadata\",\"showlegend\":false,\"x\":[2021],\"xaxis\":\"x\",\"y\":[1],\"yaxis\":\"y\",\"type\":\"scattergl\"},{\"hovertemplate\":\"company_name=Al'ameen S Wadata<br>variable=Neutral<br>year=%{x}<br>value=%{y}<extra></extra>\",\"legendgroup\":\"Al'ameen S Wadata\",\"line\":{\"color\":\"#636efa\",\"dash\":\"solid\"},\"marker\":{\"symbol\":\"circle\"},\"mode\":\"lines\",\"name\":\"Al'ameen S Wadata\",\"showlegend\":false,\"x\":[2021],\"xaxis\":\"x\",\"y\":[7],\"yaxis\":\"y\",\"type\":\"scattergl\"},{\"hovertemplate\":\"company_name=Allcancode<br>variable=Positive<br>year=%{x}<br>value=%{y}<extra></extra>\",\"legendgroup\":\"Allcancode\",\"line\":{\"color\":\"#EF553B\",\"dash\":\"solid\"},\"marker\":{\"symbol\":\"circle\"},\"mode\":\"lines\",\"name\":\"Allcancode\",\"showlegend\":true,\"x\":[2017,2018,2019,2021],\"xaxis\":\"x\",\"y\":[10,16,4,10],\"yaxis\":\"y\",\"type\":\"scattergl\"},{\"hovertemplate\":\"company_name=Allcancode<br>variable=Negative<br>year=%{x}<br>value=%{y}<extra></extra>\",\"legendgroup\":\"Allcancode\",\"line\":{\"color\":\"#EF553B\",\"dash\":\"solid\"},\"marker\":{\"symbol\":\"circle\"},\"mode\":\"lines\",\"name\":\"Allcancode\",\"showlegend\":false,\"x\":[2017,2018,2019,2021],\"xaxis\":\"x\",\"y\":[4,2,0,0],\"yaxis\":\"y\",\"type\":\"scattergl\"},{\"hovertemplate\":\"company_name=Allcancode<br>variable=Neutral<br>year=%{x}<br>value=%{y}<extra></extra>\",\"legendgroup\":\"Allcancode\",\"line\":{\"color\":\"#EF553B\",\"dash\":\"solid\"},\"marker\":{\"symbol\":\"circle\"},\"mode\":\"lines\",\"name\":\"Allcancode\",\"showlegend\":false,\"x\":[2017,2018,2019,2021],\"xaxis\":\"x\",\"y\":[8,2,0,8],\"yaxis\":\"y\",\"type\":\"scattergl\"},{\"hovertemplate\":\"company_name=Altosight<br>variable=Positive<br>year=%{x}<br>value=%{y}<extra></extra>\",\"legendgroup\":\"Altosight\",\"line\":{\"color\":\"#00cc96\",\"dash\":\"solid\"},\"marker\":{\"symbol\":\"circle\"},\"mode\":\"lines\",\"name\":\"Altosight\",\"showlegend\":true,\"x\":[2018,2021],\"xaxis\":\"x\",\"y\":[8,6],\"yaxis\":\"y\",\"type\":\"scattergl\"},{\"hovertemplate\":\"company_name=Altosight<br>variable=Negative<br>year=%{x}<br>value=%{y}<extra></extra>\",\"legendgroup\":\"Altosight\",\"line\":{\"color\":\"#00cc96\",\"dash\":\"solid\"},\"marker\":{\"symbol\":\"circle\"},\"mode\":\"lines\",\"name\":\"Altosight\",\"showlegend\":false,\"x\":[2018,2021],\"xaxis\":\"x\",\"y\":[0,0],\"yaxis\":\"y\",\"type\":\"scattergl\"},{\"hovertemplate\":\"company_name=Altosight<br>variable=Neutral<br>year=%{x}<br>value=%{y}<extra></extra>\",\"legendgroup\":\"Altosight\",\"line\":{\"color\":\"#00cc96\",\"dash\":\"solid\"},\"marker\":{\"symbol\":\"circle\"},\"mode\":\"lines\",\"name\":\"Altosight\",\"showlegend\":false,\"x\":[2018,2021],\"xaxis\":\"x\",\"y\":[4,4],\"yaxis\":\"y\",\"type\":\"scattergl\"},{\"hovertemplate\":\"company_name=AlumniReach<br>variable=Positive<br>year=%{x}<br>value=%{y}<extra></extra>\",\"legendgroup\":\"AlumniReach\",\"line\":{\"color\":\"#ab63fa\",\"dash\":\"solid\"},\"marker\":{\"symbol\":\"circle\"},\"mode\":\"lines\",\"name\":\"AlumniReach\",\"showlegend\":true,\"x\":[2021,2022,2023],\"xaxis\":\"x\",\"y\":[38,92,52],\"yaxis\":\"y\",\"type\":\"scattergl\"},{\"hovertemplate\":\"company_name=AlumniReach<br>variable=Negative<br>year=%{x}<br>value=%{y}<extra></extra>\",\"legendgroup\":\"AlumniReach\",\"line\":{\"color\":\"#ab63fa\",\"dash\":\"solid\"},\"marker\":{\"symbol\":\"circle\"},\"mode\":\"lines\",\"name\":\"AlumniReach\",\"showlegend\":false,\"x\":[2021,2022,2023],\"xaxis\":\"x\",\"y\":[10,10,0],\"yaxis\":\"y\",\"type\":\"scattergl\"},{\"hovertemplate\":\"company_name=AlumniReach<br>variable=Neutral<br>year=%{x}<br>value=%{y}<extra></extra>\",\"legendgroup\":\"AlumniReach\",\"line\":{\"color\":\"#ab63fa\",\"dash\":\"solid\"},\"marker\":{\"symbol\":\"circle\"},\"mode\":\"lines\",\"name\":\"AlumniReach\",\"showlegend\":false,\"x\":[2021,2022,2023],\"xaxis\":\"x\",\"y\":[24,32,30],\"yaxis\":\"y\",\"type\":\"scattergl\"},{\"hovertemplate\":\"company_name=Asklepieia Health Cluster<br>variable=Positive<br>year=%{x}<br>value=%{y}<extra></extra>\",\"legendgroup\":\"Asklepieia Health Cluster\",\"line\":{\"color\":\"#FFA15A\",\"dash\":\"solid\"},\"marker\":{\"symbol\":\"circle\"},\"mode\":\"lines\",\"name\":\"Asklepieia Health Cluster\",\"showlegend\":true,\"x\":[2017,2018,2019,2020,2021,2022,2023],\"xaxis\":\"x\",\"y\":[4,0,2,4,2,136,66],\"yaxis\":\"y\",\"type\":\"scattergl\"},{\"hovertemplate\":\"company_name=Asklepieia Health Cluster<br>variable=Negative<br>year=%{x}<br>value=%{y}<extra></extra>\",\"legendgroup\":\"Asklepieia Health Cluster\",\"line\":{\"color\":\"#FFA15A\",\"dash\":\"solid\"},\"marker\":{\"symbol\":\"circle\"},\"mode\":\"lines\",\"name\":\"Asklepieia Health Cluster\",\"showlegend\":false,\"x\":[2017,2018,2019,2020,2021,2022,2023],\"xaxis\":\"x\",\"y\":[0,2,2,0,0,14,2],\"yaxis\":\"y\",\"type\":\"scattergl\"},{\"hovertemplate\":\"company_name=Asklepieia Health Cluster<br>variable=Neutral<br>year=%{x}<br>value=%{y}<extra></extra>\",\"legendgroup\":\"Asklepieia Health Cluster\",\"line\":{\"color\":\"#FFA15A\",\"dash\":\"solid\"},\"marker\":{\"symbol\":\"circle\"},\"mode\":\"lines\",\"name\":\"Asklepieia Health Cluster\",\"showlegend\":false,\"x\":[2017,2018,2019,2020,2021,2022,2023],\"xaxis\":\"x\",\"y\":[40,42,22,282,52,78,8],\"yaxis\":\"y\",\"type\":\"scattergl\"},{\"hovertemplate\":\"company_name=Athens Insiders<br>variable=Positive<br>year=%{x}<br>value=%{y}<extra></extra>\",\"legendgroup\":\"Athens Insiders\",\"line\":{\"color\":\"#19d3f3\",\"dash\":\"solid\"},\"marker\":{\"symbol\":\"circle\"},\"mode\":\"lines\",\"name\":\"Athens Insiders\",\"showlegend\":true,\"x\":[2017,2018,2020,2021,2022],\"xaxis\":\"x\",\"y\":[7,14,5,28,3],\"yaxis\":\"y\",\"type\":\"scattergl\"},{\"hovertemplate\":\"company_name=Athens Insiders<br>variable=Negative<br>year=%{x}<br>value=%{y}<extra></extra>\",\"legendgroup\":\"Athens Insiders\",\"line\":{\"color\":\"#19d3f3\",\"dash\":\"solid\"},\"marker\":{\"symbol\":\"circle\"},\"mode\":\"lines\",\"name\":\"Athens Insiders\",\"showlegend\":false,\"x\":[2017,2018,2020,2021,2022],\"xaxis\":\"x\",\"y\":[2,1,1,0,0],\"yaxis\":\"y\",\"type\":\"scattergl\"},{\"hovertemplate\":\"company_name=Athens Insiders<br>variable=Neutral<br>year=%{x}<br>value=%{y}<extra></extra>\",\"legendgroup\":\"Athens Insiders\",\"line\":{\"color\":\"#19d3f3\",\"dash\":\"solid\"},\"marker\":{\"symbol\":\"circle\"},\"mode\":\"lines\",\"name\":\"Athens Insiders\",\"showlegend\":false,\"x\":[2017,2018,2020,2021,2022],\"xaxis\":\"x\",\"y\":[4,3,5,0,1],\"yaxis\":\"y\",\"type\":\"scattergl\"},{\"hovertemplate\":\"company_name=AthroaVentures<br>variable=Positive<br>year=%{x}<br>value=%{y}<extra></extra>\",\"legendgroup\":\"AthroaVentures\",\"line\":{\"color\":\"#FF6692\",\"dash\":\"solid\"},\"marker\":{\"symbol\":\"circle\"},\"mode\":\"lines\",\"name\":\"AthroaVentures\",\"showlegend\":true,\"x\":[2022,2023],\"xaxis\":\"x\",\"y\":[22,2],\"yaxis\":\"y\",\"type\":\"scattergl\"},{\"hovertemplate\":\"company_name=AthroaVentures<br>variable=Negative<br>year=%{x}<br>value=%{y}<extra></extra>\",\"legendgroup\":\"AthroaVentures\",\"line\":{\"color\":\"#FF6692\",\"dash\":\"solid\"},\"marker\":{\"symbol\":\"circle\"},\"mode\":\"lines\",\"name\":\"AthroaVentures\",\"showlegend\":false,\"x\":[2022,2023],\"xaxis\":\"x\",\"y\":[2,0],\"yaxis\":\"y\",\"type\":\"scattergl\"},{\"hovertemplate\":\"company_name=AthroaVentures<br>variable=Neutral<br>year=%{x}<br>value=%{y}<extra></extra>\",\"legendgroup\":\"AthroaVentures\",\"line\":{\"color\":\"#FF6692\",\"dash\":\"solid\"},\"marker\":{\"symbol\":\"circle\"},\"mode\":\"lines\",\"name\":\"AthroaVentures\",\"showlegend\":false,\"x\":[2022,2023],\"xaxis\":\"x\",\"y\":[24,0],\"yaxis\":\"y\",\"type\":\"scattergl\"},{\"hovertemplate\":\"company_name=B2B Wave<br>variable=Positive<br>year=%{x}<br>value=%{y}<extra></extra>\",\"legendgroup\":\"B2B Wave\",\"line\":{\"color\":\"#B6E880\",\"dash\":\"solid\"},\"marker\":{\"symbol\":\"circle\"},\"mode\":\"lines\",\"name\":\"B2B Wave\",\"showlegend\":true,\"x\":[2017,2018,2019,2020,2021,2022,2023],\"xaxis\":\"x\",\"y\":[82,70,50,362,158,56,52],\"yaxis\":\"y\",\"type\":\"scattergl\"},{\"hovertemplate\":\"company_name=B2B Wave<br>variable=Negative<br>year=%{x}<br>value=%{y}<extra></extra>\",\"legendgroup\":\"B2B Wave\",\"line\":{\"color\":\"#B6E880\",\"dash\":\"solid\"},\"marker\":{\"symbol\":\"circle\"},\"mode\":\"lines\",\"name\":\"B2B Wave\",\"showlegend\":false,\"x\":[2017,2018,2019,2020,2021,2022,2023],\"xaxis\":\"x\",\"y\":[14,6,0,40,16,4,2],\"yaxis\":\"y\",\"type\":\"scattergl\"},{\"hovertemplate\":\"company_name=B2B Wave<br>variable=Neutral<br>year=%{x}<br>value=%{y}<extra></extra>\",\"legendgroup\":\"B2B Wave\",\"line\":{\"color\":\"#B6E880\",\"dash\":\"solid\"},\"marker\":{\"symbol\":\"circle\"},\"mode\":\"lines\",\"name\":\"B2B Wave\",\"showlegend\":false,\"x\":[2017,2018,2019,2020,2021,2022,2023],\"xaxis\":\"x\",\"y\":[54,46,22,98,64,16,4],\"yaxis\":\"y\",\"type\":\"scattergl\"},{\"hovertemplate\":\"company_name=BD INVENTIONS P.C<br>variable=Positive<br>year=%{x}<br>value=%{y}<extra></extra>\",\"legendgroup\":\"BD INVENTIONS P.C\",\"line\":{\"color\":\"#FF97FF\",\"dash\":\"solid\"},\"marker\":{\"symbol\":\"circle\"},\"mode\":\"lines\",\"name\":\"BD INVENTIONS P.C\",\"showlegend\":true,\"x\":[2022],\"xaxis\":\"x\",\"y\":[8],\"yaxis\":\"y\",\"type\":\"scattergl\"},{\"hovertemplate\":\"company_name=BD INVENTIONS P.C<br>variable=Negative<br>year=%{x}<br>value=%{y}<extra></extra>\",\"legendgroup\":\"BD INVENTIONS P.C\",\"line\":{\"color\":\"#FF97FF\",\"dash\":\"solid\"},\"marker\":{\"symbol\":\"circle\"},\"mode\":\"lines\",\"name\":\"BD INVENTIONS P.C\",\"showlegend\":false,\"x\":[2022],\"xaxis\":\"x\",\"y\":[6],\"yaxis\":\"y\",\"type\":\"scattergl\"},{\"hovertemplate\":\"company_name=BD INVENTIONS P.C<br>variable=Neutral<br>year=%{x}<br>value=%{y}<extra></extra>\",\"legendgroup\":\"BD INVENTIONS P.C\",\"line\":{\"color\":\"#FF97FF\",\"dash\":\"solid\"},\"marker\":{\"symbol\":\"circle\"},\"mode\":\"lines\",\"name\":\"BD INVENTIONS P.C\",\"showlegend\":false,\"x\":[2022],\"xaxis\":\"x\",\"y\":[6],\"yaxis\":\"y\",\"type\":\"scattergl\"},{\"hovertemplate\":\"company_name=Baggagement<br>variable=Positive<br>year=%{x}<br>value=%{y}<extra></extra>\",\"legendgroup\":\"Baggagement\",\"line\":{\"color\":\"#FECB52\",\"dash\":\"solid\"},\"marker\":{\"symbol\":\"circle\"},\"mode\":\"lines\",\"name\":\"Baggagement\",\"showlegend\":true,\"x\":[2017],\"xaxis\":\"x\",\"y\":[16],\"yaxis\":\"y\",\"type\":\"scattergl\"},{\"hovertemplate\":\"company_name=Baggagement<br>variable=Negative<br>year=%{x}<br>value=%{y}<extra></extra>\",\"legendgroup\":\"Baggagement\",\"line\":{\"color\":\"#FECB52\",\"dash\":\"solid\"},\"marker\":{\"symbol\":\"circle\"},\"mode\":\"lines\",\"name\":\"Baggagement\",\"showlegend\":false,\"x\":[2017],\"xaxis\":\"x\",\"y\":[0],\"yaxis\":\"y\",\"type\":\"scattergl\"},{\"hovertemplate\":\"company_name=Baggagement<br>variable=Neutral<br>year=%{x}<br>value=%{y}<extra></extra>\",\"legendgroup\":\"Baggagement\",\"line\":{\"color\":\"#FECB52\",\"dash\":\"solid\"},\"marker\":{\"symbol\":\"circle\"},\"mode\":\"lines\",\"name\":\"Baggagement\",\"showlegend\":false,\"x\":[2017],\"xaxis\":\"x\",\"y\":[8],\"yaxis\":\"y\",\"type\":\"scattergl\"},{\"hovertemplate\":\"company_name=Be a Greek<br>variable=Positive<br>year=%{x}<br>value=%{y}<extra></extra>\",\"legendgroup\":\"Be a Greek\",\"line\":{\"color\":\"#636efa\",\"dash\":\"solid\"},\"marker\":{\"symbol\":\"circle\"},\"mode\":\"lines\",\"name\":\"Be a Greek\",\"showlegend\":true,\"x\":[2017,2018,2019,2022],\"xaxis\":\"x\",\"y\":[146,52,8,50],\"yaxis\":\"y\",\"type\":\"scattergl\"},{\"hovertemplate\":\"company_name=Be a Greek<br>variable=Negative<br>year=%{x}<br>value=%{y}<extra></extra>\",\"legendgroup\":\"Be a Greek\",\"line\":{\"color\":\"#636efa\",\"dash\":\"solid\"},\"marker\":{\"symbol\":\"circle\"},\"mode\":\"lines\",\"name\":\"Be a Greek\",\"showlegend\":false,\"x\":[2017,2018,2019,2022],\"xaxis\":\"x\",\"y\":[14,6,2,14],\"yaxis\":\"y\",\"type\":\"scattergl\"},{\"hovertemplate\":\"company_name=Be a Greek<br>variable=Neutral<br>year=%{x}<br>value=%{y}<extra></extra>\",\"legendgroup\":\"Be a Greek\",\"line\":{\"color\":\"#636efa\",\"dash\":\"solid\"},\"marker\":{\"symbol\":\"circle\"},\"mode\":\"lines\",\"name\":\"Be a Greek\",\"showlegend\":false,\"x\":[2017,2018,2019,2022],\"xaxis\":\"x\",\"y\":[108,26,20,16],\"yaxis\":\"y\",\"type\":\"scattergl\"},{\"hovertemplate\":\"company_name=Billy's Donuts<br>variable=Positive<br>year=%{x}<br>value=%{y}<extra></extra>\",\"legendgroup\":\"Billy's Donuts\",\"line\":{\"color\":\"#EF553B\",\"dash\":\"solid\"},\"marker\":{\"symbol\":\"circle\"},\"mode\":\"lines\",\"name\":\"Billy's Donuts\",\"showlegend\":true,\"x\":[2017,2018,2019,2020,2021,2022,2023],\"xaxis\":\"x\",\"y\":[86,88,158,44,18,6,4],\"yaxis\":\"y\",\"type\":\"scattergl\"},{\"hovertemplate\":\"company_name=Billy's Donuts<br>variable=Negative<br>year=%{x}<br>value=%{y}<extra></extra>\",\"legendgroup\":\"Billy's Donuts\",\"line\":{\"color\":\"#EF553B\",\"dash\":\"solid\"},\"marker\":{\"symbol\":\"circle\"},\"mode\":\"lines\",\"name\":\"Billy's Donuts\",\"showlegend\":false,\"x\":[2017,2018,2019,2020,2021,2022,2023],\"xaxis\":\"x\",\"y\":[28,50,52,4,2,2,0],\"yaxis\":\"y\",\"type\":\"scattergl\"},{\"hovertemplate\":\"company_name=Billy's Donuts<br>variable=Neutral<br>year=%{x}<br>value=%{y}<extra></extra>\",\"legendgroup\":\"Billy's Donuts\",\"line\":{\"color\":\"#EF553B\",\"dash\":\"solid\"},\"marker\":{\"symbol\":\"circle\"},\"mode\":\"lines\",\"name\":\"Billy's Donuts\",\"showlegend\":false,\"x\":[2017,2018,2019,2020,2021,2022,2023],\"xaxis\":\"x\",\"y\":[174,232,266,44,36,8,2],\"yaxis\":\"y\",\"type\":\"scattergl\"},{\"hovertemplate\":\"company_name=BioAssist<br>variable=Positive<br>year=%{x}<br>value=%{y}<extra></extra>\",\"legendgroup\":\"BioAssist\",\"line\":{\"color\":\"#00cc96\",\"dash\":\"solid\"},\"marker\":{\"symbol\":\"circle\"},\"mode\":\"lines\",\"name\":\"BioAssist\",\"showlegend\":true,\"x\":[2017,2018,2019,2021,2022],\"xaxis\":\"x\",\"y\":[2,2,4,4,8],\"yaxis\":\"y\",\"type\":\"scattergl\"},{\"hovertemplate\":\"company_name=BioAssist<br>variable=Negative<br>year=%{x}<br>value=%{y}<extra></extra>\",\"legendgroup\":\"BioAssist\",\"line\":{\"color\":\"#00cc96\",\"dash\":\"solid\"},\"marker\":{\"symbol\":\"circle\"},\"mode\":\"lines\",\"name\":\"BioAssist\",\"showlegend\":false,\"x\":[2017,2018,2019,2021,2022],\"xaxis\":\"x\",\"y\":[0,0,0,0,0],\"yaxis\":\"y\",\"type\":\"scattergl\"},{\"hovertemplate\":\"company_name=BioAssist<br>variable=Neutral<br>year=%{x}<br>value=%{y}<extra></extra>\",\"legendgroup\":\"BioAssist\",\"line\":{\"color\":\"#00cc96\",\"dash\":\"solid\"},\"marker\":{\"symbol\":\"circle\"},\"mode\":\"lines\",\"name\":\"BioAssist\",\"showlegend\":false,\"x\":[2017,2018,2019,2021,2022],\"xaxis\":\"x\",\"y\":[12,0,0,4,0],\"yaxis\":\"y\",\"type\":\"scattergl\"},{\"hovertemplate\":\"company_name=BioCoS<br>variable=Positive<br>year=%{x}<br>value=%{y}<extra></extra>\",\"legendgroup\":\"BioCoS\",\"line\":{\"color\":\"#ab63fa\",\"dash\":\"solid\"},\"marker\":{\"symbol\":\"circle\"},\"mode\":\"lines\",\"name\":\"BioCoS\",\"showlegend\":true,\"x\":[2018,2019,2020,2021,2022],\"xaxis\":\"x\",\"y\":[22,14,18,18,18],\"yaxis\":\"y\",\"type\":\"scattergl\"},{\"hovertemplate\":\"company_name=BioCoS<br>variable=Negative<br>year=%{x}<br>value=%{y}<extra></extra>\",\"legendgroup\":\"BioCoS\",\"line\":{\"color\":\"#ab63fa\",\"dash\":\"solid\"},\"marker\":{\"symbol\":\"circle\"},\"mode\":\"lines\",\"name\":\"BioCoS\",\"showlegend\":false,\"x\":[2018,2019,2020,2021,2022],\"xaxis\":\"x\",\"y\":[2,0,0,4,0],\"yaxis\":\"y\",\"type\":\"scattergl\"},{\"hovertemplate\":\"company_name=BioCoS<br>variable=Neutral<br>year=%{x}<br>value=%{y}<extra></extra>\",\"legendgroup\":\"BioCoS\",\"line\":{\"color\":\"#ab63fa\",\"dash\":\"solid\"},\"marker\":{\"symbol\":\"circle\"},\"mode\":\"lines\",\"name\":\"BioCoS\",\"showlegend\":false,\"x\":[2018,2019,2020,2021,2022],\"xaxis\":\"x\",\"y\":[22,14,8,8,8],\"yaxis\":\"y\",\"type\":\"scattergl\"},{\"hovertemplate\":\"company_name=Biomimetic<br>variable=Positive<br>year=%{x}<br>value=%{y}<extra></extra>\",\"legendgroup\":\"Biomimetic\",\"line\":{\"color\":\"#FFA15A\",\"dash\":\"solid\"},\"marker\":{\"symbol\":\"circle\"},\"mode\":\"lines\",\"name\":\"Biomimetic\",\"showlegend\":true,\"x\":[2020,2021,2022],\"xaxis\":\"x\",\"y\":[0,16,22],\"yaxis\":\"y\",\"type\":\"scattergl\"},{\"hovertemplate\":\"company_name=Biomimetic<br>variable=Negative<br>year=%{x}<br>value=%{y}<extra></extra>\",\"legendgroup\":\"Biomimetic\",\"line\":{\"color\":\"#FFA15A\",\"dash\":\"solid\"},\"marker\":{\"symbol\":\"circle\"},\"mode\":\"lines\",\"name\":\"Biomimetic\",\"showlegend\":false,\"x\":[2020,2021,2022],\"xaxis\":\"x\",\"y\":[0,1,0],\"yaxis\":\"y\",\"type\":\"scattergl\"},{\"hovertemplate\":\"company_name=Biomimetic<br>variable=Neutral<br>year=%{x}<br>value=%{y}<extra></extra>\",\"legendgroup\":\"Biomimetic\",\"line\":{\"color\":\"#FFA15A\",\"dash\":\"solid\"},\"marker\":{\"symbol\":\"circle\"},\"mode\":\"lines\",\"name\":\"Biomimetic\",\"showlegend\":false,\"x\":[2020,2021,2022],\"xaxis\":\"x\",\"y\":[1,8,4],\"yaxis\":\"y\",\"type\":\"scattergl\"},{\"hovertemplate\":\"company_name=Bitloops Language<br>variable=Positive<br>year=%{x}<br>value=%{y}<extra></extra>\",\"legendgroup\":\"Bitloops Language\",\"line\":{\"color\":\"#19d3f3\",\"dash\":\"solid\"},\"marker\":{\"symbol\":\"circle\"},\"mode\":\"lines\",\"name\":\"Bitloops Language\",\"showlegend\":true,\"x\":[2022,2023],\"xaxis\":\"x\",\"y\":[66,70],\"yaxis\":\"y\",\"type\":\"scattergl\"},{\"hovertemplate\":\"company_name=Bitloops Language<br>variable=Negative<br>year=%{x}<br>value=%{y}<extra></extra>\",\"legendgroup\":\"Bitloops Language\",\"line\":{\"color\":\"#19d3f3\",\"dash\":\"solid\"},\"marker\":{\"symbol\":\"circle\"},\"mode\":\"lines\",\"name\":\"Bitloops Language\",\"showlegend\":false,\"x\":[2022,2023],\"xaxis\":\"x\",\"y\":[6,4],\"yaxis\":\"y\",\"type\":\"scattergl\"},{\"hovertemplate\":\"company_name=Bitloops Language<br>variable=Neutral<br>year=%{x}<br>value=%{y}<extra></extra>\",\"legendgroup\":\"Bitloops Language\",\"line\":{\"color\":\"#19d3f3\",\"dash\":\"solid\"},\"marker\":{\"symbol\":\"circle\"},\"mode\":\"lines\",\"name\":\"Bitloops Language\",\"showlegend\":false,\"x\":[2022,2023],\"xaxis\":\"x\",\"y\":[14,4],\"yaxis\":\"y\",\"type\":\"scattergl\"},{\"hovertemplate\":\"company_name=Bryq<br>variable=Positive<br>year=%{x}<br>value=%{y}<extra></extra>\",\"legendgroup\":\"Bryq\",\"line\":{\"color\":\"#FF6692\",\"dash\":\"solid\"},\"marker\":{\"symbol\":\"circle\"},\"mode\":\"lines\",\"name\":\"Bryq\",\"showlegend\":true,\"x\":[2019,2020,2021,2022,2023],\"xaxis\":\"x\",\"y\":[52,78,136,112,32],\"yaxis\":\"y\",\"type\":\"scattergl\"},{\"hovertemplate\":\"company_name=Bryq<br>variable=Negative<br>year=%{x}<br>value=%{y}<extra></extra>\",\"legendgroup\":\"Bryq\",\"line\":{\"color\":\"#FF6692\",\"dash\":\"solid\"},\"marker\":{\"symbol\":\"circle\"},\"mode\":\"lines\",\"name\":\"Bryq\",\"showlegend\":false,\"x\":[2019,2020,2021,2022,2023],\"xaxis\":\"x\",\"y\":[6,4,12,12,0],\"yaxis\":\"y\",\"type\":\"scattergl\"},{\"hovertemplate\":\"company_name=Bryq<br>variable=Neutral<br>year=%{x}<br>value=%{y}<extra></extra>\",\"legendgroup\":\"Bryq\",\"line\":{\"color\":\"#FF6692\",\"dash\":\"solid\"},\"marker\":{\"symbol\":\"circle\"},\"mode\":\"lines\",\"name\":\"Bryq\",\"showlegend\":false,\"x\":[2019,2020,2021,2022,2023],\"xaxis\":\"x\",\"y\":[32,34,22,30,4],\"yaxis\":\"y\",\"type\":\"scattergl\"},{\"hovertemplate\":\"company_name=Butlair<br>variable=Positive<br>year=%{x}<br>value=%{y}<extra></extra>\",\"legendgroup\":\"Butlair\",\"line\":{\"color\":\"#B6E880\",\"dash\":\"solid\"},\"marker\":{\"symbol\":\"circle\"},\"mode\":\"lines\",\"name\":\"Butlair\",\"showlegend\":true,\"x\":[2017,2018],\"xaxis\":\"x\",\"y\":[34,0],\"yaxis\":\"y\",\"type\":\"scattergl\"},{\"hovertemplate\":\"company_name=Butlair<br>variable=Negative<br>year=%{x}<br>value=%{y}<extra></extra>\",\"legendgroup\":\"Butlair\",\"line\":{\"color\":\"#B6E880\",\"dash\":\"solid\"},\"marker\":{\"symbol\":\"circle\"},\"mode\":\"lines\",\"name\":\"Butlair\",\"showlegend\":false,\"x\":[2017,2018],\"xaxis\":\"x\",\"y\":[4,0],\"yaxis\":\"y\",\"type\":\"scattergl\"},{\"hovertemplate\":\"company_name=Butlair<br>variable=Neutral<br>year=%{x}<br>value=%{y}<extra></extra>\",\"legendgroup\":\"Butlair\",\"line\":{\"color\":\"#B6E880\",\"dash\":\"solid\"},\"marker\":{\"symbol\":\"circle\"},\"mode\":\"lines\",\"name\":\"Butlair\",\"showlegend\":false,\"x\":[2017,2018],\"xaxis\":\"x\",\"y\":[48,1],\"yaxis\":\"y\",\"type\":\"scattergl\"},{\"hovertemplate\":\"company_name=C-Job Naval Architects<br>variable=Positive<br>year=%{x}<br>value=%{y}<extra></extra>\",\"legendgroup\":\"C-Job Naval Architects\",\"line\":{\"color\":\"#FF97FF\",\"dash\":\"solid\"},\"marker\":{\"symbol\":\"circle\"},\"mode\":\"lines\",\"name\":\"C-Job Naval Architects\",\"showlegend\":true,\"x\":[2017,2018,2019,2020,2021,2022],\"xaxis\":\"x\",\"y\":[19,44,58,28,4,2],\"yaxis\":\"y\",\"type\":\"scattergl\"},{\"hovertemplate\":\"company_name=C-Job Naval Architects<br>variable=Negative<br>year=%{x}<br>value=%{y}<extra></extra>\",\"legendgroup\":\"C-Job Naval Architects\",\"line\":{\"color\":\"#FF97FF\",\"dash\":\"solid\"},\"marker\":{\"symbol\":\"circle\"},\"mode\":\"lines\",\"name\":\"C-Job Naval Architects\",\"showlegend\":false,\"x\":[2017,2018,2019,2020,2021,2022],\"xaxis\":\"x\",\"y\":[8,3,2,0,0,0],\"yaxis\":\"y\",\"type\":\"scattergl\"},{\"hovertemplate\":\"company_name=C-Job Naval Architects<br>variable=Neutral<br>year=%{x}<br>value=%{y}<extra></extra>\",\"legendgroup\":\"C-Job Naval Architects\",\"line\":{\"color\":\"#FF97FF\",\"dash\":\"solid\"},\"marker\":{\"symbol\":\"circle\"},\"mode\":\"lines\",\"name\":\"C-Job Naval Architects\",\"showlegend\":false,\"x\":[2017,2018,2019,2020,2021,2022],\"xaxis\":\"x\",\"y\":[38,25,15,5,1,0],\"yaxis\":\"y\",\"type\":\"scattergl\"},{\"hovertemplate\":\"company_name=Caerleon Comp<br>variable=Positive<br>year=%{x}<br>value=%{y}<extra></extra>\",\"legendgroup\":\"Caerleon Comp\",\"line\":{\"color\":\"#FECB52\",\"dash\":\"solid\"},\"marker\":{\"symbol\":\"circle\"},\"mode\":\"lines\",\"name\":\"Caerleon Comp\",\"showlegend\":true,\"x\":[2017,2018,2019,2020,2021,2022,2023],\"xaxis\":\"x\",\"y\":[64,77,67,64,38,90,81],\"yaxis\":\"y\",\"type\":\"scattergl\"},{\"hovertemplate\":\"company_name=Caerleon Comp<br>variable=Negative<br>year=%{x}<br>value=%{y}<extra></extra>\",\"legendgroup\":\"Caerleon Comp\",\"line\":{\"color\":\"#FECB52\",\"dash\":\"solid\"},\"marker\":{\"symbol\":\"circle\"},\"mode\":\"lines\",\"name\":\"Caerleon Comp\",\"showlegend\":false,\"x\":[2017,2018,2019,2020,2021,2022,2023],\"xaxis\":\"x\",\"y\":[12,12,15,12,13,16,7],\"yaxis\":\"y\",\"type\":\"scattergl\"},{\"hovertemplate\":\"company_name=Caerleon Comp<br>variable=Neutral<br>year=%{x}<br>value=%{y}<extra></extra>\",\"legendgroup\":\"Caerleon Comp\",\"line\":{\"color\":\"#FECB52\",\"dash\":\"solid\"},\"marker\":{\"symbol\":\"circle\"},\"mode\":\"lines\",\"name\":\"Caerleon Comp\",\"showlegend\":false,\"x\":[2017,2018,2019,2020,2021,2022,2023],\"xaxis\":\"x\",\"y\":[82,84,74,45,54,71,73],\"yaxis\":\"y\",\"type\":\"scattergl\"},{\"hovertemplate\":\"company_name=Classter<br>variable=Positive<br>year=%{x}<br>value=%{y}<extra></extra>\",\"legendgroup\":\"Classter\",\"line\":{\"color\":\"#636efa\",\"dash\":\"solid\"},\"marker\":{\"symbol\":\"circle\"},\"mode\":\"lines\",\"name\":\"Classter\",\"showlegend\":true,\"x\":[2023],\"xaxis\":\"x\",\"y\":[25],\"yaxis\":\"y\",\"type\":\"scattergl\"},{\"hovertemplate\":\"company_name=Classter<br>variable=Negative<br>year=%{x}<br>value=%{y}<extra></extra>\",\"legendgroup\":\"Classter\",\"line\":{\"color\":\"#636efa\",\"dash\":\"solid\"},\"marker\":{\"symbol\":\"circle\"},\"mode\":\"lines\",\"name\":\"Classter\",\"showlegend\":false,\"x\":[2023],\"xaxis\":\"x\",\"y\":[5],\"yaxis\":\"y\",\"type\":\"scattergl\"},{\"hovertemplate\":\"company_name=Classter<br>variable=Neutral<br>year=%{x}<br>value=%{y}<extra></extra>\",\"legendgroup\":\"Classter\",\"line\":{\"color\":\"#636efa\",\"dash\":\"solid\"},\"marker\":{\"symbol\":\"circle\"},\"mode\":\"lines\",\"name\":\"Classter\",\"showlegend\":false,\"x\":[2023],\"xaxis\":\"x\",\"y\":[8],\"yaxis\":\"y\",\"type\":\"scattergl\"},{\"hovertemplate\":\"company_name=Daniel Wrapp<br>variable=Positive<br>year=%{x}<br>value=%{y}<extra></extra>\",\"legendgroup\":\"Daniel Wrapp\",\"line\":{\"color\":\"#EF553B\",\"dash\":\"solid\"},\"marker\":{\"symbol\":\"circle\"},\"mode\":\"lines\",\"name\":\"Daniel Wrapp\",\"showlegend\":true,\"x\":[2020,2021,2022,2023],\"xaxis\":\"x\",\"y\":[5,6,9,2],\"yaxis\":\"y\",\"type\":\"scattergl\"},{\"hovertemplate\":\"company_name=Daniel Wrapp<br>variable=Negative<br>year=%{x}<br>value=%{y}<extra></extra>\",\"legendgroup\":\"Daniel Wrapp\",\"line\":{\"color\":\"#EF553B\",\"dash\":\"solid\"},\"marker\":{\"symbol\":\"circle\"},\"mode\":\"lines\",\"name\":\"Daniel Wrapp\",\"showlegend\":false,\"x\":[2020,2021,2022,2023],\"xaxis\":\"x\",\"y\":[1,0,0,0],\"yaxis\":\"y\",\"type\":\"scattergl\"},{\"hovertemplate\":\"company_name=Daniel Wrapp<br>variable=Neutral<br>year=%{x}<br>value=%{y}<extra></extra>\",\"legendgroup\":\"Daniel Wrapp\",\"line\":{\"color\":\"#EF553B\",\"dash\":\"solid\"},\"marker\":{\"symbol\":\"circle\"},\"mode\":\"lines\",\"name\":\"Daniel Wrapp\",\"showlegend\":false,\"x\":[2020,2021,2022,2023],\"xaxis\":\"x\",\"y\":[5,5,7,1],\"yaxis\":\"y\",\"type\":\"scattergl\"},{\"hovertemplate\":\"company_name=EVPlus<br>variable=Positive<br>year=%{x}<br>value=%{y}<extra></extra>\",\"legendgroup\":\"EVPlus\",\"line\":{\"color\":\"#00cc96\",\"dash\":\"solid\"},\"marker\":{\"symbol\":\"circle\"},\"mode\":\"lines\",\"name\":\"EVPlus\",\"showlegend\":true,\"x\":[2020,2021],\"xaxis\":\"x\",\"y\":[18,4],\"yaxis\":\"y\",\"type\":\"scattergl\"},{\"hovertemplate\":\"company_name=EVPlus<br>variable=Negative<br>year=%{x}<br>value=%{y}<extra></extra>\",\"legendgroup\":\"EVPlus\",\"line\":{\"color\":\"#00cc96\",\"dash\":\"solid\"},\"marker\":{\"symbol\":\"circle\"},\"mode\":\"lines\",\"name\":\"EVPlus\",\"showlegend\":false,\"x\":[2020,2021],\"xaxis\":\"x\",\"y\":[1,1],\"yaxis\":\"y\",\"type\":\"scattergl\"},{\"hovertemplate\":\"company_name=EVPlus<br>variable=Neutral<br>year=%{x}<br>value=%{y}<extra></extra>\",\"legendgroup\":\"EVPlus\",\"line\":{\"color\":\"#00cc96\",\"dash\":\"solid\"},\"marker\":{\"symbol\":\"circle\"},\"mode\":\"lines\",\"name\":\"EVPlus\",\"showlegend\":false,\"x\":[2020,2021],\"xaxis\":\"x\",\"y\":[15,8],\"yaxis\":\"y\",\"type\":\"scattergl\"},{\"hovertemplate\":\"company_name=Energy Web<br>variable=Positive<br>year=%{x}<br>value=%{y}<extra></extra>\",\"legendgroup\":\"Energy Web\",\"line\":{\"color\":\"#ab63fa\",\"dash\":\"solid\"},\"marker\":{\"symbol\":\"circle\"},\"mode\":\"lines\",\"name\":\"Energy Web\",\"showlegend\":true,\"x\":[2017,2018,2019,2020,2021,2022,2023],\"xaxis\":\"x\",\"y\":[8,88,592,322,161,98,15],\"yaxis\":\"y\",\"type\":\"scattergl\"},{\"hovertemplate\":\"company_name=Energy Web<br>variable=Negative<br>year=%{x}<br>value=%{y}<extra></extra>\",\"legendgroup\":\"Energy Web\",\"line\":{\"color\":\"#ab63fa\",\"dash\":\"solid\"},\"marker\":{\"symbol\":\"circle\"},\"mode\":\"lines\",\"name\":\"Energy Web\",\"showlegend\":false,\"x\":[2017,2018,2019,2020,2021,2022,2023],\"xaxis\":\"x\",\"y\":[2,7,56,39,11,8,7],\"yaxis\":\"y\",\"type\":\"scattergl\"},{\"hovertemplate\":\"company_name=Energy Web<br>variable=Neutral<br>year=%{x}<br>value=%{y}<extra></extra>\",\"legendgroup\":\"Energy Web\",\"line\":{\"color\":\"#ab63fa\",\"dash\":\"solid\"},\"marker\":{\"symbol\":\"circle\"},\"mode\":\"lines\",\"name\":\"Energy Web\",\"showlegend\":false,\"x\":[2017,2018,2019,2020,2021,2022,2023],\"xaxis\":\"x\",\"y\":[15,47,314,153,88,19,5],\"yaxis\":\"y\",\"type\":\"scattergl\"},{\"hovertemplate\":\"company_name=Enginius<br>variable=Positive<br>year=%{x}<br>value=%{y}<extra></extra>\",\"legendgroup\":\"Enginius\",\"line\":{\"color\":\"#FFA15A\",\"dash\":\"solid\"},\"marker\":{\"symbol\":\"circle\"},\"mode\":\"lines\",\"name\":\"Enginius\",\"showlegend\":true,\"x\":[2017,2018,2019,2020,2021,2022,2023],\"xaxis\":\"x\",\"y\":[0,0,0,0,0,1,0],\"yaxis\":\"y\",\"type\":\"scattergl\"},{\"hovertemplate\":\"company_name=Enginius<br>variable=Negative<br>year=%{x}<br>value=%{y}<extra></extra>\",\"legendgroup\":\"Enginius\",\"line\":{\"color\":\"#FFA15A\",\"dash\":\"solid\"},\"marker\":{\"symbol\":\"circle\"},\"mode\":\"lines\",\"name\":\"Enginius\",\"showlegend\":false,\"x\":[2017,2018,2019,2020,2021,2022,2023],\"xaxis\":\"x\",\"y\":[0,0,0,0,0,0,0],\"yaxis\":\"y\",\"type\":\"scattergl\"},{\"hovertemplate\":\"company_name=Enginius<br>variable=Neutral<br>year=%{x}<br>value=%{y}<extra></extra>\",\"legendgroup\":\"Enginius\",\"line\":{\"color\":\"#FFA15A\",\"dash\":\"solid\"},\"marker\":{\"symbol\":\"circle\"},\"mode\":\"lines\",\"name\":\"Enginius\",\"showlegend\":false,\"x\":[2017,2018,2019,2020,2021,2022,2023],\"xaxis\":\"x\",\"y\":[6,2,2,1,1,2,1],\"yaxis\":\"y\",\"type\":\"scattergl\"},{\"hovertemplate\":\"company_name=Entelechy Academy<br>variable=Positive<br>year=%{x}<br>value=%{y}<extra></extra>\",\"legendgroup\":\"Entelechy Academy\",\"line\":{\"color\":\"#19d3f3\",\"dash\":\"solid\"},\"marker\":{\"symbol\":\"circle\"},\"mode\":\"lines\",\"name\":\"Entelechy Academy\",\"showlegend\":true,\"x\":[2021,2022,2023],\"xaxis\":\"x\",\"y\":[5,29,10],\"yaxis\":\"y\",\"type\":\"scattergl\"},{\"hovertemplate\":\"company_name=Entelechy Academy<br>variable=Negative<br>year=%{x}<br>value=%{y}<extra></extra>\",\"legendgroup\":\"Entelechy Academy\",\"line\":{\"color\":\"#19d3f3\",\"dash\":\"solid\"},\"marker\":{\"symbol\":\"circle\"},\"mode\":\"lines\",\"name\":\"Entelechy Academy\",\"showlegend\":false,\"x\":[2021,2022,2023],\"xaxis\":\"x\",\"y\":[3,4,2],\"yaxis\":\"y\",\"type\":\"scattergl\"},{\"hovertemplate\":\"company_name=Entelechy Academy<br>variable=Neutral<br>year=%{x}<br>value=%{y}<extra></extra>\",\"legendgroup\":\"Entelechy Academy\",\"line\":{\"color\":\"#19d3f3\",\"dash\":\"solid\"},\"marker\":{\"symbol\":\"circle\"},\"mode\":\"lines\",\"name\":\"Entelechy Academy\",\"showlegend\":false,\"x\":[2021,2022,2023],\"xaxis\":\"x\",\"y\":[0,7,3],\"yaxis\":\"y\",\"type\":\"scattergl\"},{\"hovertemplate\":\"company_name=EnzyQuest<br>variable=Positive<br>year=%{x}<br>value=%{y}<extra></extra>\",\"legendgroup\":\"EnzyQuest\",\"line\":{\"color\":\"#FF6692\",\"dash\":\"solid\"},\"marker\":{\"symbol\":\"circle\"},\"mode\":\"lines\",\"name\":\"EnzyQuest\",\"showlegend\":true,\"x\":[2020],\"xaxis\":\"x\",\"y\":[3],\"yaxis\":\"y\",\"type\":\"scattergl\"},{\"hovertemplate\":\"company_name=EnzyQuest<br>variable=Negative<br>year=%{x}<br>value=%{y}<extra></extra>\",\"legendgroup\":\"EnzyQuest\",\"line\":{\"color\":\"#FF6692\",\"dash\":\"solid\"},\"marker\":{\"symbol\":\"circle\"},\"mode\":\"lines\",\"name\":\"EnzyQuest\",\"showlegend\":false,\"x\":[2020],\"xaxis\":\"x\",\"y\":[0],\"yaxis\":\"y\",\"type\":\"scattergl\"},{\"hovertemplate\":\"company_name=EnzyQuest<br>variable=Neutral<br>year=%{x}<br>value=%{y}<extra></extra>\",\"legendgroup\":\"EnzyQuest\",\"line\":{\"color\":\"#FF6692\",\"dash\":\"solid\"},\"marker\":{\"symbol\":\"circle\"},\"mode\":\"lines\",\"name\":\"EnzyQuest\",\"showlegend\":false,\"x\":[2020],\"xaxis\":\"x\",\"y\":[3],\"yaxis\":\"y\",\"type\":\"scattergl\"},{\"hovertemplate\":\"company_name=European Publishing<br>variable=Positive<br>year=%{x}<br>value=%{y}<extra></extra>\",\"legendgroup\":\"European Publishing\",\"line\":{\"color\":\"#B6E880\",\"dash\":\"solid\"},\"marker\":{\"symbol\":\"circle\"},\"mode\":\"lines\",\"name\":\"European Publishing\",\"showlegend\":true,\"x\":[2022],\"xaxis\":\"x\",\"y\":[0],\"yaxis\":\"y\",\"type\":\"scattergl\"},{\"hovertemplate\":\"company_name=European Publishing<br>variable=Negative<br>year=%{x}<br>value=%{y}<extra></extra>\",\"legendgroup\":\"European Publishing\",\"line\":{\"color\":\"#B6E880\",\"dash\":\"solid\"},\"marker\":{\"symbol\":\"circle\"},\"mode\":\"lines\",\"name\":\"European Publishing\",\"showlegend\":false,\"x\":[2022],\"xaxis\":\"x\",\"y\":[0],\"yaxis\":\"y\",\"type\":\"scattergl\"},{\"hovertemplate\":\"company_name=European Publishing<br>variable=Neutral<br>year=%{x}<br>value=%{y}<extra></extra>\",\"legendgroup\":\"European Publishing\",\"line\":{\"color\":\"#B6E880\",\"dash\":\"solid\"},\"marker\":{\"symbol\":\"circle\"},\"mode\":\"lines\",\"name\":\"European Publishing\",\"showlegend\":false,\"x\":[2022],\"xaxis\":\"x\",\"y\":[2],\"yaxis\":\"y\",\"type\":\"scattergl\"},{\"hovertemplate\":\"company_name=Evo Human Performance<br>variable=Positive<br>year=%{x}<br>value=%{y}<extra></extra>\",\"legendgroup\":\"Evo Human Performance\",\"line\":{\"color\":\"#FF97FF\",\"dash\":\"solid\"},\"marker\":{\"symbol\":\"circle\"},\"mode\":\"lines\",\"name\":\"Evo Human Performance\",\"showlegend\":true,\"x\":[2021,2022,2023],\"xaxis\":\"x\",\"y\":[1,8,9],\"yaxis\":\"y\",\"type\":\"scattergl\"},{\"hovertemplate\":\"company_name=Evo Human Performance<br>variable=Negative<br>year=%{x}<br>value=%{y}<extra></extra>\",\"legendgroup\":\"Evo Human Performance\",\"line\":{\"color\":\"#FF97FF\",\"dash\":\"solid\"},\"marker\":{\"symbol\":\"circle\"},\"mode\":\"lines\",\"name\":\"Evo Human Performance\",\"showlegend\":false,\"x\":[2021,2022,2023],\"xaxis\":\"x\",\"y\":[0,1,0],\"yaxis\":\"y\",\"type\":\"scattergl\"},{\"hovertemplate\":\"company_name=Evo Human Performance<br>variable=Neutral<br>year=%{x}<br>value=%{y}<extra></extra>\",\"legendgroup\":\"Evo Human Performance\",\"line\":{\"color\":\"#FF97FF\",\"dash\":\"solid\"},\"marker\":{\"symbol\":\"circle\"},\"mode\":\"lines\",\"name\":\"Evo Human Performance\",\"showlegend\":false,\"x\":[2021,2022,2023],\"xaxis\":\"x\",\"y\":[1,2,6],\"yaxis\":\"y\",\"type\":\"scattergl\"},{\"hovertemplate\":\"company_name=Ex Machina<br>variable=Positive<br>year=%{x}<br>value=%{y}<extra></extra>\",\"legendgroup\":\"Ex Machina\",\"line\":{\"color\":\"#FECB52\",\"dash\":\"solid\"},\"marker\":{\"symbol\":\"circle\"},\"mode\":\"lines\",\"name\":\"Ex Machina\",\"showlegend\":true,\"x\":[2018,2019,2021,2022],\"xaxis\":\"x\",\"y\":[0,2,4,0],\"yaxis\":\"y\",\"type\":\"scattergl\"},{\"hovertemplate\":\"company_name=Ex Machina<br>variable=Negative<br>year=%{x}<br>value=%{y}<extra></extra>\",\"legendgroup\":\"Ex Machina\",\"line\":{\"color\":\"#FECB52\",\"dash\":\"solid\"},\"marker\":{\"symbol\":\"circle\"},\"mode\":\"lines\",\"name\":\"Ex Machina\",\"showlegend\":false,\"x\":[2018,2019,2021,2022],\"xaxis\":\"x\",\"y\":[0,1,1,0],\"yaxis\":\"y\",\"type\":\"scattergl\"},{\"hovertemplate\":\"company_name=Ex Machina<br>variable=Neutral<br>year=%{x}<br>value=%{y}<extra></extra>\",\"legendgroup\":\"Ex Machina\",\"line\":{\"color\":\"#FECB52\",\"dash\":\"solid\"},\"marker\":{\"symbol\":\"circle\"},\"mode\":\"lines\",\"name\":\"Ex Machina\",\"showlegend\":false,\"x\":[2018,2019,2021,2022],\"xaxis\":\"x\",\"y\":[1,0,1,1],\"yaxis\":\"y\",\"type\":\"scattergl\"},{\"hovertemplate\":\"company_name=ExcID<br>variable=Positive<br>year=%{x}<br>value=%{y}<extra></extra>\",\"legendgroup\":\"ExcID\",\"line\":{\"color\":\"#636efa\",\"dash\":\"solid\"},\"marker\":{\"symbol\":\"circle\"},\"mode\":\"lines\",\"name\":\"ExcID\",\"showlegend\":true,\"x\":[2023],\"xaxis\":\"x\",\"y\":[3],\"yaxis\":\"y\",\"type\":\"scattergl\"},{\"hovertemplate\":\"company_name=ExcID<br>variable=Negative<br>year=%{x}<br>value=%{y}<extra></extra>\",\"legendgroup\":\"ExcID\",\"line\":{\"color\":\"#636efa\",\"dash\":\"solid\"},\"marker\":{\"symbol\":\"circle\"},\"mode\":\"lines\",\"name\":\"ExcID\",\"showlegend\":false,\"x\":[2023],\"xaxis\":\"x\",\"y\":[0],\"yaxis\":\"y\",\"type\":\"scattergl\"},{\"hovertemplate\":\"company_name=ExcID<br>variable=Neutral<br>year=%{x}<br>value=%{y}<extra></extra>\",\"legendgroup\":\"ExcID\",\"line\":{\"color\":\"#636efa\",\"dash\":\"solid\"},\"marker\":{\"symbol\":\"circle\"},\"mode\":\"lines\",\"name\":\"ExcID\",\"showlegend\":false,\"x\":[2023],\"xaxis\":\"x\",\"y\":[7],\"yaxis\":\"y\",\"type\":\"scattergl\"},{\"hovertemplate\":\"company_name=FEAC Engineering<br>variable=Positive<br>year=%{x}<br>value=%{y}<extra></extra>\",\"legendgroup\":\"FEAC Engineering\",\"line\":{\"color\":\"#EF553B\",\"dash\":\"solid\"},\"marker\":{\"symbol\":\"circle\"},\"mode\":\"lines\",\"name\":\"FEAC Engineering\",\"showlegend\":true,\"x\":[2017,2018,2019,2020,2021,2022],\"xaxis\":\"x\",\"y\":[9,32,31,52,35,175],\"yaxis\":\"y\",\"type\":\"scattergl\"},{\"hovertemplate\":\"company_name=FEAC Engineering<br>variable=Negative<br>year=%{x}<br>value=%{y}<extra></extra>\",\"legendgroup\":\"FEAC Engineering\",\"line\":{\"color\":\"#EF553B\",\"dash\":\"solid\"},\"marker\":{\"symbol\":\"circle\"},\"mode\":\"lines\",\"name\":\"FEAC Engineering\",\"showlegend\":false,\"x\":[2017,2018,2019,2020,2021,2022],\"xaxis\":\"x\",\"y\":[2,3,5,5,3,30],\"yaxis\":\"y\",\"type\":\"scattergl\"},{\"hovertemplate\":\"company_name=FEAC Engineering<br>variable=Neutral<br>year=%{x}<br>value=%{y}<extra></extra>\",\"legendgroup\":\"FEAC Engineering\",\"line\":{\"color\":\"#EF553B\",\"dash\":\"solid\"},\"marker\":{\"symbol\":\"circle\"},\"mode\":\"lines\",\"name\":\"FEAC Engineering\",\"showlegend\":false,\"x\":[2017,2018,2019,2020,2021,2022],\"xaxis\":\"x\",\"y\":[3,32,31,24,16,111],\"yaxis\":\"y\",\"type\":\"scattergl\"},{\"hovertemplate\":\"company_name=FSI Fantasy Sports Interactive<br>variable=Positive<br>year=%{x}<br>value=%{y}<extra></extra>\",\"legendgroup\":\"FSI Fantasy Sports Interactive\",\"line\":{\"color\":\"#00cc96\",\"dash\":\"solid\"},\"marker\":{\"symbol\":\"circle\"},\"mode\":\"lines\",\"name\":\"FSI Fantasy Sports Interactive\",\"showlegend\":true,\"x\":[2018,2019,2020,2021,2022,2023],\"xaxis\":\"x\",\"y\":[14,25,29,22,37,2],\"yaxis\":\"y\",\"type\":\"scattergl\"},{\"hovertemplate\":\"company_name=FSI Fantasy Sports Interactive<br>variable=Negative<br>year=%{x}<br>value=%{y}<extra></extra>\",\"legendgroup\":\"FSI Fantasy Sports Interactive\",\"line\":{\"color\":\"#00cc96\",\"dash\":\"solid\"},\"marker\":{\"symbol\":\"circle\"},\"mode\":\"lines\",\"name\":\"FSI Fantasy Sports Interactive\",\"showlegend\":false,\"x\":[2018,2019,2020,2021,2022,2023],\"xaxis\":\"x\",\"y\":[1,4,1,0,5,0],\"yaxis\":\"y\",\"type\":\"scattergl\"},{\"hovertemplate\":\"company_name=FSI Fantasy Sports Interactive<br>variable=Neutral<br>year=%{x}<br>value=%{y}<extra></extra>\",\"legendgroup\":\"FSI Fantasy Sports Interactive\",\"line\":{\"color\":\"#00cc96\",\"dash\":\"solid\"},\"marker\":{\"symbol\":\"circle\"},\"mode\":\"lines\",\"name\":\"FSI Fantasy Sports Interactive\",\"showlegend\":false,\"x\":[2018,2019,2020,2021,2022,2023],\"xaxis\":\"x\",\"y\":[11,9,4,2,5,0],\"yaxis\":\"y\",\"type\":\"scattergl\"},{\"hovertemplate\":\"company_name=Fairlo<br>variable=Positive<br>year=%{x}<br>value=%{y}<extra></extra>\",\"legendgroup\":\"Fairlo\",\"line\":{\"color\":\"#ab63fa\",\"dash\":\"solid\"},\"marker\":{\"symbol\":\"circle\"},\"mode\":\"lines\",\"name\":\"Fairlo\",\"showlegend\":true,\"x\":[2019],\"xaxis\":\"x\",\"y\":[4],\"yaxis\":\"y\",\"type\":\"scattergl\"},{\"hovertemplate\":\"company_name=Fairlo<br>variable=Negative<br>year=%{x}<br>value=%{y}<extra></extra>\",\"legendgroup\":\"Fairlo\",\"line\":{\"color\":\"#ab63fa\",\"dash\":\"solid\"},\"marker\":{\"symbol\":\"circle\"},\"mode\":\"lines\",\"name\":\"Fairlo\",\"showlegend\":false,\"x\":[2019],\"xaxis\":\"x\",\"y\":[1],\"yaxis\":\"y\",\"type\":\"scattergl\"},{\"hovertemplate\":\"company_name=Fairlo<br>variable=Neutral<br>year=%{x}<br>value=%{y}<extra></extra>\",\"legendgroup\":\"Fairlo\",\"line\":{\"color\":\"#ab63fa\",\"dash\":\"solid\"},\"marker\":{\"symbol\":\"circle\"},\"mode\":\"lines\",\"name\":\"Fairlo\",\"showlegend\":false,\"x\":[2019],\"xaxis\":\"x\",\"y\":[9],\"yaxis\":\"y\",\"type\":\"scattergl\"},{\"hovertemplate\":\"company_name=Feel Therapeutics<br>variable=Positive<br>year=%{x}<br>value=%{y}<extra></extra>\",\"legendgroup\":\"Feel Therapeutics\",\"line\":{\"color\":\"#FFA15A\",\"dash\":\"solid\"},\"marker\":{\"symbol\":\"circle\"},\"mode\":\"lines\",\"name\":\"Feel Therapeutics\",\"showlegend\":true,\"x\":[2017,2018,2019,2020,2021,2022,2023],\"xaxis\":\"x\",\"y\":[159,128,35,64,13,7,1],\"yaxis\":\"y\",\"type\":\"scattergl\"},{\"hovertemplate\":\"company_name=Feel Therapeutics<br>variable=Negative<br>year=%{x}<br>value=%{y}<extra></extra>\",\"legendgroup\":\"Feel Therapeutics\",\"line\":{\"color\":\"#FFA15A\",\"dash\":\"solid\"},\"marker\":{\"symbol\":\"circle\"},\"mode\":\"lines\",\"name\":\"Feel Therapeutics\",\"showlegend\":false,\"x\":[2017,2018,2019,2020,2021,2022,2023],\"xaxis\":\"x\",\"y\":[33,25,6,22,4,0,0],\"yaxis\":\"y\",\"type\":\"scattergl\"},{\"hovertemplate\":\"company_name=Feel Therapeutics<br>variable=Neutral<br>year=%{x}<br>value=%{y}<extra></extra>\",\"legendgroup\":\"Feel Therapeutics\",\"line\":{\"color\":\"#FFA15A\",\"dash\":\"solid\"},\"marker\":{\"symbol\":\"circle\"},\"mode\":\"lines\",\"name\":\"Feel Therapeutics\",\"showlegend\":false,\"x\":[2017,2018,2019,2020,2021,2022,2023],\"xaxis\":\"x\",\"y\":[123,48,23,16,2,1,2],\"yaxis\":\"y\",\"type\":\"scattergl\"},{\"hovertemplate\":\"company_name=Ferto<br>variable=Positive<br>year=%{x}<br>value=%{y}<extra></extra>\",\"legendgroup\":\"Ferto\",\"line\":{\"color\":\"#19d3f3\",\"dash\":\"solid\"},\"marker\":{\"symbol\":\"circle\"},\"mode\":\"lines\",\"name\":\"Ferto\",\"showlegend\":true,\"x\":[2021],\"xaxis\":\"x\",\"y\":[0],\"yaxis\":\"y\",\"type\":\"scattergl\"},{\"hovertemplate\":\"company_name=Ferto<br>variable=Negative<br>year=%{x}<br>value=%{y}<extra></extra>\",\"legendgroup\":\"Ferto\",\"line\":{\"color\":\"#19d3f3\",\"dash\":\"solid\"},\"marker\":{\"symbol\":\"circle\"},\"mode\":\"lines\",\"name\":\"Ferto\",\"showlegend\":false,\"x\":[2021],\"xaxis\":\"x\",\"y\":[0],\"yaxis\":\"y\",\"type\":\"scattergl\"},{\"hovertemplate\":\"company_name=Ferto<br>variable=Neutral<br>year=%{x}<br>value=%{y}<extra></extra>\",\"legendgroup\":\"Ferto\",\"line\":{\"color\":\"#19d3f3\",\"dash\":\"solid\"},\"marker\":{\"symbol\":\"circle\"},\"mode\":\"lines\",\"name\":\"Ferto\",\"showlegend\":false,\"x\":[2021],\"xaxis\":\"x\",\"y\":[4],\"yaxis\":\"y\",\"type\":\"scattergl\"},{\"hovertemplate\":\"company_name=Fieldscale<br>variable=Positive<br>year=%{x}<br>value=%{y}<extra></extra>\",\"legendgroup\":\"Fieldscale\",\"line\":{\"color\":\"#FF6692\",\"dash\":\"solid\"},\"marker\":{\"symbol\":\"circle\"},\"mode\":\"lines\",\"name\":\"Fieldscale\",\"showlegend\":true,\"x\":[2017,2018,2019,2020,2021],\"xaxis\":\"x\",\"y\":[128,12,45,7,0],\"yaxis\":\"y\",\"type\":\"scattergl\"},{\"hovertemplate\":\"company_name=Fieldscale<br>variable=Negative<br>year=%{x}<br>value=%{y}<extra></extra>\",\"legendgroup\":\"Fieldscale\",\"line\":{\"color\":\"#FF6692\",\"dash\":\"solid\"},\"marker\":{\"symbol\":\"circle\"},\"mode\":\"lines\",\"name\":\"Fieldscale\",\"showlegend\":false,\"x\":[2017,2018,2019,2020,2021],\"xaxis\":\"x\",\"y\":[37,1,14,1,0],\"yaxis\":\"y\",\"type\":\"scattergl\"},{\"hovertemplate\":\"company_name=Fieldscale<br>variable=Neutral<br>year=%{x}<br>value=%{y}<extra></extra>\",\"legendgroup\":\"Fieldscale\",\"line\":{\"color\":\"#FF6692\",\"dash\":\"solid\"},\"marker\":{\"symbol\":\"circle\"},\"mode\":\"lines\",\"name\":\"Fieldscale\",\"showlegend\":false,\"x\":[2017,2018,2019,2020,2021],\"xaxis\":\"x\",\"y\":[187,11,34,6,1],\"yaxis\":\"y\",\"type\":\"scattergl\"},{\"hovertemplate\":\"company_name=Finclude (fka. Verge.Capital)<br>variable=Positive<br>year=%{x}<br>value=%{y}<extra></extra>\",\"legendgroup\":\"Finclude (fka. Verge.Capital)\",\"line\":{\"color\":\"#B6E880\",\"dash\":\"solid\"},\"marker\":{\"symbol\":\"circle\"},\"mode\":\"lines\",\"name\":\"Finclude (fka. Verge.Capital)\",\"showlegend\":true,\"x\":[2018,2019,2020,2023],\"xaxis\":\"x\",\"y\":[1,9,13,0],\"yaxis\":\"y\",\"type\":\"scattergl\"},{\"hovertemplate\":\"company_name=Finclude (fka. Verge.Capital)<br>variable=Negative<br>year=%{x}<br>value=%{y}<extra></extra>\",\"legendgroup\":\"Finclude (fka. Verge.Capital)\",\"line\":{\"color\":\"#B6E880\",\"dash\":\"solid\"},\"marker\":{\"symbol\":\"circle\"},\"mode\":\"lines\",\"name\":\"Finclude (fka. Verge.Capital)\",\"showlegend\":false,\"x\":[2018,2019,2020,2023],\"xaxis\":\"x\",\"y\":[0,0,0,0],\"yaxis\":\"y\",\"type\":\"scattergl\"},{\"hovertemplate\":\"company_name=Finclude (fka. Verge.Capital)<br>variable=Neutral<br>year=%{x}<br>value=%{y}<extra></extra>\",\"legendgroup\":\"Finclude (fka. Verge.Capital)\",\"line\":{\"color\":\"#B6E880\",\"dash\":\"solid\"},\"marker\":{\"symbol\":\"circle\"},\"mode\":\"lines\",\"name\":\"Finclude (fka. Verge.Capital)\",\"showlegend\":false,\"x\":[2018,2019,2020,2023],\"xaxis\":\"x\",\"y\":[1,5,6,1],\"yaxis\":\"y\",\"type\":\"scattergl\"},{\"hovertemplate\":\"company_name=Fitness Meals<br>variable=Positive<br>year=%{x}<br>value=%{y}<extra></extra>\",\"legendgroup\":\"Fitness Meals\",\"line\":{\"color\":\"#FF97FF\",\"dash\":\"solid\"},\"marker\":{\"symbol\":\"circle\"},\"mode\":\"lines\",\"name\":\"Fitness Meals\",\"showlegend\":true,\"x\":[2017,2018,2019],\"xaxis\":\"x\",\"y\":[2,35,20],\"yaxis\":\"y\",\"type\":\"scattergl\"},{\"hovertemplate\":\"company_name=Fitness Meals<br>variable=Negative<br>year=%{x}<br>value=%{y}<extra></extra>\",\"legendgroup\":\"Fitness Meals\",\"line\":{\"color\":\"#FF97FF\",\"dash\":\"solid\"},\"marker\":{\"symbol\":\"circle\"},\"mode\":\"lines\",\"name\":\"Fitness Meals\",\"showlegend\":false,\"x\":[2017,2018,2019],\"xaxis\":\"x\",\"y\":[0,1,0],\"yaxis\":\"y\",\"type\":\"scattergl\"},{\"hovertemplate\":\"company_name=Fitness Meals<br>variable=Neutral<br>year=%{x}<br>value=%{y}<extra></extra>\",\"legendgroup\":\"Fitness Meals\",\"line\":{\"color\":\"#FF97FF\",\"dash\":\"solid\"},\"marker\":{\"symbol\":\"circle\"},\"mode\":\"lines\",\"name\":\"Fitness Meals\",\"showlegend\":false,\"x\":[2017,2018,2019],\"xaxis\":\"x\",\"y\":[1,7,2],\"yaxis\":\"y\",\"type\":\"scattergl\"},{\"hovertemplate\":\"company_name=Gaia Robotics<br>variable=Positive<br>year=%{x}<br>value=%{y}<extra></extra>\",\"legendgroup\":\"Gaia Robotics\",\"line\":{\"color\":\"#FECB52\",\"dash\":\"solid\"},\"marker\":{\"symbol\":\"circle\"},\"mode\":\"lines\",\"name\":\"Gaia Robotics\",\"showlegend\":true,\"x\":[2018],\"xaxis\":\"x\",\"y\":[0],\"yaxis\":\"y\",\"type\":\"scattergl\"},{\"hovertemplate\":\"company_name=Gaia Robotics<br>variable=Negative<br>year=%{x}<br>value=%{y}<extra></extra>\",\"legendgroup\":\"Gaia Robotics\",\"line\":{\"color\":\"#FECB52\",\"dash\":\"solid\"},\"marker\":{\"symbol\":\"circle\"},\"mode\":\"lines\",\"name\":\"Gaia Robotics\",\"showlegend\":false,\"x\":[2018],\"xaxis\":\"x\",\"y\":[0],\"yaxis\":\"y\",\"type\":\"scattergl\"},{\"hovertemplate\":\"company_name=Gaia Robotics<br>variable=Neutral<br>year=%{x}<br>value=%{y}<extra></extra>\",\"legendgroup\":\"Gaia Robotics\",\"line\":{\"color\":\"#FECB52\",\"dash\":\"solid\"},\"marker\":{\"symbol\":\"circle\"},\"mode\":\"lines\",\"name\":\"Gaia Robotics\",\"showlegend\":false,\"x\":[2018],\"xaxis\":\"x\",\"y\":[1],\"yaxis\":\"y\",\"type\":\"scattergl\"},{\"hovertemplate\":\"company_name=GeoInformatics<br>variable=Positive<br>year=%{x}<br>value=%{y}<extra></extra>\",\"legendgroup\":\"GeoInformatics\",\"line\":{\"color\":\"#636efa\",\"dash\":\"solid\"},\"marker\":{\"symbol\":\"circle\"},\"mode\":\"lines\",\"name\":\"GeoInformatics\",\"showlegend\":true,\"x\":[2017,2018,2019,2020,2021,2022,2023],\"xaxis\":\"x\",\"y\":[92,113,79,51,35,34,3],\"yaxis\":\"y\",\"type\":\"scattergl\"},{\"hovertemplate\":\"company_name=GeoInformatics<br>variable=Negative<br>year=%{x}<br>value=%{y}<extra></extra>\",\"legendgroup\":\"GeoInformatics\",\"line\":{\"color\":\"#636efa\",\"dash\":\"solid\"},\"marker\":{\"symbol\":\"circle\"},\"mode\":\"lines\",\"name\":\"GeoInformatics\",\"showlegend\":false,\"x\":[2017,2018,2019,2020,2021,2022,2023],\"xaxis\":\"x\",\"y\":[12,7,8,7,3,2,0],\"yaxis\":\"y\",\"type\":\"scattergl\"},{\"hovertemplate\":\"company_name=GeoInformatics<br>variable=Neutral<br>year=%{x}<br>value=%{y}<extra></extra>\",\"legendgroup\":\"GeoInformatics\",\"line\":{\"color\":\"#636efa\",\"dash\":\"solid\"},\"marker\":{\"symbol\":\"circle\"},\"mode\":\"lines\",\"name\":\"GeoInformatics\",\"showlegend\":false,\"x\":[2017,2018,2019,2020,2021,2022,2023],\"xaxis\":\"x\",\"y\":[304,297,188,158,56,69,14],\"yaxis\":\"y\",\"type\":\"scattergl\"},{\"hovertemplate\":\"company_name=Geomiso<br>variable=Positive<br>year=%{x}<br>value=%{y}<extra></extra>\",\"legendgroup\":\"Geomiso\",\"line\":{\"color\":\"#EF553B\",\"dash\":\"solid\"},\"marker\":{\"symbol\":\"circle\"},\"mode\":\"lines\",\"name\":\"Geomiso\",\"showlegend\":true,\"x\":[2017,2018,2019,2020,2021,2022],\"xaxis\":\"x\",\"y\":[23,25,8,0,0,0],\"yaxis\":\"y\",\"type\":\"scattergl\"},{\"hovertemplate\":\"company_name=Geomiso<br>variable=Negative<br>year=%{x}<br>value=%{y}<extra></extra>\",\"legendgroup\":\"Geomiso\",\"line\":{\"color\":\"#EF553B\",\"dash\":\"solid\"},\"marker\":{\"symbol\":\"circle\"},\"mode\":\"lines\",\"name\":\"Geomiso\",\"showlegend\":false,\"x\":[2017,2018,2019,2020,2021,2022],\"xaxis\":\"x\",\"y\":[0,4,0,0,0,0],\"yaxis\":\"y\",\"type\":\"scattergl\"},{\"hovertemplate\":\"company_name=Geomiso<br>variable=Neutral<br>year=%{x}<br>value=%{y}<extra></extra>\",\"legendgroup\":\"Geomiso\",\"line\":{\"color\":\"#EF553B\",\"dash\":\"solid\"},\"marker\":{\"symbol\":\"circle\"},\"mode\":\"lines\",\"name\":\"Geomiso\",\"showlegend\":false,\"x\":[2017,2018,2019,2020,2021,2022],\"xaxis\":\"x\",\"y\":[245,264,75,22,1,3],\"yaxis\":\"y\",\"type\":\"scattergl\"},{\"hovertemplate\":\"company_name=George Voulgaroudis<br>variable=Positive<br>year=%{x}<br>value=%{y}<extra></extra>\",\"legendgroup\":\"George Voulgaroudis\",\"line\":{\"color\":\"#00cc96\",\"dash\":\"solid\"},\"marker\":{\"symbol\":\"circle\"},\"mode\":\"lines\",\"name\":\"George Voulgaroudis\",\"showlegend\":true,\"x\":[2017,2018,2019,2020,2021],\"xaxis\":\"x\",\"y\":[171,98,58,42,15],\"yaxis\":\"y\",\"type\":\"scattergl\"},{\"hovertemplate\":\"company_name=George Voulgaroudis<br>variable=Negative<br>year=%{x}<br>value=%{y}<extra></extra>\",\"legendgroup\":\"George Voulgaroudis\",\"line\":{\"color\":\"#00cc96\",\"dash\":\"solid\"},\"marker\":{\"symbol\":\"circle\"},\"mode\":\"lines\",\"name\":\"George Voulgaroudis\",\"showlegend\":false,\"x\":[2017,2018,2019,2020,2021],\"xaxis\":\"x\",\"y\":[41,22,19,8,3],\"yaxis\":\"y\",\"type\":\"scattergl\"},{\"hovertemplate\":\"company_name=George Voulgaroudis<br>variable=Neutral<br>year=%{x}<br>value=%{y}<extra></extra>\",\"legendgroup\":\"George Voulgaroudis\",\"line\":{\"color\":\"#00cc96\",\"dash\":\"solid\"},\"marker\":{\"symbol\":\"circle\"},\"mode\":\"lines\",\"name\":\"George Voulgaroudis\",\"showlegend\":false,\"x\":[2017,2018,2019,2020,2021],\"xaxis\":\"x\",\"y\":[208,108,108,56,4],\"yaxis\":\"y\",\"type\":\"scattergl\"},{\"hovertemplate\":\"company_name=Gizelis Robotics<br>variable=Positive<br>year=%{x}<br>value=%{y}<extra></extra>\",\"legendgroup\":\"Gizelis Robotics\",\"line\":{\"color\":\"#ab63fa\",\"dash\":\"solid\"},\"marker\":{\"symbol\":\"circle\"},\"mode\":\"lines\",\"name\":\"Gizelis Robotics\",\"showlegend\":true,\"x\":[2017,2018,2019,2021,2022],\"xaxis\":\"x\",\"y\":[5,1,3,2,12],\"yaxis\":\"y\",\"type\":\"scattergl\"},{\"hovertemplate\":\"company_name=Gizelis Robotics<br>variable=Negative<br>year=%{x}<br>value=%{y}<extra></extra>\",\"legendgroup\":\"Gizelis Robotics\",\"line\":{\"color\":\"#ab63fa\",\"dash\":\"solid\"},\"marker\":{\"symbol\":\"circle\"},\"mode\":\"lines\",\"name\":\"Gizelis Robotics\",\"showlegend\":false,\"x\":[2017,2018,2019,2021,2022],\"xaxis\":\"x\",\"y\":[2,14,1,1,0],\"yaxis\":\"y\",\"type\":\"scattergl\"},{\"hovertemplate\":\"company_name=Gizelis Robotics<br>variable=Neutral<br>year=%{x}<br>value=%{y}<extra></extra>\",\"legendgroup\":\"Gizelis Robotics\",\"line\":{\"color\":\"#ab63fa\",\"dash\":\"solid\"},\"marker\":{\"symbol\":\"circle\"},\"mode\":\"lines\",\"name\":\"Gizelis Robotics\",\"showlegend\":false,\"x\":[2017,2018,2019,2021,2022],\"xaxis\":\"x\",\"y\":[8,28,6,6,17],\"yaxis\":\"y\",\"type\":\"scattergl\"},{\"hovertemplate\":\"company_name=Goodfairy<br>variable=Positive<br>year=%{x}<br>value=%{y}<extra></extra>\",\"legendgroup\":\"Goodfairy\",\"line\":{\"color\":\"#FFA15A\",\"dash\":\"solid\"},\"marker\":{\"symbol\":\"circle\"},\"mode\":\"lines\",\"name\":\"Goodfairy\",\"showlegend\":true,\"x\":[2022,2023],\"xaxis\":\"x\",\"y\":[1,2],\"yaxis\":\"y\",\"type\":\"scattergl\"},{\"hovertemplate\":\"company_name=Goodfairy<br>variable=Negative<br>year=%{x}<br>value=%{y}<extra></extra>\",\"legendgroup\":\"Goodfairy\",\"line\":{\"color\":\"#FFA15A\",\"dash\":\"solid\"},\"marker\":{\"symbol\":\"circle\"},\"mode\":\"lines\",\"name\":\"Goodfairy\",\"showlegend\":false,\"x\":[2022,2023],\"xaxis\":\"x\",\"y\":[0,0],\"yaxis\":\"y\",\"type\":\"scattergl\"},{\"hovertemplate\":\"company_name=Goodfairy<br>variable=Neutral<br>year=%{x}<br>value=%{y}<extra></extra>\",\"legendgroup\":\"Goodfairy\",\"line\":{\"color\":\"#FFA15A\",\"dash\":\"solid\"},\"marker\":{\"symbol\":\"circle\"},\"mode\":\"lines\",\"name\":\"Goodfairy\",\"showlegend\":false,\"x\":[2022,2023],\"xaxis\":\"x\",\"y\":[2,25],\"yaxis\":\"y\",\"type\":\"scattergl\"},{\"hovertemplate\":\"company_name=Greeking.me<br>variable=Positive<br>year=%{x}<br>value=%{y}<extra></extra>\",\"legendgroup\":\"Greeking.me\",\"line\":{\"color\":\"#19d3f3\",\"dash\":\"solid\"},\"marker\":{\"symbol\":\"circle\"},\"mode\":\"lines\",\"name\":\"Greeking.me\",\"showlegend\":true,\"x\":[2017,2018,2019,2020],\"xaxis\":\"x\",\"y\":[39,127,84,15],\"yaxis\":\"y\",\"type\":\"scattergl\"},{\"hovertemplate\":\"company_name=Greeking.me<br>variable=Negative<br>year=%{x}<br>value=%{y}<extra></extra>\",\"legendgroup\":\"Greeking.me\",\"line\":{\"color\":\"#19d3f3\",\"dash\":\"solid\"},\"marker\":{\"symbol\":\"circle\"},\"mode\":\"lines\",\"name\":\"Greeking.me\",\"showlegend\":false,\"x\":[2017,2018,2019,2020],\"xaxis\":\"x\",\"y\":[0,13,5,1],\"yaxis\":\"y\",\"type\":\"scattergl\"},{\"hovertemplate\":\"company_name=Greeking.me<br>variable=Neutral<br>year=%{x}<br>value=%{y}<extra></extra>\",\"legendgroup\":\"Greeking.me\",\"line\":{\"color\":\"#19d3f3\",\"dash\":\"solid\"},\"marker\":{\"symbol\":\"circle\"},\"mode\":\"lines\",\"name\":\"Greeking.me\",\"showlegend\":false,\"x\":[2017,2018,2019,2020],\"xaxis\":\"x\",\"y\":[44,32,9,3],\"yaxis\":\"y\",\"type\":\"scattergl\"},{\"hovertemplate\":\"company_name=HERADO \\u00ce\\u00a4omorrow's \\u00ce\\u00a4echnology for \\u00ce\\u00a4oday.<br>variable=Positive<br>year=%{x}<br>value=%{y}<extra></extra>\",\"legendgroup\":\"HERADO \\u00ce\\u00a4omorrow's \\u00ce\\u00a4echnology for \\u00ce\\u00a4oday.\",\"line\":{\"color\":\"#FF6692\",\"dash\":\"solid\"},\"marker\":{\"symbol\":\"circle\"},\"mode\":\"lines\",\"name\":\"HERADO \\u00ce\\u00a4omorrow's \\u00ce\\u00a4echnology for \\u00ce\\u00a4oday.\",\"showlegend\":true,\"x\":[2021,2022],\"xaxis\":\"x\",\"y\":[2,1],\"yaxis\":\"y\",\"type\":\"scattergl\"},{\"hovertemplate\":\"company_name=HERADO \\u00ce\\u00a4omorrow's \\u00ce\\u00a4echnology for \\u00ce\\u00a4oday.<br>variable=Negative<br>year=%{x}<br>value=%{y}<extra></extra>\",\"legendgroup\":\"HERADO \\u00ce\\u00a4omorrow's \\u00ce\\u00a4echnology for \\u00ce\\u00a4oday.\",\"line\":{\"color\":\"#FF6692\",\"dash\":\"solid\"},\"marker\":{\"symbol\":\"circle\"},\"mode\":\"lines\",\"name\":\"HERADO \\u00ce\\u00a4omorrow's \\u00ce\\u00a4echnology for \\u00ce\\u00a4oday.\",\"showlegend\":false,\"x\":[2021,2022],\"xaxis\":\"x\",\"y\":[1,0],\"yaxis\":\"y\",\"type\":\"scattergl\"},{\"hovertemplate\":\"company_name=HERADO \\u00ce\\u00a4omorrow's \\u00ce\\u00a4echnology for \\u00ce\\u00a4oday.<br>variable=Neutral<br>year=%{x}<br>value=%{y}<extra></extra>\",\"legendgroup\":\"HERADO \\u00ce\\u00a4omorrow's \\u00ce\\u00a4echnology for \\u00ce\\u00a4oday.\",\"line\":{\"color\":\"#FF6692\",\"dash\":\"solid\"},\"marker\":{\"symbol\":\"circle\"},\"mode\":\"lines\",\"name\":\"HERADO \\u00ce\\u00a4omorrow's \\u00ce\\u00a4echnology for \\u00ce\\u00a4oday.\",\"showlegend\":false,\"x\":[2021,2022],\"xaxis\":\"x\",\"y\":[1,0],\"yaxis\":\"y\",\"type\":\"scattergl\"},{\"hovertemplate\":\"company_name=HOLISTIC<br>variable=Positive<br>year=%{x}<br>value=%{y}<extra></extra>\",\"legendgroup\":\"HOLISTIC\",\"line\":{\"color\":\"#B6E880\",\"dash\":\"solid\"},\"marker\":{\"symbol\":\"circle\"},\"mode\":\"lines\",\"name\":\"HOLISTIC\",\"showlegend\":true,\"x\":[2017,2018,2019,2020,2021,2022,2023],\"xaxis\":\"x\",\"y\":[0,1,0,0,6,7,1],\"yaxis\":\"y\",\"type\":\"scattergl\"},{\"hovertemplate\":\"company_name=HOLISTIC<br>variable=Negative<br>year=%{x}<br>value=%{y}<extra></extra>\",\"legendgroup\":\"HOLISTIC\",\"line\":{\"color\":\"#B6E880\",\"dash\":\"solid\"},\"marker\":{\"symbol\":\"circle\"},\"mode\":\"lines\",\"name\":\"HOLISTIC\",\"showlegend\":false,\"x\":[2017,2018,2019,2020,2021,2022,2023],\"xaxis\":\"x\",\"y\":[0,0,0,0,2,0,0],\"yaxis\":\"y\",\"type\":\"scattergl\"},{\"hovertemplate\":\"company_name=HOLISTIC<br>variable=Neutral<br>year=%{x}<br>value=%{y}<extra></extra>\",\"legendgroup\":\"HOLISTIC\",\"line\":{\"color\":\"#B6E880\",\"dash\":\"solid\"},\"marker\":{\"symbol\":\"circle\"},\"mode\":\"lines\",\"name\":\"HOLISTIC\",\"showlegend\":false,\"x\":[2017,2018,2019,2020,2021,2022,2023],\"xaxis\":\"x\",\"y\":[1,0,1,1,6,10,0],\"yaxis\":\"y\",\"type\":\"scattergl\"},{\"hovertemplate\":\"company_name=HYGIEIA Scientific Research & Educational Cluster<br>variable=Positive<br>year=%{x}<br>value=%{y}<extra></extra>\",\"legendgroup\":\"HYGIEIA Scientific Research & Educational Cluster\",\"line\":{\"color\":\"#FF97FF\",\"dash\":\"solid\"},\"marker\":{\"symbol\":\"circle\"},\"mode\":\"lines\",\"name\":\"HYGIEIA Scientific Research & Educational Cluster\",\"showlegend\":true,\"x\":[2019,2021,2022,2023],\"xaxis\":\"x\",\"y\":[0,0,1,5],\"yaxis\":\"y\",\"type\":\"scattergl\"},{\"hovertemplate\":\"company_name=HYGIEIA Scientific Research & Educational Cluster<br>variable=Negative<br>year=%{x}<br>value=%{y}<extra></extra>\",\"legendgroup\":\"HYGIEIA Scientific Research & Educational Cluster\",\"line\":{\"color\":\"#FF97FF\",\"dash\":\"solid\"},\"marker\":{\"symbol\":\"circle\"},\"mode\":\"lines\",\"name\":\"HYGIEIA Scientific Research & Educational Cluster\",\"showlegend\":false,\"x\":[2019,2021,2022,2023],\"xaxis\":\"x\",\"y\":[0,0,1,0],\"yaxis\":\"y\",\"type\":\"scattergl\"},{\"hovertemplate\":\"company_name=HYGIEIA Scientific Research & Educational Cluster<br>variable=Neutral<br>year=%{x}<br>value=%{y}<extra></extra>\",\"legendgroup\":\"HYGIEIA Scientific Research & Educational Cluster\",\"line\":{\"color\":\"#FF97FF\",\"dash\":\"solid\"},\"marker\":{\"symbol\":\"circle\"},\"mode\":\"lines\",\"name\":\"HYGIEIA Scientific Research & Educational Cluster\",\"showlegend\":false,\"x\":[2019,2021,2022,2023],\"xaxis\":\"x\",\"y\":[20,14,1,0],\"yaxis\":\"y\",\"type\":\"scattergl\"},{\"hovertemplate\":\"company_name=Hack The Box<br>variable=Positive<br>year=%{x}<br>value=%{y}<extra></extra>\",\"legendgroup\":\"Hack The Box\",\"line\":{\"color\":\"#FECB52\",\"dash\":\"solid\"},\"marker\":{\"symbol\":\"circle\"},\"mode\":\"lines\",\"name\":\"Hack The Box\",\"showlegend\":true,\"x\":[2017,2018,2019,2020,2021,2022,2023],\"xaxis\":\"x\",\"y\":[57,90,153,376,528,628,158],\"yaxis\":\"y\",\"type\":\"scattergl\"},{\"hovertemplate\":\"company_name=Hack The Box<br>variable=Negative<br>year=%{x}<br>value=%{y}<extra></extra>\",\"legendgroup\":\"Hack The Box\",\"line\":{\"color\":\"#FECB52\",\"dash\":\"solid\"},\"marker\":{\"symbol\":\"circle\"},\"mode\":\"lines\",\"name\":\"Hack The Box\",\"showlegend\":false,\"x\":[2017,2018,2019,2020,2021,2022,2023],\"xaxis\":\"x\",\"y\":[18,16,11,43,51,83,14],\"yaxis\":\"y\",\"type\":\"scattergl\"},{\"hovertemplate\":\"company_name=Hack The Box<br>variable=Neutral<br>year=%{x}<br>value=%{y}<extra></extra>\",\"legendgroup\":\"Hack The Box\",\"line\":{\"color\":\"#FECB52\",\"dash\":\"solid\"},\"marker\":{\"symbol\":\"circle\"},\"mode\":\"lines\",\"name\":\"Hack The Box\",\"showlegend\":false,\"x\":[2017,2018,2019,2020,2021,2022,2023],\"xaxis\":\"x\",\"y\":[61,64,67,173,534,612,68],\"yaxis\":\"y\",\"type\":\"scattergl\"},{\"hovertemplate\":\"company_name=Hellenic Drones<br>variable=Positive<br>year=%{x}<br>value=%{y}<extra></extra>\",\"legendgroup\":\"Hellenic Drones\",\"line\":{\"color\":\"#636efa\",\"dash\":\"solid\"},\"marker\":{\"symbol\":\"circle\"},\"mode\":\"lines\",\"name\":\"Hellenic Drones\",\"showlegend\":true,\"x\":[2017,2018,2019,2020,2021],\"xaxis\":\"x\",\"y\":[3,1,0,2,0],\"yaxis\":\"y\",\"type\":\"scattergl\"},{\"hovertemplate\":\"company_name=Hellenic Drones<br>variable=Negative<br>year=%{x}<br>value=%{y}<extra></extra>\",\"legendgroup\":\"Hellenic Drones\",\"line\":{\"color\":\"#636efa\",\"dash\":\"solid\"},\"marker\":{\"symbol\":\"circle\"},\"mode\":\"lines\",\"name\":\"Hellenic Drones\",\"showlegend\":false,\"x\":[2017,2018,2019,2020,2021],\"xaxis\":\"x\",\"y\":[1,1,0,0,0],\"yaxis\":\"y\",\"type\":\"scattergl\"},{\"hovertemplate\":\"company_name=Hellenic Drones<br>variable=Neutral<br>year=%{x}<br>value=%{y}<extra></extra>\",\"legendgroup\":\"Hellenic Drones\",\"line\":{\"color\":\"#636efa\",\"dash\":\"solid\"},\"marker\":{\"symbol\":\"circle\"},\"mode\":\"lines\",\"name\":\"Hellenic Drones\",\"showlegend\":false,\"x\":[2017,2018,2019,2020,2021],\"xaxis\":\"x\",\"y\":[16,6,5,21,8],\"yaxis\":\"y\",\"type\":\"scattergl\"},{\"hovertemplate\":\"company_name=Hidden Tower Studios<br>variable=Positive<br>year=%{x}<br>value=%{y}<extra></extra>\",\"legendgroup\":\"Hidden Tower Studios\",\"line\":{\"color\":\"#EF553B\",\"dash\":\"solid\"},\"marker\":{\"symbol\":\"circle\"},\"mode\":\"lines\",\"name\":\"Hidden Tower Studios\",\"showlegend\":true,\"x\":[2017,2018,2019,2020,2021,2022,2023],\"xaxis\":\"x\",\"y\":[13,0,8,18,72,32,1],\"yaxis\":\"y\",\"type\":\"scattergl\"},{\"hovertemplate\":\"company_name=Hidden Tower Studios<br>variable=Negative<br>year=%{x}<br>value=%{y}<extra></extra>\",\"legendgroup\":\"Hidden Tower Studios\",\"line\":{\"color\":\"#EF553B\",\"dash\":\"solid\"},\"marker\":{\"symbol\":\"circle\"},\"mode\":\"lines\",\"name\":\"Hidden Tower Studios\",\"showlegend\":false,\"x\":[2017,2018,2019,2020,2021,2022,2023],\"xaxis\":\"x\",\"y\":[0,0,2,4,10,4,1],\"yaxis\":\"y\",\"type\":\"scattergl\"},{\"hovertemplate\":\"company_name=Hidden Tower Studios<br>variable=Neutral<br>year=%{x}<br>value=%{y}<extra></extra>\",\"legendgroup\":\"Hidden Tower Studios\",\"line\":{\"color\":\"#EF553B\",\"dash\":\"solid\"},\"marker\":{\"symbol\":\"circle\"},\"mode\":\"lines\",\"name\":\"Hidden Tower Studios\",\"showlegend\":false,\"x\":[2017,2018,2019,2020,2021,2022,2023],\"xaxis\":\"x\",\"y\":[5,2,13,22,32,19,0],\"yaxis\":\"y\",\"type\":\"scattergl\"},{\"hovertemplate\":\"company_name=HomExpression.co.uk<br>variable=Positive<br>year=%{x}<br>value=%{y}<extra></extra>\",\"legendgroup\":\"HomExpression.co.uk\",\"line\":{\"color\":\"#00cc96\",\"dash\":\"solid\"},\"marker\":{\"symbol\":\"circle\"},\"mode\":\"lines\",\"name\":\"HomExpression.co.uk\",\"showlegend\":true,\"x\":[2021,2022],\"xaxis\":\"x\",\"y\":[34,22],\"yaxis\":\"y\",\"type\":\"scattergl\"},{\"hovertemplate\":\"company_name=HomExpression.co.uk<br>variable=Negative<br>year=%{x}<br>value=%{y}<extra></extra>\",\"legendgroup\":\"HomExpression.co.uk\",\"line\":{\"color\":\"#00cc96\",\"dash\":\"solid\"},\"marker\":{\"symbol\":\"circle\"},\"mode\":\"lines\",\"name\":\"HomExpression.co.uk\",\"showlegend\":false,\"x\":[2021,2022],\"xaxis\":\"x\",\"y\":[10,10],\"yaxis\":\"y\",\"type\":\"scattergl\"},{\"hovertemplate\":\"company_name=HomExpression.co.uk<br>variable=Neutral<br>year=%{x}<br>value=%{y}<extra></extra>\",\"legendgroup\":\"HomExpression.co.uk\",\"line\":{\"color\":\"#00cc96\",\"dash\":\"solid\"},\"marker\":{\"symbol\":\"circle\"},\"mode\":\"lines\",\"name\":\"HomExpression.co.uk\",\"showlegend\":false,\"x\":[2021,2022],\"xaxis\":\"x\",\"y\":[56,46],\"yaxis\":\"y\",\"type\":\"scattergl\"},{\"hovertemplate\":\"company_name=Homi<br>variable=Positive<br>year=%{x}<br>value=%{y}<extra></extra>\",\"legendgroup\":\"Homi\",\"line\":{\"color\":\"#ab63fa\",\"dash\":\"solid\"},\"marker\":{\"symbol\":\"circle\"},\"mode\":\"lines\",\"name\":\"Homi\",\"showlegend\":true,\"x\":[2017,2018,2019,2020],\"xaxis\":\"x\",\"y\":[3,0,0,1],\"yaxis\":\"y\",\"type\":\"scattergl\"},{\"hovertemplate\":\"company_name=Homi<br>variable=Negative<br>year=%{x}<br>value=%{y}<extra></extra>\",\"legendgroup\":\"Homi\",\"line\":{\"color\":\"#ab63fa\",\"dash\":\"solid\"},\"marker\":{\"symbol\":\"circle\"},\"mode\":\"lines\",\"name\":\"Homi\",\"showlegend\":false,\"x\":[2017,2018,2019,2020],\"xaxis\":\"x\",\"y\":[1,1,0,0],\"yaxis\":\"y\",\"type\":\"scattergl\"},{\"hovertemplate\":\"company_name=Homi<br>variable=Neutral<br>year=%{x}<br>value=%{y}<extra></extra>\",\"legendgroup\":\"Homi\",\"line\":{\"color\":\"#ab63fa\",\"dash\":\"solid\"},\"marker\":{\"symbol\":\"circle\"},\"mode\":\"lines\",\"name\":\"Homi\",\"showlegend\":false,\"x\":[2017,2018,2019,2020],\"xaxis\":\"x\",\"y\":[2,3,1,0],\"yaxis\":\"y\",\"type\":\"scattergl\"},{\"hovertemplate\":\"company_name=Hosthub<br>variable=Positive<br>year=%{x}<br>value=%{y}<extra></extra>\",\"legendgroup\":\"Hosthub\",\"line\":{\"color\":\"#FFA15A\",\"dash\":\"solid\"},\"marker\":{\"symbol\":\"circle\"},\"mode\":\"lines\",\"name\":\"Hosthub\",\"showlegend\":true,\"x\":[2017,2018,2019,2020,2021,2022,2023],\"xaxis\":\"x\",\"y\":[1,43,21,23,42,38,15],\"yaxis\":\"y\",\"type\":\"scattergl\"},{\"hovertemplate\":\"company_name=Hosthub<br>variable=Negative<br>year=%{x}<br>value=%{y}<extra></extra>\",\"legendgroup\":\"Hosthub\",\"line\":{\"color\":\"#FFA15A\",\"dash\":\"solid\"},\"marker\":{\"symbol\":\"circle\"},\"mode\":\"lines\",\"name\":\"Hosthub\",\"showlegend\":false,\"x\":[2017,2018,2019,2020,2021,2022,2023],\"xaxis\":\"x\",\"y\":[0,4,2,6,3,5,4],\"yaxis\":\"y\",\"type\":\"scattergl\"},{\"hovertemplate\":\"company_name=Hosthub<br>variable=Neutral<br>year=%{x}<br>value=%{y}<extra></extra>\",\"legendgroup\":\"Hosthub\",\"line\":{\"color\":\"#FFA15A\",\"dash\":\"solid\"},\"marker\":{\"symbol\":\"circle\"},\"mode\":\"lines\",\"name\":\"Hosthub\",\"showlegend\":false,\"x\":[2017,2018,2019,2020,2021,2022,2023],\"xaxis\":\"x\",\"y\":[3,36,20,8,15,6,4],\"yaxis\":\"y\",\"type\":\"scattergl\"},{\"hovertemplate\":\"company_name=INEM Technologies P.C.<br>variable=Positive<br>year=%{x}<br>value=%{y}<extra></extra>\",\"legendgroup\":\"INEM Technologies P.C.\",\"line\":{\"color\":\"#19d3f3\",\"dash\":\"solid\"},\"marker\":{\"symbol\":\"circle\"},\"mode\":\"lines\",\"name\":\"INEM Technologies P.C.\",\"showlegend\":true,\"x\":[2021],\"xaxis\":\"x\",\"y\":[1],\"yaxis\":\"y\",\"type\":\"scattergl\"},{\"hovertemplate\":\"company_name=INEM Technologies P.C.<br>variable=Negative<br>year=%{x}<br>value=%{y}<extra></extra>\",\"legendgroup\":\"INEM Technologies P.C.\",\"line\":{\"color\":\"#19d3f3\",\"dash\":\"solid\"},\"marker\":{\"symbol\":\"circle\"},\"mode\":\"lines\",\"name\":\"INEM Technologies P.C.\",\"showlegend\":false,\"x\":[2021],\"xaxis\":\"x\",\"y\":[0],\"yaxis\":\"y\",\"type\":\"scattergl\"},{\"hovertemplate\":\"company_name=INEM Technologies P.C.<br>variable=Neutral<br>year=%{x}<br>value=%{y}<extra></extra>\",\"legendgroup\":\"INEM Technologies P.C.\",\"line\":{\"color\":\"#19d3f3\",\"dash\":\"solid\"},\"marker\":{\"symbol\":\"circle\"},\"mode\":\"lines\",\"name\":\"INEM Technologies P.C.\",\"showlegend\":false,\"x\":[2021],\"xaxis\":\"x\",\"y\":[0],\"yaxis\":\"y\",\"type\":\"scattergl\"},{\"hovertemplate\":\"company_name=Ideas Forward<br>variable=Positive<br>year=%{x}<br>value=%{y}<extra></extra>\",\"legendgroup\":\"Ideas Forward\",\"line\":{\"color\":\"#FF6692\",\"dash\":\"solid\"},\"marker\":{\"symbol\":\"circle\"},\"mode\":\"lines\",\"name\":\"Ideas Forward\",\"showlegend\":true,\"x\":[2022],\"xaxis\":\"x\",\"y\":[1],\"yaxis\":\"y\",\"type\":\"scattergl\"},{\"hovertemplate\":\"company_name=Ideas Forward<br>variable=Negative<br>year=%{x}<br>value=%{y}<extra></extra>\",\"legendgroup\":\"Ideas Forward\",\"line\":{\"color\":\"#FF6692\",\"dash\":\"solid\"},\"marker\":{\"symbol\":\"circle\"},\"mode\":\"lines\",\"name\":\"Ideas Forward\",\"showlegend\":false,\"x\":[2022],\"xaxis\":\"x\",\"y\":[0],\"yaxis\":\"y\",\"type\":\"scattergl\"},{\"hovertemplate\":\"company_name=Ideas Forward<br>variable=Neutral<br>year=%{x}<br>value=%{y}<extra></extra>\",\"legendgroup\":\"Ideas Forward\",\"line\":{\"color\":\"#FF6692\",\"dash\":\"solid\"},\"marker\":{\"symbol\":\"circle\"},\"mode\":\"lines\",\"name\":\"Ideas Forward\",\"showlegend\":false,\"x\":[2022],\"xaxis\":\"x\",\"y\":[1],\"yaxis\":\"y\",\"type\":\"scattergl\"},{\"hovertemplate\":\"company_name=Incotech.gr<br>variable=Positive<br>year=%{x}<br>value=%{y}<extra></extra>\",\"legendgroup\":\"Incotech.gr\",\"line\":{\"color\":\"#B6E880\",\"dash\":\"solid\"},\"marker\":{\"symbol\":\"circle\"},\"mode\":\"lines\",\"name\":\"Incotech.gr\",\"showlegend\":true,\"x\":[2017,2019,2020,2021],\"xaxis\":\"x\",\"y\":[2,0,0,0],\"yaxis\":\"y\",\"type\":\"scattergl\"},{\"hovertemplate\":\"company_name=Incotech.gr<br>variable=Negative<br>year=%{x}<br>value=%{y}<extra></extra>\",\"legendgroup\":\"Incotech.gr\",\"line\":{\"color\":\"#B6E880\",\"dash\":\"solid\"},\"marker\":{\"symbol\":\"circle\"},\"mode\":\"lines\",\"name\":\"Incotech.gr\",\"showlegend\":false,\"x\":[2017,2019,2020,2021],\"xaxis\":\"x\",\"y\":[0,0,0,0],\"yaxis\":\"y\",\"type\":\"scattergl\"},{\"hovertemplate\":\"company_name=Incotech.gr<br>variable=Neutral<br>year=%{x}<br>value=%{y}<extra></extra>\",\"legendgroup\":\"Incotech.gr\",\"line\":{\"color\":\"#B6E880\",\"dash\":\"solid\"},\"marker\":{\"symbol\":\"circle\"},\"mode\":\"lines\",\"name\":\"Incotech.gr\",\"showlegend\":false,\"x\":[2017,2019,2020,2021],\"xaxis\":\"x\",\"y\":[1,2,1,2],\"yaxis\":\"y\",\"type\":\"scattergl\"},{\"hovertemplate\":\"company_name=Instacart<br>variable=Positive<br>year=%{x}<br>value=%{y}<extra></extra>\",\"legendgroup\":\"Instacart\",\"line\":{\"color\":\"#FF97FF\",\"dash\":\"solid\"},\"marker\":{\"symbol\":\"circle\"},\"mode\":\"lines\",\"name\":\"Instacart\",\"showlegend\":true,\"x\":[2017,2018,2019,2020,2021,2022,2023],\"xaxis\":\"x\",\"y\":[7829,4058,4188,7499,24257,25417,3372],\"yaxis\":\"y\",\"type\":\"scattergl\"},{\"hovertemplate\":\"company_name=Instacart<br>variable=Negative<br>year=%{x}<br>value=%{y}<extra></extra>\",\"legendgroup\":\"Instacart\",\"line\":{\"color\":\"#FF97FF\",\"dash\":\"solid\"},\"marker\":{\"symbol\":\"circle\"},\"mode\":\"lines\",\"name\":\"Instacart\",\"showlegend\":false,\"x\":[2017,2018,2019,2020,2021,2022,2023],\"xaxis\":\"x\",\"y\":[1700,1838,1009,741,1444,1731,194],\"yaxis\":\"y\",\"type\":\"scattergl\"},{\"hovertemplate\":\"company_name=Instacart<br>variable=Neutral<br>year=%{x}<br>value=%{y}<extra></extra>\",\"legendgroup\":\"Instacart\",\"line\":{\"color\":\"#FF97FF\",\"dash\":\"solid\"},\"marker\":{\"symbol\":\"circle\"},\"mode\":\"lines\",\"name\":\"Instacart\",\"showlegend\":false,\"x\":[2017,2018,2019,2020,2021,2022,2023],\"xaxis\":\"x\",\"y\":[1944,1502,1563,2809,15095,16071,2127],\"yaxis\":\"y\",\"type\":\"scattergl\"},{\"hovertemplate\":\"company_name=Intelistyle<br>variable=Positive<br>year=%{x}<br>value=%{y}<extra></extra>\",\"legendgroup\":\"Intelistyle\",\"line\":{\"color\":\"#FECB52\",\"dash\":\"solid\"},\"marker\":{\"symbol\":\"circle\"},\"mode\":\"lines\",\"name\":\"Intelistyle\",\"showlegend\":true,\"x\":[2017,2018,2019,2020,2022,2023],\"xaxis\":\"x\",\"y\":[23,82,13,9,4,5],\"yaxis\":\"y\",\"type\":\"scattergl\"},{\"hovertemplate\":\"company_name=Intelistyle<br>variable=Negative<br>year=%{x}<br>value=%{y}<extra></extra>\",\"legendgroup\":\"Intelistyle\",\"line\":{\"color\":\"#FECB52\",\"dash\":\"solid\"},\"marker\":{\"symbol\":\"circle\"},\"mode\":\"lines\",\"name\":\"Intelistyle\",\"showlegend\":false,\"x\":[2017,2018,2019,2020,2022,2023],\"xaxis\":\"x\",\"y\":[5,14,0,1,0,0],\"yaxis\":\"y\",\"type\":\"scattergl\"},{\"hovertemplate\":\"company_name=Intelistyle<br>variable=Neutral<br>year=%{x}<br>value=%{y}<extra></extra>\",\"legendgroup\":\"Intelistyle\",\"line\":{\"color\":\"#FECB52\",\"dash\":\"solid\"},\"marker\":{\"symbol\":\"circle\"},\"mode\":\"lines\",\"name\":\"Intelistyle\",\"showlegend\":false,\"x\":[2017,2018,2019,2020,2022,2023],\"xaxis\":\"x\",\"y\":[12,29,9,1,1,0],\"yaxis\":\"y\",\"type\":\"scattergl\"},{\"hovertemplate\":\"company_name=Intelligencia Co<br>variable=Positive<br>year=%{x}<br>value=%{y}<extra></extra>\",\"legendgroup\":\"Intelligencia Co\",\"line\":{\"color\":\"#636efa\",\"dash\":\"solid\"},\"marker\":{\"symbol\":\"circle\"},\"mode\":\"lines\",\"name\":\"Intelligencia Co\",\"showlegend\":true,\"x\":[2018,2019,2020,2022],\"xaxis\":\"x\",\"y\":[4,1,5,1],\"yaxis\":\"y\",\"type\":\"scattergl\"},{\"hovertemplate\":\"company_name=Intelligencia Co<br>variable=Negative<br>year=%{x}<br>value=%{y}<extra></extra>\",\"legendgroup\":\"Intelligencia Co\",\"line\":{\"color\":\"#636efa\",\"dash\":\"solid\"},\"marker\":{\"symbol\":\"circle\"},\"mode\":\"lines\",\"name\":\"Intelligencia Co\",\"showlegend\":false,\"x\":[2018,2019,2020,2022],\"xaxis\":\"x\",\"y\":[1,0,1,2],\"yaxis\":\"y\",\"type\":\"scattergl\"},{\"hovertemplate\":\"company_name=Intelligencia Co<br>variable=Neutral<br>year=%{x}<br>value=%{y}<extra></extra>\",\"legendgroup\":\"Intelligencia Co\",\"line\":{\"color\":\"#636efa\",\"dash\":\"solid\"},\"marker\":{\"symbol\":\"circle\"},\"mode\":\"lines\",\"name\":\"Intelligencia Co\",\"showlegend\":false,\"x\":[2018,2019,2020,2022],\"xaxis\":\"x\",\"y\":[4,3,8,4],\"yaxis\":\"y\",\"type\":\"scattergl\"},{\"hovertemplate\":\"company_name=Intoolab<br>variable=Positive<br>year=%{x}<br>value=%{y}<extra></extra>\",\"legendgroup\":\"Intoolab\",\"line\":{\"color\":\"#EF553B\",\"dash\":\"solid\"},\"marker\":{\"symbol\":\"circle\"},\"mode\":\"lines\",\"name\":\"Intoolab\",\"showlegend\":true,\"x\":[2017,2018,2019,2020,2021,2022],\"xaxis\":\"x\",\"y\":[11,16,4,5,11,4],\"yaxis\":\"y\",\"type\":\"scattergl\"},{\"hovertemplate\":\"company_name=Intoolab<br>variable=Negative<br>year=%{x}<br>value=%{y}<extra></extra>\",\"legendgroup\":\"Intoolab\",\"line\":{\"color\":\"#EF553B\",\"dash\":\"solid\"},\"marker\":{\"symbol\":\"circle\"},\"mode\":\"lines\",\"name\":\"Intoolab\",\"showlegend\":false,\"x\":[2017,2018,2019,2020,2021,2022],\"xaxis\":\"x\",\"y\":[1,6,2,1,2,1],\"yaxis\":\"y\",\"type\":\"scattergl\"},{\"hovertemplate\":\"company_name=Intoolab<br>variable=Neutral<br>year=%{x}<br>value=%{y}<extra></extra>\",\"legendgroup\":\"Intoolab\",\"line\":{\"color\":\"#EF553B\",\"dash\":\"solid\"},\"marker\":{\"symbol\":\"circle\"},\"mode\":\"lines\",\"name\":\"Intoolab\",\"showlegend\":false,\"x\":[2017,2018,2019,2020,2021,2022],\"xaxis\":\"x\",\"y\":[24,19,1,3,3,1],\"yaxis\":\"y\",\"type\":\"scattergl\"},{\"hovertemplate\":\"company_name=JADBio<br>variable=Positive<br>year=%{x}<br>value=%{y}<extra></extra>\",\"legendgroup\":\"JADBio\",\"line\":{\"color\":\"#00cc96\",\"dash\":\"solid\"},\"marker\":{\"symbol\":\"circle\"},\"mode\":\"lines\",\"name\":\"JADBio\",\"showlegend\":true,\"x\":[2020,2021,2022,2023],\"xaxis\":\"x\",\"y\":[107,347,302,104],\"yaxis\":\"y\",\"type\":\"scattergl\"},{\"hovertemplate\":\"company_name=JADBio<br>variable=Negative<br>year=%{x}<br>value=%{y}<extra></extra>\",\"legendgroup\":\"JADBio\",\"line\":{\"color\":\"#00cc96\",\"dash\":\"solid\"},\"marker\":{\"symbol\":\"circle\"},\"mode\":\"lines\",\"name\":\"JADBio\",\"showlegend\":false,\"x\":[2020,2021,2022,2023],\"xaxis\":\"x\",\"y\":[14,32,27,4],\"yaxis\":\"y\",\"type\":\"scattergl\"},{\"hovertemplate\":\"company_name=JADBio<br>variable=Neutral<br>year=%{x}<br>value=%{y}<extra></extra>\",\"legendgroup\":\"JADBio\",\"line\":{\"color\":\"#00cc96\",\"dash\":\"solid\"},\"marker\":{\"symbol\":\"circle\"},\"mode\":\"lines\",\"name\":\"JADBio\",\"showlegend\":false,\"x\":[2020,2021,2022,2023],\"xaxis\":\"x\",\"y\":[32,196,207,45],\"yaxis\":\"y\",\"type\":\"scattergl\"},{\"hovertemplate\":\"company_name=Kiklo.eu<br>variable=Positive<br>year=%{x}<br>value=%{y}<extra></extra>\",\"legendgroup\":\"Kiklo.eu\",\"line\":{\"color\":\"#ab63fa\",\"dash\":\"solid\"},\"marker\":{\"symbol\":\"circle\"},\"mode\":\"lines\",\"name\":\"Kiklo.eu\",\"showlegend\":true,\"x\":[2023],\"xaxis\":\"x\",\"y\":[1],\"yaxis\":\"y\",\"type\":\"scattergl\"},{\"hovertemplate\":\"company_name=Kiklo.eu<br>variable=Negative<br>year=%{x}<br>value=%{y}<extra></extra>\",\"legendgroup\":\"Kiklo.eu\",\"line\":{\"color\":\"#ab63fa\",\"dash\":\"solid\"},\"marker\":{\"symbol\":\"circle\"},\"mode\":\"lines\",\"name\":\"Kiklo.eu\",\"showlegend\":false,\"x\":[2023],\"xaxis\":\"x\",\"y\":[0],\"yaxis\":\"y\",\"type\":\"scattergl\"},{\"hovertemplate\":\"company_name=Kiklo.eu<br>variable=Neutral<br>year=%{x}<br>value=%{y}<extra></extra>\",\"legendgroup\":\"Kiklo.eu\",\"line\":{\"color\":\"#ab63fa\",\"dash\":\"solid\"},\"marker\":{\"symbol\":\"circle\"},\"mode\":\"lines\",\"name\":\"Kiklo.eu\",\"showlegend\":false,\"x\":[2023],\"xaxis\":\"x\",\"y\":[0],\"yaxis\":\"y\",\"type\":\"scattergl\"},{\"hovertemplate\":\"company_name=Kineo<br>variable=Positive<br>year=%{x}<br>value=%{y}<extra></extra>\",\"legendgroup\":\"Kineo\",\"line\":{\"color\":\"#FFA15A\",\"dash\":\"solid\"},\"marker\":{\"symbol\":\"circle\"},\"mode\":\"lines\",\"name\":\"Kineo\",\"showlegend\":true,\"x\":[2021,2022,2023],\"xaxis\":\"x\",\"y\":[18,3,1],\"yaxis\":\"y\",\"type\":\"scattergl\"},{\"hovertemplate\":\"company_name=Kineo<br>variable=Negative<br>year=%{x}<br>value=%{y}<extra></extra>\",\"legendgroup\":\"Kineo\",\"line\":{\"color\":\"#FFA15A\",\"dash\":\"solid\"},\"marker\":{\"symbol\":\"circle\"},\"mode\":\"lines\",\"name\":\"Kineo\",\"showlegend\":false,\"x\":[2021,2022,2023],\"xaxis\":\"x\",\"y\":[3,1,0],\"yaxis\":\"y\",\"type\":\"scattergl\"},{\"hovertemplate\":\"company_name=Kineo<br>variable=Neutral<br>year=%{x}<br>value=%{y}<extra></extra>\",\"legendgroup\":\"Kineo\",\"line\":{\"color\":\"#FFA15A\",\"dash\":\"solid\"},\"marker\":{\"symbol\":\"circle\"},\"mode\":\"lines\",\"name\":\"Kineo\",\"showlegend\":false,\"x\":[2021,2022,2023],\"xaxis\":\"x\",\"y\":[61,36,5],\"yaxis\":\"y\",\"type\":\"scattergl\"},{\"hovertemplate\":\"company_name=Kivo Skiathos Collection<br>variable=Positive<br>year=%{x}<br>value=%{y}<extra></extra>\",\"legendgroup\":\"Kivo Skiathos Collection\",\"line\":{\"color\":\"#19d3f3\",\"dash\":\"solid\"},\"marker\":{\"symbol\":\"circle\"},\"mode\":\"lines\",\"name\":\"Kivo Skiathos Collection\",\"showlegend\":true,\"x\":[2017],\"xaxis\":\"x\",\"y\":[0],\"yaxis\":\"y\",\"type\":\"scattergl\"},{\"hovertemplate\":\"company_name=Kivo Skiathos Collection<br>variable=Negative<br>year=%{x}<br>value=%{y}<extra></extra>\",\"legendgroup\":\"Kivo Skiathos Collection\",\"line\":{\"color\":\"#19d3f3\",\"dash\":\"solid\"},\"marker\":{\"symbol\":\"circle\"},\"mode\":\"lines\",\"name\":\"Kivo Skiathos Collection\",\"showlegend\":false,\"x\":[2017],\"xaxis\":\"x\",\"y\":[0],\"yaxis\":\"y\",\"type\":\"scattergl\"},{\"hovertemplate\":\"company_name=Kivo Skiathos Collection<br>variable=Neutral<br>year=%{x}<br>value=%{y}<extra></extra>\",\"legendgroup\":\"Kivo Skiathos Collection\",\"line\":{\"color\":\"#19d3f3\",\"dash\":\"solid\"},\"marker\":{\"symbol\":\"circle\"},\"mode\":\"lines\",\"name\":\"Kivo Skiathos Collection\",\"showlegend\":false,\"x\":[2017],\"xaxis\":\"x\",\"y\":[1],\"yaxis\":\"y\",\"type\":\"scattergl\"},{\"hovertemplate\":\"company_name=LIBRA AI Technologies<br>variable=Positive<br>year=%{x}<br>value=%{y}<extra></extra>\",\"legendgroup\":\"LIBRA AI Technologies\",\"line\":{\"color\":\"#FF6692\",\"dash\":\"solid\"},\"marker\":{\"symbol\":\"circle\"},\"mode\":\"lines\",\"name\":\"LIBRA AI Technologies\",\"showlegend\":true,\"x\":[2021,2022,2023],\"xaxis\":\"x\",\"y\":[22,23,5],\"yaxis\":\"y\",\"type\":\"scattergl\"},{\"hovertemplate\":\"company_name=LIBRA AI Technologies<br>variable=Negative<br>year=%{x}<br>value=%{y}<extra></extra>\",\"legendgroup\":\"LIBRA AI Technologies\",\"line\":{\"color\":\"#FF6692\",\"dash\":\"solid\"},\"marker\":{\"symbol\":\"circle\"},\"mode\":\"lines\",\"name\":\"LIBRA AI Technologies\",\"showlegend\":false,\"x\":[2021,2022,2023],\"xaxis\":\"x\",\"y\":[5,1,0],\"yaxis\":\"y\",\"type\":\"scattergl\"},{\"hovertemplate\":\"company_name=LIBRA AI Technologies<br>variable=Neutral<br>year=%{x}<br>value=%{y}<extra></extra>\",\"legendgroup\":\"LIBRA AI Technologies\",\"line\":{\"color\":\"#FF6692\",\"dash\":\"solid\"},\"marker\":{\"symbol\":\"circle\"},\"mode\":\"lines\",\"name\":\"LIBRA AI Technologies\",\"showlegend\":false,\"x\":[2021,2022,2023],\"xaxis\":\"x\",\"y\":[7,11,4],\"yaxis\":\"y\",\"type\":\"scattergl\"},{\"hovertemplate\":\"company_name=LearnWorlds<br>variable=Positive<br>year=%{x}<br>value=%{y}<extra></extra>\",\"legendgroup\":\"LearnWorlds\",\"line\":{\"color\":\"#B6E880\",\"dash\":\"solid\"},\"marker\":{\"symbol\":\"circle\"},\"mode\":\"lines\",\"name\":\"LearnWorlds\",\"showlegend\":true,\"x\":[2017,2018,2019,2020,2021,2022,2023],\"xaxis\":\"x\",\"y\":[365,339,354,312,441,1228,216],\"yaxis\":\"y\",\"type\":\"scattergl\"},{\"hovertemplate\":\"company_name=LearnWorlds<br>variable=Negative<br>year=%{x}<br>value=%{y}<extra></extra>\",\"legendgroup\":\"LearnWorlds\",\"line\":{\"color\":\"#B6E880\",\"dash\":\"solid\"},\"marker\":{\"symbol\":\"circle\"},\"mode\":\"lines\",\"name\":\"LearnWorlds\",\"showlegend\":false,\"x\":[2017,2018,2019,2020,2021,2022,2023],\"xaxis\":\"x\",\"y\":[32,12,24,32,40,117,19],\"yaxis\":\"y\",\"type\":\"scattergl\"},{\"hovertemplate\":\"company_name=LearnWorlds<br>variable=Neutral<br>year=%{x}<br>value=%{y}<extra></extra>\",\"legendgroup\":\"LearnWorlds\",\"line\":{\"color\":\"#B6E880\",\"dash\":\"solid\"},\"marker\":{\"symbol\":\"circle\"},\"mode\":\"lines\",\"name\":\"LearnWorlds\",\"showlegend\":false,\"x\":[2017,2018,2019,2020,2021,2022,2023],\"xaxis\":\"x\",\"y\":[395,270,211,106,82,276,156],\"yaxis\":\"y\",\"type\":\"scattergl\"},{\"hovertemplate\":\"company_name=Lenses.io<br>variable=Positive<br>year=%{x}<br>value=%{y}<extra></extra>\",\"legendgroup\":\"Lenses.io\",\"line\":{\"color\":\"#FF97FF\",\"dash\":\"solid\"},\"marker\":{\"symbol\":\"circle\"},\"mode\":\"lines\",\"name\":\"Lenses.io\",\"showlegend\":true,\"x\":[2017,2018,2019,2020,2021,2022,2023],\"xaxis\":\"x\",\"y\":[15,102,88,147,191,6,1],\"yaxis\":\"y\",\"type\":\"scattergl\"},{\"hovertemplate\":\"company_name=Lenses.io<br>variable=Negative<br>year=%{x}<br>value=%{y}<extra></extra>\",\"legendgroup\":\"Lenses.io\",\"line\":{\"color\":\"#FF97FF\",\"dash\":\"solid\"},\"marker\":{\"symbol\":\"circle\"},\"mode\":\"lines\",\"name\":\"Lenses.io\",\"showlegend\":false,\"x\":[2017,2018,2019,2020,2021,2022,2023],\"xaxis\":\"x\",\"y\":[0,13,5,28,20,0,0],\"yaxis\":\"y\",\"type\":\"scattergl\"},{\"hovertemplate\":\"company_name=Lenses.io<br>variable=Neutral<br>year=%{x}<br>value=%{y}<extra></extra>\",\"legendgroup\":\"Lenses.io\",\"line\":{\"color\":\"#FF97FF\",\"dash\":\"solid\"},\"marker\":{\"symbol\":\"circle\"},\"mode\":\"lines\",\"name\":\"Lenses.io\",\"showlegend\":false,\"x\":[2017,2018,2019,2020,2021,2022,2023],\"xaxis\":\"x\",\"y\":[10,64,39,70,72,3,0],\"yaxis\":\"y\",\"type\":\"scattergl\"},{\"hovertemplate\":\"company_name=LingoGalaxy<br>variable=Positive<br>year=%{x}<br>value=%{y}<extra></extra>\",\"legendgroup\":\"LingoGalaxy\",\"line\":{\"color\":\"#FECB52\",\"dash\":\"solid\"},\"marker\":{\"symbol\":\"circle\"},\"mode\":\"lines\",\"name\":\"LingoGalaxy\",\"showlegend\":true,\"x\":[2020,2021,2022,2023],\"xaxis\":\"x\",\"y\":[18,7,38,8],\"yaxis\":\"y\",\"type\":\"scattergl\"},{\"hovertemplate\":\"company_name=LingoGalaxy<br>variable=Negative<br>year=%{x}<br>value=%{y}<extra></extra>\",\"legendgroup\":\"LingoGalaxy\",\"line\":{\"color\":\"#FECB52\",\"dash\":\"solid\"},\"marker\":{\"symbol\":\"circle\"},\"mode\":\"lines\",\"name\":\"LingoGalaxy\",\"showlegend\":false,\"x\":[2020,2021,2022,2023],\"xaxis\":\"x\",\"y\":[1,0,2,0],\"yaxis\":\"y\",\"type\":\"scattergl\"},{\"hovertemplate\":\"company_name=LingoGalaxy<br>variable=Neutral<br>year=%{x}<br>value=%{y}<extra></extra>\",\"legendgroup\":\"LingoGalaxy\",\"line\":{\"color\":\"#FECB52\",\"dash\":\"solid\"},\"marker\":{\"symbol\":\"circle\"},\"mode\":\"lines\",\"name\":\"LingoGalaxy\",\"showlegend\":false,\"x\":[2020,2021,2022,2023],\"xaxis\":\"x\",\"y\":[1,0,12,0],\"yaxis\":\"y\",\"type\":\"scattergl\"},{\"hovertemplate\":\"company_name=Linked<br>variable=Positive<br>year=%{x}<br>value=%{y}<extra></extra>\",\"legendgroup\":\"Linked\",\"line\":{\"color\":\"#636efa\",\"dash\":\"solid\"},\"marker\":{\"symbol\":\"circle\"},\"mode\":\"lines\",\"name\":\"Linked\",\"showlegend\":true,\"x\":[2019,2020,2021,2022,2023],\"xaxis\":\"x\",\"y\":[0,8,0,0,0],\"yaxis\":\"y\",\"type\":\"scattergl\"},{\"hovertemplate\":\"company_name=Linked<br>variable=Negative<br>year=%{x}<br>value=%{y}<extra></extra>\",\"legendgroup\":\"Linked\",\"line\":{\"color\":\"#636efa\",\"dash\":\"solid\"},\"marker\":{\"symbol\":\"circle\"},\"mode\":\"lines\",\"name\":\"Linked\",\"showlegend\":false,\"x\":[2019,2020,2021,2022,2023],\"xaxis\":\"x\",\"y\":[0,2,0,0,0],\"yaxis\":\"y\",\"type\":\"scattergl\"},{\"hovertemplate\":\"company_name=Linked<br>variable=Neutral<br>year=%{x}<br>value=%{y}<extra></extra>\",\"legendgroup\":\"Linked\",\"line\":{\"color\":\"#636efa\",\"dash\":\"solid\"},\"marker\":{\"symbol\":\"circle\"},\"mode\":\"lines\",\"name\":\"Linked\",\"showlegend\":false,\"x\":[2019,2020,2021,2022,2023],\"xaxis\":\"x\",\"y\":[1,5,1,2,1],\"yaxis\":\"y\",\"type\":\"scattergl\"},{\"hovertemplate\":\"company_name=Linked Business<br>variable=Positive<br>year=%{x}<br>value=%{y}<extra></extra>\",\"legendgroup\":\"Linked Business\",\"line\":{\"color\":\"#EF553B\",\"dash\":\"solid\"},\"marker\":{\"symbol\":\"circle\"},\"mode\":\"lines\",\"name\":\"Linked Business\",\"showlegend\":true,\"x\":[2018,2019,2020,2021,2022],\"xaxis\":\"x\",\"y\":[0,13,27,14,1],\"yaxis\":\"y\",\"type\":\"scattergl\"},{\"hovertemplate\":\"company_name=Linked Business<br>variable=Negative<br>year=%{x}<br>value=%{y}<extra></extra>\",\"legendgroup\":\"Linked Business\",\"line\":{\"color\":\"#EF553B\",\"dash\":\"solid\"},\"marker\":{\"symbol\":\"circle\"},\"mode\":\"lines\",\"name\":\"Linked Business\",\"showlegend\":false,\"x\":[2018,2019,2020,2021,2022],\"xaxis\":\"x\",\"y\":[0,4,2,0,0],\"yaxis\":\"y\",\"type\":\"scattergl\"},{\"hovertemplate\":\"company_name=Linked Business<br>variable=Neutral<br>year=%{x}<br>value=%{y}<extra></extra>\",\"legendgroup\":\"Linked Business\",\"line\":{\"color\":\"#EF553B\",\"dash\":\"solid\"},\"marker\":{\"symbol\":\"circle\"},\"mode\":\"lines\",\"name\":\"Linked Business\",\"showlegend\":false,\"x\":[2018,2019,2020,2021,2022],\"xaxis\":\"x\",\"y\":[1,100,217,103,23],\"yaxis\":\"y\",\"type\":\"scattergl\"},{\"hovertemplate\":\"company_name=Loctio<br>variable=Positive<br>year=%{x}<br>value=%{y}<extra></extra>\",\"legendgroup\":\"Loctio\",\"line\":{\"color\":\"#00cc96\",\"dash\":\"solid\"},\"marker\":{\"symbol\":\"circle\"},\"mode\":\"lines\",\"name\":\"Loctio\",\"showlegend\":true,\"x\":[2020,2021],\"xaxis\":\"x\",\"y\":[0,0],\"yaxis\":\"y\",\"type\":\"scattergl\"},{\"hovertemplate\":\"company_name=Loctio<br>variable=Negative<br>year=%{x}<br>value=%{y}<extra></extra>\",\"legendgroup\":\"Loctio\",\"line\":{\"color\":\"#00cc96\",\"dash\":\"solid\"},\"marker\":{\"symbol\":\"circle\"},\"mode\":\"lines\",\"name\":\"Loctio\",\"showlegend\":false,\"x\":[2020,2021],\"xaxis\":\"x\",\"y\":[0,0],\"yaxis\":\"y\",\"type\":\"scattergl\"},{\"hovertemplate\":\"company_name=Loctio<br>variable=Neutral<br>year=%{x}<br>value=%{y}<extra></extra>\",\"legendgroup\":\"Loctio\",\"line\":{\"color\":\"#00cc96\",\"dash\":\"solid\"},\"marker\":{\"symbol\":\"circle\"},\"mode\":\"lines\",\"name\":\"Loctio\",\"showlegend\":false,\"x\":[2020,2021],\"xaxis\":\"x\",\"y\":[2,1],\"yaxis\":\"y\",\"type\":\"scattergl\"},{\"hovertemplate\":\"company_name=Lost Atlantis Experience<br>variable=Positive<br>year=%{x}<br>value=%{y}<extra></extra>\",\"legendgroup\":\"Lost Atlantis Experience\",\"line\":{\"color\":\"#ab63fa\",\"dash\":\"solid\"},\"marker\":{\"symbol\":\"circle\"},\"mode\":\"lines\",\"name\":\"Lost Atlantis Experience\",\"showlegend\":true,\"x\":[2019],\"xaxis\":\"x\",\"y\":[8],\"yaxis\":\"y\",\"type\":\"scattergl\"},{\"hovertemplate\":\"company_name=Lost Atlantis Experience<br>variable=Negative<br>year=%{x}<br>value=%{y}<extra></extra>\",\"legendgroup\":\"Lost Atlantis Experience\",\"line\":{\"color\":\"#ab63fa\",\"dash\":\"solid\"},\"marker\":{\"symbol\":\"circle\"},\"mode\":\"lines\",\"name\":\"Lost Atlantis Experience\",\"showlegend\":false,\"x\":[2019],\"xaxis\":\"x\",\"y\":[1],\"yaxis\":\"y\",\"type\":\"scattergl\"},{\"hovertemplate\":\"company_name=Lost Atlantis Experience<br>variable=Neutral<br>year=%{x}<br>value=%{y}<extra></extra>\",\"legendgroup\":\"Lost Atlantis Experience\",\"line\":{\"color\":\"#ab63fa\",\"dash\":\"solid\"},\"marker\":{\"symbol\":\"circle\"},\"mode\":\"lines\",\"name\":\"Lost Atlantis Experience\",\"showlegend\":false,\"x\":[2019],\"xaxis\":\"x\",\"y\":[3],\"yaxis\":\"y\",\"type\":\"scattergl\"},{\"hovertemplate\":\"company_name=MAGOS<br>variable=Positive<br>year=%{x}<br>value=%{y}<extra></extra>\",\"legendgroup\":\"MAGOS\",\"line\":{\"color\":\"#FFA15A\",\"dash\":\"solid\"},\"marker\":{\"symbol\":\"circle\"},\"mode\":\"lines\",\"name\":\"MAGOS\",\"showlegend\":true,\"x\":[2020,2021,2022],\"xaxis\":\"x\",\"y\":[14,2,1],\"yaxis\":\"y\",\"type\":\"scattergl\"},{\"hovertemplate\":\"company_name=MAGOS<br>variable=Negative<br>year=%{x}<br>value=%{y}<extra></extra>\",\"legendgroup\":\"MAGOS\",\"line\":{\"color\":\"#FFA15A\",\"dash\":\"solid\"},\"marker\":{\"symbol\":\"circle\"},\"mode\":\"lines\",\"name\":\"MAGOS\",\"showlegend\":false,\"x\":[2020,2021,2022],\"xaxis\":\"x\",\"y\":[0,0,0],\"yaxis\":\"y\",\"type\":\"scattergl\"},{\"hovertemplate\":\"company_name=MAGOS<br>variable=Neutral<br>year=%{x}<br>value=%{y}<extra></extra>\",\"legendgroup\":\"MAGOS\",\"line\":{\"color\":\"#FFA15A\",\"dash\":\"solid\"},\"marker\":{\"symbol\":\"circle\"},\"mode\":\"lines\",\"name\":\"MAGOS\",\"showlegend\":false,\"x\":[2020,2021,2022],\"xaxis\":\"x\",\"y\":[4,3,0],\"yaxis\":\"y\",\"type\":\"scattergl\"},{\"hovertemplate\":\"company_name=MDIT<br>variable=Positive<br>year=%{x}<br>value=%{y}<extra></extra>\",\"legendgroup\":\"MDIT\",\"line\":{\"color\":\"#19d3f3\",\"dash\":\"solid\"},\"marker\":{\"symbol\":\"circle\"},\"mode\":\"lines\",\"name\":\"MDIT\",\"showlegend\":true,\"x\":[2021,2022,2023],\"xaxis\":\"x\",\"y\":[1,10,1],\"yaxis\":\"y\",\"type\":\"scattergl\"},{\"hovertemplate\":\"company_name=MDIT<br>variable=Negative<br>year=%{x}<br>value=%{y}<extra></extra>\",\"legendgroup\":\"MDIT\",\"line\":{\"color\":\"#19d3f3\",\"dash\":\"solid\"},\"marker\":{\"symbol\":\"circle\"},\"mode\":\"lines\",\"name\":\"MDIT\",\"showlegend\":false,\"x\":[2021,2022,2023],\"xaxis\":\"x\",\"y\":[0,0,0],\"yaxis\":\"y\",\"type\":\"scattergl\"},{\"hovertemplate\":\"company_name=MDIT<br>variable=Neutral<br>year=%{x}<br>value=%{y}<extra></extra>\",\"legendgroup\":\"MDIT\",\"line\":{\"color\":\"#19d3f3\",\"dash\":\"solid\"},\"marker\":{\"symbol\":\"circle\"},\"mode\":\"lines\",\"name\":\"MDIT\",\"showlegend\":false,\"x\":[2021,2022,2023],\"xaxis\":\"x\",\"y\":[1,8,2],\"yaxis\":\"y\",\"type\":\"scattergl\"},{\"hovertemplate\":\"company_name=METIS Cyberspace Technology<br>variable=Positive<br>year=%{x}<br>value=%{y}<extra></extra>\",\"legendgroup\":\"METIS Cyberspace Technology\",\"line\":{\"color\":\"#FF6692\",\"dash\":\"solid\"},\"marker\":{\"symbol\":\"circle\"},\"mode\":\"lines\",\"name\":\"METIS Cyberspace Technology\",\"showlegend\":true,\"x\":[2017,2018,2019,2020,2021,2022,2023],\"xaxis\":\"x\",\"y\":[14,9,34,42,51,25,21],\"yaxis\":\"y\",\"type\":\"scattergl\"},{\"hovertemplate\":\"company_name=METIS Cyberspace Technology<br>variable=Negative<br>year=%{x}<br>value=%{y}<extra></extra>\",\"legendgroup\":\"METIS Cyberspace Technology\",\"line\":{\"color\":\"#FF6692\",\"dash\":\"solid\"},\"marker\":{\"symbol\":\"circle\"},\"mode\":\"lines\",\"name\":\"METIS Cyberspace Technology\",\"showlegend\":false,\"x\":[2017,2018,2019,2020,2021,2022,2023],\"xaxis\":\"x\",\"y\":[3,2,3,7,8,2,0],\"yaxis\":\"y\",\"type\":\"scattergl\"},{\"hovertemplate\":\"company_name=METIS Cyberspace Technology<br>variable=Neutral<br>year=%{x}<br>value=%{y}<extra></extra>\",\"legendgroup\":\"METIS Cyberspace Technology\",\"line\":{\"color\":\"#FF6692\",\"dash\":\"solid\"},\"marker\":{\"symbol\":\"circle\"},\"mode\":\"lines\",\"name\":\"METIS Cyberspace Technology\",\"showlegend\":false,\"x\":[2017,2018,2019,2020,2021,2022,2023],\"xaxis\":\"x\",\"y\":[61,57,16,17,30,28,7],\"yaxis\":\"y\",\"type\":\"scattergl\"},{\"hovertemplate\":\"company_name=Medipass Healthcare<br>variable=Positive<br>year=%{x}<br>value=%{y}<extra></extra>\",\"legendgroup\":\"Medipass Healthcare\",\"line\":{\"color\":\"#B6E880\",\"dash\":\"solid\"},\"marker\":{\"symbol\":\"circle\"},\"mode\":\"lines\",\"name\":\"Medipass Healthcare\",\"showlegend\":true,\"x\":[2021,2022],\"xaxis\":\"x\",\"y\":[5,4],\"yaxis\":\"y\",\"type\":\"scattergl\"},{\"hovertemplate\":\"company_name=Medipass Healthcare<br>variable=Negative<br>year=%{x}<br>value=%{y}<extra></extra>\",\"legendgroup\":\"Medipass Healthcare\",\"line\":{\"color\":\"#B6E880\",\"dash\":\"solid\"},\"marker\":{\"symbol\":\"circle\"},\"mode\":\"lines\",\"name\":\"Medipass Healthcare\",\"showlegend\":false,\"x\":[2021,2022],\"xaxis\":\"x\",\"y\":[0,0],\"yaxis\":\"y\",\"type\":\"scattergl\"},{\"hovertemplate\":\"company_name=Medipass Healthcare<br>variable=Neutral<br>year=%{x}<br>value=%{y}<extra></extra>\",\"legendgroup\":\"Medipass Healthcare\",\"line\":{\"color\":\"#B6E880\",\"dash\":\"solid\"},\"marker\":{\"symbol\":\"circle\"},\"mode\":\"lines\",\"name\":\"Medipass Healthcare\",\"showlegend\":false,\"x\":[2021,2022],\"xaxis\":\"x\",\"y\":[0,0],\"yaxis\":\"y\",\"type\":\"scattergl\"},{\"hovertemplate\":\"company_name=Medoid AI<br>variable=Positive<br>year=%{x}<br>value=%{y}<extra></extra>\",\"legendgroup\":\"Medoid AI\",\"line\":{\"color\":\"#FF97FF\",\"dash\":\"solid\"},\"marker\":{\"symbol\":\"circle\"},\"mode\":\"lines\",\"name\":\"Medoid AI\",\"showlegend\":true,\"x\":[2021,2023],\"xaxis\":\"x\",\"y\":[1,0],\"yaxis\":\"y\",\"type\":\"scattergl\"},{\"hovertemplate\":\"company_name=Medoid AI<br>variable=Negative<br>year=%{x}<br>value=%{y}<extra></extra>\",\"legendgroup\":\"Medoid AI\",\"line\":{\"color\":\"#FF97FF\",\"dash\":\"solid\"},\"marker\":{\"symbol\":\"circle\"},\"mode\":\"lines\",\"name\":\"Medoid AI\",\"showlegend\":false,\"x\":[2021,2023],\"xaxis\":\"x\",\"y\":[0,0],\"yaxis\":\"y\",\"type\":\"scattergl\"},{\"hovertemplate\":\"company_name=Medoid AI<br>variable=Neutral<br>year=%{x}<br>value=%{y}<extra></extra>\",\"legendgroup\":\"Medoid AI\",\"line\":{\"color\":\"#FF97FF\",\"dash\":\"solid\"},\"marker\":{\"symbol\":\"circle\"},\"mode\":\"lines\",\"name\":\"Medoid AI\",\"showlegend\":false,\"x\":[2021,2023],\"xaxis\":\"x\",\"y\":[0,26],\"yaxis\":\"y\",\"type\":\"scattergl\"},{\"hovertemplate\":\"company_name=Megaventory<br>variable=Positive<br>year=%{x}<br>value=%{y}<extra></extra>\",\"legendgroup\":\"Megaventory\",\"line\":{\"color\":\"#FECB52\",\"dash\":\"solid\"},\"marker\":{\"symbol\":\"circle\"},\"mode\":\"lines\",\"name\":\"Megaventory\",\"showlegend\":true,\"x\":[2017,2018,2019,2020,2021,2022,2023],\"xaxis\":\"x\",\"y\":[450,295,113,195,102,108,41],\"yaxis\":\"y\",\"type\":\"scattergl\"},{\"hovertemplate\":\"company_name=Megaventory<br>variable=Negative<br>year=%{x}<br>value=%{y}<extra></extra>\",\"legendgroup\":\"Megaventory\",\"line\":{\"color\":\"#FECB52\",\"dash\":\"solid\"},\"marker\":{\"symbol\":\"circle\"},\"mode\":\"lines\",\"name\":\"Megaventory\",\"showlegend\":false,\"x\":[2017,2018,2019,2020,2021,2022,2023],\"xaxis\":\"x\",\"y\":[40,64,18,36,16,3,7],\"yaxis\":\"y\",\"type\":\"scattergl\"},{\"hovertemplate\":\"company_name=Megaventory<br>variable=Neutral<br>year=%{x}<br>value=%{y}<extra></extra>\",\"legendgroup\":\"Megaventory\",\"line\":{\"color\":\"#FECB52\",\"dash\":\"solid\"},\"marker\":{\"symbol\":\"circle\"},\"mode\":\"lines\",\"name\":\"Megaventory\",\"showlegend\":false,\"x\":[2017,2018,2019,2020,2021,2022,2023],\"xaxis\":\"x\",\"y\":[388,276,99,112,49,26,3],\"yaxis\":\"y\",\"type\":\"scattergl\"},{\"hovertemplate\":\"company_name=Melapus<br>variable=Positive<br>year=%{x}<br>value=%{y}<extra></extra>\",\"legendgroup\":\"Melapus\",\"line\":{\"color\":\"#636efa\",\"dash\":\"solid\"},\"marker\":{\"symbol\":\"circle\"},\"mode\":\"lines\",\"name\":\"Melapus\",\"showlegend\":true,\"x\":[2018,2019,2020,2021],\"xaxis\":\"x\",\"y\":[1,1,0,0],\"yaxis\":\"y\",\"type\":\"scattergl\"},{\"hovertemplate\":\"company_name=Melapus<br>variable=Negative<br>year=%{x}<br>value=%{y}<extra></extra>\",\"legendgroup\":\"Melapus\",\"line\":{\"color\":\"#636efa\",\"dash\":\"solid\"},\"marker\":{\"symbol\":\"circle\"},\"mode\":\"lines\",\"name\":\"Melapus\",\"showlegend\":false,\"x\":[2018,2019,2020,2021],\"xaxis\":\"x\",\"y\":[2,0,0,0],\"yaxis\":\"y\",\"type\":\"scattergl\"},{\"hovertemplate\":\"company_name=Melapus<br>variable=Neutral<br>year=%{x}<br>value=%{y}<extra></extra>\",\"legendgroup\":\"Melapus\",\"line\":{\"color\":\"#636efa\",\"dash\":\"solid\"},\"marker\":{\"symbol\":\"circle\"},\"mode\":\"lines\",\"name\":\"Melapus\",\"showlegend\":false,\"x\":[2018,2019,2020,2021],\"xaxis\":\"x\",\"y\":[111,15,5,6],\"yaxis\":\"y\",\"type\":\"scattergl\"},{\"hovertemplate\":\"company_name=Memorandum<br>variable=Positive<br>year=%{x}<br>value=%{y}<extra></extra>\",\"legendgroup\":\"Memorandum\",\"line\":{\"color\":\"#EF553B\",\"dash\":\"solid\"},\"marker\":{\"symbol\":\"circle\"},\"mode\":\"lines\",\"name\":\"Memorandum\",\"showlegend\":true,\"x\":[2017,2018,2019,2020],\"xaxis\":\"x\",\"y\":[11,2,3,9],\"yaxis\":\"y\",\"type\":\"scattergl\"},{\"hovertemplate\":\"company_name=Memorandum<br>variable=Negative<br>year=%{x}<br>value=%{y}<extra></extra>\",\"legendgroup\":\"Memorandum\",\"line\":{\"color\":\"#EF553B\",\"dash\":\"solid\"},\"marker\":{\"symbol\":\"circle\"},\"mode\":\"lines\",\"name\":\"Memorandum\",\"showlegend\":false,\"x\":[2017,2018,2019,2020],\"xaxis\":\"x\",\"y\":[1,0,2,2],\"yaxis\":\"y\",\"type\":\"scattergl\"},{\"hovertemplate\":\"company_name=Memorandum<br>variable=Neutral<br>year=%{x}<br>value=%{y}<extra></extra>\",\"legendgroup\":\"Memorandum\",\"line\":{\"color\":\"#EF553B\",\"dash\":\"solid\"},\"marker\":{\"symbol\":\"circle\"},\"mode\":\"lines\",\"name\":\"Memorandum\",\"showlegend\":false,\"x\":[2017,2018,2019,2020],\"xaxis\":\"x\",\"y\":[6,1,1,1],\"yaxis\":\"y\",\"type\":\"scattergl\"},{\"hovertemplate\":\"company_name=Mentionlytics<br>variable=Positive<br>year=%{x}<br>value=%{y}<extra></extra>\",\"legendgroup\":\"Mentionlytics\",\"line\":{\"color\":\"#00cc96\",\"dash\":\"solid\"},\"marker\":{\"symbol\":\"circle\"},\"mode\":\"lines\",\"name\":\"Mentionlytics\",\"showlegend\":true,\"x\":[2017,2018,2019,2020,2021,2022,2023],\"xaxis\":\"x\",\"y\":[117,191,138,85,73,70,28],\"yaxis\":\"y\",\"type\":\"scattergl\"},{\"hovertemplate\":\"company_name=Mentionlytics<br>variable=Negative<br>year=%{x}<br>value=%{y}<extra></extra>\",\"legendgroup\":\"Mentionlytics\",\"line\":{\"color\":\"#00cc96\",\"dash\":\"solid\"},\"marker\":{\"symbol\":\"circle\"},\"mode\":\"lines\",\"name\":\"Mentionlytics\",\"showlegend\":false,\"x\":[2017,2018,2019,2020,2021,2022,2023],\"xaxis\":\"x\",\"y\":[7,10,5,12,9,6,3],\"yaxis\":\"y\",\"type\":\"scattergl\"},{\"hovertemplate\":\"company_name=Mentionlytics<br>variable=Neutral<br>year=%{x}<br>value=%{y}<extra></extra>\",\"legendgroup\":\"Mentionlytics\",\"line\":{\"color\":\"#00cc96\",\"dash\":\"solid\"},\"marker\":{\"symbol\":\"circle\"},\"mode\":\"lines\",\"name\":\"Mentionlytics\",\"showlegend\":false,\"x\":[2017,2018,2019,2020,2021,2022,2023],\"xaxis\":\"x\",\"y\":[72,71,28,32,23,11,3],\"yaxis\":\"y\",\"type\":\"scattergl\"},{\"hovertemplate\":\"company_name=Merge Adventure<br>variable=Positive<br>year=%{x}<br>value=%{y}<extra></extra>\",\"legendgroup\":\"Merge Adventure\",\"line\":{\"color\":\"#ab63fa\",\"dash\":\"solid\"},\"marker\":{\"symbol\":\"circle\"},\"mode\":\"lines\",\"name\":\"Merge Adventure\",\"showlegend\":true,\"x\":[2022],\"xaxis\":\"x\",\"y\":[6],\"yaxis\":\"y\",\"type\":\"scattergl\"},{\"hovertemplate\":\"company_name=Merge Adventure<br>variable=Negative<br>year=%{x}<br>value=%{y}<extra></extra>\",\"legendgroup\":\"Merge Adventure\",\"line\":{\"color\":\"#ab63fa\",\"dash\":\"solid\"},\"marker\":{\"symbol\":\"circle\"},\"mode\":\"lines\",\"name\":\"Merge Adventure\",\"showlegend\":false,\"x\":[2022],\"xaxis\":\"x\",\"y\":[0],\"yaxis\":\"y\",\"type\":\"scattergl\"},{\"hovertemplate\":\"company_name=Merge Adventure<br>variable=Neutral<br>year=%{x}<br>value=%{y}<extra></extra>\",\"legendgroup\":\"Merge Adventure\",\"line\":{\"color\":\"#ab63fa\",\"dash\":\"solid\"},\"marker\":{\"symbol\":\"circle\"},\"mode\":\"lines\",\"name\":\"Merge Adventure\",\"showlegend\":false,\"x\":[2022],\"xaxis\":\"x\",\"y\":[1],\"yaxis\":\"y\",\"type\":\"scattergl\"},{\"hovertemplate\":\"company_name=Metabio<br>variable=Positive<br>year=%{x}<br>value=%{y}<extra></extra>\",\"legendgroup\":\"Metabio\",\"line\":{\"color\":\"#FFA15A\",\"dash\":\"solid\"},\"marker\":{\"symbol\":\"circle\"},\"mode\":\"lines\",\"name\":\"Metabio\",\"showlegend\":true,\"x\":[2017,2018,2019],\"xaxis\":\"x\",\"y\":[0,2,1],\"yaxis\":\"y\",\"type\":\"scattergl\"},{\"hovertemplate\":\"company_name=Metabio<br>variable=Negative<br>year=%{x}<br>value=%{y}<extra></extra>\",\"legendgroup\":\"Metabio\",\"line\":{\"color\":\"#FFA15A\",\"dash\":\"solid\"},\"marker\":{\"symbol\":\"circle\"},\"mode\":\"lines\",\"name\":\"Metabio\",\"showlegend\":false,\"x\":[2017,2018,2019],\"xaxis\":\"x\",\"y\":[0,0,0],\"yaxis\":\"y\",\"type\":\"scattergl\"},{\"hovertemplate\":\"company_name=Metabio<br>variable=Neutral<br>year=%{x}<br>value=%{y}<extra></extra>\",\"legendgroup\":\"Metabio\",\"line\":{\"color\":\"#FFA15A\",\"dash\":\"solid\"},\"marker\":{\"symbol\":\"circle\"},\"mode\":\"lines\",\"name\":\"Metabio\",\"showlegend\":false,\"x\":[2017,2018,2019],\"xaxis\":\"x\",\"y\":[4,12,2],\"yaxis\":\"y\",\"type\":\"scattergl\"},{\"hovertemplate\":\"company_name=MindMed<br>variable=Positive<br>year=%{x}<br>value=%{y}<extra></extra>\",\"legendgroup\":\"MindMed\",\"line\":{\"color\":\"#19d3f3\",\"dash\":\"solid\"},\"marker\":{\"symbol\":\"circle\"},\"mode\":\"lines\",\"name\":\"MindMed\",\"showlegend\":true,\"x\":[2019,2020,2021,2022,2023],\"xaxis\":\"x\",\"y\":[3,40,79,40,7],\"yaxis\":\"y\",\"type\":\"scattergl\"},{\"hovertemplate\":\"company_name=MindMed<br>variable=Negative<br>year=%{x}<br>value=%{y}<extra></extra>\",\"legendgroup\":\"MindMed\",\"line\":{\"color\":\"#19d3f3\",\"dash\":\"solid\"},\"marker\":{\"symbol\":\"circle\"},\"mode\":\"lines\",\"name\":\"MindMed\",\"showlegend\":false,\"x\":[2019,2020,2021,2022,2023],\"xaxis\":\"x\",\"y\":[2,8,24,5,0],\"yaxis\":\"y\",\"type\":\"scattergl\"},{\"hovertemplate\":\"company_name=MindMed<br>variable=Neutral<br>year=%{x}<br>value=%{y}<extra></extra>\",\"legendgroup\":\"MindMed\",\"line\":{\"color\":\"#19d3f3\",\"dash\":\"solid\"},\"marker\":{\"symbol\":\"circle\"},\"mode\":\"lines\",\"name\":\"MindMed\",\"showlegend\":false,\"x\":[2019,2020,2021,2022,2023],\"xaxis\":\"x\",\"y\":[2,45,34,21,11],\"yaxis\":\"y\",\"type\":\"scattergl\"},{\"hovertemplate\":\"company_name=Morphoses<br>variable=Positive<br>year=%{x}<br>value=%{y}<extra></extra>\",\"legendgroup\":\"Morphoses\",\"line\":{\"color\":\"#FF6692\",\"dash\":\"solid\"},\"marker\":{\"symbol\":\"circle\"},\"mode\":\"lines\",\"name\":\"Morphoses\",\"showlegend\":true,\"x\":[2021,2022,2023],\"xaxis\":\"x\",\"y\":[7,79,44],\"yaxis\":\"y\",\"type\":\"scattergl\"},{\"hovertemplate\":\"company_name=Morphoses<br>variable=Negative<br>year=%{x}<br>value=%{y}<extra></extra>\",\"legendgroup\":\"Morphoses\",\"line\":{\"color\":\"#FF6692\",\"dash\":\"solid\"},\"marker\":{\"symbol\":\"circle\"},\"mode\":\"lines\",\"name\":\"Morphoses\",\"showlegend\":false,\"x\":[2021,2022,2023],\"xaxis\":\"x\",\"y\":[1,7,2],\"yaxis\":\"y\",\"type\":\"scattergl\"},{\"hovertemplate\":\"company_name=Morphoses<br>variable=Neutral<br>year=%{x}<br>value=%{y}<extra></extra>\",\"legendgroup\":\"Morphoses\",\"line\":{\"color\":\"#FF6692\",\"dash\":\"solid\"},\"marker\":{\"symbol\":\"circle\"},\"mode\":\"lines\",\"name\":\"Morphoses\",\"showlegend\":false,\"x\":[2021,2022,2023],\"xaxis\":\"x\",\"y\":[3,48,26],\"yaxis\":\"y\",\"type\":\"scattergl\"},{\"hovertemplate\":\"company_name=Murat123<br>variable=Positive<br>year=%{x}<br>value=%{y}<extra></extra>\",\"legendgroup\":\"Murat123\",\"line\":{\"color\":\"#B6E880\",\"dash\":\"solid\"},\"marker\":{\"symbol\":\"circle\"},\"mode\":\"lines\",\"name\":\"Murat123\",\"showlegend\":true,\"x\":[2019,2020,2021,2022,2023],\"xaxis\":\"x\",\"y\":[0,1,6,1,0],\"yaxis\":\"y\",\"type\":\"scattergl\"},{\"hovertemplate\":\"company_name=Murat123<br>variable=Negative<br>year=%{x}<br>value=%{y}<extra></extra>\",\"legendgroup\":\"Murat123\",\"line\":{\"color\":\"#B6E880\",\"dash\":\"solid\"},\"marker\":{\"symbol\":\"circle\"},\"mode\":\"lines\",\"name\":\"Murat123\",\"showlegend\":false,\"x\":[2019,2020,2021,2022,2023],\"xaxis\":\"x\",\"y\":[0,0,1,0,0],\"yaxis\":\"y\",\"type\":\"scattergl\"},{\"hovertemplate\":\"company_name=Murat123<br>variable=Neutral<br>year=%{x}<br>value=%{y}<extra></extra>\",\"legendgroup\":\"Murat123\",\"line\":{\"color\":\"#B6E880\",\"dash\":\"solid\"},\"marker\":{\"symbol\":\"circle\"},\"mode\":\"lines\",\"name\":\"Murat123\",\"showlegend\":false,\"x\":[2019,2020,2021,2022,2023],\"xaxis\":\"x\",\"y\":[1,28,209,7,7],\"yaxis\":\"y\",\"type\":\"scattergl\"},{\"hovertemplate\":\"company_name=M\\u00c3\\u00b4veo AI<br>variable=Positive<br>year=%{x}<br>value=%{y}<extra></extra>\",\"legendgroup\":\"M\\u00c3\\u00b4veo AI\",\"line\":{\"color\":\"#FF97FF\",\"dash\":\"solid\"},\"marker\":{\"symbol\":\"circle\"},\"mode\":\"lines\",\"name\":\"M\\u00c3\\u00b4veo AI\",\"showlegend\":true,\"x\":[2022,2023],\"xaxis\":\"x\",\"y\":[12,23],\"yaxis\":\"y\",\"type\":\"scattergl\"},{\"hovertemplate\":\"company_name=M\\u00c3\\u00b4veo AI<br>variable=Negative<br>year=%{x}<br>value=%{y}<extra></extra>\",\"legendgroup\":\"M\\u00c3\\u00b4veo AI\",\"line\":{\"color\":\"#FF97FF\",\"dash\":\"solid\"},\"marker\":{\"symbol\":\"circle\"},\"mode\":\"lines\",\"name\":\"M\\u00c3\\u00b4veo AI\",\"showlegend\":false,\"x\":[2022,2023],\"xaxis\":\"x\",\"y\":[0,3],\"yaxis\":\"y\",\"type\":\"scattergl\"},{\"hovertemplate\":\"company_name=M\\u00c3\\u00b4veo AI<br>variable=Neutral<br>year=%{x}<br>value=%{y}<extra></extra>\",\"legendgroup\":\"M\\u00c3\\u00b4veo AI\",\"line\":{\"color\":\"#FF97FF\",\"dash\":\"solid\"},\"marker\":{\"symbol\":\"circle\"},\"mode\":\"lines\",\"name\":\"M\\u00c3\\u00b4veo AI\",\"showlegend\":false,\"x\":[2022,2023],\"xaxis\":\"x\",\"y\":[2,2],\"yaxis\":\"y\",\"type\":\"scattergl\"},{\"hovertemplate\":\"company_name=Nannuka UK<br>variable=Positive<br>year=%{x}<br>value=%{y}<extra></extra>\",\"legendgroup\":\"Nannuka UK\",\"line\":{\"color\":\"#FECB52\",\"dash\":\"solid\"},\"marker\":{\"symbol\":\"circle\"},\"mode\":\"lines\",\"name\":\"Nannuka UK\",\"showlegend\":true,\"x\":[2017,2018],\"xaxis\":\"x\",\"y\":[74,29],\"yaxis\":\"y\",\"type\":\"scattergl\"},{\"hovertemplate\":\"company_name=Nannuka UK<br>variable=Negative<br>year=%{x}<br>value=%{y}<extra></extra>\",\"legendgroup\":\"Nannuka UK\",\"line\":{\"color\":\"#FECB52\",\"dash\":\"solid\"},\"marker\":{\"symbol\":\"circle\"},\"mode\":\"lines\",\"name\":\"Nannuka UK\",\"showlegend\":false,\"x\":[2017,2018],\"xaxis\":\"x\",\"y\":[2,1],\"yaxis\":\"y\",\"type\":\"scattergl\"},{\"hovertemplate\":\"company_name=Nannuka UK<br>variable=Neutral<br>year=%{x}<br>value=%{y}<extra></extra>\",\"legendgroup\":\"Nannuka UK\",\"line\":{\"color\":\"#FECB52\",\"dash\":\"solid\"},\"marker\":{\"symbol\":\"circle\"},\"mode\":\"lines\",\"name\":\"Nannuka UK\",\"showlegend\":false,\"x\":[2017,2018],\"xaxis\":\"x\",\"y\":[48,28],\"yaxis\":\"y\",\"type\":\"scattergl\"},{\"hovertemplate\":\"company_name=Neos Beyond Payments<br>variable=Positive<br>year=%{x}<br>value=%{y}<extra></extra>\",\"legendgroup\":\"Neos Beyond Payments\",\"line\":{\"color\":\"#636efa\",\"dash\":\"solid\"},\"marker\":{\"symbol\":\"circle\"},\"mode\":\"lines\",\"name\":\"Neos Beyond Payments\",\"showlegend\":true,\"x\":[2020,2021,2022,2023],\"xaxis\":\"x\",\"y\":[9,3,1,0],\"yaxis\":\"y\",\"type\":\"scattergl\"},{\"hovertemplate\":\"company_name=Neos Beyond Payments<br>variable=Negative<br>year=%{x}<br>value=%{y}<extra></extra>\",\"legendgroup\":\"Neos Beyond Payments\",\"line\":{\"color\":\"#636efa\",\"dash\":\"solid\"},\"marker\":{\"symbol\":\"circle\"},\"mode\":\"lines\",\"name\":\"Neos Beyond Payments\",\"showlegend\":false,\"x\":[2020,2021,2022,2023],\"xaxis\":\"x\",\"y\":[0,2,0,0],\"yaxis\":\"y\",\"type\":\"scattergl\"},{\"hovertemplate\":\"company_name=Neos Beyond Payments<br>variable=Neutral<br>year=%{x}<br>value=%{y}<extra></extra>\",\"legendgroup\":\"Neos Beyond Payments\",\"line\":{\"color\":\"#636efa\",\"dash\":\"solid\"},\"marker\":{\"symbol\":\"circle\"},\"mode\":\"lines\",\"name\":\"Neos Beyond Payments\",\"showlegend\":false,\"x\":[2020,2021,2022,2023],\"xaxis\":\"x\",\"y\":[3,2,1,1],\"yaxis\":\"y\",\"type\":\"scattergl\"},{\"hovertemplate\":\"company_name=Nephele<br>variable=Positive<br>year=%{x}<br>value=%{y}<extra></extra>\",\"legendgroup\":\"Nephele\",\"line\":{\"color\":\"#EF553B\",\"dash\":\"solid\"},\"marker\":{\"symbol\":\"circle\"},\"mode\":\"lines\",\"name\":\"Nephele\",\"showlegend\":true,\"x\":[2022],\"xaxis\":\"x\",\"y\":[2],\"yaxis\":\"y\",\"type\":\"scattergl\"},{\"hovertemplate\":\"company_name=Nephele<br>variable=Negative<br>year=%{x}<br>value=%{y}<extra></extra>\",\"legendgroup\":\"Nephele\",\"line\":{\"color\":\"#EF553B\",\"dash\":\"solid\"},\"marker\":{\"symbol\":\"circle\"},\"mode\":\"lines\",\"name\":\"Nephele\",\"showlegend\":false,\"x\":[2022],\"xaxis\":\"x\",\"y\":[0],\"yaxis\":\"y\",\"type\":\"scattergl\"},{\"hovertemplate\":\"company_name=Nephele<br>variable=Neutral<br>year=%{x}<br>value=%{y}<extra></extra>\",\"legendgroup\":\"Nephele\",\"line\":{\"color\":\"#EF553B\",\"dash\":\"solid\"},\"marker\":{\"symbol\":\"circle\"},\"mode\":\"lines\",\"name\":\"Nephele\",\"showlegend\":false,\"x\":[2022],\"xaxis\":\"x\",\"y\":[0],\"yaxis\":\"y\",\"type\":\"scattergl\"},{\"hovertemplate\":\"company_name=Net Zero Analytics<br>variable=Positive<br>year=%{x}<br>value=%{y}<extra></extra>\",\"legendgroup\":\"Net Zero Analytics\",\"line\":{\"color\":\"#00cc96\",\"dash\":\"solid\"},\"marker\":{\"symbol\":\"circle\"},\"mode\":\"lines\",\"name\":\"Net Zero Analytics\",\"showlegend\":true,\"x\":[2021],\"xaxis\":\"x\",\"y\":[1],\"yaxis\":\"y\",\"type\":\"scattergl\"},{\"hovertemplate\":\"company_name=Net Zero Analytics<br>variable=Negative<br>year=%{x}<br>value=%{y}<extra></extra>\",\"legendgroup\":\"Net Zero Analytics\",\"line\":{\"color\":\"#00cc96\",\"dash\":\"solid\"},\"marker\":{\"symbol\":\"circle\"},\"mode\":\"lines\",\"name\":\"Net Zero Analytics\",\"showlegend\":false,\"x\":[2021],\"xaxis\":\"x\",\"y\":[0],\"yaxis\":\"y\",\"type\":\"scattergl\"},{\"hovertemplate\":\"company_name=Net Zero Analytics<br>variable=Neutral<br>year=%{x}<br>value=%{y}<extra></extra>\",\"legendgroup\":\"Net Zero Analytics\",\"line\":{\"color\":\"#00cc96\",\"dash\":\"solid\"},\"marker\":{\"symbol\":\"circle\"},\"mode\":\"lines\",\"name\":\"Net Zero Analytics\",\"showlegend\":false,\"x\":[2021],\"xaxis\":\"x\",\"y\":[0],\"yaxis\":\"y\",\"type\":\"scattergl\"},{\"hovertemplate\":\"company_name=Netdata<br>variable=Positive<br>year=%{x}<br>value=%{y}<extra></extra>\",\"legendgroup\":\"Netdata\",\"line\":{\"color\":\"#ab63fa\",\"dash\":\"solid\"},\"marker\":{\"symbol\":\"circle\"},\"mode\":\"lines\",\"name\":\"Netdata\",\"showlegend\":true,\"x\":[2017,2018,2019,2020,2021,2022,2023],\"xaxis\":\"x\",\"y\":[125,27,26,263,170,138,43],\"yaxis\":\"y\",\"type\":\"scattergl\"},{\"hovertemplate\":\"company_name=Netdata<br>variable=Negative<br>year=%{x}<br>value=%{y}<extra></extra>\",\"legendgroup\":\"Netdata\",\"line\":{\"color\":\"#ab63fa\",\"dash\":\"solid\"},\"marker\":{\"symbol\":\"circle\"},\"mode\":\"lines\",\"name\":\"Netdata\",\"showlegend\":false,\"x\":[2017,2018,2019,2020,2021,2022,2023],\"xaxis\":\"x\",\"y\":[11,10,4,22,13,27,1],\"yaxis\":\"y\",\"type\":\"scattergl\"},{\"hovertemplate\":\"company_name=Netdata<br>variable=Neutral<br>year=%{x}<br>value=%{y}<extra></extra>\",\"legendgroup\":\"Netdata\",\"line\":{\"color\":\"#ab63fa\",\"dash\":\"solid\"},\"marker\":{\"symbol\":\"circle\"},\"mode\":\"lines\",\"name\":\"Netdata\",\"showlegend\":false,\"x\":[2017,2018,2019,2020,2021,2022,2023],\"xaxis\":\"x\",\"y\":[109,21,24,85,75,124,19],\"yaxis\":\"y\",\"type\":\"scattergl\"},{\"hovertemplate\":\"company_name=Noma Restaurants & Events<br>variable=Positive<br>year=%{x}<br>value=%{y}<extra></extra>\",\"legendgroup\":\"Noma Restaurants & Events\",\"line\":{\"color\":\"#FFA15A\",\"dash\":\"solid\"},\"marker\":{\"symbol\":\"circle\"},\"mode\":\"lines\",\"name\":\"Noma Restaurants & Events\",\"showlegend\":true,\"x\":[2019,2020],\"xaxis\":\"x\",\"y\":[32,11],\"yaxis\":\"y\",\"type\":\"scattergl\"},{\"hovertemplate\":\"company_name=Noma Restaurants & Events<br>variable=Negative<br>year=%{x}<br>value=%{y}<extra></extra>\",\"legendgroup\":\"Noma Restaurants & Events\",\"line\":{\"color\":\"#FFA15A\",\"dash\":\"solid\"},\"marker\":{\"symbol\":\"circle\"},\"mode\":\"lines\",\"name\":\"Noma Restaurants & Events\",\"showlegend\":false,\"x\":[2019,2020],\"xaxis\":\"x\",\"y\":[2,2],\"yaxis\":\"y\",\"type\":\"scattergl\"},{\"hovertemplate\":\"company_name=Noma Restaurants & Events<br>variable=Neutral<br>year=%{x}<br>value=%{y}<extra></extra>\",\"legendgroup\":\"Noma Restaurants & Events\",\"line\":{\"color\":\"#FFA15A\",\"dash\":\"solid\"},\"marker\":{\"symbol\":\"circle\"},\"mode\":\"lines\",\"name\":\"Noma Restaurants & Events\",\"showlegend\":false,\"x\":[2019,2020],\"xaxis\":\"x\",\"y\":[30,13],\"yaxis\":\"y\",\"type\":\"scattergl\"},{\"hovertemplate\":\"company_name=ORFIUM<br>variable=Positive<br>year=%{x}<br>value=%{y}<extra></extra>\",\"legendgroup\":\"ORFIUM\",\"line\":{\"color\":\"#19d3f3\",\"dash\":\"solid\"},\"marker\":{\"symbol\":\"circle\"},\"mode\":\"lines\",\"name\":\"ORFIUM\",\"showlegend\":true,\"x\":[2021,2022,2023],\"xaxis\":\"x\",\"y\":[0,57,11],\"yaxis\":\"y\",\"type\":\"scattergl\"},{\"hovertemplate\":\"company_name=ORFIUM<br>variable=Negative<br>year=%{x}<br>value=%{y}<extra></extra>\",\"legendgroup\":\"ORFIUM\",\"line\":{\"color\":\"#19d3f3\",\"dash\":\"solid\"},\"marker\":{\"symbol\":\"circle\"},\"mode\":\"lines\",\"name\":\"ORFIUM\",\"showlegend\":false,\"x\":[2021,2022,2023],\"xaxis\":\"x\",\"y\":[0,3,0],\"yaxis\":\"y\",\"type\":\"scattergl\"},{\"hovertemplate\":\"company_name=ORFIUM<br>variable=Neutral<br>year=%{x}<br>value=%{y}<extra></extra>\",\"legendgroup\":\"ORFIUM\",\"line\":{\"color\":\"#19d3f3\",\"dash\":\"solid\"},\"marker\":{\"symbol\":\"circle\"},\"mode\":\"lines\",\"name\":\"ORFIUM\",\"showlegend\":false,\"x\":[2021,2022,2023],\"xaxis\":\"x\",\"y\":[1,14,2],\"yaxis\":\"y\",\"type\":\"scattergl\"},{\"hovertemplate\":\"company_name=OilX<br>variable=Positive<br>year=%{x}<br>value=%{y}<extra></extra>\",\"legendgroup\":\"OilX\",\"line\":{\"color\":\"#FF6692\",\"dash\":\"solid\"},\"marker\":{\"symbol\":\"circle\"},\"mode\":\"lines\",\"name\":\"OilX\",\"showlegend\":true,\"x\":[2019,2020,2021,2022,2023],\"xaxis\":\"x\",\"y\":[5,40,79,114,15],\"yaxis\":\"y\",\"type\":\"scattergl\"},{\"hovertemplate\":\"company_name=OilX<br>variable=Negative<br>year=%{x}<br>value=%{y}<extra></extra>\",\"legendgroup\":\"OilX\",\"line\":{\"color\":\"#FF6692\",\"dash\":\"solid\"},\"marker\":{\"symbol\":\"circle\"},\"mode\":\"lines\",\"name\":\"OilX\",\"showlegend\":false,\"x\":[2019,2020,2021,2022,2023],\"xaxis\":\"x\",\"y\":[12,22,30,142,22],\"yaxis\":\"y\",\"type\":\"scattergl\"},{\"hovertemplate\":\"company_name=OilX<br>variable=Neutral<br>year=%{x}<br>value=%{y}<extra></extra>\",\"legendgroup\":\"OilX\",\"line\":{\"color\":\"#FF6692\",\"dash\":\"solid\"},\"marker\":{\"symbol\":\"circle\"},\"mode\":\"lines\",\"name\":\"OilX\",\"showlegend\":false,\"x\":[2019,2020,2021,2022,2023],\"xaxis\":\"x\",\"y\":[6,29,30,48,4],\"yaxis\":\"y\",\"type\":\"scattergl\"},{\"hovertemplate\":\"company_name=Olyra Marketing<br>variable=Positive<br>year=%{x}<br>value=%{y}<extra></extra>\",\"legendgroup\":\"Olyra Marketing\",\"line\":{\"color\":\"#B6E880\",\"dash\":\"solid\"},\"marker\":{\"symbol\":\"circle\"},\"mode\":\"lines\",\"name\":\"Olyra Marketing\",\"showlegend\":true,\"x\":[2017,2018,2019],\"xaxis\":\"x\",\"y\":[4,6,3],\"yaxis\":\"y\",\"type\":\"scattergl\"},{\"hovertemplate\":\"company_name=Olyra Marketing<br>variable=Negative<br>year=%{x}<br>value=%{y}<extra></extra>\",\"legendgroup\":\"Olyra Marketing\",\"line\":{\"color\":\"#B6E880\",\"dash\":\"solid\"},\"marker\":{\"symbol\":\"circle\"},\"mode\":\"lines\",\"name\":\"Olyra Marketing\",\"showlegend\":false,\"x\":[2017,2018,2019],\"xaxis\":\"x\",\"y\":[2,2,0],\"yaxis\":\"y\",\"type\":\"scattergl\"},{\"hovertemplate\":\"company_name=Olyra Marketing<br>variable=Neutral<br>year=%{x}<br>value=%{y}<extra></extra>\",\"legendgroup\":\"Olyra Marketing\",\"line\":{\"color\":\"#B6E880\",\"dash\":\"solid\"},\"marker\":{\"symbol\":\"circle\"},\"mode\":\"lines\",\"name\":\"Olyra Marketing\",\"showlegend\":false,\"x\":[2017,2018,2019],\"xaxis\":\"x\",\"y\":[119,92,48],\"yaxis\":\"y\",\"type\":\"scattergl\"},{\"hovertemplate\":\"company_name=OnSkull<br>variable=Positive<br>year=%{x}<br>value=%{y}<extra></extra>\",\"legendgroup\":\"OnSkull\",\"line\":{\"color\":\"#FF97FF\",\"dash\":\"solid\"},\"marker\":{\"symbol\":\"circle\"},\"mode\":\"lines\",\"name\":\"OnSkull\",\"showlegend\":true,\"x\":[2017,2019,2020,2021,2022,2023],\"xaxis\":\"x\",\"y\":[27,20,31,9,26,13],\"yaxis\":\"y\",\"type\":\"scattergl\"},{\"hovertemplate\":\"company_name=OnSkull<br>variable=Negative<br>year=%{x}<br>value=%{y}<extra></extra>\",\"legendgroup\":\"OnSkull\",\"line\":{\"color\":\"#FF97FF\",\"dash\":\"solid\"},\"marker\":{\"symbol\":\"circle\"},\"mode\":\"lines\",\"name\":\"OnSkull\",\"showlegend\":false,\"x\":[2017,2019,2020,2021,2022,2023],\"xaxis\":\"x\",\"y\":[13,5,6,7,8,3],\"yaxis\":\"y\",\"type\":\"scattergl\"},{\"hovertemplate\":\"company_name=OnSkull<br>variable=Neutral<br>year=%{x}<br>value=%{y}<extra></extra>\",\"legendgroup\":\"OnSkull\",\"line\":{\"color\":\"#FF97FF\",\"dash\":\"solid\"},\"marker\":{\"symbol\":\"circle\"},\"mode\":\"lines\",\"name\":\"OnSkull\",\"showlegend\":false,\"x\":[2017,2019,2020,2021,2022,2023],\"xaxis\":\"x\",\"y\":[34,5,8,20,25,7],\"yaxis\":\"y\",\"type\":\"scattergl\"},{\"hovertemplate\":\"company_name=Openichnos Yacht Tracker<br>variable=Positive<br>year=%{x}<br>value=%{y}<extra></extra>\",\"legendgroup\":\"Openichnos Yacht Tracker\",\"line\":{\"color\":\"#FECB52\",\"dash\":\"solid\"},\"marker\":{\"symbol\":\"circle\"},\"mode\":\"lines\",\"name\":\"Openichnos Yacht Tracker\",\"showlegend\":true,\"x\":[2017,2018,2019,2020],\"xaxis\":\"x\",\"y\":[9,1,0,0],\"yaxis\":\"y\",\"type\":\"scattergl\"},{\"hovertemplate\":\"company_name=Openichnos Yacht Tracker<br>variable=Negative<br>year=%{x}<br>value=%{y}<extra></extra>\",\"legendgroup\":\"Openichnos Yacht Tracker\",\"line\":{\"color\":\"#FECB52\",\"dash\":\"solid\"},\"marker\":{\"symbol\":\"circle\"},\"mode\":\"lines\",\"name\":\"Openichnos Yacht Tracker\",\"showlegend\":false,\"x\":[2017,2018,2019,2020],\"xaxis\":\"x\",\"y\":[0,1,1,0],\"yaxis\":\"y\",\"type\":\"scattergl\"},{\"hovertemplate\":\"company_name=Openichnos Yacht Tracker<br>variable=Neutral<br>year=%{x}<br>value=%{y}<extra></extra>\",\"legendgroup\":\"Openichnos Yacht Tracker\",\"line\":{\"color\":\"#FECB52\",\"dash\":\"solid\"},\"marker\":{\"symbol\":\"circle\"},\"mode\":\"lines\",\"name\":\"Openichnos Yacht Tracker\",\"showlegend\":false,\"x\":[2017,2018,2019,2020],\"xaxis\":\"x\",\"y\":[23,2,1,1],\"yaxis\":\"y\",\"type\":\"scattergl\"},{\"hovertemplate\":\"company_name=Owiwi<br>variable=Positive<br>year=%{x}<br>value=%{y}<extra></extra>\",\"legendgroup\":\"Owiwi\",\"line\":{\"color\":\"#636efa\",\"dash\":\"solid\"},\"marker\":{\"symbol\":\"circle\"},\"mode\":\"lines\",\"name\":\"Owiwi\",\"showlegend\":true,\"x\":[2017,2018,2019,2020,2022,2023],\"xaxis\":\"x\",\"y\":[21,87,121,9,0,1],\"yaxis\":\"y\",\"type\":\"scattergl\"},{\"hovertemplate\":\"company_name=Owiwi<br>variable=Negative<br>year=%{x}<br>value=%{y}<extra></extra>\",\"legendgroup\":\"Owiwi\",\"line\":{\"color\":\"#636efa\",\"dash\":\"solid\"},\"marker\":{\"symbol\":\"circle\"},\"mode\":\"lines\",\"name\":\"Owiwi\",\"showlegend\":false,\"x\":[2017,2018,2019,2020,2022,2023],\"xaxis\":\"x\",\"y\":[7,14,21,0,1,0],\"yaxis\":\"y\",\"type\":\"scattergl\"},{\"hovertemplate\":\"company_name=Owiwi<br>variable=Neutral<br>year=%{x}<br>value=%{y}<extra></extra>\",\"legendgroup\":\"Owiwi\",\"line\":{\"color\":\"#636efa\",\"dash\":\"solid\"},\"marker\":{\"symbol\":\"circle\"},\"mode\":\"lines\",\"name\":\"Owiwi\",\"showlegend\":false,\"x\":[2017,2018,2019,2020,2022,2023],\"xaxis\":\"x\",\"y\":[28,47,45,2,1,0],\"yaxis\":\"y\",\"type\":\"scattergl\"},{\"hovertemplate\":\"company_name=PCNano Materials<br>variable=Positive<br>year=%{x}<br>value=%{y}<extra></extra>\",\"legendgroup\":\"PCNano Materials\",\"line\":{\"color\":\"#EF553B\",\"dash\":\"solid\"},\"marker\":{\"symbol\":\"circle\"},\"mode\":\"lines\",\"name\":\"PCNano Materials\",\"showlegend\":true,\"x\":[2021,2022],\"xaxis\":\"x\",\"y\":[1,0],\"yaxis\":\"y\",\"type\":\"scattergl\"},{\"hovertemplate\":\"company_name=PCNano Materials<br>variable=Negative<br>year=%{x}<br>value=%{y}<extra></extra>\",\"legendgroup\":\"PCNano Materials\",\"line\":{\"color\":\"#EF553B\",\"dash\":\"solid\"},\"marker\":{\"symbol\":\"circle\"},\"mode\":\"lines\",\"name\":\"PCNano Materials\",\"showlegend\":false,\"x\":[2021,2022],\"xaxis\":\"x\",\"y\":[0,1],\"yaxis\":\"y\",\"type\":\"scattergl\"},{\"hovertemplate\":\"company_name=PCNano Materials<br>variable=Neutral<br>year=%{x}<br>value=%{y}<extra></extra>\",\"legendgroup\":\"PCNano Materials\",\"line\":{\"color\":\"#EF553B\",\"dash\":\"solid\"},\"marker\":{\"symbol\":\"circle\"},\"mode\":\"lines\",\"name\":\"PCNano Materials\",\"showlegend\":false,\"x\":[2021,2022],\"xaxis\":\"x\",\"y\":[0,4],\"yaxis\":\"y\",\"type\":\"scattergl\"},{\"hovertemplate\":\"company_name=PROBOTEK<br>variable=Positive<br>year=%{x}<br>value=%{y}<extra></extra>\",\"legendgroup\":\"PROBOTEK\",\"line\":{\"color\":\"#00cc96\",\"dash\":\"solid\"},\"marker\":{\"symbol\":\"circle\"},\"mode\":\"lines\",\"name\":\"PROBOTEK\",\"showlegend\":true,\"x\":[2020,2021,2022,2023],\"xaxis\":\"x\",\"y\":[15,22,11,2],\"yaxis\":\"y\",\"type\":\"scattergl\"},{\"hovertemplate\":\"company_name=PROBOTEK<br>variable=Negative<br>year=%{x}<br>value=%{y}<extra></extra>\",\"legendgroup\":\"PROBOTEK\",\"line\":{\"color\":\"#00cc96\",\"dash\":\"solid\"},\"marker\":{\"symbol\":\"circle\"},\"mode\":\"lines\",\"name\":\"PROBOTEK\",\"showlegend\":false,\"x\":[2020,2021,2022,2023],\"xaxis\":\"x\",\"y\":[3,6,0,0],\"yaxis\":\"y\",\"type\":\"scattergl\"},{\"hovertemplate\":\"company_name=PROBOTEK<br>variable=Neutral<br>year=%{x}<br>value=%{y}<extra></extra>\",\"legendgroup\":\"PROBOTEK\",\"line\":{\"color\":\"#00cc96\",\"dash\":\"solid\"},\"marker\":{\"symbol\":\"circle\"},\"mode\":\"lines\",\"name\":\"PROBOTEK\",\"showlegend\":false,\"x\":[2020,2021,2022,2023],\"xaxis\":\"x\",\"y\":[8,23,12,1],\"yaxis\":\"y\",\"type\":\"scattergl\"},{\"hovertemplate\":\"company_name=Pandas<br>variable=Positive<br>year=%{x}<br>value=%{y}<extra></extra>\",\"legendgroup\":\"Pandas\",\"line\":{\"color\":\"#ab63fa\",\"dash\":\"solid\"},\"marker\":{\"symbol\":\"circle\"},\"mode\":\"lines\",\"name\":\"Pandas\",\"showlegend\":true,\"x\":[2020,2022,2023],\"xaxis\":\"x\",\"y\":[0,33,6],\"yaxis\":\"y\",\"type\":\"scattergl\"},{\"hovertemplate\":\"company_name=Pandas<br>variable=Negative<br>year=%{x}<br>value=%{y}<extra></extra>\",\"legendgroup\":\"Pandas\",\"line\":{\"color\":\"#ab63fa\",\"dash\":\"solid\"},\"marker\":{\"symbol\":\"circle\"},\"mode\":\"lines\",\"name\":\"Pandas\",\"showlegend\":false,\"x\":[2020,2022,2023],\"xaxis\":\"x\",\"y\":[0,0,0],\"yaxis\":\"y\",\"type\":\"scattergl\"},{\"hovertemplate\":\"company_name=Pandas<br>variable=Neutral<br>year=%{x}<br>value=%{y}<extra></extra>\",\"legendgroup\":\"Pandas\",\"line\":{\"color\":\"#ab63fa\",\"dash\":\"solid\"},\"marker\":{\"symbol\":\"circle\"},\"mode\":\"lines\",\"name\":\"Pandas\",\"showlegend\":false,\"x\":[2020,2022,2023],\"xaxis\":\"x\",\"y\":[1,1,1],\"yaxis\":\"y\",\"type\":\"scattergl\"},{\"hovertemplate\":\"company_name=Pandrosia<br>variable=Positive<br>year=%{x}<br>value=%{y}<extra></extra>\",\"legendgroup\":\"Pandrosia\",\"line\":{\"color\":\"#FFA15A\",\"dash\":\"solid\"},\"marker\":{\"symbol\":\"circle\"},\"mode\":\"lines\",\"name\":\"Pandrosia\",\"showlegend\":true,\"x\":[2018,2019,2020],\"xaxis\":\"x\",\"y\":[10,1,0],\"yaxis\":\"y\",\"type\":\"scattergl\"},{\"hovertemplate\":\"company_name=Pandrosia<br>variable=Negative<br>year=%{x}<br>value=%{y}<extra></extra>\",\"legendgroup\":\"Pandrosia\",\"line\":{\"color\":\"#FFA15A\",\"dash\":\"solid\"},\"marker\":{\"symbol\":\"circle\"},\"mode\":\"lines\",\"name\":\"Pandrosia\",\"showlegend\":false,\"x\":[2018,2019,2020],\"xaxis\":\"x\",\"y\":[9,2,0],\"yaxis\":\"y\",\"type\":\"scattergl\"},{\"hovertemplate\":\"company_name=Pandrosia<br>variable=Neutral<br>year=%{x}<br>value=%{y}<extra></extra>\",\"legendgroup\":\"Pandrosia\",\"line\":{\"color\":\"#FFA15A\",\"dash\":\"solid\"},\"marker\":{\"symbol\":\"circle\"},\"mode\":\"lines\",\"name\":\"Pandrosia\",\"showlegend\":false,\"x\":[2018,2019,2020],\"xaxis\":\"x\",\"y\":[675,63,22],\"yaxis\":\"y\",\"type\":\"scattergl\"},{\"hovertemplate\":\"company_name=ParkAround<br>variable=Positive<br>year=%{x}<br>value=%{y}<extra></extra>\",\"legendgroup\":\"ParkAround\",\"line\":{\"color\":\"#19d3f3\",\"dash\":\"solid\"},\"marker\":{\"symbol\":\"circle\"},\"mode\":\"lines\",\"name\":\"ParkAround\",\"showlegend\":true,\"x\":[2017,2018,2019,2020,2021,2022,2023],\"xaxis\":\"x\",\"y\":[1,2,10,4,2,0,0],\"yaxis\":\"y\",\"type\":\"scattergl\"},{\"hovertemplate\":\"company_name=ParkAround<br>variable=Negative<br>year=%{x}<br>value=%{y}<extra></extra>\",\"legendgroup\":\"ParkAround\",\"line\":{\"color\":\"#19d3f3\",\"dash\":\"solid\"},\"marker\":{\"symbol\":\"circle\"},\"mode\":\"lines\",\"name\":\"ParkAround\",\"showlegend\":false,\"x\":[2017,2018,2019,2020,2021,2022,2023],\"xaxis\":\"x\",\"y\":[0,0,2,0,0,0,0],\"yaxis\":\"y\",\"type\":\"scattergl\"},{\"hovertemplate\":\"company_name=ParkAround<br>variable=Neutral<br>year=%{x}<br>value=%{y}<extra></extra>\",\"legendgroup\":\"ParkAround\",\"line\":{\"color\":\"#19d3f3\",\"dash\":\"solid\"},\"marker\":{\"symbol\":\"circle\"},\"mode\":\"lines\",\"name\":\"ParkAround\",\"showlegend\":false,\"x\":[2017,2018,2019,2020,2021,2022,2023],\"xaxis\":\"x\",\"y\":[25,34,100,39,19,33,23],\"yaxis\":\"y\",\"type\":\"scattergl\"},{\"hovertemplate\":\"company_name=ParkingStream<br>variable=Positive<br>year=%{x}<br>value=%{y}<extra></extra>\",\"legendgroup\":\"ParkingStream\",\"line\":{\"color\":\"#FF6692\",\"dash\":\"solid\"},\"marker\":{\"symbol\":\"circle\"},\"mode\":\"lines\",\"name\":\"ParkingStream\",\"showlegend\":true,\"x\":[2019],\"xaxis\":\"x\",\"y\":[5],\"yaxis\":\"y\",\"type\":\"scattergl\"},{\"hovertemplate\":\"company_name=ParkingStream<br>variable=Negative<br>year=%{x}<br>value=%{y}<extra></extra>\",\"legendgroup\":\"ParkingStream\",\"line\":{\"color\":\"#FF6692\",\"dash\":\"solid\"},\"marker\":{\"symbol\":\"circle\"},\"mode\":\"lines\",\"name\":\"ParkingStream\",\"showlegend\":false,\"x\":[2019],\"xaxis\":\"x\",\"y\":[0],\"yaxis\":\"y\",\"type\":\"scattergl\"},{\"hovertemplate\":\"company_name=ParkingStream<br>variable=Neutral<br>year=%{x}<br>value=%{y}<extra></extra>\",\"legendgroup\":\"ParkingStream\",\"line\":{\"color\":\"#FF6692\",\"dash\":\"solid\"},\"marker\":{\"symbol\":\"circle\"},\"mode\":\"lines\",\"name\":\"ParkingStream\",\"showlegend\":false,\"x\":[2019],\"xaxis\":\"x\",\"y\":[5],\"yaxis\":\"y\",\"type\":\"scattergl\"},{\"hovertemplate\":\"company_name=PaymentComponents<br>variable=Positive<br>year=%{x}<br>value=%{y}<extra></extra>\",\"legendgroup\":\"PaymentComponents\",\"line\":{\"color\":\"#B6E880\",\"dash\":\"solid\"},\"marker\":{\"symbol\":\"circle\"},\"mode\":\"lines\",\"name\":\"PaymentComponents\",\"showlegend\":true,\"x\":[2017,2018,2019,2020,2021,2022,2023],\"xaxis\":\"x\",\"y\":[278,319,246,98,147,166,43],\"yaxis\":\"y\",\"type\":\"scattergl\"},{\"hovertemplate\":\"company_name=PaymentComponents<br>variable=Negative<br>year=%{x}<br>value=%{y}<extra></extra>\",\"legendgroup\":\"PaymentComponents\",\"line\":{\"color\":\"#B6E880\",\"dash\":\"solid\"},\"marker\":{\"symbol\":\"circle\"},\"mode\":\"lines\",\"name\":\"PaymentComponents\",\"showlegend\":false,\"x\":[2017,2018,2019,2020,2021,2022,2023],\"xaxis\":\"x\",\"y\":[51,80,57,24,37,8,2],\"yaxis\":\"y\",\"type\":\"scattergl\"},{\"hovertemplate\":\"company_name=PaymentComponents<br>variable=Neutral<br>year=%{x}<br>value=%{y}<extra></extra>\",\"legendgroup\":\"PaymentComponents\",\"line\":{\"color\":\"#B6E880\",\"dash\":\"solid\"},\"marker\":{\"symbol\":\"circle\"},\"mode\":\"lines\",\"name\":\"PaymentComponents\",\"showlegend\":false,\"x\":[2017,2018,2019,2020,2021,2022,2023],\"xaxis\":\"x\",\"y\":[781,666,536,219,171,69,27],\"yaxis\":\"y\",\"type\":\"scattergl\"},{\"hovertemplate\":\"company_name=Perceptual Robotics<br>variable=Positive<br>year=%{x}<br>value=%{y}<extra></extra>\",\"legendgroup\":\"Perceptual Robotics\",\"line\":{\"color\":\"#FF97FF\",\"dash\":\"solid\"},\"marker\":{\"symbol\":\"circle\"},\"mode\":\"lines\",\"name\":\"Perceptual Robotics\",\"showlegend\":true,\"x\":[2017,2021,2022,2023],\"xaxis\":\"x\",\"y\":[5,5,45,18],\"yaxis\":\"y\",\"type\":\"scattergl\"},{\"hovertemplate\":\"company_name=Perceptual Robotics<br>variable=Negative<br>year=%{x}<br>value=%{y}<extra></extra>\",\"legendgroup\":\"Perceptual Robotics\",\"line\":{\"color\":\"#FF97FF\",\"dash\":\"solid\"},\"marker\":{\"symbol\":\"circle\"},\"mode\":\"lines\",\"name\":\"Perceptual Robotics\",\"showlegend\":false,\"x\":[2017,2021,2022,2023],\"xaxis\":\"x\",\"y\":[0,2,4,0],\"yaxis\":\"y\",\"type\":\"scattergl\"},{\"hovertemplate\":\"company_name=Perceptual Robotics<br>variable=Neutral<br>year=%{x}<br>value=%{y}<extra></extra>\",\"legendgroup\":\"Perceptual Robotics\",\"line\":{\"color\":\"#FF97FF\",\"dash\":\"solid\"},\"marker\":{\"symbol\":\"circle\"},\"mode\":\"lines\",\"name\":\"Perceptual Robotics\",\"showlegend\":false,\"x\":[2017,2021,2022,2023],\"xaxis\":\"x\",\"y\":[3,0,8,2],\"yaxis\":\"y\",\"type\":\"scattergl\"},{\"hovertemplate\":\"company_name=Phasmatic<br>variable=Positive<br>year=%{x}<br>value=%{y}<extra></extra>\",\"legendgroup\":\"Phasmatic\",\"line\":{\"color\":\"#FECB52\",\"dash\":\"solid\"},\"marker\":{\"symbol\":\"circle\"},\"mode\":\"lines\",\"name\":\"Phasmatic\",\"showlegend\":true,\"x\":[2021,2022,2023],\"xaxis\":\"x\",\"y\":[5,1,2],\"yaxis\":\"y\",\"type\":\"scattergl\"},{\"hovertemplate\":\"company_name=Phasmatic<br>variable=Negative<br>year=%{x}<br>value=%{y}<extra></extra>\",\"legendgroup\":\"Phasmatic\",\"line\":{\"color\":\"#FECB52\",\"dash\":\"solid\"},\"marker\":{\"symbol\":\"circle\"},\"mode\":\"lines\",\"name\":\"Phasmatic\",\"showlegend\":false,\"x\":[2021,2022,2023],\"xaxis\":\"x\",\"y\":[0,0,0],\"yaxis\":\"y\",\"type\":\"scattergl\"},{\"hovertemplate\":\"company_name=Phasmatic<br>variable=Neutral<br>year=%{x}<br>value=%{y}<extra></extra>\",\"legendgroup\":\"Phasmatic\",\"line\":{\"color\":\"#FECB52\",\"dash\":\"solid\"},\"marker\":{\"symbol\":\"circle\"},\"mode\":\"lines\",\"name\":\"Phasmatic\",\"showlegend\":false,\"x\":[2021,2022,2023],\"xaxis\":\"x\",\"y\":[4,0,0],\"yaxis\":\"y\",\"type\":\"scattergl\"},{\"hovertemplate\":\"company_name=Phenometry<br>variable=Positive<br>year=%{x}<br>value=%{y}<extra></extra>\",\"legendgroup\":\"Phenometry\",\"line\":{\"color\":\"#636efa\",\"dash\":\"solid\"},\"marker\":{\"symbol\":\"circle\"},\"mode\":\"lines\",\"name\":\"Phenometry\",\"showlegend\":true,\"x\":[2022],\"xaxis\":\"x\",\"y\":[2],\"yaxis\":\"y\",\"type\":\"scattergl\"},{\"hovertemplate\":\"company_name=Phenometry<br>variable=Negative<br>year=%{x}<br>value=%{y}<extra></extra>\",\"legendgroup\":\"Phenometry\",\"line\":{\"color\":\"#636efa\",\"dash\":\"solid\"},\"marker\":{\"symbol\":\"circle\"},\"mode\":\"lines\",\"name\":\"Phenometry\",\"showlegend\":false,\"x\":[2022],\"xaxis\":\"x\",\"y\":[0],\"yaxis\":\"y\",\"type\":\"scattergl\"},{\"hovertemplate\":\"company_name=Phenometry<br>variable=Neutral<br>year=%{x}<br>value=%{y}<extra></extra>\",\"legendgroup\":\"Phenometry\",\"line\":{\"color\":\"#636efa\",\"dash\":\"solid\"},\"marker\":{\"symbol\":\"circle\"},\"mode\":\"lines\",\"name\":\"Phenometry\",\"showlegend\":false,\"x\":[2022],\"xaxis\":\"x\",\"y\":[1],\"yaxis\":\"y\",\"type\":\"scattergl\"},{\"hovertemplate\":\"company_name=Pixel Reign<br>variable=Positive<br>year=%{x}<br>value=%{y}<extra></extra>\",\"legendgroup\":\"Pixel Reign\",\"line\":{\"color\":\"#EF553B\",\"dash\":\"solid\"},\"marker\":{\"symbol\":\"circle\"},\"mode\":\"lines\",\"name\":\"Pixel Reign\",\"showlegend\":true,\"x\":[2017,2018,2019,2020,2021,2022,2023],\"xaxis\":\"x\",\"y\":[29,38,28,7,1,22,3],\"yaxis\":\"y\",\"type\":\"scattergl\"},{\"hovertemplate\":\"company_name=Pixel Reign<br>variable=Negative<br>year=%{x}<br>value=%{y}<extra></extra>\",\"legendgroup\":\"Pixel Reign\",\"line\":{\"color\":\"#EF553B\",\"dash\":\"solid\"},\"marker\":{\"symbol\":\"circle\"},\"mode\":\"lines\",\"name\":\"Pixel Reign\",\"showlegend\":false,\"x\":[2017,2018,2019,2020,2021,2022,2023],\"xaxis\":\"x\",\"y\":[11,13,2,4,3,2,0],\"yaxis\":\"y\",\"type\":\"scattergl\"},{\"hovertemplate\":\"company_name=Pixel Reign<br>variable=Neutral<br>year=%{x}<br>value=%{y}<extra></extra>\",\"legendgroup\":\"Pixel Reign\",\"line\":{\"color\":\"#EF553B\",\"dash\":\"solid\"},\"marker\":{\"symbol\":\"circle\"},\"mode\":\"lines\",\"name\":\"Pixel Reign\",\"showlegend\":false,\"x\":[2017,2018,2019,2020,2021,2022,2023],\"xaxis\":\"x\",\"y\":[34,33,28,12,2,15,0],\"yaxis\":\"y\",\"type\":\"scattergl\"},{\"hovertemplate\":\"company_name=Pixelocracy<br>variable=Positive<br>year=%{x}<br>value=%{y}<extra></extra>\",\"legendgroup\":\"Pixelocracy\",\"line\":{\"color\":\"#00cc96\",\"dash\":\"solid\"},\"marker\":{\"symbol\":\"circle\"},\"mode\":\"lines\",\"name\":\"Pixelocracy\",\"showlegend\":true,\"x\":[2020],\"xaxis\":\"x\",\"y\":[1],\"yaxis\":\"y\",\"type\":\"scattergl\"},{\"hovertemplate\":\"company_name=Pixelocracy<br>variable=Negative<br>year=%{x}<br>value=%{y}<extra></extra>\",\"legendgroup\":\"Pixelocracy\",\"line\":{\"color\":\"#00cc96\",\"dash\":\"solid\"},\"marker\":{\"symbol\":\"circle\"},\"mode\":\"lines\",\"name\":\"Pixelocracy\",\"showlegend\":false,\"x\":[2020],\"xaxis\":\"x\",\"y\":[0],\"yaxis\":\"y\",\"type\":\"scattergl\"},{\"hovertemplate\":\"company_name=Pixelocracy<br>variable=Neutral<br>year=%{x}<br>value=%{y}<extra></extra>\",\"legendgroup\":\"Pixelocracy\",\"line\":{\"color\":\"#00cc96\",\"dash\":\"solid\"},\"marker\":{\"symbol\":\"circle\"},\"mode\":\"lines\",\"name\":\"Pixelocracy\",\"showlegend\":false,\"x\":[2020],\"xaxis\":\"x\",\"y\":[0],\"yaxis\":\"y\",\"type\":\"scattergl\"},{\"hovertemplate\":\"company_name=Pollfish<br>variable=Positive<br>year=%{x}<br>value=%{y}<extra></extra>\",\"legendgroup\":\"Pollfish\",\"line\":{\"color\":\"#ab63fa\",\"dash\":\"solid\"},\"marker\":{\"symbol\":\"circle\"},\"mode\":\"lines\",\"name\":\"Pollfish\",\"showlegend\":true,\"x\":[2017,2018,2019,2020,2021,2022,2023],\"xaxis\":\"x\",\"y\":[73,31,26,61,102,29,3],\"yaxis\":\"y\",\"type\":\"scattergl\"},{\"hovertemplate\":\"company_name=Pollfish<br>variable=Negative<br>year=%{x}<br>value=%{y}<extra></extra>\",\"legendgroup\":\"Pollfish\",\"line\":{\"color\":\"#ab63fa\",\"dash\":\"solid\"},\"marker\":{\"symbol\":\"circle\"},\"mode\":\"lines\",\"name\":\"Pollfish\",\"showlegend\":false,\"x\":[2017,2018,2019,2020,2021,2022,2023],\"xaxis\":\"x\",\"y\":[8,4,6,8,12,3,0],\"yaxis\":\"y\",\"type\":\"scattergl\"},{\"hovertemplate\":\"company_name=Pollfish<br>variable=Neutral<br>year=%{x}<br>value=%{y}<extra></extra>\",\"legendgroup\":\"Pollfish\",\"line\":{\"color\":\"#ab63fa\",\"dash\":\"solid\"},\"marker\":{\"symbol\":\"circle\"},\"mode\":\"lines\",\"name\":\"Pollfish\",\"showlegend\":false,\"x\":[2017,2018,2019,2020,2021,2022,2023],\"xaxis\":\"x\",\"y\":[31,15,17,18,50,29,1],\"yaxis\":\"y\",\"type\":\"scattergl\"},{\"hovertemplate\":\"company_name=Purposeful<br>variable=Positive<br>year=%{x}<br>value=%{y}<extra></extra>\",\"legendgroup\":\"Purposeful\",\"line\":{\"color\":\"#FFA15A\",\"dash\":\"solid\"},\"marker\":{\"symbol\":\"circle\"},\"mode\":\"lines\",\"name\":\"Purposeful\",\"showlegend\":true,\"x\":[2020],\"xaxis\":\"x\",\"y\":[0],\"yaxis\":\"y\",\"type\":\"scattergl\"},{\"hovertemplate\":\"company_name=Purposeful<br>variable=Negative<br>year=%{x}<br>value=%{y}<extra></extra>\",\"legendgroup\":\"Purposeful\",\"line\":{\"color\":\"#FFA15A\",\"dash\":\"solid\"},\"marker\":{\"symbol\":\"circle\"},\"mode\":\"lines\",\"name\":\"Purposeful\",\"showlegend\":false,\"x\":[2020],\"xaxis\":\"x\",\"y\":[0],\"yaxis\":\"y\",\"type\":\"scattergl\"},{\"hovertemplate\":\"company_name=Purposeful<br>variable=Neutral<br>year=%{x}<br>value=%{y}<extra></extra>\",\"legendgroup\":\"Purposeful\",\"line\":{\"color\":\"#FFA15A\",\"dash\":\"solid\"},\"marker\":{\"symbol\":\"circle\"},\"mode\":\"lines\",\"name\":\"Purposeful\",\"showlegend\":false,\"x\":[2020],\"xaxis\":\"x\",\"y\":[3],\"yaxis\":\"y\",\"type\":\"scattergl\"},{\"hovertemplate\":\"company_name=QC Analytics<br>variable=Positive<br>year=%{x}<br>value=%{y}<extra></extra>\",\"legendgroup\":\"QC Analytics\",\"line\":{\"color\":\"#19d3f3\",\"dash\":\"solid\"},\"marker\":{\"symbol\":\"circle\"},\"mode\":\"lines\",\"name\":\"QC Analytics\",\"showlegend\":true,\"x\":[2019,2020,2021,2022,2023],\"xaxis\":\"x\",\"y\":[0,4,7,7,3],\"yaxis\":\"y\",\"type\":\"scattergl\"},{\"hovertemplate\":\"company_name=QC Analytics<br>variable=Negative<br>year=%{x}<br>value=%{y}<extra></extra>\",\"legendgroup\":\"QC Analytics\",\"line\":{\"color\":\"#19d3f3\",\"dash\":\"solid\"},\"marker\":{\"symbol\":\"circle\"},\"mode\":\"lines\",\"name\":\"QC Analytics\",\"showlegend\":false,\"x\":[2019,2020,2021,2022,2023],\"xaxis\":\"x\",\"y\":[0,4,3,0,0],\"yaxis\":\"y\",\"type\":\"scattergl\"},{\"hovertemplate\":\"company_name=QC Analytics<br>variable=Neutral<br>year=%{x}<br>value=%{y}<extra></extra>\",\"legendgroup\":\"QC Analytics\",\"line\":{\"color\":\"#19d3f3\",\"dash\":\"solid\"},\"marker\":{\"symbol\":\"circle\"},\"mode\":\"lines\",\"name\":\"QC Analytics\",\"showlegend\":false,\"x\":[2019,2020,2021,2022,2023],\"xaxis\":\"x\",\"y\":[5,4,21,7,3],\"yaxis\":\"y\",\"type\":\"scattergl\"},{\"hovertemplate\":\"company_name=Qcells Europe<br>variable=Positive<br>year=%{x}<br>value=%{y}<extra></extra>\",\"legendgroup\":\"Qcells Europe\",\"line\":{\"color\":\"#FF6692\",\"dash\":\"solid\"},\"marker\":{\"symbol\":\"circle\"},\"mode\":\"lines\",\"name\":\"Qcells Europe\",\"showlegend\":true,\"x\":[2019,2020,2021,2022,2023],\"xaxis\":\"x\",\"y\":[6,32,35,27,16],\"yaxis\":\"y\",\"type\":\"scattergl\"},{\"hovertemplate\":\"company_name=Qcells Europe<br>variable=Negative<br>year=%{x}<br>value=%{y}<extra></extra>\",\"legendgroup\":\"Qcells Europe\",\"line\":{\"color\":\"#FF6692\",\"dash\":\"solid\"},\"marker\":{\"symbol\":\"circle\"},\"mode\":\"lines\",\"name\":\"Qcells Europe\",\"showlegend\":false,\"x\":[2019,2020,2021,2022,2023],\"xaxis\":\"x\",\"y\":[3,0,1,1,1],\"yaxis\":\"y\",\"type\":\"scattergl\"},{\"hovertemplate\":\"company_name=Qcells Europe<br>variable=Neutral<br>year=%{x}<br>value=%{y}<extra></extra>\",\"legendgroup\":\"Qcells Europe\",\"line\":{\"color\":\"#FF6692\",\"dash\":\"solid\"},\"marker\":{\"symbol\":\"circle\"},\"mode\":\"lines\",\"name\":\"Qcells Europe\",\"showlegend\":false,\"x\":[2019,2020,2021,2022,2023],\"xaxis\":\"x\",\"y\":[3,6,8,12,1],\"yaxis\":\"y\",\"type\":\"scattergl\"},{\"hovertemplate\":\"company_name=Quadible<br>variable=Positive<br>year=%{x}<br>value=%{y}<extra></extra>\",\"legendgroup\":\"Quadible\",\"line\":{\"color\":\"#B6E880\",\"dash\":\"solid\"},\"marker\":{\"symbol\":\"circle\"},\"mode\":\"lines\",\"name\":\"Quadible\",\"showlegend\":true,\"x\":[2017,2018,2019,2020,2022],\"xaxis\":\"x\",\"y\":[7,0,4,1,1],\"yaxis\":\"y\",\"type\":\"scattergl\"},{\"hovertemplate\":\"company_name=Quadible<br>variable=Negative<br>year=%{x}<br>value=%{y}<extra></extra>\",\"legendgroup\":\"Quadible\",\"line\":{\"color\":\"#B6E880\",\"dash\":\"solid\"},\"marker\":{\"symbol\":\"circle\"},\"mode\":\"lines\",\"name\":\"Quadible\",\"showlegend\":false,\"x\":[2017,2018,2019,2020,2022],\"xaxis\":\"x\",\"y\":[0,0,1,0,0],\"yaxis\":\"y\",\"type\":\"scattergl\"},{\"hovertemplate\":\"company_name=Quadible<br>variable=Neutral<br>year=%{x}<br>value=%{y}<extra></extra>\",\"legendgroup\":\"Quadible\",\"line\":{\"color\":\"#B6E880\",\"dash\":\"solid\"},\"marker\":{\"symbol\":\"circle\"},\"mode\":\"lines\",\"name\":\"Quadible\",\"showlegend\":false,\"x\":[2017,2018,2019,2020,2022],\"xaxis\":\"x\",\"y\":[11,5,6,0,1],\"yaxis\":\"y\",\"type\":\"scattergl\"},{\"hovertemplate\":\"company_name=RENVIS<br>variable=Positive<br>year=%{x}<br>value=%{y}<extra></extra>\",\"legendgroup\":\"RENVIS\",\"line\":{\"color\":\"#FF97FF\",\"dash\":\"solid\"},\"marker\":{\"symbol\":\"circle\"},\"mode\":\"lines\",\"name\":\"RENVIS\",\"showlegend\":true,\"x\":[2018,2019,2020,2021,2022,2023],\"xaxis\":\"x\",\"y\":[13,19,21,23,55,13],\"yaxis\":\"y\",\"type\":\"scattergl\"},{\"hovertemplate\":\"company_name=RENVIS<br>variable=Negative<br>year=%{x}<br>value=%{y}<extra></extra>\",\"legendgroup\":\"RENVIS\",\"line\":{\"color\":\"#FF97FF\",\"dash\":\"solid\"},\"marker\":{\"symbol\":\"circle\"},\"mode\":\"lines\",\"name\":\"RENVIS\",\"showlegend\":false,\"x\":[2018,2019,2020,2021,2022,2023],\"xaxis\":\"x\",\"y\":[0,2,1,0,3,1],\"yaxis\":\"y\",\"type\":\"scattergl\"},{\"hovertemplate\":\"company_name=RENVIS<br>variable=Neutral<br>year=%{x}<br>value=%{y}<extra></extra>\",\"legendgroup\":\"RENVIS\",\"line\":{\"color\":\"#FF97FF\",\"dash\":\"solid\"},\"marker\":{\"symbol\":\"circle\"},\"mode\":\"lines\",\"name\":\"RENVIS\",\"showlegend\":false,\"x\":[2018,2019,2020,2021,2022,2023],\"xaxis\":\"x\",\"y\":[14,17,6,5,39,6],\"yaxis\":\"y\",\"type\":\"scattergl\"},{\"hovertemplate\":\"company_name=RETOUCH Health Solutions<br>variable=Positive<br>year=%{x}<br>value=%{y}<extra></extra>\",\"legendgroup\":\"RETOUCH Health Solutions\",\"line\":{\"color\":\"#FECB52\",\"dash\":\"solid\"},\"marker\":{\"symbol\":\"circle\"},\"mode\":\"lines\",\"name\":\"RETOUCH Health Solutions\",\"showlegend\":true,\"x\":[2022],\"xaxis\":\"x\",\"y\":[0],\"yaxis\":\"y\",\"type\":\"scattergl\"},{\"hovertemplate\":\"company_name=RETOUCH Health Solutions<br>variable=Negative<br>year=%{x}<br>value=%{y}<extra></extra>\",\"legendgroup\":\"RETOUCH Health Solutions\",\"line\":{\"color\":\"#FECB52\",\"dash\":\"solid\"},\"marker\":{\"symbol\":\"circle\"},\"mode\":\"lines\",\"name\":\"RETOUCH Health Solutions\",\"showlegend\":false,\"x\":[2022],\"xaxis\":\"x\",\"y\":[0],\"yaxis\":\"y\",\"type\":\"scattergl\"},{\"hovertemplate\":\"company_name=RETOUCH Health Solutions<br>variable=Neutral<br>year=%{x}<br>value=%{y}<extra></extra>\",\"legendgroup\":\"RETOUCH Health Solutions\",\"line\":{\"color\":\"#FECB52\",\"dash\":\"solid\"},\"marker\":{\"symbol\":\"circle\"},\"mode\":\"lines\",\"name\":\"RETOUCH Health Solutions\",\"showlegend\":false,\"x\":[2022],\"xaxis\":\"x\",\"y\":[1],\"yaxis\":\"y\",\"type\":\"scattergl\"},{\"hovertemplate\":\"company_name=RTsafe<br>variable=Positive<br>year=%{x}<br>value=%{y}<extra></extra>\",\"legendgroup\":\"RTsafe\",\"line\":{\"color\":\"#636efa\",\"dash\":\"solid\"},\"marker\":{\"symbol\":\"circle\"},\"mode\":\"lines\",\"name\":\"RTsafe\",\"showlegend\":true,\"x\":[2018,2019,2020,2021,2022,2023],\"xaxis\":\"x\",\"y\":[11,29,34,42,37,6],\"yaxis\":\"y\",\"type\":\"scattergl\"},{\"hovertemplate\":\"company_name=RTsafe<br>variable=Negative<br>year=%{x}<br>value=%{y}<extra></extra>\",\"legendgroup\":\"RTsafe\",\"line\":{\"color\":\"#636efa\",\"dash\":\"solid\"},\"marker\":{\"symbol\":\"circle\"},\"mode\":\"lines\",\"name\":\"RTsafe\",\"showlegend\":false,\"x\":[2018,2019,2020,2021,2022,2023],\"xaxis\":\"x\",\"y\":[0,1,2,0,2,0],\"yaxis\":\"y\",\"type\":\"scattergl\"},{\"hovertemplate\":\"company_name=RTsafe<br>variable=Neutral<br>year=%{x}<br>value=%{y}<extra></extra>\",\"legendgroup\":\"RTsafe\",\"line\":{\"color\":\"#636efa\",\"dash\":\"solid\"},\"marker\":{\"symbol\":\"circle\"},\"mode\":\"lines\",\"name\":\"RTsafe\",\"showlegend\":false,\"x\":[2018,2019,2020,2021,2022,2023],\"xaxis\":\"x\",\"y\":[9,24,8,7,14,5],\"yaxis\":\"y\",\"type\":\"scattergl\"},{\"hovertemplate\":\"company_name=Refarm Leisure Farm<br>variable=Positive<br>year=%{x}<br>value=%{y}<extra></extra>\",\"legendgroup\":\"Refarm Leisure Farm\",\"line\":{\"color\":\"#EF553B\",\"dash\":\"solid\"},\"marker\":{\"symbol\":\"circle\"},\"mode\":\"lines\",\"name\":\"Refarm Leisure Farm\",\"showlegend\":true,\"x\":[2018,2019,2020],\"xaxis\":\"x\",\"y\":[17,4,1],\"yaxis\":\"y\",\"type\":\"scattergl\"},{\"hovertemplate\":\"company_name=Refarm Leisure Farm<br>variable=Negative<br>year=%{x}<br>value=%{y}<extra></extra>\",\"legendgroup\":\"Refarm Leisure Farm\",\"line\":{\"color\":\"#EF553B\",\"dash\":\"solid\"},\"marker\":{\"symbol\":\"circle\"},\"mode\":\"lines\",\"name\":\"Refarm Leisure Farm\",\"showlegend\":false,\"x\":[2018,2019,2020],\"xaxis\":\"x\",\"y\":[0,0,0],\"yaxis\":\"y\",\"type\":\"scattergl\"},{\"hovertemplate\":\"company_name=Refarm Leisure Farm<br>variable=Neutral<br>year=%{x}<br>value=%{y}<extra></extra>\",\"legendgroup\":\"Refarm Leisure Farm\",\"line\":{\"color\":\"#EF553B\",\"dash\":\"solid\"},\"marker\":{\"symbol\":\"circle\"},\"mode\":\"lines\",\"name\":\"Refarm Leisure Farm\",\"showlegend\":false,\"x\":[2018,2019,2020],\"xaxis\":\"x\",\"y\":[10,0,0],\"yaxis\":\"y\",\"type\":\"scattergl\"},{\"hovertemplate\":\"company_name=Reveffect<br>variable=Positive<br>year=%{x}<br>value=%{y}<extra></extra>\",\"legendgroup\":\"Reveffect\",\"line\":{\"color\":\"#00cc96\",\"dash\":\"solid\"},\"marker\":{\"symbol\":\"circle\"},\"mode\":\"lines\",\"name\":\"Reveffect\",\"showlegend\":true,\"x\":[2019,2020,2021,2022,2023],\"xaxis\":\"x\",\"y\":[12,11,2,1,0],\"yaxis\":\"y\",\"type\":\"scattergl\"},{\"hovertemplate\":\"company_name=Reveffect<br>variable=Negative<br>year=%{x}<br>value=%{y}<extra></extra>\",\"legendgroup\":\"Reveffect\",\"line\":{\"color\":\"#00cc96\",\"dash\":\"solid\"},\"marker\":{\"symbol\":\"circle\"},\"mode\":\"lines\",\"name\":\"Reveffect\",\"showlegend\":false,\"x\":[2019,2020,2021,2022,2023],\"xaxis\":\"x\",\"y\":[1,1,0,0,0],\"yaxis\":\"y\",\"type\":\"scattergl\"},{\"hovertemplate\":\"company_name=Reveffect<br>variable=Neutral<br>year=%{x}<br>value=%{y}<extra></extra>\",\"legendgroup\":\"Reveffect\",\"line\":{\"color\":\"#00cc96\",\"dash\":\"solid\"},\"marker\":{\"symbol\":\"circle\"},\"mode\":\"lines\",\"name\":\"Reveffect\",\"showlegend\":false,\"x\":[2019,2020,2021,2022,2023],\"xaxis\":\"x\",\"y\":[12,6,7,13,7],\"yaxis\":\"y\",\"type\":\"scattergl\"},{\"hovertemplate\":\"company_name=Rokoko<br>variable=Positive<br>year=%{x}<br>value=%{y}<extra></extra>\",\"legendgroup\":\"Rokoko\",\"line\":{\"color\":\"#ab63fa\",\"dash\":\"solid\"},\"marker\":{\"symbol\":\"circle\"},\"mode\":\"lines\",\"name\":\"Rokoko\",\"showlegend\":true,\"x\":[2017,2018,2019,2020,2021,2022,2023],\"xaxis\":\"x\",\"y\":[87,200,213,376,433,315,78],\"yaxis\":\"y\",\"type\":\"scattergl\"},{\"hovertemplate\":\"company_name=Rokoko<br>variable=Negative<br>year=%{x}<br>value=%{y}<extra></extra>\",\"legendgroup\":\"Rokoko\",\"line\":{\"color\":\"#ab63fa\",\"dash\":\"solid\"},\"marker\":{\"symbol\":\"circle\"},\"mode\":\"lines\",\"name\":\"Rokoko\",\"showlegend\":false,\"x\":[2017,2018,2019,2020,2021,2022,2023],\"xaxis\":\"x\",\"y\":[7,17,7,19,72,29,5],\"yaxis\":\"y\",\"type\":\"scattergl\"},{\"hovertemplate\":\"company_name=Rokoko<br>variable=Neutral<br>year=%{x}<br>value=%{y}<extra></extra>\",\"legendgroup\":\"Rokoko\",\"line\":{\"color\":\"#ab63fa\",\"dash\":\"solid\"},\"marker\":{\"symbol\":\"circle\"},\"mode\":\"lines\",\"name\":\"Rokoko\",\"showlegend\":false,\"x\":[2017,2018,2019,2020,2021,2022,2023],\"xaxis\":\"x\",\"y\":[42,47,35,130,583,390,72],\"yaxis\":\"y\",\"type\":\"scattergl\"},{\"hovertemplate\":\"company_name=SAS Tech<br>variable=Positive<br>year=%{x}<br>value=%{y}<extra></extra>\",\"legendgroup\":\"SAS Tech\",\"line\":{\"color\":\"#FFA15A\",\"dash\":\"solid\"},\"marker\":{\"symbol\":\"circle\"},\"mode\":\"lines\",\"name\":\"SAS Tech\",\"showlegend\":true,\"x\":[2020,2022,2023],\"xaxis\":\"x\",\"y\":[0,11,1],\"yaxis\":\"y\",\"type\":\"scattergl\"},{\"hovertemplate\":\"company_name=SAS Tech<br>variable=Negative<br>year=%{x}<br>value=%{y}<extra></extra>\",\"legendgroup\":\"SAS Tech\",\"line\":{\"color\":\"#FFA15A\",\"dash\":\"solid\"},\"marker\":{\"symbol\":\"circle\"},\"mode\":\"lines\",\"name\":\"SAS Tech\",\"showlegend\":false,\"x\":[2020,2022,2023],\"xaxis\":\"x\",\"y\":[0,3,0],\"yaxis\":\"y\",\"type\":\"scattergl\"},{\"hovertemplate\":\"company_name=SAS Tech<br>variable=Neutral<br>year=%{x}<br>value=%{y}<extra></extra>\",\"legendgroup\":\"SAS Tech\",\"line\":{\"color\":\"#FFA15A\",\"dash\":\"solid\"},\"marker\":{\"symbol\":\"circle\"},\"mode\":\"lines\",\"name\":\"SAS Tech\",\"showlegend\":false,\"x\":[2020,2022,2023],\"xaxis\":\"x\",\"y\":[1,31,5],\"yaxis\":\"y\",\"type\":\"scattergl\"},{\"hovertemplate\":\"company_name=SCiO<br>variable=Positive<br>year=%{x}<br>value=%{y}<extra></extra>\",\"legendgroup\":\"SCiO\",\"line\":{\"color\":\"#19d3f3\",\"dash\":\"solid\"},\"marker\":{\"symbol\":\"circle\"},\"mode\":\"lines\",\"name\":\"SCiO\",\"showlegend\":true,\"x\":[2019,2020,2021,2022],\"xaxis\":\"x\",\"y\":[14,17,6,3],\"yaxis\":\"y\",\"type\":\"scattergl\"},{\"hovertemplate\":\"company_name=SCiO<br>variable=Negative<br>year=%{x}<br>value=%{y}<extra></extra>\",\"legendgroup\":\"SCiO\",\"line\":{\"color\":\"#19d3f3\",\"dash\":\"solid\"},\"marker\":{\"symbol\":\"circle\"},\"mode\":\"lines\",\"name\":\"SCiO\",\"showlegend\":false,\"x\":[2019,2020,2021,2022],\"xaxis\":\"x\",\"y\":[1,1,0,0],\"yaxis\":\"y\",\"type\":\"scattergl\"},{\"hovertemplate\":\"company_name=SCiO<br>variable=Neutral<br>year=%{x}<br>value=%{y}<extra></extra>\",\"legendgroup\":\"SCiO\",\"line\":{\"color\":\"#19d3f3\",\"dash\":\"solid\"},\"marker\":{\"symbol\":\"circle\"},\"mode\":\"lines\",\"name\":\"SCiO\",\"showlegend\":false,\"x\":[2019,2020,2021,2022],\"xaxis\":\"x\",\"y\":[9,8,8,1],\"yaxis\":\"y\",\"type\":\"scattergl\"},{\"hovertemplate\":\"company_name=SEEMS PC<br>variable=Positive<br>year=%{x}<br>value=%{y}<extra></extra>\",\"legendgroup\":\"SEEMS PC\",\"line\":{\"color\":\"#FF6692\",\"dash\":\"solid\"},\"marker\":{\"symbol\":\"circle\"},\"mode\":\"lines\",\"name\":\"SEEMS PC\",\"showlegend\":true,\"x\":[2020,2021,2022,2023],\"xaxis\":\"x\",\"y\":[5,4,8,4],\"yaxis\":\"y\",\"type\":\"scattergl\"},{\"hovertemplate\":\"company_name=SEEMS PC<br>variable=Negative<br>year=%{x}<br>value=%{y}<extra></extra>\",\"legendgroup\":\"SEEMS PC\",\"line\":{\"color\":\"#FF6692\",\"dash\":\"solid\"},\"marker\":{\"symbol\":\"circle\"},\"mode\":\"lines\",\"name\":\"SEEMS PC\",\"showlegend\":false,\"x\":[2020,2021,2022,2023],\"xaxis\":\"x\",\"y\":[0,0,2,0],\"yaxis\":\"y\",\"type\":\"scattergl\"},{\"hovertemplate\":\"company_name=SEEMS PC<br>variable=Neutral<br>year=%{x}<br>value=%{y}<extra></extra>\",\"legendgroup\":\"SEEMS PC\",\"line\":{\"color\":\"#FF6692\",\"dash\":\"solid\"},\"marker\":{\"symbol\":\"circle\"},\"mode\":\"lines\",\"name\":\"SEEMS PC\",\"showlegend\":false,\"x\":[2020,2021,2022,2023],\"xaxis\":\"x\",\"y\":[1,2,8,4],\"yaxis\":\"y\",\"type\":\"scattergl\"},{\"hovertemplate\":\"company_name=SPARKLEAN Greece<br>variable=Positive<br>year=%{x}<br>value=%{y}<extra></extra>\",\"legendgroup\":\"SPARKLEAN Greece\",\"line\":{\"color\":\"#B6E880\",\"dash\":\"solid\"},\"marker\":{\"symbol\":\"circle\"},\"mode\":\"lines\",\"name\":\"SPARKLEAN Greece\",\"showlegend\":true,\"x\":[2020,2021,2022,2023],\"xaxis\":\"x\",\"y\":[2,0,4,3],\"yaxis\":\"y\",\"type\":\"scattergl\"},{\"hovertemplate\":\"company_name=SPARKLEAN Greece<br>variable=Negative<br>year=%{x}<br>value=%{y}<extra></extra>\",\"legendgroup\":\"SPARKLEAN Greece\",\"line\":{\"color\":\"#B6E880\",\"dash\":\"solid\"},\"marker\":{\"symbol\":\"circle\"},\"mode\":\"lines\",\"name\":\"SPARKLEAN Greece\",\"showlegend\":false,\"x\":[2020,2021,2022,2023],\"xaxis\":\"x\",\"y\":[0,0,0,0],\"yaxis\":\"y\",\"type\":\"scattergl\"},{\"hovertemplate\":\"company_name=SPARKLEAN Greece<br>variable=Neutral<br>year=%{x}<br>value=%{y}<extra></extra>\",\"legendgroup\":\"SPARKLEAN Greece\",\"line\":{\"color\":\"#B6E880\",\"dash\":\"solid\"},\"marker\":{\"symbol\":\"circle\"},\"mode\":\"lines\",\"name\":\"SPARKLEAN Greece\",\"showlegend\":false,\"x\":[2020,2021,2022,2023],\"xaxis\":\"x\",\"y\":[33,3,40,28],\"yaxis\":\"y\",\"type\":\"scattergl\"},{\"hovertemplate\":\"company_name=SPIN Analytics \\u00e2\\u201d\\u201aofficial<br>variable=Positive<br>year=%{x}<br>value=%{y}<extra></extra>\",\"legendgroup\":\"SPIN Analytics \\u00e2\\u201d\\u201aofficial\",\"line\":{\"color\":\"#FF97FF\",\"dash\":\"solid\"},\"marker\":{\"symbol\":\"circle\"},\"mode\":\"lines\",\"name\":\"SPIN Analytics \\u00e2\\u201d\\u201aofficial\",\"showlegend\":true,\"x\":[2017,2018,2019,2020,2021,2022],\"xaxis\":\"x\",\"y\":[1,15,9,10,12,4],\"yaxis\":\"y\",\"type\":\"scattergl\"},{\"hovertemplate\":\"company_name=SPIN Analytics \\u00e2\\u201d\\u201aofficial<br>variable=Negative<br>year=%{x}<br>value=%{y}<extra></extra>\",\"legendgroup\":\"SPIN Analytics \\u00e2\\u201d\\u201aofficial\",\"line\":{\"color\":\"#FF97FF\",\"dash\":\"solid\"},\"marker\":{\"symbol\":\"circle\"},\"mode\":\"lines\",\"name\":\"SPIN Analytics \\u00e2\\u201d\\u201aofficial\",\"showlegend\":false,\"x\":[2017,2018,2019,2020,2021,2022],\"xaxis\":\"x\",\"y\":[0,2,0,0,0,0],\"yaxis\":\"y\",\"type\":\"scattergl\"},{\"hovertemplate\":\"company_name=SPIN Analytics \\u00e2\\u201d\\u201aofficial<br>variable=Neutral<br>year=%{x}<br>value=%{y}<extra></extra>\",\"legendgroup\":\"SPIN Analytics \\u00e2\\u201d\\u201aofficial\",\"line\":{\"color\":\"#FF97FF\",\"dash\":\"solid\"},\"marker\":{\"symbol\":\"circle\"},\"mode\":\"lines\",\"name\":\"SPIN Analytics \\u00e2\\u201d\\u201aofficial\",\"showlegend\":false,\"x\":[2017,2018,2019,2020,2021,2022],\"xaxis\":\"x\",\"y\":[1,56,16,19,27,16],\"yaxis\":\"y\",\"type\":\"scattergl\"},{\"hovertemplate\":\"company_name=SSIC MUJ<br>variable=Positive<br>year=%{x}<br>value=%{y}<extra></extra>\",\"legendgroup\":\"SSIC MUJ\",\"line\":{\"color\":\"#FECB52\",\"dash\":\"solid\"},\"marker\":{\"symbol\":\"circle\"},\"mode\":\"lines\",\"name\":\"SSIC MUJ\",\"showlegend\":true,\"x\":[2017,2018,2020,2021,2023],\"xaxis\":\"x\",\"y\":[0,0,9,0,1],\"yaxis\":\"y\",\"type\":\"scattergl\"},{\"hovertemplate\":\"company_name=SSIC MUJ<br>variable=Negative<br>year=%{x}<br>value=%{y}<extra></extra>\",\"legendgroup\":\"SSIC MUJ\",\"line\":{\"color\":\"#FECB52\",\"dash\":\"solid\"},\"marker\":{\"symbol\":\"circle\"},\"mode\":\"lines\",\"name\":\"SSIC MUJ\",\"showlegend\":false,\"x\":[2017,2018,2020,2021,2023],\"xaxis\":\"x\",\"y\":[0,1,0,0,0],\"yaxis\":\"y\",\"type\":\"scattergl\"},{\"hovertemplate\":\"company_name=SSIC MUJ<br>variable=Neutral<br>year=%{x}<br>value=%{y}<extra></extra>\",\"legendgroup\":\"SSIC MUJ\",\"line\":{\"color\":\"#FECB52\",\"dash\":\"solid\"},\"marker\":{\"symbol\":\"circle\"},\"mode\":\"lines\",\"name\":\"SSIC MUJ\",\"showlegend\":false,\"x\":[2017,2018,2020,2021,2023],\"xaxis\":\"x\",\"y\":[5,1,4,4,0],\"yaxis\":\"y\",\"type\":\"scattergl\"},{\"hovertemplate\":\"company_name=Sail In Greece<br>variable=Positive<br>year=%{x}<br>value=%{y}<extra></extra>\",\"legendgroup\":\"Sail In Greece\",\"line\":{\"color\":\"#636efa\",\"dash\":\"solid\"},\"marker\":{\"symbol\":\"circle\"},\"mode\":\"lines\",\"name\":\"Sail In Greece\",\"showlegend\":true,\"x\":[2017,2018,2019,2020,2021,2022,2023],\"xaxis\":\"x\",\"y\":[33,22,36,30,49,81,4],\"yaxis\":\"y\",\"type\":\"scattergl\"},{\"hovertemplate\":\"company_name=Sail In Greece<br>variable=Negative<br>year=%{x}<br>value=%{y}<extra></extra>\",\"legendgroup\":\"Sail In Greece\",\"line\":{\"color\":\"#636efa\",\"dash\":\"solid\"},\"marker\":{\"symbol\":\"circle\"},\"mode\":\"lines\",\"name\":\"Sail In Greece\",\"showlegend\":false,\"x\":[2017,2018,2019,2020,2021,2022,2023],\"xaxis\":\"x\",\"y\":[0,2,0,1,1,0,0],\"yaxis\":\"y\",\"type\":\"scattergl\"},{\"hovertemplate\":\"company_name=Sail In Greece<br>variable=Neutral<br>year=%{x}<br>value=%{y}<extra></extra>\",\"legendgroup\":\"Sail In Greece\",\"line\":{\"color\":\"#636efa\",\"dash\":\"solid\"},\"marker\":{\"symbol\":\"circle\"},\"mode\":\"lines\",\"name\":\"Sail In Greece\",\"showlegend\":false,\"x\":[2017,2018,2019,2020,2021,2022,2023],\"xaxis\":\"x\",\"y\":[20,2,0,6,0,0,0],\"yaxis\":\"y\",\"type\":\"scattergl\"},{\"hovertemplate\":\"company_name=SchoolBusNet<br>variable=Positive<br>year=%{x}<br>value=%{y}<extra></extra>\",\"legendgroup\":\"SchoolBusNet\",\"line\":{\"color\":\"#EF553B\",\"dash\":\"solid\"},\"marker\":{\"symbol\":\"circle\"},\"mode\":\"lines\",\"name\":\"SchoolBusNet\",\"showlegend\":true,\"x\":[2019,2020],\"xaxis\":\"x\",\"y\":[2,0],\"yaxis\":\"y\",\"type\":\"scattergl\"},{\"hovertemplate\":\"company_name=SchoolBusNet<br>variable=Negative<br>year=%{x}<br>value=%{y}<extra></extra>\",\"legendgroup\":\"SchoolBusNet\",\"line\":{\"color\":\"#EF553B\",\"dash\":\"solid\"},\"marker\":{\"symbol\":\"circle\"},\"mode\":\"lines\",\"name\":\"SchoolBusNet\",\"showlegend\":false,\"x\":[2019,2020],\"xaxis\":\"x\",\"y\":[0,0],\"yaxis\":\"y\",\"type\":\"scattergl\"},{\"hovertemplate\":\"company_name=SchoolBusNet<br>variable=Neutral<br>year=%{x}<br>value=%{y}<extra></extra>\",\"legendgroup\":\"SchoolBusNet\",\"line\":{\"color\":\"#EF553B\",\"dash\":\"solid\"},\"marker\":{\"symbol\":\"circle\"},\"mode\":\"lines\",\"name\":\"SchoolBusNet\",\"showlegend\":false,\"x\":[2019,2020],\"xaxis\":\"x\",\"y\":[8,1],\"yaxis\":\"y\",\"type\":\"scattergl\"},{\"hovertemplate\":\"company_name=Simpler<br>variable=Positive<br>year=%{x}<br>value=%{y}<extra></extra>\",\"legendgroup\":\"Simpler\",\"line\":{\"color\":\"#00cc96\",\"dash\":\"solid\"},\"marker\":{\"symbol\":\"circle\"},\"mode\":\"lines\",\"name\":\"Simpler\",\"showlegend\":true,\"x\":[2021,2022],\"xaxis\":\"x\",\"y\":[0,22],\"yaxis\":\"y\",\"type\":\"scattergl\"},{\"hovertemplate\":\"company_name=Simpler<br>variable=Negative<br>year=%{x}<br>value=%{y}<extra></extra>\",\"legendgroup\":\"Simpler\",\"line\":{\"color\":\"#00cc96\",\"dash\":\"solid\"},\"marker\":{\"symbol\":\"circle\"},\"mode\":\"lines\",\"name\":\"Simpler\",\"showlegend\":false,\"x\":[2021,2022],\"xaxis\":\"x\",\"y\":[0,4],\"yaxis\":\"y\",\"type\":\"scattergl\"},{\"hovertemplate\":\"company_name=Simpler<br>variable=Neutral<br>year=%{x}<br>value=%{y}<extra></extra>\",\"legendgroup\":\"Simpler\",\"line\":{\"color\":\"#00cc96\",\"dash\":\"solid\"},\"marker\":{\"symbol\":\"circle\"},\"mode\":\"lines\",\"name\":\"Simpler\",\"showlegend\":false,\"x\":[2021,2022],\"xaxis\":\"x\",\"y\":[2,11],\"yaxis\":\"y\",\"type\":\"scattergl\"},{\"hovertemplate\":\"company_name=Socital App<br>variable=Positive<br>year=%{x}<br>value=%{y}<extra></extra>\",\"legendgroup\":\"Socital App\",\"line\":{\"color\":\"#ab63fa\",\"dash\":\"solid\"},\"marker\":{\"symbol\":\"circle\"},\"mode\":\"lines\",\"name\":\"Socital App\",\"showlegend\":true,\"x\":[2019,2020,2021,2022],\"xaxis\":\"x\",\"y\":[7,236,264,78],\"yaxis\":\"y\",\"type\":\"scattergl\"},{\"hovertemplate\":\"company_name=Socital App<br>variable=Negative<br>year=%{x}<br>value=%{y}<extra></extra>\",\"legendgroup\":\"Socital App\",\"line\":{\"color\":\"#ab63fa\",\"dash\":\"solid\"},\"marker\":{\"symbol\":\"circle\"},\"mode\":\"lines\",\"name\":\"Socital App\",\"showlegend\":false,\"x\":[2019,2020,2021,2022],\"xaxis\":\"x\",\"y\":[2,34,31,14],\"yaxis\":\"y\",\"type\":\"scattergl\"},{\"hovertemplate\":\"company_name=Socital App<br>variable=Neutral<br>year=%{x}<br>value=%{y}<extra></extra>\",\"legendgroup\":\"Socital App\",\"line\":{\"color\":\"#ab63fa\",\"dash\":\"solid\"},\"marker\":{\"symbol\":\"circle\"},\"mode\":\"lines\",\"name\":\"Socital App\",\"showlegend\":false,\"x\":[2019,2020,2021,2022],\"xaxis\":\"x\",\"y\":[6,112,76,25],\"yaxis\":\"y\",\"type\":\"scattergl\"},{\"hovertemplate\":\"company_name=SourceLair<br>variable=Positive<br>year=%{x}<br>value=%{y}<extra></extra>\",\"legendgroup\":\"SourceLair\",\"line\":{\"color\":\"#FFA15A\",\"dash\":\"solid\"},\"marker\":{\"symbol\":\"circle\"},\"mode\":\"lines\",\"name\":\"SourceLair\",\"showlegend\":true,\"x\":[2017,2018,2019,2020],\"xaxis\":\"x\",\"y\":[19,8,3,1],\"yaxis\":\"y\",\"type\":\"scattergl\"},{\"hovertemplate\":\"company_name=SourceLair<br>variable=Negative<br>year=%{x}<br>value=%{y}<extra></extra>\",\"legendgroup\":\"SourceLair\",\"line\":{\"color\":\"#FFA15A\",\"dash\":\"solid\"},\"marker\":{\"symbol\":\"circle\"},\"mode\":\"lines\",\"name\":\"SourceLair\",\"showlegend\":false,\"x\":[2017,2018,2019,2020],\"xaxis\":\"x\",\"y\":[1,2,0,0],\"yaxis\":\"y\",\"type\":\"scattergl\"},{\"hovertemplate\":\"company_name=SourceLair<br>variable=Neutral<br>year=%{x}<br>value=%{y}<extra></extra>\",\"legendgroup\":\"SourceLair\",\"line\":{\"color\":\"#FFA15A\",\"dash\":\"solid\"},\"marker\":{\"symbol\":\"circle\"},\"mode\":\"lines\",\"name\":\"SourceLair\",\"showlegend\":false,\"x\":[2017,2018,2019,2020],\"xaxis\":\"x\",\"y\":[3,2,0,2],\"yaxis\":\"y\",\"type\":\"scattergl\"},{\"hovertemplate\":\"company_name=Space Talos LTD<br>variable=Positive<br>year=%{x}<br>value=%{y}<extra></extra>\",\"legendgroup\":\"Space Talos LTD\",\"line\":{\"color\":\"#19d3f3\",\"dash\":\"solid\"},\"marker\":{\"symbol\":\"circle\"},\"mode\":\"lines\",\"name\":\"Space Talos LTD\",\"showlegend\":true,\"x\":[2019,2020,2021],\"xaxis\":\"x\",\"y\":[1,5,10],\"yaxis\":\"y\",\"type\":\"scattergl\"},{\"hovertemplate\":\"company_name=Space Talos LTD<br>variable=Negative<br>year=%{x}<br>value=%{y}<extra></extra>\",\"legendgroup\":\"Space Talos LTD\",\"line\":{\"color\":\"#19d3f3\",\"dash\":\"solid\"},\"marker\":{\"symbol\":\"circle\"},\"mode\":\"lines\",\"name\":\"Space Talos LTD\",\"showlegend\":false,\"x\":[2019,2020,2021],\"xaxis\":\"x\",\"y\":[0,0,1],\"yaxis\":\"y\",\"type\":\"scattergl\"},{\"hovertemplate\":\"company_name=Space Talos LTD<br>variable=Neutral<br>year=%{x}<br>value=%{y}<extra></extra>\",\"legendgroup\":\"Space Talos LTD\",\"line\":{\"color\":\"#19d3f3\",\"dash\":\"solid\"},\"marker\":{\"symbol\":\"circle\"},\"mode\":\"lines\",\"name\":\"Space Talos LTD\",\"showlegend\":false,\"x\":[2019,2020,2021],\"xaxis\":\"x\",\"y\":[1,0,1],\"yaxis\":\"y\",\"type\":\"scattergl\"},{\"hovertemplate\":\"company_name=Spotawheel<br>variable=Positive<br>year=%{x}<br>value=%{y}<extra></extra>\",\"legendgroup\":\"Spotawheel\",\"line\":{\"color\":\"#FF6692\",\"dash\":\"solid\"},\"marker\":{\"symbol\":\"circle\"},\"mode\":\"lines\",\"name\":\"Spotawheel\",\"showlegend\":true,\"x\":[2017,2018,2019,2020,2021,2022,2023],\"xaxis\":\"x\",\"y\":[0,27,90,76,42,87,37],\"yaxis\":\"y\",\"type\":\"scattergl\"},{\"hovertemplate\":\"company_name=Spotawheel<br>variable=Negative<br>year=%{x}<br>value=%{y}<extra></extra>\",\"legendgroup\":\"Spotawheel\",\"line\":{\"color\":\"#FF6692\",\"dash\":\"solid\"},\"marker\":{\"symbol\":\"circle\"},\"mode\":\"lines\",\"name\":\"Spotawheel\",\"showlegend\":false,\"x\":[2017,2018,2019,2020,2021,2022,2023],\"xaxis\":\"x\",\"y\":[0,14,43,61,15,89,28],\"yaxis\":\"y\",\"type\":\"scattergl\"},{\"hovertemplate\":\"company_name=Spotawheel<br>variable=Neutral<br>year=%{x}<br>value=%{y}<extra></extra>\",\"legendgroup\":\"Spotawheel\",\"line\":{\"color\":\"#FF6692\",\"dash\":\"solid\"},\"marker\":{\"symbol\":\"circle\"},\"mode\":\"lines\",\"name\":\"Spotawheel\",\"showlegend\":false,\"x\":[2017,2018,2019,2020,2021,2022,2023],\"xaxis\":\"x\",\"y\":[12,776,1321,837,600,1385,455],\"yaxis\":\"y\",\"type\":\"scattergl\"},{\"hovertemplate\":\"company_name=Squadhelp<br>variable=Positive<br>year=%{x}<br>value=%{y}<extra></extra>\",\"legendgroup\":\"Squadhelp\",\"line\":{\"color\":\"#B6E880\",\"dash\":\"solid\"},\"marker\":{\"symbol\":\"circle\"},\"mode\":\"lines\",\"name\":\"Squadhelp\",\"showlegend\":true,\"x\":[2017,2018,2019,2020,2021,2022,2023],\"xaxis\":\"x\",\"y\":[820,945,666,388,146,34,13],\"yaxis\":\"y\",\"type\":\"scattergl\"},{\"hovertemplate\":\"company_name=Squadhelp<br>variable=Negative<br>year=%{x}<br>value=%{y}<extra></extra>\",\"legendgroup\":\"Squadhelp\",\"line\":{\"color\":\"#B6E880\",\"dash\":\"solid\"},\"marker\":{\"symbol\":\"circle\"},\"mode\":\"lines\",\"name\":\"Squadhelp\",\"showlegend\":false,\"x\":[2017,2018,2019,2020,2021,2022,2023],\"xaxis\":\"x\",\"y\":[53,32,53,35,12,2,2],\"yaxis\":\"y\",\"type\":\"scattergl\"},{\"hovertemplate\":\"company_name=Squadhelp<br>variable=Neutral<br>year=%{x}<br>value=%{y}<extra></extra>\",\"legendgroup\":\"Squadhelp\",\"line\":{\"color\":\"#B6E880\",\"dash\":\"solid\"},\"marker\":{\"symbol\":\"circle\"},\"mode\":\"lines\",\"name\":\"Squadhelp\",\"showlegend\":false,\"x\":[2017,2018,2019,2020,2021,2022,2023],\"xaxis\":\"x\",\"y\":[439,111,147,129,38,5,2],\"yaxis\":\"y\",\"type\":\"scattergl\"},{\"hovertemplate\":\"company_name=StreamOwl<br>variable=Positive<br>year=%{x}<br>value=%{y}<extra></extra>\",\"legendgroup\":\"StreamOwl\",\"line\":{\"color\":\"#FF97FF\",\"dash\":\"solid\"},\"marker\":{\"symbol\":\"circle\"},\"mode\":\"lines\",\"name\":\"StreamOwl\",\"showlegend\":true,\"x\":[2019,2020,2021],\"xaxis\":\"x\",\"y\":[2,0,3],\"yaxis\":\"y\",\"type\":\"scattergl\"},{\"hovertemplate\":\"company_name=StreamOwl<br>variable=Negative<br>year=%{x}<br>value=%{y}<extra></extra>\",\"legendgroup\":\"StreamOwl\",\"line\":{\"color\":\"#FF97FF\",\"dash\":\"solid\"},\"marker\":{\"symbol\":\"circle\"},\"mode\":\"lines\",\"name\":\"StreamOwl\",\"showlegend\":false,\"x\":[2019,2020,2021],\"xaxis\":\"x\",\"y\":[0,0,0],\"yaxis\":\"y\",\"type\":\"scattergl\"},{\"hovertemplate\":\"company_name=StreamOwl<br>variable=Neutral<br>year=%{x}<br>value=%{y}<extra></extra>\",\"legendgroup\":\"StreamOwl\",\"line\":{\"color\":\"#FF97FF\",\"dash\":\"solid\"},\"marker\":{\"symbol\":\"circle\"},\"mode\":\"lines\",\"name\":\"StreamOwl\",\"showlegend\":false,\"x\":[2019,2020,2021],\"xaxis\":\"x\",\"y\":[0,1,0],\"yaxis\":\"y\",\"type\":\"scattergl\"},{\"hovertemplate\":\"company_name=Sunlight.io<br>variable=Positive<br>year=%{x}<br>value=%{y}<extra></extra>\",\"legendgroup\":\"Sunlight.io\",\"line\":{\"color\":\"#FECB52\",\"dash\":\"solid\"},\"marker\":{\"symbol\":\"circle\"},\"mode\":\"lines\",\"name\":\"Sunlight.io\",\"showlegend\":true,\"x\":[2019,2020,2021,2022,2023],\"xaxis\":\"x\",\"y\":[19,5,71,72,12],\"yaxis\":\"y\",\"type\":\"scattergl\"},{\"hovertemplate\":\"company_name=Sunlight.io<br>variable=Negative<br>year=%{x}<br>value=%{y}<extra></extra>\",\"legendgroup\":\"Sunlight.io\",\"line\":{\"color\":\"#FECB52\",\"dash\":\"solid\"},\"marker\":{\"symbol\":\"circle\"},\"mode\":\"lines\",\"name\":\"Sunlight.io\",\"showlegend\":false,\"x\":[2019,2020,2021,2022,2023],\"xaxis\":\"x\",\"y\":[2,2,3,3,4],\"yaxis\":\"y\",\"type\":\"scattergl\"},{\"hovertemplate\":\"company_name=Sunlight.io<br>variable=Neutral<br>year=%{x}<br>value=%{y}<extra></extra>\",\"legendgroup\":\"Sunlight.io\",\"line\":{\"color\":\"#FECB52\",\"dash\":\"solid\"},\"marker\":{\"symbol\":\"circle\"},\"mode\":\"lines\",\"name\":\"Sunlight.io\",\"showlegend\":false,\"x\":[2019,2020,2021,2022,2023],\"xaxis\":\"x\",\"y\":[8,6,28,30,3],\"yaxis\":\"y\",\"type\":\"scattergl\"},{\"hovertemplate\":\"company_name=TheList<br>variable=Positive<br>year=%{x}<br>value=%{y}<extra></extra>\",\"legendgroup\":\"TheList\",\"line\":{\"color\":\"#636efa\",\"dash\":\"solid\"},\"marker\":{\"symbol\":\"circle\"},\"mode\":\"lines\",\"name\":\"TheList\",\"showlegend\":true,\"x\":[2019,2020,2021,2022,2023],\"xaxis\":\"x\",\"y\":[0,43,36,26,1],\"yaxis\":\"y\",\"type\":\"scattergl\"},{\"hovertemplate\":\"company_name=TheList<br>variable=Negative<br>year=%{x}<br>value=%{y}<extra></extra>\",\"legendgroup\":\"TheList\",\"line\":{\"color\":\"#636efa\",\"dash\":\"solid\"},\"marker\":{\"symbol\":\"circle\"},\"mode\":\"lines\",\"name\":\"TheList\",\"showlegend\":false,\"x\":[2019,2020,2021,2022,2023],\"xaxis\":\"x\",\"y\":[0,3,2,0,0],\"yaxis\":\"y\",\"type\":\"scattergl\"},{\"hovertemplate\":\"company_name=TheList<br>variable=Neutral<br>year=%{x}<br>value=%{y}<extra></extra>\",\"legendgroup\":\"TheList\",\"line\":{\"color\":\"#636efa\",\"dash\":\"solid\"},\"marker\":{\"symbol\":\"circle\"},\"mode\":\"lines\",\"name\":\"TheList\",\"showlegend\":false,\"x\":[2019,2020,2021,2022,2023],\"xaxis\":\"x\",\"y\":[1,3,26,12,2],\"yaxis\":\"y\",\"type\":\"scattergl\"},{\"hovertemplate\":\"company_name=TicketSeller<br>variable=Positive<br>year=%{x}<br>value=%{y}<extra></extra>\",\"legendgroup\":\"TicketSeller\",\"line\":{\"color\":\"#EF553B\",\"dash\":\"solid\"},\"marker\":{\"symbol\":\"circle\"},\"mode\":\"lines\",\"name\":\"TicketSeller\",\"showlegend\":true,\"x\":[2020,2021,2022,2023],\"xaxis\":\"x\",\"y\":[6,13,2,1],\"yaxis\":\"y\",\"type\":\"scattergl\"},{\"hovertemplate\":\"company_name=TicketSeller<br>variable=Negative<br>year=%{x}<br>value=%{y}<extra></extra>\",\"legendgroup\":\"TicketSeller\",\"line\":{\"color\":\"#EF553B\",\"dash\":\"solid\"},\"marker\":{\"symbol\":\"circle\"},\"mode\":\"lines\",\"name\":\"TicketSeller\",\"showlegend\":false,\"x\":[2020,2021,2022,2023],\"xaxis\":\"x\",\"y\":[0,0,0,0],\"yaxis\":\"y\",\"type\":\"scattergl\"},{\"hovertemplate\":\"company_name=TicketSeller<br>variable=Neutral<br>year=%{x}<br>value=%{y}<extra></extra>\",\"legendgroup\":\"TicketSeller\",\"line\":{\"color\":\"#EF553B\",\"dash\":\"solid\"},\"marker\":{\"symbol\":\"circle\"},\"mode\":\"lines\",\"name\":\"TicketSeller\",\"showlegend\":false,\"x\":[2020,2021,2022,2023],\"xaxis\":\"x\",\"y\":[11,14,1,1],\"yaxis\":\"y\",\"type\":\"scattergl\"},{\"hovertemplate\":\"company_name=TileDB<br>variable=Positive<br>year=%{x}<br>value=%{y}<extra></extra>\",\"legendgroup\":\"TileDB\",\"line\":{\"color\":\"#00cc96\",\"dash\":\"solid\"},\"marker\":{\"symbol\":\"circle\"},\"mode\":\"lines\",\"name\":\"TileDB\",\"showlegend\":true,\"x\":[2017,2018,2019,2020,2021,2022,2023],\"xaxis\":\"x\",\"y\":[10,6,16,31,56,57,6],\"yaxis\":\"y\",\"type\":\"scattergl\"},{\"hovertemplate\":\"company_name=TileDB<br>variable=Negative<br>year=%{x}<br>value=%{y}<extra></extra>\",\"legendgroup\":\"TileDB\",\"line\":{\"color\":\"#00cc96\",\"dash\":\"solid\"},\"marker\":{\"symbol\":\"circle\"},\"mode\":\"lines\",\"name\":\"TileDB\",\"showlegend\":false,\"x\":[2017,2018,2019,2020,2021,2022,2023],\"xaxis\":\"x\",\"y\":[0,0,0,3,2,1,2],\"yaxis\":\"y\",\"type\":\"scattergl\"},{\"hovertemplate\":\"company_name=TileDB<br>variable=Neutral<br>year=%{x}<br>value=%{y}<extra></extra>\",\"legendgroup\":\"TileDB\",\"line\":{\"color\":\"#00cc96\",\"dash\":\"solid\"},\"marker\":{\"symbol\":\"circle\"},\"mode\":\"lines\",\"name\":\"TileDB\",\"showlegend\":false,\"x\":[2017,2018,2019,2020,2021,2022,2023],\"xaxis\":\"x\",\"y\":[1,1,3,12,20,10,0],\"yaxis\":\"y\",\"type\":\"scattergl\"},{\"hovertemplate\":\"company_name=Toroblocks<br>variable=Positive<br>year=%{x}<br>value=%{y}<extra></extra>\",\"legendgroup\":\"Toroblocks\",\"line\":{\"color\":\"#ab63fa\",\"dash\":\"solid\"},\"marker\":{\"symbol\":\"circle\"},\"mode\":\"lines\",\"name\":\"Toroblocks\",\"showlegend\":true,\"x\":[2022],\"xaxis\":\"x\",\"y\":[11],\"yaxis\":\"y\",\"type\":\"scattergl\"},{\"hovertemplate\":\"company_name=Toroblocks<br>variable=Negative<br>year=%{x}<br>value=%{y}<extra></extra>\",\"legendgroup\":\"Toroblocks\",\"line\":{\"color\":\"#ab63fa\",\"dash\":\"solid\"},\"marker\":{\"symbol\":\"circle\"},\"mode\":\"lines\",\"name\":\"Toroblocks\",\"showlegend\":false,\"x\":[2022],\"xaxis\":\"x\",\"y\":[0],\"yaxis\":\"y\",\"type\":\"scattergl\"},{\"hovertemplate\":\"company_name=Toroblocks<br>variable=Neutral<br>year=%{x}<br>value=%{y}<extra></extra>\",\"legendgroup\":\"Toroblocks\",\"line\":{\"color\":\"#ab63fa\",\"dash\":\"solid\"},\"marker\":{\"symbol\":\"circle\"},\"mode\":\"lines\",\"name\":\"Toroblocks\",\"showlegend\":false,\"x\":[2022],\"xaxis\":\"x\",\"y\":[2],\"yaxis\":\"y\",\"type\":\"scattergl\"},{\"hovertemplate\":\"company_name=Travel2Fit<br>variable=Positive<br>year=%{x}<br>value=%{y}<extra></extra>\",\"legendgroup\":\"Travel2Fit\",\"line\":{\"color\":\"#FFA15A\",\"dash\":\"solid\"},\"marker\":{\"symbol\":\"circle\"},\"mode\":\"lines\",\"name\":\"Travel2Fit\",\"showlegend\":true,\"x\":[2020,2021,2022,2023],\"xaxis\":\"x\",\"y\":[0,2,17,2],\"yaxis\":\"y\",\"type\":\"scattergl\"},{\"hovertemplate\":\"company_name=Travel2Fit<br>variable=Negative<br>year=%{x}<br>value=%{y}<extra></extra>\",\"legendgroup\":\"Travel2Fit\",\"line\":{\"color\":\"#FFA15A\",\"dash\":\"solid\"},\"marker\":{\"symbol\":\"circle\"},\"mode\":\"lines\",\"name\":\"Travel2Fit\",\"showlegend\":false,\"x\":[2020,2021,2022,2023],\"xaxis\":\"x\",\"y\":[0,0,0,1],\"yaxis\":\"y\",\"type\":\"scattergl\"},{\"hovertemplate\":\"company_name=Travel2Fit<br>variable=Neutral<br>year=%{x}<br>value=%{y}<extra></extra>\",\"legendgroup\":\"Travel2Fit\",\"line\":{\"color\":\"#FFA15A\",\"dash\":\"solid\"},\"marker\":{\"symbol\":\"circle\"},\"mode\":\"lines\",\"name\":\"Travel2Fit\",\"showlegend\":false,\"x\":[2020,2021,2022,2023],\"xaxis\":\"x\",\"y\":[6,1,7,1],\"yaxis\":\"y\",\"type\":\"scattergl\"},{\"hovertemplate\":\"company_name=Travelmyth<br>variable=Positive<br>year=%{x}<br>value=%{y}<extra></extra>\",\"legendgroup\":\"Travelmyth\",\"line\":{\"color\":\"#19d3f3\",\"dash\":\"solid\"},\"marker\":{\"symbol\":\"circle\"},\"mode\":\"lines\",\"name\":\"Travelmyth\",\"showlegend\":true,\"x\":[2017,2018,2019,2020,2021,2022,2023],\"xaxis\":\"x\",\"y\":[12,25,11,5,3,36,4],\"yaxis\":\"y\",\"type\":\"scattergl\"},{\"hovertemplate\":\"company_name=Travelmyth<br>variable=Negative<br>year=%{x}<br>value=%{y}<extra></extra>\",\"legendgroup\":\"Travelmyth\",\"line\":{\"color\":\"#19d3f3\",\"dash\":\"solid\"},\"marker\":{\"symbol\":\"circle\"},\"mode\":\"lines\",\"name\":\"Travelmyth\",\"showlegend\":false,\"x\":[2017,2018,2019,2020,2021,2022,2023],\"xaxis\":\"x\",\"y\":[2,1,1,1,0,3,0],\"yaxis\":\"y\",\"type\":\"scattergl\"},{\"hovertemplate\":\"company_name=Travelmyth<br>variable=Neutral<br>year=%{x}<br>value=%{y}<extra></extra>\",\"legendgroup\":\"Travelmyth\",\"line\":{\"color\":\"#19d3f3\",\"dash\":\"solid\"},\"marker\":{\"symbol\":\"circle\"},\"mode\":\"lines\",\"name\":\"Travelmyth\",\"showlegend\":false,\"x\":[2017,2018,2019,2020,2021,2022,2023],\"xaxis\":\"x\",\"y\":[20,6,10,18,16,33,22],\"yaxis\":\"y\",\"type\":\"scattergl\"},{\"hovertemplate\":\"company_name=Triparound<br>variable=Positive<br>year=%{x}<br>value=%{y}<extra></extra>\",\"legendgroup\":\"Triparound\",\"line\":{\"color\":\"#FF6692\",\"dash\":\"solid\"},\"marker\":{\"symbol\":\"circle\"},\"mode\":\"lines\",\"name\":\"Triparound\",\"showlegend\":true,\"x\":[2019,2020,2021,2022,2023],\"xaxis\":\"x\",\"y\":[26,52,56,34,5],\"yaxis\":\"y\",\"type\":\"scattergl\"},{\"hovertemplate\":\"company_name=Triparound<br>variable=Negative<br>year=%{x}<br>value=%{y}<extra></extra>\",\"legendgroup\":\"Triparound\",\"line\":{\"color\":\"#FF6692\",\"dash\":\"solid\"},\"marker\":{\"symbol\":\"circle\"},\"mode\":\"lines\",\"name\":\"Triparound\",\"showlegend\":false,\"x\":[2019,2020,2021,2022,2023],\"xaxis\":\"x\",\"y\":[0,3,1,3,0],\"yaxis\":\"y\",\"type\":\"scattergl\"},{\"hovertemplate\":\"company_name=Triparound<br>variable=Neutral<br>year=%{x}<br>value=%{y}<extra></extra>\",\"legendgroup\":\"Triparound\",\"line\":{\"color\":\"#FF6692\",\"dash\":\"solid\"},\"marker\":{\"symbol\":\"circle\"},\"mode\":\"lines\",\"name\":\"Triparound\",\"showlegend\":false,\"x\":[2019,2020,2021,2022,2023],\"xaxis\":\"x\",\"y\":[12,9,11,17,6],\"yaxis\":\"y\",\"type\":\"scattergl\"},{\"hovertemplate\":\"company_name=Troosh<br>variable=Positive<br>year=%{x}<br>value=%{y}<extra></extra>\",\"legendgroup\":\"Troosh\",\"line\":{\"color\":\"#B6E880\",\"dash\":\"solid\"},\"marker\":{\"symbol\":\"circle\"},\"mode\":\"lines\",\"name\":\"Troosh\",\"showlegend\":true,\"x\":[2022],\"xaxis\":\"x\",\"y\":[2],\"yaxis\":\"y\",\"type\":\"scattergl\"},{\"hovertemplate\":\"company_name=Troosh<br>variable=Negative<br>year=%{x}<br>value=%{y}<extra></extra>\",\"legendgroup\":\"Troosh\",\"line\":{\"color\":\"#B6E880\",\"dash\":\"solid\"},\"marker\":{\"symbol\":\"circle\"},\"mode\":\"lines\",\"name\":\"Troosh\",\"showlegend\":false,\"x\":[2022],\"xaxis\":\"x\",\"y\":[0],\"yaxis\":\"y\",\"type\":\"scattergl\"},{\"hovertemplate\":\"company_name=Troosh<br>variable=Neutral<br>year=%{x}<br>value=%{y}<extra></extra>\",\"legendgroup\":\"Troosh\",\"line\":{\"color\":\"#B6E880\",\"dash\":\"solid\"},\"marker\":{\"symbol\":\"circle\"},\"mode\":\"lines\",\"name\":\"Troosh\",\"showlegend\":false,\"x\":[2022],\"xaxis\":\"x\",\"y\":[2],\"yaxis\":\"y\",\"type\":\"scattergl\"},{\"hovertemplate\":\"company_name=Unlimited Adrenaline<br>variable=Positive<br>year=%{x}<br>value=%{y}<extra></extra>\",\"legendgroup\":\"Unlimited Adrenaline\",\"line\":{\"color\":\"#FF97FF\",\"dash\":\"solid\"},\"marker\":{\"symbol\":\"circle\"},\"mode\":\"lines\",\"name\":\"Unlimited Adrenaline\",\"showlegend\":true,\"x\":[2020,2021],\"xaxis\":\"x\",\"y\":[60,6],\"yaxis\":\"y\",\"type\":\"scattergl\"},{\"hovertemplate\":\"company_name=Unlimited Adrenaline<br>variable=Negative<br>year=%{x}<br>value=%{y}<extra></extra>\",\"legendgroup\":\"Unlimited Adrenaline\",\"line\":{\"color\":\"#FF97FF\",\"dash\":\"solid\"},\"marker\":{\"symbol\":\"circle\"},\"mode\":\"lines\",\"name\":\"Unlimited Adrenaline\",\"showlegend\":false,\"x\":[2020,2021],\"xaxis\":\"x\",\"y\":[3,2],\"yaxis\":\"y\",\"type\":\"scattergl\"},{\"hovertemplate\":\"company_name=Unlimited Adrenaline<br>variable=Neutral<br>year=%{x}<br>value=%{y}<extra></extra>\",\"legendgroup\":\"Unlimited Adrenaline\",\"line\":{\"color\":\"#FF97FF\",\"dash\":\"solid\"},\"marker\":{\"symbol\":\"circle\"},\"mode\":\"lines\",\"name\":\"Unlimited Adrenaline\",\"showlegend\":false,\"x\":[2020,2021],\"xaxis\":\"x\",\"y\":[183,30],\"yaxis\":\"y\",\"type\":\"scattergl\"},{\"hovertemplate\":\"company_name=Upiria<br>variable=Positive<br>year=%{x}<br>value=%{y}<extra></extra>\",\"legendgroup\":\"Upiria\",\"line\":{\"color\":\"#FECB52\",\"dash\":\"solid\"},\"marker\":{\"symbol\":\"circle\"},\"mode\":\"lines\",\"name\":\"Upiria\",\"showlegend\":true,\"x\":[2021,2022,2023],\"xaxis\":\"x\",\"y\":[14,37,10],\"yaxis\":\"y\",\"type\":\"scattergl\"},{\"hovertemplate\":\"company_name=Upiria<br>variable=Negative<br>year=%{x}<br>value=%{y}<extra></extra>\",\"legendgroup\":\"Upiria\",\"line\":{\"color\":\"#FECB52\",\"dash\":\"solid\"},\"marker\":{\"symbol\":\"circle\"},\"mode\":\"lines\",\"name\":\"Upiria\",\"showlegend\":false,\"x\":[2021,2022,2023],\"xaxis\":\"x\",\"y\":[0,0,1],\"yaxis\":\"y\",\"type\":\"scattergl\"},{\"hovertemplate\":\"company_name=Upiria<br>variable=Neutral<br>year=%{x}<br>value=%{y}<extra></extra>\",\"legendgroup\":\"Upiria\",\"line\":{\"color\":\"#FECB52\",\"dash\":\"solid\"},\"marker\":{\"symbol\":\"circle\"},\"mode\":\"lines\",\"name\":\"Upiria\",\"showlegend\":false,\"x\":[2021,2022,2023],\"xaxis\":\"x\",\"y\":[9,11,2],\"yaxis\":\"y\",\"type\":\"scattergl\"},{\"hovertemplate\":\"company_name=UpstreetCraftBrewing<br>variable=Positive<br>year=%{x}<br>value=%{y}<extra></extra>\",\"legendgroup\":\"UpstreetCraftBrewing\",\"line\":{\"color\":\"#636efa\",\"dash\":\"solid\"},\"marker\":{\"symbol\":\"circle\"},\"mode\":\"lines\",\"name\":\"UpstreetCraftBrewing\",\"showlegend\":true,\"x\":[2017,2018,2019,2020,2021],\"xaxis\":\"x\",\"y\":[338,314,142,59,17],\"yaxis\":\"y\",\"type\":\"scattergl\"},{\"hovertemplate\":\"company_name=UpstreetCraftBrewing<br>variable=Negative<br>year=%{x}<br>value=%{y}<extra></extra>\",\"legendgroup\":\"UpstreetCraftBrewing\",\"line\":{\"color\":\"#636efa\",\"dash\":\"solid\"},\"marker\":{\"symbol\":\"circle\"},\"mode\":\"lines\",\"name\":\"UpstreetCraftBrewing\",\"showlegend\":false,\"x\":[2017,2018,2019,2020,2021],\"xaxis\":\"x\",\"y\":[40,35,22,12,1],\"yaxis\":\"y\",\"type\":\"scattergl\"},{\"hovertemplate\":\"company_name=UpstreetCraftBrewing<br>variable=Neutral<br>year=%{x}<br>value=%{y}<extra></extra>\",\"legendgroup\":\"UpstreetCraftBrewing\",\"line\":{\"color\":\"#636efa\",\"dash\":\"solid\"},\"marker\":{\"symbol\":\"circle\"},\"mode\":\"lines\",\"name\":\"UpstreetCraftBrewing\",\"showlegend\":false,\"x\":[2017,2018,2019,2020,2021],\"xaxis\":\"x\",\"y\":[163,150,47,26,6],\"yaxis\":\"y\",\"type\":\"scattergl\"},{\"hovertemplate\":\"company_name=Useberry<br>variable=Positive<br>year=%{x}<br>value=%{y}<extra></extra>\",\"legendgroup\":\"Useberry\",\"line\":{\"color\":\"#EF553B\",\"dash\":\"solid\"},\"marker\":{\"symbol\":\"circle\"},\"mode\":\"lines\",\"name\":\"Useberry\",\"showlegend\":true,\"x\":[2018,2019,2020,2021,2022,2023],\"xaxis\":\"x\",\"y\":[2,18,4,12,27,6],\"yaxis\":\"y\",\"type\":\"scattergl\"},{\"hovertemplate\":\"company_name=Useberry<br>variable=Negative<br>year=%{x}<br>value=%{y}<extra></extra>\",\"legendgroup\":\"Useberry\",\"line\":{\"color\":\"#EF553B\",\"dash\":\"solid\"},\"marker\":{\"symbol\":\"circle\"},\"mode\":\"lines\",\"name\":\"Useberry\",\"showlegend\":false,\"x\":[2018,2019,2020,2021,2022,2023],\"xaxis\":\"x\",\"y\":[0,0,0,2,1,0],\"yaxis\":\"y\",\"type\":\"scattergl\"},{\"hovertemplate\":\"company_name=Useberry<br>variable=Neutral<br>year=%{x}<br>value=%{y}<extra></extra>\",\"legendgroup\":\"Useberry\",\"line\":{\"color\":\"#EF553B\",\"dash\":\"solid\"},\"marker\":{\"symbol\":\"circle\"},\"mode\":\"lines\",\"name\":\"Useberry\",\"showlegend\":false,\"x\":[2018,2019,2020,2021,2022,2023],\"xaxis\":\"x\",\"y\":[4,18,4,1,8,13],\"yaxis\":\"y\",\"type\":\"scattergl\"},{\"hovertemplate\":\"company_name=VERTLINER<br>variable=Positive<br>year=%{x}<br>value=%{y}<extra></extra>\",\"legendgroup\":\"VERTLINER\",\"line\":{\"color\":\"#00cc96\",\"dash\":\"solid\"},\"marker\":{\"symbol\":\"circle\"},\"mode\":\"lines\",\"name\":\"VERTLINER\",\"showlegend\":true,\"x\":[2022],\"xaxis\":\"x\",\"y\":[3],\"yaxis\":\"y\",\"type\":\"scattergl\"},{\"hovertemplate\":\"company_name=VERTLINER<br>variable=Negative<br>year=%{x}<br>value=%{y}<extra></extra>\",\"legendgroup\":\"VERTLINER\",\"line\":{\"color\":\"#00cc96\",\"dash\":\"solid\"},\"marker\":{\"symbol\":\"circle\"},\"mode\":\"lines\",\"name\":\"VERTLINER\",\"showlegend\":false,\"x\":[2022],\"xaxis\":\"x\",\"y\":[0],\"yaxis\":\"y\",\"type\":\"scattergl\"},{\"hovertemplate\":\"company_name=VERTLINER<br>variable=Neutral<br>year=%{x}<br>value=%{y}<extra></extra>\",\"legendgroup\":\"VERTLINER\",\"line\":{\"color\":\"#00cc96\",\"dash\":\"solid\"},\"marker\":{\"symbol\":\"circle\"},\"mode\":\"lines\",\"name\":\"VERTLINER\",\"showlegend\":false,\"x\":[2022],\"xaxis\":\"x\",\"y\":[3],\"yaxis\":\"y\",\"type\":\"scattergl\"},{\"hovertemplate\":\"company_name=VarSome<br>variable=Positive<br>year=%{x}<br>value=%{y}<extra></extra>\",\"legendgroup\":\"VarSome\",\"line\":{\"color\":\"#ab63fa\",\"dash\":\"solid\"},\"marker\":{\"symbol\":\"circle\"},\"mode\":\"lines\",\"name\":\"VarSome\",\"showlegend\":true,\"x\":[2017,2018,2019,2020,2021,2022,2023],\"xaxis\":\"x\",\"y\":[137,143,105,12,46,16,2],\"yaxis\":\"y\",\"type\":\"scattergl\"},{\"hovertemplate\":\"company_name=VarSome<br>variable=Negative<br>year=%{x}<br>value=%{y}<extra></extra>\",\"legendgroup\":\"VarSome\",\"line\":{\"color\":\"#ab63fa\",\"dash\":\"solid\"},\"marker\":{\"symbol\":\"circle\"},\"mode\":\"lines\",\"name\":\"VarSome\",\"showlegend\":false,\"x\":[2017,2018,2019,2020,2021,2022,2023],\"xaxis\":\"x\",\"y\":[60,70,47,0,1,0,0],\"yaxis\":\"y\",\"type\":\"scattergl\"},{\"hovertemplate\":\"company_name=VarSome<br>variable=Neutral<br>year=%{x}<br>value=%{y}<extra></extra>\",\"legendgroup\":\"VarSome\",\"line\":{\"color\":\"#ab63fa\",\"dash\":\"solid\"},\"marker\":{\"symbol\":\"circle\"},\"mode\":\"lines\",\"name\":\"VarSome\",\"showlegend\":false,\"x\":[2017,2018,2019,2020,2021,2022,2023],\"xaxis\":\"x\",\"y\":[450,409,321,15,15,3,1],\"yaxis\":\"y\",\"type\":\"scattergl\"},{\"hovertemplate\":\"company_name=VesselBot<br>variable=Positive<br>year=%{x}<br>value=%{y}<extra></extra>\",\"legendgroup\":\"VesselBot\",\"line\":{\"color\":\"#FFA15A\",\"dash\":\"solid\"},\"marker\":{\"symbol\":\"circle\"},\"mode\":\"lines\",\"name\":\"VesselBot\",\"showlegend\":true,\"x\":[2017,2018,2019,2020,2021,2022,2023],\"xaxis\":\"x\",\"y\":[157,84,151,114,199,107,34],\"yaxis\":\"y\",\"type\":\"scattergl\"},{\"hovertemplate\":\"company_name=VesselBot<br>variable=Negative<br>year=%{x}<br>value=%{y}<extra></extra>\",\"legendgroup\":\"VesselBot\",\"line\":{\"color\":\"#FFA15A\",\"dash\":\"solid\"},\"marker\":{\"symbol\":\"circle\"},\"mode\":\"lines\",\"name\":\"VesselBot\",\"showlegend\":false,\"x\":[2017,2018,2019,2020,2021,2022,2023],\"xaxis\":\"x\",\"y\":[57,31,48,44,74,35,5],\"yaxis\":\"y\",\"type\":\"scattergl\"},{\"hovertemplate\":\"company_name=VesselBot<br>variable=Neutral<br>year=%{x}<br>value=%{y}<extra></extra>\",\"legendgroup\":\"VesselBot\",\"line\":{\"color\":\"#FFA15A\",\"dash\":\"solid\"},\"marker\":{\"symbol\":\"circle\"},\"mode\":\"lines\",\"name\":\"VesselBot\",\"showlegend\":false,\"x\":[2017,2018,2019,2020,2021,2022,2023],\"xaxis\":\"x\",\"y\":[574,402,296,225,253,85,14],\"yaxis\":\"y\",\"type\":\"scattergl\"},{\"hovertemplate\":\"company_name=VisualEyes<br>variable=Positive<br>year=%{x}<br>value=%{y}<extra></extra>\",\"legendgroup\":\"VisualEyes\",\"line\":{\"color\":\"#19d3f3\",\"dash\":\"solid\"},\"marker\":{\"symbol\":\"circle\"},\"mode\":\"lines\",\"name\":\"VisualEyes\",\"showlegend\":true,\"x\":[2019,2020],\"xaxis\":\"x\",\"y\":[18,19],\"yaxis\":\"y\",\"type\":\"scattergl\"},{\"hovertemplate\":\"company_name=VisualEyes<br>variable=Negative<br>year=%{x}<br>value=%{y}<extra></extra>\",\"legendgroup\":\"VisualEyes\",\"line\":{\"color\":\"#19d3f3\",\"dash\":\"solid\"},\"marker\":{\"symbol\":\"circle\"},\"mode\":\"lines\",\"name\":\"VisualEyes\",\"showlegend\":false,\"x\":[2019,2020],\"xaxis\":\"x\",\"y\":[4,1],\"yaxis\":\"y\",\"type\":\"scattergl\"},{\"hovertemplate\":\"company_name=VisualEyes<br>variable=Neutral<br>year=%{x}<br>value=%{y}<extra></extra>\",\"legendgroup\":\"VisualEyes\",\"line\":{\"color\":\"#19d3f3\",\"dash\":\"solid\"},\"marker\":{\"symbol\":\"circle\"},\"mode\":\"lines\",\"name\":\"VisualEyes\",\"showlegend\":false,\"x\":[2019,2020],\"xaxis\":\"x\",\"y\":[15,10],\"yaxis\":\"y\",\"type\":\"scattergl\"},{\"hovertemplate\":\"company_name=Vivante Health<br>variable=Positive<br>year=%{x}<br>value=%{y}<extra></extra>\",\"legendgroup\":\"Vivante Health\",\"line\":{\"color\":\"#FF6692\",\"dash\":\"solid\"},\"marker\":{\"symbol\":\"circle\"},\"mode\":\"lines\",\"name\":\"Vivante Health\",\"showlegend\":true,\"x\":[2017,2018,2019,2020,2021,2022,2023],\"xaxis\":\"x\",\"y\":[140,111,70,73,20,61,26],\"yaxis\":\"y\",\"type\":\"scattergl\"},{\"hovertemplate\":\"company_name=Vivante Health<br>variable=Negative<br>year=%{x}<br>value=%{y}<extra></extra>\",\"legendgroup\":\"Vivante Health\",\"line\":{\"color\":\"#FF6692\",\"dash\":\"solid\"},\"marker\":{\"symbol\":\"circle\"},\"mode\":\"lines\",\"name\":\"Vivante Health\",\"showlegend\":false,\"x\":[2017,2018,2019,2020,2021,2022,2023],\"xaxis\":\"x\",\"y\":[34,34,16,8,0,20,7],\"yaxis\":\"y\",\"type\":\"scattergl\"},{\"hovertemplate\":\"company_name=Vivante Health<br>variable=Neutral<br>year=%{x}<br>value=%{y}<extra></extra>\",\"legendgroup\":\"Vivante Health\",\"line\":{\"color\":\"#FF6692\",\"dash\":\"solid\"},\"marker\":{\"symbol\":\"circle\"},\"mode\":\"lines\",\"name\":\"Vivante Health\",\"showlegend\":false,\"x\":[2017,2018,2019,2020,2021,2022,2023],\"xaxis\":\"x\",\"y\":[115,51,24,18,4,13,6],\"yaxis\":\"y\",\"type\":\"scattergl\"},{\"hovertemplate\":\"company_name=WeAreTravelers<br>variable=Positive<br>year=%{x}<br>value=%{y}<extra></extra>\",\"legendgroup\":\"WeAreTravelers\",\"line\":{\"color\":\"#B6E880\",\"dash\":\"solid\"},\"marker\":{\"symbol\":\"circle\"},\"mode\":\"lines\",\"name\":\"WeAreTravelers\",\"showlegend\":true,\"x\":[2020],\"xaxis\":\"x\",\"y\":[0],\"yaxis\":\"y\",\"type\":\"scattergl\"},{\"hovertemplate\":\"company_name=WeAreTravelers<br>variable=Negative<br>year=%{x}<br>value=%{y}<extra></extra>\",\"legendgroup\":\"WeAreTravelers\",\"line\":{\"color\":\"#B6E880\",\"dash\":\"solid\"},\"marker\":{\"symbol\":\"circle\"},\"mode\":\"lines\",\"name\":\"WeAreTravelers\",\"showlegend\":false,\"x\":[2020],\"xaxis\":\"x\",\"y\":[0],\"yaxis\":\"y\",\"type\":\"scattergl\"},{\"hovertemplate\":\"company_name=WeAreTravelers<br>variable=Neutral<br>year=%{x}<br>value=%{y}<extra></extra>\",\"legendgroup\":\"WeAreTravelers\",\"line\":{\"color\":\"#B6E880\",\"dash\":\"solid\"},\"marker\":{\"symbol\":\"circle\"},\"mode\":\"lines\",\"name\":\"WeAreTravelers\",\"showlegend\":false,\"x\":[2020],\"xaxis\":\"x\",\"y\":[1],\"yaxis\":\"y\",\"type\":\"scattergl\"},{\"hovertemplate\":\"company_name=WeShip<br>variable=Positive<br>year=%{x}<br>value=%{y}<extra></extra>\",\"legendgroup\":\"WeShip\",\"line\":{\"color\":\"#FF97FF\",\"dash\":\"solid\"},\"marker\":{\"symbol\":\"circle\"},\"mode\":\"lines\",\"name\":\"WeShip\",\"showlegend\":true,\"x\":[2020,2021],\"xaxis\":\"x\",\"y\":[0,0],\"yaxis\":\"y\",\"type\":\"scattergl\"},{\"hovertemplate\":\"company_name=WeShip<br>variable=Negative<br>year=%{x}<br>value=%{y}<extra></extra>\",\"legendgroup\":\"WeShip\",\"line\":{\"color\":\"#FF97FF\",\"dash\":\"solid\"},\"marker\":{\"symbol\":\"circle\"},\"mode\":\"lines\",\"name\":\"WeShip\",\"showlegend\":false,\"x\":[2020,2021],\"xaxis\":\"x\",\"y\":[0,1],\"yaxis\":\"y\",\"type\":\"scattergl\"},{\"hovertemplate\":\"company_name=WeShip<br>variable=Neutral<br>year=%{x}<br>value=%{y}<extra></extra>\",\"legendgroup\":\"WeShip\",\"line\":{\"color\":\"#FF97FF\",\"dash\":\"solid\"},\"marker\":{\"symbol\":\"circle\"},\"mode\":\"lines\",\"name\":\"WeShip\",\"showlegend\":false,\"x\":[2020,2021],\"xaxis\":\"x\",\"y\":[4,19],\"yaxis\":\"y\",\"type\":\"scattergl\"},{\"hovertemplate\":\"company_name=Welcome Pickups<br>variable=Positive<br>year=%{x}<br>value=%{y}<extra></extra>\",\"legendgroup\":\"Welcome Pickups\",\"line\":{\"color\":\"#FECB52\",\"dash\":\"solid\"},\"marker\":{\"symbol\":\"circle\"},\"mode\":\"lines\",\"name\":\"Welcome Pickups\",\"showlegend\":true,\"x\":[2017,2018],\"xaxis\":\"x\",\"y\":[79,53],\"yaxis\":\"y\",\"type\":\"scattergl\"},{\"hovertemplate\":\"company_name=Welcome Pickups<br>variable=Negative<br>year=%{x}<br>value=%{y}<extra></extra>\",\"legendgroup\":\"Welcome Pickups\",\"line\":{\"color\":\"#FECB52\",\"dash\":\"solid\"},\"marker\":{\"symbol\":\"circle\"},\"mode\":\"lines\",\"name\":\"Welcome Pickups\",\"showlegend\":false,\"x\":[2017,2018],\"xaxis\":\"x\",\"y\":[7,4],\"yaxis\":\"y\",\"type\":\"scattergl\"},{\"hovertemplate\":\"company_name=Welcome Pickups<br>variable=Neutral<br>year=%{x}<br>value=%{y}<extra></extra>\",\"legendgroup\":\"Welcome Pickups\",\"line\":{\"color\":\"#FECB52\",\"dash\":\"solid\"},\"marker\":{\"symbol\":\"circle\"},\"mode\":\"lines\",\"name\":\"Welcome Pickups\",\"showlegend\":false,\"x\":[2017,2018],\"xaxis\":\"x\",\"y\":[53,32],\"yaxis\":\"y\",\"type\":\"scattergl\"},{\"hovertemplate\":\"company_name=Wikifarmer Official<br>variable=Positive<br>year=%{x}<br>value=%{y}<extra></extra>\",\"legendgroup\":\"Wikifarmer Official\",\"line\":{\"color\":\"#636efa\",\"dash\":\"solid\"},\"marker\":{\"symbol\":\"circle\"},\"mode\":\"lines\",\"name\":\"Wikifarmer Official\",\"showlegend\":true,\"x\":[2017,2018,2019,2020,2021,2022,2023],\"xaxis\":\"x\",\"y\":[11,2,4,13,0,18,1],\"yaxis\":\"y\",\"type\":\"scattergl\"},{\"hovertemplate\":\"company_name=Wikifarmer Official<br>variable=Negative<br>year=%{x}<br>value=%{y}<extra></extra>\",\"legendgroup\":\"Wikifarmer Official\",\"line\":{\"color\":\"#636efa\",\"dash\":\"solid\"},\"marker\":{\"symbol\":\"circle\"},\"mode\":\"lines\",\"name\":\"Wikifarmer Official\",\"showlegend\":false,\"x\":[2017,2018,2019,2020,2021,2022,2023],\"xaxis\":\"x\",\"y\":[1,2,0,0,0,1,0],\"yaxis\":\"y\",\"type\":\"scattergl\"},{\"hovertemplate\":\"company_name=Wikifarmer Official<br>variable=Neutral<br>year=%{x}<br>value=%{y}<extra></extra>\",\"legendgroup\":\"Wikifarmer Official\",\"line\":{\"color\":\"#636efa\",\"dash\":\"solid\"},\"marker\":{\"symbol\":\"circle\"},\"mode\":\"lines\",\"name\":\"Wikifarmer Official\",\"showlegend\":false,\"x\":[2017,2018,2019,2020,2021,2022,2023],\"xaxis\":\"x\",\"y\":[22,65,7,4,1,10,3],\"yaxis\":\"y\",\"type\":\"scattergl\"},{\"hovertemplate\":\"company_name=Winner Battery<br>variable=Positive<br>year=%{x}<br>value=%{y}<extra></extra>\",\"legendgroup\":\"Winner Battery\",\"line\":{\"color\":\"#EF553B\",\"dash\":\"solid\"},\"marker\":{\"symbol\":\"circle\"},\"mode\":\"lines\",\"name\":\"Winner Battery\",\"showlegend\":true,\"x\":[2017,2022,2023],\"xaxis\":\"x\",\"y\":[1,2,2],\"yaxis\":\"y\",\"type\":\"scattergl\"},{\"hovertemplate\":\"company_name=Winner Battery<br>variable=Negative<br>year=%{x}<br>value=%{y}<extra></extra>\",\"legendgroup\":\"Winner Battery\",\"line\":{\"color\":\"#EF553B\",\"dash\":\"solid\"},\"marker\":{\"symbol\":\"circle\"},\"mode\":\"lines\",\"name\":\"Winner Battery\",\"showlegend\":false,\"x\":[2017,2022,2023],\"xaxis\":\"x\",\"y\":[0,0,0],\"yaxis\":\"y\",\"type\":\"scattergl\"},{\"hovertemplate\":\"company_name=Winner Battery<br>variable=Neutral<br>year=%{x}<br>value=%{y}<extra></extra>\",\"legendgroup\":\"Winner Battery\",\"line\":{\"color\":\"#EF553B\",\"dash\":\"solid\"},\"marker\":{\"symbol\":\"circle\"},\"mode\":\"lines\",\"name\":\"Winner Battery\",\"showlegend\":false,\"x\":[2017,2022,2023],\"xaxis\":\"x\",\"y\":[1,1,0],\"yaxis\":\"y\",\"type\":\"scattergl\"},{\"hovertemplate\":\"company_name=Woli App<br>variable=Positive<br>year=%{x}<br>value=%{y}<extra></extra>\",\"legendgroup\":\"Woli App\",\"line\":{\"color\":\"#00cc96\",\"dash\":\"solid\"},\"marker\":{\"symbol\":\"circle\"},\"mode\":\"lines\",\"name\":\"Woli App\",\"showlegend\":true,\"x\":[2022],\"xaxis\":\"x\",\"y\":[1],\"yaxis\":\"y\",\"type\":\"scattergl\"},{\"hovertemplate\":\"company_name=Woli App<br>variable=Negative<br>year=%{x}<br>value=%{y}<extra></extra>\",\"legendgroup\":\"Woli App\",\"line\":{\"color\":\"#00cc96\",\"dash\":\"solid\"},\"marker\":{\"symbol\":\"circle\"},\"mode\":\"lines\",\"name\":\"Woli App\",\"showlegend\":false,\"x\":[2022],\"xaxis\":\"x\",\"y\":[0],\"yaxis\":\"y\",\"type\":\"scattergl\"},{\"hovertemplate\":\"company_name=Woli App<br>variable=Neutral<br>year=%{x}<br>value=%{y}<extra></extra>\",\"legendgroup\":\"Woli App\",\"line\":{\"color\":\"#00cc96\",\"dash\":\"solid\"},\"marker\":{\"symbol\":\"circle\"},\"mode\":\"lines\",\"name\":\"Woli App\",\"showlegend\":false,\"x\":[2022],\"xaxis\":\"x\",\"y\":[5],\"yaxis\":\"y\",\"type\":\"scattergl\"},{\"hovertemplate\":\"company_name=Workadu<br>variable=Positive<br>year=%{x}<br>value=%{y}<extra></extra>\",\"legendgroup\":\"Workadu\",\"line\":{\"color\":\"#ab63fa\",\"dash\":\"solid\"},\"marker\":{\"symbol\":\"circle\"},\"mode\":\"lines\",\"name\":\"Workadu\",\"showlegend\":true,\"x\":[2017,2018],\"xaxis\":\"x\",\"y\":[3,25],\"yaxis\":\"y\",\"type\":\"scattergl\"},{\"hovertemplate\":\"company_name=Workadu<br>variable=Negative<br>year=%{x}<br>value=%{y}<extra></extra>\",\"legendgroup\":\"Workadu\",\"line\":{\"color\":\"#ab63fa\",\"dash\":\"solid\"},\"marker\":{\"symbol\":\"circle\"},\"mode\":\"lines\",\"name\":\"Workadu\",\"showlegend\":false,\"x\":[2017,2018],\"xaxis\":\"x\",\"y\":[0,1],\"yaxis\":\"y\",\"type\":\"scattergl\"},{\"hovertemplate\":\"company_name=Workadu<br>variable=Neutral<br>year=%{x}<br>value=%{y}<extra></extra>\",\"legendgroup\":\"Workadu\",\"line\":{\"color\":\"#ab63fa\",\"dash\":\"solid\"},\"marker\":{\"symbol\":\"circle\"},\"mode\":\"lines\",\"name\":\"Workadu\",\"showlegend\":false,\"x\":[2017,2018],\"xaxis\":\"x\",\"y\":[10,13],\"yaxis\":\"y\",\"type\":\"scattergl\"},{\"hovertemplate\":\"company_name=Workathlon<br>variable=Positive<br>year=%{x}<br>value=%{y}<extra></extra>\",\"legendgroup\":\"Workathlon\",\"line\":{\"color\":\"#FFA15A\",\"dash\":\"solid\"},\"marker\":{\"symbol\":\"circle\"},\"mode\":\"lines\",\"name\":\"Workathlon\",\"showlegend\":true,\"x\":[2017,2018,2019],\"xaxis\":\"x\",\"y\":[0,57,7],\"yaxis\":\"y\",\"type\":\"scattergl\"},{\"hovertemplate\":\"company_name=Workathlon<br>variable=Negative<br>year=%{x}<br>value=%{y}<extra></extra>\",\"legendgroup\":\"Workathlon\",\"line\":{\"color\":\"#FFA15A\",\"dash\":\"solid\"},\"marker\":{\"symbol\":\"circle\"},\"mode\":\"lines\",\"name\":\"Workathlon\",\"showlegend\":false,\"x\":[2017,2018,2019],\"xaxis\":\"x\",\"y\":[0,1,0],\"yaxis\":\"y\",\"type\":\"scattergl\"},{\"hovertemplate\":\"company_name=Workathlon<br>variable=Neutral<br>year=%{x}<br>value=%{y}<extra></extra>\",\"legendgroup\":\"Workathlon\",\"line\":{\"color\":\"#FFA15A\",\"dash\":\"solid\"},\"marker\":{\"symbol\":\"circle\"},\"mode\":\"lines\",\"name\":\"Workathlon\",\"showlegend\":false,\"x\":[2017,2018,2019],\"xaxis\":\"x\",\"y\":[3,155,8],\"yaxis\":\"y\",\"type\":\"scattergl\"},{\"hovertemplate\":\"company_name=Yolt Labs<br>variable=Positive<br>year=%{x}<br>value=%{y}<extra></extra>\",\"legendgroup\":\"Yolt Labs\",\"line\":{\"color\":\"#19d3f3\",\"dash\":\"solid\"},\"marker\":{\"symbol\":\"circle\"},\"mode\":\"lines\",\"name\":\"Yolt Labs\",\"showlegend\":true,\"x\":[2022],\"xaxis\":\"x\",\"y\":[3],\"yaxis\":\"y\",\"type\":\"scattergl\"},{\"hovertemplate\":\"company_name=Yolt Labs<br>variable=Negative<br>year=%{x}<br>value=%{y}<extra></extra>\",\"legendgroup\":\"Yolt Labs\",\"line\":{\"color\":\"#19d3f3\",\"dash\":\"solid\"},\"marker\":{\"symbol\":\"circle\"},\"mode\":\"lines\",\"name\":\"Yolt Labs\",\"showlegend\":false,\"x\":[2022],\"xaxis\":\"x\",\"y\":[0],\"yaxis\":\"y\",\"type\":\"scattergl\"},{\"hovertemplate\":\"company_name=Yolt Labs<br>variable=Neutral<br>year=%{x}<br>value=%{y}<extra></extra>\",\"legendgroup\":\"Yolt Labs\",\"line\":{\"color\":\"#19d3f3\",\"dash\":\"solid\"},\"marker\":{\"symbol\":\"circle\"},\"mode\":\"lines\",\"name\":\"Yolt Labs\",\"showlegend\":false,\"x\":[2022],\"xaxis\":\"x\",\"y\":[2],\"yaxis\":\"y\",\"type\":\"scattergl\"},{\"hovertemplate\":\"company_name=ZELUS<br>variable=Positive<br>year=%{x}<br>value=%{y}<extra></extra>\",\"legendgroup\":\"ZELUS\",\"line\":{\"color\":\"#FF6692\",\"dash\":\"solid\"},\"marker\":{\"symbol\":\"circle\"},\"mode\":\"lines\",\"name\":\"ZELUS\",\"showlegend\":true,\"x\":[2020,2021,2022,2023],\"xaxis\":\"x\",\"y\":[0,7,16,4],\"yaxis\":\"y\",\"type\":\"scattergl\"},{\"hovertemplate\":\"company_name=ZELUS<br>variable=Negative<br>year=%{x}<br>value=%{y}<extra></extra>\",\"legendgroup\":\"ZELUS\",\"line\":{\"color\":\"#FF6692\",\"dash\":\"solid\"},\"marker\":{\"symbol\":\"circle\"},\"mode\":\"lines\",\"name\":\"ZELUS\",\"showlegend\":false,\"x\":[2020,2021,2022,2023],\"xaxis\":\"x\",\"y\":[0,0,1,0],\"yaxis\":\"y\",\"type\":\"scattergl\"},{\"hovertemplate\":\"company_name=ZELUS<br>variable=Neutral<br>year=%{x}<br>value=%{y}<extra></extra>\",\"legendgroup\":\"ZELUS\",\"line\":{\"color\":\"#FF6692\",\"dash\":\"solid\"},\"marker\":{\"symbol\":\"circle\"},\"mode\":\"lines\",\"name\":\"ZELUS\",\"showlegend\":false,\"x\":[2020,2021,2022,2023],\"xaxis\":\"x\",\"y\":[2,2,14,0],\"yaxis\":\"y\",\"type\":\"scattergl\"},{\"hovertemplate\":\"company_name=admes<br>variable=Positive<br>year=%{x}<br>value=%{y}<extra></extra>\",\"legendgroup\":\"admes\",\"line\":{\"color\":\"#B6E880\",\"dash\":\"solid\"},\"marker\":{\"symbol\":\"circle\"},\"mode\":\"lines\",\"name\":\"admes\",\"showlegend\":true,\"x\":[2018,2019,2020,2021,2022],\"xaxis\":\"x\",\"y\":[6,2,4,0,2],\"yaxis\":\"y\",\"type\":\"scattergl\"},{\"hovertemplate\":\"company_name=admes<br>variable=Negative<br>year=%{x}<br>value=%{y}<extra></extra>\",\"legendgroup\":\"admes\",\"line\":{\"color\":\"#B6E880\",\"dash\":\"solid\"},\"marker\":{\"symbol\":\"circle\"},\"mode\":\"lines\",\"name\":\"admes\",\"showlegend\":false,\"x\":[2018,2019,2020,2021,2022],\"xaxis\":\"x\",\"y\":[0,0,2,0,0],\"yaxis\":\"y\",\"type\":\"scattergl\"},{\"hovertemplate\":\"company_name=admes<br>variable=Neutral<br>year=%{x}<br>value=%{y}<extra></extra>\",\"legendgroup\":\"admes\",\"line\":{\"color\":\"#B6E880\",\"dash\":\"solid\"},\"marker\":{\"symbol\":\"circle\"},\"mode\":\"lines\",\"name\":\"admes\",\"showlegend\":false,\"x\":[2018,2019,2020,2021,2022],\"xaxis\":\"x\",\"y\":[60,86,4,8,6],\"yaxis\":\"y\",\"type\":\"scattergl\"},{\"hovertemplate\":\"company_name=aidplex<br>variable=Positive<br>year=%{x}<br>value=%{y}<extra></extra>\",\"legendgroup\":\"aidplex\",\"line\":{\"color\":\"#FF97FF\",\"dash\":\"solid\"},\"marker\":{\"symbol\":\"circle\"},\"mode\":\"lines\",\"name\":\"aidplex\",\"showlegend\":true,\"x\":[2018,2019,2020,2021,2022,2023],\"xaxis\":\"x\",\"y\":[14,8,6,18,14,2],\"yaxis\":\"y\",\"type\":\"scattergl\"},{\"hovertemplate\":\"company_name=aidplex<br>variable=Negative<br>year=%{x}<br>value=%{y}<extra></extra>\",\"legendgroup\":\"aidplex\",\"line\":{\"color\":\"#FF97FF\",\"dash\":\"solid\"},\"marker\":{\"symbol\":\"circle\"},\"mode\":\"lines\",\"name\":\"aidplex\",\"showlegend\":false,\"x\":[2018,2019,2020,2021,2022,2023],\"xaxis\":\"x\",\"y\":[0,0,0,2,0,0],\"yaxis\":\"y\",\"type\":\"scattergl\"},{\"hovertemplate\":\"company_name=aidplex<br>variable=Neutral<br>year=%{x}<br>value=%{y}<extra></extra>\",\"legendgroup\":\"aidplex\",\"line\":{\"color\":\"#FF97FF\",\"dash\":\"solid\"},\"marker\":{\"symbol\":\"circle\"},\"mode\":\"lines\",\"name\":\"aidplex\",\"showlegend\":false,\"x\":[2018,2019,2020,2021,2022,2023],\"xaxis\":\"x\",\"y\":[24,2,0,8,2,2],\"yaxis\":\"y\",\"type\":\"scattergl\"},{\"hovertemplate\":\"company_name=autoduder<br>variable=Positive<br>year=%{x}<br>value=%{y}<extra></extra>\",\"legendgroup\":\"autoduder\",\"line\":{\"color\":\"#FECB52\",\"dash\":\"solid\"},\"marker\":{\"symbol\":\"circle\"},\"mode\":\"lines\",\"name\":\"autoduder\",\"showlegend\":true,\"x\":[2018],\"xaxis\":\"x\",\"y\":[6],\"yaxis\":\"y\",\"type\":\"scattergl\"},{\"hovertemplate\":\"company_name=autoduder<br>variable=Negative<br>year=%{x}<br>value=%{y}<extra></extra>\",\"legendgroup\":\"autoduder\",\"line\":{\"color\":\"#FECB52\",\"dash\":\"solid\"},\"marker\":{\"symbol\":\"circle\"},\"mode\":\"lines\",\"name\":\"autoduder\",\"showlegend\":false,\"x\":[2018],\"xaxis\":\"x\",\"y\":[0],\"yaxis\":\"y\",\"type\":\"scattergl\"},{\"hovertemplate\":\"company_name=autoduder<br>variable=Neutral<br>year=%{x}<br>value=%{y}<extra></extra>\",\"legendgroup\":\"autoduder\",\"line\":{\"color\":\"#FECB52\",\"dash\":\"solid\"},\"marker\":{\"symbol\":\"circle\"},\"mode\":\"lines\",\"name\":\"autoduder\",\"showlegend\":false,\"x\":[2018],\"xaxis\":\"x\",\"y\":[144],\"yaxis\":\"y\",\"type\":\"scattergl\"},{\"hovertemplate\":\"company_name=e-nios<br>variable=Positive<br>year=%{x}<br>value=%{y}<extra></extra>\",\"legendgroup\":\"e-nios\",\"line\":{\"color\":\"#636efa\",\"dash\":\"solid\"},\"marker\":{\"symbol\":\"circle\"},\"mode\":\"lines\",\"name\":\"e-nios\",\"showlegend\":true,\"x\":[2017,2018,2019,2020,2021,2022],\"xaxis\":\"x\",\"y\":[17,11,3,0,0,0],\"yaxis\":\"y\",\"type\":\"scattergl\"},{\"hovertemplate\":\"company_name=e-nios<br>variable=Negative<br>year=%{x}<br>value=%{y}<extra></extra>\",\"legendgroup\":\"e-nios\",\"line\":{\"color\":\"#636efa\",\"dash\":\"solid\"},\"marker\":{\"symbol\":\"circle\"},\"mode\":\"lines\",\"name\":\"e-nios\",\"showlegend\":false,\"x\":[2017,2018,2019,2020,2021,2022],\"xaxis\":\"x\",\"y\":[4,1,0,0,0,0],\"yaxis\":\"y\",\"type\":\"scattergl\"},{\"hovertemplate\":\"company_name=e-nios<br>variable=Neutral<br>year=%{x}<br>value=%{y}<extra></extra>\",\"legendgroup\":\"e-nios\",\"line\":{\"color\":\"#636efa\",\"dash\":\"solid\"},\"marker\":{\"symbol\":\"circle\"},\"mode\":\"lines\",\"name\":\"e-nios\",\"showlegend\":false,\"x\":[2017,2018,2019,2020,2021,2022],\"xaxis\":\"x\",\"y\":[42,15,2,2,1,1],\"yaxis\":\"y\",\"type\":\"scattergl\"},{\"hovertemplate\":\"company_name=eNVy softworks<br>variable=Positive<br>year=%{x}<br>value=%{y}<extra></extra>\",\"legendgroup\":\"eNVy softworks\",\"line\":{\"color\":\"#EF553B\",\"dash\":\"solid\"},\"marker\":{\"symbol\":\"circle\"},\"mode\":\"lines\",\"name\":\"eNVy softworks\",\"showlegend\":true,\"x\":[2018,2019,2022,2023],\"xaxis\":\"x\",\"y\":[18,9,0,4],\"yaxis\":\"y\",\"type\":\"scattergl\"},{\"hovertemplate\":\"company_name=eNVy softworks<br>variable=Negative<br>year=%{x}<br>value=%{y}<extra></extra>\",\"legendgroup\":\"eNVy softworks\",\"line\":{\"color\":\"#EF553B\",\"dash\":\"solid\"},\"marker\":{\"symbol\":\"circle\"},\"mode\":\"lines\",\"name\":\"eNVy softworks\",\"showlegend\":false,\"x\":[2018,2019,2022,2023],\"xaxis\":\"x\",\"y\":[6,4,0,0],\"yaxis\":\"y\",\"type\":\"scattergl\"},{\"hovertemplate\":\"company_name=eNVy softworks<br>variable=Neutral<br>year=%{x}<br>value=%{y}<extra></extra>\",\"legendgroup\":\"eNVy softworks\",\"line\":{\"color\":\"#EF553B\",\"dash\":\"solid\"},\"marker\":{\"symbol\":\"circle\"},\"mode\":\"lines\",\"name\":\"eNVy softworks\",\"showlegend\":false,\"x\":[2018,2019,2022,2023],\"xaxis\":\"x\",\"y\":[13,5,1,2],\"yaxis\":\"y\",\"type\":\"scattergl\"},{\"hovertemplate\":\"company_name=eummena<br>variable=Positive<br>year=%{x}<br>value=%{y}<extra></extra>\",\"legendgroup\":\"eummena\",\"line\":{\"color\":\"#00cc96\",\"dash\":\"solid\"},\"marker\":{\"symbol\":\"circle\"},\"mode\":\"lines\",\"name\":\"eummena\",\"showlegend\":true,\"x\":[2017,2018,2019,2020,2021,2022,2023],\"xaxis\":\"x\",\"y\":[11,1,38,77,37,67,6],\"yaxis\":\"y\",\"type\":\"scattergl\"},{\"hovertemplate\":\"company_name=eummena<br>variable=Negative<br>year=%{x}<br>value=%{y}<extra></extra>\",\"legendgroup\":\"eummena\",\"line\":{\"color\":\"#00cc96\",\"dash\":\"solid\"},\"marker\":{\"symbol\":\"circle\"},\"mode\":\"lines\",\"name\":\"eummena\",\"showlegend\":false,\"x\":[2017,2018,2019,2020,2021,2022,2023],\"xaxis\":\"x\",\"y\":[1,0,3,3,1,1,1],\"yaxis\":\"y\",\"type\":\"scattergl\"},{\"hovertemplate\":\"company_name=eummena<br>variable=Neutral<br>year=%{x}<br>value=%{y}<extra></extra>\",\"legendgroup\":\"eummena\",\"line\":{\"color\":\"#00cc96\",\"dash\":\"solid\"},\"marker\":{\"symbol\":\"circle\"},\"mode\":\"lines\",\"name\":\"eummena\",\"showlegend\":false,\"x\":[2017,2018,2019,2020,2021,2022,2023],\"xaxis\":\"x\",\"y\":[17,1,17,29,58,122,14],\"yaxis\":\"y\",\"type\":\"scattergl\"},{\"hovertemplate\":\"company_name=ferryhopper<br>variable=Positive<br>year=%{x}<br>value=%{y}<extra></extra>\",\"legendgroup\":\"ferryhopper\",\"line\":{\"color\":\"#ab63fa\",\"dash\":\"solid\"},\"marker\":{\"symbol\":\"circle\"},\"mode\":\"lines\",\"name\":\"ferryhopper\",\"showlegend\":true,\"x\":[2017,2018,2020,2021,2022],\"xaxis\":\"x\",\"y\":[2,3,22,13,1],\"yaxis\":\"y\",\"type\":\"scattergl\"},{\"hovertemplate\":\"company_name=ferryhopper<br>variable=Negative<br>year=%{x}<br>value=%{y}<extra></extra>\",\"legendgroup\":\"ferryhopper\",\"line\":{\"color\":\"#ab63fa\",\"dash\":\"solid\"},\"marker\":{\"symbol\":\"circle\"},\"mode\":\"lines\",\"name\":\"ferryhopper\",\"showlegend\":false,\"x\":[2017,2018,2020,2021,2022],\"xaxis\":\"x\",\"y\":[1,0,3,0,2],\"yaxis\":\"y\",\"type\":\"scattergl\"},{\"hovertemplate\":\"company_name=ferryhopper<br>variable=Neutral<br>year=%{x}<br>value=%{y}<extra></extra>\",\"legendgroup\":\"ferryhopper\",\"line\":{\"color\":\"#ab63fa\",\"dash\":\"solid\"},\"marker\":{\"symbol\":\"circle\"},\"mode\":\"lines\",\"name\":\"ferryhopper\",\"showlegend\":false,\"x\":[2017,2018,2020,2021,2022],\"xaxis\":\"x\",\"y\":[25,14,30,3,2],\"yaxis\":\"y\",\"type\":\"scattergl\"},{\"hovertemplate\":\"company_name=i2d Technologies.<br>variable=Positive<br>year=%{x}<br>value=%{y}<extra></extra>\",\"legendgroup\":\"i2d Technologies.\",\"line\":{\"color\":\"#FFA15A\",\"dash\":\"solid\"},\"marker\":{\"symbol\":\"circle\"},\"mode\":\"lines\",\"name\":\"i2d Technologies.\",\"showlegend\":true,\"x\":[2017],\"xaxis\":\"x\",\"y\":[3],\"yaxis\":\"y\",\"type\":\"scattergl\"},{\"hovertemplate\":\"company_name=i2d Technologies.<br>variable=Negative<br>year=%{x}<br>value=%{y}<extra></extra>\",\"legendgroup\":\"i2d Technologies.\",\"line\":{\"color\":\"#FFA15A\",\"dash\":\"solid\"},\"marker\":{\"symbol\":\"circle\"},\"mode\":\"lines\",\"name\":\"i2d Technologies.\",\"showlegend\":false,\"x\":[2017],\"xaxis\":\"x\",\"y\":[0],\"yaxis\":\"y\",\"type\":\"scattergl\"},{\"hovertemplate\":\"company_name=i2d Technologies.<br>variable=Neutral<br>year=%{x}<br>value=%{y}<extra></extra>\",\"legendgroup\":\"i2d Technologies.\",\"line\":{\"color\":\"#FFA15A\",\"dash\":\"solid\"},\"marker\":{\"symbol\":\"circle\"},\"mode\":\"lines\",\"name\":\"i2d Technologies.\",\"showlegend\":false,\"x\":[2017],\"xaxis\":\"x\",\"y\":[0],\"yaxis\":\"y\",\"type\":\"scattergl\"},{\"hovertemplate\":\"company_name=inaccel<br>variable=Positive<br>year=%{x}<br>value=%{y}<extra></extra>\",\"legendgroup\":\"inaccel\",\"line\":{\"color\":\"#19d3f3\",\"dash\":\"solid\"},\"marker\":{\"symbol\":\"circle\"},\"mode\":\"lines\",\"name\":\"inaccel\",\"showlegend\":true,\"x\":[2018,2019,2020,2022,2023],\"xaxis\":\"x\",\"y\":[6,6,4,2,2],\"yaxis\":\"y\",\"type\":\"scattergl\"},{\"hovertemplate\":\"company_name=inaccel<br>variable=Negative<br>year=%{x}<br>value=%{y}<extra></extra>\",\"legendgroup\":\"inaccel\",\"line\":{\"color\":\"#19d3f3\",\"dash\":\"solid\"},\"marker\":{\"symbol\":\"circle\"},\"mode\":\"lines\",\"name\":\"inaccel\",\"showlegend\":false,\"x\":[2018,2019,2020,2022,2023],\"xaxis\":\"x\",\"y\":[1,0,0,0,0],\"yaxis\":\"y\",\"type\":\"scattergl\"},{\"hovertemplate\":\"company_name=inaccel<br>variable=Neutral<br>year=%{x}<br>value=%{y}<extra></extra>\",\"legendgroup\":\"inaccel\",\"line\":{\"color\":\"#19d3f3\",\"dash\":\"solid\"},\"marker\":{\"symbol\":\"circle\"},\"mode\":\"lines\",\"name\":\"inaccel\",\"showlegend\":false,\"x\":[2018,2019,2020,2022,2023],\"xaxis\":\"x\",\"y\":[2,12,0,1,0],\"yaxis\":\"y\",\"type\":\"scattergl\"},{\"hovertemplate\":\"company_name=infalia<br>variable=Positive<br>year=%{x}<br>value=%{y}<extra></extra>\",\"legendgroup\":\"infalia\",\"line\":{\"color\":\"#FF6692\",\"dash\":\"solid\"},\"marker\":{\"symbol\":\"circle\"},\"mode\":\"lines\",\"name\":\"infalia\",\"showlegend\":true,\"x\":[2022],\"xaxis\":\"x\",\"y\":[1],\"yaxis\":\"y\",\"type\":\"scattergl\"},{\"hovertemplate\":\"company_name=infalia<br>variable=Negative<br>year=%{x}<br>value=%{y}<extra></extra>\",\"legendgroup\":\"infalia\",\"line\":{\"color\":\"#FF6692\",\"dash\":\"solid\"},\"marker\":{\"symbol\":\"circle\"},\"mode\":\"lines\",\"name\":\"infalia\",\"showlegend\":false,\"x\":[2022],\"xaxis\":\"x\",\"y\":[0],\"yaxis\":\"y\",\"type\":\"scattergl\"},{\"hovertemplate\":\"company_name=infalia<br>variable=Neutral<br>year=%{x}<br>value=%{y}<extra></extra>\",\"legendgroup\":\"infalia\",\"line\":{\"color\":\"#FF6692\",\"dash\":\"solid\"},\"marker\":{\"symbol\":\"circle\"},\"mode\":\"lines\",\"name\":\"infalia\",\"showlegend\":false,\"x\":[2022],\"xaxis\":\"x\",\"y\":[0],\"yaxis\":\"y\",\"type\":\"scattergl\"},{\"hovertemplate\":\"company_name=insigh.io<br>variable=Positive<br>year=%{x}<br>value=%{y}<extra></extra>\",\"legendgroup\":\"insigh.io\",\"line\":{\"color\":\"#B6E880\",\"dash\":\"solid\"},\"marker\":{\"symbol\":\"circle\"},\"mode\":\"lines\",\"name\":\"insigh.io\",\"showlegend\":true,\"x\":[2020,2021],\"xaxis\":\"x\",\"y\":[8,2],\"yaxis\":\"y\",\"type\":\"scattergl\"},{\"hovertemplate\":\"company_name=insigh.io<br>variable=Negative<br>year=%{x}<br>value=%{y}<extra></extra>\",\"legendgroup\":\"insigh.io\",\"line\":{\"color\":\"#B6E880\",\"dash\":\"solid\"},\"marker\":{\"symbol\":\"circle\"},\"mode\":\"lines\",\"name\":\"insigh.io\",\"showlegend\":false,\"x\":[2020,2021],\"xaxis\":\"x\",\"y\":[3,0],\"yaxis\":\"y\",\"type\":\"scattergl\"},{\"hovertemplate\":\"company_name=insigh.io<br>variable=Neutral<br>year=%{x}<br>value=%{y}<extra></extra>\",\"legendgroup\":\"insigh.io\",\"line\":{\"color\":\"#B6E880\",\"dash\":\"solid\"},\"marker\":{\"symbol\":\"circle\"},\"mode\":\"lines\",\"name\":\"insigh.io\",\"showlegend\":false,\"x\":[2020,2021],\"xaxis\":\"x\",\"y\":[2,0],\"yaxis\":\"y\",\"type\":\"scattergl\"},{\"hovertemplate\":\"company_name=isMOOD<br>variable=Positive<br>year=%{x}<br>value=%{y}<extra></extra>\",\"legendgroup\":\"isMOOD\",\"line\":{\"color\":\"#FF97FF\",\"dash\":\"solid\"},\"marker\":{\"symbol\":\"circle\"},\"mode\":\"lines\",\"name\":\"isMOOD\",\"showlegend\":true,\"x\":[2017,2019],\"xaxis\":\"x\",\"y\":[1,1],\"yaxis\":\"y\",\"type\":\"scattergl\"},{\"hovertemplate\":\"company_name=isMOOD<br>variable=Negative<br>year=%{x}<br>value=%{y}<extra></extra>\",\"legendgroup\":\"isMOOD\",\"line\":{\"color\":\"#FF97FF\",\"dash\":\"solid\"},\"marker\":{\"symbol\":\"circle\"},\"mode\":\"lines\",\"name\":\"isMOOD\",\"showlegend\":false,\"x\":[2017,2019],\"xaxis\":\"x\",\"y\":[0,0],\"yaxis\":\"y\",\"type\":\"scattergl\"},{\"hovertemplate\":\"company_name=isMOOD<br>variable=Neutral<br>year=%{x}<br>value=%{y}<extra></extra>\",\"legendgroup\":\"isMOOD\",\"line\":{\"color\":\"#FF97FF\",\"dash\":\"solid\"},\"marker\":{\"symbol\":\"circle\"},\"mode\":\"lines\",\"name\":\"isMOOD\",\"showlegend\":false,\"x\":[2017,2019],\"xaxis\":\"x\",\"y\":[2,2],\"yaxis\":\"y\",\"type\":\"scattergl\"},{\"hovertemplate\":\"company_name=kleesto<br>variable=Positive<br>year=%{x}<br>value=%{y}<extra></extra>\",\"legendgroup\":\"kleesto\",\"line\":{\"color\":\"#FECB52\",\"dash\":\"solid\"},\"marker\":{\"symbol\":\"circle\"},\"mode\":\"lines\",\"name\":\"kleesto\",\"showlegend\":true,\"x\":[2018,2019,2020,2021,2022,2023],\"xaxis\":\"x\",\"y\":[9,23,8,1,27,67],\"yaxis\":\"y\",\"type\":\"scattergl\"},{\"hovertemplate\":\"company_name=kleesto<br>variable=Negative<br>year=%{x}<br>value=%{y}<extra></extra>\",\"legendgroup\":\"kleesto\",\"line\":{\"color\":\"#FECB52\",\"dash\":\"solid\"},\"marker\":{\"symbol\":\"circle\"},\"mode\":\"lines\",\"name\":\"kleesto\",\"showlegend\":false,\"x\":[2018,2019,2020,2021,2022,2023],\"xaxis\":\"x\",\"y\":[1,4,1,0,1,11],\"yaxis\":\"y\",\"type\":\"scattergl\"},{\"hovertemplate\":\"company_name=kleesto<br>variable=Neutral<br>year=%{x}<br>value=%{y}<extra></extra>\",\"legendgroup\":\"kleesto\",\"line\":{\"color\":\"#FECB52\",\"dash\":\"solid\"},\"marker\":{\"symbol\":\"circle\"},\"mode\":\"lines\",\"name\":\"kleesto\",\"showlegend\":false,\"x\":[2018,2019,2020,2021,2022,2023],\"xaxis\":\"x\",\"y\":[6,13,7,0,13,33],\"yaxis\":\"y\",\"type\":\"scattergl\"},{\"hovertemplate\":\"company_name=m-hospitality<br>variable=Positive<br>year=%{x}<br>value=%{y}<extra></extra>\",\"legendgroup\":\"m-hospitality\",\"line\":{\"color\":\"#636efa\",\"dash\":\"solid\"},\"marker\":{\"symbol\":\"circle\"},\"mode\":\"lines\",\"name\":\"m-hospitality\",\"showlegend\":true,\"x\":[2017,2018,2019],\"xaxis\":\"x\",\"y\":[12,16,1],\"yaxis\":\"y\",\"type\":\"scattergl\"},{\"hovertemplate\":\"company_name=m-hospitality<br>variable=Negative<br>year=%{x}<br>value=%{y}<extra></extra>\",\"legendgroup\":\"m-hospitality\",\"line\":{\"color\":\"#636efa\",\"dash\":\"solid\"},\"marker\":{\"symbol\":\"circle\"},\"mode\":\"lines\",\"name\":\"m-hospitality\",\"showlegend\":false,\"x\":[2017,2018,2019],\"xaxis\":\"x\",\"y\":[0,1,0],\"yaxis\":\"y\",\"type\":\"scattergl\"},{\"hovertemplate\":\"company_name=m-hospitality<br>variable=Neutral<br>year=%{x}<br>value=%{y}<extra></extra>\",\"legendgroup\":\"m-hospitality\",\"line\":{\"color\":\"#636efa\",\"dash\":\"solid\"},\"marker\":{\"symbol\":\"circle\"},\"mode\":\"lines\",\"name\":\"m-hospitality\",\"showlegend\":false,\"x\":[2017,2018,2019],\"xaxis\":\"x\",\"y\":[4,6,0],\"yaxis\":\"y\",\"type\":\"scattergl\"},{\"hovertemplate\":\"company_name=nimbata.<br>variable=Positive<br>year=%{x}<br>value=%{y}<extra></extra>\",\"legendgroup\":\"nimbata.\",\"line\":{\"color\":\"#EF553B\",\"dash\":\"solid\"},\"marker\":{\"symbol\":\"circle\"},\"mode\":\"lines\",\"name\":\"nimbata.\",\"showlegend\":true,\"x\":[2018,2020,2023],\"xaxis\":\"x\",\"y\":[0,31,1],\"yaxis\":\"y\",\"type\":\"scattergl\"},{\"hovertemplate\":\"company_name=nimbata.<br>variable=Negative<br>year=%{x}<br>value=%{y}<extra></extra>\",\"legendgroup\":\"nimbata.\",\"line\":{\"color\":\"#EF553B\",\"dash\":\"solid\"},\"marker\":{\"symbol\":\"circle\"},\"mode\":\"lines\",\"name\":\"nimbata.\",\"showlegend\":false,\"x\":[2018,2020,2023],\"xaxis\":\"x\",\"y\":[0,3,0],\"yaxis\":\"y\",\"type\":\"scattergl\"},{\"hovertemplate\":\"company_name=nimbata.<br>variable=Neutral<br>year=%{x}<br>value=%{y}<extra></extra>\",\"legendgroup\":\"nimbata.\",\"line\":{\"color\":\"#EF553B\",\"dash\":\"solid\"},\"marker\":{\"symbol\":\"circle\"},\"mode\":\"lines\",\"name\":\"nimbata.\",\"showlegend\":false,\"x\":[2018,2020,2023],\"xaxis\":\"x\",\"y\":[1,4,1],\"yaxis\":\"y\",\"type\":\"scattergl\"},{\"hovertemplate\":\"company_name=norbloc<br>variable=Positive<br>year=%{x}<br>value=%{y}<extra></extra>\",\"legendgroup\":\"norbloc\",\"line\":{\"color\":\"#00cc96\",\"dash\":\"solid\"},\"marker\":{\"symbol\":\"circle\"},\"mode\":\"lines\",\"name\":\"norbloc\",\"showlegend\":true,\"x\":[2017,2018,2019,2020,2021,2022,2023],\"xaxis\":\"x\",\"y\":[6,8,1,6,9,28,10],\"yaxis\":\"y\",\"type\":\"scattergl\"},{\"hovertemplate\":\"company_name=norbloc<br>variable=Negative<br>year=%{x}<br>value=%{y}<extra></extra>\",\"legendgroup\":\"norbloc\",\"line\":{\"color\":\"#00cc96\",\"dash\":\"solid\"},\"marker\":{\"symbol\":\"circle\"},\"mode\":\"lines\",\"name\":\"norbloc\",\"showlegend\":false,\"x\":[2017,2018,2019,2020,2021,2022,2023],\"xaxis\":\"x\",\"y\":[1,0,0,0,0,2,1],\"yaxis\":\"y\",\"type\":\"scattergl\"},{\"hovertemplate\":\"company_name=norbloc<br>variable=Neutral<br>year=%{x}<br>value=%{y}<extra></extra>\",\"legendgroup\":\"norbloc\",\"line\":{\"color\":\"#00cc96\",\"dash\":\"solid\"},\"marker\":{\"symbol\":\"circle\"},\"mode\":\"lines\",\"name\":\"norbloc\",\"showlegend\":false,\"x\":[2017,2018,2019,2020,2021,2022,2023],\"xaxis\":\"x\",\"y\":[5,13,1,6,2,20,5],\"yaxis\":\"y\",\"type\":\"scattergl\"},{\"hovertemplate\":\"company_name=novoville<br>variable=Positive<br>year=%{x}<br>value=%{y}<extra></extra>\",\"legendgroup\":\"novoville\",\"line\":{\"color\":\"#ab63fa\",\"dash\":\"solid\"},\"marker\":{\"symbol\":\"circle\"},\"mode\":\"lines\",\"name\":\"novoville\",\"showlegend\":true,\"x\":[2017,2018,2019,2020,2021,2022,2023],\"xaxis\":\"x\",\"y\":[17,20,25,19,13,24,3],\"yaxis\":\"y\",\"type\":\"scattergl\"},{\"hovertemplate\":\"company_name=novoville<br>variable=Negative<br>year=%{x}<br>value=%{y}<extra></extra>\",\"legendgroup\":\"novoville\",\"line\":{\"color\":\"#ab63fa\",\"dash\":\"solid\"},\"marker\":{\"symbol\":\"circle\"},\"mode\":\"lines\",\"name\":\"novoville\",\"showlegend\":false,\"x\":[2017,2018,2019,2020,2021,2022,2023],\"xaxis\":\"x\",\"y\":[0,1,2,3,2,3,0],\"yaxis\":\"y\",\"type\":\"scattergl\"},{\"hovertemplate\":\"company_name=novoville<br>variable=Neutral<br>year=%{x}<br>value=%{y}<extra></extra>\",\"legendgroup\":\"novoville\",\"line\":{\"color\":\"#ab63fa\",\"dash\":\"solid\"},\"marker\":{\"symbol\":\"circle\"},\"mode\":\"lines\",\"name\":\"novoville\",\"showlegend\":false,\"x\":[2017,2018,2019,2020,2021,2022,2023],\"xaxis\":\"x\",\"y\":[15,10,7,10,10,2,2],\"yaxis\":\"y\",\"type\":\"scattergl\"},{\"hovertemplate\":\"company_name=nubis<br>variable=Positive<br>year=%{x}<br>value=%{y}<extra></extra>\",\"legendgroup\":\"nubis\",\"line\":{\"color\":\"#FFA15A\",\"dash\":\"solid\"},\"marker\":{\"symbol\":\"circle\"},\"mode\":\"lines\",\"name\":\"nubis\",\"showlegend\":true,\"x\":[2020],\"xaxis\":\"x\",\"y\":[0],\"yaxis\":\"y\",\"type\":\"scattergl\"},{\"hovertemplate\":\"company_name=nubis<br>variable=Negative<br>year=%{x}<br>value=%{y}<extra></extra>\",\"legendgroup\":\"nubis\",\"line\":{\"color\":\"#FFA15A\",\"dash\":\"solid\"},\"marker\":{\"symbol\":\"circle\"},\"mode\":\"lines\",\"name\":\"nubis\",\"showlegend\":false,\"x\":[2020],\"xaxis\":\"x\",\"y\":[0],\"yaxis\":\"y\",\"type\":\"scattergl\"},{\"hovertemplate\":\"company_name=nubis<br>variable=Neutral<br>year=%{x}<br>value=%{y}<extra></extra>\",\"legendgroup\":\"nubis\",\"line\":{\"color\":\"#FFA15A\",\"dash\":\"solid\"},\"marker\":{\"symbol\":\"circle\"},\"mode\":\"lines\",\"name\":\"nubis\",\"showlegend\":false,\"x\":[2020],\"xaxis\":\"x\",\"y\":[1],\"yaxis\":\"y\",\"type\":\"scattergl\"},{\"hovertemplate\":\"company_name=omgyno<br>variable=Positive<br>year=%{x}<br>value=%{y}<extra></extra>\",\"legendgroup\":\"omgyno\",\"line\":{\"color\":\"#19d3f3\",\"dash\":\"solid\"},\"marker\":{\"symbol\":\"circle\"},\"mode\":\"lines\",\"name\":\"omgyno\",\"showlegend\":true,\"x\":[2021,2022],\"xaxis\":\"x\",\"y\":[0,1],\"yaxis\":\"y\",\"type\":\"scattergl\"},{\"hovertemplate\":\"company_name=omgyno<br>variable=Negative<br>year=%{x}<br>value=%{y}<extra></extra>\",\"legendgroup\":\"omgyno\",\"line\":{\"color\":\"#19d3f3\",\"dash\":\"solid\"},\"marker\":{\"symbol\":\"circle\"},\"mode\":\"lines\",\"name\":\"omgyno\",\"showlegend\":false,\"x\":[2021,2022],\"xaxis\":\"x\",\"y\":[1,0],\"yaxis\":\"y\",\"type\":\"scattergl\"},{\"hovertemplate\":\"company_name=omgyno<br>variable=Neutral<br>year=%{x}<br>value=%{y}<extra></extra>\",\"legendgroup\":\"omgyno\",\"line\":{\"color\":\"#19d3f3\",\"dash\":\"solid\"},\"marker\":{\"symbol\":\"circle\"},\"mode\":\"lines\",\"name\":\"omgyno\",\"showlegend\":false,\"x\":[2021,2022],\"xaxis\":\"x\",\"y\":[1,2],\"yaxis\":\"y\",\"type\":\"scattergl\"},{\"hovertemplate\":\"company_name=recycglobe<br>variable=Positive<br>year=%{x}<br>value=%{y}<extra></extra>\",\"legendgroup\":\"recycglobe\",\"line\":{\"color\":\"#FF6692\",\"dash\":\"solid\"},\"marker\":{\"symbol\":\"circle\"},\"mode\":\"lines\",\"name\":\"recycglobe\",\"showlegend\":true,\"x\":[2017,2018,2019,2020],\"xaxis\":\"x\",\"y\":[0,1,1,1],\"yaxis\":\"y\",\"type\":\"scattergl\"},{\"hovertemplate\":\"company_name=recycglobe<br>variable=Negative<br>year=%{x}<br>value=%{y}<extra></extra>\",\"legendgroup\":\"recycglobe\",\"line\":{\"color\":\"#FF6692\",\"dash\":\"solid\"},\"marker\":{\"symbol\":\"circle\"},\"mode\":\"lines\",\"name\":\"recycglobe\",\"showlegend\":false,\"x\":[2017,2018,2019,2020],\"xaxis\":\"x\",\"y\":[0,0,0,0],\"yaxis\":\"y\",\"type\":\"scattergl\"},{\"hovertemplate\":\"company_name=recycglobe<br>variable=Neutral<br>year=%{x}<br>value=%{y}<extra></extra>\",\"legendgroup\":\"recycglobe\",\"line\":{\"color\":\"#FF6692\",\"dash\":\"solid\"},\"marker\":{\"symbol\":\"circle\"},\"mode\":\"lines\",\"name\":\"recycglobe\",\"showlegend\":false,\"x\":[2017,2018,2019,2020],\"xaxis\":\"x\",\"y\":[3,33,23,1],\"yaxis\":\"y\",\"type\":\"scattergl\"},{\"hovertemplate\":\"company_name=simplybook<br>variable=Positive<br>year=%{x}<br>value=%{y}<extra></extra>\",\"legendgroup\":\"simplybook\",\"line\":{\"color\":\"#B6E880\",\"dash\":\"solid\"},\"marker\":{\"symbol\":\"circle\"},\"mode\":\"lines\",\"name\":\"simplybook\",\"showlegend\":true,\"x\":[2018,2019,2020,2022],\"xaxis\":\"x\",\"y\":[1,11,19,1],\"yaxis\":\"y\",\"type\":\"scattergl\"},{\"hovertemplate\":\"company_name=simplybook<br>variable=Negative<br>year=%{x}<br>value=%{y}<extra></extra>\",\"legendgroup\":\"simplybook\",\"line\":{\"color\":\"#B6E880\",\"dash\":\"solid\"},\"marker\":{\"symbol\":\"circle\"},\"mode\":\"lines\",\"name\":\"simplybook\",\"showlegend\":false,\"x\":[2018,2019,2020,2022],\"xaxis\":\"x\",\"y\":[0,1,3,0],\"yaxis\":\"y\",\"type\":\"scattergl\"},{\"hovertemplate\":\"company_name=simplybook<br>variable=Neutral<br>year=%{x}<br>value=%{y}<extra></extra>\",\"legendgroup\":\"simplybook\",\"line\":{\"color\":\"#B6E880\",\"dash\":\"solid\"},\"marker\":{\"symbol\":\"circle\"},\"mode\":\"lines\",\"name\":\"simplybook\",\"showlegend\":false,\"x\":[2018,2019,2020,2022],\"xaxis\":\"x\",\"y\":[0,2,6,1],\"yaxis\":\"y\",\"type\":\"scattergl\"},{\"hovertemplate\":\"company_name=solmeyea<br>variable=Positive<br>year=%{x}<br>value=%{y}<extra></extra>\",\"legendgroup\":\"solmeyea\",\"line\":{\"color\":\"#FF97FF\",\"dash\":\"solid\"},\"marker\":{\"symbol\":\"circle\"},\"mode\":\"lines\",\"name\":\"solmeyea\",\"showlegend\":true,\"x\":[2019,2020],\"xaxis\":\"x\",\"y\":[3,1],\"yaxis\":\"y\",\"type\":\"scattergl\"},{\"hovertemplate\":\"company_name=solmeyea<br>variable=Negative<br>year=%{x}<br>value=%{y}<extra></extra>\",\"legendgroup\":\"solmeyea\",\"line\":{\"color\":\"#FF97FF\",\"dash\":\"solid\"},\"marker\":{\"symbol\":\"circle\"},\"mode\":\"lines\",\"name\":\"solmeyea\",\"showlegend\":false,\"x\":[2019,2020],\"xaxis\":\"x\",\"y\":[0,0],\"yaxis\":\"y\",\"type\":\"scattergl\"},{\"hovertemplate\":\"company_name=solmeyea<br>variable=Neutral<br>year=%{x}<br>value=%{y}<extra></extra>\",\"legendgroup\":\"solmeyea\",\"line\":{\"color\":\"#FF97FF\",\"dash\":\"solid\"},\"marker\":{\"symbol\":\"circle\"},\"mode\":\"lines\",\"name\":\"solmeyea\",\"showlegend\":false,\"x\":[2019,2020],\"xaxis\":\"x\",\"y\":[5,2],\"yaxis\":\"y\",\"type\":\"scattergl\"},{\"hovertemplate\":\"company_name=spaceprk<br>variable=Positive<br>year=%{x}<br>value=%{y}<extra></extra>\",\"legendgroup\":\"spaceprk\",\"line\":{\"color\":\"#FECB52\",\"dash\":\"solid\"},\"marker\":{\"symbol\":\"circle\"},\"mode\":\"lines\",\"name\":\"spaceprk\",\"showlegend\":true,\"x\":[2019],\"xaxis\":\"x\",\"y\":[8],\"yaxis\":\"y\",\"type\":\"scattergl\"},{\"hovertemplate\":\"company_name=spaceprk<br>variable=Negative<br>year=%{x}<br>value=%{y}<extra></extra>\",\"legendgroup\":\"spaceprk\",\"line\":{\"color\":\"#FECB52\",\"dash\":\"solid\"},\"marker\":{\"symbol\":\"circle\"},\"mode\":\"lines\",\"name\":\"spaceprk\",\"showlegend\":false,\"x\":[2019],\"xaxis\":\"x\",\"y\":[0],\"yaxis\":\"y\",\"type\":\"scattergl\"},{\"hovertemplate\":\"company_name=spaceprk<br>variable=Neutral<br>year=%{x}<br>value=%{y}<extra></extra>\",\"legendgroup\":\"spaceprk\",\"line\":{\"color\":\"#FECB52\",\"dash\":\"solid\"},\"marker\":{\"symbol\":\"circle\"},\"mode\":\"lines\",\"name\":\"spaceprk\",\"showlegend\":false,\"x\":[2019],\"xaxis\":\"x\",\"y\":[3],\"yaxis\":\"y\",\"type\":\"scattergl\"},{\"hovertemplate\":\"company_name=spaniaNFT<br>variable=Positive<br>year=%{x}<br>value=%{y}<extra></extra>\",\"legendgroup\":\"spaniaNFT\",\"line\":{\"color\":\"#636efa\",\"dash\":\"solid\"},\"marker\":{\"symbol\":\"circle\"},\"mode\":\"lines\",\"name\":\"spaniaNFT\",\"showlegend\":true,\"x\":[2021,2022,2023],\"xaxis\":\"x\",\"y\":[4,0,0],\"yaxis\":\"y\",\"type\":\"scattergl\"},{\"hovertemplate\":\"company_name=spaniaNFT<br>variable=Negative<br>year=%{x}<br>value=%{y}<extra></extra>\",\"legendgroup\":\"spaniaNFT\",\"line\":{\"color\":\"#636efa\",\"dash\":\"solid\"},\"marker\":{\"symbol\":\"circle\"},\"mode\":\"lines\",\"name\":\"spaniaNFT\",\"showlegend\":false,\"x\":[2021,2022,2023],\"xaxis\":\"x\",\"y\":[0,1,1],\"yaxis\":\"y\",\"type\":\"scattergl\"},{\"hovertemplate\":\"company_name=spaniaNFT<br>variable=Neutral<br>year=%{x}<br>value=%{y}<extra></extra>\",\"legendgroup\":\"spaniaNFT\",\"line\":{\"color\":\"#636efa\",\"dash\":\"solid\"},\"marker\":{\"symbol\":\"circle\"},\"mode\":\"lines\",\"name\":\"spaniaNFT\",\"showlegend\":false,\"x\":[2021,2022,2023],\"xaxis\":\"x\",\"y\":[21,43,10],\"yaxis\":\"y\",\"type\":\"scattergl\"},{\"hovertemplate\":\"company_name=stinporta.gr<br>variable=Positive<br>year=%{x}<br>value=%{y}<extra></extra>\",\"legendgroup\":\"stinporta.gr\",\"line\":{\"color\":\"#EF553B\",\"dash\":\"solid\"},\"marker\":{\"symbol\":\"circle\"},\"mode\":\"lines\",\"name\":\"stinporta.gr\",\"showlegend\":true,\"x\":[2020,2021,2022],\"xaxis\":\"x\",\"y\":[4,0,0],\"yaxis\":\"y\",\"type\":\"scattergl\"},{\"hovertemplate\":\"company_name=stinporta.gr<br>variable=Negative<br>year=%{x}<br>value=%{y}<extra></extra>\",\"legendgroup\":\"stinporta.gr\",\"line\":{\"color\":\"#EF553B\",\"dash\":\"solid\"},\"marker\":{\"symbol\":\"circle\"},\"mode\":\"lines\",\"name\":\"stinporta.gr\",\"showlegend\":false,\"x\":[2020,2021,2022],\"xaxis\":\"x\",\"y\":[0,0,0],\"yaxis\":\"y\",\"type\":\"scattergl\"},{\"hovertemplate\":\"company_name=stinporta.gr<br>variable=Neutral<br>year=%{x}<br>value=%{y}<extra></extra>\",\"legendgroup\":\"stinporta.gr\",\"line\":{\"color\":\"#EF553B\",\"dash\":\"solid\"},\"marker\":{\"symbol\":\"circle\"},\"mode\":\"lines\",\"name\":\"stinporta.gr\",\"showlegend\":false,\"x\":[2020,2021,2022],\"xaxis\":\"x\",\"y\":[110,27,1],\"yaxis\":\"y\",\"type\":\"scattergl\"},{\"hovertemplate\":\"company_name=up2metric<br>variable=Positive<br>year=%{x}<br>value=%{y}<extra></extra>\",\"legendgroup\":\"up2metric\",\"line\":{\"color\":\"#00cc96\",\"dash\":\"solid\"},\"marker\":{\"symbol\":\"circle\"},\"mode\":\"lines\",\"name\":\"up2metric\",\"showlegend\":true,\"x\":[2017,2018,2019,2020,2021,2022],\"xaxis\":\"x\",\"y\":[4,18,2,1,1,6],\"yaxis\":\"y\",\"type\":\"scattergl\"},{\"hovertemplate\":\"company_name=up2metric<br>variable=Negative<br>year=%{x}<br>value=%{y}<extra></extra>\",\"legendgroup\":\"up2metric\",\"line\":{\"color\":\"#00cc96\",\"dash\":\"solid\"},\"marker\":{\"symbol\":\"circle\"},\"mode\":\"lines\",\"name\":\"up2metric\",\"showlegend\":false,\"x\":[2017,2018,2019,2020,2021,2022],\"xaxis\":\"x\",\"y\":[0,2,0,0,0,0],\"yaxis\":\"y\",\"type\":\"scattergl\"},{\"hovertemplate\":\"company_name=up2metric<br>variable=Neutral<br>year=%{x}<br>value=%{y}<extra></extra>\",\"legendgroup\":\"up2metric\",\"line\":{\"color\":\"#00cc96\",\"dash\":\"solid\"},\"marker\":{\"symbol\":\"circle\"},\"mode\":\"lines\",\"name\":\"up2metric\",\"showlegend\":false,\"x\":[2017,2018,2019,2020,2021,2022],\"xaxis\":\"x\",\"y\":[1,13,0,0,0,1],\"yaxis\":\"y\",\"type\":\"scattergl\"},{\"hovertemplate\":\"company_name=wappier<br>variable=Positive<br>year=%{x}<br>value=%{y}<extra></extra>\",\"legendgroup\":\"wappier\",\"line\":{\"color\":\"#ab63fa\",\"dash\":\"solid\"},\"marker\":{\"symbol\":\"circle\"},\"mode\":\"lines\",\"name\":\"wappier\",\"showlegend\":true,\"x\":[2017,2018,2019,2020,2021,2022],\"xaxis\":\"x\",\"y\":[24,42,68,32,38,54],\"yaxis\":\"y\",\"type\":\"scattergl\"},{\"hovertemplate\":\"company_name=wappier<br>variable=Negative<br>year=%{x}<br>value=%{y}<extra></extra>\",\"legendgroup\":\"wappier\",\"line\":{\"color\":\"#ab63fa\",\"dash\":\"solid\"},\"marker\":{\"symbol\":\"circle\"},\"mode\":\"lines\",\"name\":\"wappier\",\"showlegend\":false,\"x\":[2017,2018,2019,2020,2021,2022],\"xaxis\":\"x\",\"y\":[2,6,4,5,13,11],\"yaxis\":\"y\",\"type\":\"scattergl\"},{\"hovertemplate\":\"company_name=wappier<br>variable=Neutral<br>year=%{x}<br>value=%{y}<extra></extra>\",\"legendgroup\":\"wappier\",\"line\":{\"color\":\"#ab63fa\",\"dash\":\"solid\"},\"marker\":{\"symbol\":\"circle\"},\"mode\":\"lines\",\"name\":\"wappier\",\"showlegend\":false,\"x\":[2017,2018,2019,2020,2021,2022],\"xaxis\":\"x\",\"y\":[13,22,35,6,17,10],\"yaxis\":\"y\",\"type\":\"scattergl\"},{\"hovertemplate\":\"company_name=yiufi<br>variable=Positive<br>year=%{x}<br>value=%{y}<extra></extra>\",\"legendgroup\":\"yiufi\",\"line\":{\"color\":\"#FFA15A\",\"dash\":\"solid\"},\"marker\":{\"symbol\":\"circle\"},\"mode\":\"lines\",\"name\":\"yiufi\",\"showlegend\":true,\"x\":[2022,2023],\"xaxis\":\"x\",\"y\":[0,0],\"yaxis\":\"y\",\"type\":\"scattergl\"},{\"hovertemplate\":\"company_name=yiufi<br>variable=Negative<br>year=%{x}<br>value=%{y}<extra></extra>\",\"legendgroup\":\"yiufi\",\"line\":{\"color\":\"#FFA15A\",\"dash\":\"solid\"},\"marker\":{\"symbol\":\"circle\"},\"mode\":\"lines\",\"name\":\"yiufi\",\"showlegend\":false,\"x\":[2022,2023],\"xaxis\":\"x\",\"y\":[0,0],\"yaxis\":\"y\",\"type\":\"scattergl\"},{\"hovertemplate\":\"company_name=yiufi<br>variable=Neutral<br>year=%{x}<br>value=%{y}<extra></extra>\",\"legendgroup\":\"yiufi\",\"line\":{\"color\":\"#FFA15A\",\"dash\":\"solid\"},\"marker\":{\"symbol\":\"circle\"},\"mode\":\"lines\",\"name\":\"yiufi\",\"showlegend\":false,\"x\":[2022,2023],\"xaxis\":\"x\",\"y\":[9,3],\"yaxis\":\"y\",\"type\":\"scattergl\"},{\"hovertemplate\":\"company_name=\\u00ce\\u009d\\u00ce\\u00bf\\u00cf\\u0192\\u00ce\\u00b7\\u00ce\\u00bb\\u00ce\\u00b5\\u00ce\\u00af\\u00ce\\u00b1 \\u00ce\\u00a4\\u00cf\\u017d\\u00cf\\u0081\\u00ce\\u00b1<br>variable=Positive<br>year=%{x}<br>value=%{y}<extra></extra>\",\"legendgroup\":\"\\u00ce\\u009d\\u00ce\\u00bf\\u00cf\\u0192\\u00ce\\u00b7\\u00ce\\u00bb\\u00ce\\u00b5\\u00ce\\u00af\\u00ce\\u00b1 \\u00ce\\u00a4\\u00cf\\u017d\\u00cf\\u0081\\u00ce\\u00b1\",\"line\":{\"color\":\"#19d3f3\",\"dash\":\"solid\"},\"marker\":{\"symbol\":\"circle\"},\"mode\":\"lines\",\"name\":\"\\u00ce\\u009d\\u00ce\\u00bf\\u00cf\\u0192\\u00ce\\u00b7\\u00ce\\u00bb\\u00ce\\u00b5\\u00ce\\u00af\\u00ce\\u00b1 \\u00ce\\u00a4\\u00cf\\u017d\\u00cf\\u0081\\u00ce\\u00b1\",\"showlegend\":true,\"x\":[2017,2018,2019,2020,2021,2022,2023],\"xaxis\":\"x\",\"y\":[0,0,0,1,0,0,0],\"yaxis\":\"y\",\"type\":\"scattergl\"},{\"hovertemplate\":\"company_name=\\u00ce\\u009d\\u00ce\\u00bf\\u00cf\\u0192\\u00ce\\u00b7\\u00ce\\u00bb\\u00ce\\u00b5\\u00ce\\u00af\\u00ce\\u00b1 \\u00ce\\u00a4\\u00cf\\u017d\\u00cf\\u0081\\u00ce\\u00b1<br>variable=Negative<br>year=%{x}<br>value=%{y}<extra></extra>\",\"legendgroup\":\"\\u00ce\\u009d\\u00ce\\u00bf\\u00cf\\u0192\\u00ce\\u00b7\\u00ce\\u00bb\\u00ce\\u00b5\\u00ce\\u00af\\u00ce\\u00b1 \\u00ce\\u00a4\\u00cf\\u017d\\u00cf\\u0081\\u00ce\\u00b1\",\"line\":{\"color\":\"#19d3f3\",\"dash\":\"solid\"},\"marker\":{\"symbol\":\"circle\"},\"mode\":\"lines\",\"name\":\"\\u00ce\\u009d\\u00ce\\u00bf\\u00cf\\u0192\\u00ce\\u00b7\\u00ce\\u00bb\\u00ce\\u00b5\\u00ce\\u00af\\u00ce\\u00b1 \\u00ce\\u00a4\\u00cf\\u017d\\u00cf\\u0081\\u00ce\\u00b1\",\"showlegend\":false,\"x\":[2017,2018,2019,2020,2021,2022,2023],\"xaxis\":\"x\",\"y\":[0,0,0,0,0,1,0],\"yaxis\":\"y\",\"type\":\"scattergl\"},{\"hovertemplate\":\"company_name=\\u00ce\\u009d\\u00ce\\u00bf\\u00cf\\u0192\\u00ce\\u00b7\\u00ce\\u00bb\\u00ce\\u00b5\\u00ce\\u00af\\u00ce\\u00b1 \\u00ce\\u00a4\\u00cf\\u017d\\u00cf\\u0081\\u00ce\\u00b1<br>variable=Neutral<br>year=%{x}<br>value=%{y}<extra></extra>\",\"legendgroup\":\"\\u00ce\\u009d\\u00ce\\u00bf\\u00cf\\u0192\\u00ce\\u00b7\\u00ce\\u00bb\\u00ce\\u00b5\\u00ce\\u00af\\u00ce\\u00b1 \\u00ce\\u00a4\\u00cf\\u017d\\u00cf\\u0081\\u00ce\\u00b1\",\"line\":{\"color\":\"#19d3f3\",\"dash\":\"solid\"},\"marker\":{\"symbol\":\"circle\"},\"mode\":\"lines\",\"name\":\"\\u00ce\\u009d\\u00ce\\u00bf\\u00cf\\u0192\\u00ce\\u00b7\\u00ce\\u00bb\\u00ce\\u00b5\\u00ce\\u00af\\u00ce\\u00b1 \\u00ce\\u00a4\\u00cf\\u017d\\u00cf\\u0081\\u00ce\\u00b1\",\"showlegend\":false,\"x\":[2017,2018,2019,2020,2021,2022,2023],\"xaxis\":\"x\",\"y\":[3,2,14,26,8,82,27],\"yaxis\":\"y\",\"type\":\"scattergl\"},{\"hovertemplate\":\"company_name=\\u00ce\\u00bb-automata<br>variable=Positive<br>year=%{x}<br>value=%{y}<extra></extra>\",\"legendgroup\":\"\\u00ce\\u00bb-automata\",\"line\":{\"color\":\"#FF6692\",\"dash\":\"solid\"},\"marker\":{\"symbol\":\"circle\"},\"mode\":\"lines\",\"name\":\"\\u00ce\\u00bb-automata\",\"showlegend\":true,\"x\":[2022,2023],\"xaxis\":\"x\",\"y\":[15,9],\"yaxis\":\"y\",\"type\":\"scattergl\"},{\"hovertemplate\":\"company_name=\\u00ce\\u00bb-automata<br>variable=Negative<br>year=%{x}<br>value=%{y}<extra></extra>\",\"legendgroup\":\"\\u00ce\\u00bb-automata\",\"line\":{\"color\":\"#FF6692\",\"dash\":\"solid\"},\"marker\":{\"symbol\":\"circle\"},\"mode\":\"lines\",\"name\":\"\\u00ce\\u00bb-automata\",\"showlegend\":false,\"x\":[2022,2023],\"xaxis\":\"x\",\"y\":[3,0],\"yaxis\":\"y\",\"type\":\"scattergl\"},{\"hovertemplate\":\"company_name=\\u00ce\\u00bb-automata<br>variable=Neutral<br>year=%{x}<br>value=%{y}<extra></extra>\",\"legendgroup\":\"\\u00ce\\u00bb-automata\",\"line\":{\"color\":\"#FF6692\",\"dash\":\"solid\"},\"marker\":{\"symbol\":\"circle\"},\"mode\":\"lines\",\"name\":\"\\u00ce\\u00bb-automata\",\"showlegend\":false,\"x\":[2022,2023],\"xaxis\":\"x\",\"y\":[4,5],\"yaxis\":\"y\",\"type\":\"scattergl\"}],                        {\"template\":{\"data\":{\"histogram2dcontour\":[{\"type\":\"histogram2dcontour\",\"colorbar\":{\"outlinewidth\":0,\"ticks\":\"\"},\"colorscale\":[[0.0,\"#0d0887\"],[0.1111111111111111,\"#46039f\"],[0.2222222222222222,\"#7201a8\"],[0.3333333333333333,\"#9c179e\"],[0.4444444444444444,\"#bd3786\"],[0.5555555555555556,\"#d8576b\"],[0.6666666666666666,\"#ed7953\"],[0.7777777777777778,\"#fb9f3a\"],[0.8888888888888888,\"#fdca26\"],[1.0,\"#f0f921\"]]}],\"choropleth\":[{\"type\":\"choropleth\",\"colorbar\":{\"outlinewidth\":0,\"ticks\":\"\"}}],\"histogram2d\":[{\"type\":\"histogram2d\",\"colorbar\":{\"outlinewidth\":0,\"ticks\":\"\"},\"colorscale\":[[0.0,\"#0d0887\"],[0.1111111111111111,\"#46039f\"],[0.2222222222222222,\"#7201a8\"],[0.3333333333333333,\"#9c179e\"],[0.4444444444444444,\"#bd3786\"],[0.5555555555555556,\"#d8576b\"],[0.6666666666666666,\"#ed7953\"],[0.7777777777777778,\"#fb9f3a\"],[0.8888888888888888,\"#fdca26\"],[1.0,\"#f0f921\"]]}],\"heatmap\":[{\"type\":\"heatmap\",\"colorbar\":{\"outlinewidth\":0,\"ticks\":\"\"},\"colorscale\":[[0.0,\"#0d0887\"],[0.1111111111111111,\"#46039f\"],[0.2222222222222222,\"#7201a8\"],[0.3333333333333333,\"#9c179e\"],[0.4444444444444444,\"#bd3786\"],[0.5555555555555556,\"#d8576b\"],[0.6666666666666666,\"#ed7953\"],[0.7777777777777778,\"#fb9f3a\"],[0.8888888888888888,\"#fdca26\"],[1.0,\"#f0f921\"]]}],\"heatmapgl\":[{\"type\":\"heatmapgl\",\"colorbar\":{\"outlinewidth\":0,\"ticks\":\"\"},\"colorscale\":[[0.0,\"#0d0887\"],[0.1111111111111111,\"#46039f\"],[0.2222222222222222,\"#7201a8\"],[0.3333333333333333,\"#9c179e\"],[0.4444444444444444,\"#bd3786\"],[0.5555555555555556,\"#d8576b\"],[0.6666666666666666,\"#ed7953\"],[0.7777777777777778,\"#fb9f3a\"],[0.8888888888888888,\"#fdca26\"],[1.0,\"#f0f921\"]]}],\"contourcarpet\":[{\"type\":\"contourcarpet\",\"colorbar\":{\"outlinewidth\":0,\"ticks\":\"\"}}],\"contour\":[{\"type\":\"contour\",\"colorbar\":{\"outlinewidth\":0,\"ticks\":\"\"},\"colorscale\":[[0.0,\"#0d0887\"],[0.1111111111111111,\"#46039f\"],[0.2222222222222222,\"#7201a8\"],[0.3333333333333333,\"#9c179e\"],[0.4444444444444444,\"#bd3786\"],[0.5555555555555556,\"#d8576b\"],[0.6666666666666666,\"#ed7953\"],[0.7777777777777778,\"#fb9f3a\"],[0.8888888888888888,\"#fdca26\"],[1.0,\"#f0f921\"]]}],\"surface\":[{\"type\":\"surface\",\"colorbar\":{\"outlinewidth\":0,\"ticks\":\"\"},\"colorscale\":[[0.0,\"#0d0887\"],[0.1111111111111111,\"#46039f\"],[0.2222222222222222,\"#7201a8\"],[0.3333333333333333,\"#9c179e\"],[0.4444444444444444,\"#bd3786\"],[0.5555555555555556,\"#d8576b\"],[0.6666666666666666,\"#ed7953\"],[0.7777777777777778,\"#fb9f3a\"],[0.8888888888888888,\"#fdca26\"],[1.0,\"#f0f921\"]]}],\"mesh3d\":[{\"type\":\"mesh3d\",\"colorbar\":{\"outlinewidth\":0,\"ticks\":\"\"}}],\"scatter\":[{\"fillpattern\":{\"fillmode\":\"overlay\",\"size\":10,\"solidity\":0.2},\"type\":\"scatter\"}],\"parcoords\":[{\"type\":\"parcoords\",\"line\":{\"colorbar\":{\"outlinewidth\":0,\"ticks\":\"\"}}}],\"scatterpolargl\":[{\"type\":\"scatterpolargl\",\"marker\":{\"colorbar\":{\"outlinewidth\":0,\"ticks\":\"\"}}}],\"bar\":[{\"error_x\":{\"color\":\"#2a3f5f\"},\"error_y\":{\"color\":\"#2a3f5f\"},\"marker\":{\"line\":{\"color\":\"#E5ECF6\",\"width\":0.5},\"pattern\":{\"fillmode\":\"overlay\",\"size\":10,\"solidity\":0.2}},\"type\":\"bar\"}],\"scattergeo\":[{\"type\":\"scattergeo\",\"marker\":{\"colorbar\":{\"outlinewidth\":0,\"ticks\":\"\"}}}],\"scatterpolar\":[{\"type\":\"scatterpolar\",\"marker\":{\"colorbar\":{\"outlinewidth\":0,\"ticks\":\"\"}}}],\"histogram\":[{\"marker\":{\"pattern\":{\"fillmode\":\"overlay\",\"size\":10,\"solidity\":0.2}},\"type\":\"histogram\"}],\"scattergl\":[{\"type\":\"scattergl\",\"marker\":{\"colorbar\":{\"outlinewidth\":0,\"ticks\":\"\"}}}],\"scatter3d\":[{\"type\":\"scatter3d\",\"line\":{\"colorbar\":{\"outlinewidth\":0,\"ticks\":\"\"}},\"marker\":{\"colorbar\":{\"outlinewidth\":0,\"ticks\":\"\"}}}],\"scattermapbox\":[{\"type\":\"scattermapbox\",\"marker\":{\"colorbar\":{\"outlinewidth\":0,\"ticks\":\"\"}}}],\"scatterternary\":[{\"type\":\"scatterternary\",\"marker\":{\"colorbar\":{\"outlinewidth\":0,\"ticks\":\"\"}}}],\"scattercarpet\":[{\"type\":\"scattercarpet\",\"marker\":{\"colorbar\":{\"outlinewidth\":0,\"ticks\":\"\"}}}],\"carpet\":[{\"aaxis\":{\"endlinecolor\":\"#2a3f5f\",\"gridcolor\":\"white\",\"linecolor\":\"white\",\"minorgridcolor\":\"white\",\"startlinecolor\":\"#2a3f5f\"},\"baxis\":{\"endlinecolor\":\"#2a3f5f\",\"gridcolor\":\"white\",\"linecolor\":\"white\",\"minorgridcolor\":\"white\",\"startlinecolor\":\"#2a3f5f\"},\"type\":\"carpet\"}],\"table\":[{\"cells\":{\"fill\":{\"color\":\"#EBF0F8\"},\"line\":{\"color\":\"white\"}},\"header\":{\"fill\":{\"color\":\"#C8D4E3\"},\"line\":{\"color\":\"white\"}},\"type\":\"table\"}],\"barpolar\":[{\"marker\":{\"line\":{\"color\":\"#E5ECF6\",\"width\":0.5},\"pattern\":{\"fillmode\":\"overlay\",\"size\":10,\"solidity\":0.2}},\"type\":\"barpolar\"}],\"pie\":[{\"automargin\":true,\"type\":\"pie\"}]},\"layout\":{\"autotypenumbers\":\"strict\",\"colorway\":[\"#636efa\",\"#EF553B\",\"#00cc96\",\"#ab63fa\",\"#FFA15A\",\"#19d3f3\",\"#FF6692\",\"#B6E880\",\"#FF97FF\",\"#FECB52\"],\"font\":{\"color\":\"#2a3f5f\"},\"hovermode\":\"closest\",\"hoverlabel\":{\"align\":\"left\"},\"paper_bgcolor\":\"white\",\"plot_bgcolor\":\"#E5ECF6\",\"polar\":{\"bgcolor\":\"#E5ECF6\",\"angularaxis\":{\"gridcolor\":\"white\",\"linecolor\":\"white\",\"ticks\":\"\"},\"radialaxis\":{\"gridcolor\":\"white\",\"linecolor\":\"white\",\"ticks\":\"\"}},\"ternary\":{\"bgcolor\":\"#E5ECF6\",\"aaxis\":{\"gridcolor\":\"white\",\"linecolor\":\"white\",\"ticks\":\"\"},\"baxis\":{\"gridcolor\":\"white\",\"linecolor\":\"white\",\"ticks\":\"\"},\"caxis\":{\"gridcolor\":\"white\",\"linecolor\":\"white\",\"ticks\":\"\"}},\"coloraxis\":{\"colorbar\":{\"outlinewidth\":0,\"ticks\":\"\"}},\"colorscale\":{\"sequential\":[[0.0,\"#0d0887\"],[0.1111111111111111,\"#46039f\"],[0.2222222222222222,\"#7201a8\"],[0.3333333333333333,\"#9c179e\"],[0.4444444444444444,\"#bd3786\"],[0.5555555555555556,\"#d8576b\"],[0.6666666666666666,\"#ed7953\"],[0.7777777777777778,\"#fb9f3a\"],[0.8888888888888888,\"#fdca26\"],[1.0,\"#f0f921\"]],\"sequentialminus\":[[0.0,\"#0d0887\"],[0.1111111111111111,\"#46039f\"],[0.2222222222222222,\"#7201a8\"],[0.3333333333333333,\"#9c179e\"],[0.4444444444444444,\"#bd3786\"],[0.5555555555555556,\"#d8576b\"],[0.6666666666666666,\"#ed7953\"],[0.7777777777777778,\"#fb9f3a\"],[0.8888888888888888,\"#fdca26\"],[1.0,\"#f0f921\"]],\"diverging\":[[0,\"#8e0152\"],[0.1,\"#c51b7d\"],[0.2,\"#de77ae\"],[0.3,\"#f1b6da\"],[0.4,\"#fde0ef\"],[0.5,\"#f7f7f7\"],[0.6,\"#e6f5d0\"],[0.7,\"#b8e186\"],[0.8,\"#7fbc41\"],[0.9,\"#4d9221\"],[1,\"#276419\"]]},\"xaxis\":{\"gridcolor\":\"white\",\"linecolor\":\"white\",\"ticks\":\"\",\"title\":{\"standoff\":15},\"zerolinecolor\":\"white\",\"automargin\":true,\"zerolinewidth\":2},\"yaxis\":{\"gridcolor\":\"white\",\"linecolor\":\"white\",\"ticks\":\"\",\"title\":{\"standoff\":15},\"zerolinecolor\":\"white\",\"automargin\":true,\"zerolinewidth\":2},\"scene\":{\"xaxis\":{\"backgroundcolor\":\"#E5ECF6\",\"gridcolor\":\"white\",\"linecolor\":\"white\",\"showbackground\":true,\"ticks\":\"\",\"zerolinecolor\":\"white\",\"gridwidth\":2},\"yaxis\":{\"backgroundcolor\":\"#E5ECF6\",\"gridcolor\":\"white\",\"linecolor\":\"white\",\"showbackground\":true,\"ticks\":\"\",\"zerolinecolor\":\"white\",\"gridwidth\":2},\"zaxis\":{\"backgroundcolor\":\"#E5ECF6\",\"gridcolor\":\"white\",\"linecolor\":\"white\",\"showbackground\":true,\"ticks\":\"\",\"zerolinecolor\":\"white\",\"gridwidth\":2}},\"shapedefaults\":{\"line\":{\"color\":\"#2a3f5f\"}},\"annotationdefaults\":{\"arrowcolor\":\"#2a3f5f\",\"arrowhead\":0,\"arrowwidth\":1},\"geo\":{\"bgcolor\":\"white\",\"landcolor\":\"#E5ECF6\",\"subunitcolor\":\"white\",\"showland\":true,\"showlakes\":true,\"lakecolor\":\"white\"},\"title\":{\"x\":0.05},\"mapbox\":{\"style\":\"light\"}}},\"xaxis\":{\"anchor\":\"y\",\"domain\":[0.0,1.0],\"title\":{\"text\":\"Year\"}},\"yaxis\":{\"anchor\":\"x\",\"domain\":[0.0,1.0],\"title\":{\"text\":\"Sentiment Count\"}},\"legend\":{\"title\":{\"text\":\"company_name\"},\"tracegroupgap\":0},\"margin\":{\"t\":60},\"title\":{\"text\":\"Sentiment Counts by Company and Year\"}},                        {\"responsive\": true}                    ).then(function(){\n",
       "                            \n",
       "var gd = document.getElementById('66d26934-3d30-489b-bf37-3592210d0df5');\n",
       "var x = new MutationObserver(function (mutations, observer) {{\n",
       "        var display = window.getComputedStyle(gd).display;\n",
       "        if (!display || display === 'none') {{\n",
       "            console.log([gd, 'removed!']);\n",
       "            Plotly.purge(gd);\n",
       "            observer.disconnect();\n",
       "        }}\n",
       "}});\n",
       "\n",
       "// Listen for the removal of the full notebook cells\n",
       "var notebookContainer = gd.closest('#notebook-container');\n",
       "if (notebookContainer) {{\n",
       "    x.observe(notebookContainer, {childList: true});\n",
       "}}\n",
       "\n",
       "// Listen for the clearing of the current output cell\n",
       "var outputEl = gd.closest('.output');\n",
       "if (outputEl) {{\n",
       "    x.observe(outputEl, {childList: true});\n",
       "}}\n",
       "\n",
       "                        })                };                });            </script>        </div>"
      ]
     },
     "metadata": {},
     "output_type": "display_data"
    }
   ],
   "source": [
    "import pandas as pd\n",
    "import plotly.express as px\n",
    "import plotly.graph_objects as go\n",
    "\n",
    "\n",
    "# Define a function to group sentiments by company id and year\n",
    "def group_sentiments_by_year(df):\n",
    "    # Convert the date column to a pandas datetime object\n",
    "    df['date_tweeted'] = pd.to_datetime(df['date_tweeted'])\n",
    "    \n",
    "    # Add a year column to the dataframe\n",
    "    df['year'] = df['date_tweeted'].dt.year\n",
    "    \n",
    "    # Group the data by company id, year, and sentiment\n",
    "    grouped_data = df.groupby(['company_name', 'year', 'sentiment'])['sentiment'].count()\n",
    "    \n",
    "    # Unstack the data to create a new dataframe with sentiment counts for each company id and year\n",
    "    unstacked_data = grouped_data.unstack(level=-1, fill_value=0)\n",
    "    \n",
    "    # Reset the index to make company id and year columns\n",
    "    unstacked_data = unstacked_data.reset_index()\n",
    "    \n",
    "    # Rename the columns for clarity\n",
    "    unstacked_data.columns.name = None\n",
    "    unstacked_data.columns = ['company_name', 'year', 'Negative', 'Neutral', 'Positive']\n",
    "    \n",
    "    # Return the unstacked data as a new dataframe\n",
    "    return unstacked_data\n",
    "\n",
    "# Group the sentiments by company id and year\n",
    "sentiment_counts_by_year = group_sentiments_by_year(df)\n",
    "\n",
    "# Create a line chart showing sentiment counts for each company over time\n",
    "fig = px.line(sentiment_counts_by_year, x=\"year\", y=[\"Positive\", \"Negative\", \"Neutral\"], color=\"company_name\")\n",
    "\n",
    "# Add chart title and axis labels\n",
    "fig.update_layout(title='Sentiment Counts by Company and Year', xaxis_title='Year', yaxis_title='Sentiment Count')\n",
    "\n",
    "# Display the chart\n",
    "fig.show()\n"
   ]
  },
  {
   "cell_type": "code",
   "execution_count": 30,
   "id": "f24c4006",
   "metadata": {},
   "outputs": [],
   "source": [
    "def plot_sentiment(company_name, year):\n",
    "    df_filtered = df[(df['company_name'] == company_name) & (df['date_tweeted'].dt.year == year)]\n",
    "    fig = px.line(df_filtered, x='date_tweeted', y='sentiment', title=f'Sentiment Changes for Company {company_name} in {year}')\n",
    "    fig.show()"
   ]
  },
  {
   "cell_type": "code",
   "execution_count": 31,
   "id": "f8110ba7",
   "metadata": {},
   "outputs": [
    {
     "data": {
      "application/vnd.jupyter.widget-view+json": {
       "model_id": "caa19053906049e6a8d0e2062bf7ed55",
       "version_major": 2,
       "version_minor": 0
      },
      "text/plain": [
       "interactive(children=(Dropdown(description='company_name', options=('i2d Technologies.', '100mentors', 'Acromo…"
      ]
     },
     "metadata": {},
     "output_type": "display_data"
    },
    {
     "data": {
      "text/plain": [
       "<function __main__.plot_sentiment(company_name, year)>"
      ]
     },
     "execution_count": 31,
     "metadata": {},
     "output_type": "execute_result"
    }
   ],
   "source": [
    "company_id_widget = widgets.Dropdown(options=df['company_name'].unique())\n",
    "year_widget = widgets.IntSlider(min=df['date_tweeted'].dt.year.min(), max=df['date_tweeted'].dt.year.max(), step=1, value=df['date_tweeted'].dt.year.max())\n",
    "\n",
    "interact(plot_sentiment, company_name=company_id_widget, year=year_widget)"
   ]
  },
  {
   "cell_type": "code",
   "execution_count": 32,
   "id": "48e88941",
   "metadata": {},
   "outputs": [
    {
     "data": {
      "application/vnd.jupyter.widget-view+json": {
       "model_id": "55e528b6162d40b0a962e752aa778105",
       "version_major": 2,
       "version_minor": 0
      },
      "text/plain": [
       "interactive(children=(Dropdown(description='Company Name:', options=('i2d Technologies.', '100mentors', 'Acrom…"
      ]
     },
     "metadata": {},
     "output_type": "display_data"
    },
    {
     "data": {
      "text/plain": [
       "<function __main__.update_pie_chart(company_name, year)>"
      ]
     },
     "execution_count": 32,
     "metadata": {},
     "output_type": "execute_result"
    }
   ],
   "source": [
    "# Convert the date column to datetime format\n",
    "df['date'] = pd.to_datetime(df['date_tweeted'])\n",
    "\n",
    "# Create a dropdown widget for company ID\n",
    "company_dropdown = widgets.Dropdown(options=list(df['company_name'].unique()), description='Company Name:')\n",
    "\n",
    "# Create a dropdown widget for year\n",
    "year_dropdown = widgets.Dropdown(options=list(df['date_tweeted'].dt.year.unique()), description='Year:')\n",
    "\n",
    "# Create a function to update the pie chart based on dropdown selection\n",
    "def update_pie_chart(company_name, year):\n",
    "    # Filter data based on dropdown selection\n",
    "    filtered_data = df[(df['company_name'] == company_name) & (df['date_tweeted'].dt.year == year)]\n",
    "    \n",
    "    # Group data by sentiment category and calculate the count\n",
    "    sentiment_count = filtered_data.groupby('sentiment')['sentiment'].count()\n",
    "    \n",
    "    # Create a pie chart\n",
    "    plt.pie(sentiment_count, labels=sentiment_count.index, autopct='%1.1f%%')\n",
    "    plt.title(f\"Sentiment distribution for {company_name} in {year}\")\n",
    "    plt.show()\n",
    "\n",
    "# Create an interactive widget for the pie chart\n",
    "widgets.interact(update_pie_chart, company_name=company_dropdown, year=year_dropdown)\n"
   ]
  },
  {
   "cell_type": "code",
   "execution_count": 33,
   "id": "e66705eb",
   "metadata": {},
   "outputs": [],
   "source": [
    "# Define function to create word cloud\n",
    "def create_wordcloud(df, sentiment):\n",
    "    text = ' '.join(df[df['sentiment'] == sentiment]['english_tweet'])\n",
    "    if text != '':\n",
    "        wordcloud = WordCloud(width=800, height=400, background_color='white', max_words=50, colormap='Set2').generate(text)\n",
    "        plt.figure(figsize=(10, 5))\n",
    "        plt.imshow(wordcloud, interpolation='bilinear')\n",
    "        plt.axis('off')\n",
    "        plt.show()\n",
    "    else:\n",
    "        print(f\"No words found for {sentiment} sentiment.\")"
   ]
  },
  {
   "cell_type": "code",
   "execution_count": 34,
   "id": "06e0cbc2",
   "metadata": {},
   "outputs": [],
   "source": [
    "# Define function to create dashboard\n",
    "def create_dashboard(df):\n",
    "    companies = df['company_name'].unique()\n",
    "    @interact(company=Dropdown(options=companies, value=companies[0], description='Company Name:'))\n",
    "    def plot_wordcloud(company):\n",
    "        company_df = df[df['company_name'] == company]\n",
    "        print(f\"Word cloud for Positive sentiment of company {company}\")\n",
    "        create_wordcloud(company_df, 'Positive')\n",
    "        print(f\"Word cloud for Negative sentiment of company {company}\")\n",
    "        create_wordcloud(company_df, 'Negative')\n",
    "        print(f\"Word cloud for Neutral sentiment of company {company}\")\n",
    "        create_wordcloud(company_df, 'Neutral')"
   ]
  },
  {
   "cell_type": "code",
   "execution_count": 35,
   "id": "2ba235ac",
   "metadata": {},
   "outputs": [
    {
     "data": {
      "application/vnd.jupyter.widget-view+json": {
       "model_id": "f630cbc21234440dbebf60b465009643",
       "version_major": 2,
       "version_minor": 0
      },
      "text/plain": [
       "interactive(children=(Dropdown(description='Company Name:', options=('i2d Technologies.', '100mentors', 'Acrom…"
      ]
     },
     "metadata": {},
     "output_type": "display_data"
    }
   ],
   "source": [
    "# Create dashboard\n",
    "create_dashboard(df)"
   ]
  },
  {
   "cell_type": "code",
   "execution_count": 56,
   "id": "06781671",
   "metadata": {},
   "outputs": [],
   "source": [
    "import ipywidgets as widgets\n",
    "\n",
    "# Create the dropdown widget\n",
    "company_dropdown = widgets.Dropdown(\n",
    "    options=df['company_name'].unique(),\n",
    "    description='Company Name:',\n",
    "    value=df['company_name'].unique()[0],\n",
    ")"
   ]
  },
  {
   "cell_type": "code",
   "execution_count": 57,
   "id": "ea00d1e1",
   "metadata": {},
   "outputs": [],
   "source": [
    "def generate_dashboard(company_name):\n",
    "    # Filter the dataset based on the selected company ID\n",
    "    filtered_df = df[df['company_name'] == company_name]\n",
    "    \n",
    "    # Calculate the total reach for each social media metric\n",
    "    total_retweets = filtered_df['retweet_count'].sum()\n",
    "    total_likes = filtered_df['likes_count'].sum()\n",
    "    total_replies = filtered_df['reply_count'].sum()\n",
    "    \n",
    "    # Create a bar chart to display the social media reach\n",
    "    fig = px.bar(\n",
    "        x=['Retweets', 'Likes', 'Replies'],\n",
    "        y=[total_retweets, total_likes, total_replies],\n",
    "        labels={'x': 'Social Media Metrics', 'y': 'Total Reach'},\n",
    "        title=f'Social Media Reach for Company Name {company_name}'\n",
    "    )\n",
    "    \n",
    "    # Show the chart\n",
    "    fig.show()"
   ]
  },
  {
   "cell_type": "code",
   "execution_count": 64,
   "id": "63098ce1",
   "metadata": {},
   "outputs": [
    {
     "data": {
      "application/vnd.jupyter.widget-view+json": {
       "model_id": "cb2360ac3b094716b8b1b212a5925445",
       "version_major": 2,
       "version_minor": 0
      },
      "text/plain": [
       "Dropdown(description='Company Name:', index=20, options=('i2d Technologies.', '100mentors', 'Acromove Inc.', '…"
      ]
     },
     "metadata": {},
     "output_type": "display_data"
    },
    {
     "data": {
      "application/vnd.jupyter.widget-view+json": {
       "model_id": "9f30de6450f74debb383391081d45e50",
       "version_major": 2,
       "version_minor": 0
      },
      "text/plain": [
       "Output()"
      ]
     },
     "metadata": {},
     "output_type": "display_data"
    },
    {
     "data": {
      "application/vnd.plotly.v1+json": {
       "config": {
        "plotlyServerURL": "https://plot.ly"
       },
       "data": [
        {
         "alignmentgroup": "True",
         "hovertemplate": "Social Media Metrics=%{x}<br>Total Reach=%{y}<extra></extra>",
         "legendgroup": "",
         "marker": {
          "color": "#636efa",
          "pattern": {
           "shape": ""
          }
         },
         "name": "",
         "offsetgroup": "",
         "orientation": "v",
         "showlegend": false,
         "textposition": "auto",
         "type": "bar",
         "x": [
          "Retweets",
          "Likes",
          "Replies"
         ],
         "xaxis": "x",
         "y": [
          12,
          32,
          0
         ],
         "yaxis": "y"
        }
       ],
       "layout": {
        "barmode": "relative",
        "legend": {
         "tracegroupgap": 0
        },
        "template": {
         "data": {
          "bar": [
           {
            "error_x": {
             "color": "#2a3f5f"
            },
            "error_y": {
             "color": "#2a3f5f"
            },
            "marker": {
             "line": {
              "color": "#E5ECF6",
              "width": 0.5
             },
             "pattern": {
              "fillmode": "overlay",
              "size": 10,
              "solidity": 0.2
             }
            },
            "type": "bar"
           }
          ],
          "barpolar": [
           {
            "marker": {
             "line": {
              "color": "#E5ECF6",
              "width": 0.5
             },
             "pattern": {
              "fillmode": "overlay",
              "size": 10,
              "solidity": 0.2
             }
            },
            "type": "barpolar"
           }
          ],
          "carpet": [
           {
            "aaxis": {
             "endlinecolor": "#2a3f5f",
             "gridcolor": "white",
             "linecolor": "white",
             "minorgridcolor": "white",
             "startlinecolor": "#2a3f5f"
            },
            "baxis": {
             "endlinecolor": "#2a3f5f",
             "gridcolor": "white",
             "linecolor": "white",
             "minorgridcolor": "white",
             "startlinecolor": "#2a3f5f"
            },
            "type": "carpet"
           }
          ],
          "choropleth": [
           {
            "colorbar": {
             "outlinewidth": 0,
             "ticks": ""
            },
            "type": "choropleth"
           }
          ],
          "contour": [
           {
            "colorbar": {
             "outlinewidth": 0,
             "ticks": ""
            },
            "colorscale": [
             [
              0,
              "#0d0887"
             ],
             [
              0.1111111111111111,
              "#46039f"
             ],
             [
              0.2222222222222222,
              "#7201a8"
             ],
             [
              0.3333333333333333,
              "#9c179e"
             ],
             [
              0.4444444444444444,
              "#bd3786"
             ],
             [
              0.5555555555555556,
              "#d8576b"
             ],
             [
              0.6666666666666666,
              "#ed7953"
             ],
             [
              0.7777777777777778,
              "#fb9f3a"
             ],
             [
              0.8888888888888888,
              "#fdca26"
             ],
             [
              1,
              "#f0f921"
             ]
            ],
            "type": "contour"
           }
          ],
          "contourcarpet": [
           {
            "colorbar": {
             "outlinewidth": 0,
             "ticks": ""
            },
            "type": "contourcarpet"
           }
          ],
          "heatmap": [
           {
            "colorbar": {
             "outlinewidth": 0,
             "ticks": ""
            },
            "colorscale": [
             [
              0,
              "#0d0887"
             ],
             [
              0.1111111111111111,
              "#46039f"
             ],
             [
              0.2222222222222222,
              "#7201a8"
             ],
             [
              0.3333333333333333,
              "#9c179e"
             ],
             [
              0.4444444444444444,
              "#bd3786"
             ],
             [
              0.5555555555555556,
              "#d8576b"
             ],
             [
              0.6666666666666666,
              "#ed7953"
             ],
             [
              0.7777777777777778,
              "#fb9f3a"
             ],
             [
              0.8888888888888888,
              "#fdca26"
             ],
             [
              1,
              "#f0f921"
             ]
            ],
            "type": "heatmap"
           }
          ],
          "heatmapgl": [
           {
            "colorbar": {
             "outlinewidth": 0,
             "ticks": ""
            },
            "colorscale": [
             [
              0,
              "#0d0887"
             ],
             [
              0.1111111111111111,
              "#46039f"
             ],
             [
              0.2222222222222222,
              "#7201a8"
             ],
             [
              0.3333333333333333,
              "#9c179e"
             ],
             [
              0.4444444444444444,
              "#bd3786"
             ],
             [
              0.5555555555555556,
              "#d8576b"
             ],
             [
              0.6666666666666666,
              "#ed7953"
             ],
             [
              0.7777777777777778,
              "#fb9f3a"
             ],
             [
              0.8888888888888888,
              "#fdca26"
             ],
             [
              1,
              "#f0f921"
             ]
            ],
            "type": "heatmapgl"
           }
          ],
          "histogram": [
           {
            "marker": {
             "pattern": {
              "fillmode": "overlay",
              "size": 10,
              "solidity": 0.2
             }
            },
            "type": "histogram"
           }
          ],
          "histogram2d": [
           {
            "colorbar": {
             "outlinewidth": 0,
             "ticks": ""
            },
            "colorscale": [
             [
              0,
              "#0d0887"
             ],
             [
              0.1111111111111111,
              "#46039f"
             ],
             [
              0.2222222222222222,
              "#7201a8"
             ],
             [
              0.3333333333333333,
              "#9c179e"
             ],
             [
              0.4444444444444444,
              "#bd3786"
             ],
             [
              0.5555555555555556,
              "#d8576b"
             ],
             [
              0.6666666666666666,
              "#ed7953"
             ],
             [
              0.7777777777777778,
              "#fb9f3a"
             ],
             [
              0.8888888888888888,
              "#fdca26"
             ],
             [
              1,
              "#f0f921"
             ]
            ],
            "type": "histogram2d"
           }
          ],
          "histogram2dcontour": [
           {
            "colorbar": {
             "outlinewidth": 0,
             "ticks": ""
            },
            "colorscale": [
             [
              0,
              "#0d0887"
             ],
             [
              0.1111111111111111,
              "#46039f"
             ],
             [
              0.2222222222222222,
              "#7201a8"
             ],
             [
              0.3333333333333333,
              "#9c179e"
             ],
             [
              0.4444444444444444,
              "#bd3786"
             ],
             [
              0.5555555555555556,
              "#d8576b"
             ],
             [
              0.6666666666666666,
              "#ed7953"
             ],
             [
              0.7777777777777778,
              "#fb9f3a"
             ],
             [
              0.8888888888888888,
              "#fdca26"
             ],
             [
              1,
              "#f0f921"
             ]
            ],
            "type": "histogram2dcontour"
           }
          ],
          "mesh3d": [
           {
            "colorbar": {
             "outlinewidth": 0,
             "ticks": ""
            },
            "type": "mesh3d"
           }
          ],
          "parcoords": [
           {
            "line": {
             "colorbar": {
              "outlinewidth": 0,
              "ticks": ""
             }
            },
            "type": "parcoords"
           }
          ],
          "pie": [
           {
            "automargin": true,
            "type": "pie"
           }
          ],
          "scatter": [
           {
            "fillpattern": {
             "fillmode": "overlay",
             "size": 10,
             "solidity": 0.2
            },
            "type": "scatter"
           }
          ],
          "scatter3d": [
           {
            "line": {
             "colorbar": {
              "outlinewidth": 0,
              "ticks": ""
             }
            },
            "marker": {
             "colorbar": {
              "outlinewidth": 0,
              "ticks": ""
             }
            },
            "type": "scatter3d"
           }
          ],
          "scattercarpet": [
           {
            "marker": {
             "colorbar": {
              "outlinewidth": 0,
              "ticks": ""
             }
            },
            "type": "scattercarpet"
           }
          ],
          "scattergeo": [
           {
            "marker": {
             "colorbar": {
              "outlinewidth": 0,
              "ticks": ""
             }
            },
            "type": "scattergeo"
           }
          ],
          "scattergl": [
           {
            "marker": {
             "colorbar": {
              "outlinewidth": 0,
              "ticks": ""
             }
            },
            "type": "scattergl"
           }
          ],
          "scattermapbox": [
           {
            "marker": {
             "colorbar": {
              "outlinewidth": 0,
              "ticks": ""
             }
            },
            "type": "scattermapbox"
           }
          ],
          "scatterpolar": [
           {
            "marker": {
             "colorbar": {
              "outlinewidth": 0,
              "ticks": ""
             }
            },
            "type": "scatterpolar"
           }
          ],
          "scatterpolargl": [
           {
            "marker": {
             "colorbar": {
              "outlinewidth": 0,
              "ticks": ""
             }
            },
            "type": "scatterpolargl"
           }
          ],
          "scatterternary": [
           {
            "marker": {
             "colorbar": {
              "outlinewidth": 0,
              "ticks": ""
             }
            },
            "type": "scatterternary"
           }
          ],
          "surface": [
           {
            "colorbar": {
             "outlinewidth": 0,
             "ticks": ""
            },
            "colorscale": [
             [
              0,
              "#0d0887"
             ],
             [
              0.1111111111111111,
              "#46039f"
             ],
             [
              0.2222222222222222,
              "#7201a8"
             ],
             [
              0.3333333333333333,
              "#9c179e"
             ],
             [
              0.4444444444444444,
              "#bd3786"
             ],
             [
              0.5555555555555556,
              "#d8576b"
             ],
             [
              0.6666666666666666,
              "#ed7953"
             ],
             [
              0.7777777777777778,
              "#fb9f3a"
             ],
             [
              0.8888888888888888,
              "#fdca26"
             ],
             [
              1,
              "#f0f921"
             ]
            ],
            "type": "surface"
           }
          ],
          "table": [
           {
            "cells": {
             "fill": {
              "color": "#EBF0F8"
             },
             "line": {
              "color": "white"
             }
            },
            "header": {
             "fill": {
              "color": "#C8D4E3"
             },
             "line": {
              "color": "white"
             }
            },
            "type": "table"
           }
          ]
         },
         "layout": {
          "annotationdefaults": {
           "arrowcolor": "#2a3f5f",
           "arrowhead": 0,
           "arrowwidth": 1
          },
          "autotypenumbers": "strict",
          "coloraxis": {
           "colorbar": {
            "outlinewidth": 0,
            "ticks": ""
           }
          },
          "colorscale": {
           "diverging": [
            [
             0,
             "#8e0152"
            ],
            [
             0.1,
             "#c51b7d"
            ],
            [
             0.2,
             "#de77ae"
            ],
            [
             0.3,
             "#f1b6da"
            ],
            [
             0.4,
             "#fde0ef"
            ],
            [
             0.5,
             "#f7f7f7"
            ],
            [
             0.6,
             "#e6f5d0"
            ],
            [
             0.7,
             "#b8e186"
            ],
            [
             0.8,
             "#7fbc41"
            ],
            [
             0.9,
             "#4d9221"
            ],
            [
             1,
             "#276419"
            ]
           ],
           "sequential": [
            [
             0,
             "#0d0887"
            ],
            [
             0.1111111111111111,
             "#46039f"
            ],
            [
             0.2222222222222222,
             "#7201a8"
            ],
            [
             0.3333333333333333,
             "#9c179e"
            ],
            [
             0.4444444444444444,
             "#bd3786"
            ],
            [
             0.5555555555555556,
             "#d8576b"
            ],
            [
             0.6666666666666666,
             "#ed7953"
            ],
            [
             0.7777777777777778,
             "#fb9f3a"
            ],
            [
             0.8888888888888888,
             "#fdca26"
            ],
            [
             1,
             "#f0f921"
            ]
           ],
           "sequentialminus": [
            [
             0,
             "#0d0887"
            ],
            [
             0.1111111111111111,
             "#46039f"
            ],
            [
             0.2222222222222222,
             "#7201a8"
            ],
            [
             0.3333333333333333,
             "#9c179e"
            ],
            [
             0.4444444444444444,
             "#bd3786"
            ],
            [
             0.5555555555555556,
             "#d8576b"
            ],
            [
             0.6666666666666666,
             "#ed7953"
            ],
            [
             0.7777777777777778,
             "#fb9f3a"
            ],
            [
             0.8888888888888888,
             "#fdca26"
            ],
            [
             1,
             "#f0f921"
            ]
           ]
          },
          "colorway": [
           "#636efa",
           "#EF553B",
           "#00cc96",
           "#ab63fa",
           "#FFA15A",
           "#19d3f3",
           "#FF6692",
           "#B6E880",
           "#FF97FF",
           "#FECB52"
          ],
          "font": {
           "color": "#2a3f5f"
          },
          "geo": {
           "bgcolor": "white",
           "lakecolor": "white",
           "landcolor": "#E5ECF6",
           "showlakes": true,
           "showland": true,
           "subunitcolor": "white"
          },
          "hoverlabel": {
           "align": "left"
          },
          "hovermode": "closest",
          "mapbox": {
           "style": "light"
          },
          "paper_bgcolor": "white",
          "plot_bgcolor": "#E5ECF6",
          "polar": {
           "angularaxis": {
            "gridcolor": "white",
            "linecolor": "white",
            "ticks": ""
           },
           "bgcolor": "#E5ECF6",
           "radialaxis": {
            "gridcolor": "white",
            "linecolor": "white",
            "ticks": ""
           }
          },
          "scene": {
           "xaxis": {
            "backgroundcolor": "#E5ECF6",
            "gridcolor": "white",
            "gridwidth": 2,
            "linecolor": "white",
            "showbackground": true,
            "ticks": "",
            "zerolinecolor": "white"
           },
           "yaxis": {
            "backgroundcolor": "#E5ECF6",
            "gridcolor": "white",
            "gridwidth": 2,
            "linecolor": "white",
            "showbackground": true,
            "ticks": "",
            "zerolinecolor": "white"
           },
           "zaxis": {
            "backgroundcolor": "#E5ECF6",
            "gridcolor": "white",
            "gridwidth": 2,
            "linecolor": "white",
            "showbackground": true,
            "ticks": "",
            "zerolinecolor": "white"
           }
          },
          "shapedefaults": {
           "line": {
            "color": "#2a3f5f"
           }
          },
          "ternary": {
           "aaxis": {
            "gridcolor": "white",
            "linecolor": "white",
            "ticks": ""
           },
           "baxis": {
            "gridcolor": "white",
            "linecolor": "white",
            "ticks": ""
           },
           "bgcolor": "#E5ECF6",
           "caxis": {
            "gridcolor": "white",
            "linecolor": "white",
            "ticks": ""
           }
          },
          "title": {
           "x": 0.05
          },
          "xaxis": {
           "automargin": true,
           "gridcolor": "white",
           "linecolor": "white",
           "ticks": "",
           "title": {
            "standoff": 15
           },
           "zerolinecolor": "white",
           "zerolinewidth": 2
          },
          "yaxis": {
           "automargin": true,
           "gridcolor": "white",
           "linecolor": "white",
           "ticks": "",
           "title": {
            "standoff": 15
           },
           "zerolinecolor": "white",
           "zerolinewidth": 2
          }
         }
        },
        "title": {
         "text": "Social Media Reach for Company Name Baggagement"
        },
        "xaxis": {
         "anchor": "y",
         "domain": [
          0,
          1
         ],
         "title": {
          "text": "Social Media Metrics"
         }
        },
        "yaxis": {
         "anchor": "x",
         "domain": [
          0,
          1
         ],
         "title": {
          "text": "Total Reach"
         }
        }
       }
      },
      "text/html": [
       "<div>                            <div id=\"05853cb1-a934-4f01-8425-311a0ec5ae81\" class=\"plotly-graph-div\" style=\"height:525px; width:100%;\"></div>            <script type=\"text/javascript\">                require([\"plotly\"], function(Plotly) {                    window.PLOTLYENV=window.PLOTLYENV || {};                                    if (document.getElementById(\"05853cb1-a934-4f01-8425-311a0ec5ae81\")) {                    Plotly.newPlot(                        \"05853cb1-a934-4f01-8425-311a0ec5ae81\",                        [{\"alignmentgroup\":\"True\",\"hovertemplate\":\"Social Media Metrics=%{x}<br>Total Reach=%{y}<extra></extra>\",\"legendgroup\":\"\",\"marker\":{\"color\":\"#636efa\",\"pattern\":{\"shape\":\"\"}},\"name\":\"\",\"offsetgroup\":\"\",\"orientation\":\"v\",\"showlegend\":false,\"textposition\":\"auto\",\"x\":[\"Retweets\",\"Likes\",\"Replies\"],\"xaxis\":\"x\",\"y\":[12,32,0],\"yaxis\":\"y\",\"type\":\"bar\"}],                        {\"template\":{\"data\":{\"histogram2dcontour\":[{\"type\":\"histogram2dcontour\",\"colorbar\":{\"outlinewidth\":0,\"ticks\":\"\"},\"colorscale\":[[0.0,\"#0d0887\"],[0.1111111111111111,\"#46039f\"],[0.2222222222222222,\"#7201a8\"],[0.3333333333333333,\"#9c179e\"],[0.4444444444444444,\"#bd3786\"],[0.5555555555555556,\"#d8576b\"],[0.6666666666666666,\"#ed7953\"],[0.7777777777777778,\"#fb9f3a\"],[0.8888888888888888,\"#fdca26\"],[1.0,\"#f0f921\"]]}],\"choropleth\":[{\"type\":\"choropleth\",\"colorbar\":{\"outlinewidth\":0,\"ticks\":\"\"}}],\"histogram2d\":[{\"type\":\"histogram2d\",\"colorbar\":{\"outlinewidth\":0,\"ticks\":\"\"},\"colorscale\":[[0.0,\"#0d0887\"],[0.1111111111111111,\"#46039f\"],[0.2222222222222222,\"#7201a8\"],[0.3333333333333333,\"#9c179e\"],[0.4444444444444444,\"#bd3786\"],[0.5555555555555556,\"#d8576b\"],[0.6666666666666666,\"#ed7953\"],[0.7777777777777778,\"#fb9f3a\"],[0.8888888888888888,\"#fdca26\"],[1.0,\"#f0f921\"]]}],\"heatmap\":[{\"type\":\"heatmap\",\"colorbar\":{\"outlinewidth\":0,\"ticks\":\"\"},\"colorscale\":[[0.0,\"#0d0887\"],[0.1111111111111111,\"#46039f\"],[0.2222222222222222,\"#7201a8\"],[0.3333333333333333,\"#9c179e\"],[0.4444444444444444,\"#bd3786\"],[0.5555555555555556,\"#d8576b\"],[0.6666666666666666,\"#ed7953\"],[0.7777777777777778,\"#fb9f3a\"],[0.8888888888888888,\"#fdca26\"],[1.0,\"#f0f921\"]]}],\"heatmapgl\":[{\"type\":\"heatmapgl\",\"colorbar\":{\"outlinewidth\":0,\"ticks\":\"\"},\"colorscale\":[[0.0,\"#0d0887\"],[0.1111111111111111,\"#46039f\"],[0.2222222222222222,\"#7201a8\"],[0.3333333333333333,\"#9c179e\"],[0.4444444444444444,\"#bd3786\"],[0.5555555555555556,\"#d8576b\"],[0.6666666666666666,\"#ed7953\"],[0.7777777777777778,\"#fb9f3a\"],[0.8888888888888888,\"#fdca26\"],[1.0,\"#f0f921\"]]}],\"contourcarpet\":[{\"type\":\"contourcarpet\",\"colorbar\":{\"outlinewidth\":0,\"ticks\":\"\"}}],\"contour\":[{\"type\":\"contour\",\"colorbar\":{\"outlinewidth\":0,\"ticks\":\"\"},\"colorscale\":[[0.0,\"#0d0887\"],[0.1111111111111111,\"#46039f\"],[0.2222222222222222,\"#7201a8\"],[0.3333333333333333,\"#9c179e\"],[0.4444444444444444,\"#bd3786\"],[0.5555555555555556,\"#d8576b\"],[0.6666666666666666,\"#ed7953\"],[0.7777777777777778,\"#fb9f3a\"],[0.8888888888888888,\"#fdca26\"],[1.0,\"#f0f921\"]]}],\"surface\":[{\"type\":\"surface\",\"colorbar\":{\"outlinewidth\":0,\"ticks\":\"\"},\"colorscale\":[[0.0,\"#0d0887\"],[0.1111111111111111,\"#46039f\"],[0.2222222222222222,\"#7201a8\"],[0.3333333333333333,\"#9c179e\"],[0.4444444444444444,\"#bd3786\"],[0.5555555555555556,\"#d8576b\"],[0.6666666666666666,\"#ed7953\"],[0.7777777777777778,\"#fb9f3a\"],[0.8888888888888888,\"#fdca26\"],[1.0,\"#f0f921\"]]}],\"mesh3d\":[{\"type\":\"mesh3d\",\"colorbar\":{\"outlinewidth\":0,\"ticks\":\"\"}}],\"scatter\":[{\"fillpattern\":{\"fillmode\":\"overlay\",\"size\":10,\"solidity\":0.2},\"type\":\"scatter\"}],\"parcoords\":[{\"type\":\"parcoords\",\"line\":{\"colorbar\":{\"outlinewidth\":0,\"ticks\":\"\"}}}],\"scatterpolargl\":[{\"type\":\"scatterpolargl\",\"marker\":{\"colorbar\":{\"outlinewidth\":0,\"ticks\":\"\"}}}],\"bar\":[{\"error_x\":{\"color\":\"#2a3f5f\"},\"error_y\":{\"color\":\"#2a3f5f\"},\"marker\":{\"line\":{\"color\":\"#E5ECF6\",\"width\":0.5},\"pattern\":{\"fillmode\":\"overlay\",\"size\":10,\"solidity\":0.2}},\"type\":\"bar\"}],\"scattergeo\":[{\"type\":\"scattergeo\",\"marker\":{\"colorbar\":{\"outlinewidth\":0,\"ticks\":\"\"}}}],\"scatterpolar\":[{\"type\":\"scatterpolar\",\"marker\":{\"colorbar\":{\"outlinewidth\":0,\"ticks\":\"\"}}}],\"histogram\":[{\"marker\":{\"pattern\":{\"fillmode\":\"overlay\",\"size\":10,\"solidity\":0.2}},\"type\":\"histogram\"}],\"scattergl\":[{\"type\":\"scattergl\",\"marker\":{\"colorbar\":{\"outlinewidth\":0,\"ticks\":\"\"}}}],\"scatter3d\":[{\"type\":\"scatter3d\",\"line\":{\"colorbar\":{\"outlinewidth\":0,\"ticks\":\"\"}},\"marker\":{\"colorbar\":{\"outlinewidth\":0,\"ticks\":\"\"}}}],\"scattermapbox\":[{\"type\":\"scattermapbox\",\"marker\":{\"colorbar\":{\"outlinewidth\":0,\"ticks\":\"\"}}}],\"scatterternary\":[{\"type\":\"scatterternary\",\"marker\":{\"colorbar\":{\"outlinewidth\":0,\"ticks\":\"\"}}}],\"scattercarpet\":[{\"type\":\"scattercarpet\",\"marker\":{\"colorbar\":{\"outlinewidth\":0,\"ticks\":\"\"}}}],\"carpet\":[{\"aaxis\":{\"endlinecolor\":\"#2a3f5f\",\"gridcolor\":\"white\",\"linecolor\":\"white\",\"minorgridcolor\":\"white\",\"startlinecolor\":\"#2a3f5f\"},\"baxis\":{\"endlinecolor\":\"#2a3f5f\",\"gridcolor\":\"white\",\"linecolor\":\"white\",\"minorgridcolor\":\"white\",\"startlinecolor\":\"#2a3f5f\"},\"type\":\"carpet\"}],\"table\":[{\"cells\":{\"fill\":{\"color\":\"#EBF0F8\"},\"line\":{\"color\":\"white\"}},\"header\":{\"fill\":{\"color\":\"#C8D4E3\"},\"line\":{\"color\":\"white\"}},\"type\":\"table\"}],\"barpolar\":[{\"marker\":{\"line\":{\"color\":\"#E5ECF6\",\"width\":0.5},\"pattern\":{\"fillmode\":\"overlay\",\"size\":10,\"solidity\":0.2}},\"type\":\"barpolar\"}],\"pie\":[{\"automargin\":true,\"type\":\"pie\"}]},\"layout\":{\"autotypenumbers\":\"strict\",\"colorway\":[\"#636efa\",\"#EF553B\",\"#00cc96\",\"#ab63fa\",\"#FFA15A\",\"#19d3f3\",\"#FF6692\",\"#B6E880\",\"#FF97FF\",\"#FECB52\"],\"font\":{\"color\":\"#2a3f5f\"},\"hovermode\":\"closest\",\"hoverlabel\":{\"align\":\"left\"},\"paper_bgcolor\":\"white\",\"plot_bgcolor\":\"#E5ECF6\",\"polar\":{\"bgcolor\":\"#E5ECF6\",\"angularaxis\":{\"gridcolor\":\"white\",\"linecolor\":\"white\",\"ticks\":\"\"},\"radialaxis\":{\"gridcolor\":\"white\",\"linecolor\":\"white\",\"ticks\":\"\"}},\"ternary\":{\"bgcolor\":\"#E5ECF6\",\"aaxis\":{\"gridcolor\":\"white\",\"linecolor\":\"white\",\"ticks\":\"\"},\"baxis\":{\"gridcolor\":\"white\",\"linecolor\":\"white\",\"ticks\":\"\"},\"caxis\":{\"gridcolor\":\"white\",\"linecolor\":\"white\",\"ticks\":\"\"}},\"coloraxis\":{\"colorbar\":{\"outlinewidth\":0,\"ticks\":\"\"}},\"colorscale\":{\"sequential\":[[0.0,\"#0d0887\"],[0.1111111111111111,\"#46039f\"],[0.2222222222222222,\"#7201a8\"],[0.3333333333333333,\"#9c179e\"],[0.4444444444444444,\"#bd3786\"],[0.5555555555555556,\"#d8576b\"],[0.6666666666666666,\"#ed7953\"],[0.7777777777777778,\"#fb9f3a\"],[0.8888888888888888,\"#fdca26\"],[1.0,\"#f0f921\"]],\"sequentialminus\":[[0.0,\"#0d0887\"],[0.1111111111111111,\"#46039f\"],[0.2222222222222222,\"#7201a8\"],[0.3333333333333333,\"#9c179e\"],[0.4444444444444444,\"#bd3786\"],[0.5555555555555556,\"#d8576b\"],[0.6666666666666666,\"#ed7953\"],[0.7777777777777778,\"#fb9f3a\"],[0.8888888888888888,\"#fdca26\"],[1.0,\"#f0f921\"]],\"diverging\":[[0,\"#8e0152\"],[0.1,\"#c51b7d\"],[0.2,\"#de77ae\"],[0.3,\"#f1b6da\"],[0.4,\"#fde0ef\"],[0.5,\"#f7f7f7\"],[0.6,\"#e6f5d0\"],[0.7,\"#b8e186\"],[0.8,\"#7fbc41\"],[0.9,\"#4d9221\"],[1,\"#276419\"]]},\"xaxis\":{\"gridcolor\":\"white\",\"linecolor\":\"white\",\"ticks\":\"\",\"title\":{\"standoff\":15},\"zerolinecolor\":\"white\",\"automargin\":true,\"zerolinewidth\":2},\"yaxis\":{\"gridcolor\":\"white\",\"linecolor\":\"white\",\"ticks\":\"\",\"title\":{\"standoff\":15},\"zerolinecolor\":\"white\",\"automargin\":true,\"zerolinewidth\":2},\"scene\":{\"xaxis\":{\"backgroundcolor\":\"#E5ECF6\",\"gridcolor\":\"white\",\"linecolor\":\"white\",\"showbackground\":true,\"ticks\":\"\",\"zerolinecolor\":\"white\",\"gridwidth\":2},\"yaxis\":{\"backgroundcolor\":\"#E5ECF6\",\"gridcolor\":\"white\",\"linecolor\":\"white\",\"showbackground\":true,\"ticks\":\"\",\"zerolinecolor\":\"white\",\"gridwidth\":2},\"zaxis\":{\"backgroundcolor\":\"#E5ECF6\",\"gridcolor\":\"white\",\"linecolor\":\"white\",\"showbackground\":true,\"ticks\":\"\",\"zerolinecolor\":\"white\",\"gridwidth\":2}},\"shapedefaults\":{\"line\":{\"color\":\"#2a3f5f\"}},\"annotationdefaults\":{\"arrowcolor\":\"#2a3f5f\",\"arrowhead\":0,\"arrowwidth\":1},\"geo\":{\"bgcolor\":\"white\",\"landcolor\":\"#E5ECF6\",\"subunitcolor\":\"white\",\"showland\":true,\"showlakes\":true,\"lakecolor\":\"white\"},\"title\":{\"x\":0.05},\"mapbox\":{\"style\":\"light\"}}},\"xaxis\":{\"anchor\":\"y\",\"domain\":[0.0,1.0],\"title\":{\"text\":\"Social Media Metrics\"}},\"yaxis\":{\"anchor\":\"x\",\"domain\":[0.0,1.0],\"title\":{\"text\":\"Total Reach\"}},\"legend\":{\"tracegroupgap\":0},\"title\":{\"text\":\"Social Media Reach for Company Name Baggagement\"},\"barmode\":\"relative\"},                        {\"responsive\": true}                    ).then(function(){\n",
       "                            \n",
       "var gd = document.getElementById('05853cb1-a934-4f01-8425-311a0ec5ae81');\n",
       "var x = new MutationObserver(function (mutations, observer) {{\n",
       "        var display = window.getComputedStyle(gd).display;\n",
       "        if (!display || display === 'none') {{\n",
       "            console.log([gd, 'removed!']);\n",
       "            Plotly.purge(gd);\n",
       "            observer.disconnect();\n",
       "        }}\n",
       "}});\n",
       "\n",
       "// Listen for the removal of the full notebook cells\n",
       "var notebookContainer = gd.closest('#notebook-container');\n",
       "if (notebookContainer) {{\n",
       "    x.observe(notebookContainer, {childList: true});\n",
       "}}\n",
       "\n",
       "// Listen for the clearing of the current output cell\n",
       "var outputEl = gd.closest('.output');\n",
       "if (outputEl) {{\n",
       "    x.observe(outputEl, {childList: true});\n",
       "}}\n",
       "\n",
       "                        })                };                });            </script>        </div>"
      ]
     },
     "metadata": {},
     "output_type": "display_data"
    }
   ],
   "source": [
    "output = widgets.Output()\n",
    "\n",
    "# Define a function to handle the dropdown change event\n",
    "def on_dropdown_change(change):\n",
    "    with output:\n",
    "        output.clear_output()\n",
    "        generate_dashboard(change.new)\n",
    "\n",
    "# Attach the on_dropdown_change function to the dropdown widget\n",
    "company_dropdown.observe(on_dropdown_change, names='value')\n",
    "\n",
    "# Display the dropdown widget and the output widget\n",
    "display(company_dropdown)\n",
    "display(output)\n",
    "\n",
    "# Generate the initial dashboard\n",
    "generate_dashboard(company_dropdown.value)"
   ]
  },
  {
   "cell_type": "code",
   "execution_count": 65,
   "id": "ceca36b4",
   "metadata": {},
   "outputs": [
    {
     "data": {
      "application/vnd.jupyter.widget-view+json": {
       "model_id": "d782dfa0d2d44cb29cd54c68a7135efb",
       "version_major": 2,
       "version_minor": 0
      },
      "text/plain": [
       "interactive(children=(Dropdown(description='Company Name', options=('i2d Technologies.', '100mentors', 'Acromo…"
      ]
     },
     "metadata": {},
     "output_type": "display_data"
    }
   ],
   "source": [
    "def create_dashboard_retweet():\n",
    "    # Group the data by company ID and sentiment\n",
    "    grouped_data = df.groupby(['company_name', 'sentiment']).agg({'retweet_count': 'sum'}).reset_index()\n",
    "\n",
    "    # Define a function to plot the data\n",
    "    def plot_data(company_name):\n",
    "        # Filter the data by company ID\n",
    "        filtered_data = grouped_data[grouped_data['company_name'] == company_name]\n",
    "\n",
    "        # Create a bar plot of sentiment vs. retweets\n",
    "        sns.barplot(x='sentiment', y='retweet_count', data=filtered_data)\n",
    "\n",
    "        # Set the title and axis labels\n",
    "        plt.title(f'Social Media Reach for Company Name {company_name}')\n",
    "        plt.xlabel('Sentiment')\n",
    "        plt.ylabel('Retweets')\n",
    "\n",
    "        # Show the plot\n",
    "        plt.show()\n",
    "\n",
    "    # Create a dropdown widget for company ID\n",
    "    company_name_dropdown = widgets.Dropdown(options=df['company_name'].unique(), description='Company Name')\n",
    "\n",
    "    # Use the interact function to update the plot when the dropdown value changes\n",
    "    interact(plot_data, company_name=company_name_dropdown)\n",
    "\n",
    "create_dashboard_retweet()"
   ]
  },
  {
   "cell_type": "code",
   "execution_count": 53,
   "id": "15abade5",
   "metadata": {},
   "outputs": [
    {
     "data": {
      "application/vnd.jupyter.widget-view+json": {
       "model_id": "364fa30e3bac4989bf9c96130fbe04c7",
       "version_major": 2,
       "version_minor": 0
      },
      "text/plain": [
       "interactive(children=(Dropdown(description='Company Name', options=('i2d Technologies.', '100mentors', 'Acromo…"
      ]
     },
     "metadata": {},
     "output_type": "display_data"
    }
   ],
   "source": [
    "def create_dashboard_likes():\n",
    "    # Group the data by company ID and sentiment\n",
    "    grouped_data = df.groupby(['company_name', 'sentiment']).agg({'likes_count': 'sum'}).reset_index()\n",
    "\n",
    "    # Define a function to plot the data\n",
    "    def plot_data(company_name):\n",
    "        # Filter the data by company ID\n",
    "        filtered_data = grouped_data[grouped_data['company_name'] == company_name]\n",
    "\n",
    "        # Create a bar plot of sentiment vs. retweets\n",
    "        sns.barplot(x='sentiment', y='likes_count', data=filtered_data)\n",
    "\n",
    "        # Set the title and axis labels\n",
    "        plt.title(f'Social Media Reach for Company Name {company_name}')\n",
    "        plt.xlabel('Sentiment')\n",
    "        plt.ylabel('Likes')\n",
    "\n",
    "        # Show the plot\n",
    "        plt.show()\n",
    "\n",
    "    # Create a dropdown widget for company ID\n",
    "    company_name_dropdown = widgets.Dropdown(options=df['company_name'].unique(), description='Company Name')\n",
    "\n",
    "    # Use the interact function to update the plot when the dropdown value changes\n",
    "    interact(plot_data, company_name=company_name_dropdown)\n",
    "\n",
    "create_dashboard_likes()"
   ]
  },
  {
   "cell_type": "code",
   "execution_count": 55,
   "id": "1a75492c",
   "metadata": {},
   "outputs": [
    {
     "data": {
      "application/vnd.jupyter.widget-view+json": {
       "model_id": "162cd628075d45438695de26865c1c65",
       "version_major": 2,
       "version_minor": 0
      },
      "text/plain": [
       "interactive(children=(Dropdown(description='Company Name', options=('i2d Technologies.', '100mentors', 'Acromo…"
      ]
     },
     "metadata": {},
     "output_type": "display_data"
    }
   ],
   "source": [
    "def create_dashboard_reply():\n",
    "    # Group the data by company ID and sentiment\n",
    "    grouped_data = df.groupby(['company_name', 'sentiment']).agg({'reply_count': 'sum'}).reset_index()\n",
    "\n",
    "    # Define a function to plot the data\n",
    "    def plot_data(company_name):\n",
    "        # Filter the data by company ID\n",
    "        filtered_data = grouped_data[grouped_data['company_name'] == company_name]\n",
    "\n",
    "        # Create a bar plot of sentiment vs. retweets\n",
    "        sns.barplot(x='sentiment', y='reply_count', data=filtered_data)\n",
    "\n",
    "        # Set the title and axis labels\n",
    "        plt.title(f'Social Media Reach for Company Name {company_name}')\n",
    "        plt.xlabel('Sentiment')\n",
    "        plt.ylabel('Replies')\n",
    "\n",
    "        # Show the plot\n",
    "        plt.show()\n",
    "\n",
    "    # Create a dropdown widget for company ID\n",
    "    company_name_dropdown = widgets.Dropdown(options=df['company_name'].unique(), description='Company Name')\n",
    "\n",
    "    # Use the interact function to update the plot when the dropdown value changes\n",
    "    interact(plot_data, company_name=company_name_dropdown)\n",
    "\n",
    "create_dashboard_reply()"
   ]
  },
  {
   "cell_type": "code",
   "execution_count": 86,
   "id": "11dd9aeb",
   "metadata": {},
   "outputs": [
    {
     "data": {
      "application/vnd.jupyter.widget-view+json": {
       "model_id": "85778413e82c426bbc9f830d51b05201",
       "version_major": 2,
       "version_minor": 0
      },
      "text/plain": [
       "Dropdown(description='Region:', options=('Attica', ' Region of Crete', 'Central Macedonia', 'South Aegean', 'P…"
      ]
     },
     "metadata": {},
     "output_type": "display_data"
    },
    {
     "data": {
      "text/plain": [
       "company_name\n",
       "AGENSO                       112.0\n",
       "Acromove Inc.                124.0\n",
       "Advantis.io                  154.0\n",
       "Agritrack SA                   2.0\n",
       "Agroknow                     288.0\n",
       "                             ...  \n",
       "up2metric                     32.0\n",
       "wappier                      258.0\n",
       "yiufi                          0.0\n",
       "ÎÎ¿ÏƒÎ·Î»ÎµÎ¯Î± Î¤ÏŽÏÎ±      1.0\n",
       "Î»-automata                   24.0\n",
       "Name: Positive, Length: 138, dtype: float64"
      ]
     },
     "metadata": {},
     "output_type": "display_data"
    },
    {
     "data": {
      "text/plain": [
       "company_name\n",
       "Allcancode             40.0\n",
       "Pandrosia              11.0\n",
       "Refarm Leisure Farm    22.0\n",
       "SEEMS PC               21.0\n",
       "Workadu                28.0\n",
       "Name: Positive, dtype: float64"
      ]
     },
     "metadata": {},
     "output_type": "display_data"
    },
    {
     "data": {
      "text/plain": [
       "company_name\n",
       "AGENSO                       112.0\n",
       "Acromove Inc.                124.0\n",
       "Advantis.io                  154.0\n",
       "Agritrack SA                   2.0\n",
       "Agroknow                     288.0\n",
       "                             ...  \n",
       "up2metric                     32.0\n",
       "wappier                      258.0\n",
       "yiufi                          0.0\n",
       "ÎÎ¿ÏƒÎ·Î»ÎµÎ¯Î± Î¤ÏŽÏÎ±      1.0\n",
       "Î»-automata                   24.0\n",
       "Name: Positive, Length: 138, dtype: float64"
      ]
     },
     "metadata": {},
     "output_type": "display_data"
    },
    {
     "data": {
      "text/plain": [
       "company_name\n",
       "Caerleon Comp     481.0\n",
       "WeAreTravelers      0.0\n",
       "Name: Positive, dtype: float64"
      ]
     },
     "metadata": {},
     "output_type": "display_data"
    },
    {
     "data": {
      "text/plain": [
       "company_name\n",
       "AGENSO                       112.0\n",
       "Acromove Inc.                124.0\n",
       "Advantis.io                  154.0\n",
       "Agritrack SA                   2.0\n",
       "Agroknow                     288.0\n",
       "                             ...  \n",
       "up2metric                     32.0\n",
       "wappier                      258.0\n",
       "yiufi                          0.0\n",
       "ÎÎ¿ÏƒÎ·Î»ÎµÎ¯Î± Î¤ÏŽÏÎ±      1.0\n",
       "Î»-automata                   24.0\n",
       "Name: Positive, Length: 138, dtype: float64"
      ]
     },
     "metadata": {},
     "output_type": "display_data"
    }
   ],
   "source": [
    "\n",
    "# Define a function to update the dashboard based on the selected region\n",
    "def update_dashboard(Region):\n",
    "    # Filter the data by the selected region\n",
    "    df_region = df[df['Region']==Region]\n",
    "    # Group the data by company and sentiment, and count the number of positive sentiments\n",
    "    df_sentiments = df_region.groupby(['company_name', 'sentiment']).size().unstack().fillna(0)['Positive']\n",
    "    # Display the results\n",
    "    display(df_sentiments)\n",
    "\n",
    "# Define the dropdown menu\n",
    "dropdown_region = widgets.Dropdown(\n",
    "    options=list(df['Region'].unique()),\n",
    "    description='Region:'\n",
    ")\n",
    "\n",
    "# Call the update_dashboard function whenever the dropdown value changes\n",
    "dropdown_region.observe(lambda change: update_dashboard(change.new), names='value')\n",
    "\n",
    "# Display the dropdown and the initial dashboard\n",
    "display(dropdown_region)\n",
    "update_dashboard(df['Region'].unique()[0])\n"
   ]
  },
  {
   "cell_type": "code",
   "execution_count": 121,
   "id": "69cf560f",
   "metadata": {},
   "outputs": [
    {
     "data": {
      "application/vnd.jupyter.widget-view+json": {
       "model_id": "e16eb9f941bf45f89802e82aa8818c2d",
       "version_major": 2,
       "version_minor": 0
      },
      "text/plain": [
       "interactive(children=(Dropdown(description='region', options=(' Region of Crete', 'Attica', 'Central Macedonia…"
      ]
     },
     "metadata": {},
     "output_type": "display_data"
    }
   ],
   "source": [
    "grouped_data = df.groupby([\"Region\", \"sentiment\"])[\"company_name\"].count().reset_index()\n",
    "@interact\n",
    "def plot(region=list(grouped_data[\"Region\"].unique())):\n",
    "    filtered_data = grouped_data[grouped_data[\"Region\"] == region]\n",
    "    fig = px.bar(filtered_data, x=\"sentiment\", y=\"company_name\", color=\"sentiment\")\n",
    "    positive_sentiments = filtered_data[filtered_data[\"sentiment\"] == \"Positive\"][\"company_name\"].values[0]\n",
    "    negative_sentiments = filtered_data[filtered_data[\"sentiment\"] == \"Negative\"][\"company_name\"].values[0]\n",
    "    neutral_sentiments = filtered_data[filtered_data[\"sentiment\"] == \"Neutral\"][\"company_name\"].values[0]\n",
    "    print(\"Companies with Positive Sentiments in {} Region: {}\".format(region, positive_sentiments))\n",
    "    print(\"Companies with Negative Sentiments in {} Region: {}\".format(region, negative_sentiments))\n",
    "    print(\"Companies with Neutral Sentiments in {} Region: {}\".format(region, neutral_sentiments))\n",
    "    fig.show()\n"
   ]
  },
  {
   "cell_type": "code",
   "execution_count": 119,
   "id": "56d21483",
   "metadata": {},
   "outputs": [
    {
     "data": {
      "application/vnd.jupyter.widget-view+json": {
       "model_id": "c42b7a62a5e549fcbb52bbb93c1331fd",
       "version_major": 2,
       "version_minor": 0
      },
      "text/plain": [
       "interactive(children=(Dropdown(description='Region', options=('Attica', ' Region of Crete', 'Central Macedonia…"
      ]
     },
     "metadata": {},
     "output_type": "display_data"
    },
    {
     "data": {
      "text/plain": [
       "<function __main__.generate_pie_chart(Region)>"
      ]
     },
     "execution_count": 119,
     "metadata": {},
     "output_type": "execute_result"
    }
   ],
   "source": [
    "def generate_pie_chart(Region):\n",
    "    # Filter the data based on the selected region\n",
    "    region_data = df[df['Region'] == Region]\n",
    "    \n",
    "    # Get the count of companies with positive, negative, and neutral sentiments\n",
    "    counts = region_data['sentiment'].value_counts()\n",
    "    \n",
    "    # Create the pie chart\n",
    "    plt.pie(counts, labels=counts.index, autopct='%1.1f%%')\n",
    "    plt.title(f\"Sentiment Distribution for {Region}\")\n",
    "    plt.show()\n",
    "\n",
    "# Create the dropdown widget\n",
    "region_dropdown = Dropdown(options=df['Region'].unique())\n",
    "\n",
    "# Call the generate_pie_chart function whenever the selected value in the dropdown changes\n",
    "interact(generate_pie_chart, Region=region_dropdown)"
   ]
  },
  {
   "cell_type": "code",
   "execution_count": null,
   "id": "fb5d51a9",
   "metadata": {},
   "outputs": [],
   "source": []
  }
 ],
 "metadata": {
  "kernelspec": {
   "display_name": "Python 3 (ipykernel)",
   "language": "python",
   "name": "python3"
  },
  "language_info": {
   "codemirror_mode": {
    "name": "ipython",
    "version": 3
   },
   "file_extension": ".py",
   "mimetype": "text/x-python",
   "name": "python",
   "nbconvert_exporter": "python",
   "pygments_lexer": "ipython3",
   "version": "3.9.13"
  }
 },
 "nbformat": 4,
 "nbformat_minor": 5
}
